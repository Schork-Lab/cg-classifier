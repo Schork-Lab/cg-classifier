{
 "metadata": {
  "name": ""
 },
 "nbformat": 3,
 "nbformat_minor": 0,
 "worksheets": [
  {
   "cells": [
    {
     "cell_type": "heading",
     "level": 1,
     "metadata": {},
     "source": [
      "Libraries"
     ]
    },
    {
     "cell_type": "code",
     "collapsed": false,
     "input": [
      "import pandas as pd\n",
      "#import coord_to_hg19_seq as hg19\n",
      "from collections import Counter\n",
      "from IPython.display import HTML\n",
      "#import pybedtools\n",
      "import os\n",
      "import subprocess\n",
      "import random"
     ],
     "language": "python",
     "metadata": {},
     "outputs": [],
     "prompt_number": 1
    },
    {
     "cell_type": "heading",
     "level": 3,
     "metadata": {},
     "source": [
      "pdVCF Functions"
     ]
    },
    {
     "cell_type": "code",
     "collapsed": false,
     "input": [
      "def get_phase(line, sample_col):\n",
      "    '''\n",
      "    Returns phase status from a GT field\n",
      "    '''\n",
      "    if \"|\" in line[sample_col]:\n",
      "        return \"|\"\n",
      "    if \"/\" in line[sample_col]:\n",
      "        return \"/\"\n",
      "    else: return '-'\n",
      "\n",
      "def get_allele(line, sample_col, phase_col, allele_num=0):\n",
      "    allele_calls = line[sample_col].split(\":\")[0].split(line[phase_col])\n",
      "    alleles = [line['REF']]\n",
      "    alleles.extend(line['ALT'].split(\",\"))\n",
      "    a1 = \".\"\n",
      "    try:\n",
      "        a1 = alleles[int(allele_calls[allele_num])]\n",
      "    except:\n",
      "        a1 = \".\"\n",
      "    return a1\n"
     ],
     "language": "python",
     "metadata": {},
     "outputs": [],
     "prompt_number": 2
    },
    {
     "cell_type": "code",
     "collapsed": false,
     "input": [
      "def vartype(line, allele_base_col):\n",
      "    '''\n",
      "    This function assigns the following vartypes to the \n",
      "    allele specified by allele_base_col: snp, mnp, ins, del, indel or SV\n",
      "    \n",
      "    '''\n",
      "    ref = line['REF']\n",
      "    alt = line[allele_base_col]\n",
      "    if is_snp(ref,alt): return 'snp'\n",
      "    elif is_sv(ref,alt): return 'sv'\n",
      "    elif is_mnp(ref,alt): return 'mnp'\n",
      "    elif is_insertion(ref,alt): return 'ins'\n",
      "    elif is_del(ref,alt): return 'del'\n",
      "    else: return 'indel or SV'\n",
      "\n",
      "def is_snp(ref,alt):\n",
      "    \"\"\" Return whether or not the variant is a SNP \"\"\"\n",
      "    if len(ref) != len(alt): return False\n",
      "    base_diff = [nt for i,nt in enumerate(alt) if ref[i] != alt[i]]\n",
      "    if len(base_diff) <=1:\n",
      "            return True\n",
      "    return False\n",
      "\n",
      "def is_sv(ref,alt):\n",
      "    if \"[\" in alt or \"]\" in alt:\n",
      "        return True\n",
      "    return False\n",
      "\n",
      "def is_mnp(ref,alt):\n",
      "    \"\"\" Return whether or not the variant is an MNP\"\"\"\n",
      "    if len(ref) > 1 and len(ref) == len(alt):\n",
      "        return True\n",
      "    return False\n",
      "\n",
      "def is_insertion(ref,alt):\n",
      "    if len(ref) < len(alt):\n",
      "        return True\n",
      "    return False\n",
      "    \n",
      "def is_del(ref,alt):\n",
      "    if len(ref) > len(alt):\n",
      "        return True\n",
      "    return False"
     ],
     "language": "python",
     "metadata": {},
     "outputs": [],
     "prompt_number": 3
    },
    {
     "cell_type": "code",
     "collapsed": false,
     "input": [
      "def zygosity(line):\n",
      "    allele_set = set([line['a1'], line['a2'], line['REF']])\n",
      "    if len(allele_set) == 1:\n",
      "        return 'hom-ref'\n",
      "    if len(allele_set) ==2 and line['a1'] == line['a2']:\n",
      "        return 'hom-alt'\n",
      "    if len(allele_set) == 2 and line['a1'] != line['a2']:\n",
      "        return 'het-ref'\n",
      "    if len(allele_set) ==3:\n",
      "        return 'het-alt'\n",
      "    assert False"
     ],
     "language": "python",
     "metadata": {},
     "outputs": [],
     "prompt_number": 4
    },
    {
     "cell_type": "code",
     "collapsed": false,
     "input": [
      "def ref_read_depth(line):\n",
      "    '''\n",
      "    This function returns the number of reads\n",
      "    supporting the reference allele\n",
      "    \n",
      "    Required columns: [DP, AD, zygosity, a1]\n",
      "    '''\n",
      "    \n",
      "    dp = line['DP']  #total read depth\n",
      "    ad = line['AD'].replace(\".\",'0')  #replace missing with 0\n",
      "    ad1, ad2 = ad.split(\",\")  #allelic depth for allele1 and allele2\n",
      "    \n",
      "    if line['zygosity'] == 'het-ref':  \n",
      "        if line['a1'] != line['REF']: #allele1 is non-reference\n",
      "            return  dp - int(ad1)  #total read depth - allele1 read depth\n",
      "        return dp - int(ad2)  #total read depth - allele2 read depth\n",
      "    \n",
      "    if line['zygosity'] == 'hom-alt':  #allele1 and allele2 read depths are identical\n",
      "        return  dp - int(ad2)  \n",
      "    \n",
      "    if line['zygosity'] == 'het-alt':\n",
      "        return  dp - sum([ int(ad1), int(ad2) ] )\n",
      "    \n",
      "    return dp  #hom-ref read depth == total read depth"
     ],
     "language": "python",
     "metadata": {},
     "outputs": [],
     "prompt_number": 5
    },
    {
     "cell_type": "heading",
     "level": 1,
     "metadata": {},
     "source": [
      "Sample File Paths"
     ]
    },
    {
     "cell_type": "code",
     "collapsed": false,
     "input": [
      "#tp_NA12877_tsv = '/gpfs/home/erscott/Datasets_raw/PlatinumGenomes/NA12877/NA12877_phasing/tp.tsv.gz'\n",
      "tp_NA12877_tsv = '/Users/ers_vader/git_data/cg_classifier/NA12877/tp.tsv.gz'\n",
      "\n",
      "#fp_NA12877_tsv = '/gpfs/home/erscott/Datasets_raw/PlatinumGenomes/NA12877/NA12877_phasing/fp.tsv.gz'\n",
      "fp_NA12877_tsv = '/Users/ers_vader/git_data/cg_classifier/NA12877/fp_10k.tsv.gz'"
     ],
     "language": "python",
     "metadata": {},
     "outputs": [],
     "prompt_number": 61
    },
    {
     "cell_type": "heading",
     "level": 1,
     "metadata": {},
     "source": [
      "RF Preprocessing - THIS TAKES QUITE AWHILE IF PROCESSING THE WHOLE GENOME - WE SHOULD IMPLEMENT A MULTIPROCESSING METHOD TO SPEED THINGS UP"
     ]
    },
    {
     "cell_type": "code",
     "collapsed": false,
     "input": [
      "#fp = pd.read_table(fp_NA12877_tsv,sep=\"\\t\",compression='gzip')\n",
      "\n",
      "\n",
      "#tp = pd.read_table(tp_NA12877_tsv,sep=\"\\t\",compression='gzip')\n",
      "\n"
     ],
     "language": "python",
     "metadata": {},
     "outputs": [],
     "prompt_number": 62
    },
    {
     "cell_type": "code",
     "collapsed": false,
     "input": [
      "def multiallele_GL_formatting(df, gl_col):\n",
      "    GL_df = pd.DataFrame.from_records([i.split(\",\") for i in df[gl_col]], columns=['AA_'+gl_col, 'AB_'+gl_col, 'BB_'+gl_col, 'AC_'+gl_col, 'BC_'+gl_col, 'CC_'+gl_col])\n",
      "    GL_df.index = df.index\n",
      "    GL_df.fillna(value=-999,inplace=True)\n",
      "    df = df.join(GL_df)\n",
      "    return df\n",
      "\n",
      "\n",
      "def allele_col_formatting(df, al_col):\n",
      "    df[al_col + \"_1\"] = [int(i.split(\",\")[0]) if i.split(\",\")[0] != \".\" else -999 for i in df[al_col]]\n",
      "    df[al_col + \"_2\"] = [int(i.split(\",\")[1]) if i.split(\",\")[1] != \".\" else -999 for i in df[al_col]]\n",
      "    return df\n",
      "\n",
      "\n",
      "def categ_formatting(df, cat_col):\n",
      "    temp_dummies = pd.get_dummies(df[cat_col], prefix=cat_col)\n",
      "    df = df.join(temp_dummies, how='left')\n",
      "    return df\n",
      "\n",
      "\n"
     ],
     "language": "python",
     "metadata": {},
     "outputs": [],
     "prompt_number": 6
    },
    {
     "cell_type": "code",
     "collapsed": false,
     "input": [
      "\n",
      "def preprocess_vcf_line(df):\n",
      "    '''\n",
      "    This function annotates vcf variants with\n",
      "    phase, allele1 base call, allele2 base call, \n",
      "    multiallele, vartype\n",
      "    '''\n",
      "    \n",
      "    discard_vars = ['<INS:ME:ALU>', '<INS:ME:L1>','<CGA_CNVWIN>','<INS:ME:SVA>']  #ignore CNVs and repeats\n",
      "    df = df[~df.ALT.isin(discard_vars)]  \n",
      "    \n",
      "    df['phase'] = df.apply(get_phase, args=['GT'], axis=1)  #get phase\n",
      "    df = df[df.phase != \"-\"]  #likley occurs at sex chromosome sites\n",
      "    df['a1'] = df.apply(get_allele, args=['GT','phase', 0], axis=1)  #get allele1 base seq\n",
      "    df['a2'] = df.apply(get_allele, args=['GT','phase', 1], axis=1)  #get allele2 base seq\n",
      "    df['multiallele'] = df.ALT.map(lambda x: 1 if \",\" in x else 0)  #1 is more than 1 alt allele, 0 else\n",
      "    df['zygosity'] = df.apply(zygosity, axis=1)  #get zygosity: hom-ref, het-ref, hom-alt, het-alt\n",
      "    df['vartype1'] = df.apply(vartype, args=['a1'], axis=1)  #vartype for allele1: snp, mnp, insertion, deletion, sv\n",
      "    df['vartype2'] = df.apply(vartype, args=['a2'], axis=1)  #vartype for allele2: snp, mnp, insertion, deletion, sv\n",
      "    \n",
      "    df = df[(df.vartype1 != 'sv') & (df.vartype2 != 'sv')]  #ignore structural variants\n",
      "    \n",
      "    df['AD'].fillna(value='0,0', inplace=True)  #fill missing allelic depth with 0,0 reads\n",
      "    df['ref_read_depth'] = df.apply(ref_read_depth, axis=1)  #get number of reads supporting the reference allele\n",
      "    \n",
      "    \n",
      "    \n",
      "    \n",
      "    return df"
     ],
     "language": "python",
     "metadata": {},
     "outputs": [],
     "prompt_number": 7
    },
    {
     "cell_type": "code",
     "collapsed": false,
     "input": [
      "def transform_features(df, index_features, allele_features, binary_features, categorical_features, geno_features, numeric_features):\n",
      "    \n",
      "    df.set_index(index_features, inplace=True)\n",
      "    \n",
      "    #FORMATTING ALLELE-SPECIFIC FEATURES\n",
      "    df_allele = df[allele_features]\n",
      "    for a_cols in allele_features:\n",
      "        df_allele = allele_col_formatting(df_allele, a_cols)\n",
      "        del df_allele[a_cols]\n",
      "        \n",
      "    \n",
      "    #FORMATTING BINARY FEATURES\n",
      "    df_binary = df[binary_features]\n",
      "    for b in binary_features:\n",
      "        df_binary[b].fillna(value=0,inplace=True)\n",
      "        df_binary[b] = df_binary[b].map(lambda x: 1 if x!=0 else 0)\n",
      "        \n",
      "\n",
      "    #FORMATTING CATEGORICAL FEATURES\n",
      "    df_categ = df[categorical_features]\n",
      "    for c in categorical_features:\n",
      "        df_categ = categ_formatting(df_categ, c)\n",
      "        del df_categ[c]\n",
      "        \n",
      "        \n",
      "    #FORMATTING GENOTYPE FEATURES\n",
      "    df_geno = df[geno_features]\n",
      "    for g_cols in geno_features:\n",
      "        df_geno = multiallele_GL_formatting(df_geno, g_cols)\n",
      "        del df_geno[g_cols]\n",
      "        \n",
      "    \n",
      "    #FORMATTING NUMERIC FEATURES\n",
      "    df_numeric = df[numeric_features]\n",
      "    for n in numeric_features:\n",
      "        df_numeric[n] = df_numeric[n].astype(float)\n",
      "    \n",
      "    \n",
      "    #JOIN FORMATTED DATAFRAMES\n",
      "    df_train = df_numeric.join([df_categ, df_geno, df_allele, df_binary])\n",
      "    \n",
      "    return df_train"
     ],
     "language": "python",
     "metadata": {},
     "outputs": [],
     "prompt_number": 8
    },
    {
     "cell_type": "heading",
     "level": 3,
     "metadata": {},
     "source": [
      "The following code has already been run and the results from this processing are in the next code block"
     ]
    },
    {
     "cell_type": "code",
     "collapsed": false,
     "input": [
      "#Setting Features and Types for Training Data Set\n",
      "# index_features = ['CHROM', 'POS', 'REF', 'ALT']\n",
      "\n",
      "# allele_features = ['HQ', 'EHQ', 'CGA_CEHQ', 'AD']\n",
      "# binary_features = ['CGA_XR', 'CGA_RPT', 'multiallele']\n",
      "# categorical_features = ['FT', 'vartype1', 'vartype2', 'phase', 'zygosity']\n",
      "# geno_features = ['GL', 'CGA_CEGL']\n",
      "# numeric_features = ['CGA_SDO', 'GQ', 'DP', 'CGA_RDP']\n",
      "\n",
      "# #Pre-processing False Positive Variants\n",
      "\n",
      "# fp = preprocess_vcf_line(fp)        \n",
      "# fp_train = transform_features(fp, index_features, allele_features, binary_features, categorical_features, geno_features, numeric_features)\n",
      "# fp_train = fp_train[fp_train['DP'] > 0]  #removing variants without any read support\n",
      "# fp_truth = fp_train[['HQ_1']]\n",
      "# fp_truth['HQ_1'] = 0\n",
      "# fp_truth.columns = ['truth']\n",
      "\n",
      "# #Pre-processing True Positive Variants\n",
      "# tp = preprocess_vcf_line(tp)\n",
      "# tp = transform_features(tp, index_features, allele_features, binary_features, categorical_features, geno_features, numeric_features)\n",
      "# tp_train = tp_train[tp_train['DP'] > 0]\n",
      "# tp_truth = tp_train[['HQ_1']]\n",
      "# tp_truth['HQ_1'] = 1\n",
      "# tp_truth.columns = ['truth']\n",
      "\n",
      "\n",
      "# FINAL PRE-PROCESSING FOR TRAINING DATA SET\n",
      "# training_set = tp_train.append(fp_train) \n",
      "# training_set.CGA_SDO.fillna(value=0, inplace=True)\n",
      "# training_set.GQ.fillna(value=-999, inplace=True)\n",
      "\n",
      "# training_truth = tp_truth.append(fp_truth)\n",
      "\n",
      "# #WRITING PRE-PROCESED TRAINING DATA SET TO FILE\n",
      "# training_set['truth'] = training_truth.values\n",
      "# training_set.to_csv('/gpfs/home/erscott/Datasets_raw/PlatinumGenomes/NA12877/NA12877_phasing/NA12877_preprocessed_training_set.txt', sep=\"\\t\")         \n"
     ],
     "language": "python",
     "metadata": {},
     "outputs": [],
     "prompt_number": 70
    },
    {
     "cell_type": "heading",
     "level": 1,
     "metadata": {},
     "source": [
      "NOTE: PREPROCESSING INTERACTIVELY PRODUCES DIFFERENT dtypes COMPARED TO READING THE PREPROCESSED FILES INTO PANDAS, \n",
      "THEREFORE WE MUST EITHER SPECIFY THE dtype TO CONVERT OBJECT TO INT64 INTERACTIVELY OR WE MUST ALWAYS WRITE THE PREPROCESSED\n",
      "DATAFRAME TO FILE AND THEN READ IT IN BEFORE TRAINING/PREDICTING"
     ]
    },
    {
     "cell_type": "code",
     "collapsed": false,
     "input": [
      "#Reading In Pre-processed Training Data Set NA12877\n",
      "#training_set = pd.read_table('/gpfs/home/erscott/Datasets_raw/PlatinumGenomes/NA12877/NA12877_phasing/NA12877_preprocessed_training_set.txt.gz', sep=\"\\t\", compression='gzip')   \n",
      "training_set = pd.read_table('/Users/ers_vader/git_data/cg_classifier/NA12877/NA12877_preprocessed_training_set.txt.gz',sep=\"\\t\",compression='gzip')                 \n",
      "\n",
      "training_set.set_index(['CHROM', 'POS', 'REF', 'ALT'],inplace=True)\n",
      "training_truth = training_set[['truth']]\n",
      "del training_set['truth']"
     ],
     "language": "python",
     "metadata": {},
     "outputs": [
      {
       "output_type": "stream",
       "stream": "stderr",
       "text": [
        "//anaconda/lib/python2.7/site-packages/pandas/io/parsers.py:1139: DtypeWarning: Columns (0) have mixed types. Specify dtype option on import or set low_memory=False.\n",
        "  data = self._reader.read(nrows)\n"
       ]
      }
     ],
     "prompt_number": 11
    },
    {
     "cell_type": "heading",
     "level": 3,
     "metadata": {},
     "source": [
      "Complete Genomics Variants vcfeval representation with NIST truth"
     ]
    },
    {
     "cell_type": "code",
     "collapsed": false,
     "input": [
      "training_set = pd.read_table('/Users/ers_vader/git_data/cg_classifier/NA12878/gemini/CGvsNISTall/NA12878_preprocessed_training_set_NISTtruth.tsv.gz',sep=\"\\t\",compression='gzip')\n",
      "training_set.set_index(['CHROM', 'POS', 'REF', 'ALT'],inplace=True)       "
     ],
     "language": "python",
     "metadata": {},
     "outputs": [],
     "prompt_number": 11
    },
    {
     "cell_type": "code",
     "collapsed": false,
     "input": [
      "training_set.columns"
     ],
     "language": "python",
     "metadata": {},
     "outputs": [
      {
       "metadata": {},
       "output_type": "pyout",
       "prompt_number": 16,
       "text": [
        "Index([u'CHROM', u'POS', u'REF', u'ALT', u'CGA_SDO', u'GQ', u'DP', u'CGA_RDP', u'FT_PASS', u'FT_VQLOW', u'vartype1_del', u'vartype1_ins', u'vartype1_mnp', u'vartype1_snp', u'vartype2_del', u'vartype2_ins', u'vartype2_mnp', u'vartype2_snp', u'phase_/', u'phase_|', u'zygosity_het-alt', u'zygosity_het-ref', u'zygosity_hom-alt', u'AA_GL', u'AB_GL', u'BB_GL', u'AC_GL', u'BC_GL', u'CC_GL', u'AA_CGA_CEGL', u'AB_CGA_CEGL', u'BB_CGA_CEGL', u'AC_CGA_CEGL', u'BC_CGA_CEGL', u'CC_CGA_CEGL', u'HQ_1', u'HQ_2', u'EHQ_1', u'EHQ_2', u'CGA_CEHQ_1', u'CGA_CEHQ_2', u'AD_1', u'AD_2', u'CGA_XR', u'CGA_RPT', u'multiallele', u'truth'], dtype='object')"
       ]
      }
     ],
     "prompt_number": 16
    },
    {
     "cell_type": "code",
     "collapsed": false,
     "input": [
      "fp = pd.read_table('/Users/ers_vader/git_data/cg_classifier/NA12878/gemini/CGvsNISTall/fp.vcf.gz',sep=\"\\t\",usecols=['#CHROM', 'POS', 'REF', 'ALT'] ,compression='gzip',skiprows=117)    \n",
      "fp['CHROM'] = fp['#CHROM']\n",
      "del fp['#CHROM']\n",
      "fp.set_index(['CHROM', 'POS', 'REF', 'ALT'], inplace=True)\n",
      "fp['truth'] = 0"
     ],
     "language": "python",
     "metadata": {},
     "outputs": [],
     "prompt_number": 13
    },
    {
     "cell_type": "code",
     "collapsed": false,
     "input": [
      "training_set = training_set.join(fp, how='left')\n",
      "training_set['truth'].fillna(value=1,inplace=True)"
     ],
     "language": "python",
     "metadata": {},
     "outputs": [],
     "prompt_number": 14
    },
    {
     "cell_type": "code",
     "collapsed": false,
     "input": [
      "training_truth = training_set[['truth']]\n",
      "del training_set['truth']"
     ],
     "language": "python",
     "metadata": {},
     "outputs": [],
     "prompt_number": 23
    },
    {
     "cell_type": "heading",
     "level": 3,
     "metadata": {},
     "source": [
      "Small Random Sample of Autosome Variants in Training Data"
     ]
    },
    {
     "cell_type": "code",
     "collapsed": false,
     "input": [
      "len(training_set)"
     ],
     "language": "python",
     "metadata": {},
     "outputs": [
      {
       "metadata": {},
       "output_type": "pyout",
       "prompt_number": 12,
       "text": [
        "3994128"
       ]
      }
     ],
     "prompt_number": 12
    },
    {
     "cell_type": "code",
     "collapsed": false,
     "input": [
      "\n",
      "autosome_chroms = range(1,23)\n",
      "\n",
      "training_truth['chrom'] = [i[0] for i in training_truth.index]  #retrieving the chromosome for each variant\n",
      "training_truth = training_truth[training_truth.chrom.isin(autosome_chroms)]  #filtering sex chromosome variants\n",
      "del training_truth['chrom']\n",
      "\n",
      "#Specifying the tp:fp ratio performs worse than a random sample\n",
      "tp_indices = training_truth[training_truth.truth==1].index\n",
      "fp_indices = training_truth[training_truth.truth==0].index\n",
      "random_sample_tp = random.sample(tp_indices, 100000)  #random sample\n",
      "random_sample_fp = random.sample(fp_indices, 50000)\n",
      "random_sample = set(list(random_sample_tp)) | set(list(random_sample_fp))\n",
      "\n",
      "\n",
      "\n",
      "\n",
      "\n",
      "# random_sample = random.sample(training_truth.index, 150000)  #performs worse\n",
      "\n",
      "\n",
      "random_sample2 = random.sample(training_truth.index, 150000)\n",
      "random_sample2 = set(random_sample2) - set(random_sample)\n",
      "\n",
      "training_set_random = training_set[training_set.index.isin(random_sample)]\n",
      "training_truth_random = training_truth[training_truth.index.isin(random_sample)]\n",
      "\n",
      "\n",
      "training_set_random2 = training_set[training_set.index.isin(random_sample2)]\n",
      "training_truth_random2 = training_truth[training_truth.index.isin(random_sample2)]\n",
      "print len(random_sample2)\n",
      "\n",
      "#EXCLUDING CGA_XR AS A FEATURE\n",
      "del training_set_random['CGA_XR']\n",
      "del training_set_random2['CGA_XR']"
     ],
     "language": "python",
     "metadata": {},
     "outputs": [
      {
       "output_type": "stream",
       "stream": "stdout",
       "text": [
        "144285\n"
       ]
      }
     ],
     "prompt_number": 72
    },
    {
     "cell_type": "code",
     "collapsed": false,
     "input": [
      "print len(training_set_random)\n",
      "training_truth_random.truth.value_counts()"
     ],
     "language": "python",
     "metadata": {},
     "outputs": [
      {
       "output_type": "stream",
       "stream": "stdout",
       "text": [
        "150000\n"
       ]
      },
      {
       "metadata": {},
       "output_type": "pyout",
       "prompt_number": 25,
       "text": [
        "1    100000\n",
        "0     50000\n",
        "dtype: int64"
       ]
      }
     ],
     "prompt_number": 25
    },
    {
     "cell_type": "code",
     "collapsed": false,
     "input": [
      "def print_data(df, index):\n",
      "    print index\n",
      "    for i in zip(df.columns, df.ix[index].values[0]):\n",
      "        print i\n",
      "    return"
     ],
     "language": "python",
     "metadata": {},
     "outputs": [],
     "prompt_number": 26
    },
    {
     "cell_type": "heading",
     "level": 2,
     "metadata": {},
     "source": [
      "TESTING RF Data NA12878"
     ]
    },
    {
     "cell_type": "heading",
     "level": 3,
     "metadata": {},
     "source": [
      "The following code has already been run and the results from this processing are in the next code block"
     ]
    },
    {
     "cell_type": "code",
     "collapsed": false,
     "input": [
      "# #tp_NA12878_tsv = '/gpfs/home/erscott/Datasets_raw/PlatinumGenomes/NA12878/NA12878_phasing/tp.tsv.gz'\n",
      "# tp_NA12878_tsv = '/Users/ers_vader/git_data/cg_classifier/NA12878/tp.tsv.gz'\n",
      "# #fp_NA12878_tsv = '/gpfs/home/erscott/Datasets_raw/PlatinumGenomes/NA12878/NA12878_phasing/fp.tsv.gz'\n",
      "# fp_NA12878_tsv = '/Users/ers_vader/git_data/cg_classifier/NA12878/fp.tsv.gz'\n",
      "\n",
      "# test_fp = pd.read_table(fp_NA12878_tsv,sep=\"\\t\",compression='gzip')\n",
      "# #test_fp = test_fp.ix[:10000]\n",
      "\n",
      "# test_tp = pd.read_table(tp_NA12878_tsv,sep=\"\\t\",compression='gzip')\n",
      "# #test_tp = tp.ix[:100000]\n",
      "\n",
      "\n",
      "\n",
      "\n",
      "# index_features = ['CHROM', 'POS', 'REF', 'ALT']\n",
      "\n",
      "# allele_features = ['HQ', 'EHQ', 'CGA_CEHQ', 'AD']\n",
      "# binary_features = ['CGA_XR', 'CGA_RPT', 'multiallele']\n",
      "# categorical_features = ['FT', 'vartype1', 'vartype2', 'phase', 'zygosity']\n",
      "# geno_features = ['GL', 'CGA_CEGL']\n",
      "# numeric_features = ['CGA_SDO', 'GQ', 'DP', 'CGA_RDP']\n",
      "\n",
      "\n",
      "# fp_test = preprocess_vcf_line(test_fp)\n",
      "# fp_test = transform_features(fp_test, index_features, allele_features, binary_features, categorical_features, geno_features, numeric_features)        \n",
      "# fp_test = fp_test[fp_test.DP > 0]\n",
      "# fp_truth = fp_test[['HQ_1']]\n",
      "# fp_truth['HQ_1'] = 0\n",
      "# fp_truth.columns = ['truth']\n",
      "\n",
      "# tp_test = preprocess_vcf_line(test_tp)\n",
      "# tp_test = transform_features(tp_test, index_features, allele_features, binary_features, categorical_features, geno_features, numeric_features)\n",
      "# tp_test = tp_test[tp_test.DP > 0]\n",
      "# tp_truth = tp_test[['HQ_1']]\n",
      "# tp_truth['HQ_1'] = 1\n",
      "# tp_truth.columns = ['truth']\n",
      "\n",
      "\n",
      "# test_set = tp_test.append(fp_test) \n",
      "# test_set = test_set[test_set['DP'] > 0]\n",
      "# test_set.CGA_SDO.fillna(value=0, inplace=True)\n",
      "# test_set.GQ.fillna(value=-999, inplace=True)\n",
      "\n",
      "# test_truth = tp_truth.append(fp_truth)\n",
      "\n",
      "# test_set['truth'] = test_truth.values\n",
      "# #test_set.to_csv(\"/gpfs/home/erscott/Datasets_raw/PlatinumGenomes/NA12878/NA12878_phasing/NA12878_preprocessed_testing_set.txt\",sep=\"\\t\")\n",
      "# test_set.to_csv(\"/Users/ers_vader/git_data/cg_classifier/NA12878/NA12878_preprocessed_testing_set.txt\",sep=\"\\t\")\n"
     ],
     "language": "python",
     "metadata": {},
     "outputs": [],
     "prompt_number": 77
    },
    {
     "cell_type": "code",
     "collapsed": false,
     "input": [
      "#test_set = pd.read_table(\"/gpfs/home/erscott/Datasets_raw/PlatinumGenomes/NA12878/NA12878_phasing/NA12878_preprocessed_testing_set.txt\",sep=\"\\t\")\n",
      "test_set = pd.read_table('/Users/ers_vader/git_data/cg_classifier/NA12878/NA12878_preprocessed_testing_set.txt.gz',sep=\"\\t\",compression='gzip')\n",
      "test_set.set_index(['CHROM','POS','REF','ALT'],inplace=True)\n",
      "test_truth = test_set[['truth']]\n",
      "del test_set['truth']\n",
      "del test_set['CGA_XR']\n",
      "\n"
     ],
     "language": "python",
     "metadata": {},
     "outputs": [],
     "prompt_number": 17
    },
    {
     "cell_type": "heading",
     "level": 3,
     "metadata": {},
     "source": [
      "Small Random Sample of Testing Data"
     ]
    },
    {
     "cell_type": "code",
     "collapsed": false,
     "input": [
      "\n",
      "autosome_chroms = range(1,23)\n",
      "test_truth['chrom'] = [i[0] for i in test_truth.index]  #retrieving the chromosome for each variant\n",
      "test_truth = test_truth[test_truth.chrom.isin(autosome_chroms)]\n",
      "test_set = test_set[test_set.index.isin(test_truth.index)]\n",
      "del test_truth['chrom']\n",
      "\n",
      "random_subset = random.sample(test_truth.index,100000)\n",
      "test_set_random = test_set.ix[random_subset]\n",
      "test_truth_random = test_truth.ix[random_subset]"
     ],
     "language": "python",
     "metadata": {},
     "outputs": [],
     "prompt_number": 78
    },
    {
     "cell_type": "code",
     "collapsed": false,
     "input": [
      "test_set.columns"
     ],
     "language": "python",
     "metadata": {},
     "outputs": [
      {
       "metadata": {},
       "output_type": "pyout",
       "prompt_number": 296,
       "text": [
        "Index([u'CGA_SDO', u'GQ', u'DP', u'CGA_RDP', u'FT_PASS', u'FT_VQLOW', u'vartype1_del', u'vartype1_ins', u'vartype1_mnp', u'vartype1_snp', u'vartype2_del', u'vartype2_ins', u'vartype2_mnp', u'vartype2_snp', u'phase_/', u'phase_|', u'zygosity_het-alt', u'zygosity_het-ref', u'zygosity_hom-alt', u'AA_GL', u'AB_GL', u'BB_GL', u'AC_GL', u'BC_GL', u'CC_GL', u'AA_CGA_CEGL', u'AB_CGA_CEGL', u'BB_CGA_CEGL', u'AC_CGA_CEGL', u'BC_CGA_CEGL', u'CC_CGA_CEGL', u'HQ_1', u'HQ_2', u'EHQ_1', u'EHQ_2', u'CGA_CEHQ_1', u'CGA_CEHQ_2', u'AD_1', u'AD_2', u'CGA_RPT', u'multiallele'], dtype='object')"
       ]
      }
     ],
     "prompt_number": 296
    },
    {
     "cell_type": "heading",
     "level": 2,
     "metadata": {},
     "source": [
      "Standardization & Centering Testing and Training Data"
     ]
    },
    {
     "cell_type": "code",
     "collapsed": false,
     "input": [
      "from sklearn import preprocessing\n",
      "numeric_cols = ['HQ_1', 'HQ_2', 'EHQ_1', 'EHQ_2', 'CGA_CEHQ_1', 'CGA_CEHQ_2', 'AD_1', 'AD_2', 'CGA_SDO', 'GQ', 'DP', 'CGA_RDP', 'allele_imbal']\n",
      "training_set_random_scaled = training_set_random.copy()\n",
      "training_set_random_scaled = training_set_random_scaled[numeric_cols]\n",
      "\n",
      "scaler = preprocessing.StandardScaler().fit(training_set_random_scaled)\n",
      "training_set_random_scaled = pd.DataFrame( scaler.transform(training_set_random_scaled) )\n",
      "training_set_random_scaled.columns = numeric_cols\n",
      "training_set_random_scaled.index = training_set_random.index\n",
      "\n",
      "\n",
      "\n",
      "non_numeric_cols = [c for c in training_set_random.columns if c not in numeric_cols]\n",
      "\n",
      "training_set_random_scaled = training_set_random_scaled.join(training_set_random[non_numeric_cols])\n",
      "\n",
      "\n",
      "\n",
      "\n",
      "#TRAINING SET 2\n",
      "training_set_random_scaled2 = training_set_random2.copy()\n",
      "training_set_random_scaled2 = training_set_random_scaled2[numeric_cols]\n",
      "\n",
      "\n",
      "training_set_random_scaled2 = pd.DataFrame( scaler.transform(training_set_random_scaled2) )\n",
      "training_set_random_scaled2.columns = numeric_cols\n",
      "training_set_random_scaled2.index = training_set_random2.index\n",
      "\n",
      "\n",
      "\n",
      "non_numeric_cols = [c for c in training_set_random2.columns if c not in numeric_cols]\n",
      "\n",
      "training_set_random_scaled2 = training_set_random_scaled2.join(training_set_random2[non_numeric_cols])\n",
      "\n",
      "\n",
      "\n",
      "\n"
     ],
     "language": "python",
     "metadata": {},
     "outputs": [
      {
       "ename": "ValueError",
       "evalue": "Array contains NaN or infinity.",
       "output_type": "pyerr",
       "traceback": [
        "\u001b[0;31m---------------------------------------------------------------------------\u001b[0m\n\u001b[0;31mValueError\u001b[0m                                Traceback (most recent call last)",
        "\u001b[0;32m<ipython-input-84-b6d79a3b12f6>\u001b[0m in \u001b[0;36m<module>\u001b[0;34m()\u001b[0m\n\u001b[1;32m     23\u001b[0m \u001b[0;34m\u001b[0m\u001b[0m\n\u001b[1;32m     24\u001b[0m \u001b[0;34m\u001b[0m\u001b[0m\n\u001b[0;32m---> 25\u001b[0;31m \u001b[0mtraining_set_random_scaled2\u001b[0m \u001b[0;34m=\u001b[0m \u001b[0mpd\u001b[0m\u001b[0;34m.\u001b[0m\u001b[0mDataFrame\u001b[0m\u001b[0;34m(\u001b[0m \u001b[0mscaler\u001b[0m\u001b[0;34m.\u001b[0m\u001b[0mtransform\u001b[0m\u001b[0;34m(\u001b[0m\u001b[0mtraining_set_random_scaled2\u001b[0m\u001b[0;34m)\u001b[0m \u001b[0;34m)\u001b[0m\u001b[0;34m\u001b[0m\u001b[0m\n\u001b[0m\u001b[1;32m     26\u001b[0m \u001b[0mtraining_set_random_scaled2\u001b[0m\u001b[0;34m.\u001b[0m\u001b[0mcolumns\u001b[0m \u001b[0;34m=\u001b[0m \u001b[0mnumeric_cols\u001b[0m\u001b[0;34m\u001b[0m\u001b[0m\n\u001b[1;32m     27\u001b[0m \u001b[0mtraining_set_random_scaled2\u001b[0m\u001b[0;34m.\u001b[0m\u001b[0mindex\u001b[0m \u001b[0;34m=\u001b[0m \u001b[0mtraining_set_random2\u001b[0m\u001b[0;34m.\u001b[0m\u001b[0mindex\u001b[0m\u001b[0;34m\u001b[0m\u001b[0m\n",
        "\u001b[0;32m//anaconda/lib/python2.7/site-packages/sklearn/preprocessing/data.pyc\u001b[0m in \u001b[0;36mtransform\u001b[0;34m(self, X, y, copy)\u001b[0m\n\u001b[1;32m    339\u001b[0m         \u001b[0mX\u001b[0m \u001b[0;34m:\u001b[0m \u001b[0marray\u001b[0m\u001b[0;34m-\u001b[0m\u001b[0mlike\u001b[0m \u001b[0;32mwith\u001b[0m \u001b[0mshape\u001b[0m \u001b[0;34m[\u001b[0m\u001b[0mn_samples\u001b[0m\u001b[0;34m,\u001b[0m \u001b[0mn_features\u001b[0m\u001b[0;34m]\u001b[0m\u001b[0;34m\u001b[0m\u001b[0m\n\u001b[1;32m    340\u001b[0m             \u001b[0mThe\u001b[0m \u001b[0mdata\u001b[0m \u001b[0mused\u001b[0m \u001b[0mto\u001b[0m \u001b[0mscale\u001b[0m \u001b[0malong\u001b[0m \u001b[0mthe\u001b[0m \u001b[0mfeatures\u001b[0m \u001b[0maxis\u001b[0m\u001b[0;34m.\u001b[0m\u001b[0;34m\u001b[0m\u001b[0m\n\u001b[0;32m--> 341\u001b[0;31m         \"\"\"\n\u001b[0m\u001b[1;32m    342\u001b[0m         \u001b[0mcopy\u001b[0m \u001b[0;34m=\u001b[0m \u001b[0mcopy\u001b[0m \u001b[0;32mif\u001b[0m \u001b[0mcopy\u001b[0m \u001b[0;32mis\u001b[0m \u001b[0;32mnot\u001b[0m \u001b[0mNone\u001b[0m \u001b[0;32melse\u001b[0m \u001b[0mself\u001b[0m\u001b[0;34m.\u001b[0m\u001b[0mcopy\u001b[0m\u001b[0;34m\u001b[0m\u001b[0m\n\u001b[1;32m    343\u001b[0m         \u001b[0mX\u001b[0m \u001b[0;34m=\u001b[0m \u001b[0mcheck_arrays\u001b[0m\u001b[0;34m(\u001b[0m\u001b[0mX\u001b[0m\u001b[0;34m,\u001b[0m \u001b[0mcopy\u001b[0m\u001b[0;34m=\u001b[0m\u001b[0mcopy\u001b[0m\u001b[0;34m,\u001b[0m \u001b[0msparse_format\u001b[0m\u001b[0;34m=\u001b[0m\u001b[0;34m\"csr\"\u001b[0m\u001b[0;34m)\u001b[0m\u001b[0;34m[\u001b[0m\u001b[0;36m0\u001b[0m\u001b[0;34m]\u001b[0m\u001b[0;34m\u001b[0m\u001b[0m\n",
        "\u001b[0;32m//anaconda/lib/python2.7/site-packages/sklearn/utils/validation.pyc\u001b[0m in \u001b[0;36mcheck_arrays\u001b[0;34m(*arrays, **options)\u001b[0m\n\u001b[1;32m    231\u001b[0m     \u001b[0;32mif\u001b[0m \u001b[0moptions\u001b[0m\u001b[0;34m:\u001b[0m\u001b[0;34m\u001b[0m\u001b[0m\n\u001b[1;32m    232\u001b[0m         \u001b[0;32mraise\u001b[0m \u001b[0mTypeError\u001b[0m\u001b[0;34m(\u001b[0m\u001b[0;34m\"Unexpected keyword arguments: %r\"\u001b[0m \u001b[0;34m%\u001b[0m \u001b[0moptions\u001b[0m\u001b[0;34m.\u001b[0m\u001b[0mkeys\u001b[0m\u001b[0;34m(\u001b[0m\u001b[0;34m)\u001b[0m\u001b[0;34m)\u001b[0m\u001b[0;34m\u001b[0m\u001b[0m\n\u001b[0;32m--> 233\u001b[0;31m \u001b[0;34m\u001b[0m\u001b[0m\n\u001b[0m\u001b[1;32m    234\u001b[0m     \u001b[0;32mif\u001b[0m \u001b[0mlen\u001b[0m\u001b[0;34m(\u001b[0m\u001b[0marrays\u001b[0m\u001b[0;34m)\u001b[0m \u001b[0;34m==\u001b[0m \u001b[0;36m0\u001b[0m\u001b[0;34m:\u001b[0m\u001b[0;34m\u001b[0m\u001b[0m\n\u001b[1;32m    235\u001b[0m         \u001b[0;32mreturn\u001b[0m \u001b[0mNone\u001b[0m\u001b[0;34m\u001b[0m\u001b[0m\n",
        "\u001b[0;32m//anaconda/lib/python2.7/site-packages/sklearn/utils/validation.pyc\u001b[0m in \u001b[0;36m_assert_all_finite\u001b[0;34m(X)\u001b[0m\n\u001b[1;32m     25\u001b[0m \u001b[0;34m\u001b[0m\u001b[0m\n\u001b[1;32m     26\u001b[0m \u001b[0;34m\u001b[0m\u001b[0m\n\u001b[0;32m---> 27\u001b[0;31m \u001b[0;32mclass\u001b[0m \u001b[0mNonBLASDotWarning\u001b[0m\u001b[0;34m(\u001b[0m\u001b[0mUserWarning\u001b[0m\u001b[0;34m)\u001b[0m\u001b[0;34m:\u001b[0m\u001b[0;34m\u001b[0m\u001b[0m\n\u001b[0m\u001b[1;32m     28\u001b[0m     \u001b[0;34m\"A warning on implicit dispatch to numpy.dot\"\u001b[0m\u001b[0;34m\u001b[0m\u001b[0m\n\u001b[1;32m     29\u001b[0m     \u001b[0;32mpass\u001b[0m\u001b[0;34m\u001b[0m\u001b[0m\n",
        "\u001b[0;31mValueError\u001b[0m: Array contains NaN or infinity."
       ]
      }
     ],
     "prompt_number": 84
    },
    {
     "cell_type": "code",
     "collapsed": false,
     "input": [
      "\n",
      "\n",
      "numeric_cols = ['HQ_1', 'HQ_2', 'EHQ_1', 'EHQ_2', 'CGA_CEHQ_1', 'CGA_CEHQ_2', 'AD_1', 'AD_2', 'CGA_SDO', 'GQ', 'DP', 'CGA_RDP']\n",
      "test_set_random_scaled = test_set_random.copy()\n",
      "test_set_random_scaled = test_set_random_scaled[numeric_cols]\n",
      "\n",
      "test_set_random_scaled = pd.DataFrame(scaler.transform(test_set_random_scaled))\n",
      "\n",
      "test_set_random_scaled.columns = numeric_cols\n",
      "test_set_random_scaled.index = test_set_random.index\n",
      "\n",
      "non_numeric_cols = [c for c in test_set_random.columns if c not in numeric_cols]\n",
      "\n",
      "test_set_random_scaled = test_set_random_scaled.join(test_set_random[non_numeric_cols])"
     ],
     "language": "python",
     "metadata": {},
     "outputs": [],
     "prompt_number": 333
    },
    {
     "cell_type": "heading",
     "level": 2,
     "metadata": {},
     "source": [
      "TESTING MODEL CONVENIENCE FUNCTION"
     ]
    },
    {
     "cell_type": "code",
     "collapsed": false,
     "input": [
      "def get_fp_tp_predictions(test_df, test_truth, model):\n",
      "    \n",
      "    fp = test_df.ix[test_truth[test_truth.truth==0].index]\n",
      "    tp = test_df.ix[~test_df.index.isin(fp.index)]\n",
      "    \n",
      "    predictions = model.predict(fp)\n",
      "    fp['predictions'] = predictions\n",
      "    fp['truth'] = test_truth.ix[fp.index]\n",
      "    \n",
      "    predictions = model.predict(tp)\n",
      "    tp['predictions'] = predictions\n",
      "    tp['truth'] = test_truth.ix[tp.index]\n",
      "    \n",
      "    return fp, tp\n",
      "\n",
      "#fp,tp = get_fp_tp_predictions(test_set, test_truth, clf1)  #USAGE\n",
      "#print fp.predictions.value_counts()\n",
      "#print tp.predictions.value_counts()"
     ],
     "language": "python",
     "metadata": {},
     "outputs": [],
     "prompt_number": 38
    },
    {
     "cell_type": "heading",
     "level": 3,
     "metadata": {},
     "source": [
      "Allelic Imbalance AUC"
     ]
    },
    {
     "cell_type": "code",
     "collapsed": false,
     "input": [
      "from scipy import stats\n",
      "def binom_deviance(line):\n",
      "    allele_read_depths = [line['AD_1'], line['AD_2']]\n",
      "    return stats.binom_test(max(allele_read_depths), sum(allele_read_depths), 0.5)\n"
     ],
     "language": "python",
     "metadata": {},
     "outputs": [],
     "prompt_number": 27
    },
    {
     "cell_type": "code",
     "collapsed": false,
     "input": [
      "training_set_random.AD_1.replace(to_replace=-999, value=0, inplace=True)\n",
      "training_set_random.AD_2.replace(to_replace=-999, value=0, inplace=True)\n",
      "\n",
      "training_set_random2.AD_1.replace(to_replace=-999, value=0, inplace=True)\n",
      "training_set_random2.AD_2.replace(to_replace=-999, value=0, inplace=True)\n",
      "\n",
      "\n",
      "# test_set_random.AD_1.replace(to_replace=-999, value=0, inplace=True)\n",
      "# test_set_random.AD_2.replace(to_replace=-999, value=0, inplace=True)\n",
      "\n",
      "training_set_random['allele_imbal'] = training_set_random.apply(binom_deviance, axis=1)\n",
      "training_set_random2['allele_imbal'] = training_set_random2.apply(binom_deviance, axis=1)\n",
      "\n",
      "#test_set_random['allele_imbal'] = test_set_random.apply(binom_deviance, axis=1)"
     ],
     "language": "python",
     "metadata": {},
     "outputs": [
      {
       "output_type": "stream",
       "stream": "stderr",
       "text": [
        "-c:4: SettingWithCopyWarning: A value is trying to be set on a copy of a slice from a DataFrame\n",
        "-c:5: SettingWithCopyWarning: A value is trying to be set on a copy of a slice from a DataFrame\n"
       ]
      },
      {
       "output_type": "stream",
       "stream": "stderr",
       "text": [
        "-c:11: SettingWithCopyWarning: A value is trying to be set on a copy of a slice from a DataFrame.\n",
        "Try using .loc[row_index,col_indexer] = value instead\n",
        "-c:12: SettingWithCopyWarning: A value is trying to be set on a copy of a slice from a DataFrame.\n",
        "Try using .loc[row_index,col_indexer] = value instead\n"
       ]
      }
     ],
     "prompt_number": 87
    },
    {
     "cell_type": "code",
     "collapsed": false,
     "input": [
      "#AUC FOR JUST ALLELEIC IMBALANCE\n",
      "from sklearn import metrics\n",
      "y = training_truth_random['truth']\n",
      "pred = training_set_random.allele_imbal\n",
      "fpr, tpr, thresholds = metrics.roc_curve(y, pred, pos_label=1)\n",
      "print 'AUC:', metrics.auc(fpr, tpr)\n",
      "\n"
     ],
     "language": "python",
     "metadata": {},
     "outputs": [
      {
       "output_type": "stream",
       "stream": "stdout",
       "text": [
        "AUC: 0.7957512424\n"
       ]
      }
     ],
     "prompt_number": 78
    },
    {
     "cell_type": "code",
     "collapsed": false,
     "input": [
      "del training_set_random['allelic_imbal']\n",
      "del test_set_random['allelic_imbal']"
     ],
     "language": "python",
     "metadata": {},
     "outputs": [],
     "prompt_number": 77
    },
    {
     "cell_type": "heading",
     "level": 1,
     "metadata": {},
     "source": [
      "TRAINING LOGISTIC REGRESSION MODEL"
     ]
    },
    {
     "cell_type": "code",
     "collapsed": false,
     "input": [
      "from sklearn import linear_model\n",
      "lm = linear_model.LogisticRegression(penalty='l1',C=1)\n",
      "lm_train = lm.fit(training_set_random_scaled, training_truth_random.values)\n"
     ],
     "language": "python",
     "metadata": {},
     "outputs": [
      {
       "output_type": "stream",
       "stream": "stderr",
       "text": [
        "//anaconda/lib/python2.7/site-packages/sklearn/preprocessing/label.py:99: DataConversionWarning: A column-vector y was passed when a 1d array was expected. Please change the shape of y to (n_samples, ), for example using ravel().\n",
        "  y = column_or_1d(y, warn=True)\n"
       ]
      }
     ],
     "prompt_number": 37
    },
    {
     "cell_type": "code",
     "collapsed": false,
     "input": [
      "import cPickle\n",
      "#cPickle.dump(lm_train, open('/gpfs/home/erscott/Datasets_raw/PlatinumGenomes/NA12877/NA12877_phasing/classifier_models/NA12877_preprocessed_training_set_LogReg_model_l2_C1_autosomes.pkl','w'))   \n",
      "cPickle.dump(lm_train, open('/Users/ers_vader/git_data/cg_classifier/models/NA12877_preprocessed_training_set_LogReg_model_l2_C1_autosomes.pkl','w'))   "
     ],
     "language": "python",
     "metadata": {},
     "outputs": [],
     "prompt_number": 92
    },
    {
     "cell_type": "code",
     "collapsed": false,
     "input": [
      "#Coefficients for SCALED DATA\n",
      "zip(training_set_random_scaled.columns, lm_train.coef_[0])"
     ],
     "language": "python",
     "metadata": {},
     "outputs": [
      {
       "metadata": {},
       "output_type": "pyout",
       "prompt_number": 39,
       "text": [
        "[('HQ_1', -3.6247923233528394),\n",
        " ('HQ_2', -7.3805409327728109),\n",
        " ('EHQ_1', 0.038464151738667476),\n",
        " ('EHQ_2', 2.0738978747831904),\n",
        " ('CGA_CEHQ_1', 0.98375158534378937),\n",
        " ('CGA_CEHQ_2', 3.9346856630394491),\n",
        " ('AD_1', 0.52226214962174611),\n",
        " ('AD_2', 1.392807462490002),\n",
        " ('CGA_SDO', -0.23502243989938557),\n",
        " ('GQ', 1.1452205506754511),\n",
        " ('DP', -2.0599497847718631),\n",
        " ('CGA_RDP', 0.49148393292923698),\n",
        " ('FT_PASS', -1.044752696134718),\n",
        " ('FT_VQLOW', -1.0790224109227711),\n",
        " ('vartype1_del', -3.7477756096950423),\n",
        " ('vartype1_ins', -3.4787425566049048),\n",
        " ('vartype1_mnp', 0.035275970457903323),\n",
        " ('vartype1_snp', -0.35162679665867819),\n",
        " ('vartype2_del', 0.54084705793638865),\n",
        " ('vartype2_ins', -0.28986088665534598),\n",
        " ('vartype2_mnp', -1.9044317141303249),\n",
        " ('vartype2_snp', -1.4257806908164024),\n",
        " ('phase_/', -0.84682489975807385),\n",
        " ('phase_|', -1.8361372764158259),\n",
        " ('zygosity_het-alt', 0.0),\n",
        " ('zygosity_het-ref', -3.1975172916113186),\n",
        " ('zygosity_hom-alt', 0.061688492542568203),\n",
        " ('AA_GL', -0.015029735863595836),\n",
        " ('AB_GL', 0.0066111990175592213),\n",
        " ('BB_GL', -0.0042232557538823502),\n",
        " ('AC_GL', -0.0020796991116636449),\n",
        " ('BC_GL', 0.0014617230415994774),\n",
        " ('CC_GL', -0.0017656968819996103),\n",
        " ('AA_CGA_CEGL', -0.041681770989419047),\n",
        " ('AB_CGA_CEGL', -0.017500392291799685),\n",
        " ('BB_CGA_CEGL', -0.12464826918109033),\n",
        " ('AC_CGA_CEGL', 0.0017510569365431024),\n",
        " ('BC_CGA_CEGL', 0.0014928091316249331),\n",
        " ('CC_CGA_CEGL', 0.0016877294599403759),\n",
        " ('CGA_RPT', -0.38993124365632353),\n",
        " ('multiallele', -5.6625936869583358),\n",
        " ('allele_imbal', 0.1729586526713873)]"
       ]
      }
     ],
     "prompt_number": 39
    },
    {
     "cell_type": "code",
     "collapsed": false,
     "input": [
      "lm_train_scaled_coeff = pd.Series(lm_train.coef_[0])\n",
      "lm_train_scaled_coeff.index = training_set_random_scaled.columns\n",
      "lm_train_scaled_coeff.plot(kind='bar', figsize = (20,5), color='cyan')"
     ],
     "language": "python",
     "metadata": {},
     "outputs": [
      {
       "metadata": {},
       "output_type": "pyout",
       "prompt_number": 40,
       "text": [
        "<matplotlib.axes.AxesSubplot at 0x166ce10d0>"
       ]
      },
      {
       "metadata": {},
       "output_type": "display_data",
       "png": "[encoded data removed]",
       "text": [
        "<matplotlib.figure.Figure at 0x166c85cd0>"
       ]
      }
     ],
     "prompt_number": 40
    },
    {
     "cell_type": "code",
     "collapsed": false,
     "input": [
      "zip(training_set_random.columns, lm_train.coef_[0])"
     ],
     "language": "python",
     "metadata": {},
     "outputs": [
      {
       "metadata": {},
       "output_type": "pyout",
       "prompt_number": 82,
       "text": [
        "[('CGA_SDO', -0.20919186368892387),\n",
        " ('GQ', 0.0027641093722563662),\n",
        " ('DP', -0.1151952973732476),\n",
        " ('CGA_RDP', 0.048723371798272443),\n",
        " ('FT_PASS', 0.32122234831953528),\n",
        " ('FT_VQLOW', -0.35890427958418053),\n",
        " ('vartype1_del', 0.26820871643210414),\n",
        " ('vartype1_ins', 0.14541364304201609),\n",
        " ('vartype1_mnp', -0.11008673075516182),\n",
        " ('vartype1_snp', -0.34121755998361075),\n",
        " ('vartype2_del', -0.044377996017091914),\n",
        " ('vartype2_ins', -0.0200255808804321),\n",
        " ('vartype2_mnp', -0.030834604571963218),\n",
        " ('vartype2_snp', 0.05755625020488541),\n",
        " ('phase_/', 0.61308835710623866),\n",
        " ('phase_|', -0.65077028837093143),\n",
        " ('zygosity_het-alt', -0.037704713919309615),\n",
        " ('zygosity_het-ref', -0.020800331178460758),\n",
        " ('zygosity_hom-alt', 0.020823113833171515),\n",
        " ('AA_GL', -0.010609399590831774),\n",
        " ('AB_GL', 7.4485675669890049e-05),\n",
        " ('BB_GL', -0.0037087562248752943),\n",
        " ('AC_GL', -0.0018257539770044386),\n",
        " ('BC_GL', -0.020805626739396565),\n",
        " ('CC_GL', -0.0018257539770044386),\n",
        " ('AA_CGA_CEGL', 0.026001552885404712),\n",
        " ('AB_CGA_CEGL', 0.062505637287221832),\n",
        " ('BB_CGA_CEGL', 0.012230768833342493),\n",
        " ('AC_CGA_CEGL', 0.023991551893572244),\n",
        " ('BC_CGA_CEGL', -0.020805626739396565),\n",
        " ('CC_CGA_CEGL', 0.023991551893572244),\n",
        " ('HQ_1', -0.010578139219637048),\n",
        " ('HQ_2', -0.020808907381291031),\n",
        " ('EHQ_1', 0.001941102303758028),\n",
        " ('EHQ_2', 0.0123058049218391),\n",
        " ('CGA_CEHQ_1', 0.091443011543957231),\n",
        " ('CGA_CEHQ_2', 0.090425219872484724),\n",
        " ('AD_1', 0.0464347386224052),\n",
        " ('AD_2', 0.066196466155844874),\n",
        " ('CGA_RPT', -0.5465290032385548),\n",
        " ('multiallele', -0.037702757718091985)]"
       ]
      }
     ],
     "prompt_number": 82
    },
    {
     "cell_type": "code",
     "collapsed": false,
     "input": [
      "lm_train.score(test_set_random_scaled, test_truth_random)"
     ],
     "language": "python",
     "metadata": {},
     "outputs": [
      {
       "metadata": {},
       "output_type": "pyout",
       "prompt_number": 336,
       "text": [
        "0.94577"
       ]
      }
     ],
     "prompt_number": 336
    },
    {
     "cell_type": "code",
     "collapsed": false,
     "input": [
      "lm_train.score(test_set_random, test_truth_random)"
     ],
     "language": "python",
     "metadata": {},
     "outputs": [
      {
       "metadata": {},
       "output_type": "pyout",
       "prompt_number": 83,
       "text": [
        "0.94676000000000005"
       ]
      }
     ],
     "prompt_number": 83
    },
    {
     "cell_type": "code",
     "collapsed": false,
     "input": [
      "#100k tp; 50k fp\n",
      "#lm_train.score(test_set, test_truth)"
     ],
     "language": "python",
     "metadata": {},
     "outputs": [
      {
       "metadata": {},
       "output_type": "pyout",
       "prompt_number": 216,
       "text": [
        "0.94876739743473115"
       ]
      }
     ],
     "prompt_number": 216
    },
    {
     "cell_type": "code",
     "collapsed": false,
     "input": [
      "fp,tp = get_fp_tp_predictions(test_set, test_truth, lm_train)\n"
     ],
     "language": "python",
     "metadata": {},
     "outputs": [],
     "prompt_number": 84
    },
    {
     "cell_type": "code",
     "collapsed": false,
     "input": [
      "fp.predictions.value_counts()[0] / float(fp.predictions.value_counts().sum())"
     ],
     "language": "python",
     "metadata": {},
     "outputs": [
      {
       "metadata": {},
       "output_type": "pyout",
       "prompt_number": 85,
       "text": [
        "0.78845492276278406"
       ]
      }
     ],
     "prompt_number": 85
    },
    {
     "cell_type": "code",
     "collapsed": false,
     "input": [
      "tp.predictions.value_counts()[1] / float(tp.predictions.value_counts().sum())"
     ],
     "language": "python",
     "metadata": {},
     "outputs": [
      {
       "metadata": {},
       "output_type": "pyout",
       "prompt_number": 86,
       "text": [
        "0.96268338935319764"
       ]
      }
     ],
     "prompt_number": 86
    },
    {
     "cell_type": "code",
     "collapsed": false,
     "input": [
      "test_truth.truth.value_counts()"
     ],
     "language": "python",
     "metadata": {},
     "outputs": [
      {
       "metadata": {},
       "output_type": "pyout",
       "prompt_number": 87,
       "text": [
        "1    3522560\n",
        "0     360448\n",
        "dtype: int64"
       ]
      }
     ],
     "prompt_number": 87
    },
    {
     "cell_type": "code",
     "collapsed": false,
     "input": [
      "#LOGISTIC REGRESSION ROC CURVE DATA\n",
      "\n",
      "test_results = lm_train.predict_proba(test_set)\n",
      "test_results_df = pd.DataFrame(test_results)\n",
      "test_results_df['truth'] = test_truth.values\n",
      "test_results_df.describe()\n",
      "\n",
      "logReg_xy = []\n",
      "optimal_threshold = None\n",
      "for i in range(0,100,2):\n",
      "    temp0_thresh = i/100.0\n",
      "    #print i\n",
      "    temp_df = test_results_df[(test_results_df[1].astype(float) >= temp0_thresh)] #all variants not passing the threshold\n",
      "    fp_rate = len(temp_df[temp_df.truth==0]) / float(test_truth.truth.value_counts()[0])  #true negatives\n",
      "    tp_rate = len(temp_df[temp_df.truth==1]) / float(test_truth.truth.value_counts()[1])\n",
      "    #print\n",
      "    #print 'fp:', fp_rate\n",
      "    #print 'tp:', tp_rate\n",
      "    #print\n",
      "    if fp_rate <= 0.16 and tp_rate >= 0.90:\n",
      "        optimal_threshold = i\n",
      "        print fp_rate, tp_rate, temp0_thresh\n",
      "    logReg_xy.append((fp_rate, tp_rate))\n",
      "\n",
      "logReg_xy_df = pd.DataFrame.from_records(logReg_xy)\n",
      "logReg_xy_df.columns=['1 - specificity','sensitivity']    \n",
      "pd.scatter_matrix(logReg_xy_df, figsize=(8,8),s=100)\n",
      "\n",
      "lr_fp = test_results_df[(test_results_df.truth==0) & (test_results_df[1] >= optimal_threshold)]   \n",
      "lr_tp = test_results_df[(test_results_df.truth==1) & (test_results_df[1] < optimal_threshold)]   \n",
      "\n",
      "\n",
      "\n",
      "from sklearn import metrics\n",
      "y = test_results_df['truth']\n",
      "pred = test_results_df[1]\n",
      "fpr, tpr, thresholds = metrics.roc_curve(y, pred, pos_label=1)\n",
      "\n",
      "print 'AUC:', metrics.auc(fpr, tpr)"
     ],
     "language": "python",
     "metadata": {},
     "outputs": [
      {
       "output_type": "stream",
       "stream": "stdout",
       "text": [
        "0.156871448864 0.927188465207 0.68\n",
        "0.150027188388"
       ]
      },
      {
       "output_type": "stream",
       "stream": "stdout",
       "text": [
        " 0.920978492914 0.7\n",
        "0.143069180575"
       ]
      },
      {
       "output_type": "stream",
       "stream": "stdout",
       "text": [
        " 0.914030137173 0.72\n",
        "0.135928067294"
       ]
      },
      {
       "output_type": "stream",
       "stream": "stdout",
       "text": [
        " 0.906274130178 0.74\n",
        "AUC:"
       ]
      },
      {
       "output_type": "stream",
       "stream": "stdout",
       "text": [
        " 0.949263455892\n"
       ]
      },
      {
       "metadata": {},
       "output_type": "display_data",
       "png": "[encoded data removed]",
       "text": [
        "<matplotlib.figure.Figure at 0x1140c6a10>"
       ]
      }
     ],
     "prompt_number": 192
    },
    {
     "cell_type": "code",
     "collapsed": false,
     "input": [
      "LR_test_results_df = test_results_df.copy()\n",
      "LR_test_results_df.index = test_set.index"
     ],
     "language": "python",
     "metadata": {},
     "outputs": [],
     "prompt_number": 198
    },
    {
     "cell_type": "code",
     "collapsed": false,
     "input": [
      "LR_test_results_df_filtered = LR_test_results_df[LR_test_results_df[1].astype(float) >= 0.74]\n"
     ],
     "language": "python",
     "metadata": {},
     "outputs": [],
     "prompt_number": 199
    },
    {
     "cell_type": "heading",
     "level": 1,
     "metadata": {},
     "source": [
      "TRAINING & TESTING RF MODELs"
     ]
    },
    {
     "cell_type": "code",
     "collapsed": false,
     "input": [
      "\n",
      "from sklearn.ensemble import RandomForestClassifier\n",
      "clf = RandomForestClassifier(n_estimators=500,n_jobs=12, oob_score=True, criterion='gini', min_samples_split=4, min_samples_leaf=2)"
     ],
     "language": "python",
     "metadata": {},
     "outputs": [],
     "prompt_number": 88
    },
    {
     "cell_type": "code",
     "collapsed": false,
     "input": [
      "training_set_random.columns"
     ],
     "language": "python",
     "metadata": {},
     "outputs": [
      {
       "metadata": {},
       "output_type": "pyout",
       "prompt_number": 89,
       "text": [
        "Index([u'CGA_SDO', u'GQ', u'DP', u'CGA_RDP', u'FT_PASS', u'FT_VQLOW', u'vartype1_del', u'vartype1_ins', u'vartype1_mnp', u'vartype1_snp', u'vartype2_del', u'vartype2_ins', u'vartype2_mnp', u'vartype2_snp', u'phase_/', u'phase_|', u'zygosity_het-alt', u'zygosity_het-ref', u'zygosity_hom-alt', u'AA_GL', u'AB_GL', u'BB_GL', u'AC_GL', u'BC_GL', u'CC_GL', u'AA_CGA_CEGL', u'AB_CGA_CEGL', u'BB_CGA_CEGL', u'AC_CGA_CEGL', u'BC_CGA_CEGL', u'CC_CGA_CEGL', u'HQ_1', u'HQ_2', u'EHQ_1', u'EHQ_2', u'CGA_CEHQ_1', u'CGA_CEHQ_2', u'AD_1', u'AD_2', u'CGA_RPT', u'multiallele', u'allele_imbal'], dtype='object')"
       ]
      }
     ],
     "prompt_number": 89
    },
    {
     "cell_type": "code",
     "collapsed": false,
     "input": [
      "simple_features = [i for i in training_set_random_scaled.columns if 'vartype' in i or 'zygosity' in i]\n",
      "simple_features.extend(['allele_imbal', 'AD_1', 'AD_2', 'DP', 'GQ', 'HQ_1', 'HQ_2'])  #'CGA_SDO', 'CGA_RPT',\n",
      "\n",
      "clf1 = clf.fit(training_set_random_scaled[simple_features], training_truth_random)  #About 10 minutes with 8 jobs"
     ],
     "language": "python",
     "metadata": {},
     "outputs": [
      {
       "output_type": "stream",
       "stream": "stderr",
       "text": [
        "-c:4: DataConversionWarning: A column-vector y was passed when a 1d array was expected. Please change the shape of y to (n_samples, ), for example using ravel().\n"
       ]
      }
     ],
     "prompt_number": 100
    },
    {
     "cell_type": "code",
     "collapsed": false,
     "input": [
      "import cPickle\n",
      "#cPickle.dump(clf1, open('/gpfs/home/erscott/Datasets_raw/PlatinumGenomes/NA12877/NA12877_phasing/NA12877_preprocessed_training_set_RF_model_500estim_8jobs_entropy_autosomes.pkl','w'))   \n",
      "#!gzip /gpfs/home/erscott/Datasets_raw/PlatinumGenomes/NA12877/NA12877_phasing/NA12877_preprocessed_training_set_RF_model_500estim_8jobs_entropy_autosomes.pkl    \n",
      "\n",
      "\n",
      "cPickle.dump(clf1, open('/Users/ers_vader/git_data/cg_classifier/models/NA12877_preprocessed_training_set_RF_model_500estim_12jobs_gini_autosomes.pkl','w'))   \n",
      "!gzip /Users/ers_vader/git_data/cg_classifier/models/NA12877_preprocessed_training_set_RF_model_500estim_8jobs_entropy_autosomes.pkl    \n"
     ],
     "language": "python",
     "metadata": {},
     "outputs": [
      {
       "output_type": "stream",
       "stream": "stdout",
       "text": [
        "gzip: can't stat: /Users/ers_vader/git_data/cg_classifier/models/NA12877_preprocessed_training_set_RF_model_500estim_8jobs_entropy_autosomes.pkl (/Users/ers_vader/git_data/cg_classifier/models/NA12877_preprocessed_training_set_RF_model_500estim_8jobs_entropy_autosomes.pkl): No such file or directory\r\n"
       ]
      }
     ],
     "prompt_number": 120
    },
    {
     "cell_type": "code",
     "collapsed": false,
     "input": [
      "zip(simple_features, clf1.feature_importances_)"
     ],
     "language": "python",
     "metadata": {},
     "outputs": [
      {
       "metadata": {},
       "output_type": "pyout",
       "prompt_number": 101,
       "text": [
        "[('vartype1_del', 0.064253990909286199),\n",
        " ('vartype1_ins', 0.049308595566752933),\n",
        " ('vartype1_mnp', 0.0039095252029187734),\n",
        " ('vartype1_snp', 0.22552150204987709),\n",
        " ('vartype2_del', 0.0082412286877807609),\n",
        " ('vartype2_ins', 0.0064176111863001959),\n",
        " ('vartype2_mnp', 0.00090286009468655353),\n",
        " ('vartype2_snp', 0.022600504000639322),\n",
        " ('zygosity_het-alt', 0.02690160756652132),\n",
        " ('zygosity_het-ref', 0.01601530788319501),\n",
        " ('zygosity_hom-alt', 0.039316117633141121),\n",
        " ('allele_imbal', 0.10930726891605864),\n",
        " ('AD_1', 0.056074861758555847),\n",
        " ('AD_2', 0.054505171271636163),\n",
        " ('DP', 0.035787152779421058),\n",
        " ('GQ', 0.10808749654629854),\n",
        " ('HQ_1', 0.054684336984693716),\n",
        " ('HQ_2', 0.11816486096223661)]"
       ]
      }
     ],
     "prompt_number": 101
    },
    {
     "cell_type": "code",
     "collapsed": false,
     "input": [
      "simple_features"
     ],
     "language": "python",
     "metadata": {},
     "outputs": [
      {
       "metadata": {},
       "output_type": "pyout",
       "prompt_number": 102,
       "text": [
        "['vartype1_del',\n",
        " 'vartype1_ins',\n",
        " 'vartype1_mnp',\n",
        " 'vartype1_snp',\n",
        " 'vartype2_del',\n",
        " 'vartype2_ins',\n",
        " 'vartype2_mnp',\n",
        " 'vartype2_snp',\n",
        " 'zygosity_het-alt',\n",
        " 'zygosity_het-ref',\n",
        " 'zygosity_hom-alt',\n",
        " 'allele_imbal',\n",
        " 'AD_1',\n",
        " 'AD_2',\n",
        " 'DP',\n",
        " 'GQ',\n",
        " 'HQ_1',\n",
        " 'HQ_2']"
       ]
      }
     ],
     "prompt_number": 102
    },
    {
     "cell_type": "code",
     "collapsed": false,
     "input": [
      "rf_train_scaled_coeff = pd.Series(clf1.feature_importances_)\n",
      "rf_train_scaled_coeff.index = simple_features\n",
      "rf_train_scaled_coeff.plot(kind='bar', figsize = (20,5), color='cyan')"
     ],
     "language": "python",
     "metadata": {},
     "outputs": [
      {
       "metadata": {},
       "output_type": "pyout",
       "prompt_number": 103,
       "text": [
        "<matplotlib.axes.AxesSubplot at 0x153a10490>"
       ]
      },
      {
       "metadata": {},
       "output_type": "display_data",
       "png": "[encoded data removed]",
       "text": [
        "<matplotlib.figure.Figure at 0x153a2c210>"
       ]
      }
     ],
     "prompt_number": 103
    },
    {
     "cell_type": "code",
     "collapsed": false,
     "input": [
      "rf_train_scaled_coeff = pd.Series(clf1.feature_importances_)\n",
      "rf_train_scaled_coeff.index = training_set_random_scaled.columns\n",
      "rf_train_scaled_coeff.plot(kind='bar', figsize = (20,5), color='cyan')"
     ],
     "language": "python",
     "metadata": {},
     "outputs": [
      {
       "metadata": {},
       "output_type": "pyout",
       "prompt_number": 55,
       "text": [
        "<matplotlib.axes.AxesSubplot at 0x119c15090>"
       ]
      },
      {
       "metadata": {},
       "output_type": "display_data",
       "png": "[encoded data removed]",
       "text": [
        "<matplotlib.figure.Figure at 0x119c15b50>"
       ]
      }
     ],
     "prompt_number": 55
    },
    {
     "cell_type": "code",
     "collapsed": false,
     "input": [
      "#100k, 50k, simple features\n",
      "clf1.oob_score_"
     ],
     "language": "python",
     "metadata": {},
     "outputs": [
      {
       "metadata": {},
       "output_type": "pyout",
       "prompt_number": 104,
       "text": [
        "0.95207333333333333"
       ]
      }
     ],
     "prompt_number": 104
    },
    {
     "cell_type": "code",
     "collapsed": false,
     "input": [
      "#100k, 50k, simple features\n",
      "clf1.oob_score_"
     ],
     "language": "python",
     "metadata": {},
     "outputs": [
      {
       "metadata": {},
       "output_type": "pyout",
       "prompt_number": 98,
       "text": [
        "0.95397333333333334"
       ]
      }
     ],
     "prompt_number": 98
    },
    {
     "cell_type": "code",
     "collapsed": false,
     "input": [
      "#100k, 50k\n",
      "clf1.oob_score_"
     ],
     "language": "python",
     "metadata": {},
     "outputs": [
      {
       "metadata": {},
       "output_type": "pyout",
       "prompt_number": 56,
       "text": [
        "0.95457999999999998"
       ]
      }
     ],
     "prompt_number": 56
    },
    {
     "cell_type": "code",
     "collapsed": false,
     "input": [
      "#100k, 50k\n",
      "clf1.oob_score_"
     ],
     "language": "python",
     "metadata": {},
     "outputs": [
      {
       "metadata": {},
       "output_type": "pyout",
       "prompt_number": 108,
       "text": [
        "0.91674666666666671"
       ]
      }
     ],
     "prompt_number": 108
    },
    {
     "cell_type": "code",
     "collapsed": false,
     "input": [
      "#130k, 13k\n",
      "clf1.oob_score_"
     ],
     "language": "python",
     "metadata": {},
     "outputs": [
      {
       "metadata": {},
       "output_type": "pyout",
       "prompt_number": 301,
       "text": [
        "0.96606666666666663"
       ]
      }
     ],
     "prompt_number": 301
    },
    {
     "cell_type": "code",
     "collapsed": false,
     "input": [
      "clf1.score(test_set, test_truth.values)"
     ],
     "language": "python",
     "metadata": {},
     "outputs": [
      {
       "metadata": {},
       "output_type": "pyout",
       "prompt_number": 110,
       "text": [
        "0.94976008290479963"
       ]
      }
     ],
     "prompt_number": 110
    },
    {
     "cell_type": "code",
     "collapsed": false,
     "input": [
      "clf1.score(test_set_random, test_truth_random.values)"
     ],
     "language": "python",
     "metadata": {},
     "outputs": [
      {
       "metadata": {},
       "output_type": "pyout",
       "prompt_number": 109,
       "text": [
        "0.94998000000000005"
       ]
      }
     ],
     "prompt_number": 109
    },
    {
     "cell_type": "code",
     "collapsed": false,
     "input": [
      "test_truth.truth.value_counts()"
     ],
     "language": "python",
     "metadata": {},
     "outputs": [
      {
       "metadata": {},
       "output_type": "pyout",
       "prompt_number": 111,
       "text": [
        "1    3522560\n",
        "0     360448\n",
        "dtype: int64"
       ]
      }
     ],
     "prompt_number": 111
    },
    {
     "cell_type": "code",
     "collapsed": false,
     "input": [
      "#RANDOM FOREST ROC DATA\n",
      "test_results = clf1.predict_proba(test_set)\n",
      "test_results_df = pd.DataFrame(test_results)\n",
      "test_results_df['truth'] = test_truth.values\n",
      "\n",
      "RF_xy = []\n",
      "optimal_threshold = None\n",
      "for i in range(0,100,2):\n",
      "    temp0_thresh = i/100.0\n",
      "    #print i\n",
      "    temp_df = test_results_df[(test_results_df[1].astype(float) >= temp0_thresh)]\n",
      "    fp_rate = len(temp_df[temp_df.truth==0]) / float(test_truth.truth.value_counts()[0])\n",
      "    tp_rate = len(temp_df[temp_df.truth==1]) / float(test_truth.truth.value_counts()[1])\n",
      "    #print\n",
      "    #print 'fp:', fp_rate\n",
      "    #print 'tp:', tp_rate\n",
      "    #print\n",
      "    if fp_rate <= 0.15 and tp_rate >= 0.9:\n",
      "        optimal_threshold = i\n",
      "        print round(fp_rate,4), round(tp_rate, 4), temp0_thresh\n",
      "    RF_xy.append((fp_rate, tp_rate))\n",
      "    \n",
      "RF_xy_df = pd.DataFrame.from_records(RF_xy)\n",
      "RF_xy_df.columns=['1 - specificity','sensitivity']\n",
      "pd.scatter_matrix(RF_xy_df, figsize=(8,8),s=100)\n",
      "\n",
      "rf_fp = test_results_df[(test_results_df.truth==0) & (test_results_df[1].astype(float) >= optimal_threshold)]   \n",
      "rf_tp = test_results_df[(test_results_df.truth==1) & (test_results_df[1].astype(float) < optimal_threshold)]   \n",
      "\n",
      "\n",
      "from sklearn import metrics\n",
      "y = test_results_df['truth']\n",
      "pred = test_results_df[1]\n",
      "fpr, tpr, thresholds = metrics.roc_curve(y, pred, pos_label=1)\n",
      "\n",
      "print 'AUC:', metrics.auc(fpr, tpr)"
     ],
     "language": "python",
     "metadata": {},
     "outputs": [
      {
       "output_type": "stream",
       "stream": "stdout",
       "text": [
        "0.1459 0.9472 0.58\n",
        "0.1401"
       ]
      },
      {
       "output_type": "stream",
       "stream": "stdout",
       "text": [
        " 0.9427 0.6\n",
        "0.1343"
       ]
      },
      {
       "output_type": "stream",
       "stream": "stdout",
       "text": [
        " 0.9378 0.62\n",
        "0.1287"
       ]
      },
      {
       "output_type": "stream",
       "stream": "stdout",
       "text": [
        " 0.9325 0.64\n",
        "0.1229"
       ]
      },
      {
       "output_type": "stream",
       "stream": "stdout",
       "text": [
        " 0.9267 0.66\n",
        "0.1175"
       ]
      },
      {
       "output_type": "stream",
       "stream": "stdout",
       "text": [
        " 0.9203 0.68\n",
        "0.1118"
       ]
      },
      {
       "output_type": "stream",
       "stream": "stdout",
       "text": [
        " 0.9131 0.7\n",
        "0.1063"
       ]
      },
      {
       "output_type": "stream",
       "stream": "stdout",
       "text": [
        " 0.9053 0.72\n",
        "AUC:"
       ]
      },
      {
       "output_type": "stream",
       "stream": "stdout",
       "text": [
        " 0.959476693448\n"
       ]
      },
      {
       "metadata": {},
       "output_type": "display_data",
       "png": "[encoded data removed]",
       "text": [
        "<matplotlib.figure.Figure at 0x176420710>"
       ]
      }
     ],
     "prompt_number": 132
    },
    {
     "cell_type": "code",
     "collapsed": false,
     "input": [
      "rf_test_results_df = test_results_df.copy() \n",
      "rf_test_results_df.index = test_set.index"
     ],
     "language": "python",
     "metadata": {},
     "outputs": [],
     "prompt_number": 122
    },
    {
     "cell_type": "code",
     "collapsed": false,
     "input": [
      "rf_test_results_df_filtered = rf_test_results_df[rf_test_results_df[1].astype(float) > 0.73]\n",
      "rf_test_results_df_filtered.truth.value_counts()"
     ],
     "language": "python",
     "metadata": {},
     "outputs": [
      {
       "metadata": {},
       "output_type": "pyout",
       "prompt_number": 166,
       "text": [
        "1    3173771\n",
        "0      37274\n",
        "dtype: int64"
       ]
      }
     ],
     "prompt_number": 166
    },
    {
     "cell_type": "code",
     "collapsed": false,
     "input": [
      "(rf_test_results_df.truth.value_counts()[1] - rf_test_results_df_filtered.truth.value_counts()[1] )/ float(test_results_df.truth.value_counts()[1])"
     ],
     "language": "python",
     "metadata": {},
     "outputs": [
      {
       "metadata": {},
       "output_type": "pyout",
       "prompt_number": 167,
       "text": [
        "0.09901577261991279"
       ]
      }
     ],
     "prompt_number": 167
    },
    {
     "cell_type": "code",
     "collapsed": false,
     "input": [
      "(rf_test_results_df.truth.value_counts()[0] - rf_test_results_df_filtered.truth.value_counts()[0]) / float(test_results_df.truth.value_counts()[0])"
     ],
     "language": "python",
     "metadata": {},
     "outputs": [
      {
       "metadata": {},
       "output_type": "pyout",
       "prompt_number": 168,
       "text": [
        "0.89658979936079541"
       ]
      }
     ],
     "prompt_number": 168
    },
    {
     "cell_type": "heading",
     "level": 1,
     "metadata": {},
     "source": [
      "Stochastic Gradient Boosting"
     ]
    },
    {
     "cell_type": "code",
     "collapsed": false,
     "input": [
      "from sklearn import ensemble\n",
      "gbc = ensemble.GradientBoostingClassifier(n_estimators=150, learning_rate=0.1, subsample=1, max_depth=5,  verbose=1)   \n"
     ],
     "language": "python",
     "metadata": {},
     "outputs": [],
     "prompt_number": 41
    },
    {
     "cell_type": "code",
     "collapsed": false,
     "input": [
      "training_set_random.columns"
     ],
     "language": "python",
     "metadata": {},
     "outputs": [
      {
       "metadata": {},
       "output_type": "pyout",
       "prompt_number": 42,
       "text": [
        "Index([u'CGA_SDO', u'GQ', u'DP', u'CGA_RDP', u'FT_PASS', u'FT_VQLOW', u'vartype1_del', u'vartype1_ins', u'vartype1_mnp', u'vartype1_snp', u'vartype2_del', u'vartype2_ins', u'vartype2_mnp', u'vartype2_snp', u'phase_/', u'phase_|', u'zygosity_het-alt', u'zygosity_het-ref', u'zygosity_hom-alt', u'AA_GL', u'AB_GL', u'BB_GL', u'AC_GL', u'BC_GL', u'CC_GL', u'AA_CGA_CEGL', u'AB_CGA_CEGL', u'BB_CGA_CEGL', u'AC_CGA_CEGL', u'BC_CGA_CEGL', u'CC_CGA_CEGL', u'HQ_1', u'HQ_2', u'EHQ_1', u'EHQ_2', u'CGA_CEHQ_1', u'CGA_CEHQ_2', u'AD_1', u'AD_2', u'CGA_RPT', u'multiallele', u'allele_imbal'], dtype='object')"
       ]
      }
     ],
     "prompt_number": 42
    },
    {
     "cell_type": "code",
     "collapsed": false,
     "input": [
      "gbc_model = gbc.fit(training_set_random, training_truth_random)\n"
     ],
     "language": "python",
     "metadata": {},
     "outputs": [
      {
       "output_type": "stream",
       "stream": "stdout",
       "text": [
        "      Iter       Train Loss   Remaining Time \n",
        "         1           1.1455           11.33m"
       ]
      },
      {
       "output_type": "stream",
       "stream": "stdout",
       "text": [
        "\n",
        "         2           1.0462           11.34m"
       ]
      },
      {
       "output_type": "stream",
       "stream": "stdout",
       "text": [
        "\n",
        "         3           0.9651           11.26m"
       ]
      },
      {
       "output_type": "stream",
       "stream": "stdout",
       "text": [
        "\n",
        "         4           0.8977           11.08m"
       ]
      },
      {
       "output_type": "stream",
       "stream": "stdout",
       "text": [
        "\n",
        "         5           0.8414           10.93m"
       ]
      },
      {
       "output_type": "stream",
       "stream": "stdout",
       "text": [
        "\n",
        "         6           0.7937           10.86m"
       ]
      },
      {
       "output_type": "stream",
       "stream": "stdout",
       "text": [
        "\n",
        "         7           0.7525           10.76m"
       ]
      },
      {
       "output_type": "stream",
       "stream": "stdout",
       "text": [
        "\n",
        "         8           0.7176           10.66m"
       ]
      },
      {
       "output_type": "stream",
       "stream": "stdout",
       "text": [
        "\n",
        "         9           0.6866           10.57m"
       ]
      },
      {
       "output_type": "stream",
       "stream": "stdout",
       "text": [
        "\n",
        "        10           0.6599           10.48m"
       ]
      },
      {
       "ename": "KeyboardInterrupt",
       "evalue": "",
       "output_type": "pyerr",
       "traceback": [
        "\u001b[0;31m---------------------------------------------------------------------------\u001b[0m\n\u001b[0;31mKeyboardInterrupt\u001b[0m                         Traceback (most recent call last)",
        "\u001b[0;32m<ipython-input-291-1e37e20c7999>\u001b[0m in \u001b[0;36m<module>\u001b[0;34m()\u001b[0m\n\u001b[0;32m----> 1\u001b[0;31m \u001b[0mgbc_model\u001b[0m \u001b[0;34m=\u001b[0m \u001b[0mgbc\u001b[0m\u001b[0;34m.\u001b[0m\u001b[0mfit\u001b[0m\u001b[0;34m(\u001b[0m\u001b[0mtraining_set_random\u001b[0m\u001b[0;34m,\u001b[0m \u001b[0mtraining_truth_random\u001b[0m\u001b[0;34m)\u001b[0m\u001b[0;34m\u001b[0m\u001b[0m\n\u001b[0m",
        "\u001b[0;32m//anaconda/lib/python2.7/site-packages/sklearn/ensemble/gradient_boosting.pyc\u001b[0m in \u001b[0;36mfit\u001b[0;34m(self, X, y)\u001b[0m\n\u001b[1;32m    888\u001b[0m         \u001b[0mself\u001b[0m\u001b[0;34m.\u001b[0m\u001b[0mn_classes_\u001b[0m \u001b[0;34m=\u001b[0m \u001b[0mlen\u001b[0m\u001b[0;34m(\u001b[0m\u001b[0mself\u001b[0m\u001b[0;34m.\u001b[0m\u001b[0mclasses_\u001b[0m\u001b[0;34m)\u001b[0m\u001b[0;34m\u001b[0m\u001b[0m\n\u001b[1;32m    889\u001b[0m \u001b[0;34m\u001b[0m\u001b[0m\n\u001b[0;32m--> 890\u001b[0;31m         \u001b[0;32mreturn\u001b[0m \u001b[0msuper\u001b[0m\u001b[0;34m(\u001b[0m\u001b[0mGradientBoostingClassifier\u001b[0m\u001b[0;34m,\u001b[0m \u001b[0mself\u001b[0m\u001b[0;34m)\u001b[0m\u001b[0;34m.\u001b[0m\u001b[0mfit\u001b[0m\u001b[0;34m(\u001b[0m\u001b[0mX\u001b[0m\u001b[0;34m,\u001b[0m \u001b[0my\u001b[0m\u001b[0;34m)\u001b[0m\u001b[0;34m\u001b[0m\u001b[0m\n\u001b[0m\u001b[1;32m    891\u001b[0m \u001b[0;34m\u001b[0m\u001b[0m\n\u001b[1;32m    892\u001b[0m     \u001b[0;32mdef\u001b[0m \u001b[0m_score_to_proba\u001b[0m\u001b[0;34m(\u001b[0m\u001b[0mself\u001b[0m\u001b[0;34m,\u001b[0m \u001b[0mscore\u001b[0m\u001b[0;34m)\u001b[0m\u001b[0;34m:\u001b[0m\u001b[0;34m\u001b[0m\u001b[0m\n",
        "\u001b[0;32m//anaconda/lib/python2.7/site-packages/sklearn/ensemble/gradient_boosting.pyc\u001b[0m in \u001b[0;36mfit\u001b[0;34m(self, X, y)\u001b[0m\n\u001b[1;32m    611\u001b[0m             \u001b[0;31m# fit next stage of trees\u001b[0m\u001b[0;34m\u001b[0m\u001b[0;34m\u001b[0m\u001b[0m\n\u001b[1;32m    612\u001b[0m             y_pred = self._fit_stage(i, X, y, y_pred, sample_mask,\n\u001b[0;32m--> 613\u001b[0;31m                                      random_state)\n\u001b[0m\u001b[1;32m    614\u001b[0m \u001b[0;34m\u001b[0m\u001b[0m\n\u001b[1;32m    615\u001b[0m             \u001b[0;31m# track deviance (= loss)\u001b[0m\u001b[0;34m\u001b[0m\u001b[0;34m\u001b[0m\u001b[0m\n",
        "\u001b[0;32m//anaconda/lib/python2.7/site-packages/sklearn/ensemble/gradient_boosting.pyc\u001b[0m in \u001b[0;36m_fit_stage\u001b[0;34m(self, i, X, y, y_pred, sample_mask, random_state)\u001b[0m\n\u001b[1;32m    480\u001b[0m \u001b[0;34m\u001b[0m\u001b[0m\n\u001b[1;32m    481\u001b[0m             tree.fit(X, residual,\n\u001b[0;32m--> 482\u001b[0;31m                      sample_weight=sample_weight, check_input=False)\n\u001b[0m\u001b[1;32m    483\u001b[0m \u001b[0;34m\u001b[0m\u001b[0m\n\u001b[1;32m    484\u001b[0m             \u001b[0;31m# update tree leaves\u001b[0m\u001b[0;34m\u001b[0m\u001b[0;34m\u001b[0m\u001b[0m\n",
        "\u001b[0;32m//anaconda/lib/python2.7/site-packages/sklearn/tree/tree.pyc\u001b[0m in \u001b[0;36mfit\u001b[0;34m(self, X, y, sample_mask, X_argsorted, check_input, sample_weight)\u001b[0m\n\u001b[1;32m    243\u001b[0m                           random_state)\n\u001b[1;32m    244\u001b[0m \u001b[0;34m\u001b[0m\u001b[0m\n\u001b[0;32m--> 245\u001b[0;31m         \u001b[0mself\u001b[0m\u001b[0;34m.\u001b[0m\u001b[0mtree_\u001b[0m\u001b[0;34m.\u001b[0m\u001b[0mbuild\u001b[0m\u001b[0;34m(\u001b[0m\u001b[0mX\u001b[0m\u001b[0;34m,\u001b[0m \u001b[0my\u001b[0m\u001b[0;34m,\u001b[0m \u001b[0msample_weight\u001b[0m\u001b[0;34m=\u001b[0m\u001b[0msample_weight\u001b[0m\u001b[0;34m)\u001b[0m\u001b[0;34m\u001b[0m\u001b[0m\n\u001b[0m\u001b[1;32m    246\u001b[0m \u001b[0;34m\u001b[0m\u001b[0m\n\u001b[1;32m    247\u001b[0m         \u001b[0;32mif\u001b[0m \u001b[0mself\u001b[0m\u001b[0;34m.\u001b[0m\u001b[0mn_outputs_\u001b[0m \u001b[0;34m==\u001b[0m \u001b[0;36m1\u001b[0m\u001b[0;34m:\u001b[0m\u001b[0;34m\u001b[0m\u001b[0m\n",
        "\u001b[0;31mKeyboardInterrupt\u001b[0m: "
       ]
      },
      {
       "output_type": "stream",
       "stream": "stdout",
       "text": [
        "\n"
       ]
      },
      {
       "output_type": "stream",
       "stream": "stderr",
       "text": [
        "//anaconda/lib/python2.7/site-packages/sklearn/ensemble/gradient_boosting.py:886: DataConversionWarning: A column-vector y was passed when a 1d array was expected. Please change the shape of y to (n_samples, ), for example using ravel().\n",
        "  y = column_or_1d(y, warn=True)\n"
       ]
      }
     ],
     "prompt_number": 291
    },
    {
     "cell_type": "code",
     "collapsed": false,
     "input": [
      "import cPickle\n",
      "#cPickle.dump(gbc_model, open('/gpfs/home/erscott/Datasets_raw/PlatinumGenomes/NA12877/NA12877_phasing/NA12877_preprocessed_training_set_GBC_model_150estim_1subsample_autosomes.pkl','w'))   \n",
      "#!gzip /gpfs/home/erscott/Datasets_raw/PlatinumGenomes/NA12877/NA12877_phasing/NA12877_preprocessed_training_set_GBC_model_150estim_1subsample_autosomes.pkl   \n",
      "\n",
      "cPickle.dump(gbc_model, open('/Users/ers_vader/git_data/cg_classifier/models/NA12877_preprocessed_training_set_GBC_model_500estim_1subsample_learn0.1_maxdepth7_autosomes.pkl','w'))   \n",
      "!gzip /Users/ers_vader/git_data/cg_classifier/models/NA12877_preprocessed_training_set_GBC_model_500estim_1subsample_learn0.1_maxdepth7_autosomes.pkl    \n",
      "\n"
     ],
     "language": "python",
     "metadata": {},
     "outputs": [],
     "prompt_number": 288
    },
    {
     "cell_type": "code",
     "collapsed": false,
     "input": [
      "zip(training_set_random.columns, gbc_model.feature_importances_)"
     ],
     "language": "python",
     "metadata": {},
     "outputs": [
      {
       "metadata": {},
       "output_type": "pyout",
       "prompt_number": 172,
       "text": [
        "[('CGA_SDO', 0.051253808627873564),\n",
        " ('GQ', 0.094008549193865351),\n",
        " ('DP', 0.08580408194245602),\n",
        " ('CGA_RDP', 0.037315172813287494),\n",
        " ('FT_PASS', 0.0026106425083234548),\n",
        " ('FT_VQLOW', 0.019253073384178272),\n",
        " ('vartype1_del', 5.1712052038391529e-05),\n",
        " ('vartype1_ins', 0.00050954839268952409),\n",
        " ('vartype1_mnp', 0.0040647751705751318),\n",
        " ('vartype1_snp', 0.00012646582676737445),\n",
        " ('vartype2_del', 1.4510560143046133e-07),\n",
        " ('vartype2_ins', 0.00013243363667990812),\n",
        " ('vartype2_mnp', 0.00046160622100354883),\n",
        " ('vartype2_snp', 0.010633307462133151),\n",
        " ('phase_/', 0.048969485117630128),\n",
        " ('phase_|', 0.049471808708430383),\n",
        " ('zygosity_het-alt', 0.0087864275668072603),\n",
        " ('zygosity_het-ref', 0.0030606730726472405),\n",
        " ('zygosity_hom-alt', 0.00074684994549948942),\n",
        " ('AA_GL', 0.034900393929330358),\n",
        " ('AB_GL', 0.032281594443582071),\n",
        " ('BB_GL', 0.05100433786091111),\n",
        " ('AC_GL', 1.1187113421149555e-06),\n",
        " ('BC_GL', 0.0),\n",
        " ('CC_GL', 0.00015776339700599161),\n",
        " ('AA_CGA_CEGL', 0.080604678864075796),\n",
        " ('AB_CGA_CEGL', 0.0068571052390050697),\n",
        " ('BB_CGA_CEGL', 0.0066289216170648882),\n",
        " ('AC_CGA_CEGL', 0.0010369152393191995),\n",
        " ('BC_CGA_CEGL', 0.0),\n",
        " ('CC_CGA_CEGL', 8.4727041910388147e-07),\n",
        " ('HQ_1', 0.0017315662543621875),\n",
        " ('HQ_2', 0.012724254020530915),\n",
        " ('EHQ_1', 0.010686053393241033),\n",
        " ('EHQ_2', 0.020618447434441144),\n",
        " ('CGA_CEHQ_1', 0.041292942851967822),\n",
        " ('CGA_CEHQ_2', 0.083599480141266391),\n",
        " ('AD_1', 0.049017646867511436),\n",
        " ('AD_2', 0.05451473592096466),\n",
        " ('CGA_RPT', 0.09508062979517154),\n",
        " ('multiallele', 0.0)]"
       ]
      }
     ],
     "prompt_number": 172
    },
    {
     "cell_type": "code",
     "collapsed": false,
     "input": [
      "training_truth_random.truth.value_counts()"
     ],
     "language": "python",
     "metadata": {},
     "outputs": [
      {
       "metadata": {},
       "output_type": "pyout",
       "prompt_number": 180,
       "text": [
        "1    100000\n",
        "0     50000\n",
        "dtype: int64"
       ]
      }
     ],
     "prompt_number": 180
    },
    {
     "cell_type": "code",
     "collapsed": false,
     "input": [
      "#100k tp, 50k fp; AD_1 and AD_2, learning_rate = 0.001; max_depth=7; 500 estimators\n",
      "gbc_model.score(test_set, test_truth.values)"
     ],
     "language": "python",
     "metadata": {},
     "outputs": [
      {
       "metadata": {},
       "output_type": "pyout",
       "prompt_number": 286,
       "text": [
        "0.95163981119791663"
       ]
      }
     ],
     "prompt_number": 286
    },
    {
     "cell_type": "code",
     "collapsed": false,
     "input": [
      "#100k tp, 50k fp; AD_1 and AD_2 \n",
      "gbc_model.score(test_set, test_truth.values)"
     ],
     "language": "python",
     "metadata": {},
     "outputs": [
      {
       "metadata": {},
       "output_type": "pyout",
       "prompt_number": 175,
       "text": [
        "0.95022595884427741"
       ]
      }
     ],
     "prompt_number": 175
    },
    {
     "cell_type": "code",
     "collapsed": false,
     "input": [
      "#100k tp, 50k fp\n",
      "gbc_model.score(test_set_random, test_truth_random.values)"
     ],
     "language": "python",
     "metadata": {},
     "outputs": [
      {
       "metadata": {},
       "output_type": "pyout",
       "prompt_number": 264,
       "text": [
        "0.95113000000000003"
       ]
      }
     ],
     "prompt_number": 264
    },
    {
     "cell_type": "code",
     "collapsed": false,
     "input": [
      "#130k tp, 13k fp\n",
      "gbc_model.score(test_set, test_truth.values)"
     ],
     "language": "python",
     "metadata": {},
     "outputs": [
      {
       "metadata": {},
       "output_type": "pyout",
       "prompt_number": 313,
       "text": [
        "0.96578731920312921"
       ]
      }
     ],
     "prompt_number": 313
    },
    {
     "cell_type": "code",
     "collapsed": false,
     "input": [
      "#Gradient Boosted Classifier ROC DATA\n",
      "test_results = gbc_model.predict_proba(test_set)\n",
      "test_results_df = pd.DataFrame(test_results)\n",
      "test_results_df['truth'] = test_truth.values\n",
      "\n",
      "gbc_xy = []\n",
      "optimal_threshold = None\n",
      "for i in range(0,100,2):\n",
      "    temp0_thresh = i/100.0\n",
      "    #print i\n",
      "    temp_df = test_results_df[(test_results_df[1].astype(float) >= temp0_thresh)]\n",
      "    fp_rate = len(temp_df[temp_df.truth==0]) / float(test_truth.truth.value_counts()[0])\n",
      "    tp_rate = len(temp_df[temp_df.truth==1]) / float(test_truth.truth.value_counts()[1])\n",
      "    if fp_rate <= 0.15 and tp_rate >= 0.9:\n",
      "        optimal_threshold = temp0_thresh\n",
      "        print round(fp_rate,4), round(tp_rate, 4), temp0_thresh\n",
      "    #print\n",
      "    #print 'fp:', fp_rate\n",
      "    #print 'tp:', tp_rate\n",
      "    #print\n",
      "    gbc_xy.append((fp_rate, tp_rate))\n",
      "    \n",
      "gbc_fp = test_results_df[(test_results_df.truth==0) & (test_results_df[1].astype(float) >= optimal_threshold)]   \n",
      "gbc_fn = test_results_df[(test_results_df.truth==1) & (test_results_df[1].astype(float) < optimal_threshold)]   \n",
      "gbc_tp = test_results_df[(test_results_df.truth==1) & (test_results_df[1].astype(float) >= optimal_threshold)]\n",
      "    \n",
      "    \n",
      "gbc_xy_df = pd.DataFrame.from_records(gbc_xy)\n",
      "gbc_xy_df.columns=['1 - specificity','sensitivity']\n",
      "pd.scatter_matrix(gbc_xy_df, figsize=(8,8),s=100)\n",
      "\n",
      "from sklearn import metrics\n",
      "y = test_results_df['truth']\n",
      "pred = test_results_df[1]\n",
      "fpr, tpr, thresholds = metrics.roc_curve(y, pred, pos_label=1)\n",
      "\n",
      "print 'AUC:', metrics.auc(fpr, tpr)"
     ],
     "language": "python",
     "metadata": {},
     "outputs": [
      {
       "output_type": "stream",
       "stream": "stdout",
       "text": [
        "0.1479 0.9498 0.6\n",
        "0.1426"
       ]
      },
      {
       "output_type": "stream",
       "stream": "stdout",
       "text": [
        " 0.9461 0.62\n",
        "0.1377"
       ]
      },
      {
       "output_type": "stream",
       "stream": "stdout",
       "text": [
        " 0.9423 0.64\n",
        "0.1329"
       ]
      },
      {
       "output_type": "stream",
       "stream": "stdout",
       "text": [
        " 0.9381 0.66\n",
        "0.1278"
       ]
      },
      {
       "output_type": "stream",
       "stream": "stdout",
       "text": [
        " 0.9335 0.68\n",
        "0.1228"
       ]
      },
      {
       "output_type": "stream",
       "stream": "stdout",
       "text": [
        " 0.9285 0.7\n",
        "0.1177"
       ]
      },
      {
       "output_type": "stream",
       "stream": "stdout",
       "text": [
        " 0.9232 0.72\n",
        "0.1123"
       ]
      },
      {
       "output_type": "stream",
       "stream": "stdout",
       "text": [
        " 0.9169 0.74\n",
        "0.1066"
       ]
      },
      {
       "output_type": "stream",
       "stream": "stdout",
       "text": [
        " 0.9098 0.76\n",
        "0.1011"
       ]
      },
      {
       "output_type": "stream",
       "stream": "stdout",
       "text": [
        " 0.9021 0.78\n",
        "AUC:"
       ]
      },
      {
       "output_type": "stream",
       "stream": "stdout",
       "text": [
        " 0.96102569252\n"
       ]
      },
      {
       "metadata": {},
       "output_type": "display_data",
       "png": "[encoded data removed]",
       "text": [
        "<matplotlib.figure.Figure at 0x119df4c10>"
       ]
      }
     ],
     "prompt_number": 287
    },
    {
     "cell_type": "code",
     "collapsed": false,
     "input": [
      "gbc_test_results_df = test_results_df.copy()\n",
      "gbc_test_results_df.index = test_set.index"
     ],
     "language": "python",
     "metadata": {},
     "outputs": [],
     "prompt_number": 208
    },
    {
     "cell_type": "code",
     "collapsed": false,
     "input": [
      "gbc_test_results_df.truth.value_counts()"
     ],
     "language": "python",
     "metadata": {},
     "outputs": [
      {
       "metadata": {},
       "output_type": "pyout",
       "prompt_number": 212,
       "text": [
        "1    3522560\n",
        "0     360448\n",
        "dtype: int64"
       ]
      }
     ],
     "prompt_number": 212
    },
    {
     "cell_type": "code",
     "collapsed": false,
     "input": [
      "gbc_test_results_df.columns"
     ],
     "language": "python",
     "metadata": {},
     "outputs": [
      {
       "metadata": {},
       "output_type": "pyout",
       "prompt_number": 213,
       "text": [
        "Index([0, 1, u'truth'], dtype='object')"
       ]
      }
     ],
     "prompt_number": 213
    },
    {
     "cell_type": "code",
     "collapsed": false,
     "input": [
      "gbc_test_results_df_filtered = gbc_test_results_df[gbc_test_results_df[1].astype(float) >= 0.73]\n",
      "gbc_test_results_df_filtered.truth.value_counts()"
     ],
     "language": "python",
     "metadata": {},
     "outputs": [
      {
       "metadata": {},
       "output_type": "pyout",
       "prompt_number": 214,
       "text": [
        "1    3226300\n",
        "0      42109\n",
        "dtype: int64"
       ]
      }
     ],
     "prompt_number": 214
    },
    {
     "cell_type": "heading",
     "level": 1,
     "metadata": {},
     "source": [
      "TRAINING & TESTING SVM MODEL"
     ]
    },
    {
     "cell_type": "code",
     "collapsed": false,
     "input": [
      "from sklearn import svm\n",
      "svm_model = svm.SVC(probability=True)\n",
      "svm_model.fit(training_set_random, training_truth_random)\n"
     ],
     "language": "python",
     "metadata": {},
     "outputs": [],
     "prompt_number": "*"
    },
    {
     "cell_type": "code",
     "collapsed": false,
     "input": [
      "svm_model.score(test_set_random, test_truth_random.values)"
     ],
     "language": "python",
     "metadata": {},
     "outputs": []
    },
    {
     "cell_type": "heading",
     "level": 1,
     "metadata": {},
     "source": [
      "ROC LogReg vs RF vs GBC"
     ]
    },
    {
     "cell_type": "code",
     "collapsed": false,
     "input": [
      "logReg_xy_df.to_csv('/Users/ers_vader/git_data/cg_classifier/models/logReg_xy_df.txt',sep='\\t')\n",
      "RF_xy_df.to_csv('/Users/ers_vader/git_data/cg_classifier/models/RF_xy_df', sep='\\t')\n",
      "gbc_xy_df.to_csv('/Users/ers_vader/git_data/cg_classifier/models/gbc_xy_df',sep=\"\\t\")"
     ],
     "language": "python",
     "metadata": {},
     "outputs": [],
     "prompt_number": 279
    },
    {
     "cell_type": "code",
     "collapsed": false,
     "input": [
      "len(logReg_xy_df)"
     ],
     "language": "python",
     "metadata": {},
     "outputs": [
      {
       "metadata": {},
       "output_type": "pyout",
       "prompt_number": 278,
       "text": [
        "50"
       ]
      }
     ],
     "prompt_number": 278
    },
    {
     "cell_type": "code",
     "collapsed": false,
     "input": [
      "\n",
      "matplotlib.rcParams.update({'figure.figsize':(8,8)})\n",
      "matplotlib.rcParams.update({'font.size': 16})\n",
      "rcParams['figure.dpi'] = 800\n",
      "rcParams['axes.linewidth'] = 4\n",
      "rcParams['lines.linewidth'] = 2.0\n",
      "rcParams['lines.markersize'] = 6\n",
      "f, axarr = plt.subplots()\n",
      "axarr.plot(logReg_xy_df['1 - specificity'], logReg_xy_df['sensitivity'],'D--', c='blue', label='LogReg')\n",
      "axarr.plot(RF_xy_df['1 - specificity'].values, RF_xy_df['sensitivity'].values,'o--', label='RF')\n",
      "axarr.plot(gbc_xy_df['1 - specificity'].values, gbc_xy_df['sensitivity'].values, 's--', label='GBC')\n",
      "legend(loc=7)\n",
      "\n",
      "#'go-', label='line 1', linewidth=2\n",
      "#fig = x_y_df.plot(x='f p', y='t p')\n"
     ],
     "language": "python",
     "metadata": {},
     "outputs": [
      {
       "metadata": {},
       "output_type": "pyout",
       "prompt_number": 191,
       "text": [
        "<matplotlib.legend.Legend at 0x1188960d0>"
       ]
      },
      {
       "metadata": {},
       "output_type": "display_data",
       "png": "[encoded data removed]",
       "text": [
        "<matplotlib.figure.Figure at 0x119c7c250>"
       ]
      }
     ],
     "prompt_number": 191
    },
    {
     "cell_type": "heading",
     "level": 1,
     "metadata": {},
     "source": [
      "Joining Model Predictions to Test Set"
     ]
    },
    {
     "cell_type": "code",
     "collapsed": false,
     "input": [
      "LR_test_results_df.columns = ['lr_prob0', 'lr_prob1', 'truth']\n",
      "LR_test_results_df1 = LR_test_results_df[['lr_prob1']]\n",
      "\n",
      "rf_test_results_df.columns = ['rf_prob0', 'rf_prob1', 'truth']\n",
      "rf_test_results_df1 = rf_test_results_df[['rf_prob1']]\n",
      "\n",
      "gbc_test_results_df.columns = ['gbc_prob0','gbc_prob1', 'truth']\n",
      "gbc_test_results_df1 = gbc_test_results_df[['gbc_prob1', 'truth']]\n",
      "\n",
      "test_set_annotated = test_set.join([LR_test_results_df1, rf_test_results_df1, gbc_test_results_df1])"
     ],
     "language": "python",
     "metadata": {},
     "outputs": [],
     "prompt_number": 228
    },
    {
     "cell_type": "code",
     "collapsed": false,
     "input": [
      "test_set_annotated.to_csv('/Users/ers_vader/git_data/cg_classifier/models/20140724/lr_rf_gbc_model_results_NA12878.txt', sep=\"\\t\")"
     ],
     "language": "python",
     "metadata": {},
     "outputs": [],
     "prompt_number": 230
    },
    {
     "cell_type": "code",
     "collapsed": false,
     "input": [
      "#CORRELATIONS BETWEEN SCORES\n",
      "pd.scatter_matrix(test_set_annotated[['lr_prob1', 'rf_prob1', 'gbc_prob1']].head(1000), figsize=(10,10))"
     ],
     "language": "python",
     "metadata": {},
     "outputs": [
      {
       "metadata": {},
       "output_type": "pyout",
       "prompt_number": 237,
       "text": [
        "array([[<matplotlib.axes.AxesSubplot object at 0x3bd1a5890>,\n",
        "        <matplotlib.axes.AxesSubplot object at 0x3bd2a3750>,\n",
        "        <matplotlib.axes.AxesSubplot object at 0x3bd417610>],\n",
        "       [<matplotlib.axes.AxesSubplot object at 0x3c67bd690>,\n",
        "        <matplotlib.axes.AxesSubplot object at 0x3c683d450>,\n",
        "        <matplotlib.axes.AxesSubplot object at 0x3c68a1150>],\n",
        "       [<matplotlib.axes.AxesSubplot object at 0x3c6913fd0>,\n",
        "        <matplotlib.axes.AxesSubplot object at 0x3c6956090>,\n",
        "        <matplotlib.axes.AxesSubplot object at 0x3c6a01b50>]], dtype=object)"
       ]
      },
      {
       "metadata": {},
       "output_type": "display_data",
       "png": "[encoded data removed]",
       "text": [
        "<matplotlib.figure.Figure at 0x3a18372d0>"
       ]
      }
     ],
     "prompt_number": 237
    },
    {
     "cell_type": "code",
     "collapsed": false,
     "input": [
      "test_set_annotated_filtered = test_set_annotated[(test_set_annotated.lr_prob1 < 0.74) & (test_set_annotated.rf_prob1 < 0.73) & (test_set_annotated.gbc_prob1 < 0.73)]            \n",
      "test_set_annotated_pass = test_set_annotated[~test_set_annotated.index.isin(test_set_annotated_filtered.index)]\n"
     ],
     "language": "python",
     "metadata": {},
     "outputs": [],
     "prompt_number": 254
    },
    {
     "cell_type": "code",
     "collapsed": false,
     "input": [
      "test_set_annotated_pass.describe()"
     ],
     "language": "python",
     "metadata": {},
     "outputs": [
      {
       "html": [
        "<div style=\"max-height:1000px;max-width:1500px;overflow:auto;\">\n",
        "<table border=\"1\" class=\"dataframe\">\n",
        "  <thead>\n",
        "    <tr style=\"text-align: right;\">\n",
        "      <th></th>\n",
        "      <th>CGA_SDO</th>\n",
        "      <th>GQ</th>\n",
        "      <th>DP</th>\n",
        "      <th>CGA_RDP</th>\n",
        "      <th>FT_PASS</th>\n",
        "      <th>FT_VQLOW</th>\n",
        "      <th>vartype1_del</th>\n",
        "      <th>vartype1_ins</th>\n",
        "      <th>vartype1_mnp</th>\n",
        "      <th>vartype1_snp</th>\n",
        "      <th>...</th>\n",
        "      <th>CGA_CEHQ_1</th>\n",
        "      <th>CGA_CEHQ_2</th>\n",
        "      <th>AD_1</th>\n",
        "      <th>AD_2</th>\n",
        "      <th>CGA_RPT</th>\n",
        "      <th>multiallele</th>\n",
        "      <th>lr_prob1</th>\n",
        "      <th>rf_prob1</th>\n",
        "      <th>gbc_prob1</th>\n",
        "      <th>truth</th>\n",
        "    </tr>\n",
        "  </thead>\n",
        "  <tbody>\n",
        "    <tr>\n",
        "      <th>count</th>\n",
        "      <td> 3391569.000000</td>\n",
        "      <td> 3391569.000000</td>\n",
        "      <td> 3391569.000000</td>\n",
        "      <td> 3391569.000000</td>\n",
        "      <td> 3391569.000000</td>\n",
        "      <td> 3391569.000000</td>\n",
        "      <td> 3391569.000000</td>\n",
        "      <td> 3391569.000000</td>\n",
        "      <td> 3391569.000000</td>\n",
        "      <td> 3391569.000000</td>\n",
        "      <td>...</td>\n",
        "      <td> 3391569.000000</td>\n",
        "      <td> 3391569.000000</td>\n",
        "      <td> 3391569.000000</td>\n",
        "      <td> 3391569.000000</td>\n",
        "      <td> 3391569.000000</td>\n",
        "      <td> 3391569.000000</td>\n",
        "      <td> 3.391569e+06</td>\n",
        "      <td> 3391569.000000</td>\n",
        "      <td> 3391569.000000</td>\n",
        "      <td> 3391569.000000</td>\n",
        "    </tr>\n",
        "    <tr>\n",
        "      <th>mean</th>\n",
        "      <td>       0.050790</td>\n",
        "      <td>     207.569432</td>\n",
        "      <td>      40.088433</td>\n",
        "      <td>      12.309128</td>\n",
        "      <td>       0.995796</td>\n",
        "      <td>       0.004204</td>\n",
        "      <td>       0.041478</td>\n",
        "      <td>       0.039370</td>\n",
        "      <td>       0.006994</td>\n",
        "      <td>       0.912158</td>\n",
        "      <td>...</td>\n",
        "      <td>      46.412337</td>\n",
        "      <td>      48.083596</td>\n",
        "      <td>      27.727612</td>\n",
        "      <td>      28.075075</td>\n",
        "      <td>       0.508612</td>\n",
        "      <td>       0.001443</td>\n",
        "      <td> 9.204016e-01</td>\n",
        "      <td>       0.934489</td>\n",
        "      <td>       0.931808</td>\n",
        "      <td>       0.983228</td>\n",
        "    </tr>\n",
        "    <tr>\n",
        "      <th>std</th>\n",
        "      <td>       0.727428</td>\n",
        "      <td>     135.293673</td>\n",
        "      <td>      13.518597</td>\n",
        "      <td>      11.456422</td>\n",
        "      <td>       0.064699</td>\n",
        "      <td>       0.064699</td>\n",
        "      <td>       0.199394</td>\n",
        "      <td>       0.194474</td>\n",
        "      <td>       0.083334</td>\n",
        "      <td>       0.283065</td>\n",
        "      <td>...</td>\n",
        "      <td>       6.677852</td>\n",
        "      <td>       6.264716</td>\n",
        "      <td>      14.185007</td>\n",
        "      <td>      14.033077</td>\n",
        "      <td>       0.499926</td>\n",
        "      <td>       0.037955</td>\n",
        "      <td> 8.603807e-02</td>\n",
        "      <td>       0.104455</td>\n",
        "      <td>       0.085143</td>\n",
        "      <td>       0.128417</td>\n",
        "    </tr>\n",
        "    <tr>\n",
        "      <th>min</th>\n",
        "      <td>       0.000000</td>\n",
        "      <td>      10.000000</td>\n",
        "      <td>       1.000000</td>\n",
        "      <td>       0.000000</td>\n",
        "      <td>       0.000000</td>\n",
        "      <td>       0.000000</td>\n",
        "      <td>       0.000000</td>\n",
        "      <td>       0.000000</td>\n",
        "      <td>       0.000000</td>\n",
        "      <td>       0.000000</td>\n",
        "      <td>...</td>\n",
        "      <td>       0.000000</td>\n",
        "      <td>       0.000000</td>\n",
        "      <td>       0.000000</td>\n",
        "      <td>       0.000000</td>\n",
        "      <td>       0.000000</td>\n",
        "      <td>       0.000000</td>\n",
        "      <td> 4.162189e-20</td>\n",
        "      <td>       0.000000</td>\n",
        "      <td>       0.002402</td>\n",
        "      <td>       0.000000</td>\n",
        "    </tr>\n",
        "    <tr>\n",
        "      <th>25%</th>\n",
        "      <td>       0.000000</td>\n",
        "      <td>      97.000000</td>\n",
        "      <td>      31.000000</td>\n",
        "      <td>       0.000000</td>\n",
        "      <td>       1.000000</td>\n",
        "      <td>       0.000000</td>\n",
        "      <td>       0.000000</td>\n",
        "      <td>       0.000000</td>\n",
        "      <td>       0.000000</td>\n",
        "      <td>       1.000000</td>\n",
        "      <td>...</td>\n",
        "      <td>      43.000000</td>\n",
        "      <td>      46.000000</td>\n",
        "      <td>      17.000000</td>\n",
        "      <td>      18.000000</td>\n",
        "      <td>       0.000000</td>\n",
        "      <td>       0.000000</td>\n",
        "      <td> 9.038109e-01</td>\n",
        "      <td>       0.919224</td>\n",
        "      <td>       0.926348</td>\n",
        "      <td>       1.000000</td>\n",
        "    </tr>\n",
        "    <tr>\n",
        "      <th>50%</th>\n",
        "      <td>       0.000000</td>\n",
        "      <td>     171.000000</td>\n",
        "      <td>      39.000000</td>\n",
        "      <td>      13.000000</td>\n",
        "      <td>       1.000000</td>\n",
        "      <td>       0.000000</td>\n",
        "      <td>       0.000000</td>\n",
        "      <td>       0.000000</td>\n",
        "      <td>       0.000000</td>\n",
        "      <td>       1.000000</td>\n",
        "      <td>...</td>\n",
        "      <td>      49.000000</td>\n",
        "      <td>      50.000000</td>\n",
        "      <td>      24.000000</td>\n",
        "      <td>      25.000000</td>\n",
        "      <td>       1.000000</td>\n",
        "      <td>       0.000000</td>\n",
        "      <td> 9.523961e-01</td>\n",
        "      <td>       0.978450</td>\n",
        "      <td>       0.964980</td>\n",
        "      <td>       1.000000</td>\n",
        "    </tr>\n",
        "    <tr>\n",
        "      <th>75%</th>\n",
        "      <td>       0.000000</td>\n",
        "      <td>     300.000000</td>\n",
        "      <td>      49.000000</td>\n",
        "      <td>      22.000000</td>\n",
        "      <td>       1.000000</td>\n",
        "      <td>       0.000000</td>\n",
        "      <td>       0.000000</td>\n",
        "      <td>       0.000000</td>\n",
        "      <td>       0.000000</td>\n",
        "      <td>       1.000000</td>\n",
        "      <td>...</td>\n",
        "      <td>      52.000000</td>\n",
        "      <td>      53.000000</td>\n",
        "      <td>      36.000000</td>\n",
        "      <td>      36.000000</td>\n",
        "      <td>       1.000000</td>\n",
        "      <td>       0.000000</td>\n",
        "      <td> 9.714290e-01</td>\n",
        "      <td>       0.996000</td>\n",
        "      <td>       0.975699</td>\n",
        "      <td>       1.000000</td>\n",
        "    </tr>\n",
        "    <tr>\n",
        "      <th>max</th>\n",
        "      <td>     231.000000</td>\n",
        "      <td>    3161.000000</td>\n",
        "      <td>     913.000000</td>\n",
        "      <td>     164.000000</td>\n",
        "      <td>       1.000000</td>\n",
        "      <td>       1.000000</td>\n",
        "      <td>       1.000000</td>\n",
        "      <td>       1.000000</td>\n",
        "      <td>       1.000000</td>\n",
        "      <td>       1.000000</td>\n",
        "      <td>...</td>\n",
        "      <td>      57.000000</td>\n",
        "      <td>      57.000000</td>\n",
        "      <td>     900.000000</td>\n",
        "      <td>     900.000000</td>\n",
        "      <td>       1.000000</td>\n",
        "      <td>       1.000000</td>\n",
        "      <td> 1.000000e+00</td>\n",
        "      <td>       1.000000</td>\n",
        "      <td>       0.986483</td>\n",
        "      <td>       1.000000</td>\n",
        "    </tr>\n",
        "  </tbody>\n",
        "</table>\n",
        "<p>8 rows \u00d7 45 columns</p>\n",
        "</div>"
       ],
       "metadata": {},
       "output_type": "pyout",
       "prompt_number": 255,
       "text": [
        "              CGA_SDO              GQ              DP         CGA_RDP  \\\n",
        "count  3391569.000000  3391569.000000  3391569.000000  3391569.000000   \n",
        "mean         0.050790      207.569432       40.088433       12.309128   \n",
        "std          0.727428      135.293673       13.518597       11.456422   \n",
        "min          0.000000       10.000000        1.000000        0.000000   \n",
        "25%          0.000000       97.000000       31.000000        0.000000   \n",
        "50%          0.000000      171.000000       39.000000       13.000000   \n",
        "75%          0.000000      300.000000       49.000000       22.000000   \n",
        "max        231.000000     3161.000000      913.000000      164.000000   \n",
        "\n",
        "              FT_PASS        FT_VQLOW    vartype1_del    vartype1_ins  \\\n",
        "count  3391569.000000  3391569.000000  3391569.000000  3391569.000000   \n",
        "mean         0.995796        0.004204        0.041478        0.039370   \n",
        "std          0.064699        0.064699        0.199394        0.194474   \n",
        "min          0.000000        0.000000        0.000000        0.000000   \n",
        "25%          1.000000        0.000000        0.000000        0.000000   \n",
        "50%          1.000000        0.000000        0.000000        0.000000   \n",
        "75%          1.000000        0.000000        0.000000        0.000000   \n",
        "max          1.000000        1.000000        1.000000        1.000000   \n",
        "\n",
        "         vartype1_mnp    vartype1_snp       ...            CGA_CEHQ_1  \\\n",
        "count  3391569.000000  3391569.000000       ...        3391569.000000   \n",
        "mean         0.006994        0.912158       ...             46.412337   \n",
        "std          0.083334        0.283065       ...              6.677852   \n",
        "min          0.000000        0.000000       ...              0.000000   \n",
        "25%          0.000000        1.000000       ...             43.000000   \n",
        "50%          0.000000        1.000000       ...             49.000000   \n",
        "75%          0.000000        1.000000       ...             52.000000   \n",
        "max          1.000000        1.000000       ...             57.000000   \n",
        "\n",
        "           CGA_CEHQ_2            AD_1            AD_2         CGA_RPT  \\\n",
        "count  3391569.000000  3391569.000000  3391569.000000  3391569.000000   \n",
        "mean        48.083596       27.727612       28.075075        0.508612   \n",
        "std          6.264716       14.185007       14.033077        0.499926   \n",
        "min          0.000000        0.000000        0.000000        0.000000   \n",
        "25%         46.000000       17.000000       18.000000        0.000000   \n",
        "50%         50.000000       24.000000       25.000000        1.000000   \n",
        "75%         53.000000       36.000000       36.000000        1.000000   \n",
        "max         57.000000      900.000000      900.000000        1.000000   \n",
        "\n",
        "          multiallele      lr_prob1        rf_prob1       gbc_prob1  \\\n",
        "count  3391569.000000  3.391569e+06  3391569.000000  3391569.000000   \n",
        "mean         0.001443  9.204016e-01        0.934489        0.931808   \n",
        "std          0.037955  8.603807e-02        0.104455        0.085143   \n",
        "min          0.000000  4.162189e-20        0.000000        0.002402   \n",
        "25%          0.000000  9.038109e-01        0.919224        0.926348   \n",
        "50%          0.000000  9.523961e-01        0.978450        0.964980   \n",
        "75%          0.000000  9.714290e-01        0.996000        0.975699   \n",
        "max          1.000000  1.000000e+00        1.000000        0.986483   \n",
        "\n",
        "                truth  \n",
        "count  3391569.000000  \n",
        "mean         0.983228  \n",
        "std          0.128417  \n",
        "min          0.000000  \n",
        "25%          1.000000  \n",
        "50%          1.000000  \n",
        "75%          1.000000  \n",
        "max          1.000000  \n",
        "\n",
        "[8 rows x 45 columns]"
       ]
      }
     ],
     "prompt_number": 255
    },
    {
     "cell_type": "code",
     "collapsed": false,
     "input": [
      "test_set_annotated_filtered.describe()"
     ],
     "language": "python",
     "metadata": {},
     "outputs": [
      {
       "html": [
        "<div style=\"max-height:1000px;max-width:1500px;overflow:auto;\">\n",
        "<table border=\"1\" class=\"dataframe\">\n",
        "  <thead>\n",
        "    <tr style=\"text-align: right;\">\n",
        "      <th></th>\n",
        "      <th>CGA_SDO</th>\n",
        "      <th>GQ</th>\n",
        "      <th>DP</th>\n",
        "      <th>CGA_RDP</th>\n",
        "      <th>FT_PASS</th>\n",
        "      <th>FT_VQLOW</th>\n",
        "      <th>vartype1_del</th>\n",
        "      <th>vartype1_ins</th>\n",
        "      <th>vartype1_mnp</th>\n",
        "      <th>vartype1_snp</th>\n",
        "      <th>...</th>\n",
        "      <th>CGA_CEHQ_1</th>\n",
        "      <th>CGA_CEHQ_2</th>\n",
        "      <th>AD_1</th>\n",
        "      <th>AD_2</th>\n",
        "      <th>CGA_RPT</th>\n",
        "      <th>multiallele</th>\n",
        "      <th>lr_prob1</th>\n",
        "      <th>rf_prob1</th>\n",
        "      <th>gbc_prob1</th>\n",
        "      <th>truth</th>\n",
        "    </tr>\n",
        "  </thead>\n",
        "  <tbody>\n",
        "    <tr>\n",
        "      <th>count</th>\n",
        "      <td> 478791.000000</td>\n",
        "      <td> 478791.000000</td>\n",
        "      <td> 478791.000000</td>\n",
        "      <td> 478791.000000</td>\n",
        "      <td> 478791.000000</td>\n",
        "      <td> 478791.000000</td>\n",
        "      <td> 478791.000000</td>\n",
        "      <td> 478791.000000</td>\n",
        "      <td> 478791.000000</td>\n",
        "      <td> 478791.000000</td>\n",
        "      <td>...</td>\n",
        "      <td> 478791.000000</td>\n",
        "      <td> 478791.000000</td>\n",
        "      <td> 478791.000000</td>\n",
        "      <td> 478791.000000</td>\n",
        "      <td> 478791.000000</td>\n",
        "      <td> 478791.000000</td>\n",
        "      <td> 4.787910e+05</td>\n",
        "      <td> 478791.000000</td>\n",
        "      <td> 478791.000000</td>\n",
        "      <td> 478791.000000</td>\n",
        "    </tr>\n",
        "    <tr>\n",
        "      <th>mean</th>\n",
        "      <td>      0.642050</td>\n",
        "      <td>   -198.217237</td>\n",
        "      <td>     33.853863</td>\n",
        "      <td>     15.409350</td>\n",
        "      <td>      0.668087</td>\n",
        "      <td>      0.331913</td>\n",
        "      <td>      0.231811</td>\n",
        "      <td>      0.210689</td>\n",
        "      <td>      0.047935</td>\n",
        "      <td>      0.509565</td>\n",
        "      <td>...</td>\n",
        "      <td>     10.704706</td>\n",
        "      <td>   -257.506854</td>\n",
        "      <td>      6.910566</td>\n",
        "      <td>   -260.603783</td>\n",
        "      <td>      0.700379</td>\n",
        "      <td>      0.026331</td>\n",
        "      <td> 2.092720e-01</td>\n",
        "      <td>      0.208273</td>\n",
        "      <td>      0.205766</td>\n",
        "      <td>      0.370243</td>\n",
        "    </tr>\n",
        "    <tr>\n",
        "      <th>std</th>\n",
        "      <td>      2.816854</td>\n",
        "      <td>    533.664865</td>\n",
        "      <td>     31.741194</td>\n",
        "      <td>     19.435398</td>\n",
        "      <td>      0.470900</td>\n",
        "      <td>      0.470900</td>\n",
        "      <td>      0.421989</td>\n",
        "      <td>      0.407798</td>\n",
        "      <td>      0.213630</td>\n",
        "      <td>      0.499909</td>\n",
        "      <td>...</td>\n",
        "      <td>    102.986726</td>\n",
        "      <td>    460.157909</td>\n",
        "      <td>    103.240368</td>\n",
        "      <td>    458.372695</td>\n",
        "      <td>      0.458093</td>\n",
        "      <td>      0.160118</td>\n",
        "      <td> 2.331011e-01</td>\n",
        "      <td>      0.232303</td>\n",
        "      <td>      0.226560</td>\n",
        "      <td>      0.482870</td>\n",
        "    </tr>\n",
        "    <tr>\n",
        "      <th>min</th>\n",
        "      <td>      0.000000</td>\n",
        "      <td>   -999.000000</td>\n",
        "      <td>      1.000000</td>\n",
        "      <td>      0.000000</td>\n",
        "      <td>      0.000000</td>\n",
        "      <td>      0.000000</td>\n",
        "      <td>      0.000000</td>\n",
        "      <td>      0.000000</td>\n",
        "      <td>      0.000000</td>\n",
        "      <td>      0.000000</td>\n",
        "      <td>...</td>\n",
        "      <td>   -999.000000</td>\n",
        "      <td>   -999.000000</td>\n",
        "      <td>   -999.000000</td>\n",
        "      <td>   -999.000000</td>\n",
        "      <td>      0.000000</td>\n",
        "      <td>      0.000000</td>\n",
        "      <td> 3.186312e-89</td>\n",
        "      <td>      0.000000</td>\n",
        "      <td>      0.000854</td>\n",
        "      <td>      0.000000</td>\n",
        "    </tr>\n",
        "    <tr>\n",
        "      <th>25%</th>\n",
        "      <td>      0.000000</td>\n",
        "      <td>   -999.000000</td>\n",
        "      <td>     15.000000</td>\n",
        "      <td>      1.000000</td>\n",
        "      <td>      0.000000</td>\n",
        "      <td>      0.000000</td>\n",
        "      <td>      0.000000</td>\n",
        "      <td>      0.000000</td>\n",
        "      <td>      0.000000</td>\n",
        "      <td>      0.000000</td>\n",
        "      <td>...</td>\n",
        "      <td>      7.000000</td>\n",
        "      <td>   -999.000000</td>\n",
        "      <td>      6.000000</td>\n",
        "      <td>   -999.000000</td>\n",
        "      <td>      0.000000</td>\n",
        "      <td>      0.000000</td>\n",
        "      <td> 1.493316e-66</td>\n",
        "      <td>      0.000000</td>\n",
        "      <td>      0.005054</td>\n",
        "      <td>      0.000000</td>\n",
        "    </tr>\n",
        "    <tr>\n",
        "      <th>50%</th>\n",
        "      <td>      0.000000</td>\n",
        "      <td>     29.000000</td>\n",
        "      <td>     25.000000</td>\n",
        "      <td>      9.000000</td>\n",
        "      <td>      1.000000</td>\n",
        "      <td>      0.000000</td>\n",
        "      <td>      0.000000</td>\n",
        "      <td>      0.000000</td>\n",
        "      <td>      0.000000</td>\n",
        "      <td>      1.000000</td>\n",
        "      <td>...</td>\n",
        "      <td>     20.000000</td>\n",
        "      <td>     19.000000</td>\n",
        "      <td>     11.000000</td>\n",
        "      <td>     12.000000</td>\n",
        "      <td>      1.000000</td>\n",
        "      <td>      0.000000</td>\n",
        "      <td> 9.520249e-02</td>\n",
        "      <td>      0.101581</td>\n",
        "      <td>      0.097440</td>\n",
        "      <td>      0.000000</td>\n",
        "    </tr>\n",
        "    <tr>\n",
        "      <th>75%</th>\n",
        "      <td>      0.000000</td>\n",
        "      <td>     80.000000</td>\n",
        "      <td>     43.000000</td>\n",
        "      <td>     24.000000</td>\n",
        "      <td>      1.000000</td>\n",
        "      <td>      1.000000</td>\n",
        "      <td>      0.000000</td>\n",
        "      <td>      0.000000</td>\n",
        "      <td>      0.000000</td>\n",
        "      <td>      1.000000</td>\n",
        "      <td>...</td>\n",
        "      <td>     33.000000</td>\n",
        "      <td>     34.000000</td>\n",
        "      <td>     21.000000</td>\n",
        "      <td>     26.000000</td>\n",
        "      <td>      1.000000</td>\n",
        "      <td>      0.000000</td>\n",
        "      <td> 4.067809e-01</td>\n",
        "      <td>      0.406099</td>\n",
        "      <td>      0.395443</td>\n",
        "      <td>      1.000000</td>\n",
        "    </tr>\n",
        "    <tr>\n",
        "      <th>max</th>\n",
        "      <td>    229.000000</td>\n",
        "      <td>   4919.000000</td>\n",
        "      <td>    701.000000</td>\n",
        "      <td>    508.000000</td>\n",
        "      <td>      1.000000</td>\n",
        "      <td>      1.000000</td>\n",
        "      <td>      1.000000</td>\n",
        "      <td>      1.000000</td>\n",
        "      <td>      1.000000</td>\n",
        "      <td>      1.000000</td>\n",
        "      <td>...</td>\n",
        "      <td>     57.000000</td>\n",
        "      <td>     57.000000</td>\n",
        "      <td>    541.000000</td>\n",
        "      <td>    508.000000</td>\n",
        "      <td>      1.000000</td>\n",
        "      <td>      1.000000</td>\n",
        "      <td> 7.199970e-01</td>\n",
        "      <td>      0.719998</td>\n",
        "      <td>      0.719999</td>\n",
        "      <td>      1.000000</td>\n",
        "    </tr>\n",
        "  </tbody>\n",
        "</table>\n",
        "<p>8 rows \u00d7 45 columns</p>\n",
        "</div>"
       ],
       "metadata": {},
       "output_type": "pyout",
       "prompt_number": 252,
       "text": [
        "             CGA_SDO             GQ             DP        CGA_RDP  \\\n",
        "count  478791.000000  478791.000000  478791.000000  478791.000000   \n",
        "mean        0.642050    -198.217237      33.853863      15.409350   \n",
        "std         2.816854     533.664865      31.741194      19.435398   \n",
        "min         0.000000    -999.000000       1.000000       0.000000   \n",
        "25%         0.000000    -999.000000      15.000000       1.000000   \n",
        "50%         0.000000      29.000000      25.000000       9.000000   \n",
        "75%         0.000000      80.000000      43.000000      24.000000   \n",
        "max       229.000000    4919.000000     701.000000     508.000000   \n",
        "\n",
        "             FT_PASS       FT_VQLOW   vartype1_del   vartype1_ins  \\\n",
        "count  478791.000000  478791.000000  478791.000000  478791.000000   \n",
        "mean        0.668087       0.331913       0.231811       0.210689   \n",
        "std         0.470900       0.470900       0.421989       0.407798   \n",
        "min         0.000000       0.000000       0.000000       0.000000   \n",
        "25%         0.000000       0.000000       0.000000       0.000000   \n",
        "50%         1.000000       0.000000       0.000000       0.000000   \n",
        "75%         1.000000       1.000000       0.000000       0.000000   \n",
        "max         1.000000       1.000000       1.000000       1.000000   \n",
        "\n",
        "        vartype1_mnp   vartype1_snp      ...           CGA_CEHQ_1  \\\n",
        "count  478791.000000  478791.000000      ...        478791.000000   \n",
        "mean        0.047935       0.509565      ...            10.704706   \n",
        "std         0.213630       0.499909      ...           102.986726   \n",
        "min         0.000000       0.000000      ...          -999.000000   \n",
        "25%         0.000000       0.000000      ...             7.000000   \n",
        "50%         0.000000       1.000000      ...            20.000000   \n",
        "75%         0.000000       1.000000      ...            33.000000   \n",
        "max         1.000000       1.000000      ...            57.000000   \n",
        "\n",
        "          CGA_CEHQ_2           AD_1           AD_2        CGA_RPT  \\\n",
        "count  478791.000000  478791.000000  478791.000000  478791.000000   \n",
        "mean     -257.506854       6.910566    -260.603783       0.700379   \n",
        "std       460.157909     103.240368     458.372695       0.458093   \n",
        "min      -999.000000    -999.000000    -999.000000       0.000000   \n",
        "25%      -999.000000       6.000000    -999.000000       0.000000   \n",
        "50%        19.000000      11.000000      12.000000       1.000000   \n",
        "75%        34.000000      21.000000      26.000000       1.000000   \n",
        "max        57.000000     541.000000     508.000000       1.000000   \n",
        "\n",
        "         multiallele      lr_prob1       rf_prob1      gbc_prob1  \\\n",
        "count  478791.000000  4.787910e+05  478791.000000  478791.000000   \n",
        "mean        0.026331  2.092720e-01       0.208273       0.205766   \n",
        "std         0.160118  2.331011e-01       0.232303       0.226560   \n",
        "min         0.000000  3.186312e-89       0.000000       0.000854   \n",
        "25%         0.000000  1.493316e-66       0.000000       0.005054   \n",
        "50%         0.000000  9.520249e-02       0.101581       0.097440   \n",
        "75%         0.000000  4.067809e-01       0.406099       0.395443   \n",
        "max         1.000000  7.199970e-01       0.719998       0.719999   \n",
        "\n",
        "               truth  \n",
        "count  478791.000000  \n",
        "mean        0.370243  \n",
        "std         0.482870  \n",
        "min         0.000000  \n",
        "25%         0.000000  \n",
        "50%         0.000000  \n",
        "75%         1.000000  \n",
        "max         1.000000  \n",
        "\n",
        "[8 rows x 45 columns]"
       ]
      }
     ],
     "prompt_number": 252
    },
    {
     "cell_type": "code",
     "collapsed": false,
     "input": [
      "test_set_annotated_pass.multiallele.value_counts()"
     ],
     "language": "python",
     "metadata": {},
     "outputs": [
      {
       "metadata": {},
       "output_type": "pyout",
       "prompt_number": 275,
       "text": [
        "0    3386676\n",
        "1       4893\n",
        "dtype: int64"
       ]
      }
     ],
     "prompt_number": 275
    },
    {
     "cell_type": "code",
     "collapsed": false,
     "input": [
      "test_set_annotated_filtered.multiallele.value_counts()"
     ],
     "language": "python",
     "metadata": {},
     "outputs": [
      {
       "metadata": {},
       "output_type": "pyout",
       "prompt_number": 276,
       "text": [
        "0    478603\n",
        "1     12836\n",
        "dtype: int64"
       ]
      }
     ],
     "prompt_number": 276
    },
    {
     "cell_type": "code",
     "collapsed": false,
     "input": [
      "def categ_test(a, b, col):\n",
      "    total_a = a[col].value_counts().values\n",
      "    \n",
      "    total_b = b[col].value_counts().values\n",
      "    \n",
      "    return stats.fisher_exact(zip(total_a, total_b))"
     ],
     "language": "python",
     "metadata": {},
     "outputs": [],
     "prompt_number": 269
    },
    {
     "cell_type": "code",
     "collapsed": false,
     "input": [
      "print categ_test(test_set_annotated_pass, test_set_annotated_filtered, 'CGA_RPT')\n",
      "print categ_test(test_set_annotated_pass, test_set_annotated_filtered, 'multiallele')"
     ],
     "language": "python",
     "metadata": {},
     "outputs": [
      {
       "output_type": "stream",
       "stream": "stdout",
       "text": [
        "(0.44519900732300732, 0.0)\n",
        "(18.56319497457072, 0.0)"
       ]
      },
      {
       "output_type": "stream",
       "stream": "stdout",
       "text": [
        "\n"
       ]
      }
     ],
     "prompt_number": 274
    },
    {
     "cell_type": "code",
     "collapsed": false,
     "input": [],
     "language": "python",
     "metadata": {},
     "outputs": []
    },
    {
     "cell_type": "heading",
     "level": 3,
     "metadata": {},
     "source": [
      "Ensemble Classifier - No Better"
     ]
    },
    {
     "cell_type": "code",
     "collapsed": false,
     "input": [
      "\n",
      "ensemble_gbc = ensemble.GradientBoostingClassifier(n_estimators=150, subsample=1, verbose=1)"
     ],
     "language": "python",
     "metadata": {},
     "outputs": [],
     "prompt_number": 245
    },
    {
     "cell_type": "code",
     "collapsed": false,
     "input": [
      "random_sample_ensemble = random.sample(test_set_annotated.index, 150000)"
     ],
     "language": "python",
     "metadata": {},
     "outputs": [],
     "prompt_number": 239
    },
    {
     "cell_type": "code",
     "collapsed": false,
     "input": [
      "test_set_annotated_random = test_set_annotated[test_set_annotated.index.isin(random_sample_ensemble)]"
     ],
     "language": "python",
     "metadata": {},
     "outputs": [],
     "prompt_number": 240
    },
    {
     "cell_type": "code",
     "collapsed": false,
     "input": [
      "ensemble_gbc = ensemble_gbc.fit(test_set_annotated_random[['lr_prob1', 'rf_prob1']], test_set_annotated_random['truth'].values)\n"
     ],
     "language": "python",
     "metadata": {},
     "outputs": [
      {
       "output_type": "stream",
       "stream": "stdout",
       "text": [
        "      Iter       Train Loss   Remaining Time \n",
        "         1           0.4935           46.31s"
       ]
      },
      {
       "output_type": "stream",
       "stream": "stdout",
       "text": [
        "\n",
        "         2           0.4398           45.06s"
       ]
      },
      {
       "output_type": "stream",
       "stream": "stdout",
       "text": [
        "\n",
        "         3           0.4023           43.71s"
       ]
      },
      {
       "output_type": "stream",
       "stream": "stdout",
       "text": [
        "\n",
        "         4           0.3735           43.08s"
       ]
      },
      {
       "output_type": "stream",
       "stream": "stdout",
       "text": [
        "\n",
        "         5           0.3504           42.42s"
       ]
      },
      {
       "output_type": "stream",
       "stream": "stdout",
       "text": [
        "\n",
        "         6           0.3314           41.77s"
       ]
      },
      {
       "output_type": "stream",
       "stream": "stdout",
       "text": [
        "\n",
        "         7           0.3153           41.21s"
       ]
      },
      {
       "output_type": "stream",
       "stream": "stdout",
       "text": [
        "\n",
        "         8           0.3019           40.87s"
       ]
      },
      {
       "output_type": "stream",
       "stream": "stdout",
       "text": [
        "\n",
        "         9           0.2905           40.48s"
       ]
      },
      {
       "output_type": "stream",
       "stream": "stdout",
       "text": [
        "\n",
        "        10           0.2804           40.07s"
       ]
      },
      {
       "output_type": "stream",
       "stream": "stdout",
       "text": [
        "\n",
        "        20           0.2294           36.90s"
       ]
      },
      {
       "output_type": "stream",
       "stream": "stdout",
       "text": [
        "\n",
        "        30           0.2148           34.35s"
       ]
      },
      {
       "output_type": "stream",
       "stream": "stdout",
       "text": [
        "\n",
        "        40           0.2100           31.76s"
       ]
      },
      {
       "output_type": "stream",
       "stream": "stdout",
       "text": [
        "\n",
        "        50           0.2084           28.92s"
       ]
      },
      {
       "output_type": "stream",
       "stream": "stdout",
       "text": [
        "\n",
        "        60           0.2073           25.87s"
       ]
      },
      {
       "output_type": "stream",
       "stream": "stdout",
       "text": [
        "\n",
        "        70           0.2065           22.90s"
       ]
      },
      {
       "output_type": "stream",
       "stream": "stdout",
       "text": [
        "\n",
        "        80           0.2058           19.89s"
       ]
      },
      {
       "output_type": "stream",
       "stream": "stdout",
       "text": [
        "\n",
        "        90           0.2053           16.99s"
       ]
      },
      {
       "output_type": "stream",
       "stream": "stdout",
       "text": [
        "\n",
        "       100           0.2045           14.12s"
       ]
      },
      {
       "output_type": "stream",
       "stream": "stdout",
       "text": [
        "\n"
       ]
      }
     ],
     "prompt_number": 246
    },
    {
     "cell_type": "code",
     "collapsed": false,
     "input": [
      "test_set_annotated[['lr_prob1', 'rf_prob1', 'gbc_prob1']].corr()"
     ],
     "language": "python",
     "metadata": {},
     "outputs": [
      {
       "html": [
        "<div style=\"max-height:1000px;max-width:1500px;overflow:auto;\">\n",
        "<table border=\"1\" class=\"dataframe\">\n",
        "  <thead>\n",
        "    <tr style=\"text-align: right;\">\n",
        "      <th></th>\n",
        "      <th>lr_prob1</th>\n",
        "      <th>rf_prob1</th>\n",
        "      <th>gbc_prob1</th>\n",
        "    </tr>\n",
        "  </thead>\n",
        "  <tbody>\n",
        "    <tr>\n",
        "      <th>lr_prob1</th>\n",
        "      <td> 1.000000</td>\n",
        "      <td> 0.921489</td>\n",
        "      <td> 0.953508</td>\n",
        "    </tr>\n",
        "    <tr>\n",
        "      <th>rf_prob1</th>\n",
        "      <td> 0.921489</td>\n",
        "      <td> 1.000000</td>\n",
        "      <td> 0.960216</td>\n",
        "    </tr>\n",
        "    <tr>\n",
        "      <th>gbc_prob1</th>\n",
        "      <td> 0.953508</td>\n",
        "      <td> 0.960216</td>\n",
        "      <td> 1.000000</td>\n",
        "    </tr>\n",
        "  </tbody>\n",
        "</table>\n",
        "</div>"
       ],
       "metadata": {},
       "output_type": "pyout",
       "prompt_number": 244,
       "text": [
        "           lr_prob1  rf_prob1  gbc_prob1\n",
        "lr_prob1   1.000000  0.921489   0.953508\n",
        "rf_prob1   0.921489  1.000000   0.960216\n",
        "gbc_prob1  0.953508  0.960216   1.000000"
       ]
      }
     ],
     "prompt_number": 244
    },
    {
     "cell_type": "code",
     "collapsed": false,
     "input": [
      "ensemble_gbc.score(test_set_annotated[['lr_prob1', 'rf_prob1']], test_set_annotated['truth'].values)"
     ],
     "language": "python",
     "metadata": {},
     "outputs": [
      {
       "metadata": {},
       "output_type": "pyout",
       "prompt_number": 248,
       "text": [
        "0.96567635194158752"
       ]
      }
     ],
     "prompt_number": 248
    },
    {
     "cell_type": "code",
     "collapsed": false,
     "input": [
      "test_set_annotated[['lr_prob1', 'rf_prob1', 'gbc_prob1', 'truth']].head(5)"
     ],
     "language": "python",
     "metadata": {},
     "outputs": [
      {
       "html": [
        "<div style=\"max-height:1000px;max-width:1500px;overflow:auto;\">\n",
        "<table border=\"1\" class=\"dataframe\">\n",
        "  <thead>\n",
        "    <tr style=\"text-align: right;\">\n",
        "      <th></th>\n",
        "      <th></th>\n",
        "      <th></th>\n",
        "      <th></th>\n",
        "      <th>lr_prob1</th>\n",
        "      <th>rf_prob1</th>\n",
        "      <th>gbc_prob1</th>\n",
        "      <th>truth</th>\n",
        "    </tr>\n",
        "    <tr>\n",
        "      <th>CHROM</th>\n",
        "      <th>POS</th>\n",
        "      <th>REF</th>\n",
        "      <th>ALT</th>\n",
        "      <th></th>\n",
        "      <th></th>\n",
        "      <th></th>\n",
        "      <th></th>\n",
        "    </tr>\n",
        "  </thead>\n",
        "  <tbody>\n",
        "    <tr>\n",
        "      <th rowspan=\"5\" valign=\"top\">1</th>\n",
        "      <th>52238 </th>\n",
        "      <th>T</th>\n",
        "      <th>G</th>\n",
        "      <td> 0.791171</td>\n",
        "      <td> 0.034819</td>\n",
        "      <td> 0.135191</td>\n",
        "      <td> 1</td>\n",
        "    </tr>\n",
        "    <tr>\n",
        "      <th>55926 </th>\n",
        "      <th>T</th>\n",
        "      <th>C</th>\n",
        "      <td> 0.853695</td>\n",
        "      <td> 0.196614</td>\n",
        "      <td> 0.273670</td>\n",
        "      <td> 1</td>\n",
        "    </tr>\n",
        "    <tr>\n",
        "      <th>57952 </th>\n",
        "      <th>A</th>\n",
        "      <th>C</th>\n",
        "      <td> 0.855609</td>\n",
        "      <td> 0.045643</td>\n",
        "      <td> 0.285187</td>\n",
        "      <td> 1</td>\n",
        "    </tr>\n",
        "    <tr>\n",
        "      <th>61442 </th>\n",
        "      <th>A</th>\n",
        "      <th>G</th>\n",
        "      <td> 0.858367</td>\n",
        "      <td> 0.021957</td>\n",
        "      <td> 0.075106</td>\n",
        "      <td> 1</td>\n",
        "    </tr>\n",
        "    <tr>\n",
        "      <th>229673</th>\n",
        "      <th>A</th>\n",
        "      <th>C</th>\n",
        "      <td> 0.196407</td>\n",
        "      <td> 0.177967</td>\n",
        "      <td> 0.222930</td>\n",
        "      <td> 1</td>\n",
        "    </tr>\n",
        "  </tbody>\n",
        "</table>\n",
        "</div>"
       ],
       "metadata": {},
       "output_type": "pyout",
       "prompt_number": 249,
       "text": [
        "                      lr_prob1  rf_prob1  gbc_prob1  truth\n",
        "CHROM POS    REF ALT                                      \n",
        "1     52238  T   G    0.791171  0.034819   0.135191      1\n",
        "      55926  T   C    0.853695  0.196614   0.273670      1\n",
        "      57952  A   C    0.855609  0.045643   0.285187      1\n",
        "      61442  A   G    0.858367  0.021957   0.075106      1\n",
        "      229673 A   C    0.196407  0.177967   0.222930      1"
       ]
      }
     ],
     "prompt_number": 249
    },
    {
     "cell_type": "heading",
     "level": 1,
     "metadata": {},
     "source": [
      "VARIANT INTERSECTIONS"
     ]
    },
    {
     "cell_type": "code",
     "collapsed": false,
     "input": [
      "tri_I  = set(gbc_test_results_df_filtered.index) & set(rf_test_results_df_filtered.index) & set(LR_test_results_df_filtered.index)"
     ],
     "language": "python",
     "metadata": {},
     "outputs": [],
     "prompt_number": 216
    },
    {
     "cell_type": "code",
     "collapsed": false,
     "input": [
      "print len(tri_I)\n",
      "test_set_tri_I = test_set[test_set.index.isin(tri_I)]\n",
      "test_turth_tri_I = test_truth[test_truth.index.isin(tri_I)]\n",
      "test_set_tri_I = test_set_tri_I.join(test_turth_tri_I)\n",
      "del test_turth_tri_I"
     ],
     "language": "python",
     "metadata": {},
     "outputs": [
      {
       "output_type": "stream",
       "stream": "stdout",
       "text": [
        "3065416\n"
       ]
      }
     ],
     "prompt_number": 220
    },
    {
     "cell_type": "code",
     "collapsed": false,
     "input": [
      "test_turth_tri_I.truth.value_counts()"
     ],
     "language": "python",
     "metadata": {},
     "outputs": [
      {
       "metadata": {},
       "output_type": "pyout",
       "prompt_number": 219,
       "text": [
        "1    3035066\n",
        "0      30350\n",
        "dtype: int64"
       ]
      }
     ],
     "prompt_number": 219
    },
    {
     "cell_type": "code",
     "collapsed": false,
     "input": [
      "tri_I_tp  = set(gbc_test_results_df_filtered[gbc_test_results_df_filtered.truth==1].index) & set(rf_test_results_df_filtered.index) & set(LR_test_results_df_filtered.index)"
     ],
     "language": "python",
     "metadata": {},
     "outputs": []
    },
    {
     "cell_type": "heading",
     "level": 1,
     "metadata": {},
     "source": [
      "Retraining"
     ]
    },
    {
     "cell_type": "code",
     "collapsed": false,
     "input": [
      "def retrain(fp, tp):\n",
      "    retrain_fp = fp[fp.predictions==1]\n",
      "    retrain_tp = tp[tp.predictions==0]\n",
      "    del retrain_fp['predictions']\n",
      "    del retrain_tp['predictions']\n",
      "    retrain_df = retrain_tp.append(retrain_fp)\n",
      "    retrain_df_truth = retrain_df[['truth']]\n",
      "    del retrain_df['truth']\n",
      "    return retrain_df, retrain_df_truth"
     ],
     "language": "python",
     "metadata": {},
     "outputs": []
    },
    {
     "cell_type": "code",
     "collapsed": false,
     "input": [
      "retrain_df, retrain_df_truth = retrain(fp, tp)"
     ],
     "language": "python",
     "metadata": {},
     "outputs": []
    },
    {
     "cell_type": "code",
     "collapsed": false,
     "input": [
      "retrain_clf = clf.fit(retrain_df, retrain_df_truth.values)\n"
     ],
     "language": "python",
     "metadata": {},
     "outputs": []
    },
    {
     "cell_type": "code",
     "collapsed": false,
     "input": [
      "retrain_clf.oob_score_"
     ],
     "language": "python",
     "metadata": {},
     "outputs": []
    },
    {
     "cell_type": "code",
     "collapsed": false,
     "input": [
      "retrain_test_set_index = test_set[~test_set.index.isin(random_subset)].index\n",
      "retrain_test_set = test_set.ix[retrain_test_set_index]\n",
      "retrain_test_set_truth = test_truth.ix[retrain_test_set_index]\n"
     ],
     "language": "python",
     "metadata": {},
     "outputs": []
    },
    {
     "cell_type": "code",
     "collapsed": false,
     "input": [
      "fp,tp = get_fp_tp_predictions(retrain_test_set, retrain_test_set_truth, retrain_clf)"
     ],
     "language": "python",
     "metadata": {},
     "outputs": []
    },
    {
     "cell_type": "code",
     "collapsed": false,
     "input": [
      "retrain_clf.score(retrain_test_set, retrain_test_set_truth)"
     ],
     "language": "python",
     "metadata": {},
     "outputs": []
    },
    {
     "cell_type": "code",
     "collapsed": false,
     "input": [
      "fp.predictions.value_counts()"
     ],
     "language": "python",
     "metadata": {},
     "outputs": []
    },
    {
     "cell_type": "code",
     "collapsed": false,
     "input": [
      "tp.predictions.value_counts()"
     ],
     "language": "python",
     "metadata": {},
     "outputs": []
    },
    {
     "cell_type": "code",
     "collapsed": false,
     "input": [
      "tp.predictions.value_counts()"
     ],
     "language": "python",
     "metadata": {},
     "outputs": []
    },
    {
     "cell_type": "code",
     "collapsed": false,
     "input": [
      "print 'COMPLETE'"
     ],
     "language": "python",
     "metadata": {},
     "outputs": []
    },
    {
     "cell_type": "heading",
     "level": 1,
     "metadata": {},
     "source": [
      "Features Associated with Misclassified Variants"
     ]
    },
    {
     "cell_type": "code",
     "collapsed": false,
     "input": [
      "fp_misclass = fp.copy()\n",
      "fp['truth'] = fp['predictions']\n",
      "del fp['predictions']"
     ],
     "language": "python",
     "metadata": {},
     "outputs": []
    },
    {
     "cell_type": "code",
     "collapsed": false,
     "input": [
      "fp_columns_minus_truth = [i for i in fp.columns if i != 'truth']\n"
     ],
     "language": "python",
     "metadata": {},
     "outputs": []
    },
    {
     "cell_type": "code",
     "collapsed": false,
     "input": [
      "misclass_features = clf.fit(fp[fp_columns_minus_truth], fp['truth'])\n"
     ],
     "language": "python",
     "metadata": {},
     "outputs": []
    },
    {
     "cell_type": "code",
     "collapsed": false,
     "input": [
      "zip(fp[fp_columns_minus_truth].columns, misclass_features.feature_importances_)"
     ],
     "language": "python",
     "metadata": {},
     "outputs": []
    },
    {
     "cell_type": "code",
     "collapsed": false,
     "input": [
      "misclass_features.oob_score_"
     ],
     "language": "python",
     "metadata": {},
     "outputs": []
    },
    {
     "cell_type": "code",
     "collapsed": false,
     "input": [],
     "language": "python",
     "metadata": {},
     "outputs": []
    },
    {
     "cell_type": "heading",
     "level": 1,
     "metadata": {},
     "source": [
      "Function Code, aggregated in the above function preprocess_vcf_line"
     ]
    },
    {
     "cell_type": "heading",
     "level": 3,
     "metadata": {},
     "source": [
      "Numeric Field Formatting"
     ]
    },
    {
     "cell_type": "code",
     "collapsed": false,
     "input": [
      "numeric_features = ['CGA_SDO', 'GQ', 'DP', 'CGA_RDP']\n",
      "df_numeric = df.copy()\n",
      "df_numeric = df_numeric[numeric_features]\n",
      "for n in numeric_features:\n",
      "    df_numeric[n] = df_numeric[n].astype(float)\n",
      "df_numeric['CGA_SDO'].fillna(value=0, inplace=True)\n"
     ],
     "language": "python",
     "metadata": {},
     "outputs": []
    },
    {
     "cell_type": "heading",
     "level": 3,
     "metadata": {},
     "source": [
      "GL Field Formatting"
     ]
    },
    {
     "cell_type": "code",
     "collapsed": false,
     "input": [
      "def multiallele_GL_formatting(df, gl_col):\n",
      "    GL_df = pd.DataFrame.from_records([i.split(\",\") for i in df[gl_col]], columns=['AA_'+gl_col, 'AB_'+gl_col, 'BB_'+gl_col, 'AC_'+gl_col, 'BC_'+gl_col, 'CC_'+gl_col])\n",
      "    GL_df.index = df.index\n",
      "    GL_df.fillna(value=-999,inplace=True)\n",
      "    df = df.join(GL_df)\n",
      "    return df\n",
      "    "
     ],
     "language": "python",
     "metadata": {},
     "outputs": []
    },
    {
     "cell_type": "code",
     "collapsed": false,
     "input": [
      "\n",
      "geno_cols = ['GL', 'CGA_CEGL']\n",
      "\n",
      "df_geno = df.copy()\n",
      "df_geno = df_geno[geno_cols]\n",
      "for g_cols in geno_cols:\n",
      "    df_geno = multiallele_GL_formatting(df_geno, g_cols)\n",
      "    del df_geno[g_cols]"
     ],
     "language": "python",
     "metadata": {},
     "outputs": []
    },
    {
     "cell_type": "heading",
     "level": 3,
     "metadata": {},
     "source": [
      "Allele Field Formatting"
     ]
    },
    {
     "cell_type": "code",
     "collapsed": false,
     "input": [
      "def allele_col_formatting(df, al_col):\n",
      "    df[al_col + \"_1\"] = [int(i.split(\",\")[0]) if i.split(\",\")[0] != \".\" else -999 for i in df[al_col]]\n",
      "    df[al_col + \"_2\"] = [int(i.split(\",\")[1]) if i.split(\",\")[1] != \".\" else -999 for i in df[al_col]]\n",
      "    return df"
     ],
     "language": "python",
     "metadata": {},
     "outputs": []
    },
    {
     "cell_type": "code",
     "collapsed": false,
     "input": [
      "allele_cols = ['HQ', 'EHQ', 'CGA_CEHQ', 'AD']\n",
      "\n",
      "df_allele = df.copy()\n",
      "df_allele = df[allele_cols]\n",
      "for a_cols in allele_cols:\n",
      "    df_allele = allele_col_formatting(df_allele, a_cols)\n",
      "    del df_allele[a_cols]"
     ],
     "language": "python",
     "metadata": {},
     "outputs": []
    },
    {
     "cell_type": "heading",
     "level": 3,
     "metadata": {},
     "source": [
      "Categorical Field Formatting"
     ]
    },
    {
     "cell_type": "code",
     "collapsed": false,
     "input": [
      "def categ_formatting(df, cat_col):\n",
      "    temp_dummies = pd.get_dummies(df[cat_col], prefix=cat_col)\n",
      "    df = df.join(temp_dummies, how='left')\n",
      "    return df"
     ],
     "language": "python",
     "metadata": {},
     "outputs": []
    },
    {
     "cell_type": "code",
     "collapsed": false,
     "input": [
      "categorical_features = ['FT']\n",
      "\n",
      "df_categ = df.copy()\n",
      "df_categ = df_categ[categorical_features]\n",
      "for c in categorical_features:\n",
      "    df_categ = categ_formatting(df_categ, c)\n",
      "    del df_categ[c]"
     ],
     "language": "python",
     "metadata": {},
     "outputs": []
    },
    {
     "cell_type": "heading",
     "level": 3,
     "metadata": {},
     "source": [
      "Binary Features Formatting"
     ]
    },
    {
     "cell_type": "code",
     "collapsed": false,
     "input": [
      "binary_features = ['CGA_XR', 'CGA_RPT']\n",
      "\n",
      "df_binary = df.copy()\n",
      "df_binary = df_binary[binary_features]\n",
      "for b in binary_features:\n",
      "    df_binary[b].fillna(value=0,inplace=True)\n",
      "    df_binary[b] = df_binary[b].map(lambda x: 1 if x!=0 else 0)\n",
      "    "
     ],
     "language": "python",
     "metadata": {},
     "outputs": []
    },
    {
     "cell_type": "heading",
     "level": 3,
     "metadata": {},
     "source": [
      "Joining Numeric, Genotype, Allele, Categorical, and Binary Features"
     ]
    },
    {
     "cell_type": "code",
     "collapsed": false,
     "input": [
      "df_train = df_numeric.join([df_categ, df_geno, df_allele, df_binary])\n",
      "df_train"
     ],
     "language": "python",
     "metadata": {},
     "outputs": []
    },
    {
     "cell_type": "code",
     "collapsed": false,
     "input": [
      "#FOR USE WITH masterVAR files\n",
      "def preprocess_train_set(test_df):\n",
      "    ''' This function converts the allele1/2truth annotated mastervar files into\n",
      "        a numeric dataset ready for training.\n",
      "        It returns a training data set and the truth calls.  The two objects share indices\n",
      "        and can be combined on the index'''\n",
      "    \n",
      "    test_df.set_index(['chromosome','end', 'reference', 'allele1Seq', 'allele2Seq'],drop=False, inplace=True)\n",
      "    \n",
      "    train_columns = [\"zygosity\", \"REF\", \"a1\", \"a2\", \"allele1VarScoreVAF\", \"allele2VarScoreVAF\", \\\n",
      "                 \"allele1VarScoreEAF\", \"allele2VarScoreEAF\", \"allele1VarQuality\", \"allele2VarQuality\",\\\n",
      "               \"allele1ReadCount\", \"allele2ReadCount\", \"totalReadCount\", \"referenceAlleleReadCount\", \\\n",
      "               \"repeatMasker\", \"segDupOverlap\",\"allele1XRef\",\"allele2XRef\",\"allele1Gene\",\"allele2Gene\",\\\n",
      "               \"alleletruth\"]\n",
      "    \n",
      "    def repeatmask(line):\n",
      "        if line['repeatMasker'] == \".\":\n",
      "            return False\n",
      "        else:\n",
      "            return True\n",
      "    \n",
      "    def coding(alleleGene):\n",
      "        if \"CDS\" in alleleGene:\n",
      "            return True\n",
      "        if \"ACCEPTOR\" in alleleGene:\n",
      "            return True\n",
      "        if \"DONOR\" in alleleGene:\n",
      "            return True\n",
      "        else:\n",
      "            return False\n",
      "        \n",
      "            \n",
      "    def allele_truth(line):\n",
      "        if line['allele1truth'] == 1 and line['allele2truth'] == 1:\n",
      "            return 3\n",
      "        if line['allele1truth'] == 1 and line['allele2truth'] == 0:\n",
      "            return 2\n",
      "        if line['allele1truth'] == 0 and line['allele2truth'] == 1:\n",
      "            return 1\n",
      "        if line['allele1truth'] == 0 and line['allele2truth'] == 0:\n",
      "            return 0\n",
      "        else: assert False\n",
      "    \n",
      "    #EXPERIMENTAL BEGIN  - TRAINED RF_196900samples_oddChroms_rsIDBool_2014_2_2_fp845_tp977.pkl.gz\n",
      "    def rsid_parser(XRef):\n",
      "        if XRef == \".\":  #Not in dbSNP\n",
      "            return False\n",
      "        if XRef != \".\":\n",
      "            return True  #In dbSNP\n",
      "    #EXPERIMENTAL END\n",
      "        \n",
      "    \n",
      "    test_df = test_df[test_df.varType=='snp']\n",
      "    test_df = test_df[test_df.zygosity!='half']  #remove half calls\n",
      "    \n",
      "    test_df['repeatMasker'] = test_df.apply(repeatmask, axis=1)\n",
      "    test_df['allele1Gene'] = test_df['allele1Gene'].map(coding)\n",
      "    test_df['allele2Gene'] = test_df['allele2Gene'].map(coding)\n",
      "    \n",
      "    test_df['alleletruth'] = test_df.apply(allele_truth, axis=1)\n",
      "    del test_df['allele1truth']\n",
      "    del test_df['allele2truth']\n",
      "\n",
      "    df_snps_test = test_df[train_columns]\n",
      "    \n",
      "    #Taking the allele seq out Experimental - Transition/Transversion ratio of coding sequences was too low\n",
      "    #allele1Seq_dummies = pd.get_dummies(df_snps_test['allele1Seq'],prefix='allele1Seq')\n",
      "    #allele2Seq_dummies = pd.get_dummies(df_snps_test['allele2Seq'],prefix='allele2Seq')\n",
      "    #df_snps_test = df_snps_test.join(allele1Seq_dummies, how='outer')\n",
      "    #df_snps_test = df_snps_test.join(allele2Seq_dummies,how='outer')\n",
      "    del df_snps_test['allele1Seq']\n",
      "    del df_snps_test['allele2Seq']\n",
      "\n",
      "    allele1VarQuality_dummies = pd.get_dummies(df_snps_test['allele1VarQuality'],prefix='allele1VarQuality')\n",
      "    allele2VarQuality_dummies = pd.get_dummies(df_snps_test['allele2VarQuality'],prefix='allele2VarQuality')\n",
      "    df_snps_test = df_snps_test.join(allele1VarQuality_dummies,how='outer')\n",
      "    df_snps_test = df_snps_test.join(allele2VarQuality_dummies,how='outer')\n",
      "    del df_snps_test['allele1VarQuality']\n",
      "    del df_snps_test['allele2VarQuality']\n",
      "\n",
      "    #ref_dummies = pd.get_dummies(df_snps_test['reference'],prefix='reference')\n",
      "    zygosity_dummies = pd.get_dummies(df_snps_test['zygosity'],prefix='zygosity')\n",
      "    #df_snps_test = df_snps_test.join(ref_dummies,how='outer')\n",
      "    df_snps_test = df_snps_test.join(zygosity_dummies,how='outer')\n",
      "    del df_snps_test['reference']\n",
      "    del df_snps_test['zygosity']\n",
      "    \n",
      "    #Experimental Begin\n",
      "    df_snps_test['allele1XRef'] = df_snps_test['allele1XRef'].map(rsid_parser)\n",
      "    df_snps_test['allele2XRef'] = df_snps_test['allele2XRef'].map(rsid_parser)\n",
      "    #Experimental End\n",
      "    \n",
      "    Y_truth = df_snps_test['alleletruth'].copy()\n",
      "    del df_snps_test['alleletruth']\n",
      "    return df_snps_test, Y_truth"
     ],
     "language": "python",
     "metadata": {},
     "outputs": []
    },
    {
     "cell_type": "code",
     "collapsed": false,
     "input": [],
     "language": "python",
     "metadata": {},
     "outputs": []
    }
   ],
   "metadata": {}
  }
 ]
}