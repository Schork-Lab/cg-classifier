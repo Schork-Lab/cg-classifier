{
 "metadata": {
  "name": "",
  "signature": "sha256:4b0fffe462c509a56e83c5100dfe1e33858b161b8c630203cf5f99b256bf48dd"
 },
 "nbformat": 3,
 "nbformat_minor": 0,
 "worksheets": [
  {
   "cells": [
    {
     "cell_type": "code",
     "collapsed": false,
     "input": [
      "data_dir = '../data'\n",
      "import sys, os\n",
      "src_dir = '../cg-classifier/'\n",
      "sys.path.append(src_dir)\n",
      "import processing.variants, processing.statistics\n",
      "\n",
      "import seaborn\n",
      "seaborn.set_context('poster')"
     ],
     "language": "python",
     "metadata": {},
     "outputs": [],
     "prompt_number": 1
    },
    {
     "cell_type": "code",
     "collapsed": false,
     "input": [
      "import cPickle"
     ],
     "language": "python",
     "metadata": {},
     "outputs": [],
     "prompt_number": 2
    },
    {
     "cell_type": "code",
     "collapsed": false,
     "input": [
      "%load_ext autoreload\n",
      "%autoreload 2"
     ],
     "language": "python",
     "metadata": {},
     "outputs": [],
     "prompt_number": 46
    },
    {
     "cell_type": "code",
     "collapsed": false,
     "input": [
      "fp = cPickle.load(open('../data/20140803/na12877/NA12877_CGvsRTGphasingNISTbed/fp_STATSFILE.pkl','rb'))"
     ],
     "language": "python",
     "metadata": {},
     "outputs": [],
     "prompt_number": 47
    },
    {
     "cell_type": "code",
     "collapsed": false,
     "input": [
      "tp = cPickle.load(open('../data/20140803/na12877/NA12877_CGvsRTGphasingNISTbed/tp_STATSFILE.pkl','rb'))"
     ],
     "language": "python",
     "metadata": {},
     "outputs": [],
     "prompt_number": 48
    },
    {
     "cell_type": "code",
     "collapsed": false,
     "input": [
      "%pylab inline"
     ],
     "language": "python",
     "metadata": {},
     "outputs": [
      {
       "output_type": "stream",
       "stream": "stdout",
       "text": [
        "Populating the interactive namespace from numpy and matplotlib\n"
       ]
      },
      {
       "output_type": "stream",
       "stream": "stderr",
       "text": [
        "WARNING: pylab import has clobbered these variables: ['colors']\n",
        "`%matplotlib` prevents importing * from pylab and numpy\n"
       ]
      }
     ],
     "prompt_number": 49
    },
    {
     "cell_type": "code",
     "collapsed": false,
     "input": [
      "import pandas as pd"
     ],
     "language": "python",
     "metadata": {},
     "outputs": [],
     "prompt_number": 50
    },
    {
     "cell_type": "code",
     "collapsed": false,
     "input": [
      "variants = ['ins','del','mnp','snp']\n",
      "count_df = pd.concat([tp['counts'][variants], fp['counts'][variants]], axis=1)\n",
      "count_df = count_df.applymap(log10)\n",
      "count_df.columns = ['CG + RTG', 'CG Only']\n",
      "count_df.index = ['Insertion','Deletion','MNP','SNP']"
     ],
     "language": "python",
     "metadata": {},
     "outputs": [],
     "prompt_number": 89
    },
    {
     "cell_type": "code",
     "collapsed": false,
     "input": [
      "count_df"
     ],
     "language": "python",
     "metadata": {},
     "outputs": [
      {
       "html": [
        "<div style=\"max-height:1000px;max-width:1500px;overflow:auto;\">\n",
        "<table border=\"1\" class=\"dataframe\">\n",
        "  <thead>\n",
        "    <tr style=\"text-align: right;\">\n",
        "      <th></th>\n",
        "      <th>CG + RTG</th>\n",
        "      <th>CG Only</th>\n",
        "    </tr>\n",
        "  </thead>\n",
        "  <tbody>\n",
        "    <tr>\n",
        "      <th>Insertion</th>\n",
        "      <td> 5.239014</td>\n",
        "      <td> 4.241571</td>\n",
        "    </tr>\n",
        "    <tr>\n",
        "      <th>Deletion</th>\n",
        "      <td> 5.253815</td>\n",
        "      <td> 4.078747</td>\n",
        "    </tr>\n",
        "    <tr>\n",
        "      <th>MNP</th>\n",
        "      <td> 4.542913</td>\n",
        "      <td> 3.646110</td>\n",
        "    </tr>\n",
        "    <tr>\n",
        "      <th>SNP</th>\n",
        "      <td> 6.548906</td>\n",
        "      <td> 4.697961</td>\n",
        "    </tr>\n",
        "  </tbody>\n",
        "</table>\n",
        "</div>"
       ],
       "metadata": {},
       "output_type": "pyout",
       "prompt_number": 90,
       "text": [
        "           CG + RTG   CG Only\n",
        "Insertion  5.239014  4.241571\n",
        "Deletion   5.253815  4.078747\n",
        "MNP        4.542913  3.646110\n",
        "SNP        6.548906  4.697961"
       ]
      }
     ],
     "prompt_number": 90
    },
    {
     "cell_type": "code",
     "collapsed": false,
     "input": [
      "%pylab inline"
     ],
     "language": "python",
     "metadata": {},
     "outputs": [
      {
       "output_type": "stream",
       "stream": "stdout",
       "text": [
        "Populating the interactive namespace from numpy and matplotlib\n"
       ]
      },
      {
       "output_type": "stream",
       "stream": "stderr",
       "text": [
        "WARNING: pylab import has clobbered these variables: ['colors']\n",
        "`%matplotlib` prevents importing * from pylab and numpy\n"
       ]
      }
     ],
     "prompt_number": 91
    },
    {
     "cell_type": "code",
     "collapsed": false,
     "input": [
      "import figures.helpers"
     ],
     "language": "python",
     "metadata": {},
     "outputs": [],
     "prompt_number": 92
    },
    {
     "cell_type": "code",
     "collapsed": false,
     "input": [
      "colors = {'CG + RTG': '#67a9cf',\n",
      "          'CG Only': '#ef8a62'}"
     ],
     "language": "python",
     "metadata": {},
     "outputs": [],
     "prompt_number": 93
    },
    {
     "cell_type": "code",
     "collapsed": false,
     "input": [
      "def my_rstyle(ax):\n",
      "    \"\"\"Styles an axes to appear like ggplot2\n",
      "    Must be called after all plot and axis manipulation operations have been carried out (needs to know final tick spacing)\n",
      "    \"\"\"\n",
      "    #set the style of the major and minor grid lines, filled blocks\n",
      "    \n",
      "    ax.grid(True, 'major', color='gray', linestyle='-', linewidth=0.7, alpha=0.5)\n",
      "    ax.patch.set_facecolor('white')\n",
      "    ax.set_axisbelow(True)\n",
      "       \n",
      "    #restyle the tick lines\n",
      "    for line in ax.get_xticklines() + ax.get_yticklines():\n",
      "        line.set_markersize(5)\n",
      "        line.set_color(\"gray\")\n",
      "        line.set_markeredgewidth(1.4)\n",
      "    \n",
      "    #remove the minor tick lines    \n",
      "    for line in ax.xaxis.get_ticklines(minor=True) + ax.yaxis.get_ticklines(minor=True):\n",
      "        line.set_markersize(0)\n",
      "    \n",
      "    #only show bottom left ticks, pointing out of axis\n",
      "    rcParams['xtick.direction'] = 'out'\n",
      "    rcParams['ytick.direction'] = 'out'\n",
      "    ax.xaxis.set_ticks_position('bottom')\n",
      "    ax.yaxis.set_ticks_position('left')\n",
      "    \n",
      "    ax.spines['top'].set_visible(False)\n",
      "    ax.spines['right'].set_visible(False)\n",
      "    \n",
      "    #set x, y limit\n",
      "    \n",
      "    if ax.legend_ <> None:\n",
      "        lg = ax.legend_\n",
      "        lg.get_frame().set_linewidth(0)\n",
      "        lg.get_frame().set_alpha(0.5)"
     ],
     "language": "python",
     "metadata": {},
     "outputs": [],
     "prompt_number": 131
    },
    {
     "cell_type": "code",
     "collapsed": false,
     "input": [
      "fig = plt.figure(figsize=(5,3))\n",
      "ax = fig.add_subplot(111)\n",
      "figures.helpers.item_labels_size = 10\n",
      "fig, ax = figures.helpers.count_box_plot(count_df, colors, ax, fig)\n",
      "ax.set_ylabel('Number of Variants (log10)')#, fontdict={'size':10})\n",
      "ax.legend(loc=1, prop={'size':8})\n",
      "ax.set_title('Complete Genomics vs RTG Variant Calls', fontdict={'size': 12})\n",
      "ax.grid(False, which='major', axis='x')\n",
      "ax.t"
     ],
     "language": "python",
     "metadata": {},
     "outputs": [
      {
       "metadata": {},
       "output_type": "display_data",
       "png": "[encoded data removed]",
       "text": [
        "<matplotlib.figure.Figure at 0xc79fd10>"
       ]
      }
     ],
     "prompt_number": 134
    },
    {
     "cell_type": "code",
     "collapsed": false,
     "input": [
      "my_rstyle(ax)\n",
      "ax.grid(False, which='major', axis='x')"
     ],
     "language": "python",
     "metadata": {},
     "outputs": [],
     "prompt_number": 135
    },
    {
     "cell_type": "code",
     "collapsed": false,
     "input": [
      "fig"
     ],
     "language": "python",
     "metadata": {},
     "outputs": [
      {
       "metadata": {},
       "output_type": "pyout",
       "png": "[encoded data removed]",
       "prompt_number": 136,
       "text": [
        "<matplotlib.figure.Figure at 0xc79fd10>"
       ]
      }
     ],
     "prompt_number": 136
    },
    {
     "cell_type": "code",
     "collapsed": false,
     "input": [],
     "language": "python",
     "metadata": {},
     "outputs": []
    }
   ],
   "metadata": {}
  }
 ]
}