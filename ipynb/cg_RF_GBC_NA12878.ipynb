{
 "metadata": {
  "name": ""
 },
 "nbformat": 3,
 "nbformat_minor": 0,
 "worksheets": [
  {
   "cells": [
    {
     "cell_type": "heading",
     "level": 1,
     "metadata": {},
     "source": [
      "Libraries"
     ]
    },
    {
     "cell_type": "code",
     "collapsed": false,
     "input": [
      "import pandas as pd\n",
      "#import coord_to_hg19_seq as hg19\n",
      "from collections import Counter\n",
      "from IPython.display import HTML\n",
      "#import pybedtools\n",
      "import os\n",
      "import subprocess\n",
      "import random\n",
      "from sklearn import preprocessing\n",
      "import cPickle\n",
      "import multiprocessing as mp"
     ],
     "language": "python",
     "metadata": {},
     "outputs": [],
     "prompt_number": 1
    },
    {
     "cell_type": "code",
     "collapsed": false,
     "input": [
      "# matplotlib.rcParams.update({'figure.figsize':(8,8)})\n",
      "# matplotlib.rcParams.update({'font.size': 16})\n",
      "# rcParams['figure.dpi'] = 800\n",
      "# rcParams['axes.linewidth'] = 4\n",
      "# rcParams['lines.linewidth'] = 2.0\n",
      "# rcParams['lines.markersize'] = 6"
     ],
     "language": "python",
     "metadata": {},
     "outputs": [],
     "prompt_number": 169
    },
    {
     "cell_type": "code",
     "collapsed": false,
     "input": [
      "import seaborn\n",
      "seaborn.set_context(\"poster\")"
     ],
     "language": "python",
     "metadata": {},
     "outputs": [],
     "prompt_number": 232
    },
    {
     "cell_type": "heading",
     "level": 3,
     "metadata": {},
     "source": [
      "pdVCF Functions"
     ]
    },
    {
     "cell_type": "code",
     "collapsed": false,
     "input": [
      "def get_phase(line, sample_col):\n",
      "    '''\n",
      "    Returns phase status from a GT field\n",
      "    '''\n",
      "    if \"|\" in line[sample_col]:\n",
      "        return \"|\"\n",
      "    if \"/\" in line[sample_col]:\n",
      "        return \"/\"\n",
      "    else: return '-'\n",
      "\n",
      "def get_allele(line, sample_col, phase_col, allele_num=0):\n",
      "    allele_calls = line[sample_col].split(\":\")[0].split(line[phase_col])\n",
      "    alleles = [line['REF']]\n",
      "    alleles.extend(line['ALT'].split(\",\"))\n",
      "    a1 = \".\"\n",
      "    try:\n",
      "        a1 = alleles[int(allele_calls[allele_num])]\n",
      "    except:\n",
      "        a1 = \".\"\n",
      "    return a1\n"
     ],
     "language": "python",
     "metadata": {},
     "outputs": [],
     "prompt_number": 2
    },
    {
     "cell_type": "code",
     "collapsed": false,
     "input": [
      "def vartype(line, allele_base_col):\n",
      "    '''\n",
      "    This function assigns the following vartypes to the \n",
      "    allele specified by allele_base_col: snp, mnp, ins, del, indel or SV\n",
      "    \n",
      "    '''\n",
      "    ref = line['REF']\n",
      "    alt = line[allele_base_col]\n",
      "    if is_snp(ref,alt): return 'snp'\n",
      "    elif is_sv(ref,alt): return 'sv'\n",
      "    elif is_mnp(ref,alt): return 'mnp'\n",
      "    elif is_insertion(ref,alt): return 'ins'\n",
      "    elif is_del(ref,alt): return 'del'\n",
      "    else: return 'indel or SV'\n",
      "\n",
      "def is_snp(ref,alt):\n",
      "    \"\"\" Return whether or not the variant is a SNP \"\"\"\n",
      "    if len(ref) != len(alt): return False\n",
      "    base_diff = [nt for i,nt in enumerate(alt) if ref[i] != alt[i]]\n",
      "    if len(base_diff) <=1:\n",
      "            return True\n",
      "    return False\n",
      "\n",
      "def is_sv(ref,alt):\n",
      "    if \"[\" in alt or \"]\" in alt:\n",
      "        return True\n",
      "    return False\n",
      "\n",
      "def is_mnp(ref,alt):\n",
      "    \"\"\" Return whether or not the variant is an MNP\"\"\"\n",
      "    if len(ref) > 1 and len(ref) == len(alt):\n",
      "        return True\n",
      "    return False\n",
      "\n",
      "def is_insertion(ref,alt):\n",
      "    if len(ref) < len(alt):\n",
      "        return True\n",
      "    return False\n",
      "    \n",
      "def is_del(ref,alt):\n",
      "    if len(ref) > len(alt):\n",
      "        return True\n",
      "    return False"
     ],
     "language": "python",
     "metadata": {},
     "outputs": [],
     "prompt_number": 3
    },
    {
     "cell_type": "code",
     "collapsed": false,
     "input": [
      "def zygosity(line):\n",
      "    allele_set = set([line['a1'], line['a2'], line['REF']])\n",
      "        \n",
      "    if len(allele_set) == 1:\n",
      "        return 'hom-ref'\n",
      "    if len(allele_set) ==2 and line['a1'] == line['a2']:\n",
      "        if \".\" in allele_set:\n",
      "            return 'hom-miss'\n",
      "        return 'hom-alt'\n",
      "    if len(allele_set) == 2 and line['a1'] != line['a2']:\n",
      "        if \".\" in allele_set:\n",
      "            return 'het-miss'\n",
      "        return 'het-ref'\n",
      "    if len(allele_set) ==3:\n",
      "        if \".\" in allele_set:\n",
      "            return 'het-miss'\n",
      "        return 'het-alt'\n",
      "    assert False"
     ],
     "language": "python",
     "metadata": {},
     "outputs": [],
     "prompt_number": 4
    },
    {
     "cell_type": "code",
     "collapsed": false,
     "input": [
      "def ref_read_depth(line):\n",
      "    '''\n",
      "    This function returns the number of reads\n",
      "    supporting the reference allele\n",
      "    \n",
      "    Required columns: [DP, AD, zygosity, a1]\n",
      "    '''\n",
      "    \n",
      "    dp = line['DP']  #total read depth\n",
      "    ad = line['AD'].replace(\".\",'0')  #replace missing with 0\n",
      "    ad1, ad2 = ad.split(\",\")  #allelic depth for allele1 and allele2\n",
      "    \n",
      "    if line['zygosity'] == 'het-ref':  \n",
      "        if line['a1'] != line['REF']: #allele1 is non-reference\n",
      "            return  dp - int(ad1)  #total read depth - allele1 read depth\n",
      "        return dp - int(ad2)  #total read depth - allele2 read depth\n",
      "    \n",
      "    if line['zygosity'] == 'hom-alt':  #allele1 and allele2 read depths are identical\n",
      "        return  dp - int(ad2)  \n",
      "    \n",
      "    if line['zygosity'] == 'het-alt':\n",
      "        return  dp - sum([ int(ad1), int(ad2) ] )\n",
      "    \n",
      "    return dp  #hom-ref read depth == total read depth"
     ],
     "language": "python",
     "metadata": {},
     "outputs": [],
     "prompt_number": 5
    },
    {
     "cell_type": "code",
     "collapsed": false,
     "input": [
      "from scipy import stats\n",
      "def binom_deviance(line):\n",
      "    allele_read_depths = [line['AD_1'], line['AD_2']]\n",
      "    return stats.binom_test(max(allele_read_depths), sum(allele_read_depths), 0.5)\n"
     ],
     "language": "python",
     "metadata": {},
     "outputs": [],
     "prompt_number": 6
    },
    {
     "cell_type": "code",
     "collapsed": false,
     "input": [
      "def binom_deviance_mp(ad1_ad2):\n",
      "    \n",
      "    allele_read_depths = [ad1_ad2[0], ad1_ad2[1]]\n",
      "    return stats.binom_test(max(allele_read_depths), sum(allele_read_depths), 0.5)\n",
      "\n",
      "    \n",
      "    "
     ],
     "language": "python",
     "metadata": {},
     "outputs": [],
     "prompt_number": 7
    },
    {
     "cell_type": "heading",
     "level": 1,
     "metadata": {},
     "source": [
      "Sample File Paths"
     ]
    },
    {
     "cell_type": "code",
     "collapsed": false,
     "input": [
      "\n",
      "tp_NA12878_tsv = '/Users/ers_vader/git_data/cg_classifier/NA12878/gemini/CGvsNISTall/tp.tsv.gz'\n",
      "\n",
      "\n",
      "fp_NA12878_tsv = '/Users/ers_vader/git_data/cg_classifier/NA12878/gemini/CGvsNISTall/fp.tsv.gz'"
     ],
     "language": "python",
     "metadata": {},
     "outputs": [],
     "prompt_number": 8
    },
    {
     "cell_type": "heading",
     "level": 1,
     "metadata": {},
     "source": [
      "RF Preprocessing - THIS TAKES QUITE AWHILE IF PROCESSING THE WHOLE GENOME - WE SHOULD IMPLEMENT A MULTIPROCESSING METHOD TO SPEED THINGS UP"
     ]
    },
    {
     "cell_type": "code",
     "collapsed": false,
     "input": [
      "fp = pd.read_table(fp_NA12878_tsv,sep=\"\\t\",compression='gzip')\n",
      "\n",
      "\n",
      "tp = pd.read_table(tp_NA12878_tsv,sep=\"\\t\",compression='gzip')\n",
      "\n"
     ],
     "language": "python",
     "metadata": {},
     "outputs": [
      {
       "output_type": "stream",
       "stream": "stderr",
       "text": [
        "//anaconda/lib/python2.7/site-packages/pandas/io/parsers.py:1139: DtypeWarning: Columns (0,10,11,14,22,26,30,32,37,38,47,50) have mixed types. Specify dtype option on import or set low_memory=False.\n",
        "  data = self._reader.read(nrows)\n",
        "//anaconda/lib/python2.7/site-packages/pandas/io/parsers.py:1139: DtypeWarning: Columns (0,10,11,14,22,26,30,32,37,47,50) have mixed types. Specify dtype option on import or set low_memory=False.\n",
        "  data = self._reader.read(nrows)\n"
       ]
      }
     ],
     "prompt_number": 13
    },
    {
     "cell_type": "code",
     "collapsed": false,
     "input": [
      "def multiallele_GL_formatting(df, gl_col):\n",
      "    GL_df = pd.DataFrame.from_records([i.split(\",\") for i in df[gl_col]], columns=['AA_'+gl_col, 'AB_'+gl_col, 'BB_'+gl_col, 'AC_'+gl_col, 'BC_'+gl_col, 'CC_'+gl_col])\n",
      "    GL_df.index = df.index\n",
      "    GL_df.fillna(value=-999,inplace=True)\n",
      "    df = df.join(GL_df)\n",
      "    return df\n",
      "\n",
      "\n",
      "def allele_col_formatting(df, al_col):\n",
      "    df[al_col + \"_1\"] = [int(i.split(\",\")[0]) if i.split(\",\")[0] != \".\" else -999 for i in df[al_col]]\n",
      "    df[al_col + \"_2\"] = [int(i.split(\",\")[1]) if i.split(\",\")[1] != \".\" else -999 for i in df[al_col]]\n",
      "    return df\n",
      "\n",
      "\n",
      "def categ_formatting(df, cat_col):\n",
      "    temp_dummies = pd.get_dummies(df[cat_col], prefix=cat_col)\n",
      "    df = df.join(temp_dummies, how='left')\n",
      "    return df\n",
      "\n",
      "\n"
     ],
     "language": "python",
     "metadata": {},
     "outputs": [],
     "prompt_number": 9
    },
    {
     "cell_type": "code",
     "collapsed": false,
     "input": [
      "\n",
      "def preprocess_vcf_line(df):\n",
      "    '''\n",
      "    This function annotates vcf variants with\n",
      "    phase, allele1 base call, allele2 base call, \n",
      "    multiallele, vartype\n",
      "    '''\n",
      "    \n",
      "    discard_vars = ['<INS:ME:ALU>', '<INS:ME:L1>','<CGA_CNVWIN>','<INS:ME:SVA>']  #ignore CNVs and repeats\n",
      "    df = df[~df.ALT.isin(discard_vars)] \n",
      "\n",
      "    \n",
      "    df['phase'] = df.apply(get_phase, args=['GT'], axis=1)  #get phase\n",
      "    df = df[df.phase != \"-\"]  #likley occurs at sex chromosome sites\n",
      "    df['a1'] = df.apply(get_allele, args=['GT','phase', 0], axis=1)  #get allele1 base seq\n",
      "    df['a2'] = df.apply(get_allele, args=['GT','phase', 1], axis=1)  #get allele2 base seq\n",
      "    df['multiallele'] = df.ALT.map(lambda x: 1 if \",\" in x else 0)  #1 is more than 1 alt allele, 0 else\n",
      "    df['zygosity'] = df.apply(zygosity, axis=1)  #get zygosity: hom-ref, het-ref, hom-alt, het-alt\n",
      "    df['vartype1'] = df.apply(vartype, args=['a1'], axis=1)  #vartype for allele1: snp, mnp, insertion, deletion, sv\n",
      "    df['vartype2'] = df.apply(vartype, args=['a2'], axis=1)  #vartype for allele2: snp, mnp, insertion, deletion, sv\n",
      "    \n",
      "    df = df[(df.vartype1 != 'sv') & (df.vartype2 != 'sv')]  #ignore structural variants\n",
      "    \n",
      "    df['AD'].fillna(value='0,0', inplace=True)  #fill missing allelic depth with 0,0 reads\n",
      "    df['ref_read_depth'] = df.apply(ref_read_depth, axis=1)  #get number of reads supporting the reference allele\n",
      "    \n",
      "    \n",
      "    \n",
      "    return df"
     ],
     "language": "python",
     "metadata": {},
     "outputs": [],
     "prompt_number": 10
    },
    {
     "cell_type": "code",
     "collapsed": false,
     "input": [
      "def transform_features(df, index_features, allele_features, binary_features, categorical_features, geno_features, numeric_features):\n",
      "    \n",
      "    df.set_index(index_features, inplace=True)\n",
      "    \n",
      "    #FORMATTING ALLELE-SPECIFIC FEATURES\n",
      "    df_allele = df[allele_features]\n",
      "    for a_cols in allele_features:\n",
      "        df_allele = allele_col_formatting(df_allele, a_cols)\n",
      "        del df_allele[a_cols]\n",
      "        \n",
      "    \n",
      "    #FORMATTING BINARY FEATURES\n",
      "    df_binary = df[binary_features]\n",
      "    for b in binary_features:\n",
      "        df_binary[b].fillna(value=0,inplace=True)\n",
      "        df_binary[b] = df_binary[b].map(lambda x: 1 if x!=0 else 0)\n",
      "        \n",
      "\n",
      "    #FORMATTING CATEGORICAL FEATURES\n",
      "    df_categ = df[categorical_features]\n",
      "    for c in categorical_features:\n",
      "        df_categ = categ_formatting(df_categ, c)\n",
      "        del df_categ[c]\n",
      "        \n",
      "        \n",
      "    #FORMATTING GENOTYPE FEATURES\n",
      "    df_geno = df[geno_features]\n",
      "    for g_cols in geno_features:\n",
      "        df_geno = multiallele_GL_formatting(df_geno, g_cols)\n",
      "        del df_geno[g_cols]\n",
      "        \n",
      "    \n",
      "    #FORMATTING NUMERIC FEATURES\n",
      "    df_numeric = df[numeric_features]\n",
      "    for n in numeric_features:\n",
      "        df_numeric[n] = df_numeric[n].astype(float)\n",
      "        \n",
      "    \n",
      "    \n",
      "    \n",
      "    #JOIN FORMATTED DATAFRAMES\n",
      "    df_train = df_numeric.join([df_categ, df_geno, df_allele, df_binary])\n",
      "    \n",
      "    return df_train"
     ],
     "language": "python",
     "metadata": {},
     "outputs": [],
     "prompt_number": 11
    },
    {
     "cell_type": "code",
     "collapsed": false,
     "input": [
      "def numeric_scaling(df, numeric_cols):\n",
      "    \n",
      "    df_scaled = df.copy()\n",
      "    df_scaled = df_scaled[numeric_cols]\n",
      "    \n",
      "    scaler = preprocessing.StandardScaler().fit(df_scaled)\n",
      "    df_scaled = pd.DataFrame( scaler.transform(df_scaled) )\n",
      "    df_scaled.columns = numeric_cols\n",
      "    df_scaled.index = df.index\n",
      "    \n",
      "    non_numeric_cols = [c for c in df.columns if c not in numeric_cols]\n",
      "    \n",
      "    df_scaled = df_scaled.join(df[non_numeric_cols])\n",
      "    \n",
      "    return df_scaled, scaler"
     ],
     "language": "python",
     "metadata": {},
     "outputs": [],
     "prompt_number": 12
    },
    {
     "cell_type": "heading",
     "level": 3,
     "metadata": {},
     "source": [
      "The following code has already been run and the results from this processing are in the next code block"
     ]
    },
    {
     "cell_type": "code",
     "collapsed": false,
     "input": [
      "def get_autosome_vars(df):\n",
      "    autosome_chroms = range(1,23)\n",
      "    df = df[df.CHROM.isin(autosome_chroms)]\n",
      "    return df"
     ],
     "language": "python",
     "metadata": {},
     "outputs": [],
     "prompt_number": 13
    },
    {
     "cell_type": "code",
     "collapsed": false,
     "input": [
      "#PREVIOUSLY PROCESSED NEXT CODE BLOCK SHOWS PATH TO FILE\n",
      "\n",
      "#Setting Features and Types for Training Data Set\n",
      "# index_features = ['CHROM', 'POS', 'REF', 'ALT']\n",
      "\n",
      "# allele_features = ['HQ', 'EHQ', 'CGA_CEHQ', 'AD']\n",
      "# binary_features = ['CGA_XR', 'CGA_RPT', 'multiallele']\n",
      "# categorical_features = ['FT', 'vartype1', 'vartype2', 'phase', 'zygosity']\n",
      "# geno_features = ['GL', 'CGA_CEGL']\n",
      "# numeric_features = ['CGA_SDO', 'GQ', 'DP', 'CGA_RDP']\n",
      "\n",
      "\n",
      "# #Remove sex chromosome variants\n",
      "# fp = get_autosome_vars(fp)\n",
      "# tp = get_autosome_vars(tp)\n",
      "\n",
      "\n",
      "# #Pre-processing False Positive Variants\n",
      "# fp = preprocess_vcf_line(fp)        \n",
      "# fp_train = transform_features(fp, index_features, allele_features, binary_features, categorical_features, geno_features, numeric_features)\n",
      "# fp_train = fp_train[fp_train['DP'] > 0]  #removing variants without any read support\n",
      "# fp_truth = fp_train[['HQ_1']]\n",
      "# fp_truth['HQ_1'] = 0\n",
      "# fp_truth.columns = ['truth']\n",
      "\n",
      "\n",
      "# #Pre-processing True Positive Variants\n",
      "# tp = preprocess_vcf_line(tp)\n",
      "# tp_train = transform_features(tp, index_features, allele_features, binary_features, categorical_features, geno_features, numeric_features)\n",
      "# tp_train = tp_train[tp_train['DP'] > 0]\n",
      "# tp_truth = tp_train[['HQ_1']]\n",
      "# tp_truth['HQ_1'] = 1\n",
      "# tp_truth.columns = ['truth']\n",
      "\n",
      "\n",
      "# #FINAL PRE-PROCESSING FOR TRAINING DATA SET\n",
      "# training_set = tp_train.append(fp_train) \n",
      "\n",
      "# #multiprocess allelic_imbal stats\n",
      "# training_set['AD_1'].replace(to_replace=-999, value=0, inplace=True)\n",
      "# training_set['AD_2'].replace(to_replace=-999, value=0, inplace=True)\n",
      "# pool = mp.Pool(16)\n",
      "# tasks = training_set[['AD_1', 'AD_2']].values\n",
      "# allele_imbalance_pval = []\n",
      "# r = pool.map_async(binom_deviance_mp, tasks, callback=allele_imbalance_pval.extend)\n",
      "# r.wait()\n",
      "# training_set['allelic_imbal'] = allele_imbalance_pval\n",
      "\n",
      "# #fill CGA_SDO and GQ \n",
      "# training_set.CGA_SDO.fillna(value=0, inplace=True)\n",
      "# training_set.GQ.fillna(value=-999, inplace=True)\n",
      "\n",
      "# #numeric scaling\n",
      "# numeric_cols = ['HQ_1', 'HQ_2', 'EHQ_1', 'EHQ_2', 'CGA_CEHQ_1', 'CGA_CEHQ_2', 'AD_1', 'AD_2', 'CGA_SDO', 'GQ', 'DP', 'CGA_RDP', 'allele_imbal']\n",
      "# training_set_scaled, scaler = numeric_scaling(training_set, numeric_cols)\n",
      "# training_truth = tp_truth.append(fp_truth)\n",
      "\n",
      "# #WRITING PRE-PROCESED TRAINING DATA SET TO FILE\n",
      "# training_set['truth'] = training_truth.values\n",
      "\n",
      "# #WRITING TO FILE\n",
      "# outfile = '/Users/ers_vader/git_data/cg_classifier/NA12878/gemini/CGvsNISTall/NA12878_CGvsNISTall_training_features_scaled.tsv'\n",
      "# training_set_scaled.to_csv(outfile, sep=\"\\t\")        \n",
      "# cPickle.dump(scaler, open('/Users/ers_vader/git_data/cg_classifier/NA12878/gemini/CGvsNISTall/NA12878_CGvsNISTall_training_features_SCALER.pkl','w'))\n",
      "# !gzip $outfile"
     ],
     "language": "python",
     "metadata": {},
     "outputs": []
    },
    {
     "cell_type": "heading",
     "level": 1,
     "metadata": {},
     "source": [
      "NOTE: PREPROCESSING INTERACTIVELY PRODUCES DIFFERENT dtypes COMPARED TO READING THE PREPROCESSED FILES INTO PANDAS, \n",
      "THEREFORE WE MUST EITHER SPECIFY THE dtype TO CONVERT OBJECT TO INT64 INTERACTIVELY OR WE MUST ALWAYS WRITE THE PREPROCESSED\n",
      "DATAFRAME TO FILE AND THEN READ IT IN BEFORE TRAINING/PREDICTING"
     ]
    },
    {
     "cell_type": "code",
     "collapsed": false,
     "input": [
      "#Reading In Pre-processed Training Data Set NA12878\n",
      "training_set = pd.read_table('/Users/ers_vader/git_data/cg_classifier/NA12878/gemini/CGvsNISTall/NA12878_CGvsNISTall_training_features_scaled.tsv.gz',sep=\"\\t\",compression='gzip')                 \n",
      "\n",
      "training_set.set_index(['CHROM', 'POS', 'REF', 'ALT'],inplace=True)\n",
      "training_truth = training_set[['truth']]\n",
      "del training_set['truth']\n",
      "\n",
      "training_set['zygosity_het-miss'].fillna(value=0,inplace=True)"
     ],
     "language": "python",
     "metadata": {},
     "outputs": [],
     "prompt_number": 14
    },
    {
     "cell_type": "heading",
     "level": 3,
     "metadata": {},
     "source": [
      "Complete Genomics Variants vcfeval representation with NIST truth UNSCALED!!!"
     ]
    },
    {
     "cell_type": "code",
     "collapsed": false,
     "input": [
      "# training_set = pd.read_table('/Users/ers_vader/git_data/cg_classifier/NA12878/gemini/CGvsNISTall/NA12878_preprocessed_training_set_NISTtruth.tsv.gz',sep=\"\\t\",compression='gzip')\n",
      "# training_set.set_index(['CHROM', 'POS', 'REF', 'ALT'],inplace=True)       "
     ],
     "language": "python",
     "metadata": {},
     "outputs": [],
     "prompt_number": 11
    },
    {
     "cell_type": "code",
     "collapsed": false,
     "input": [
      "# fp = pd.read_table('/Users/ers_vader/git_data/cg_classifier/NA12878/gemini/CGvsNISTall/fp.vcf.gz',sep=\"\\t\",usecols=['#CHROM', 'POS', 'REF', 'ALT'] ,compression='gzip',skiprows=117)    \n",
      "# fp['CHROM'] = fp['#CHROM']\n",
      "# del fp['#CHROM']\n",
      "# fp.set_index(['CHROM', 'POS', 'REF', 'ALT'], inplace=True)\n",
      "# fp['truth'] = 0"
     ],
     "language": "python",
     "metadata": {},
     "outputs": [],
     "prompt_number": 13
    },
    {
     "cell_type": "code",
     "collapsed": false,
     "input": [
      "# training_set = training_set.join(fp, how='left')\n",
      "# training_set['truth'].fillna(value=1,inplace=True)"
     ],
     "language": "python",
     "metadata": {},
     "outputs": [],
     "prompt_number": 14
    },
    {
     "cell_type": "code",
     "collapsed": false,
     "input": [
      "# training_truth = training_set[['truth']]\n",
      "# del training_set['truth']"
     ],
     "language": "python",
     "metadata": {},
     "outputs": [],
     "prompt_number": 23
    },
    {
     "cell_type": "heading",
     "level": 3,
     "metadata": {},
     "source": [
      "Small Random Sample of Autosome Variants in Training Data"
     ]
    },
    {
     "cell_type": "code",
     "collapsed": false,
     "input": [
      "len(training_set)"
     ],
     "language": "python",
     "metadata": {},
     "outputs": [
      {
       "metadata": {},
       "output_type": "pyout",
       "prompt_number": 15,
       "text": [
        "3897482"
       ]
      }
     ],
     "prompt_number": 15
    },
    {
     "cell_type": "code",
     "collapsed": false,
     "input": [
      "training_truth.truth.value_counts().plot(kind='bar', color='#00ADEF', figsize=(10,5), grid=True, log=False, title='NIST Truth')"
     ],
     "language": "python",
     "metadata": {},
     "outputs": [
      {
       "metadata": {},
       "output_type": "pyout",
       "prompt_number": 233,
       "text": [
        "<matplotlib.axes.AxesSubplot at 0x1b74159d0>"
       ]
      },
      {
       "metadata": {},
       "output_type": "display_data",
       "png": "[encoded data removed]",
       "text": [
        "<matplotlib.figure.Figure at 0x19a1ccf90>"
       ]
      }
     ],
     "prompt_number": 233
    },
    {
     "cell_type": "code",
     "collapsed": false,
     "input": [
      "training_truth.index.get_level_values(0).value_counts().plot(kind='bar', color='#00ADEF', figsize=(10,5), grid=True)"
     ],
     "language": "python",
     "metadata": {},
     "outputs": [
      {
       "metadata": {},
       "output_type": "pyout",
       "prompt_number": 235,
       "text": [
        "<matplotlib.axes.AxesSubplot at 0x1c595a510>"
       ]
      },
      {
       "metadata": {},
       "output_type": "display_data",
       "png": "[encoded data removed]",
       "text": [
        "<matplotlib.figure.Figure at 0x1c5952390>"
       ]
      }
     ],
     "prompt_number": 235
    },
    {
     "cell_type": "code",
     "collapsed": false,
     "input": [
      "\n",
      "#Specifying the tp:fp ratio performs worse than a random sample\n",
      "tp_indices = training_truth[training_truth.truth==1].index\n",
      "fp_indices = training_truth[training_truth.truth==0].index\n",
      "random_sample_tp = random.sample(tp_indices, 100000)  #random sample\n",
      "random_sample_fp = random.sample(fp_indices, 50000)\n",
      "random_sample = set(list(random_sample_tp)) | set(list(random_sample_fp))\n",
      "\n",
      "\n",
      "# random_sample = random.sample(training_truth.index, 150000)  #performs worse\n",
      "\n",
      "\n",
      "random_sample2 = random.sample(training_truth.index, 150000)\n",
      "random_sample2 = set(random_sample2) - set(random_sample)\n",
      "\n",
      "training_set_random = training_set[training_set.index.isin(random_sample)]\n",
      "training_truth_random = training_truth[training_truth.index.isin(random_sample)]\n",
      "\n",
      "\n",
      "training_set_random2 = training_set[training_set.index.isin(random_sample2)]\n",
      "training_truth_random2 = training_truth[training_truth.index.isin(random_sample2)]\n",
      "print len(random_sample2)\n",
      "\n",
      "#EXCLUDING CGA_XR AS A FEATURE\n",
      "del training_set_random['CGA_XR']\n",
      "del training_set_random2['CGA_XR']"
     ],
     "language": "python",
     "metadata": {},
     "outputs": [
      {
       "output_type": "stream",
       "stream": "stdout",
       "text": [
        "144361\n"
       ]
      }
     ],
     "prompt_number": 45
    },
    {
     "cell_type": "code",
     "collapsed": false,
     "input": [
      "print len(training_set_random)\n",
      "training_truth_random.truth.value_counts()"
     ],
     "language": "python",
     "metadata": {},
     "outputs": [
      {
       "output_type": "stream",
       "stream": "stdout",
       "text": [
        "150000\n"
       ]
      },
      {
       "metadata": {},
       "output_type": "pyout",
       "prompt_number": 46,
       "text": [
        "1    100000\n",
        "0     50000\n",
        "dtype: int64"
       ]
      }
     ],
     "prompt_number": 46
    },
    {
     "cell_type": "code",
     "collapsed": false,
     "input": [
      "def print_data(df, index):\n",
      "    print index\n",
      "    for i in zip(df.columns, df.ix[index].values[0]):\n",
      "        print i\n",
      "    return"
     ],
     "language": "python",
     "metadata": {},
     "outputs": [],
     "prompt_number": 47
    },
    {
     "cell_type": "heading",
     "level": 2,
     "metadata": {},
     "source": [
      "TESTING RF Data NA12877"
     ]
    },
    {
     "cell_type": "heading",
     "level": 3,
     "metadata": {},
     "source": [
      "The following code has already been run and the results from this processing are in the next code block"
     ]
    },
    {
     "cell_type": "code",
     "collapsed": false,
     "input": [
      "#test_set = pd.read_table(\"/gpfs/home/erscott/Datasets_raw/PlatinumGenomes/NA12878/NA12878_phasing/NA12878_preprocessed_testing_set.txt\",sep=\"\\t\")\n",
      "test_set = pd.read_table('/Users/ers_vader/git_data/cg_classifier/NA12877/tsvs/NA12877_preprocessed_testing_set.txt.gz',sep=\"\\t\",compression='gzip')\n",
      "test_set.set_index(['CHROM','POS','REF','ALT'],inplace=True)\n",
      "test_truth = test_set[['truth']]\n",
      "del test_set['truth']\n",
      "del test_set['CGA_XR']\n",
      "\n"
     ],
     "language": "python",
     "metadata": {},
     "outputs": [],
     "prompt_number": 17
    },
    {
     "cell_type": "heading",
     "level": 3,
     "metadata": {},
     "source": [
      "Small Random Sample of Testing Data"
     ]
    },
    {
     "cell_type": "code",
     "collapsed": false,
     "input": [
      "\n",
      "autosome_chroms = range(1,23)\n",
      "test_truth['chrom'] = [i[0] for i in test_truth.index]  #retrieving the chromosome for each variant\n",
      "test_truth = test_truth[test_truth.chrom.isin(autosome_chroms)]\n",
      "test_set = test_set[test_set.index.isin(test_truth.index)]\n",
      "del test_truth['chrom']\n",
      "\n",
      "random_subset = random.sample(test_truth.index,100000)\n",
      "test_set_random = test_set.ix[random_subset]\n",
      "test_truth_random = test_truth.ix[random_subset]"
     ],
     "language": "python",
     "metadata": {},
     "outputs": [],
     "prompt_number": 78
    },
    {
     "cell_type": "code",
     "collapsed": false,
     "input": [
      "test_set.columns"
     ],
     "language": "python",
     "metadata": {},
     "outputs": [
      {
       "metadata": {},
       "output_type": "pyout",
       "prompt_number": 296,
       "text": [
        "Index([u'CGA_SDO', u'GQ', u'DP', u'CGA_RDP', u'FT_PASS', u'FT_VQLOW', u'vartype1_del', u'vartype1_ins', u'vartype1_mnp', u'vartype1_snp', u'vartype2_del', u'vartype2_ins', u'vartype2_mnp', u'vartype2_snp', u'phase_/', u'phase_|', u'zygosity_het-alt', u'zygosity_het-ref', u'zygosity_hom-alt', u'AA_GL', u'AB_GL', u'BB_GL', u'AC_GL', u'BC_GL', u'CC_GL', u'AA_CGA_CEGL', u'AB_CGA_CEGL', u'BB_CGA_CEGL', u'AC_CGA_CEGL', u'BC_CGA_CEGL', u'CC_CGA_CEGL', u'HQ_1', u'HQ_2', u'EHQ_1', u'EHQ_2', u'CGA_CEHQ_1', u'CGA_CEHQ_2', u'AD_1', u'AD_2', u'CGA_RPT', u'multiallele'], dtype='object')"
       ]
      }
     ],
     "prompt_number": 296
    },
    {
     "cell_type": "heading",
     "level": 2,
     "metadata": {},
     "source": [
      "Standardization & Centering Testing and Training Data"
     ]
    },
    {
     "cell_type": "heading",
     "level": 2,
     "metadata": {},
     "source": [
      "TESTING MODEL CONVENIENCE FUNCTION"
     ]
    },
    {
     "cell_type": "code",
     "collapsed": false,
     "input": [
      "def get_fp_tp_predictions(test_df, test_truth, model):\n",
      "    \n",
      "    fp = test_df.ix[test_truth[test_truth.truth==0].index]\n",
      "    tp = test_df.ix[~test_df.index.isin(fp.index)]\n",
      "    \n",
      "    predictions = model.predict(fp)\n",
      "    fp['predictions'] = predictions\n",
      "    fp['truth'] = test_truth.ix[fp.index]\n",
      "    \n",
      "    predictions = model.predict(tp)\n",
      "    tp['predictions'] = predictions\n",
      "    tp['truth'] = test_truth.ix[tp.index]\n",
      "    \n",
      "    return fp, tp\n",
      "\n",
      "#fp,tp = get_fp_tp_predictions(test_set, test_truth, clf1)  #USAGE\n",
      "#print fp.predictions.value_counts()\n",
      "#print tp.predictions.value_counts()"
     ],
     "language": "python",
     "metadata": {},
     "outputs": [],
     "prompt_number": 50
    },
    {
     "cell_type": "heading",
     "level": 3,
     "metadata": {},
     "source": [
      "Allelic Imbalance AUC"
     ]
    },
    {
     "cell_type": "code",
     "collapsed": false,
     "input": [
      "#AUC FOR JUST ALLELEIC IMBALANCE\n",
      "from sklearn import metrics\n",
      "y = training_truth_random['truth']\n",
      "pred = training_set_random.allele_imbal\n",
      "fpr, tpr, thresholds = metrics.roc_curve(y, pred, pos_label=1)\n",
      "print 'AUC:', metrics.auc(fpr, tpr)\n",
      "\n"
     ],
     "language": "python",
     "metadata": {},
     "outputs": [
      {
       "output_type": "stream",
       "stream": "stdout",
       "text": [
        "AUC: 0.7902906574\n"
       ]
      }
     ],
     "prompt_number": 51
    },
    {
     "cell_type": "code",
     "collapsed": false,
     "input": [
      "# del training_set_random['allelic_imbal']\n",
      "# del test_set_random['allelic_imbal']"
     ],
     "language": "python",
     "metadata": {},
     "outputs": [],
     "prompt_number": 77
    },
    {
     "cell_type": "heading",
     "level": 1,
     "metadata": {},
     "source": [
      "TRAINING LOGISTIC REGRESSION MODEL"
     ]
    },
    {
     "cell_type": "code",
     "collapsed": false,
     "input": [
      "simple_features = [i for i in training_set_random.columns if 'vartype' in i or 'zygosity' in i]\n",
      "simple_features.extend(['allele_imbal', 'AD_1', 'AD_2', 'DP', 'GQ', 'HQ_1', 'HQ_2'])  #'CGA_SDO', 'CGA_RPT',"
     ],
     "language": "python",
     "metadata": {},
     "outputs": [],
     "prompt_number": 68
    },
    {
     "cell_type": "code",
     "collapsed": false,
     "input": [
      "from sklearn import linear_model\n",
      "lm = linear_model.LogisticRegression(penalty='l1',C=1)\n",
      "lm_train = lm.fit(training_set_random[simple_features], training_truth_random.values)\n"
     ],
     "language": "python",
     "metadata": {},
     "outputs": [
      {
       "output_type": "stream",
       "stream": "stderr",
       "text": [
        "//anaconda/lib/python2.7/site-packages/sklearn/preprocessing/label.py:124: DataConversionWarning: A column-vector y was passed when a 1d array was expected. Please change the shape of y to (n_samples, ), for example using ravel().\n",
        "  y = column_or_1d(y, warn=True)\n"
       ]
      }
     ],
     "prompt_number": 69
    },
    {
     "cell_type": "code",
     "collapsed": false,
     "input": [
      "import cPickle\n",
      "#cPickle.dump(lm_train, open('/gpfs/home/erscott/Datasets_raw/PlatinumGenomes/NA12877/NA12877_phasing/classifier_models/NA12877_preprocessed_training_set_LogReg_model_l2_C1_autosomes.pkl','w'))   \n",
      "cPickle.dump(lm_train, open('/Users/ers_vader/git_data/cg_classifier/NA12878/gemini/CGvsNISTall/NA12878_CGvsNISTall_training_features_scaled_with_ML_predictions_LogReg_model_l1_C1_autosomes.pkl','w'))   "
     ],
     "language": "python",
     "metadata": {},
     "outputs": [],
     "prompt_number": 158
    },
    {
     "cell_type": "code",
     "collapsed": false,
     "input": [
      "#Coefficients for SCALED DATA\n",
      "zip(training_set_random.columns, lm_train.coef_[0])"
     ],
     "language": "python",
     "metadata": {},
     "outputs": [
      {
       "metadata": {},
       "output_type": "pyout",
       "prompt_number": 70,
       "text": [
        "[('HQ_1', -2.4119756059615107),\n",
        " ('HQ_2', -2.0504886302137235),\n",
        " ('EHQ_1', -0.12600803770483343),\n",
        " ('EHQ_2', 2.2677934462573917),\n",
        " ('CGA_CEHQ_1', 1.8612303275612774),\n",
        " ('CGA_CEHQ_2', 0.91706204313916961),\n",
        " ('AD_1', -1.048186312874648),\n",
        " ('AD_2', 0.066191173299973205),\n",
        " ('CGA_SDO', -0.57050498347791723),\n",
        " ('GQ', -1.5192647404375379),\n",
        " ('DP', 0.23483770488025771),\n",
        " ('CGA_RDP', 0.26282029654752265),\n",
        " ('allele_imbal', 0.41960044760901161),\n",
        " ('AA_CGA_CEGL', 1.295485330732016),\n",
        " ('AA_GL', 1.0267655774994124),\n",
        " ('AB_CGA_CEGL', -2.1973090681837486),\n",
        " ('AB_GL', 1.9516675134192734),\n",
        " ('AC_CGA_CEGL', 0.37315904278843104),\n",
        " ('AC_GL', 0.24302027522229711)]"
       ]
      }
     ],
     "prompt_number": 70
    },
    {
     "cell_type": "code",
     "collapsed": false,
     "input": [
      "lm_train_scaled_coeff = pd.Series(lm_train.coef_[0])\n",
      "lm_train_scaled_coeff.index = simple_features\n",
      "lm_train_scaled_coeff.plot(kind='bar', figsize = (20,5), color='#00ADEF')"
     ],
     "language": "python",
     "metadata": {},
     "outputs": [
      {
       "metadata": {},
       "output_type": "pyout",
       "prompt_number": 236,
       "text": [
        "<matplotlib.axes.AxesSubplot at 0x1b6ee53d0>"
       ]
      },
      {
       "metadata": {},
       "output_type": "display_data",
       "png": "[encoded data removed]",
       "text": [
        "<matplotlib.figure.Figure at 0x19a2fac90>"
       ]
      }
     ],
     "prompt_number": 236
    },
    {
     "cell_type": "code",
     "collapsed": false,
     "input": [
      "zip(simple_features, lm_train.coef_[0])"
     ],
     "language": "python",
     "metadata": {},
     "outputs": [
      {
       "metadata": {},
       "output_type": "pyout",
       "prompt_number": 74,
       "text": [
        "[('vartype1_del', -2.4119756059615107),\n",
        " ('vartype1_ins', -2.0504886302137235),\n",
        " ('vartype1_mnp', -0.12600803770483343),\n",
        " ('vartype1_snp', 2.2677934462573917),\n",
        " ('vartype2_del', 1.8612303275612774),\n",
        " ('vartype2_ins', 0.91706204313916961),\n",
        " ('vartype2_mnp', -1.048186312874648),\n",
        " ('vartype2_snp', 0.066191173299973205),\n",
        " ('zygosity_het-alt', -0.57050498347791723),\n",
        " ('zygosity_het-miss', -1.5192647404375379),\n",
        " ('zygosity_het-ref', 0.23483770488025771),\n",
        " ('zygosity_hom-alt', 0.26282029654752265),\n",
        " ('allele_imbal', 0.41960044760901161),\n",
        " ('AD_1', 1.295485330732016),\n",
        " ('AD_2', 1.0267655774994124),\n",
        " ('DP', -2.1973090681837486),\n",
        " ('GQ', 1.9516675134192734),\n",
        " ('HQ_1', 0.37315904278843104),\n",
        " ('HQ_2', 0.24302027522229711)]"
       ]
      }
     ],
     "prompt_number": 74
    },
    {
     "cell_type": "code",
     "collapsed": false,
     "input": [
      "lm_train.score(training_set_random2[simple_features], training_truth_random2)"
     ],
     "language": "python",
     "metadata": {},
     "outputs": [
      {
       "metadata": {},
       "output_type": "pyout",
       "prompt_number": 79,
       "text": [
        "0.95176675140792877"
       ]
      }
     ],
     "prompt_number": 79
    },
    {
     "cell_type": "code",
     "collapsed": false,
     "input": [
      "lm_train.score(test_set_random, test_truth_random)"
     ],
     "language": "python",
     "metadata": {},
     "outputs": [
      {
       "metadata": {},
       "output_type": "pyout",
       "prompt_number": 83,
       "text": [
        "0.94676000000000005"
       ]
      }
     ],
     "prompt_number": 83
    },
    {
     "cell_type": "code",
     "collapsed": false,
     "input": [
      "#100k tp; 50k fp\n",
      "#lm_train.score(test_set, test_truth)"
     ],
     "language": "python",
     "metadata": {},
     "outputs": [
      {
       "metadata": {},
       "output_type": "pyout",
       "prompt_number": 216,
       "text": [
        "0.94876739743473115"
       ]
      }
     ],
     "prompt_number": 216
    },
    {
     "cell_type": "code",
     "collapsed": false,
     "input": [
      "fp,tp = get_fp_tp_predictions(training_set_random2[simple_features], training_truth_random2, lm_train)\n"
     ],
     "language": "python",
     "metadata": {},
     "outputs": [],
     "prompt_number": 80
    },
    {
     "cell_type": "code",
     "collapsed": false,
     "input": [
      "fp.predictions.value_counts()[0] / float(fp.predictions.value_counts().sum())"
     ],
     "language": "python",
     "metadata": {},
     "outputs": [
      {
       "metadata": {},
       "output_type": "pyout",
       "prompt_number": 81,
       "text": [
        "0.81566921764025768"
       ]
      }
     ],
     "prompt_number": 81
    },
    {
     "cell_type": "code",
     "collapsed": false,
     "input": [
      "tp.predictions.value_counts()[1] / float(tp.predictions.value_counts().sum())"
     ],
     "language": "python",
     "metadata": {},
     "outputs": [
      {
       "metadata": {},
       "output_type": "pyout",
       "prompt_number": 82,
       "text": [
        "0.97135453810678463"
       ]
      }
     ],
     "prompt_number": 82
    },
    {
     "cell_type": "code",
     "collapsed": false,
     "input": [
      "training_truth_random2.truth.value_counts()"
     ],
     "language": "python",
     "metadata": {},
     "outputs": [
      {
       "metadata": {},
       "output_type": "pyout",
       "prompt_number": 84,
       "text": [
        "1    126198\n",
        "0     18163\n",
        "dtype: int64"
       ]
      }
     ],
     "prompt_number": 84
    },
    {
     "cell_type": "code",
     "collapsed": false,
     "input": [
      "#LOGISTIC REGRESSION ROC CURVE DATA\n",
      "\n",
      "test_results = lm_train.predict_proba(training_set_random2[simple_features])\n",
      "test_results_df = pd.DataFrame(test_results)\n",
      "test_results_df['truth'] = training_truth_random2.values\n",
      "test_results_df.describe()\n",
      "\n",
      "logReg_xy = []\n",
      "optimal_threshold = None\n",
      "for i in range(0,100,2):\n",
      "    temp0_thresh = i/100.0\n",
      "    #print i\n",
      "    temp_df = test_results_df[(test_results_df[1].astype(float) >= temp0_thresh)] #all variants not passing the threshold\n",
      "    fp_rate = len(temp_df[temp_df.truth==0]) / float(training_truth_random2.truth.value_counts()[0])  #true negatives\n",
      "    tp_rate = len(temp_df[temp_df.truth==1]) / float(training_truth_random2.truth.value_counts()[1])\n",
      "    #print\n",
      "    #print 'fp:', fp_rate\n",
      "    #print 'tp:', tp_rate\n",
      "    #print\n",
      "    if fp_rate <= 0.16 and tp_rate >= 0.90:\n",
      "        optimal_threshold = i\n",
      "        print fp_rate, tp_rate, temp0_thresh\n",
      "    logReg_xy.append((fp_rate, tp_rate))\n",
      "\n",
      "logReg_xy_df = pd.DataFrame.from_records(logReg_xy)\n",
      "logReg_xy_df.columns=['1 - specificity','sensitivity']    \n",
      "pd.scatter_matrix(logReg_xy_df, figsize=(8,8),s=100)\n",
      "\n",
      "lr_fp = test_results_df[(test_results_df.truth==0) & (test_results_df[1] >= optimal_threshold)]   \n",
      "lr_tp = test_results_df[(test_results_df.truth==1) & (test_results_df[1] < optimal_threshold)]   \n",
      "\n",
      "\n",
      "\n",
      "from sklearn import metrics\n",
      "y = test_results_df['truth']\n",
      "pred = test_results_df[1]\n",
      "fpr, tpr, thresholds = metrics.roc_curve(y, pred, pos_label=1)\n",
      "\n",
      "print 'AUC:', metrics.auc(fpr, tpr)"
     ],
     "language": "python",
     "metadata": {},
     "outputs": [
      {
       "output_type": "stream",
       "stream": "stdout",
       "text": [
        "0.158343885922 0.9597616444 0.58\n",
        "0.153003358476 0.955831312699 0.6\n",
        "0.146892033254 0.951457233871 0.62\n",
        "0.141441391841 0.946425458407 0.64\n",
        "0.135109838683"
       ]
      },
      {
       "output_type": "stream",
       "stream": "stdout",
       "text": [
        " 0.940791454698 0.66\n",
        "0.128613114574 0.933659804434 0.68\n",
        "0.122722017288 0.925474254743 0.7\n",
        "0.11611517921 0.915664273602 0.72\n",
        "0.110444309861"
       ]
      },
      {
       "output_type": "stream",
       "stream": "stdout",
       "text": [
        " 0.904182316677 0.74\n",
        "AUC:"
       ]
      },
      {
       "output_type": "stream",
       "stream": "stdout",
       "text": [
        " 0.94636922719\n"
       ]
      },
      {
       "metadata": {},
       "output_type": "display_data",
       "png": "[encoded data removed]",
       "text": [
        "<matplotlib.figure.Figure at 0x16c0e16d0>"
       ]
      }
     ],
     "prompt_number": 85
    },
    {
     "cell_type": "code",
     "collapsed": false,
     "input": [
      "LR_test_results_df = test_results_df.copy()\n",
      "LR_test_results_df.index = test_set.index"
     ],
     "language": "python",
     "metadata": {},
     "outputs": [],
     "prompt_number": 198
    },
    {
     "cell_type": "code",
     "collapsed": false,
     "input": [
      "LR_test_results_df_filtered = LR_test_results_df[LR_test_results_df[1].astype(float) >= 0.74]\n"
     ],
     "language": "python",
     "metadata": {},
     "outputs": [],
     "prompt_number": 199
    },
    {
     "cell_type": "heading",
     "level": 1,
     "metadata": {},
     "source": [
      "TRAINING & TESTING RF MODELs"
     ]
    },
    {
     "cell_type": "code",
     "collapsed": false,
     "input": [
      "\n",
      "from sklearn.ensemble import RandomForestClassifier\n",
      "clf = RandomForestClassifier(n_estimators=500,n_jobs=12, oob_score=True, criterion='gini', min_samples_split=4, min_samples_leaf=2)"
     ],
     "language": "python",
     "metadata": {},
     "outputs": [],
     "prompt_number": 86
    },
    {
     "cell_type": "code",
     "collapsed": false,
     "input": [
      "training_set_random.columns"
     ],
     "language": "python",
     "metadata": {},
     "outputs": [
      {
       "metadata": {},
       "output_type": "pyout",
       "prompt_number": 87,
       "text": [
        "Index([u'HQ_1', u'HQ_2', u'EHQ_1', u'EHQ_2', u'CGA_CEHQ_1', u'CGA_CEHQ_2', u'AD_1', u'AD_2', u'CGA_SDO', u'GQ', u'DP', u'CGA_RDP', u'allele_imbal', u'AA_CGA_CEGL', u'AA_GL', u'AB_CGA_CEGL', u'AB_GL', u'AC_CGA_CEGL', u'AC_GL', u'BB_CGA_CEGL', u'BB_GL', u'BC_CGA_CEGL', u'BC_GL', u'CC_CGA_CEGL', u'CC_GL', u'CGA_RPT', u'FT_PASS', u'FT_VQLOW', u'multiallele', u'phase_/', u'phase_|', u'vartype1_del', u'vartype1_ins', u'vartype1_mnp', u'vartype1_snp', u'vartype2_del', u'vartype2_ins', u'vartype2_mnp', u'vartype2_snp', u'zygosity_het-alt', u'zygosity_het-miss', u'zygosity_het-ref', u'zygosity_hom-alt'], dtype='object')"
       ]
      }
     ],
     "prompt_number": 87
    },
    {
     "cell_type": "code",
     "collapsed": false,
     "input": [
      "simple_features = [i for i in training_set_random.columns if 'HQ' in i or 'zygosity' in i or 'vartype' in i ]  #or  'HQ' in i or 'GL' in i\n",
      "simple_features.extend(['allele_imbal', 'AD_1', 'AD_2', 'DP', 'GQ', 'HQ_1', 'HQ_2'])  #'CGA_SDO', 'CGA_RPT',\n",
      "\n",
      "\n",
      "\n",
      "clf1 = clf.fit(training_set_random[simple_features], training_truth_random)  #About 10 minutes with 8 jobs"
     ],
     "language": "python",
     "metadata": {},
     "outputs": [
      {
       "output_type": "stream",
       "stream": "stderr",
       "text": [
        "-c:6: DataConversionWarning: A column-vector y was passed when a 1d array was expected. Please change the shape of y to (n_samples, ), for example using ravel().\n"
       ]
      }
     ],
     "prompt_number": 252
    },
    {
     "cell_type": "code",
     "collapsed": false,
     "input": [
      "import cPickle\n",
      "#cPickle.dump(clf1, open('/gpfs/home/erscott/Datasets_raw/PlatinumGenomes/NA12877/NA12877_phasing/NA12877_preprocessed_training_set_RF_model_500estim_8jobs_entropy_autosomes.pkl','w'))   \n",
      "#!gzip /gpfs/home/erscott/Datasets_raw/PlatinumGenomes/NA12877/NA12877_phasing/NA12877_preprocessed_training_set_RF_model_500estim_8jobs_entropy_autosomes.pkl    \n",
      "\n",
      "\n",
      "cPickle.dump(clf1, open('/Users/ers_vader/git_data/cg_classifier/NA12878/gemini/CGvsNISTall/NA12878_CGvsNISTall_training_features_scaled_RF_model_500estim_12jobs_gini_Toobscore_4minSampleSp_2minSampleLeaf_autosomes.pkl','w'))   \n",
      "!gzip /Users/ers_vader/git_data/cg_classifier/NA12878/gemini/CGvsNISTall/NA12878_CGvsNISTall_training_features_scaled_RF_model_500estim_12jobs_gini_Toobscore_4minSampleSp_2minSampleLeaf_autosomes.pkl    \n"
     ],
     "language": "python",
     "metadata": {},
     "outputs": [],
     "prompt_number": 157
    },
    {
     "cell_type": "code",
     "collapsed": false,
     "input": [
      "zip(simple_features, clf1.feature_importances_)"
     ],
     "language": "python",
     "metadata": {},
     "outputs": [
      {
       "metadata": {},
       "output_type": "pyout",
       "prompt_number": 249,
       "text": [
        "[('HQ_1', 0.025293768405525118),\n",
        " ('HQ_2', 0.051404406642358562),\n",
        " ('EHQ_1', 0.028748680019058056),\n",
        " ('EHQ_2', 0.068091515224339663),\n",
        " ('CGA_CEHQ_1', 0.11792148570615442),\n",
        " ('CGA_CEHQ_2', 0.13943915536981943),\n",
        " ('AA_CGA_CEGL', 0.16117345986966791),\n",
        " ('AA_GL', 0.075102813506193217),\n",
        " ('AB_CGA_CEGL', 0.030829973700002507),\n",
        " ('AB_GL', 0.022560193347799289),\n",
        " ('AC_CGA_CEGL', 0.00095019136917805431),\n",
        " ('AC_GL', 0.00056591302267346112),\n",
        " ('BB_CGA_CEGL', 0.032316448926691554),\n",
        " ('BB_GL', 0.026453619343369723),\n",
        " ('BC_CGA_CEGL', 0.00046889832263451143),\n",
        " ('BC_GL', 0.0006254895884502793),\n",
        " ('CC_CGA_CEGL', 0.00095528020130444423),\n",
        " ('CC_GL', 0.00060073597047436995),\n",
        " ('vartype1_del', 0.026755138053665847),\n",
        " ('vartype1_ins', 0.01865848309798766),\n",
        " ('vartype1_mnp', 0.0031213001200178004),\n",
        " ('vartype1_snp', 0.10169001737615528),\n",
        " ('vartype2_del', 0.0043174040513844353),\n",
        " ('vartype2_ins', 0.002399162187532001),\n",
        " ('vartype2_mnp', 0.00042530521405589964),\n",
        " ('vartype2_snp', 0.0082903445113856576),\n",
        " ('zygosity_het-alt', 0.00058018008747251525),\n",
        " ('zygosity_het-miss', 0.020522492612636396),\n",
        " ('zygosity_het-ref', 0.0044760756168066877),\n",
        " ('zygosity_hom-alt', 0.025262068535205226)]"
       ]
      }
     ],
     "prompt_number": 249
    },
    {
     "cell_type": "code",
     "collapsed": false,
     "input": [
      "rf_train_scaled_coeff = pd.Series(clf1.feature_importances_)\n",
      "rf_train_scaled_coeff.index = simple_features\n",
      "rf_plot = rf_train_scaled_coeff.plot(kind='bar', figsize = (20,5), color='#00ADEF')"
     ],
     "language": "python",
     "metadata": {},
     "outputs": [
      {
       "metadata": {},
       "output_type": "display_data",
       "png": "[encoded data removed]",
       "text": [
        "<matplotlib.figure.Figure at 0x1b8233210>"
       ]
      }
     ],
     "prompt_number": 253
    },
    {
     "cell_type": "code",
     "collapsed": false,
     "input": [
      "rf_train_scaled_coeff = pd.Series(clf1.feature_importances_)\n",
      "rf_train_scaled_coeff.index = simple_features\n",
      "rf_plot = rf_train_scaled_coeff.plot(kind='bar', figsize = (20,5), color='#00ADEF')\n",
      "savefig('/Users/ers_vader/git_data/cg_classifier/NA12878/gemini/CGvsNISTall/rf_featureImport_scaled_NA12878.png', bbox_inches='tight', dpi=500, orientation='landscape')"
     ],
     "language": "python",
     "metadata": {},
     "outputs": [
      {
       "metadata": {},
       "output_type": "display_data",
       "png": "[encoded data removed]",
       "text": [
        "<matplotlib.figure.Figure at 0x1b72f9390>"
       ]
      }
     ],
     "prompt_number": 174
    },
    {
     "cell_type": "code",
     "collapsed": false,
     "input": [
      "rf_train_scaled_coeff = pd.Series(clf1.feature_importances_)\n",
      "rf_train_scaled_coeff.index = training_set_random.columns\n",
      "rf_plot = rf_train_scaled_coeff.plot(kind='bar', figsize = (20,5), color='#00ADEF')\n",
      "print clf1.oob_score_"
     ],
     "language": "python",
     "metadata": {},
     "outputs": [
      {
       "output_type": "stream",
       "stream": "stdout",
       "text": [
        "0.9571\n"
       ]
      },
      {
       "metadata": {},
       "output_type": "display_data",
       "png": "[encoded data removed]",
       "text": [
        "<matplotlib.figure.Figure at 0x1b6908a10>"
       ]
      }
     ],
     "prompt_number": 243
    },
    {
     "cell_type": "code",
     "collapsed": false,
     "input": [
      "rf_train_scaled_coeff = pd.Series(clf1.feature_importances_)\n",
      "rf_train_scaled_coeff.index = training_set_random_scaled.columns\n",
      "rf_train_scaled_coeff.plot(kind='bar', figsize = (20,5), color='cyan')"
     ],
     "language": "python",
     "metadata": {},
     "outputs": [
      {
       "metadata": {},
       "output_type": "pyout",
       "prompt_number": 55,
       "text": [
        "<matplotlib.axes.AxesSubplot at 0x119c15090>"
       ]
      },
      {
       "metadata": {},
       "output_type": "display_data",
       "png": "[encoded data removed]",
       "text": [
        "<matplotlib.figure.Figure at 0x119c15b50>"
       ]
      }
     ],
     "prompt_number": 55
    },
    {
     "cell_type": "code",
     "collapsed": false,
     "input": [
      "#100k, 50k, simple features\n",
      "clf1.oob_score_"
     ],
     "language": "python",
     "metadata": {},
     "outputs": [
      {
       "metadata": {},
       "output_type": "pyout",
       "prompt_number": 254,
       "text": [
        "0.94968666666666668"
       ]
      }
     ],
     "prompt_number": 254
    },
    {
     "cell_type": "code",
     "collapsed": false,
     "input": [
      "#100k, 50k, simple features\n",
      "clf1.oob_score_"
     ],
     "language": "python",
     "metadata": {},
     "outputs": [
      {
       "metadata": {},
       "output_type": "pyout",
       "prompt_number": 98,
       "text": [
        "0.95397333333333334"
       ]
      }
     ],
     "prompt_number": 98
    },
    {
     "cell_type": "code",
     "collapsed": false,
     "input": [
      "#100k, 50k\n",
      "clf1.oob_score_"
     ],
     "language": "python",
     "metadata": {},
     "outputs": [
      {
       "metadata": {},
       "output_type": "pyout",
       "prompt_number": 56,
       "text": [
        "0.95457999999999998"
       ]
      }
     ],
     "prompt_number": 56
    },
    {
     "cell_type": "code",
     "collapsed": false,
     "input": [
      "#100k, 50k\n",
      "clf1.oob_score_"
     ],
     "language": "python",
     "metadata": {},
     "outputs": [
      {
       "metadata": {},
       "output_type": "pyout",
       "prompt_number": 108,
       "text": [
        "0.91674666666666671"
       ]
      }
     ],
     "prompt_number": 108
    },
    {
     "cell_type": "code",
     "collapsed": false,
     "input": [
      "#130k, 13k\n",
      "clf1.oob_score_"
     ],
     "language": "python",
     "metadata": {},
     "outputs": [
      {
       "metadata": {},
       "output_type": "pyout",
       "prompt_number": 301,
       "text": [
        "0.96606666666666663"
       ]
      }
     ],
     "prompt_number": 301
    },
    {
     "cell_type": "code",
     "collapsed": false,
     "input": [
      "#RF simple features, scaled data\n",
      "clf1.score(training_set_random2[simple_features], training_truth_random2.values)"
     ],
     "language": "python",
     "metadata": {},
     "outputs": [
      {
       "metadata": {},
       "output_type": "pyout",
       "prompt_number": 255,
       "text": [
        "0.95820200746739081"
       ]
      }
     ],
     "prompt_number": 255
    },
    {
     "cell_type": "code",
     "collapsed": false,
     "input": [
      "clf1.score(test_set_random, test_truth_random.values)"
     ],
     "language": "python",
     "metadata": {},
     "outputs": [
      {
       "metadata": {},
       "output_type": "pyout",
       "prompt_number": 109,
       "text": [
        "0.94998000000000005"
       ]
      }
     ],
     "prompt_number": 109
    },
    {
     "cell_type": "code",
     "collapsed": false,
     "input": [
      "test_truth.truth.value_counts()"
     ],
     "language": "python",
     "metadata": {},
     "outputs": [
      {
       "metadata": {},
       "output_type": "pyout",
       "prompt_number": 111,
       "text": [
        "1    3522560\n",
        "0     360448\n",
        "dtype: int64"
       ]
      }
     ],
     "prompt_number": 111
    },
    {
     "cell_type": "code",
     "collapsed": false,
     "input": [
      "#RANDOM FOREST ROC DATA\n",
      "test_results = clf1.predict_proba(training_set_random2[simple_features])\n",
      "test_results_df = pd.DataFrame(test_results)\n",
      "test_results_df['truth'] = training_truth_random2.values\n",
      "\n",
      "RF_xy = []\n",
      "optimal_threshold = None\n",
      "for i in range(0,100,2):\n",
      "    temp0_thresh = i/100.0\n",
      "    #print i\n",
      "    temp_df = test_results_df[(test_results_df[1].astype(float) >= temp0_thresh)]\n",
      "    fp_rate = len(temp_df[temp_df.truth==0]) / float(training_truth_random2.truth.value_counts()[0])\n",
      "    tp_rate = len(temp_df[temp_df.truth==1]) / float(training_truth_random2.truth.value_counts()[1])\n",
      "    #print\n",
      "    #print 'fp:', fp_rate\n",
      "    #print 'tp:', tp_rate\n",
      "    #print\n",
      "    if fp_rate <= 0.15 and tp_rate >= 0.9:\n",
      "        optimal_threshold = i\n",
      "        print round(fp_rate,4), round(tp_rate, 4), temp0_thresh\n",
      "    RF_xy.append((fp_rate, tp_rate))\n",
      "    \n",
      "RF_xy_df = pd.DataFrame.from_records(RF_xy)\n",
      "RF_xy_df.columns=['1 - specificity','sensitivity']\n",
      "pd.scatter_matrix(RF_xy_df, figsize=(8,8),s=100)\n",
      "\n",
      "rf_fp = test_results_df[(test_results_df.truth==0) & (test_results_df[1].astype(float) >= optimal_threshold)]   \n",
      "rf_tp = test_results_df[(test_results_df.truth==1) & (test_results_df[1].astype(float) < optimal_threshold)]   \n",
      "\n",
      "\n",
      "from sklearn import metrics\n",
      "y = test_results_df['truth']\n",
      "pred = test_results_df[1]\n",
      "fpr, tpr, thresholds = metrics.roc_curve(y, pred, pos_label=1)\n",
      "\n",
      "print 'AUC:', metrics.auc(fpr, tpr)"
     ],
     "language": "python",
     "metadata": {},
     "outputs": [
      {
       "output_type": "stream",
       "stream": "stdout",
       "text": [
        "0.1484 0.9856 0.2\n",
        "0.1423 0.985 0.22\n",
        "0.1369 0.9842 0.24\n",
        "0.1319 0.9834 0.26\n",
        "0.1273"
       ]
      },
      {
       "output_type": "stream",
       "stream": "stdout",
       "text": [
        " 0.9826 0.28\n",
        "0.123 0.9817 0.3\n",
        "0.118 0.9809 0.32\n",
        "0.1131 0.9802 0.34\n",
        "0.1095"
       ]
      },
      {
       "output_type": "stream",
       "stream": "stdout",
       "text": [
        " 0.979 0.36\n",
        "0.1062 0.9779 0.38\n",
        "0.103 0.9768 0.4\n",
        "0.0998 0.9756 0.42\n",
        "0.0964"
       ]
      },
      {
       "output_type": "stream",
       "stream": "stdout",
       "text": [
        " 0.9744 0.44\n",
        "0.0925 0.9733 0.46\n",
        "0.0889 0.9719 0.48\n",
        "0.0853 0.9706 0.5\n",
        "0.082"
       ]
      },
      {
       "output_type": "stream",
       "stream": "stdout",
       "text": [
        " 0.9689 0.52\n",
        "0.0787 0.9674 0.54\n",
        "0.0766 0.9656 0.56\n",
        "0.0742 0.9637 0.58\n",
        "0.0713"
       ]
      },
      {
       "output_type": "stream",
       "stream": "stdout",
       "text": [
        " 0.9619 0.6\n",
        "0.0688 0.9597 0.62\n",
        "0.066 0.9575 0.64\n",
        "0.0634 0.955 0.66\n",
        "0.0606"
       ]
      },
      {
       "output_type": "stream",
       "stream": "stdout",
       "text": [
        " 0.9524 0.68\n",
        "0.0577 0.9494 0.7\n",
        "0.0549 0.9458 0.72\n",
        "0.0522 0.9416 0.74\n",
        "0.0493"
       ]
      },
      {
       "output_type": "stream",
       "stream": "stdout",
       "text": [
        " 0.9371 0.76\n",
        "0.0464 0.9323 0.78\n",
        "0.0426 0.9266 0.8\n",
        "0.0396 0.9195 0.82\n",
        "0.0373"
       ]
      },
      {
       "output_type": "stream",
       "stream": "stdout",
       "text": [
        " 0.9115 0.84\n",
        "0.0347 0.9024 0.86\n",
        "AUC:"
       ]
      },
      {
       "output_type": "stream",
       "stream": "stdout",
       "text": [
        " 0.982597067741\n"
       ]
      },
      {
       "metadata": {},
       "output_type": "display_data",
       "png": "[encoded data removed]",
       "text": [
        "<matplotlib.figure.Figure at 0x166c6f6d0>"
       ]
      }
     ],
     "prompt_number": 99
    },
    {
     "cell_type": "code",
     "collapsed": false,
     "input": [
      "rf_test_results_df = test_results_df.copy() \n",
      "rf_test_results_df.index = test_set.index"
     ],
     "language": "python",
     "metadata": {},
     "outputs": [],
     "prompt_number": 122
    },
    {
     "cell_type": "code",
     "collapsed": false,
     "input": [
      "rf_test_results_df_filtered = rf_test_results_df[rf_test_results_df[1].astype(float) > 0.73]\n",
      "rf_test_results_df_filtered.truth.value_counts()"
     ],
     "language": "python",
     "metadata": {},
     "outputs": [
      {
       "metadata": {},
       "output_type": "pyout",
       "prompt_number": 166,
       "text": [
        "1    3173771\n",
        "0      37274\n",
        "dtype: int64"
       ]
      }
     ],
     "prompt_number": 166
    },
    {
     "cell_type": "code",
     "collapsed": false,
     "input": [
      "(rf_test_results_df.truth.value_counts()[1] - rf_test_results_df_filtered.truth.value_counts()[1] )/ float(test_results_df.truth.value_counts()[1])"
     ],
     "language": "python",
     "metadata": {},
     "outputs": [
      {
       "metadata": {},
       "output_type": "pyout",
       "prompt_number": 167,
       "text": [
        "0.09901577261991279"
       ]
      }
     ],
     "prompt_number": 167
    },
    {
     "cell_type": "code",
     "collapsed": false,
     "input": [
      "(rf_test_results_df.truth.value_counts()[0] - rf_test_results_df_filtered.truth.value_counts()[0]) / float(test_results_df.truth.value_counts()[0])"
     ],
     "language": "python",
     "metadata": {},
     "outputs": [
      {
       "metadata": {},
       "output_type": "pyout",
       "prompt_number": 168,
       "text": [
        "0.89658979936079541"
       ]
      }
     ],
     "prompt_number": 168
    },
    {
     "cell_type": "heading",
     "level": 1,
     "metadata": {},
     "source": [
      "Stochastic Gradient Boosting"
     ]
    },
    {
     "cell_type": "code",
     "collapsed": false,
     "input": [
      "from sklearn import ensemble\n",
      "gbc = ensemble.GradientBoostingClassifier(n_estimators=150, learning_rate=0.1, subsample=1, max_depth=5,  verbose=1)   \n"
     ],
     "language": "python",
     "metadata": {},
     "outputs": [],
     "prompt_number": 100
    },
    {
     "cell_type": "code",
     "collapsed": false,
     "input": [
      "gbc_model = gbc.fit(training_set_random[simple_features], training_truth_random)\n"
     ],
     "language": "python",
     "metadata": {},
     "outputs": [
      {
       "output_type": "stream",
       "stream": "stdout",
       "text": [
        "      Iter       Train Loss   Remaining Time \n",
        "         1           1.1245            1.07m"
       ]
      },
      {
       "output_type": "stream",
       "stream": "stdout",
       "text": [
        "\n",
        "         2           1.0084           53.84s"
       ]
      },
      {
       "output_type": "stream",
       "stream": "stdout",
       "text": [
        "\n",
        "         3           0.9145           49.80s"
       ]
      },
      {
       "output_type": "stream",
       "stream": "stdout",
       "text": [
        "\n",
        "         4           0.8366           49.02s"
       ]
      },
      {
       "output_type": "stream",
       "stream": "stdout",
       "text": [
        "\n",
        "         5           0.7705           48.46s"
       ]
      },
      {
       "output_type": "stream",
       "stream": "stdout",
       "text": [
        "\n",
        "         6           0.7149           47.89s"
       ]
      },
      {
       "output_type": "stream",
       "stream": "stdout",
       "text": [
        "\n",
        "         7           0.6666           46.69s"
       ]
      },
      {
       "output_type": "stream",
       "stream": "stdout",
       "text": [
        "\n",
        "         8           0.6242           45.64s"
       ]
      },
      {
       "output_type": "stream",
       "stream": "stdout",
       "text": [
        "\n",
        "         9           0.5883           44.81s"
       ]
      },
      {
       "output_type": "stream",
       "stream": "stdout",
       "text": [
        "\n",
        "        10           0.5565           43.99s"
       ]
      },
      {
       "output_type": "stream",
       "stream": "stdout",
       "text": [
        "\n",
        "        20           0.3815           39.05s"
       ]
      },
      {
       "output_type": "stream",
       "stream": "stdout",
       "text": [
        "\n",
        "        30           0.3219           36.34s"
       ]
      },
      {
       "output_type": "stream",
       "stream": "stdout",
       "text": [
        "\n",
        "        40           0.2974           33.97s"
       ]
      },
      {
       "output_type": "stream",
       "stream": "stdout",
       "text": [
        "\n",
        "        50           0.2863           30.82s"
       ]
      },
      {
       "output_type": "stream",
       "stream": "stdout",
       "text": [
        "\n",
        "        60           0.2798           27.63s"
       ]
      },
      {
       "output_type": "stream",
       "stream": "stdout",
       "text": [
        "\n",
        "        70           0.2755           24.37s"
       ]
      },
      {
       "output_type": "stream",
       "stream": "stdout",
       "text": [
        "\n",
        "        80           0.2723           21.24s"
       ]
      },
      {
       "output_type": "stream",
       "stream": "stdout",
       "text": [
        "\n",
        "        90           0.2700           18.01s"
       ]
      },
      {
       "output_type": "stream",
       "stream": "stdout",
       "text": [
        "\n",
        "       100           0.2677           14.93s"
       ]
      },
      {
       "output_type": "stream",
       "stream": "stdout",
       "text": [
        "\n"
       ]
      },
      {
       "output_type": "stream",
       "stream": "stderr",
       "text": [
        "//anaconda/lib/python2.7/site-packages/sklearn/ensemble/gradient_boosting.py:1126: DataConversionWarning: A column-vector y was passed when a 1d array was expected. Please change the shape of y to (n_samples, ), for example using ravel().\n",
        "  y = column_or_1d(y, warn=True)\n"
       ]
      }
     ],
     "prompt_number": 101
    },
    {
     "cell_type": "code",
     "collapsed": false,
     "input": [
      "import cPickle\n",
      "#cPickle.dump(gbc_model, open('/gpfs/home/erscott/Datasets_raw/PlatinumGenomes/NA12877/NA12877_phasing/NA12877_preprocessed_training_set_GBC_model_150estim_1subsample_autosomes.pkl','w'))   \n",
      "#!gzip /gpfs/home/erscott/Datasets_raw/PlatinumGenomes/NA12877/NA12877_phasing/NA12877_preprocessed_training_set_GBC_model_150estim_1subsample_autosomes.pkl   \n",
      "\n",
      "cPickle.dump(gbc_model, open('/Users/ers_vader/git_data/cg_classifier/NA12878/gemini/CGvsNISTall/NA12878_CGvsNISTall_training_features_scaled_GBC_model_150estim_1subsample_learn0.1_maxdepth5_autosomes.pkl','w'))   \n",
      "!gzip /Users/ers_vader/git_data/cg_classifier/NA12878/gemini/CGvsNISTall/NA12878_CGvsNISTall_training_features_scaled_GBC_model_150estim_1subsample_learn0.1_maxdepth5_autosomes.pkl    \n",
      "\n"
     ],
     "language": "python",
     "metadata": {},
     "outputs": [],
     "prompt_number": 156
    },
    {
     "cell_type": "code",
     "collapsed": false,
     "input": [
      "zip(training_set_random.columns, gbc_model.feature_importances_)"
     ],
     "language": "python",
     "metadata": {},
     "outputs": [
      {
       "metadata": {},
       "output_type": "pyout",
       "prompt_number": 102,
       "text": [
        "[('HQ_1', 0.0074646307912480349),\n",
        " ('HQ_2', 0.0021084420077797585),\n",
        " ('EHQ_1', 0.015202226305586691),\n",
        " ('EHQ_2', 0.11886117740132375),\n",
        " ('CGA_CEHQ_1', 0.0029226626262531898),\n",
        " ('CGA_CEHQ_2', 0.0036699396539216374),\n",
        " ('AD_1', 0.0064216160010496159),\n",
        " ('AD_2', 0.014375491349524696),\n",
        " ('CGA_SDO', 0.0068652001370747987),\n",
        " ('GQ', 0.00052880663389259319),\n",
        " ('DP', 0.0069640529613501168),\n",
        " ('CGA_RDP', 0.037284851562584445),\n",
        " ('allele_imbal', 0.10588681615347051),\n",
        " ('AA_CGA_CEGL', 0.08485614036310804),\n",
        " ('AA_GL', 0.059956756026821489),\n",
        " ('AB_CGA_CEGL', 0.099170048813326653),\n",
        " ('AB_GL', 0.13992162991384488),\n",
        " ('AC_CGA_CEGL', 0.11611712992385537),\n",
        " ('AC_GL', 0.17142238137398369)]"
       ]
      }
     ],
     "prompt_number": 102
    },
    {
     "cell_type": "code",
     "collapsed": false,
     "input": [
      "f, ax = plt.subplots()\n",
      "seaborn.offset_spines()\n",
      "random_violin = random.sample(training_set.index,25000)\n",
      "seaborn.violinplot(training_set[training_set.index.isin(random_violin)][['AD_1','AD_2', 'DP']])\n",
      "seaborn.despine(trim=True);"
     ],
     "language": "python",
     "metadata": {},
     "outputs": [
      {
       "metadata": {},
       "output_type": "display_data",
       "png": "[encoded data removed]",
       "text": [
        "<matplotlib.figure.Figure at 0x1b6f5eb10>"
       ]
      }
     ],
     "prompt_number": 221
    },
    {
     "cell_type": "code",
     "collapsed": false,
     "input": [
      "\n",
      "gbc_train_scaled_coeff = pd.Series(gbc_model.feature_importances_)\n",
      "gbc_train_scaled_coeff.index = simple_features\n",
      "gbc_train_scaled_coeff.plot(kind='bar', figsize = (10,5),grid=True)\n",
      "savefig('/Users/ers_vader/git_data/cg_classifier/NA12878/gemini/CGvsNISTall/gbc_featureImport_scaled_NA12878.png', bbox_inches='tight', dpi=500, orientation='landscape')"
     ],
     "language": "python",
     "metadata": {},
     "outputs": [
      {
       "metadata": {},
       "output_type": "display_data",
       "png": "[encoded data removed]",
       "text": [
        "<matplotlib.figure.Figure at 0x1b6f312d0>"
       ]
      }
     ],
     "prompt_number": 231
    },
    {
     "cell_type": "code",
     "collapsed": false,
     "input": [
      "gbc_train_scaled_coeff = pd.Series(gbc_model.feature_importances_)\n",
      "gbc_train_scaled_coeff.index = simple_features\n",
      "gbc_train_scaled_coeff.plot(kind='bar', figsize = (20,5), color='#00ADEF')"
     ],
     "language": "python",
     "metadata": {},
     "outputs": [
      {
       "metadata": {},
       "output_type": "pyout",
       "prompt_number": 103,
       "text": [
        "<matplotlib.axes.AxesSubplot at 0x13d14de10>"
       ]
      },
      {
       "metadata": {},
       "output_type": "display_data",
       "png": "[encoded data removed]",
       "text": [
        "<matplotlib.figure.Figure at 0x13d14ded0>"
       ]
      }
     ],
     "prompt_number": 103
    },
    {
     "cell_type": "code",
     "collapsed": false,
     "input": [
      "training_truth_random.truth.value_counts()"
     ],
     "language": "python",
     "metadata": {},
     "outputs": [
      {
       "metadata": {},
       "output_type": "pyout",
       "prompt_number": 180,
       "text": [
        "1    100000\n",
        "0     50000\n",
        "dtype: int64"
       ]
      }
     ],
     "prompt_number": 180
    },
    {
     "cell_type": "code",
     "collapsed": false,
     "input": [
      "#100k tp, 50k fp; simple features, scaled TESTED ON SAME SAMPLE\n",
      "gbc_model.score(training_set_random2[simple_features], training_truth_random2.values)"
     ],
     "language": "python",
     "metadata": {},
     "outputs": [
      {
       "metadata": {},
       "output_type": "pyout",
       "prompt_number": 105,
       "text": [
        "0.96400689937032857"
       ]
      }
     ],
     "prompt_number": 105
    },
    {
     "cell_type": "code",
     "collapsed": false,
     "input": [
      "training_set_rf_predictions = lm.predict_proba(training_set[simple_features])\n"
     ],
     "language": "python",
     "metadata": {},
     "outputs": [],
     "prompt_number": 144
    },
    {
     "cell_type": "code",
     "collapsed": false,
     "input": [
      "#training_set_gbc_predictions = [\",\".join(map(str,i)) for i in training_set_gbc_predictions]\n",
      "training_set_rf_predictions = [i[1] for i in training_set_rf_predictions]\n"
     ],
     "language": "python",
     "metadata": {},
     "outputs": [],
     "prompt_number": 146
    },
    {
     "cell_type": "code",
     "collapsed": false,
     "input": [
      "training_set_rf_predictions[:10]"
     ],
     "language": "python",
     "metadata": {},
     "outputs": [
      {
       "metadata": {},
       "output_type": "pyout",
       "prompt_number": 147,
       "text": [
        "[0.95674151512886474,\n",
        " 0.94937318531419224,\n",
        " 0.95415619203737712,\n",
        " 0.94081653102123741,\n",
        " 0.9700031460903904,\n",
        " 0.97763118464048804,\n",
        " 0.98686335980389972,\n",
        " 0.95062435599471307,\n",
        " 0.87348177532173199,\n",
        " 0.95171146207431478]"
       ]
      }
     ],
     "prompt_number": 147
    },
    {
     "cell_type": "code",
     "collapsed": false,
     "input": [
      "training_set_gbc_predictions.index = training_set.index\n",
      "n_estimators=500,n_jobs=12, oob_score=True, criterion='gini', min_samples_split=4, min_samples_leaf=2"
     ],
     "language": "python",
     "metadata": {},
     "outputs": [],
     "prompt_number": 125
    },
    {
     "cell_type": "code",
     "collapsed": false,
     "input": [
      "training_set_gbc_predictions.columns = ['rf_prob_500estim_oobscoreT_12jobs_gini_4minSampSplit_2minSampLeaf']"
     ],
     "language": "python",
     "metadata": {},
     "outputs": [],
     "prompt_number": 126
    },
    {
     "cell_type": "code",
     "collapsed": false,
     "input": [
      "training_set['training_sample'].value_counts()"
     ],
     "language": "python",
     "metadata": {},
     "outputs": [
      {
       "metadata": {},
       "output_type": "pyout",
       "prompt_number": 154,
       "text": [
        "0    3747482\n",
        "1     150000\n",
        "dtype: int64"
       ]
      }
     ],
     "prompt_number": 154
    },
    {
     "cell_type": "code",
     "collapsed": false,
     "input": [
      "training_set = training_set.join(training_set_gbc_predictions['rf_prob_500estim_oobscoreT_12jobs_gini_4minSampSplit_2minSampLeaf'], how='left')\n"
     ],
     "language": "python",
     "metadata": {},
     "outputs": [],
     "prompt_number": 127
    },
    {
     "cell_type": "code",
     "collapsed": false,
     "input": [
      "training_set.to_csv('/Users/ers_vader/git_data/cg_classifier/NA12878/gemini/CGvsNISTall/NA12878_CGvsNISTall_training_features_scaled_with_ML_predictions', sep=\"\\t\")         \n",
      "\n"
     ],
     "language": "python",
     "metadata": {},
     "outputs": [],
     "prompt_number": 155
    },
    {
     "cell_type": "code",
     "collapsed": false,
     "input": [
      "training_set['lm_prob_l1penalty_C1'] = training_set_rf_predictions"
     ],
     "language": "python",
     "metadata": {},
     "outputs": [],
     "prompt_number": 148
    },
    {
     "cell_type": "code",
     "collapsed": false,
     "input": [
      "training_set['lm_prob_l1penalty_C1'].hist(log=True)"
     ],
     "language": "python",
     "metadata": {},
     "outputs": [
      {
       "metadata": {},
       "output_type": "pyout",
       "prompt_number": 150,
       "text": [
        "<matplotlib.axes.AxesSubplot at 0x15dee4910>"
       ]
      },
      {
       "metadata": {},
       "output_type": "display_data",
       "png": "[encoded data removed]",
       "text": [
        "<matplotlib.figure.Figure at 0x160d9a810>"
       ]
      }
     ],
     "prompt_number": 150
    },
    {
     "cell_type": "code",
     "collapsed": false,
     "input": [
      "training_set['gbc_prob_150estim_maxd5_learn01'] = training_set_gbc_predictions\n"
     ],
     "language": "python",
     "metadata": {},
     "outputs": [],
     "prompt_number": 116
    },
    {
     "cell_type": "code",
     "collapsed": false,
     "input": [
      "#100k tp, 50k fp; AD_1 and AD_2 \n",
      "gbc_model.score(test_set, test_truth.values)"
     ],
     "language": "python",
     "metadata": {},
     "outputs": [
      {
       "metadata": {},
       "output_type": "pyout",
       "prompt_number": 175,
       "text": [
        "0.95022595884427741"
       ]
      }
     ],
     "prompt_number": 175
    },
    {
     "cell_type": "code",
     "collapsed": false,
     "input": [
      "#100k tp, 50k fp\n",
      "gbc_model.score(test_set_random, test_truth_random.values)"
     ],
     "language": "python",
     "metadata": {},
     "outputs": [
      {
       "metadata": {},
       "output_type": "pyout",
       "prompt_number": 264,
       "text": [
        "0.95113000000000003"
       ]
      }
     ],
     "prompt_number": 264
    },
    {
     "cell_type": "code",
     "collapsed": false,
     "input": [
      "#130k tp, 13k fp\n",
      "gbc_model.score(test_set, test_truth.values)"
     ],
     "language": "python",
     "metadata": {},
     "outputs": [
      {
       "metadata": {},
       "output_type": "pyout",
       "prompt_number": 313,
       "text": [
        "0.96578731920312921"
       ]
      }
     ],
     "prompt_number": 313
    },
    {
     "cell_type": "code",
     "collapsed": false,
     "input": [
      "#Gradient Boosted Classifier ROC DATA\n",
      "test_results = gbc_model.predict_proba(training_set_random2[simple_features])\n",
      "test_results_df = pd.DataFrame(test_results)\n",
      "test_results_df['truth'] = training_truth_random2.values\n",
      "\n",
      "gbc_xy = []\n",
      "optimal_threshold = None\n",
      "for i in range(0,100,2):\n",
      "    temp0_thresh = i/100.0\n",
      "    #print i\n",
      "    temp_df = test_results_df[(test_results_df[1].astype(float) >= temp0_thresh)]\n",
      "    fp_rate = len(temp_df[temp_df.truth==0]) / float(training_truth_random2.truth.value_counts()[0])\n",
      "    tp_rate = len(temp_df[temp_df.truth==1]) / float(training_truth_random2.truth.value_counts()[1])\n",
      "    if fp_rate <= 0.15 and tp_rate >= 0.9:\n",
      "        optimal_threshold = temp0_thresh\n",
      "        print round(fp_rate,4), round(tp_rate, 4), temp0_thresh\n",
      "    #print\n",
      "    #print 'fp:', fp_rate\n",
      "    #print 'tp:', tp_rate\n",
      "    #print\n",
      "    gbc_xy.append((fp_rate, tp_rate))\n",
      "    \n",
      "gbc_fp = test_results_df[(test_results_df.truth==0) & (test_results_df[1].astype(float) >= optimal_threshold)]   \n",
      "gbc_fn = test_results_df[(test_results_df.truth==1) & (test_results_df[1].astype(float) < optimal_threshold)]   \n",
      "gbc_tp = test_results_df[(test_results_df.truth==1) & (test_results_df[1].astype(float) >= optimal_threshold)]\n",
      "    \n",
      "    \n",
      "gbc_xy_df = pd.DataFrame.from_records(gbc_xy)\n",
      "gbc_xy_df.columns=['1 - specificity','sensitivity']\n",
      "pd.scatter_matrix(gbc_xy_df, figsize=(8,8),s=100)\n",
      "\n",
      "from sklearn import metrics\n",
      "y = test_results_df['truth']\n",
      "pred = test_results_df[1]\n",
      "fpr, tpr, thresholds = metrics.roc_curve(y, pred, pos_label=1)\n",
      "\n",
      "print 'AUC:', metrics.auc(fpr, tpr)"
     ],
     "language": "python",
     "metadata": {},
     "outputs": [
      {
       "output_type": "stream",
       "stream": "stdout",
       "text": [
        "0.1494 0.9862 0.16\n",
        "0.1444 0.9856 0.18\n",
        "0.1403 0.985 0.2\n",
        "0.137 0.9845 0.22\n",
        "0.1321"
       ]
      },
      {
       "output_type": "stream",
       "stream": "stdout",
       "text": [
        " 0.9837 0.24\n",
        "0.1289 0.983 0.26\n",
        "0.1256 0.9824 0.28\n",
        "0.1221 0.9816 0.3\n",
        "0.1183"
       ]
      },
      {
       "output_type": "stream",
       "stream": "stdout",
       "text": [
        " 0.9807 0.32\n",
        "0.1146 0.9798 0.34\n",
        "0.1114 0.9788 0.36\n",
        "0.1085 0.978 0.38\n",
        "0.1053"
       ]
      },
      {
       "output_type": "stream",
       "stream": "stdout",
       "text": [
        " 0.9769 0.4\n",
        "0.1026 0.976 0.42\n",
        "0.0999 0.9751 0.44\n",
        "0.0972 0.9741 0.46\n",
        "0.0939"
       ]
      },
      {
       "output_type": "stream",
       "stream": "stdout",
       "text": [
        " 0.973 0.48\n",
        "0.091 0.9719 0.5\n",
        "0.089 0.9705 0.52\n",
        "0.0857 0.9693 0.54\n",
        "0.0829"
       ]
      },
      {
       "output_type": "stream",
       "stream": "stdout",
       "text": [
        " 0.968 0.56\n",
        "0.0796 0.9668 0.58\n",
        "0.0776 0.9654 0.6\n",
        "0.0755 0.9638 0.62\n",
        "0.0731"
       ]
      },
      {
       "output_type": "stream",
       "stream": "stdout",
       "text": [
        " 0.9623 0.64\n",
        "0.0706 0.9606 0.66\n",
        "0.0688 0.9587 0.68\n",
        "0.0663 0.9564 0.7\n",
        "0.0632"
       ]
      },
      {
       "output_type": "stream",
       "stream": "stdout",
       "text": [
        " 0.954 0.72\n",
        "0.0605 0.9508 0.74\n",
        "0.057 0.9474 0.76\n",
        "0.0541 0.9438 0.78\n",
        "0.0519"
       ]
      },
      {
       "output_type": "stream",
       "stream": "stdout",
       "text": [
        " 0.9399 0.8\n",
        "0.0493 0.9348 0.82\n",
        "0.046 0.9288 0.84\n",
        "0.0426 0.9217 0.86\n",
        "0.0387"
       ]
      },
      {
       "output_type": "stream",
       "stream": "stdout",
       "text": [
        " 0.912 0.88\n",
        "AUC:"
       ]
      },
      {
       "output_type": "stream",
       "stream": "stdout",
       "text": [
        " 0.982691187445\n"
       ]
      },
      {
       "metadata": {},
       "output_type": "display_data",
       "png": "[encoded data removed]",
       "text": [
        "<matplotlib.figure.Figure at 0x1b73e4590>"
       ]
      }
     ],
     "prompt_number": 176
    },
    {
     "cell_type": "code",
     "collapsed": false,
     "input": [
      "gbc_test_results_df = test_results_df.copy()\n",
      "gbc_test_results_df.index = test_set.index"
     ],
     "language": "python",
     "metadata": {},
     "outputs": [],
     "prompt_number": 208
    },
    {
     "cell_type": "code",
     "collapsed": false,
     "input": [
      "gbc_test_results_df.truth.value_counts()"
     ],
     "language": "python",
     "metadata": {},
     "outputs": [
      {
       "metadata": {},
       "output_type": "pyout",
       "prompt_number": 212,
       "text": [
        "1    3522560\n",
        "0     360448\n",
        "dtype: int64"
       ]
      }
     ],
     "prompt_number": 212
    },
    {
     "cell_type": "code",
     "collapsed": false,
     "input": [
      "gbc_test_results_df.columns"
     ],
     "language": "python",
     "metadata": {},
     "outputs": [
      {
       "metadata": {},
       "output_type": "pyout",
       "prompt_number": 213,
       "text": [
        "Index([0, 1, u'truth'], dtype='object')"
       ]
      }
     ],
     "prompt_number": 213
    },
    {
     "cell_type": "code",
     "collapsed": false,
     "input": [
      "gbc_test_results_df_filtered = gbc_test_results_df[gbc_test_results_df[1].astype(float) >= 0.73]\n",
      "gbc_test_results_df_filtered.truth.value_counts()"
     ],
     "language": "python",
     "metadata": {},
     "outputs": [
      {
       "metadata": {},
       "output_type": "pyout",
       "prompt_number": 214,
       "text": [
        "1    3226300\n",
        "0      42109\n",
        "dtype: int64"
       ]
      }
     ],
     "prompt_number": 214
    },
    {
     "cell_type": "heading",
     "level": 1,
     "metadata": {},
     "source": [
      "TRAINING & TESTING SVM MODEL"
     ]
    },
    {
     "cell_type": "code",
     "collapsed": false,
     "input": [
      "from sklearn import svm\n",
      "svm_model = svm.SVC(probability=True)\n",
      "svm_model.fit(training_set_random, training_truth_random)\n"
     ],
     "language": "python",
     "metadata": {},
     "outputs": [],
     "prompt_number": "*"
    },
    {
     "cell_type": "code",
     "collapsed": false,
     "input": [
      "svm_model.score(test_set_random, test_truth_random.values)"
     ],
     "language": "python",
     "metadata": {},
     "outputs": []
    },
    {
     "cell_type": "heading",
     "level": 1,
     "metadata": {},
     "source": [
      "ROC LogReg vs RF vs GBC"
     ]
    },
    {
     "cell_type": "code",
     "collapsed": false,
     "input": [
      "logReg_xy_df.to_csv('/Users/ers_vader/git_data/cg_classifier/models/logReg_xy_df.txt',sep='\\t')\n",
      "RF_xy_df.to_csv('/Users/ers_vader/git_data/cg_classifier/models/RF_xy_df', sep='\\t')\n",
      "gbc_xy_df.to_csv('/Users/ers_vader/git_data/cg_classifier/models/gbc_xy_df',sep=\"\\t\")"
     ],
     "language": "python",
     "metadata": {},
     "outputs": [],
     "prompt_number": 279
    },
    {
     "cell_type": "code",
     "collapsed": false,
     "input": [
      "len(logReg_xy_df)"
     ],
     "language": "python",
     "metadata": {},
     "outputs": [
      {
       "metadata": {},
       "output_type": "pyout",
       "prompt_number": 278,
       "text": [
        "50"
       ]
      }
     ],
     "prompt_number": 278
    },
    {
     "cell_type": "code",
     "collapsed": false,
     "input": [
      "\n",
      "matplotlib.rcParams.update({'figure.figsize':(8,8)})\n",
      "matplotlib.rcParams.update({'font.size': 16})\n",
      "rcParams['figure.dpi'] = 800\n",
      "rcParams['axes.linewidth'] = 4\n",
      "rcParams['lines.linewidth'] = 2.0\n",
      "rcParams['lines.markersize'] = 6\n",
      "f, axarr = plt.subplots()\n",
      "axarr.plot(logReg_xy_df['1 - specificity'], logReg_xy_df['sensitivity'],'D--', label='LogReg')\n",
      "axarr.plot(RF_xy_df['1 - specificity'].values, RF_xy_df['sensitivity'].values,'o--', label='RF')\n",
      "axarr.plot(gbc_xy_df['1 - specificity'].values, gbc_xy_df['sensitivity'].values, 's--', label='GBC')\n",
      "legend(loc=7)\n",
      "\n",
      "#'go-', label='line 1', linewidth=2\n",
      "#fig = x_y_df.plot(x='f p', y='t p')\n",
      "savefig('/Users/ers_vader/git_data/cg_classifier/NA12878/gemini/CGvsNISTall/NA12878_scaled_ROC_3models.png', bbox_inches='tight', dpi=500, orientation='landscape')"
     ],
     "language": "python",
     "metadata": {},
     "outputs": [
      {
       "metadata": {},
       "output_type": "display_data",
       "png": "[encoded data removed]",
       "text": [
        "<matplotlib.figure.Figure at 0x1b7e15450>"
       ]
      }
     ],
     "prompt_number": 238
    },
    {
     "cell_type": "heading",
     "level": 1,
     "metadata": {},
     "source": [
      "Joining Model Predictions to Test Set"
     ]
    },
    {
     "cell_type": "code",
     "collapsed": false,
     "input": [
      "LR_test_results_df.columns = ['lr_prob0', 'lr_prob1', 'truth']\n",
      "LR_test_results_df1 = LR_test_results_df[['lr_prob1']]\n",
      "\n",
      "rf_test_results_df.columns = ['rf_prob0', 'rf_prob1', 'truth']\n",
      "rf_test_results_df1 = rf_test_results_df[['rf_prob1']]\n",
      "\n",
      "gbc_test_results_df.columns = ['gbc_prob0','gbc_prob1', 'truth']\n",
      "gbc_test_results_df1 = gbc_test_results_df[['gbc_prob1', 'truth']]\n",
      "\n",
      "test_set_annotated = test_set.join([LR_test_results_df1, rf_test_results_df1, gbc_test_results_df1])"
     ],
     "language": "python",
     "metadata": {},
     "outputs": [],
     "prompt_number": 228
    },
    {
     "cell_type": "code",
     "collapsed": false,
     "input": [
      "test_set_annotated.to_csv('/Users/ers_vader/git_data/cg_classifier/models/20140724/lr_rf_gbc_model_results_NA12878.txt', sep=\"\\t\")"
     ],
     "language": "python",
     "metadata": {},
     "outputs": [],
     "prompt_number": 230
    },
    {
     "cell_type": "code",
     "collapsed": false,
     "input": [
      "#CORRELATIONS BETWEEN SCORES\n",
      "pd.scatter_matrix(test_set_annotated[['lr_prob1', 'rf_prob1', 'gbc_prob1']].head(1000), figsize=(10,10))"
     ],
     "language": "python",
     "metadata": {},
     "outputs": [
      {
       "metadata": {},
       "output_type": "pyout",
       "prompt_number": 237,
       "text": [
        "array([[<matplotlib.axes.AxesSubplot object at 0x3bd1a5890>,\n",
        "        <matplotlib.axes.AxesSubplot object at 0x3bd2a3750>,\n",
        "        <matplotlib.axes.AxesSubplot object at 0x3bd417610>],\n",
        "       [<matplotlib.axes.AxesSubplot object at 0x3c67bd690>,\n",
        "        <matplotlib.axes.AxesSubplot object at 0x3c683d450>,\n",
        "        <matplotlib.axes.AxesSubplot object at 0x3c68a1150>],\n",
        "       [<matplotlib.axes.AxesSubplot object at 0x3c6913fd0>,\n",
        "        <matplotlib.axes.AxesSubplot object at 0x3c6956090>,\n",
        "        <matplotlib.axes.AxesSubplot object at 0x3c6a01b50>]], dtype=object)"
       ]
      },
      {
       "metadata": {},
       "output_type": "display_data",
       "png": "[encoded data removed]",
       "text": [
        "<matplotlib.figure.Figure at 0x3a18372d0>"
       ]
      }
     ],
     "prompt_number": 237
    },
    {
     "cell_type": "code",
     "collapsed": false,
     "input": [
      "test_set_annotated_filtered = test_set_annotated[(test_set_annotated.lr_prob1 < 0.74) & (test_set_annotated.rf_prob1 < 0.73) & (test_set_annotated.gbc_prob1 < 0.73)]            \n",
      "test_set_annotated_pass = test_set_annotated[~test_set_annotated.index.isin(test_set_annotated_filtered.index)]\n"
     ],
     "language": "python",
     "metadata": {},
     "outputs": [],
     "prompt_number": 254
    },
    {
     "cell_type": "code",
     "collapsed": false,
     "input": [
      "test_set_annotated_pass.describe()"
     ],
     "language": "python",
     "metadata": {},
     "outputs": [
      {
       "html": [
        "<div style=\"max-height:1000px;max-width:1500px;overflow:auto;\">\n",
        "<table border=\"1\" class=\"dataframe\">\n",
        "  <thead>\n",
        "    <tr style=\"text-align: right;\">\n",
        "      <th></th>\n",
        "      <th>CGA_SDO</th>\n",
        "      <th>GQ</th>\n",
        "      <th>DP</th>\n",
        "      <th>CGA_RDP</th>\n",
        "      <th>FT_PASS</th>\n",
        "      <th>FT_VQLOW</th>\n",
        "      <th>vartype1_del</th>\n",
        "      <th>vartype1_ins</th>\n",
        "      <th>vartype1_mnp</th>\n",
        "      <th>vartype1_snp</th>\n",
        "      <th>...</th>\n",
        "      <th>CGA_CEHQ_1</th>\n",
        "      <th>CGA_CEHQ_2</th>\n",
        "      <th>AD_1</th>\n",
        "      <th>AD_2</th>\n",
        "      <th>CGA_RPT</th>\n",
        "      <th>multiallele</th>\n",
        "      <th>lr_prob1</th>\n",
        "      <th>rf_prob1</th>\n",
        "      <th>gbc_prob1</th>\n",
        "      <th>truth</th>\n",
        "    </tr>\n",
        "  </thead>\n",
        "  <tbody>\n",
        "    <tr>\n",
        "      <th>count</th>\n",
        "      <td> 3391569.000000</td>\n",
        "      <td> 3391569.000000</td>\n",
        "      <td> 3391569.000000</td>\n",
        "      <td> 3391569.000000</td>\n",
        "      <td> 3391569.000000</td>\n",
        "      <td> 3391569.000000</td>\n",
        "      <td> 3391569.000000</td>\n",
        "      <td> 3391569.000000</td>\n",
        "      <td> 3391569.000000</td>\n",
        "      <td> 3391569.000000</td>\n",
        "      <td>...</td>\n",
        "      <td> 3391569.000000</td>\n",
        "      <td> 3391569.000000</td>\n",
        "      <td> 3391569.000000</td>\n",
        "      <td> 3391569.000000</td>\n",
        "      <td> 3391569.000000</td>\n",
        "      <td> 3391569.000000</td>\n",
        "      <td> 3.391569e+06</td>\n",
        "      <td> 3391569.000000</td>\n",
        "      <td> 3391569.000000</td>\n",
        "      <td> 3391569.000000</td>\n",
        "    </tr>\n",
        "    <tr>\n",
        "      <th>mean</th>\n",
        "      <td>       0.050790</td>\n",
        "      <td>     207.569432</td>\n",
        "      <td>      40.088433</td>\n",
        "      <td>      12.309128</td>\n",
        "      <td>       0.995796</td>\n",
        "      <td>       0.004204</td>\n",
        "      <td>       0.041478</td>\n",
        "      <td>       0.039370</td>\n",
        "      <td>       0.006994</td>\n",
        "      <td>       0.912158</td>\n",
        "      <td>...</td>\n",
        "      <td>      46.412337</td>\n",
        "      <td>      48.083596</td>\n",
        "      <td>      27.727612</td>\n",
        "      <td>      28.075075</td>\n",
        "      <td>       0.508612</td>\n",
        "      <td>       0.001443</td>\n",
        "      <td> 9.204016e-01</td>\n",
        "      <td>       0.934489</td>\n",
        "      <td>       0.931808</td>\n",
        "      <td>       0.983228</td>\n",
        "    </tr>\n",
        "    <tr>\n",
        "      <th>std</th>\n",
        "      <td>       0.727428</td>\n",
        "      <td>     135.293673</td>\n",
        "      <td>      13.518597</td>\n",
        "      <td>      11.456422</td>\n",
        "      <td>       0.064699</td>\n",
        "      <td>       0.064699</td>\n",
        "      <td>       0.199394</td>\n",
        "      <td>       0.194474</td>\n",
        "      <td>       0.083334</td>\n",
        "      <td>       0.283065</td>\n",
        "      <td>...</td>\n",
        "      <td>       6.677852</td>\n",
        "      <td>       6.264716</td>\n",
        "      <td>      14.185007</td>\n",
        "      <td>      14.033077</td>\n",
        "      <td>       0.499926</td>\n",
        "      <td>       0.037955</td>\n",
        "      <td> 8.603807e-02</td>\n",
        "      <td>       0.104455</td>\n",
        "      <td>       0.085143</td>\n",
        "      <td>       0.128417</td>\n",
        "    </tr>\n",
        "    <tr>\n",
        "      <th>min</th>\n",
        "      <td>       0.000000</td>\n",
        "      <td>      10.000000</td>\n",
        "      <td>       1.000000</td>\n",
        "      <td>       0.000000</td>\n",
        "      <td>       0.000000</td>\n",
        "      <td>       0.000000</td>\n",
        "      <td>       0.000000</td>\n",
        "      <td>       0.000000</td>\n",
        "      <td>       0.000000</td>\n",
        "      <td>       0.000000</td>\n",
        "      <td>...</td>\n",
        "      <td>       0.000000</td>\n",
        "      <td>       0.000000</td>\n",
        "      <td>       0.000000</td>\n",
        "      <td>       0.000000</td>\n",
        "      <td>       0.000000</td>\n",
        "      <td>       0.000000</td>\n",
        "      <td> 4.162189e-20</td>\n",
        "      <td>       0.000000</td>\n",
        "      <td>       0.002402</td>\n",
        "      <td>       0.000000</td>\n",
        "    </tr>\n",
        "    <tr>\n",
        "      <th>25%</th>\n",
        "      <td>       0.000000</td>\n",
        "      <td>      97.000000</td>\n",
        "      <td>      31.000000</td>\n",
        "      <td>       0.000000</td>\n",
        "      <td>       1.000000</td>\n",
        "      <td>       0.000000</td>\n",
        "      <td>       0.000000</td>\n",
        "      <td>       0.000000</td>\n",
        "      <td>       0.000000</td>\n",
        "      <td>       1.000000</td>\n",
        "      <td>...</td>\n",
        "      <td>      43.000000</td>\n",
        "      <td>      46.000000</td>\n",
        "      <td>      17.000000</td>\n",
        "      <td>      18.000000</td>\n",
        "      <td>       0.000000</td>\n",
        "      <td>       0.000000</td>\n",
        "      <td> 9.038109e-01</td>\n",
        "      <td>       0.919224</td>\n",
        "      <td>       0.926348</td>\n",
        "      <td>       1.000000</td>\n",
        "    </tr>\n",
        "    <tr>\n",
        "      <th>50%</th>\n",
        "      <td>       0.000000</td>\n",
        "      <td>     171.000000</td>\n",
        "      <td>      39.000000</td>\n",
        "      <td>      13.000000</td>\n",
        "      <td>       1.000000</td>\n",
        "      <td>       0.000000</td>\n",
        "      <td>       0.000000</td>\n",
        "      <td>       0.000000</td>\n",
        "      <td>       0.000000</td>\n",
        "      <td>       1.000000</td>\n",
        "      <td>...</td>\n",
        "      <td>      49.000000</td>\n",
        "      <td>      50.000000</td>\n",
        "      <td>      24.000000</td>\n",
        "      <td>      25.000000</td>\n",
        "      <td>       1.000000</td>\n",
        "      <td>       0.000000</td>\n",
        "      <td> 9.523961e-01</td>\n",
        "      <td>       0.978450</td>\n",
        "      <td>       0.964980</td>\n",
        "      <td>       1.000000</td>\n",
        "    </tr>\n",
        "    <tr>\n",
        "      <th>75%</th>\n",
        "      <td>       0.000000</td>\n",
        "      <td>     300.000000</td>\n",
        "      <td>      49.000000</td>\n",
        "      <td>      22.000000</td>\n",
        "      <td>       1.000000</td>\n",
        "      <td>       0.000000</td>\n",
        "      <td>       0.000000</td>\n",
        "      <td>       0.000000</td>\n",
        "      <td>       0.000000</td>\n",
        "      <td>       1.000000</td>\n",
        "      <td>...</td>\n",
        "      <td>      52.000000</td>\n",
        "      <td>      53.000000</td>\n",
        "      <td>      36.000000</td>\n",
        "      <td>      36.000000</td>\n",
        "      <td>       1.000000</td>\n",
        "      <td>       0.000000</td>\n",
        "      <td> 9.714290e-01</td>\n",
        "      <td>       0.996000</td>\n",
        "      <td>       0.975699</td>\n",
        "      <td>       1.000000</td>\n",
        "    </tr>\n",
        "    <tr>\n",
        "      <th>max</th>\n",
        "      <td>     231.000000</td>\n",
        "      <td>    3161.000000</td>\n",
        "      <td>     913.000000</td>\n",
        "      <td>     164.000000</td>\n",
        "      <td>       1.000000</td>\n",
        "      <td>       1.000000</td>\n",
        "      <td>       1.000000</td>\n",
        "      <td>       1.000000</td>\n",
        "      <td>       1.000000</td>\n",
        "      <td>       1.000000</td>\n",
        "      <td>...</td>\n",
        "      <td>      57.000000</td>\n",
        "      <td>      57.000000</td>\n",
        "      <td>     900.000000</td>\n",
        "      <td>     900.000000</td>\n",
        "      <td>       1.000000</td>\n",
        "      <td>       1.000000</td>\n",
        "      <td> 1.000000e+00</td>\n",
        "      <td>       1.000000</td>\n",
        "      <td>       0.986483</td>\n",
        "      <td>       1.000000</td>\n",
        "    </tr>\n",
        "  </tbody>\n",
        "</table>\n",
        "<p>8 rows \u00d7 45 columns</p>\n",
        "</div>"
       ],
       "metadata": {},
       "output_type": "pyout",
       "prompt_number": 255,
       "text": [
        "              CGA_SDO              GQ              DP         CGA_RDP  \\\n",
        "count  3391569.000000  3391569.000000  3391569.000000  3391569.000000   \n",
        "mean         0.050790      207.569432       40.088433       12.309128   \n",
        "std          0.727428      135.293673       13.518597       11.456422   \n",
        "min          0.000000       10.000000        1.000000        0.000000   \n",
        "25%          0.000000       97.000000       31.000000        0.000000   \n",
        "50%          0.000000      171.000000       39.000000       13.000000   \n",
        "75%          0.000000      300.000000       49.000000       22.000000   \n",
        "max        231.000000     3161.000000      913.000000      164.000000   \n",
        "\n",
        "              FT_PASS        FT_VQLOW    vartype1_del    vartype1_ins  \\\n",
        "count  3391569.000000  3391569.000000  3391569.000000  3391569.000000   \n",
        "mean         0.995796        0.004204        0.041478        0.039370   \n",
        "std          0.064699        0.064699        0.199394        0.194474   \n",
        "min          0.000000        0.000000        0.000000        0.000000   \n",
        "25%          1.000000        0.000000        0.000000        0.000000   \n",
        "50%          1.000000        0.000000        0.000000        0.000000   \n",
        "75%          1.000000        0.000000        0.000000        0.000000   \n",
        "max          1.000000        1.000000        1.000000        1.000000   \n",
        "\n",
        "         vartype1_mnp    vartype1_snp       ...            CGA_CEHQ_1  \\\n",
        "count  3391569.000000  3391569.000000       ...        3391569.000000   \n",
        "mean         0.006994        0.912158       ...             46.412337   \n",
        "std          0.083334        0.283065       ...              6.677852   \n",
        "min          0.000000        0.000000       ...              0.000000   \n",
        "25%          0.000000        1.000000       ...             43.000000   \n",
        "50%          0.000000        1.000000       ...             49.000000   \n",
        "75%          0.000000        1.000000       ...             52.000000   \n",
        "max          1.000000        1.000000       ...             57.000000   \n",
        "\n",
        "           CGA_CEHQ_2            AD_1            AD_2         CGA_RPT  \\\n",
        "count  3391569.000000  3391569.000000  3391569.000000  3391569.000000   \n",
        "mean        48.083596       27.727612       28.075075        0.508612   \n",
        "std          6.264716       14.185007       14.033077        0.499926   \n",
        "min          0.000000        0.000000        0.000000        0.000000   \n",
        "25%         46.000000       17.000000       18.000000        0.000000   \n",
        "50%         50.000000       24.000000       25.000000        1.000000   \n",
        "75%         53.000000       36.000000       36.000000        1.000000   \n",
        "max         57.000000      900.000000      900.000000        1.000000   \n",
        "\n",
        "          multiallele      lr_prob1        rf_prob1       gbc_prob1  \\\n",
        "count  3391569.000000  3.391569e+06  3391569.000000  3391569.000000   \n",
        "mean         0.001443  9.204016e-01        0.934489        0.931808   \n",
        "std          0.037955  8.603807e-02        0.104455        0.085143   \n",
        "min          0.000000  4.162189e-20        0.000000        0.002402   \n",
        "25%          0.000000  9.038109e-01        0.919224        0.926348   \n",
        "50%          0.000000  9.523961e-01        0.978450        0.964980   \n",
        "75%          0.000000  9.714290e-01        0.996000        0.975699   \n",
        "max          1.000000  1.000000e+00        1.000000        0.986483   \n",
        "\n",
        "                truth  \n",
        "count  3391569.000000  \n",
        "mean         0.983228  \n",
        "std          0.128417  \n",
        "min          0.000000  \n",
        "25%          1.000000  \n",
        "50%          1.000000  \n",
        "75%          1.000000  \n",
        "max          1.000000  \n",
        "\n",
        "[8 rows x 45 columns]"
       ]
      }
     ],
     "prompt_number": 255
    },
    {
     "cell_type": "code",
     "collapsed": false,
     "input": [
      "test_set_annotated_filtered.describe()"
     ],
     "language": "python",
     "metadata": {},
     "outputs": [
      {
       "html": [
        "<div style=\"max-height:1000px;max-width:1500px;overflow:auto;\">\n",
        "<table border=\"1\" class=\"dataframe\">\n",
        "  <thead>\n",
        "    <tr style=\"text-align: right;\">\n",
        "      <th></th>\n",
        "      <th>CGA_SDO</th>\n",
        "      <th>GQ</th>\n",
        "      <th>DP</th>\n",
        "      <th>CGA_RDP</th>\n",
        "      <th>FT_PASS</th>\n",
        "      <th>FT_VQLOW</th>\n",
        "      <th>vartype1_del</th>\n",
        "      <th>vartype1_ins</th>\n",
        "      <th>vartype1_mnp</th>\n",
        "      <th>vartype1_snp</th>\n",
        "      <th>...</th>\n",
        "      <th>CGA_CEHQ_1</th>\n",
        "      <th>CGA_CEHQ_2</th>\n",
        "      <th>AD_1</th>\n",
        "      <th>AD_2</th>\n",
        "      <th>CGA_RPT</th>\n",
        "      <th>multiallele</th>\n",
        "      <th>lr_prob1</th>\n",
        "      <th>rf_prob1</th>\n",
        "      <th>gbc_prob1</th>\n",
        "      <th>truth</th>\n",
        "    </tr>\n",
        "  </thead>\n",
        "  <tbody>\n",
        "    <tr>\n",
        "      <th>count</th>\n",
        "      <td> 478791.000000</td>\n",
        "      <td> 478791.000000</td>\n",
        "      <td> 478791.000000</td>\n",
        "      <td> 478791.000000</td>\n",
        "      <td> 478791.000000</td>\n",
        "      <td> 478791.000000</td>\n",
        "      <td> 478791.000000</td>\n",
        "      <td> 478791.000000</td>\n",
        "      <td> 478791.000000</td>\n",
        "      <td> 478791.000000</td>\n",
        "      <td>...</td>\n",
        "      <td> 478791.000000</td>\n",
        "      <td> 478791.000000</td>\n",
        "      <td> 478791.000000</td>\n",
        "      <td> 478791.000000</td>\n",
        "      <td> 478791.000000</td>\n",
        "      <td> 478791.000000</td>\n",
        "      <td> 4.787910e+05</td>\n",
        "      <td> 478791.000000</td>\n",
        "      <td> 478791.000000</td>\n",
        "      <td> 478791.000000</td>\n",
        "    </tr>\n",
        "    <tr>\n",
        "      <th>mean</th>\n",
        "      <td>      0.642050</td>\n",
        "      <td>   -198.217237</td>\n",
        "      <td>     33.853863</td>\n",
        "      <td>     15.409350</td>\n",
        "      <td>      0.668087</td>\n",
        "      <td>      0.331913</td>\n",
        "      <td>      0.231811</td>\n",
        "      <td>      0.210689</td>\n",
        "      <td>      0.047935</td>\n",
        "      <td>      0.509565</td>\n",
        "      <td>...</td>\n",
        "      <td>     10.704706</td>\n",
        "      <td>   -257.506854</td>\n",
        "      <td>      6.910566</td>\n",
        "      <td>   -260.603783</td>\n",
        "      <td>      0.700379</td>\n",
        "      <td>      0.026331</td>\n",
        "      <td> 2.092720e-01</td>\n",
        "      <td>      0.208273</td>\n",
        "      <td>      0.205766</td>\n",
        "      <td>      0.370243</td>\n",
        "    </tr>\n",
        "    <tr>\n",
        "      <th>std</th>\n",
        "      <td>      2.816854</td>\n",
        "      <td>    533.664865</td>\n",
        "      <td>     31.741194</td>\n",
        "      <td>     19.435398</td>\n",
        "      <td>      0.470900</td>\n",
        "      <td>      0.470900</td>\n",
        "      <td>      0.421989</td>\n",
        "      <td>      0.407798</td>\n",
        "      <td>      0.213630</td>\n",
        "      <td>      0.499909</td>\n",
        "      <td>...</td>\n",
        "      <td>    102.986726</td>\n",
        "      <td>    460.157909</td>\n",
        "      <td>    103.240368</td>\n",
        "      <td>    458.372695</td>\n",
        "      <td>      0.458093</td>\n",
        "      <td>      0.160118</td>\n",
        "      <td> 2.331011e-01</td>\n",
        "      <td>      0.232303</td>\n",
        "      <td>      0.226560</td>\n",
        "      <td>      0.482870</td>\n",
        "    </tr>\n",
        "    <tr>\n",
        "      <th>min</th>\n",
        "      <td>      0.000000</td>\n",
        "      <td>   -999.000000</td>\n",
        "      <td>      1.000000</td>\n",
        "      <td>      0.000000</td>\n",
        "      <td>      0.000000</td>\n",
        "      <td>      0.000000</td>\n",
        "      <td>      0.000000</td>\n",
        "      <td>      0.000000</td>\n",
        "      <td>      0.000000</td>\n",
        "      <td>      0.000000</td>\n",
        "      <td>...</td>\n",
        "      <td>   -999.000000</td>\n",
        "      <td>   -999.000000</td>\n",
        "      <td>   -999.000000</td>\n",
        "      <td>   -999.000000</td>\n",
        "      <td>      0.000000</td>\n",
        "      <td>      0.000000</td>\n",
        "      <td> 3.186312e-89</td>\n",
        "      <td>      0.000000</td>\n",
        "      <td>      0.000854</td>\n",
        "      <td>      0.000000</td>\n",
        "    </tr>\n",
        "    <tr>\n",
        "      <th>25%</th>\n",
        "      <td>      0.000000</td>\n",
        "      <td>   -999.000000</td>\n",
        "      <td>     15.000000</td>\n",
        "      <td>      1.000000</td>\n",
        "      <td>      0.000000</td>\n",
        "      <td>      0.000000</td>\n",
        "      <td>      0.000000</td>\n",
        "      <td>      0.000000</td>\n",
        "      <td>      0.000000</td>\n",
        "      <td>      0.000000</td>\n",
        "      <td>...</td>\n",
        "      <td>      7.000000</td>\n",
        "      <td>   -999.000000</td>\n",
        "      <td>      6.000000</td>\n",
        "      <td>   -999.000000</td>\n",
        "      <td>      0.000000</td>\n",
        "      <td>      0.000000</td>\n",
        "      <td> 1.493316e-66</td>\n",
        "      <td>      0.000000</td>\n",
        "      <td>      0.005054</td>\n",
        "      <td>      0.000000</td>\n",
        "    </tr>\n",
        "    <tr>\n",
        "      <th>50%</th>\n",
        "      <td>      0.000000</td>\n",
        "      <td>     29.000000</td>\n",
        "      <td>     25.000000</td>\n",
        "      <td>      9.000000</td>\n",
        "      <td>      1.000000</td>\n",
        "      <td>      0.000000</td>\n",
        "      <td>      0.000000</td>\n",
        "      <td>      0.000000</td>\n",
        "      <td>      0.000000</td>\n",
        "      <td>      1.000000</td>\n",
        "      <td>...</td>\n",
        "      <td>     20.000000</td>\n",
        "      <td>     19.000000</td>\n",
        "      <td>     11.000000</td>\n",
        "      <td>     12.000000</td>\n",
        "      <td>      1.000000</td>\n",
        "      <td>      0.000000</td>\n",
        "      <td> 9.520249e-02</td>\n",
        "      <td>      0.101581</td>\n",
        "      <td>      0.097440</td>\n",
        "      <td>      0.000000</td>\n",
        "    </tr>\n",
        "    <tr>\n",
        "      <th>75%</th>\n",
        "      <td>      0.000000</td>\n",
        "      <td>     80.000000</td>\n",
        "      <td>     43.000000</td>\n",
        "      <td>     24.000000</td>\n",
        "      <td>      1.000000</td>\n",
        "      <td>      1.000000</td>\n",
        "      <td>      0.000000</td>\n",
        "      <td>      0.000000</td>\n",
        "      <td>      0.000000</td>\n",
        "      <td>      1.000000</td>\n",
        "      <td>...</td>\n",
        "      <td>     33.000000</td>\n",
        "      <td>     34.000000</td>\n",
        "      <td>     21.000000</td>\n",
        "      <td>     26.000000</td>\n",
        "      <td>      1.000000</td>\n",
        "      <td>      0.000000</td>\n",
        "      <td> 4.067809e-01</td>\n",
        "      <td>      0.406099</td>\n",
        "      <td>      0.395443</td>\n",
        "      <td>      1.000000</td>\n",
        "    </tr>\n",
        "    <tr>\n",
        "      <th>max</th>\n",
        "      <td>    229.000000</td>\n",
        "      <td>   4919.000000</td>\n",
        "      <td>    701.000000</td>\n",
        "      <td>    508.000000</td>\n",
        "      <td>      1.000000</td>\n",
        "      <td>      1.000000</td>\n",
        "      <td>      1.000000</td>\n",
        "      <td>      1.000000</td>\n",
        "      <td>      1.000000</td>\n",
        "      <td>      1.000000</td>\n",
        "      <td>...</td>\n",
        "      <td>     57.000000</td>\n",
        "      <td>     57.000000</td>\n",
        "      <td>    541.000000</td>\n",
        "      <td>    508.000000</td>\n",
        "      <td>      1.000000</td>\n",
        "      <td>      1.000000</td>\n",
        "      <td> 7.199970e-01</td>\n",
        "      <td>      0.719998</td>\n",
        "      <td>      0.719999</td>\n",
        "      <td>      1.000000</td>\n",
        "    </tr>\n",
        "  </tbody>\n",
        "</table>\n",
        "<p>8 rows \u00d7 45 columns</p>\n",
        "</div>"
       ],
       "metadata": {},
       "output_type": "pyout",
       "prompt_number": 252,
       "text": [
        "             CGA_SDO             GQ             DP        CGA_RDP  \\\n",
        "count  478791.000000  478791.000000  478791.000000  478791.000000   \n",
        "mean        0.642050    -198.217237      33.853863      15.409350   \n",
        "std         2.816854     533.664865      31.741194      19.435398   \n",
        "min         0.000000    -999.000000       1.000000       0.000000   \n",
        "25%         0.000000    -999.000000      15.000000       1.000000   \n",
        "50%         0.000000      29.000000      25.000000       9.000000   \n",
        "75%         0.000000      80.000000      43.000000      24.000000   \n",
        "max       229.000000    4919.000000     701.000000     508.000000   \n",
        "\n",
        "             FT_PASS       FT_VQLOW   vartype1_del   vartype1_ins  \\\n",
        "count  478791.000000  478791.000000  478791.000000  478791.000000   \n",
        "mean        0.668087       0.331913       0.231811       0.210689   \n",
        "std         0.470900       0.470900       0.421989       0.407798   \n",
        "min         0.000000       0.000000       0.000000       0.000000   \n",
        "25%         0.000000       0.000000       0.000000       0.000000   \n",
        "50%         1.000000       0.000000       0.000000       0.000000   \n",
        "75%         1.000000       1.000000       0.000000       0.000000   \n",
        "max         1.000000       1.000000       1.000000       1.000000   \n",
        "\n",
        "        vartype1_mnp   vartype1_snp      ...           CGA_CEHQ_1  \\\n",
        "count  478791.000000  478791.000000      ...        478791.000000   \n",
        "mean        0.047935       0.509565      ...            10.704706   \n",
        "std         0.213630       0.499909      ...           102.986726   \n",
        "min         0.000000       0.000000      ...          -999.000000   \n",
        "25%         0.000000       0.000000      ...             7.000000   \n",
        "50%         0.000000       1.000000      ...            20.000000   \n",
        "75%         0.000000       1.000000      ...            33.000000   \n",
        "max         1.000000       1.000000      ...            57.000000   \n",
        "\n",
        "          CGA_CEHQ_2           AD_1           AD_2        CGA_RPT  \\\n",
        "count  478791.000000  478791.000000  478791.000000  478791.000000   \n",
        "mean     -257.506854       6.910566    -260.603783       0.700379   \n",
        "std       460.157909     103.240368     458.372695       0.458093   \n",
        "min      -999.000000    -999.000000    -999.000000       0.000000   \n",
        "25%      -999.000000       6.000000    -999.000000       0.000000   \n",
        "50%        19.000000      11.000000      12.000000       1.000000   \n",
        "75%        34.000000      21.000000      26.000000       1.000000   \n",
        "max        57.000000     541.000000     508.000000       1.000000   \n",
        "\n",
        "         multiallele      lr_prob1       rf_prob1      gbc_prob1  \\\n",
        "count  478791.000000  4.787910e+05  478791.000000  478791.000000   \n",
        "mean        0.026331  2.092720e-01       0.208273       0.205766   \n",
        "std         0.160118  2.331011e-01       0.232303       0.226560   \n",
        "min         0.000000  3.186312e-89       0.000000       0.000854   \n",
        "25%         0.000000  1.493316e-66       0.000000       0.005054   \n",
        "50%         0.000000  9.520249e-02       0.101581       0.097440   \n",
        "75%         0.000000  4.067809e-01       0.406099       0.395443   \n",
        "max         1.000000  7.199970e-01       0.719998       0.719999   \n",
        "\n",
        "               truth  \n",
        "count  478791.000000  \n",
        "mean        0.370243  \n",
        "std         0.482870  \n",
        "min         0.000000  \n",
        "25%         0.000000  \n",
        "50%         0.000000  \n",
        "75%         1.000000  \n",
        "max         1.000000  \n",
        "\n",
        "[8 rows x 45 columns]"
       ]
      }
     ],
     "prompt_number": 252
    },
    {
     "cell_type": "code",
     "collapsed": false,
     "input": [
      "test_set_annotated_pass.multiallele.value_counts()"
     ],
     "language": "python",
     "metadata": {},
     "outputs": [
      {
       "metadata": {},
       "output_type": "pyout",
       "prompt_number": 275,
       "text": [
        "0    3386676\n",
        "1       4893\n",
        "dtype: int64"
       ]
      }
     ],
     "prompt_number": 275
    },
    {
     "cell_type": "code",
     "collapsed": false,
     "input": [
      "test_set_annotated_filtered.multiallele.value_counts()"
     ],
     "language": "python",
     "metadata": {},
     "outputs": [
      {
       "metadata": {},
       "output_type": "pyout",
       "prompt_number": 276,
       "text": [
        "0    478603\n",
        "1     12836\n",
        "dtype: int64"
       ]
      }
     ],
     "prompt_number": 276
    },
    {
     "cell_type": "code",
     "collapsed": false,
     "input": [
      "def categ_test(a, b, col):\n",
      "    total_a = a[col].value_counts().values\n",
      "    \n",
      "    total_b = b[col].value_counts().values\n",
      "    \n",
      "    return stats.fisher_exact(zip(total_a, total_b))"
     ],
     "language": "python",
     "metadata": {},
     "outputs": [],
     "prompt_number": 269
    },
    {
     "cell_type": "code",
     "collapsed": false,
     "input": [
      "print categ_test(test_set_annotated_pass, test_set_annotated_filtered, 'CGA_RPT')\n",
      "print categ_test(test_set_annotated_pass, test_set_annotated_filtered, 'multiallele')"
     ],
     "language": "python",
     "metadata": {},
     "outputs": [
      {
       "output_type": "stream",
       "stream": "stdout",
       "text": [
        "(0.44519900732300732, 0.0)\n",
        "(18.56319497457072, 0.0)"
       ]
      },
      {
       "output_type": "stream",
       "stream": "stdout",
       "text": [
        "\n"
       ]
      }
     ],
     "prompt_number": 274
    },
    {
     "cell_type": "code",
     "collapsed": false,
     "input": [],
     "language": "python",
     "metadata": {},
     "outputs": []
    },
    {
     "cell_type": "heading",
     "level": 3,
     "metadata": {},
     "source": [
      "Ensemble Classifier - No Better"
     ]
    },
    {
     "cell_type": "code",
     "collapsed": false,
     "input": [
      "\n",
      "ensemble_gbc = ensemble.GradientBoostingClassifier(n_estimators=150, subsample=1, verbose=1)"
     ],
     "language": "python",
     "metadata": {},
     "outputs": [],
     "prompt_number": 245
    },
    {
     "cell_type": "code",
     "collapsed": false,
     "input": [
      "random_sample_ensemble = random.sample(test_set_annotated.index, 150000)"
     ],
     "language": "python",
     "metadata": {},
     "outputs": [],
     "prompt_number": 239
    },
    {
     "cell_type": "code",
     "collapsed": false,
     "input": [
      "test_set_annotated_random = test_set_annotated[test_set_annotated.index.isin(random_sample_ensemble)]"
     ],
     "language": "python",
     "metadata": {},
     "outputs": [],
     "prompt_number": 240
    },
    {
     "cell_type": "code",
     "collapsed": false,
     "input": [
      "ensemble_gbc = ensemble_gbc.fit(test_set_annotated_random[['lr_prob1', 'rf_prob1']], test_set_annotated_random['truth'].values)\n"
     ],
     "language": "python",
     "metadata": {},
     "outputs": [
      {
       "output_type": "stream",
       "stream": "stdout",
       "text": [
        "      Iter       Train Loss   Remaining Time \n",
        "         1           0.4935           46.31s"
       ]
      },
      {
       "output_type": "stream",
       "stream": "stdout",
       "text": [
        "\n",
        "         2           0.4398           45.06s"
       ]
      },
      {
       "output_type": "stream",
       "stream": "stdout",
       "text": [
        "\n",
        "         3           0.4023           43.71s"
       ]
      },
      {
       "output_type": "stream",
       "stream": "stdout",
       "text": [
        "\n",
        "         4           0.3735           43.08s"
       ]
      },
      {
       "output_type": "stream",
       "stream": "stdout",
       "text": [
        "\n",
        "         5           0.3504           42.42s"
       ]
      },
      {
       "output_type": "stream",
       "stream": "stdout",
       "text": [
        "\n",
        "         6           0.3314           41.77s"
       ]
      },
      {
       "output_type": "stream",
       "stream": "stdout",
       "text": [
        "\n",
        "         7           0.3153           41.21s"
       ]
      },
      {
       "output_type": "stream",
       "stream": "stdout",
       "text": [
        "\n",
        "         8           0.3019           40.87s"
       ]
      },
      {
       "output_type": "stream",
       "stream": "stdout",
       "text": [
        "\n",
        "         9           0.2905           40.48s"
       ]
      },
      {
       "output_type": "stream",
       "stream": "stdout",
       "text": [
        "\n",
        "        10           0.2804           40.07s"
       ]
      },
      {
       "output_type": "stream",
       "stream": "stdout",
       "text": [
        "\n",
        "        20           0.2294           36.90s"
       ]
      },
      {
       "output_type": "stream",
       "stream": "stdout",
       "text": [
        "\n",
        "        30           0.2148           34.35s"
       ]
      },
      {
       "output_type": "stream",
       "stream": "stdout",
       "text": [
        "\n",
        "        40           0.2100           31.76s"
       ]
      },
      {
       "output_type": "stream",
       "stream": "stdout",
       "text": [
        "\n",
        "        50           0.2084           28.92s"
       ]
      },
      {
       "output_type": "stream",
       "stream": "stdout",
       "text": [
        "\n",
        "        60           0.2073           25.87s"
       ]
      },
      {
       "output_type": "stream",
       "stream": "stdout",
       "text": [
        "\n",
        "        70           0.2065           22.90s"
       ]
      },
      {
       "output_type": "stream",
       "stream": "stdout",
       "text": [
        "\n",
        "        80           0.2058           19.89s"
       ]
      },
      {
       "output_type": "stream",
       "stream": "stdout",
       "text": [
        "\n",
        "        90           0.2053           16.99s"
       ]
      },
      {
       "output_type": "stream",
       "stream": "stdout",
       "text": [
        "\n",
        "       100           0.2045           14.12s"
       ]
      },
      {
       "output_type": "stream",
       "stream": "stdout",
       "text": [
        "\n"
       ]
      }
     ],
     "prompt_number": 246
    },
    {
     "cell_type": "code",
     "collapsed": false,
     "input": [
      "test_set_annotated[['lr_prob1', 'rf_prob1', 'gbc_prob1']].corr()"
     ],
     "language": "python",
     "metadata": {},
     "outputs": [
      {
       "html": [
        "<div style=\"max-height:1000px;max-width:1500px;overflow:auto;\">\n",
        "<table border=\"1\" class=\"dataframe\">\n",
        "  <thead>\n",
        "    <tr style=\"text-align: right;\">\n",
        "      <th></th>\n",
        "      <th>lr_prob1</th>\n",
        "      <th>rf_prob1</th>\n",
        "      <th>gbc_prob1</th>\n",
        "    </tr>\n",
        "  </thead>\n",
        "  <tbody>\n",
        "    <tr>\n",
        "      <th>lr_prob1</th>\n",
        "      <td> 1.000000</td>\n",
        "      <td> 0.921489</td>\n",
        "      <td> 0.953508</td>\n",
        "    </tr>\n",
        "    <tr>\n",
        "      <th>rf_prob1</th>\n",
        "      <td> 0.921489</td>\n",
        "      <td> 1.000000</td>\n",
        "      <td> 0.960216</td>\n",
        "    </tr>\n",
        "    <tr>\n",
        "      <th>gbc_prob1</th>\n",
        "      <td> 0.953508</td>\n",
        "      <td> 0.960216</td>\n",
        "      <td> 1.000000</td>\n",
        "    </tr>\n",
        "  </tbody>\n",
        "</table>\n",
        "</div>"
       ],
       "metadata": {},
       "output_type": "pyout",
       "prompt_number": 244,
       "text": [
        "           lr_prob1  rf_prob1  gbc_prob1\n",
        "lr_prob1   1.000000  0.921489   0.953508\n",
        "rf_prob1   0.921489  1.000000   0.960216\n",
        "gbc_prob1  0.953508  0.960216   1.000000"
       ]
      }
     ],
     "prompt_number": 244
    },
    {
     "cell_type": "code",
     "collapsed": false,
     "input": [
      "ensemble_gbc.score(test_set_annotated[['lr_prob1', 'rf_prob1']], test_set_annotated['truth'].values)"
     ],
     "language": "python",
     "metadata": {},
     "outputs": [
      {
       "metadata": {},
       "output_type": "pyout",
       "prompt_number": 248,
       "text": [
        "0.96567635194158752"
       ]
      }
     ],
     "prompt_number": 248
    },
    {
     "cell_type": "code",
     "collapsed": false,
     "input": [
      "test_set_annotated[['lr_prob1', 'rf_prob1', 'gbc_prob1', 'truth']].head(5)"
     ],
     "language": "python",
     "metadata": {},
     "outputs": [
      {
       "html": [
        "<div style=\"max-height:1000px;max-width:1500px;overflow:auto;\">\n",
        "<table border=\"1\" class=\"dataframe\">\n",
        "  <thead>\n",
        "    <tr style=\"text-align: right;\">\n",
        "      <th></th>\n",
        "      <th></th>\n",
        "      <th></th>\n",
        "      <th></th>\n",
        "      <th>lr_prob1</th>\n",
        "      <th>rf_prob1</th>\n",
        "      <th>gbc_prob1</th>\n",
        "      <th>truth</th>\n",
        "    </tr>\n",
        "    <tr>\n",
        "      <th>CHROM</th>\n",
        "      <th>POS</th>\n",
        "      <th>REF</th>\n",
        "      <th>ALT</th>\n",
        "      <th></th>\n",
        "      <th></th>\n",
        "      <th></th>\n",
        "      <th></th>\n",
        "    </tr>\n",
        "  </thead>\n",
        "  <tbody>\n",
        "    <tr>\n",
        "      <th rowspan=\"5\" valign=\"top\">1</th>\n",
        "      <th>52238 </th>\n",
        "      <th>T</th>\n",
        "      <th>G</th>\n",
        "      <td> 0.791171</td>\n",
        "      <td> 0.034819</td>\n",
        "      <td> 0.135191</td>\n",
        "      <td> 1</td>\n",
        "    </tr>\n",
        "    <tr>\n",
        "      <th>55926 </th>\n",
        "      <th>T</th>\n",
        "      <th>C</th>\n",
        "      <td> 0.853695</td>\n",
        "      <td> 0.196614</td>\n",
        "      <td> 0.273670</td>\n",
        "      <td> 1</td>\n",
        "    </tr>\n",
        "    <tr>\n",
        "      <th>57952 </th>\n",
        "      <th>A</th>\n",
        "      <th>C</th>\n",
        "      <td> 0.855609</td>\n",
        "      <td> 0.045643</td>\n",
        "      <td> 0.285187</td>\n",
        "      <td> 1</td>\n",
        "    </tr>\n",
        "    <tr>\n",
        "      <th>61442 </th>\n",
        "      <th>A</th>\n",
        "      <th>G</th>\n",
        "      <td> 0.858367</td>\n",
        "      <td> 0.021957</td>\n",
        "      <td> 0.075106</td>\n",
        "      <td> 1</td>\n",
        "    </tr>\n",
        "    <tr>\n",
        "      <th>229673</th>\n",
        "      <th>A</th>\n",
        "      <th>C</th>\n",
        "      <td> 0.196407</td>\n",
        "      <td> 0.177967</td>\n",
        "      <td> 0.222930</td>\n",
        "      <td> 1</td>\n",
        "    </tr>\n",
        "  </tbody>\n",
        "</table>\n",
        "</div>"
       ],
       "metadata": {},
       "output_type": "pyout",
       "prompt_number": 249,
       "text": [
        "                      lr_prob1  rf_prob1  gbc_prob1  truth\n",
        "CHROM POS    REF ALT                                      \n",
        "1     52238  T   G    0.791171  0.034819   0.135191      1\n",
        "      55926  T   C    0.853695  0.196614   0.273670      1\n",
        "      57952  A   C    0.855609  0.045643   0.285187      1\n",
        "      61442  A   G    0.858367  0.021957   0.075106      1\n",
        "      229673 A   C    0.196407  0.177967   0.222930      1"
       ]
      }
     ],
     "prompt_number": 249
    },
    {
     "cell_type": "heading",
     "level": 1,
     "metadata": {},
     "source": [
      "VARIANT INTERSECTIONS"
     ]
    },
    {
     "cell_type": "code",
     "collapsed": false,
     "input": [
      "tri_I  = set(gbc_test_results_df_filtered.index) & set(rf_test_results_df_filtered.index) & set(LR_test_results_df_filtered.index)"
     ],
     "language": "python",
     "metadata": {},
     "outputs": [],
     "prompt_number": 216
    },
    {
     "cell_type": "code",
     "collapsed": false,
     "input": [
      "print len(tri_I)\n",
      "test_set_tri_I = test_set[test_set.index.isin(tri_I)]\n",
      "test_turth_tri_I = test_truth[test_truth.index.isin(tri_I)]\n",
      "test_set_tri_I = test_set_tri_I.join(test_turth_tri_I)\n",
      "del test_turth_tri_I"
     ],
     "language": "python",
     "metadata": {},
     "outputs": [
      {
       "output_type": "stream",
       "stream": "stdout",
       "text": [
        "3065416\n"
       ]
      }
     ],
     "prompt_number": 220
    },
    {
     "cell_type": "code",
     "collapsed": false,
     "input": [
      "test_turth_tri_I.truth.value_counts()"
     ],
     "language": "python",
     "metadata": {},
     "outputs": [
      {
       "metadata": {},
       "output_type": "pyout",
       "prompt_number": 219,
       "text": [
        "1    3035066\n",
        "0      30350\n",
        "dtype: int64"
       ]
      }
     ],
     "prompt_number": 219
    },
    {
     "cell_type": "code",
     "collapsed": false,
     "input": [
      "tri_I_tp  = set(gbc_test_results_df_filtered[gbc_test_results_df_filtered.truth==1].index) & set(rf_test_results_df_filtered.index) & set(LR_test_results_df_filtered.index)"
     ],
     "language": "python",
     "metadata": {},
     "outputs": []
    },
    {
     "cell_type": "heading",
     "level": 1,
     "metadata": {},
     "source": [
      "Retraining"
     ]
    },
    {
     "cell_type": "code",
     "collapsed": false,
     "input": [
      "def retrain(fp, tp):\n",
      "    retrain_fp = fp[fp.predictions==1]\n",
      "    retrain_tp = tp[tp.predictions==0]\n",
      "    del retrain_fp['predictions']\n",
      "    del retrain_tp['predictions']\n",
      "    retrain_df = retrain_tp.append(retrain_fp)\n",
      "    retrain_df_truth = retrain_df[['truth']]\n",
      "    del retrain_df['truth']\n",
      "    return retrain_df, retrain_df_truth"
     ],
     "language": "python",
     "metadata": {},
     "outputs": []
    },
    {
     "cell_type": "code",
     "collapsed": false,
     "input": [
      "retrain_df, retrain_df_truth = retrain(fp, tp)"
     ],
     "language": "python",
     "metadata": {},
     "outputs": []
    },
    {
     "cell_type": "code",
     "collapsed": false,
     "input": [
      "retrain_clf = clf.fit(retrain_df, retrain_df_truth.values)\n"
     ],
     "language": "python",
     "metadata": {},
     "outputs": []
    },
    {
     "cell_type": "code",
     "collapsed": false,
     "input": [
      "retrain_clf.oob_score_"
     ],
     "language": "python",
     "metadata": {},
     "outputs": []
    },
    {
     "cell_type": "code",
     "collapsed": false,
     "input": [
      "retrain_test_set_index = test_set[~test_set.index.isin(random_subset)].index\n",
      "retrain_test_set = test_set.ix[retrain_test_set_index]\n",
      "retrain_test_set_truth = test_truth.ix[retrain_test_set_index]\n"
     ],
     "language": "python",
     "metadata": {},
     "outputs": []
    },
    {
     "cell_type": "code",
     "collapsed": false,
     "input": [
      "fp,tp = get_fp_tp_predictions(retrain_test_set, retrain_test_set_truth, retrain_clf)"
     ],
     "language": "python",
     "metadata": {},
     "outputs": []
    },
    {
     "cell_type": "code",
     "collapsed": false,
     "input": [
      "retrain_clf.score(retrain_test_set, retrain_test_set_truth)"
     ],
     "language": "python",
     "metadata": {},
     "outputs": []
    },
    {
     "cell_type": "code",
     "collapsed": false,
     "input": [
      "fp.predictions.value_counts()"
     ],
     "language": "python",
     "metadata": {},
     "outputs": []
    },
    {
     "cell_type": "code",
     "collapsed": false,
     "input": [
      "tp.predictions.value_counts()"
     ],
     "language": "python",
     "metadata": {},
     "outputs": []
    },
    {
     "cell_type": "code",
     "collapsed": false,
     "input": [
      "tp.predictions.value_counts()"
     ],
     "language": "python",
     "metadata": {},
     "outputs": []
    },
    {
     "cell_type": "code",
     "collapsed": false,
     "input": [
      "print 'COMPLETE'"
     ],
     "language": "python",
     "metadata": {},
     "outputs": []
    },
    {
     "cell_type": "heading",
     "level": 1,
     "metadata": {},
     "source": [
      "Features Associated with Misclassified Variants"
     ]
    },
    {
     "cell_type": "code",
     "collapsed": false,
     "input": [
      "fp_misclass = fp.copy()\n",
      "fp['truth'] = fp['predictions']\n",
      "del fp['predictions']"
     ],
     "language": "python",
     "metadata": {},
     "outputs": []
    },
    {
     "cell_type": "code",
     "collapsed": false,
     "input": [
      "fp_columns_minus_truth = [i for i in fp.columns if i != 'truth']\n"
     ],
     "language": "python",
     "metadata": {},
     "outputs": []
    },
    {
     "cell_type": "code",
     "collapsed": false,
     "input": [
      "misclass_features = clf.fit(fp[fp_columns_minus_truth], fp['truth'])\n"
     ],
     "language": "python",
     "metadata": {},
     "outputs": []
    },
    {
     "cell_type": "code",
     "collapsed": false,
     "input": [
      "zip(fp[fp_columns_minus_truth].columns, misclass_features.feature_importances_)"
     ],
     "language": "python",
     "metadata": {},
     "outputs": []
    },
    {
     "cell_type": "code",
     "collapsed": false,
     "input": [
      "misclass_features.oob_score_"
     ],
     "language": "python",
     "metadata": {},
     "outputs": []
    },
    {
     "cell_type": "code",
     "collapsed": false,
     "input": [],
     "language": "python",
     "metadata": {},
     "outputs": []
    },
    {
     "cell_type": "heading",
     "level": 1,
     "metadata": {},
     "source": [
      "Function Code, aggregated in the above function preprocess_vcf_line"
     ]
    },
    {
     "cell_type": "heading",
     "level": 3,
     "metadata": {},
     "source": [
      "Numeric Field Formatting"
     ]
    },
    {
     "cell_type": "code",
     "collapsed": false,
     "input": [
      "numeric_features = ['CGA_SDO', 'GQ', 'DP', 'CGA_RDP']\n",
      "df_numeric = df.copy()\n",
      "df_numeric = df_numeric[numeric_features]\n",
      "for n in numeric_features:\n",
      "    df_numeric[n] = df_numeric[n].astype(float)\n",
      "df_numeric['CGA_SDO'].fillna(value=0, inplace=True)\n"
     ],
     "language": "python",
     "metadata": {},
     "outputs": []
    },
    {
     "cell_type": "heading",
     "level": 3,
     "metadata": {},
     "source": [
      "GL Field Formatting"
     ]
    },
    {
     "cell_type": "code",
     "collapsed": false,
     "input": [
      "def multiallele_GL_formatting(df, gl_col):\n",
      "    GL_df = pd.DataFrame.from_records([i.split(\",\") for i in df[gl_col]], columns=['AA_'+gl_col, 'AB_'+gl_col, 'BB_'+gl_col, 'AC_'+gl_col, 'BC_'+gl_col, 'CC_'+gl_col])\n",
      "    GL_df.index = df.index\n",
      "    GL_df.fillna(value=-999,inplace=True)\n",
      "    df = df.join(GL_df)\n",
      "    return df\n",
      "    "
     ],
     "language": "python",
     "metadata": {},
     "outputs": []
    },
    {
     "cell_type": "code",
     "collapsed": false,
     "input": [
      "\n",
      "geno_cols = ['GL', 'CGA_CEGL']\n",
      "\n",
      "df_geno = df.copy()\n",
      "df_geno = df_geno[geno_cols]\n",
      "for g_cols in geno_cols:\n",
      "    df_geno = multiallele_GL_formatting(df_geno, g_cols)\n",
      "    del df_geno[g_cols]"
     ],
     "language": "python",
     "metadata": {},
     "outputs": []
    },
    {
     "cell_type": "heading",
     "level": 3,
     "metadata": {},
     "source": [
      "Allele Field Formatting"
     ]
    },
    {
     "cell_type": "code",
     "collapsed": false,
     "input": [
      "def allele_col_formatting(df, al_col):\n",
      "    df[al_col + \"_1\"] = [int(i.split(\",\")[0]) if i.split(\",\")[0] != \".\" else -999 for i in df[al_col]]\n",
      "    df[al_col + \"_2\"] = [int(i.split(\",\")[1]) if i.split(\",\")[1] != \".\" else -999 for i in df[al_col]]\n",
      "    return df"
     ],
     "language": "python",
     "metadata": {},
     "outputs": []
    },
    {
     "cell_type": "code",
     "collapsed": false,
     "input": [
      "allele_cols = ['HQ', 'EHQ', 'CGA_CEHQ', 'AD']\n",
      "\n",
      "df_allele = df.copy()\n",
      "df_allele = df[allele_cols]\n",
      "for a_cols in allele_cols:\n",
      "    df_allele = allele_col_formatting(df_allele, a_cols)\n",
      "    del df_allele[a_cols]"
     ],
     "language": "python",
     "metadata": {},
     "outputs": []
    },
    {
     "cell_type": "heading",
     "level": 3,
     "metadata": {},
     "source": [
      "Categorical Field Formatting"
     ]
    },
    {
     "cell_type": "code",
     "collapsed": false,
     "input": [
      "def categ_formatting(df, cat_col):\n",
      "    temp_dummies = pd.get_dummies(df[cat_col], prefix=cat_col)\n",
      "    df = df.join(temp_dummies, how='left')\n",
      "    return df"
     ],
     "language": "python",
     "metadata": {},
     "outputs": []
    },
    {
     "cell_type": "code",
     "collapsed": false,
     "input": [
      "categorical_features = ['FT']\n",
      "\n",
      "df_categ = df.copy()\n",
      "df_categ = df_categ[categorical_features]\n",
      "for c in categorical_features:\n",
      "    df_categ = categ_formatting(df_categ, c)\n",
      "    del df_categ[c]"
     ],
     "language": "python",
     "metadata": {},
     "outputs": []
    },
    {
     "cell_type": "heading",
     "level": 3,
     "metadata": {},
     "source": [
      "Binary Features Formatting"
     ]
    },
    {
     "cell_type": "code",
     "collapsed": false,
     "input": [
      "binary_features = ['CGA_XR', 'CGA_RPT']\n",
      "\n",
      "df_binary = df.copy()\n",
      "df_binary = df_binary[binary_features]\n",
      "for b in binary_features:\n",
      "    df_binary[b].fillna(value=0,inplace=True)\n",
      "    df_binary[b] = df_binary[b].map(lambda x: 1 if x!=0 else 0)\n",
      "    "
     ],
     "language": "python",
     "metadata": {},
     "outputs": []
    },
    {
     "cell_type": "heading",
     "level": 3,
     "metadata": {},
     "source": [
      "Joining Numeric, Genotype, Allele, Categorical, and Binary Features"
     ]
    },
    {
     "cell_type": "code",
     "collapsed": false,
     "input": [
      "df_train = df_numeric.join([df_categ, df_geno, df_allele, df_binary])\n",
      "df_train"
     ],
     "language": "python",
     "metadata": {},
     "outputs": []
    },
    {
     "cell_type": "code",
     "collapsed": false,
     "input": [
      "#FOR USE WITH masterVAR files\n",
      "def preprocess_train_set(test_df):\n",
      "    ''' This function converts the allele1/2truth annotated mastervar files into\n",
      "        a numeric dataset ready for training.\n",
      "        It returns a training data set and the truth calls.  The two objects share indices\n",
      "        and can be combined on the index'''\n",
      "    \n",
      "    test_df.set_index(['chromosome','end', 'reference', 'allele1Seq', 'allele2Seq'],drop=False, inplace=True)\n",
      "    \n",
      "    train_columns = [\"zygosity\", \"REF\", \"a1\", \"a2\", \"allele1VarScoreVAF\", \"allele2VarScoreVAF\", \\\n",
      "                 \"allele1VarScoreEAF\", \"allele2VarScoreEAF\", \"allele1VarQuality\", \"allele2VarQuality\",\\\n",
      "               \"allele1ReadCount\", \"allele2ReadCount\", \"totalReadCount\", \"referenceAlleleReadCount\", \\\n",
      "               \"repeatMasker\", \"segDupOverlap\",\"allele1XRef\",\"allele2XRef\",\"allele1Gene\",\"allele2Gene\",\\\n",
      "               \"alleletruth\"]\n",
      "    \n",
      "    def repeatmask(line):\n",
      "        if line['repeatMasker'] == \".\":\n",
      "            return False\n",
      "        else:\n",
      "            return True\n",
      "    \n",
      "    def coding(alleleGene):\n",
      "        if \"CDS\" in alleleGene:\n",
      "            return True\n",
      "        if \"ACCEPTOR\" in alleleGene:\n",
      "            return True\n",
      "        if \"DONOR\" in alleleGene:\n",
      "            return True\n",
      "        else:\n",
      "            return False\n",
      "        \n",
      "            \n",
      "    def allele_truth(line):\n",
      "        if line['allele1truth'] == 1 and line['allele2truth'] == 1:\n",
      "            return 3\n",
      "        if line['allele1truth'] == 1 and line['allele2truth'] == 0:\n",
      "            return 2\n",
      "        if line['allele1truth'] == 0 and line['allele2truth'] == 1:\n",
      "            return 1\n",
      "        if line['allele1truth'] == 0 and line['allele2truth'] == 0:\n",
      "            return 0\n",
      "        else: assert False\n",
      "    \n",
      "    #EXPERIMENTAL BEGIN  - TRAINED RF_196900samples_oddChroms_rsIDBool_2014_2_2_fp845_tp977.pkl.gz\n",
      "    def rsid_parser(XRef):\n",
      "        if XRef == \".\":  #Not in dbSNP\n",
      "            return False\n",
      "        if XRef != \".\":\n",
      "            return True  #In dbSNP\n",
      "    #EXPERIMENTAL END\n",
      "        \n",
      "    \n",
      "    test_df = test_df[test_df.varType=='snp']\n",
      "    test_df = test_df[test_df.zygosity!='half']  #remove half calls\n",
      "    \n",
      "    test_df['repeatMasker'] = test_df.apply(repeatmask, axis=1)\n",
      "    test_df['allele1Gene'] = test_df['allele1Gene'].map(coding)\n",
      "    test_df['allele2Gene'] = test_df['allele2Gene'].map(coding)\n",
      "    \n",
      "    test_df['alleletruth'] = test_df.apply(allele_truth, axis=1)\n",
      "    del test_df['allele1truth']\n",
      "    del test_df['allele2truth']\n",
      "\n",
      "    df_snps_test = test_df[train_columns]\n",
      "    \n",
      "    #Taking the allele seq out Experimental - Transition/Transversion ratio of coding sequences was too low\n",
      "    #allele1Seq_dummies = pd.get_dummies(df_snps_test['allele1Seq'],prefix='allele1Seq')\n",
      "    #allele2Seq_dummies = pd.get_dummies(df_snps_test['allele2Seq'],prefix='allele2Seq')\n",
      "    #df_snps_test = df_snps_test.join(allele1Seq_dummies, how='outer')\n",
      "    #df_snps_test = df_snps_test.join(allele2Seq_dummies,how='outer')\n",
      "    del df_snps_test['allele1Seq']\n",
      "    del df_snps_test['allele2Seq']\n",
      "\n",
      "    allele1VarQuality_dummies = pd.get_dummies(df_snps_test['allele1VarQuality'],prefix='allele1VarQuality')\n",
      "    allele2VarQuality_dummies = pd.get_dummies(df_snps_test['allele2VarQuality'],prefix='allele2VarQuality')\n",
      "    df_snps_test = df_snps_test.join(allele1VarQuality_dummies,how='outer')\n",
      "    df_snps_test = df_snps_test.join(allele2VarQuality_dummies,how='outer')\n",
      "    del df_snps_test['allele1VarQuality']\n",
      "    del df_snps_test['allele2VarQuality']\n",
      "\n",
      "    #ref_dummies = pd.get_dummies(df_snps_test['reference'],prefix='reference')\n",
      "    zygosity_dummies = pd.get_dummies(df_snps_test['zygosity'],prefix='zygosity')\n",
      "    #df_snps_test = df_snps_test.join(ref_dummies,how='outer')\n",
      "    df_snps_test = df_snps_test.join(zygosity_dummies,how='outer')\n",
      "    del df_snps_test['reference']\n",
      "    del df_snps_test['zygosity']\n",
      "    \n",
      "    #Experimental Begin\n",
      "    df_snps_test['allele1XRef'] = df_snps_test['allele1XRef'].map(rsid_parser)\n",
      "    df_snps_test['allele2XRef'] = df_snps_test['allele2XRef'].map(rsid_parser)\n",
      "    #Experimental End\n",
      "    \n",
      "    Y_truth = df_snps_test['alleletruth'].copy()\n",
      "    del df_snps_test['alleletruth']\n",
      "    return df_snps_test, Y_truth"
     ],
     "language": "python",
     "metadata": {},
     "outputs": []
    },
    {
     "cell_type": "code",
     "collapsed": false,
     "input": [],
     "language": "python",
     "metadata": {},
     "outputs": []
    }
   ],
   "metadata": {}
  }
 ]
}