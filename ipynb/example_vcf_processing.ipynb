{
 "metadata": {
  "name": "",
  "signature": "sha256:6a444b155d40fdac13e4d2e8178c1a8ab3d24d39b71402eb77d6ec6d2d423c6e"
 },
 "nbformat": 3,
 "nbformat_minor": 0,
 "worksheets": [
  {
   "cells": [
    {
     "cell_type": "code",
     "collapsed": false,
     "input": [
      "data_dir = '../data'\n"
     ],
     "language": "python",
     "metadata": {},
     "outputs": [],
     "prompt_number": 1
    },
    {
     "cell_type": "code",
     "collapsed": false,
     "input": [
      "import sys, os\n",
      "src_dir = '../cg-classifier/'\n",
      "sys.path.append(src_dir)\n",
      "import processing.variants\n",
      "reload(processing.variants)"
     ],
     "language": "python",
     "metadata": {},
     "outputs": [
      {
       "metadata": {},
       "output_type": "pyout",
       "prompt_number": 2,
       "text": [
        "<module 'processing.variants' from '../cg-classifier/processing/variants.pyc'>"
       ]
      }
     ],
     "prompt_number": 2
    },
    {
     "cell_type": "code",
     "collapsed": false,
     "input": [
      "%load_ext autoreload\n",
      "%autoreload 2"
     ],
     "language": "python",
     "metadata": {},
     "outputs": [],
     "prompt_number": 3
    },
    {
     "cell_type": "code",
     "collapsed": false,
     "input": [
      "import processing.variants\n",
      "reload(processing.variants)"
     ],
     "language": "python",
     "metadata": {},
     "outputs": [
      {
       "metadata": {},
       "output_type": "pyout",
       "prompt_number": 4,
       "text": [
        "<module 'processing.variants' from '../cg-classifier/processing/variants.pyc'>"
       ]
      }
     ],
     "prompt_number": 4
    },
    {
     "cell_type": "code",
     "collapsed": false,
     "input": [
      "fp_file = os.path.join(data_dir, 'fp.20000.tsv.gz')"
     ],
     "language": "python",
     "metadata": {},
     "outputs": [],
     "prompt_number": 32
    },
    {
     "cell_type": "code",
     "collapsed": false,
     "input": [
      "fp = processing.variants.VcfTsv(fp_file)"
     ],
     "language": "python",
     "metadata": {},
     "outputs": [
      {
       "output_type": "stream",
       "stream": "stderr",
       "text": [
        "../cg-classifier/processing/variants.py:302: SettingWithCopyWarning: A value is trying to be set on a copy of a slice from a DataFrame.\n",
        "Try using .loc[row_index,col_indexer] = value instead\n",
        "  df['phase'] = df['GT'].map(self._get_phase)\n"
       ]
      }
     ],
     "prompt_number": 40
    },
    {
     "cell_type": "code",
     "collapsed": false,
     "input": [
      "fp.filter()"
     ],
     "language": "python",
     "metadata": {},
     "outputs": [],
     "prompt_number": 41
    },
    {
     "cell_type": "code",
     "collapsed": false,
     "input": [
      "len(fp.variants)"
     ],
     "language": "python",
     "metadata": {},
     "outputs": [
      {
       "metadata": {},
       "output_type": "pyout",
       "prompt_number": 48,
       "text": [
        "13076"
       ]
      }
     ],
     "prompt_number": 48
    },
    {
     "cell_type": "code",
     "collapsed": false,
     "input": [
      "fp.variants.CHROM = list(fp.variants.CHROM[:-100]) + ['X']*100"
     ],
     "language": "python",
     "metadata": {},
     "outputs": [],
     "prompt_number": 47
    },
    {
     "cell_type": "code",
     "collapsed": false,
     "input": [
      "fp.filter()"
     ],
     "language": "python",
     "metadata": {},
     "outputs": [],
     "prompt_number": 49
    },
    {
     "cell_type": "code",
     "collapsed": false,
     "input": [
      "len(fp.variants)"
     ],
     "language": "python",
     "metadata": {},
     "outputs": [
      {
       "metadata": {},
       "output_type": "pyout",
       "prompt_number": 50,
       "text": [
        "12976"
       ]
      }
     ],
     "prompt_number": 50
    },
    {
     "cell_type": "code",
     "collapsed": false,
     "input": [
      "fp.variants.GT = list(fp.variants.GT[:-100]) + ['.|0']*100"
     ],
     "language": "python",
     "metadata": {},
     "outputs": [],
     "prompt_number": 53
    },
    {
     "cell_type": "code",
     "collapsed": false,
     "input": [
      "fp.filter()"
     ],
     "language": "python",
     "metadata": {},
     "outputs": [],
     "prompt_number": 54
    },
    {
     "cell_type": "code",
     "collapsed": false,
     "input": [
      "len(fp.variants)"
     ],
     "language": "python",
     "metadata": {},
     "outputs": [
      {
       "metadata": {},
       "output_type": "pyout",
       "prompt_number": 55,
       "text": [
        "12876"
       ]
      }
     ],
     "prompt_number": 55
    },
    {
     "cell_type": "code",
     "collapsed": false,
     "input": [
      "fp.variants.GT = list(fp.variants.GT[:-100]) + ['.|0']*100\n",
      "fp.variants.CHROM = list(fp.variants.CHROM[:-100]) + ['X']*100"
     ],
     "language": "python",
     "metadata": {},
     "outputs": [],
     "prompt_number": 56
    },
    {
     "cell_type": "code",
     "collapsed": false,
     "input": [
      "fp_new = fp.filter(inplace=False)"
     ],
     "language": "python",
     "metadata": {},
     "outputs": [],
     "prompt_number": 59
    },
    {
     "cell_type": "code",
     "collapsed": false,
     "input": [
      "len(fp_new.features)"
     ],
     "language": "python",
     "metadata": {},
     "outputs": [
      {
       "metadata": {},
       "output_type": "pyout",
       "prompt_number": 65,
       "text": [
        "12776"
       ]
      }
     ],
     "prompt_number": 65
    },
    {
     "cell_type": "code",
     "collapsed": false,
     "input": [
      "len(fp.features)"
     ],
     "language": "python",
     "metadata": {},
     "outputs": [
      {
       "metadata": {},
       "output_type": "pyout",
       "prompt_number": 64,
       "text": [
        "12876"
       ]
      }
     ],
     "prompt_number": 64
    },
    {
     "cell_type": "code",
     "collapsed": false,
     "input": [
      "fp.variants.head()"
     ],
     "language": "python",
     "metadata": {},
     "outputs": [
      {
       "html": [
        "<div style=\"max-height:1000px;max-width:1500px;overflow:auto;\">\n",
        "<table border=\"1\" class=\"dataframe\">\n",
        "  <thead>\n",
        "    <tr style=\"text-align: right;\">\n",
        "      <th></th>\n",
        "      <th></th>\n",
        "      <th></th>\n",
        "      <th></th>\n",
        "      <th>CHROM</th>\n",
        "      <th>POS</th>\n",
        "      <th>ID</th>\n",
        "      <th>REF</th>\n",
        "      <th>ALT</th>\n",
        "      <th>QUAL</th>\n",
        "      <th>FILTER</th>\n",
        "      <th>AC</th>\n",
        "      <th>AN</th>\n",
        "      <th>CGA_BF</th>\n",
        "      <th>...</th>\n",
        "      <th>PS</th>\n",
        "      <th>SS</th>\n",
        "      <th>phase</th>\n",
        "      <th>multiallele</th>\n",
        "      <th>zygosity</th>\n",
        "      <th>a1</th>\n",
        "      <th>a2</th>\n",
        "      <th>vartype1</th>\n",
        "      <th>vartype2</th>\n",
        "      <th>ref_read_depth</th>\n",
        "    </tr>\n",
        "    <tr>\n",
        "      <th>CHROM</th>\n",
        "      <th>POS</th>\n",
        "      <th>REF</th>\n",
        "      <th>ALT</th>\n",
        "      <th></th>\n",
        "      <th></th>\n",
        "      <th></th>\n",
        "      <th></th>\n",
        "      <th></th>\n",
        "      <th></th>\n",
        "      <th></th>\n",
        "      <th></th>\n",
        "      <th></th>\n",
        "      <th></th>\n",
        "      <th></th>\n",
        "      <th></th>\n",
        "      <th></th>\n",
        "      <th></th>\n",
        "      <th></th>\n",
        "      <th></th>\n",
        "      <th></th>\n",
        "      <th></th>\n",
        "      <th></th>\n",
        "      <th></th>\n",
        "      <th></th>\n",
        "    </tr>\n",
        "  </thead>\n",
        "  <tbody>\n",
        "    <tr>\n",
        "      <th rowspan=\"5\" valign=\"top\">1</th>\n",
        "      <th>38232</th>\n",
        "      <th>A</th>\n",
        "      <th>G</th>\n",
        "      <td> 1</td>\n",
        "      <td> 38232</td>\n",
        "      <td> .</td>\n",
        "      <td> A</td>\n",
        "      <td> G</td>\n",
        "      <td> 0</td>\n",
        "      <td> .</td>\n",
        "      <td> 2</td>\n",
        "      <td> 2</td>\n",
        "      <td>NaN</td>\n",
        "      <td>...</td>\n",
        "      <td> .</td>\n",
        "      <td>NaN</td>\n",
        "      <td> /</td>\n",
        "      <td> 0</td>\n",
        "      <td> hom-alt</td>\n",
        "      <td> G</td>\n",
        "      <td> G</td>\n",
        "      <td> snp</td>\n",
        "      <td> snp</td>\n",
        "      <td>  1</td>\n",
        "    </tr>\n",
        "    <tr>\n",
        "      <th>41981</th>\n",
        "      <th>A</th>\n",
        "      <th>G</th>\n",
        "      <td> 1</td>\n",
        "      <td> 41981</td>\n",
        "      <td> .</td>\n",
        "      <td> A</td>\n",
        "      <td> G</td>\n",
        "      <td> 0</td>\n",
        "      <td> .</td>\n",
        "      <td> 2</td>\n",
        "      <td> 2</td>\n",
        "      <td>NaN</td>\n",
        "      <td>...</td>\n",
        "      <td> .</td>\n",
        "      <td>NaN</td>\n",
        "      <td> /</td>\n",
        "      <td> 0</td>\n",
        "      <td> hom-alt</td>\n",
        "      <td> G</td>\n",
        "      <td> G</td>\n",
        "      <td> snp</td>\n",
        "      <td> snp</td>\n",
        "      <td>  1</td>\n",
        "    </tr>\n",
        "    <tr>\n",
        "      <th>46670</th>\n",
        "      <th>A</th>\n",
        "      <th>G</th>\n",
        "      <td> 1</td>\n",
        "      <td> 46670</td>\n",
        "      <td> .</td>\n",
        "      <td> A</td>\n",
        "      <td> G</td>\n",
        "      <td> 0</td>\n",
        "      <td> .</td>\n",
        "      <td> 2</td>\n",
        "      <td> 2</td>\n",
        "      <td>NaN</td>\n",
        "      <td>...</td>\n",
        "      <td> .</td>\n",
        "      <td>NaN</td>\n",
        "      <td> /</td>\n",
        "      <td> 0</td>\n",
        "      <td> hom-alt</td>\n",
        "      <td> G</td>\n",
        "      <td> G</td>\n",
        "      <td> snp</td>\n",
        "      <td> snp</td>\n",
        "      <td>  0</td>\n",
        "    </tr>\n",
        "    <tr>\n",
        "      <th>47108</th>\n",
        "      <th>G</th>\n",
        "      <th>C</th>\n",
        "      <td> 1</td>\n",
        "      <td> 47108</td>\n",
        "      <td> .</td>\n",
        "      <td> G</td>\n",
        "      <td> C</td>\n",
        "      <td> 0</td>\n",
        "      <td> .</td>\n",
        "      <td> 2</td>\n",
        "      <td> 2</td>\n",
        "      <td>NaN</td>\n",
        "      <td>...</td>\n",
        "      <td> .</td>\n",
        "      <td>NaN</td>\n",
        "      <td> /</td>\n",
        "      <td> 0</td>\n",
        "      <td> hom-alt</td>\n",
        "      <td> C</td>\n",
        "      <td> C</td>\n",
        "      <td> snp</td>\n",
        "      <td> snp</td>\n",
        "      <td>  0</td>\n",
        "    </tr>\n",
        "    <tr>\n",
        "      <th>47292</th>\n",
        "      <th>T</th>\n",
        "      <th>G</th>\n",
        "      <td> 1</td>\n",
        "      <td> 47292</td>\n",
        "      <td> .</td>\n",
        "      <td> T</td>\n",
        "      <td> G</td>\n",
        "      <td> 0</td>\n",
        "      <td> .</td>\n",
        "      <td> 1</td>\n",
        "      <td> 2</td>\n",
        "      <td>NaN</td>\n",
        "      <td>...</td>\n",
        "      <td> .</td>\n",
        "      <td>NaN</td>\n",
        "      <td> /</td>\n",
        "      <td> 0</td>\n",
        "      <td> het-ref</td>\n",
        "      <td> G</td>\n",
        "      <td> T</td>\n",
        "      <td> snp</td>\n",
        "      <td> snp</td>\n",
        "      <td> 33</td>\n",
        "    </tr>\n",
        "  </tbody>\n",
        "</table>\n",
        "<p>5 rows \u00d7 70 columns</p>\n",
        "</div>"
       ],
       "metadata": {},
       "output_type": "pyout",
       "prompt_number": 66,
       "text": [
        "                    CHROM    POS ID REF ALT  QUAL FILTER AC  AN  CGA_BF  \\\n",
        "CHROM POS   REF ALT                                                       \n",
        "1     38232 A   G       1  38232  .   A   G     0      .  2   2     NaN   \n",
        "      41981 A   G       1  41981  .   A   G     0      .  2   2     NaN   \n",
        "      46670 A   G       1  46670  .   A   G     0      .  2   2     NaN   \n",
        "      47108 G   C       1  47108  .   G   C     0      .  2   2     NaN   \n",
        "      47292 T   G       1  47292  .   T   G     0      .  1   2     NaN   \n",
        "\n",
        "                      ...    PS  SS phase  multiallele zygosity a1 a2  \\\n",
        "CHROM POS   REF ALT   ...                                               \n",
        "1     38232 A   G     ...     . NaN     /            0  hom-alt  G  G   \n",
        "      41981 A   G     ...     . NaN     /            0  hom-alt  G  G   \n",
        "      46670 A   G     ...     . NaN     /            0  hom-alt  G  G   \n",
        "      47108 G   C     ...     . NaN     /            0  hom-alt  C  C   \n",
        "      47292 T   G     ...     . NaN     /            0  het-ref  G  T   \n",
        "\n",
        "                     vartype1  vartype2 ref_read_depth  \n",
        "CHROM POS   REF ALT                                     \n",
        "1     38232 A   G         snp       snp              1  \n",
        "      41981 A   G         snp       snp              1  \n",
        "      46670 A   G         snp       snp              0  \n",
        "      47108 G   C         snp       snp              0  \n",
        "      47292 T   G         snp       snp             33  \n",
        "\n",
        "[5 rows x 70 columns]"
       ]
      }
     ],
     "prompt_number": 66
    },
    {
     "cell_type": "code",
     "collapsed": false,
     "input": [
      "fp.features.head()"
     ],
     "language": "python",
     "metadata": {},
     "outputs": [
      {
       "html": [
        "<div style=\"max-height:1000px;max-width:1500px;overflow:auto;\">\n",
        "<table border=\"1\" class=\"dataframe\">\n",
        "  <thead>\n",
        "    <tr style=\"text-align: right;\">\n",
        "      <th></th>\n",
        "      <th></th>\n",
        "      <th></th>\n",
        "      <th></th>\n",
        "      <th>CGA_SDO</th>\n",
        "      <th>GQ</th>\n",
        "      <th>DP</th>\n",
        "      <th>CGA_RDP</th>\n",
        "      <th>FT_PASS</th>\n",
        "      <th>FT_VQLOW</th>\n",
        "      <th>vartype1_del</th>\n",
        "      <th>vartype1_ins</th>\n",
        "      <th>vartype1_mnp</th>\n",
        "      <th>vartype1_snp</th>\n",
        "      <th>...</th>\n",
        "      <th>HQ_2</th>\n",
        "      <th>EHQ_1</th>\n",
        "      <th>EHQ_2</th>\n",
        "      <th>CGA_CEHQ_1</th>\n",
        "      <th>CGA_CEHQ_2</th>\n",
        "      <th>AD_1</th>\n",
        "      <th>AD_2</th>\n",
        "      <th>CGA_XR</th>\n",
        "      <th>CGA_RPT</th>\n",
        "      <th>multiallele</th>\n",
        "    </tr>\n",
        "    <tr>\n",
        "      <th>CHROM</th>\n",
        "      <th>POS</th>\n",
        "      <th>REF</th>\n",
        "      <th>ALT</th>\n",
        "      <th></th>\n",
        "      <th></th>\n",
        "      <th></th>\n",
        "      <th></th>\n",
        "      <th></th>\n",
        "      <th></th>\n",
        "      <th></th>\n",
        "      <th></th>\n",
        "      <th></th>\n",
        "      <th></th>\n",
        "      <th></th>\n",
        "      <th></th>\n",
        "      <th></th>\n",
        "      <th></th>\n",
        "      <th></th>\n",
        "      <th></th>\n",
        "      <th></th>\n",
        "      <th></th>\n",
        "      <th></th>\n",
        "      <th></th>\n",
        "      <th></th>\n",
        "    </tr>\n",
        "  </thead>\n",
        "  <tbody>\n",
        "    <tr>\n",
        "      <th rowspan=\"5\" valign=\"top\">1</th>\n",
        "      <th>38232</th>\n",
        "      <th>A</th>\n",
        "      <th>G</th>\n",
        "      <td> 6</td>\n",
        "      <td>  86</td>\n",
        "      <td>  5</td>\n",
        "      <td>  1</td>\n",
        "      <td> 1</td>\n",
        "      <td> 0</td>\n",
        "      <td> 0</td>\n",
        "      <td> 0</td>\n",
        "      <td> 0</td>\n",
        "      <td> 1</td>\n",
        "      <td>...</td>\n",
        "      <td>  86</td>\n",
        "      <td> 178</td>\n",
        "      <td>  86</td>\n",
        "      <td> 48</td>\n",
        "      <td> 48</td>\n",
        "      <td>  4</td>\n",
        "      <td>  4</td>\n",
        "      <td> 1</td>\n",
        "      <td> 0</td>\n",
        "      <td> 0</td>\n",
        "    </tr>\n",
        "    <tr>\n",
        "      <th>41981</th>\n",
        "      <th>A</th>\n",
        "      <th>G</th>\n",
        "      <td> 2</td>\n",
        "      <td> 105</td>\n",
        "      <td>  3</td>\n",
        "      <td>  1</td>\n",
        "      <td> 1</td>\n",
        "      <td> 0</td>\n",
        "      <td> 0</td>\n",
        "      <td> 0</td>\n",
        "      <td> 0</td>\n",
        "      <td> 1</td>\n",
        "      <td>...</td>\n",
        "      <td> 105</td>\n",
        "      <td> 281</td>\n",
        "      <td> 105</td>\n",
        "      <td> 48</td>\n",
        "      <td> 48</td>\n",
        "      <td>  2</td>\n",
        "      <td>  2</td>\n",
        "      <td> 1</td>\n",
        "      <td> 1</td>\n",
        "      <td> 0</td>\n",
        "    </tr>\n",
        "    <tr>\n",
        "      <th>46670</th>\n",
        "      <th>A</th>\n",
        "      <th>G</th>\n",
        "      <td> 2</td>\n",
        "      <td>  95</td>\n",
        "      <td>  5</td>\n",
        "      <td>  0</td>\n",
        "      <td> 1</td>\n",
        "      <td> 0</td>\n",
        "      <td> 0</td>\n",
        "      <td> 0</td>\n",
        "      <td> 0</td>\n",
        "      <td> 1</td>\n",
        "      <td>...</td>\n",
        "      <td> 222</td>\n",
        "      <td>  95</td>\n",
        "      <td> 222</td>\n",
        "      <td> 48</td>\n",
        "      <td> 48</td>\n",
        "      <td>  5</td>\n",
        "      <td>  5</td>\n",
        "      <td> 1</td>\n",
        "      <td> 1</td>\n",
        "      <td> 0</td>\n",
        "    </tr>\n",
        "    <tr>\n",
        "      <th>47108</th>\n",
        "      <th>G</th>\n",
        "      <th>C</th>\n",
        "      <td> 2</td>\n",
        "      <td>  78</td>\n",
        "      <td>  0</td>\n",
        "      <td>  0</td>\n",
        "      <td> 1</td>\n",
        "      <td> 0</td>\n",
        "      <td> 0</td>\n",
        "      <td> 0</td>\n",
        "      <td> 0</td>\n",
        "      <td> 1</td>\n",
        "      <td>...</td>\n",
        "      <td>  78</td>\n",
        "      <td> 176</td>\n",
        "      <td>  78</td>\n",
        "      <td> 48</td>\n",
        "      <td> 48</td>\n",
        "      <td>  0</td>\n",
        "      <td>  0</td>\n",
        "      <td> 1</td>\n",
        "      <td> 0</td>\n",
        "      <td> 0</td>\n",
        "    </tr>\n",
        "    <tr>\n",
        "      <th>47292</th>\n",
        "      <th>T</th>\n",
        "      <th>G</th>\n",
        "      <td> 2</td>\n",
        "      <td>  90</td>\n",
        "      <td> 43</td>\n",
        "      <td> 33</td>\n",
        "      <td> 1</td>\n",
        "      <td> 0</td>\n",
        "      <td> 0</td>\n",
        "      <td> 0</td>\n",
        "      <td> 0</td>\n",
        "      <td> 1</td>\n",
        "      <td>...</td>\n",
        "      <td>  90</td>\n",
        "      <td>  90</td>\n",
        "      <td>  90</td>\n",
        "      <td> 13</td>\n",
        "      <td> 31</td>\n",
        "      <td> 10</td>\n",
        "      <td> 33</td>\n",
        "      <td> 1</td>\n",
        "      <td> 0</td>\n",
        "      <td> 0</td>\n",
        "    </tr>\n",
        "  </tbody>\n",
        "</table>\n",
        "<p>5 rows \u00d7 42 columns</p>\n",
        "</div>"
       ],
       "metadata": {},
       "output_type": "pyout",
       "prompt_number": 67,
       "text": [
        "                     CGA_SDO   GQ  DP  CGA_RDP  FT_PASS  FT_VQLOW  \\\n",
        "CHROM POS   REF ALT                                                 \n",
        "1     38232 A   G          6   86   5        1        1         0   \n",
        "      41981 A   G          2  105   3        1        1         0   \n",
        "      46670 A   G          2   95   5        0        1         0   \n",
        "      47108 G   C          2   78   0        0        1         0   \n",
        "      47292 T   G          2   90  43       33        1         0   \n",
        "\n",
        "                     vartype1_del  vartype1_ins  vartype1_mnp  vartype1_snp  \\\n",
        "CHROM POS   REF ALT                                                           \n",
        "1     38232 A   G               0             0             0             1   \n",
        "      41981 A   G               0             0             0             1   \n",
        "      46670 A   G               0             0             0             1   \n",
        "      47108 G   C               0             0             0             1   \n",
        "      47292 T   G               0             0             0             1   \n",
        "\n",
        "                         ...       HQ_2  EHQ_1  EHQ_2  CGA_CEHQ_1  CGA_CEHQ_2  \\\n",
        "CHROM POS   REF ALT      ...                                                    \n",
        "1     38232 A   G        ...         86    178     86          48          48   \n",
        "      41981 A   G        ...        105    281    105          48          48   \n",
        "      46670 A   G        ...        222     95    222          48          48   \n",
        "      47108 G   C        ...         78    176     78          48          48   \n",
        "      47292 T   G        ...         90     90     90          13          31   \n",
        "\n",
        "                     AD_1  AD_2  CGA_XR  CGA_RPT  multiallele  \n",
        "CHROM POS   REF ALT                                            \n",
        "1     38232 A   G       4     4       1        0            0  \n",
        "      41981 A   G       2     2       1        1            0  \n",
        "      46670 A   G       5     5       1        1            0  \n",
        "      47108 G   C       0     0       1        0            0  \n",
        "      47292 T   G      10    33       1        0            0  \n",
        "\n",
        "[5 rows x 42 columns]"
       ]
      }
     ],
     "prompt_number": 67
    },
    {
     "cell_type": "code",
     "collapsed": false,
     "input": [],
     "language": "python",
     "metadata": {},
     "outputs": []
    }
   ],
   "metadata": {}
  }
 ]
}