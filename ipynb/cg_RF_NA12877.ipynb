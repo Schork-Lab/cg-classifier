{
 "metadata": {
  "name": ""
 },
 "nbformat": 3,
 "nbformat_minor": 0,
 "worksheets": [
  {
   "cells": [
    {
     "cell_type": "heading",
     "level": 1,
     "metadata": {},
     "source": [
      "Libraries"
     ]
    },
    {
     "cell_type": "code",
     "collapsed": false,
     "input": [
      "import pandas as pd\n",
      "import coord_to_hg19_seq as hg19\n",
      "from collections import Counter\n",
      "from IPython.display import HTML\n",
      "import pybedtools\n",
      "import os\n",
      "import subprocess\n",
      "import random"
     ],
     "language": "python",
     "metadata": {},
     "outputs": [],
     "prompt_number": 1
    },
    {
     "cell_type": "heading",
     "level": 3,
     "metadata": {},
     "source": [
      "pdVCF Functions"
     ]
    },
    {
     "cell_type": "code",
     "collapsed": false,
     "input": [
      "def get_phase(line, sample_col):\n",
      "    '''\n",
      "    Returns phase status from a GT field\n",
      "    '''\n",
      "    if \"|\" in line[sample_col]:\n",
      "        return \"|\"\n",
      "    if \"/\" in line[sample_col]:\n",
      "        return \"/\"\n",
      "    else: return '-'\n",
      "\n",
      "def get_allele(line, sample_col, phase_col, allele_num=0):\n",
      "    allele_calls = line[sample_col].split(\":\")[0].split(line[phase_col])\n",
      "    alleles = [line['REF']]\n",
      "    alleles.extend(line['ALT'].split(\",\"))\n",
      "    a1 = \".\"\n",
      "    try:\n",
      "        a1 = alleles[int(allele_calls[allele_num])]\n",
      "    except:\n",
      "        a1 = \".\"\n",
      "    return a1\n"
     ],
     "language": "python",
     "metadata": {},
     "outputs": [],
     "prompt_number": 2
    },
    {
     "cell_type": "code",
     "collapsed": false,
     "input": [
      "def vartype(line, allele_base_col):\n",
      "    '''\n",
      "    This function assigns the following vartypes to the \n",
      "    allele specified by allele_base_col: snp, mnp, ins, del, indel or SV\n",
      "    \n",
      "    '''\n",
      "    ref = line['REF']\n",
      "    alt = line[allele_base_col]\n",
      "    if is_snp(ref,alt): return 'snp'\n",
      "    elif is_sv(ref,alt): return 'sv'\n",
      "    elif is_mnp(ref,alt): return 'mnp'\n",
      "    elif is_insertion(ref,alt): return 'ins'\n",
      "    elif is_del(ref,alt): return 'del'\n",
      "    else: return 'indel or SV'\n",
      "\n",
      "def is_snp(ref,alt):\n",
      "    \"\"\" Return whether or not the variant is a SNP \"\"\"\n",
      "    if len(ref) != len(alt): return False\n",
      "    base_diff = [nt for i,nt in enumerate(alt) if ref[i] != alt[i]]\n",
      "    if len(base_diff) <=1:\n",
      "            return True\n",
      "    return False\n",
      "\n",
      "def is_sv(ref,alt):\n",
      "    if \"[\" in alt or \"]\" in alt:\n",
      "        return True\n",
      "    return False\n",
      "\n",
      "def is_mnp(ref,alt):\n",
      "    \"\"\" Return whether or not the variant is an MNP\"\"\"\n",
      "    if len(ref) > 1 and len(ref) == len(alt):\n",
      "        return True\n",
      "    return False\n",
      "\n",
      "def is_insertion(ref,alt):\n",
      "    if len(ref) < len(alt):\n",
      "        return True\n",
      "    return False\n",
      "    \n",
      "def is_del(ref,alt):\n",
      "    if len(ref) > len(alt):\n",
      "        return True\n",
      "    return False"
     ],
     "language": "python",
     "metadata": {},
     "outputs": [],
     "prompt_number": 3
    },
    {
     "cell_type": "code",
     "collapsed": false,
     "input": [
      "def zygosity(line):\n",
      "    allele_set = set([line['a1'], line['a2'], line['REF']])\n",
      "    if len(allele_set) == 1:\n",
      "        return 'hom-ref'\n",
      "    if len(allele_set) ==2 and line['a1'] == line['a2']:\n",
      "        return 'hom-alt'\n",
      "    if len(allele_set) == 2 and line['a1'] != line['a2']:\n",
      "        return 'het-ref'\n",
      "    if len(allele_set) ==3:\n",
      "        return 'het-alt'\n",
      "    assert False"
     ],
     "language": "python",
     "metadata": {},
     "outputs": [],
     "prompt_number": 4
    },
    {
     "cell_type": "code",
     "collapsed": false,
     "input": [
      "def ref_read_depth(line):\n",
      "    '''\n",
      "    This function returns the number of reads\n",
      "    supporting the reference allele\n",
      "    \n",
      "    Required columns: [DP, AD, zygosity, a1]\n",
      "    '''\n",
      "    \n",
      "    dp = line['DP']  #total read depth\n",
      "    ad = line['AD'].replace(\".\",'0')  #replace missing with 0\n",
      "    ad1, ad2 = ad.split(\",\")  #allelic depth for allele1 and allele2\n",
      "    \n",
      "    if line['zygosity'] == 'het-ref':  \n",
      "        if line['a1'] != line['REF']: #allele1 is non-reference\n",
      "            return  dp - int(ad1)  #total read depth - allele1 read depth\n",
      "        return dp - int(ad2)  #total read depth - allele2 read depth\n",
      "    \n",
      "    if line['zygosity'] == 'hom-alt':  #allele1 and allele2 read depths are identical\n",
      "        return  dp - int(ad2)  \n",
      "    \n",
      "    if line['zygosity'] == 'het-alt':\n",
      "        return  dp - sum([ int(ad1), int(ad2) ] )\n",
      "    \n",
      "    return dp  #hom-ref read depth == total read depth"
     ],
     "language": "python",
     "metadata": {},
     "outputs": [],
     "prompt_number": 5
    },
    {
     "cell_type": "heading",
     "level": 1,
     "metadata": {},
     "source": [
      "Sample File Paths"
     ]
    },
    {
     "cell_type": "code",
     "collapsed": false,
     "input": [
      "tp_NA12877_tsv = '/gpfs/home/erscott/Datasets_raw/PlatinumGenomes/NA12877/NA12877_phasing/tp.tsv.gz'\n",
      "\n",
      "fp_NA12877_tsv = '/gpfs/home/erscott/Datasets_raw/PlatinumGenomes/NA12877/NA12877_phasing/fp.tsv.gz'\n"
     ],
     "language": "python",
     "metadata": {},
     "outputs": []
    },
    {
     "cell_type": "heading",
     "level": 1,
     "metadata": {},
     "source": [
      "RF Preprocessing - THIS TAKES QUITE AWHILE IF PROCESSING THE WHOLE GENOME - WE SHOULD IMPLEMENT A MULTIPROCESSING METHOD TO SPEED THINGS UP"
     ]
    },
    {
     "cell_type": "code",
     "collapsed": false,
     "input": [
      "#fp = pd.read_table(fp_NA12877_tsv,sep=\"\\t\",compression='gzip')\n",
      "\n",
      "\n",
      "#tp = pd.read_table(tp_NA12877_tsv,sep=\"\\t\",compression='gzip')\n",
      "\n"
     ],
     "language": "python",
     "metadata": {},
     "outputs": []
    },
    {
     "cell_type": "code",
     "collapsed": false,
     "input": [
      "def multiallele_GL_formatting(df, gl_col):\n",
      "    GL_df = pd.DataFrame.from_records([i.split(\",\") for i in df[gl_col]], columns=['AA_'+gl_col, 'AB_'+gl_col, 'BB_'+gl_col, 'AC_'+gl_col, 'BC_'+gl_col, 'CC_'+gl_col])\n",
      "    GL_df.index = df.index\n",
      "    GL_df.fillna(value=-999,inplace=True)\n",
      "    df = df.join(GL_df)\n",
      "    return df\n",
      "\n",
      "\n",
      "def allele_col_formatting(df, al_col):\n",
      "    df[al_col + \"_1\"] = [int(i.split(\",\")[0]) if i.split(\",\")[0] != \".\" else -999 for i in df[al_col]]\n",
      "    df[al_col + \"_2\"] = [int(i.split(\",\")[1]) if i.split(\",\")[1] != \".\" else -999 for i in df[al_col]]\n",
      "    return df\n",
      "\n",
      "\n",
      "def categ_formatting(df, cat_col):\n",
      "    temp_dummies = pd.get_dummies(df[cat_col], prefix=cat_col)\n",
      "    df = df.join(temp_dummies, how='left')\n",
      "    return df\n",
      "\n",
      "\n"
     ],
     "language": "python",
     "metadata": {},
     "outputs": [],
     "prompt_number": 6
    },
    {
     "cell_type": "code",
     "collapsed": false,
     "input": [
      "\n",
      "def preprocess_vcf_line(df, index_features, allele_features, binary_features, categorical_features, geno_features, numeric_features):\n",
      "    '''\n",
      "    This function annotates vcf variants with\n",
      "    phase, allele1 base call, allele2 base call, \n",
      "    multiallele, vartype\n",
      "    '''\n",
      "    \n",
      "    discard_vars = ['<INS:ME:ALU>', '<INS:ME:L1>','<CGA_CNVWIN>','<INS:ME:SVA>']  #ignore CNVs and repeats\n",
      "    df = df[~df.ALT.isin(discard_vars)]  \n",
      "    \n",
      "    df['phase'] = df.apply(get_phase, args=['GT'], axis=1)  #get phase\n",
      "    df = df[df.phase != \"-\"]  #likley occurs at sex chromosome sites\n",
      "    df['a1'] = df.apply(get_allele, args=['GT','phase', 0], axis=1)  #get allele1 base seq\n",
      "    df['a2'] = df.apply(get_allele, args=['GT','phase', 1], axis=1)  #get allele2 base seq\n",
      "    df['multiallele'] = df.ALT.map(lambda x: 1 if \",\" in x else 0)  #1 is more than 1 alt allele, 0 else\n",
      "    df['zygosity'] = df.apply(zygosity, axis=1)  #get zygosity: hom-ref, het-ref, hom-alt, het-alt\n",
      "    df['vartype1'] = df.apply(vartype,args=['a1'], axis=1)  #vartype for allele1: snp, mnp, insertion, deletion, sv\n",
      "    df['vartype2'] = df.apply(vartype,args=['a2'], axis=1)  #vartype for allele2: snp, mnp, insertion, deletion, sv\n",
      "    \n",
      "    df = df[(df.vartype1 != 'sv') & (df.vartype2 != 'sv')]  #ignore structural variants\n",
      "    \n",
      "    df['AD'].fillna(value='0,0', inplace=True)  #fill missing allelic depth with 0,0 reads\n",
      "    df['ref_read_depth'] = df.apply(ref_read_depth, axis=1)  #get number of reads supporting the reference allele\n",
      "    \n",
      "    \n",
      "    df.set_index(index_features, inplace=True)\n",
      "    \n",
      "    \n",
      "    #FORMATTING ALLELE-SPECIFIC FEATURES\n",
      "    df_allele = df[allele_features]\n",
      "    for a_cols in allele_features:\n",
      "        df_allele = allele_col_formatting(df_allele, a_cols)\n",
      "        del df_allele[a_cols]\n",
      "        \n",
      "    \n",
      "    #FORMATTING BINARY FEATURES\n",
      "    df_binary = df[binary_features]\n",
      "    for b in binary_features:\n",
      "        df_binary[b].fillna(value=0,inplace=True)\n",
      "        df_binary[b] = df_binary[b].map(lambda x: 1 if x!=0 else 0)\n",
      "        \n",
      "\n",
      "    #FORMATTING CATEGORICAL FEATURES\n",
      "    df_categ = df[categorical_features]\n",
      "    for c in categorical_features:\n",
      "        df_categ = categ_formatting(df_categ, c)\n",
      "        del df_categ[c]\n",
      "        \n",
      "        \n",
      "    #FORMATTING GENOTYPE FEATURES\n",
      "    df_geno = df[geno_features]\n",
      "    for g_cols in geno_features:\n",
      "        df_geno = multiallele_GL_formatting(df_geno, g_cols)\n",
      "        del df_geno[g_cols]\n",
      "        \n",
      "    \n",
      "    #FORMATTING NUMERIC FEATURES\n",
      "    df_numeric = df[numeric_features]\n",
      "    for n in numeric_features:\n",
      "        df_numeric[n] = df_numeric[n].astype(float)\n",
      "    \n",
      "    \n",
      "    #JOIN FORMATTED DATAFRAMES\n",
      "    df_train = df_numeric.join([df_categ, df_geno, df_allele, df_binary])\n",
      "    \n",
      "    return df_train"
     ],
     "language": "python",
     "metadata": {},
     "outputs": [],
     "prompt_number": 7
    },
    {
     "cell_type": "heading",
     "level": 3,
     "metadata": {},
     "source": [
      "The following code has already been run and the results from this processing are in the next code block"
     ]
    },
    {
     "cell_type": "code",
     "collapsed": false,
     "input": [
      "#Setting Features and Types for Training Data Set\n",
      "# index_features = ['CHROM', 'POS', 'REF', 'ALT']\n",
      "\n",
      "# allele_features = ['HQ', 'EHQ', 'CGA_CEHQ', 'AD']\n",
      "# binary_features = ['CGA_XR', 'CGA_RPT', 'multiallele']\n",
      "# categorical_features = ['FT', 'vartype1', 'vartype2', 'phase', 'zygosity']\n",
      "# geno_features = ['GL', 'CGA_CEGL']\n",
      "# numeric_features = ['CGA_SDO', 'GQ', 'DP', 'CGA_RDP']\n",
      "\n",
      "# #Pre-processing False Positive Variants\n",
      "# fp_train = preprocess_vcf_line(fp.copy(), index_features, allele_features, binary_features, categorical_features, geno_features, numeric_features)        \n",
      "# fp_train = fp_train[fp_train['DP'] > 0]  #removing variants without any read support\n",
      "# fp_truth = fp_train[['HQ_1']]\n",
      "# fp_truth['HQ_1'] = 0\n",
      "# fp_truth.columns = ['truth']\n",
      "\n",
      "# #Pre-processing True Positive Variants\n",
      "# tp_train = preprocess_vcf_line(tp.copy(), index_features, allele_features, binary_features, categorical_features, geno_features, numeric_features)\n",
      "# tp_train = tp_train[tp_train['DP'] > 0]\n",
      "# tp_truth = tp_train[['HQ_1']]\n",
      "# tp_truth['HQ_1'] = 1\n",
      "# tp_truth.columns = ['truth']\n",
      "\n",
      "\n",
      "#FINAL PRE-PROCESSING FOR TRAINING DATA SET\n",
      "# training_set = tp_train.append(fp_train) \n",
      "# training_set.CGA_SDO.fillna(value=0, inplace=True)\n",
      "# training_set.GQ.fillna(value=-999, inplace=True)\n",
      "\n",
      "# training_truth = tp_truth.append(fp_truth)\n",
      "\n",
      "# #WRITING PRE-PROCESED TRAINING DATA SET TO FILE\n",
      "# training_set['truth'] = training_truth.values\n",
      "# training_set.to_csv('/gpfs/home/erscott/Datasets_raw/PlatinumGenomes/NA12877/NA12877_phasing/NA12877_preprocessed_training_set.txt', sep=\"\\t\")         \n"
     ],
     "language": "python",
     "metadata": {},
     "outputs": [],
     "prompt_number": 8
    },
    {
     "cell_type": "heading",
     "level": 1,
     "metadata": {},
     "source": [
      "NOTE: PREPROCESSING INTERACTIVELY PRODUCES DIFFERENT dtypes COMPARED TO READING THE PREPROCESSED FILES INTO PANDAS, \n",
      "THEREFORE WE MUST EITHER SPECIFY THE dtype TO CONVERT OBJECT TO INT64 INTERACTIVELY OR WE MUST ALWAYS WRITE THE PREPROCESSED\n",
      "DATAFRAME TO FILE AND THEN READ IT IN BEFORE TRAINING/PREDICTING"
     ]
    },
    {
     "cell_type": "code",
     "collapsed": false,
     "input": [
      "#Reading In Pre-processed Training Data Set NA12877\n",
      "training_set = pd.read_table('/gpfs/home/erscott/Datasets_raw/PlatinumGenomes/NA12877/NA12877_phasing/NA12877_preprocessed_training_set.txt.gz', sep=\"\\t\", compression='gzip')   \n",
      "training_set.set_index(['CHROM', 'POS', 'REF', 'ALT'],inplace=True)\n",
      "training_truth = training_set[['truth']]\n",
      "del training_set['truth']"
     ],
     "language": "python",
     "metadata": {},
     "outputs": [],
     "prompt_number": 271
    },
    {
     "cell_type": "heading",
     "level": 3,
     "metadata": {},
     "source": [
      "Small Random Sample of Autosome Variants in Training Data"
     ]
    },
    {
     "cell_type": "code",
     "collapsed": false,
     "input": [
      "len(training_set)"
     ],
     "language": "python",
     "metadata": {},
     "outputs": [
      {
       "metadata": {},
       "output_type": "pyout",
       "prompt_number": 272,
       "text": [
        "3994128"
       ]
      }
     ],
     "prompt_number": 272
    },
    {
     "cell_type": "code",
     "collapsed": false,
     "input": [
      "\n",
      "autosome_chroms = range(1,23)\n",
      "\n",
      "training_truth['chrom'] = [i[0] for i in training_truth.index]  #retrieving the chromosome for each variant\n",
      "training_truth = training_truth[training_truth.chrom.isin(autosome_chroms)]  #filtering sex chromosome variants\n",
      "del training_truth['chrom']\n",
      "\n",
      "#Specifying the tp:fp ratio performs worse than a random sample\n",
      "# tp_indices = training_truth[training_truth.truth==1].index\n",
      "# fp_indices = training_truth[training_truth.truth==0].index\n",
      "# random_sample_tp = random.sample(tp_indices, 100000)  #random sample\n",
      "# random_sample_fp = random.sample(fp_indices, 50000)\n",
      "#random_sample = set(list(random_sample_tp)) | set(list(random_sample_fp))\n",
      "\n",
      "random_sample = random.sample(training_truth.index, 150000)\n",
      "\n",
      "training_set_random = training_set[training_set.index.isin(random_sample)]\n",
      "training_truth_random = training_truth[training_truth.index.isin(random_sample)]\n",
      "\n",
      "#EXCLUDING CGA_XR AS A FEATURE\n",
      "del training_set_random['CGA_XR']"
     ],
     "language": "python",
     "metadata": {},
     "outputs": [],
     "prompt_number": 273
    },
    {
     "cell_type": "code",
     "collapsed": false,
     "input": [
      "print len(training_set_random)\n",
      "training_truth_random.truth.value_counts()"
     ],
     "language": "python",
     "metadata": {},
     "outputs": [
      {
       "output_type": "stream",
       "stream": "stdout",
       "text": [
        "150000\n"
       ]
      },
      {
       "metadata": {},
       "output_type": "pyout",
       "prompt_number": 274,
       "text": [
        "1    135920\n",
        "0     14080\n",
        "dtype: int64"
       ]
      }
     ],
     "prompt_number": 274
    },
    {
     "cell_type": "code",
     "collapsed": false,
     "input": [],
     "language": "python",
     "metadata": {},
     "outputs": []
    },
    {
     "cell_type": "code",
     "collapsed": false,
     "input": [
      "def print_data(df, index):\n",
      "    print index\n",
      "    for i in zip(df.columns, df.ix[index].values[0]):\n",
      "        print i\n",
      "    return"
     ],
     "language": "python",
     "metadata": {},
     "outputs": [],
     "prompt_number": 11
    },
    {
     "cell_type": "heading",
     "level": 2,
     "metadata": {},
     "source": [
      "TESTING RF Data NA12878"
     ]
    },
    {
     "cell_type": "heading",
     "level": 3,
     "metadata": {},
     "source": [
      "The following code has already been run and the results from this processing are in the next code block"
     ]
    },
    {
     "cell_type": "code",
     "collapsed": false,
     "input": [
      "# tp_NA12878_tsv = '/gpfs/home/erscott/Datasets_raw/PlatinumGenomes/NA12878/NA12878_phasing/tp.tsv.gz'\n",
      "\n",
      "# fp_NA12878_tsv = '/gpfs/home/erscott/Datasets_raw/PlatinumGenomes/NA12878/NA12878_phasing/fp.tsv.gz'\n",
      "\n",
      "# test_fp = pd.read_table(fp_NA12878_tsv,sep=\"\\t\",compression='gzip')\n",
      "# #test_fp = test_fp.ix[:10000]\n",
      "\n",
      "# test_tp = pd.read_table(tp_NA12878_tsv,sep=\"\\t\",compression='gzip')\n",
      "# #test_tp = tp.ix[:100000]\n",
      "\n",
      "\n",
      "\n",
      "\n",
      "# index_features = ['CHROM', 'POS', 'REF', 'ALT']\n",
      "\n",
      "# allele_features = ['HQ', 'EHQ', 'CGA_CEHQ', 'AD']\n",
      "# binary_features = ['CGA_XR', 'CGA_RPT', 'multiallele']\n",
      "# categorical_features = ['FT', 'vartype1', 'vartype2', 'phase', 'zygosity']\n",
      "# geno_features = ['GL', 'CGA_CEGL']\n",
      "# numeric_features = ['CGA_SDO', 'GQ', 'DP', 'CGA_RDP']\n",
      "\n",
      "\n",
      "# fp_test = preprocess_vcf_line(test_fp.copy(), index_features, allele_features, binary_features, categorical_features, geno_features, numeric_features)        \n",
      "# fp_test = fp_test[fp_test.DP > 0]\n",
      "# fp_truth = fp_test[['HQ_1']]\n",
      "# fp_truth['HQ_1'] = 0\n",
      "# fp_truth.columns = ['truth']\n",
      "\n",
      "# tp_test = preprocess_vcf_line(test_tp.copy(), index_features, allele_features, binary_features, categorical_features, geno_features, numeric_features)\n",
      "# tp_test = tp_test[tp_test.DP > 0]\n",
      "# tp_truth = tp_test[['HQ_1']]\n",
      "# tp_truth['HQ_1'] = 1\n",
      "# tp_truth.columns = ['truth']\n",
      "\n",
      "\n",
      "# test_set = tp_test.append(fp_test) \n",
      "# test_set = test_set[test_set['DP'] > 0]\n",
      "# test_set.CGA_SDO.fillna(value=0, inplace=True)\n",
      "# test_set.GQ.fillna(value=-999, inplace=True)\n",
      "\n",
      "# test_truth = tp_truth.append(fp_truth)\n",
      "\n",
      "# test_set['truth'] = test_truth.values\n",
      "# test_set.to_csv(\"/gpfs/home/erscott/Datasets_raw/PlatinumGenomes/NA12878/NA12878_phasing/NA12878_preprocessed_testing_set.txt\",sep=\"\\t\")\n",
      "\n"
     ],
     "language": "python",
     "metadata": {},
     "outputs": [],
     "prompt_number": 12
    },
    {
     "cell_type": "code",
     "collapsed": false,
     "input": [
      "test_set = pd.read_table(\"/gpfs/home/erscott/Datasets_raw/PlatinumGenomes/NA12878/NA12878_phasing/NA12878_preprocessed_testing_set.txt\",sep=\"\\t\")\n",
      "test_set.set_index(['CHROM','POS','REF','ALT'],inplace=True)\n",
      "test_truth = test_set[['truth']]\n",
      "del test_set['truth']\n",
      "del test_set['CGA_XR']\n",
      "\n"
     ],
     "language": "python",
     "metadata": {},
     "outputs": [],
     "prompt_number": 277
    },
    {
     "cell_type": "heading",
     "level": 3,
     "metadata": {},
     "source": [
      "Small Random Sample of Testing Data"
     ]
    },
    {
     "cell_type": "code",
     "collapsed": false,
     "input": [
      "\n",
      "autosome_chroms = range(1,23)\n",
      "test_truth['chrom'] = [i[0] for i in test_truth.index]  #retrieving the chromosome for each variant\n",
      "test_truth = test_truth[test_truth.chrom.isin(autosome_chroms)]\n",
      "test_set = test_set[test_set.index.isin(test_truth.index)]\n",
      "del test_truth['chrom']\n",
      "\n",
      "random_subset = random.sample(test_truth.index,100000)\n",
      "test_set_random = test_set.ix[random_subset]\n",
      "test_truth_random = test_truth.ix[random_subset]"
     ],
     "language": "python",
     "metadata": {},
     "outputs": [],
     "prompt_number": 279
    },
    {
     "cell_type": "heading",
     "level": 2,
     "metadata": {},
     "source": [
      "TESTING MODEL CONVENIENCE FUNCTION"
     ]
    },
    {
     "cell_type": "code",
     "collapsed": false,
     "input": [
      "def get_fp_tp_predictions(test_df, test_truth, model):\n",
      "    \n",
      "    fp = test_df.ix[test_truth[test_truth.truth==0].index]\n",
      "    tp = test_df.ix[~test_df.index.isin(fp.index)]\n",
      "    \n",
      "    predictions = model.predict(fp)\n",
      "    fp['predictions'] = predictions\n",
      "    fp['truth'] = test_truth.ix[fp.index]\n",
      "    \n",
      "    predictions = model.predict(tp)\n",
      "    tp['predictions'] = predictions\n",
      "    tp['truth'] = test_truth.ix[tp.index]\n",
      "    \n",
      "    return fp, tp\n",
      "\n",
      "#fp,tp = get_fp_tp_predictions(test_set, test_truth, clf1)  #USAGE\n",
      "#print fp.predictions.value_counts()\n",
      "#print tp.predictions.value_counts()"
     ],
     "language": "python",
     "metadata": {},
     "outputs": [],
     "prompt_number": 280
    },
    {
     "cell_type": "heading",
     "level": 1,
     "metadata": {},
     "source": [
      "TRAINING LOGISTIC REGRESSION MODEL"
     ]
    },
    {
     "cell_type": "code",
     "collapsed": false,
     "input": [
      "from sklearn import linear_model\n",
      "lm = linear_model.LogisticRegression(penalty='l2',C=1)\n",
      "lm_train = lm.fit(training_set_random, training_truth_random.values)\n"
     ],
     "language": "python",
     "metadata": {},
     "outputs": [
      {
       "output_type": "stream",
       "stream": "stderr",
       "text": [
        "/opt/applications/python/2.7.1/gnu/lib/python2.7/site-packages/scikit_learn-0.14.1-py2.7-linux-x86_64.egg/sklearn/preprocessing/label.py:99: DataConversionWarning: A column-vector y was passed when a 1d array was expected. Please change the shape of y to (n_samples, ), for example using ravel().\n",
        "  y = column_or_1d(y, warn=True)\n"
       ]
      }
     ],
     "prompt_number": 281
    },
    {
     "cell_type": "code",
     "collapsed": false,
     "input": [
      "import cPickle\n",
      "cPickle.dump(lm_train, open('/gpfs/home/erscott/Datasets_raw/PlatinumGenomes/NA12877/NA12877_phasing/classifier_models/NA12877_preprocessed_training_set_LogReg_model_l2_C1_autosomes.pkl','w'))   \n"
     ],
     "language": "python",
     "metadata": {},
     "outputs": [],
     "prompt_number": 282
    },
    {
     "cell_type": "code",
     "collapsed": false,
     "input": [
      "zip(training_set_random.columns, lm_train.coef_[0])"
     ],
     "language": "python",
     "metadata": {},
     "outputs": [
      {
       "metadata": {},
       "output_type": "pyout",
       "prompt_number": 283,
       "text": [
        "[('CGA_SDO', -0.0938771973373249),\n",
        " ('GQ', 0.0016888940991103777),\n",
        " ('DP', -0.079006758468163046),\n",
        " ('CGA_RDP', 0.021436315059236911),\n",
        " ('FT_PASS', 0.27691887569096979),\n",
        " ('FT_VQLOW', -0.2842342923707884),\n",
        " ('vartype1_del', 0.251608686176436),\n",
        " ('vartype1_ins', 0.11748643732061508),\n",
        " ('vartype1_mnp', -0.06507867054801679),\n",
        " ('vartype1_snp', -0.31133186962883641),\n",
        " ('vartype2_del', 0.0052319346919157657),\n",
        " ('vartype2_ins', 0.037803878892722097),\n",
        " ('vartype2_mnp', -0.033377100797099137),\n",
        " ('vartype2_snp', -0.016974129467345098),\n",
        " ('phase_/', 0.55861720594259667),\n",
        " ('phase_|', -0.5659326226223832),\n",
        " ('zygosity_het-alt', -0.007332236107557147),\n",
        " ('zygosity_het-ref', 0.0019397513544634705),\n",
        " ('zygosity_hom-alt', -0.0019229319267343153),\n",
        " ('AA_GL', -0.0070364012699877104),\n",
        " ('AB_GL', 0.0016170974688411804),\n",
        " ('BB_GL', -0.0013573737017560305),\n",
        " ('AC_GL', -0.0021651423954388931),\n",
        " ('BC_GL', -0.014515085243918743),\n",
        " ('CC_GL', -0.0021651423954388931),\n",
        " ('AA_CGA_CEGL', -0.0076973210910859808),\n",
        " ('AB_CGA_CEGL', 0.028656307681487154),\n",
        " ('BB_CGA_CEGL', -0.017795921996687232),\n",
        " ('AC_CGA_CEGL', 0.01735911198253012),\n",
        " ('BC_CGA_CEGL', -0.014515085243918743),\n",
        " ('CC_CGA_CEGL', 0.01735911198253012),\n",
        " ('HQ_1', -0.0074017357748029991),\n",
        " ('HQ_2', -0.018690499340696044),\n",
        " ('EHQ_1', 0.0019390833862470904),\n",
        " ('EHQ_2', 0.013349825628428348),\n",
        " ('CGA_CEHQ_1', 0.060581867637335481),\n",
        " ('CGA_CEHQ_2', 0.061525662073137158),\n",
        " ('AD_1', 0.022268961109097714),\n",
        " ('AD_2', 0.053211614228816519),\n",
        " ('CGA_RPT', -0.43193299711050792),\n",
        " ('multiallele', -0.0073299462946456078)]"
       ]
      }
     ],
     "prompt_number": 283
    },
    {
     "cell_type": "code",
     "collapsed": false,
     "input": [
      "lm_train.score(test_set, test_truth)"
     ],
     "language": "python",
     "metadata": {},
     "outputs": [
      {
       "metadata": {},
       "output_type": "pyout",
       "prompt_number": 284,
       "text": [
        "0.96318566360411173"
       ]
      }
     ],
     "prompt_number": 284
    },
    {
     "cell_type": "code",
     "collapsed": false,
     "input": [
      "#100k tp; 50k fp\n",
      "#lm_train.score(test_set, test_truth)"
     ],
     "language": "python",
     "metadata": {},
     "outputs": [
      {
       "metadata": {},
       "output_type": "pyout",
       "prompt_number": 216,
       "text": [
        "0.94876739743473115"
       ]
      }
     ],
     "prompt_number": 216
    },
    {
     "cell_type": "code",
     "collapsed": false,
     "input": [
      "fp,tp = get_fp_tp_predictions(test_set, test_truth, lm_train)\n"
     ],
     "language": "python",
     "metadata": {},
     "outputs": [],
     "prompt_number": 285
    },
    {
     "cell_type": "code",
     "collapsed": false,
     "input": [
      "fp.predictions.value_counts()[0] / float(fp.predictions.value_counts().sum())"
     ],
     "language": "python",
     "metadata": {},
     "outputs": [
      {
       "metadata": {},
       "output_type": "pyout",
       "prompt_number": 286,
       "text": [
        "0.67160741111667499"
       ]
      }
     ],
     "prompt_number": 286
    },
    {
     "cell_type": "code",
     "collapsed": false,
     "input": [
      "tp.predictions.value_counts()[1] / float(tp.predictions.value_counts().sum())"
     ],
     "language": "python",
     "metadata": {},
     "outputs": [
      {
       "metadata": {},
       "output_type": "pyout",
       "prompt_number": 287,
       "text": [
        "0.99231577367552148"
       ]
      }
     ],
     "prompt_number": 287
    },
    {
     "cell_type": "code",
     "collapsed": false,
     "input": [
      "test_truth.truth.value_counts()"
     ],
     "language": "python",
     "metadata": {},
     "outputs": [
      {
       "metadata": {},
       "output_type": "pyout",
       "prompt_number": 288,
       "text": [
        "1    99945\n",
        "0     9985\n",
        "dtype: int64"
       ]
      }
     ],
     "prompt_number": 288
    },
    {
     "cell_type": "code",
     "collapsed": false,
     "input": [
      "#LOGISTIC REGRESSION ROC CURVE DATA\n",
      "\n",
      "test_results = lm_train.predict_proba(test_set)\n",
      "test_results_df = pd.DataFrame(test_results)\n",
      "test_results_df['truth'] = test_truth.values\n",
      "test_results_df.describe()\n",
      "\n",
      "logReg_xy = []\n",
      "optimal_threshold = None\n",
      "for i in range(0,100,2):\n",
      "    temp0_thresh = i/100.0\n",
      "    #print i\n",
      "    temp_df = test_results_df[(test_results_df[1].astype(float) >= temp0_thresh)] #all variants not passing the threshold\n",
      "    fp_rate = len(temp_df[temp_df.truth==0]) / float(test_truth.truth.value_counts()[0])  #true negatives\n",
      "    tp_rate = len(temp_df[temp_df.truth==1]) / float(test_truth.truth.value_counts()[1])\n",
      "    #print\n",
      "    #print 'fp:', fp_rate\n",
      "    #print 'tp:', tp_rate\n",
      "    #print\n",
      "    if fp_rate <= 0.16 and tp_rate >= 0.90:\n",
      "        optimal_threshold = i\n",
      "        print fp_rate, tp_rate, temp0_thresh\n",
      "    logReg_xy.append((fp_rate, tp_rate))\n",
      "\n",
      "logReg_xy_df = pd.DataFrame.from_records(logReg_xy)\n",
      "logReg_xy_df.columns=['1 - specificity','sensitivity']    \n",
      "pd.scatter_matrix(logReg_xy_df, figsize=(8,8),s=100)\n",
      "\n",
      "lr_fp = test_results_df[(test_results_df.truth==0) & (test_results_df[1] >= optimal_threshold)]   \n",
      "lr_tp = test_results_df[(test_results_df.truth==1) & (test_results_df[1] < optimal_threshold)]   \n",
      "\n",
      "\n",
      "\n",
      "from sklearn import metrics\n",
      "y = test_results_df['truth']\n",
      "pred = test_results_df[1]\n",
      "fpr, tpr, thresholds = metrics.roc_curve(y, pred, pos_label=1)\n",
      "\n",
      "print 'AUC:', metrics.auc(fpr, tpr)"
     ],
     "language": "python",
     "metadata": {},
     "outputs": [
      {
       "output_type": "stream",
       "stream": "stdout",
       "text": [
        "0.152228342514 0.919975986793 0.92\n",
        "AUC:"
       ]
      },
      {
       "output_type": "stream",
       "stream": "stdout",
       "text": [
        " 0.945698822885\n"
       ]
      },
      {
       "metadata": {},
       "output_type": "display_data",
       "png": "[encoded data removed]",
       "text": [
        "<matplotlib.figure.Figure at 0x60bba250>"
       ]
      }
     ],
     "prompt_number": 292
    },
    {
     "cell_type": "heading",
     "level": 1,
     "metadata": {},
     "source": [
      "TRAINING & TESTING RF MODELs"
     ]
    },
    {
     "cell_type": "code",
     "collapsed": false,
     "input": [
      "\n",
      "from sklearn.ensemble import RandomForestClassifier\n",
      "clf = RandomForestClassifier(n_estimators=500,n_jobs=8, oob_score=True, criterion='entropy', min_samples_split=4, min_samples_leaf=2)"
     ],
     "language": "python",
     "metadata": {},
     "outputs": [],
     "prompt_number": 297
    },
    {
     "cell_type": "code",
     "collapsed": false,
     "input": [
      "training_set_random.columns"
     ],
     "language": "python",
     "metadata": {},
     "outputs": [
      {
       "metadata": {},
       "output_type": "pyout",
       "prompt_number": 298,
       "text": [
        "Index([u'CGA_SDO', u'GQ', u'DP', u'CGA_RDP', u'FT_PASS', u'FT_VQLOW', u'vartype1_del', u'vartype1_ins', u'vartype1_mnp', u'vartype1_snp', u'vartype2_del', u'vartype2_ins', u'vartype2_mnp', u'vartype2_snp', u'phase_/', u'phase_|', u'zygosity_het-alt', u'zygosity_het-ref', u'zygosity_hom-alt', u'AA_GL', u'AB_GL', u'BB_GL', u'AC_GL', u'BC_GL', u'CC_GL', u'AA_CGA_CEGL', u'AB_CGA_CEGL', u'BB_CGA_CEGL', u'AC_CGA_CEGL', u'BC_CGA_CEGL', u'CC_CGA_CEGL', u'HQ_1', u'HQ_2', u'EHQ_1', u'EHQ_2', u'CGA_CEHQ_1', u'CGA_CEHQ_2', u'AD_1', u'AD_2', u'CGA_RPT', u'multiallele'], dtype=object)"
       ]
      }
     ],
     "prompt_number": 298
    },
    {
     "cell_type": "code",
     "collapsed": false,
     "input": [
      "clf1 = clf.fit(training_set_random, training_truth_random)  #About 10 minutes with 8 jobs"
     ],
     "language": "python",
     "metadata": {},
     "outputs": [
      {
       "output_type": "stream",
       "stream": "stderr",
       "text": [
        "-c:1: DataConversionWarning: A column-vector y was passed when a 1d array was expected. Please change the shape of y to (n_samples, ), for example using ravel().\n"
       ]
      }
     ],
     "prompt_number": 299
    },
    {
     "cell_type": "code",
     "collapsed": false,
     "input": [
      "import cPickle\n",
      "cPickle.dump(clf1, open('/gpfs/home/erscott/Datasets_raw/PlatinumGenomes/NA12877/NA12877_phasing/NA12877_preprocessed_training_set_RF_model_500estim_8jobs_entropy_autosomes.pkl','w'))   \n",
      "!gzip /gpfs/home/erscott/Datasets_raw/PlatinumGenomes/NA12877/NA12877_phasing/NA12877_preprocessed_training_set_RF_model_500estim_8jobs_entropy_autosomes.pkl"
     ],
     "language": "python",
     "metadata": {},
     "outputs": [
      {
       "output_type": "stream",
       "stream": "stdout",
       "text": [
        "gzip: /gpfs/home/erscott/Datasets_raw/PlatinumGenomes/NA12877/NA12877_phasing/NA12877_preprocessed_training_set_RF_model_500estim_8jobs_entropy_autosomes.pkl.gz already exists; do you wish to overwrite (y or n)? "
       ]
      },
      {
       "output_type": "stream",
       "stream": "stdout",
       "text": [
        "^C"
       ]
      }
     ],
     "prompt_number": 198
    },
    {
     "cell_type": "code",
     "collapsed": false,
     "input": [
      "zip(training_set_random.columns, clf1.feature_importances_)"
     ],
     "language": "python",
     "metadata": {},
     "outputs": [
      {
       "metadata": {},
       "output_type": "pyout",
       "prompt_number": 300,
       "text": [
        "[('CGA_SDO', 0.023662328380360951),\n",
        " ('GQ', 0.076507307424213883),\n",
        " ('DP', 0.038111681698531061),\n",
        " ('CGA_RDP', 0.029630276652803086),\n",
        " ('FT_PASS', 0.005909682811781258),\n",
        " ('FT_VQLOW', 0.0089517086853306005),\n",
        " ('vartype1_del', 0.0014804679207425233),\n",
        " ('vartype1_ins', 0.0013953000952965455),\n",
        " ('vartype1_mnp', 0.00085512833646040134),\n",
        " ('vartype1_snp', 0.003524967137462393),\n",
        " ('vartype2_del', 0.0018444012844017117),\n",
        " ('vartype2_ins', 0.00050468861596165385),\n",
        " ('vartype2_mnp', 0.00037422956145100077),\n",
        " ('vartype2_snp', 0.00095946305858286829),\n",
        " ('phase_/', 0.011906993990462149),\n",
        " ('phase_|', 0.011325653370203454),\n",
        " ('zygosity_het-alt', 0.024290972207694345),\n",
        " ('zygosity_het-ref', 0.0019637590853007997),\n",
        " ('zygosity_hom-alt', 0.0044674121703380462),\n",
        " ('AA_GL', 0.059762387410900175),\n",
        " ('AB_GL', 0.010647651718100235),\n",
        " ('BB_GL', 0.023890716226807034),\n",
        " ('AC_GL', 0.00073971811978074868),\n",
        " ('BC_GL', 0.00022486850577763438),\n",
        " ('CC_GL', 0.00051087249352267466),\n",
        " ('AA_CGA_CEGL', 0.067115096247368985),\n",
        " ('AB_CGA_CEGL', 0.011362549446101699),\n",
        " ('BB_CGA_CEGL', 0.017312549146073723),\n",
        " ('AC_CGA_CEGL', 0.00042303564369467584),\n",
        " ('BC_CGA_CEGL', 0.00017755023158337737),\n",
        " ('CC_CGA_CEGL', 0.00059484106113385864),\n",
        " ('HQ_1', 0.030528972902509319),\n",
        " ('HQ_2', 0.07951455079520385),\n",
        " ('EHQ_1', 0.037871291558687299),\n",
        " ('EHQ_2', 0.10950718183548933),\n",
        " ('CGA_CEHQ_1', 0.066426912666850538),\n",
        " ('CGA_CEHQ_2', 0.12355542926770276),\n",
        " ('AD_1', 0.03665055790229204),\n",
        " ('AD_2', 0.068198867170051761),\n",
        " ('CGA_RPT', 0.0070101750894580881),\n",
        " ('multiallele', 0.00030780207353143938)]"
       ]
      }
     ],
     "prompt_number": 300
    },
    {
     "cell_type": "code",
     "collapsed": false,
     "input": [
      "#100k, 50k\n",
      "clf1.oob_score_"
     ],
     "language": "python",
     "metadata": {},
     "outputs": [
      {
       "metadata": {},
       "output_type": "pyout",
       "prompt_number": 256,
       "text": [
        "0.91727333333333338"
       ]
      }
     ],
     "prompt_number": 256
    },
    {
     "cell_type": "code",
     "collapsed": false,
     "input": [
      "#130k, 13k\n",
      "clf1.oob_score_"
     ],
     "language": "python",
     "metadata": {},
     "outputs": [
      {
       "metadata": {},
       "output_type": "pyout",
       "prompt_number": 301,
       "text": [
        "0.96606666666666663"
       ]
      }
     ],
     "prompt_number": 301
    },
    {
     "cell_type": "code",
     "collapsed": false,
     "input": [
      "clf1.score(test_set, test_truth.values)"
     ],
     "language": "python",
     "metadata": {},
     "outputs": [
      {
       "metadata": {},
       "output_type": "pyout",
       "prompt_number": 302,
       "text": [
        "0.96670608569089422"
       ]
      }
     ],
     "prompt_number": 302
    },
    {
     "cell_type": "code",
     "collapsed": false,
     "input": [
      "clf1.score(test_set_random, test_truth_random.values)"
     ],
     "language": "python",
     "metadata": {},
     "outputs": [
      {
       "metadata": {},
       "output_type": "pyout",
       "prompt_number": 29,
       "text": [
        "0.96718000000000004"
       ]
      }
     ],
     "prompt_number": 29
    },
    {
     "cell_type": "code",
     "collapsed": false,
     "input": [
      "test_truth.truth.value_counts()"
     ],
     "language": "python",
     "metadata": {},
     "outputs": [
      {
       "metadata": {},
       "output_type": "pyout",
       "prompt_number": 258,
       "text": [
        "1    99945\n",
        "0     9985\n",
        "dtype: int64"
       ]
      }
     ],
     "prompt_number": 258
    },
    {
     "cell_type": "code",
     "collapsed": false,
     "input": [
      "#RANDOM FOREST ROC DATA\n",
      "test_results = clf1.predict_proba(test_set)\n",
      "test_results_df = pd.DataFrame(test_results)\n",
      "test_results_df['truth'] = test_truth.values\n",
      "\n",
      "RF_xy = []\n",
      "optimal_threshold = None\n",
      "for i in range(0,100,2):\n",
      "    temp0_thresh = i/100.0\n",
      "    #print i\n",
      "    temp_df = test_results_df[(test_results_df[1].astype(float) >= temp0_thresh)]\n",
      "    fp_rate = len(temp_df[temp_df.truth==0]) / float(test_truth.truth.value_counts()[0])\n",
      "    tp_rate = len(temp_df[temp_df.truth==1]) / float(test_truth.truth.value_counts()[1])\n",
      "    #print\n",
      "    #print 'fp:', fp_rate\n",
      "    #print 'tp:', tp_rate\n",
      "    #print\n",
      "    if fp_rate <= 0.15 and tp_rate >= 0.9:\n",
      "        optimal_threshold = i\n",
      "        print round(fp_rate,4), round(tp_rate, 4), temp0_thresh\n",
      "    RF_xy.append((fp_rate, tp_rate))\n",
      "    \n",
      "RF_xy_df = pd.DataFrame.from_records(RF_xy)\n",
      "RF_xy_df.columns=['1 - specificity','sensitivity']\n",
      "pd.scatter_matrix(RF_xy_df, figsize=(8,8),s=100)\n",
      "\n",
      "rf_fp = test_results_df[(test_results_df.truth==0) & (test_results_df[1].astype(float) >= optimal_threshold)]   \n",
      "rf_tp = test_results_df[(test_results_df.truth==1) & (test_results_df[1].astype(float) < optimal_threshold)]   \n",
      "\n",
      "\n",
      "from sklearn import metrics\n",
      "y = test_results_df['truth']\n",
      "pred = test_results_df[1]\n",
      "fpr, tpr, thresholds = metrics.roc_curve(y, pred, pos_label=1)\n",
      "\n",
      "print 'AUC:', metrics.auc(fpr, tpr)"
     ],
     "language": "python",
     "metadata": {},
     "outputs": [
      {
       "output_type": "stream",
       "stream": "stdout",
       "text": [
        "0.1437 0.9459 0.86\n",
        "0.1321 0.9369 0.88\n",
        "0.1195 0.9252 0.9\n",
        "0.1078 0.9085 0.92\n",
        "AUC:"
       ]
      },
      {
       "output_type": "stream",
       "stream": "stdout",
       "text": [
        " 0.960495163176\n"
       ]
      },
      {
       "metadata": {},
       "output_type": "display_data",
       "png": "[encoded data removed]",
       "text": [
        "<matplotlib.figure.Figure at 0x78c28910>"
       ]
      }
     ],
     "prompt_number": 303
    },
    {
     "cell_type": "heading",
     "level": 1,
     "metadata": {},
     "source": [
      "Stochastic Gradient Boosting"
     ]
    },
    {
     "cell_type": "code",
     "collapsed": false,
     "input": [
      "from sklearn import ensemble\n",
      "gbc = ensemble.GradientBoostingClassifier(n_estimators=150, subsample=1, verbose=1)   \n"
     ],
     "language": "python",
     "metadata": {},
     "outputs": [],
     "prompt_number": 304
    },
    {
     "cell_type": "code",
     "collapsed": false,
     "input": [
      "gbc_model = gbc.fit(training_set_random, training_truth_random)\n"
     ],
     "language": "python",
     "metadata": {},
     "outputs": [
      {
       "output_type": "stream",
       "stream": "stdout",
       "text": [
        "      Iter       Train Loss   Remaining Time \n",
        "         1           0.5101            8.94m"
       ]
      },
      {
       "output_type": "stream",
       "stream": "stdout",
       "text": [
        "\n",
        "         2           0.4631            8.86m"
       ]
      },
      {
       "output_type": "stream",
       "stream": "stdout",
       "text": [
        "\n",
        "         3           0.4300            8.75m"
       ]
      },
      {
       "output_type": "stream",
       "stream": "stdout",
       "text": [
        "\n",
        "         4           0.4027            8.66m"
       ]
      },
      {
       "output_type": "stream",
       "stream": "stdout",
       "text": [
        "\n",
        "         5           0.3821            8.57m"
       ]
      },
      {
       "output_type": "stream",
       "stream": "stdout",
       "text": [
        "\n",
        "         6           0.3642            8.51m"
       ]
      },
      {
       "output_type": "stream",
       "stream": "stdout",
       "text": [
        "\n",
        "         7           0.3506            8.43m"
       ]
      },
      {
       "output_type": "stream",
       "stream": "stdout",
       "text": [
        "\n",
        "         8           0.3378            8.37m"
       ]
      },
      {
       "output_type": "stream",
       "stream": "stdout",
       "text": [
        "\n",
        "         9           0.3265            8.34m"
       ]
      },
      {
       "output_type": "stream",
       "stream": "stdout",
       "text": [
        "\n",
        "        10           0.3174            8.29m"
       ]
      },
      {
       "output_type": "stream",
       "stream": "stdout",
       "text": [
        "\n",
        "        20           0.2603            7.63m"
       ]
      },
      {
       "output_type": "stream",
       "stream": "stdout",
       "text": [
        "\n",
        "        30           0.2392            7.02m"
       ]
      },
      {
       "output_type": "stream",
       "stream": "stdout",
       "text": [
        "\n",
        "        40           0.2297            6.43m"
       ]
      },
      {
       "output_type": "stream",
       "stream": "stdout",
       "text": [
        "\n",
        "        50           0.2242            5.85m"
       ]
      },
      {
       "output_type": "stream",
       "stream": "stdout",
       "text": [
        "\n",
        "        60           0.2211            5.28m"
       ]
      },
      {
       "output_type": "stream",
       "stream": "stdout",
       "text": [
        "\n",
        "        70           0.2187            4.70m"
       ]
      },
      {
       "output_type": "stream",
       "stream": "stdout",
       "text": [
        "\n",
        "        80           0.2167            4.11m"
       ]
      },
      {
       "output_type": "stream",
       "stream": "stdout",
       "text": [
        "\n",
        "        90           0.2154            3.53m"
       ]
      },
      {
       "output_type": "stream",
       "stream": "stdout",
       "text": [
        "\n",
        "       100           0.2143            2.95m"
       ]
      },
      {
       "output_type": "stream",
       "stream": "stdout",
       "text": [
        "\n"
       ]
      },
      {
       "output_type": "stream",
       "stream": "stderr",
       "text": [
        "/opt/applications/python/2.7.1/gnu/lib/python2.7/site-packages/scikit_learn-0.14.1-py2.7-linux-x86_64.egg/sklearn/ensemble/gradient_boosting.py:886: DataConversionWarning: A column-vector y was passed when a 1d array was expected. Please change the shape of y to (n_samples, ), for example using ravel().\n",
        "  y = column_or_1d(y, warn=True)\n"
       ]
      }
     ],
     "prompt_number": 305
    },
    {
     "cell_type": "code",
     "collapsed": false,
     "input": [
      "import cPickle\n",
      "cPickle.dump(gbc_model, open('/gpfs/home/erscott/Datasets_raw/PlatinumGenomes/NA12877/NA12877_phasing/NA12877_preprocessed_training_set_GBC_model_150estim_1subsample_autosomes.pkl','w'))   \n",
      "!gzip /gpfs/home/erscott/Datasets_raw/PlatinumGenomes/NA12877/NA12877_phasing/NA12877_preprocessed_training_set_GBC_model_150estim_1subsample_autosomes.pkl"
     ],
     "language": "python",
     "metadata": {},
     "outputs": [],
     "prompt_number": 72
    },
    {
     "cell_type": "code",
     "collapsed": false,
     "input": [
      "zip(training_set_random.columns, gbc_model.feature_importances_)"
     ],
     "language": "python",
     "metadata": {},
     "outputs": [
      {
       "metadata": {},
       "output_type": "pyout",
       "prompt_number": 263,
       "text": [
        "[('CGA_SDO', 0.053108502199950829),\n",
        " ('GQ', 0.093560545832899286),\n",
        " ('DP', 0.08541395685819192),\n",
        " ('CGA_RDP', 0.029811662005229386),\n",
        " ('FT_PASS', 0.002060011521076812),\n",
        " ('FT_VQLOW', 0.0080149936531798763),\n",
        " ('vartype1_del', 0.00011363086999940514),\n",
        " ('vartype1_ins', 0.0011507826638174829),\n",
        " ('vartype1_mnp', 0.009243988423826054),\n",
        " ('vartype1_snp', 0.00025404044263698021),\n",
        " ('vartype2_del', 0.0),\n",
        " ('vartype2_ins', 3.2002396946292421e-05),\n",
        " ('vartype2_mnp', 0.00088342741212847793),\n",
        " ('vartype2_snp', 0.0050519945758290266),\n",
        " ('phase_/', 0.046090470258718777),\n",
        " ('phase_|', 0.043186009777521815),\n",
        " ('zygosity_het-alt', 0.0062715720895525871),\n",
        " ('zygosity_het-ref', 0.00021319127199204531),\n",
        " ('zygosity_hom-alt', 0.0002718562892169231),\n",
        " ('AA_GL', 0.043168987779889915),\n",
        " ('AB_GL', 0.033524394928842009),\n",
        " ('BB_GL', 0.043185060049216871),\n",
        " ('AC_GL', 2.4054706878744765e-05),\n",
        " ('BC_GL', 0.0),\n",
        " ('CC_GL', 0.0013588588908199099),\n",
        " ('AA_CGA_CEGL', 0.071948548648866351),\n",
        " ('AB_CGA_CEGL', 0.0063664342578522498),\n",
        " ('BB_CGA_CEGL', 0.017201748972106998),\n",
        " ('AC_CGA_CEGL', 1.0330863601873987e-08),\n",
        " ('BC_CGA_CEGL', 0.0),\n",
        " ('CC_CGA_CEGL', 1.6924561533416065e-05),\n",
        " ('HQ_1', 5.4922600010769172e-05),\n",
        " ('HQ_2', 0.011346515592940224),\n",
        " ('EHQ_1', 0.0079466083891138843),\n",
        " ('EHQ_2', 0.044112327872337327),\n",
        " ('CGA_CEHQ_1', 0.06094971373687276),\n",
        " ('CGA_CEHQ_2', 0.086119159628940664),\n",
        " ('AD_1', 0.040020678448102177),\n",
        " ('AD_2', 0.044030604717879229),\n",
        " ('CGA_RPT', 0.10389180734421882),\n",
        " ('multiallele', 0.0)]"
       ]
      }
     ],
     "prompt_number": 263
    },
    {
     "cell_type": "code",
     "collapsed": false,
     "input": [
      "gbc_model.score(test_set_random, test_truth_random.values)"
     ],
     "language": "python",
     "metadata": {},
     "outputs": [
      {
       "metadata": {},
       "output_type": "pyout",
       "prompt_number": 264,
       "text": [
        "0.95113000000000003"
       ]
      }
     ],
     "prompt_number": 264
    },
    {
     "cell_type": "code",
     "collapsed": false,
     "input": [
      "#130k tp, 13k fp\n",
      "gbc_model.score(test_set, test_truth.values)"
     ],
     "language": "python",
     "metadata": {},
     "outputs": [
      {
       "metadata": {},
       "output_type": "pyout",
       "prompt_number": 313,
       "text": [
        "0.96578731920312921"
       ]
      }
     ],
     "prompt_number": 313
    },
    {
     "cell_type": "code",
     "collapsed": false,
     "input": [
      "#Gradient Boosted Classifier ROC DATA\n",
      "test_results = gbc_model.predict_proba(test_set)\n",
      "test_results_df = pd.DataFrame(test_results)\n",
      "test_results_df['truth'] = test_truth.values\n",
      "\n",
      "gbc_xy = []\n",
      "optimal_threshold = None\n",
      "for i in range(0,100,2):\n",
      "    temp0_thresh = i/100.0\n",
      "    #print i\n",
      "    temp_df = test_results_df[(test_results_df[1].astype(float) >= temp0_thresh)]\n",
      "    fp_rate = len(temp_df[temp_df.truth==0]) / float(test_truth.truth.value_counts()[0])\n",
      "    tp_rate = len(temp_df[temp_df.truth==1]) / float(test_truth.truth.value_counts()[1])\n",
      "    if fp_rate <= 0.15 and tp_rate >= 0.9:\n",
      "        optimal_threshold = temp0_thresh\n",
      "        print round(fp_rate,4), round(tp_rate, 4), temp0_thresh\n",
      "    #print\n",
      "    #print 'fp:', fp_rate\n",
      "    #print 'tp:', tp_rate\n",
      "    #print\n",
      "    gbc_xy.append((fp_rate, tp_rate))\n",
      "    \n",
      "gbc_fp = test_results_df[(test_results_df.truth==0) & (test_results_df[1].astype(float) >= optimal_threshold)]   \n",
      "gbc_fn = test_results_df[(test_results_df.truth==1) & (test_results_df[1].astype(float) < optimal_threshold)]   \n",
      "gbc_tp = test_results_df[(test_results_df.truth==1) & (test_results_df[1].astype(float) >= optimal_threshold)]\n",
      "    \n",
      "    \n",
      "gbc_xy_df = pd.DataFrame.from_records(gbc_xy)\n",
      "gbc_xy_df.columns=['1 - specificity','sensitivity']\n",
      "pd.scatter_matrix(gbc_xy_df, figsize=(8,8),s=100)\n",
      "\n",
      "from sklearn import metrics\n",
      "y = test_results_df['truth']\n",
      "pred = test_results_df[1]\n",
      "fpr, tpr, thresholds = metrics.roc_curve(y, pred, pos_label=1)\n",
      "\n",
      "print 'AUC:', metrics.auc(fpr, tpr)"
     ],
     "language": "python",
     "metadata": {},
     "outputs": [
      {
       "output_type": "stream",
       "stream": "stdout",
       "text": [
        "0.1427 0.9464 0.9\n",
        "0.1273 0.9352 0.92\n",
        "0.1078 0.9163 0.94\n",
        "AUC:"
       ]
      },
      {
       "output_type": "stream",
       "stream": "stdout",
       "text": [
        " 0.963921160644\n"
       ]
      },
      {
       "metadata": {},
       "output_type": "display_data",
       "png": "[encoded data removed]",
       "text": [
        "<matplotlib.figure.Figure at 0x7f7bef71bdd0>"
       ]
      }
     ],
     "prompt_number": 307
    },
    {
     "cell_type": "code",
     "collapsed": false,
     "input": [
      "test_results_df.truth.value_counts()"
     ],
     "language": "python",
     "metadata": {},
     "outputs": [
      {
       "metadata": {},
       "output_type": "pyout",
       "prompt_number": 308,
       "text": [
        "1    99945\n",
        "0     9985\n",
        "dtype: int64"
       ]
      }
     ],
     "prompt_number": 308
    },
    {
     "cell_type": "code",
     "collapsed": false,
     "input": [
      "gbc_tp[1].describe()"
     ],
     "language": "python",
     "metadata": {},
     "outputs": [
      {
       "metadata": {},
       "output_type": "pyout",
       "prompt_number": 309,
       "text": [
        "count    91578.000000\n",
        "mean         0.987206\n",
        "std          0.010248\n",
        "min          0.940003\n",
        "25%          0.985589\n",
        "50%          0.991754\n",
        "75%          0.993275\n",
        "max          0.996668\n",
        "dtype: float64"
       ]
      }
     ],
     "prompt_number": 309
    },
    {
     "cell_type": "heading",
     "level": 1,
     "metadata": {},
     "source": [
      "TRAINING & TESTING SVM MODEL"
     ]
    },
    {
     "cell_type": "code",
     "collapsed": false,
     "input": [
      "from sklearn import svm\n",
      "svm_model = svm.SVC(probability=True)\n",
      "svm_model.fit(training_set_random, training_truth_random)\n"
     ],
     "language": "python",
     "metadata": {},
     "outputs": [],
     "prompt_number": "*"
    },
    {
     "cell_type": "code",
     "collapsed": false,
     "input": [
      "svm_model.score(test_set_random, test_truth_random.values)"
     ],
     "language": "python",
     "metadata": {},
     "outputs": []
    },
    {
     "cell_type": "heading",
     "level": 1,
     "metadata": {},
     "source": [
      "ROC LogReg vs RF vs GBC"
     ]
    },
    {
     "cell_type": "code",
     "collapsed": false,
     "input": [
      "\n",
      "matplotlib.rcParams.update({'figure.figsize':(8,8)})\n",
      "matplotlib.rcParams.update({'font.size': 16})\n",
      "rcParams['figure.dpi'] = 800\n",
      "rcParams['axes.linewidth'] = 4\n",
      "rcParams['lines.linewidth'] = 2.0\n",
      "rcParams['lines.markersize'] = 6\n",
      "f, axarr = plt.subplots()\n",
      "axarr.plot(logReg_xy_df['1 - specificity'], logReg_xy_df['sensitivity'],'D--', c='blue', label='LogReg')\n",
      "axarr.plot(RF_xy_df['1 - specificity'].values, RF_xy_df['sensitivity'].values,'o--', label='RF')\n",
      "axarr.plot(gbc_xy_df['1 - specificity'].values, gbc_xy_df['sensitivity'].values, 's--', label='GBC')\n",
      "legend(loc=7)\n",
      "\n",
      "#'go-', label='line 1', linewidth=2\n",
      "#fig = x_y_df.plot(x='f p', y='t p')\n"
     ],
     "language": "python",
     "metadata": {},
     "outputs": [
      {
       "metadata": {},
       "output_type": "pyout",
       "prompt_number": 312,
       "text": [
        "<matplotlib.legend.Legend at 0x5d195bd0>"
       ]
      },
      {
       "metadata": {},
       "output_type": "display_data",
       "png": "[encoded data removed]",
       "text": [
        "<matplotlib.figure.Figure at 0x5d18aad0>"
       ]
      }
     ],
     "prompt_number": 312
    },
    {
     "cell_type": "heading",
     "level": 1,
     "metadata": {},
     "source": [
      "Retraining"
     ]
    },
    {
     "cell_type": "code",
     "collapsed": false,
     "input": [
      "def retrain(fp, tp):\n",
      "    retrain_fp = fp[fp.predictions==1]\n",
      "    retrain_tp = tp[tp.predictions==0]\n",
      "    del retrain_fp['predictions']\n",
      "    del retrain_tp['predictions']\n",
      "    retrain_df = retrain_tp.append(retrain_fp)\n",
      "    retrain_df_truth = retrain_df[['truth']]\n",
      "    del retrain_df['truth']\n",
      "    return retrain_df, retrain_df_truth"
     ],
     "language": "python",
     "metadata": {},
     "outputs": []
    },
    {
     "cell_type": "code",
     "collapsed": false,
     "input": [
      "retrain_df, retrain_df_truth = retrain(fp, tp)"
     ],
     "language": "python",
     "metadata": {},
     "outputs": []
    },
    {
     "cell_type": "code",
     "collapsed": false,
     "input": [
      "retrain_clf = clf.fit(retrain_df, retrain_df_truth.values)\n"
     ],
     "language": "python",
     "metadata": {},
     "outputs": []
    },
    {
     "cell_type": "code",
     "collapsed": false,
     "input": [
      "retrain_clf.oob_score_"
     ],
     "language": "python",
     "metadata": {},
     "outputs": []
    },
    {
     "cell_type": "code",
     "collapsed": false,
     "input": [
      "retrain_test_set_index = test_set[~test_set.index.isin(random_subset)].index\n",
      "retrain_test_set = test_set.ix[retrain_test_set_index]\n",
      "retrain_test_set_truth = test_truth.ix[retrain_test_set_index]\n"
     ],
     "language": "python",
     "metadata": {},
     "outputs": []
    },
    {
     "cell_type": "code",
     "collapsed": false,
     "input": [
      "fp,tp = get_fp_tp_predictions(retrain_test_set, retrain_test_set_truth, retrain_clf)"
     ],
     "language": "python",
     "metadata": {},
     "outputs": []
    },
    {
     "cell_type": "code",
     "collapsed": false,
     "input": [
      "retrain_clf.score(retrain_test_set, retrain_test_set_truth)"
     ],
     "language": "python",
     "metadata": {},
     "outputs": []
    },
    {
     "cell_type": "code",
     "collapsed": false,
     "input": [
      "fp.predictions.value_counts()"
     ],
     "language": "python",
     "metadata": {},
     "outputs": []
    },
    {
     "cell_type": "code",
     "collapsed": false,
     "input": [
      "tp.predictions.value_counts()"
     ],
     "language": "python",
     "metadata": {},
     "outputs": []
    },
    {
     "cell_type": "code",
     "collapsed": false,
     "input": [
      "tp.predictions.value_counts()"
     ],
     "language": "python",
     "metadata": {},
     "outputs": []
    },
    {
     "cell_type": "code",
     "collapsed": false,
     "input": [
      "print 'COMPLETE'"
     ],
     "language": "python",
     "metadata": {},
     "outputs": []
    },
    {
     "cell_type": "heading",
     "level": 1,
     "metadata": {},
     "source": [
      "Features Associated with Misclassified Variants"
     ]
    },
    {
     "cell_type": "code",
     "collapsed": false,
     "input": [
      "fp_misclass = fp.copy()\n",
      "fp['truth'] = fp['predictions']\n",
      "del fp['predictions']"
     ],
     "language": "python",
     "metadata": {},
     "outputs": []
    },
    {
     "cell_type": "code",
     "collapsed": false,
     "input": [
      "fp_columns_minus_truth = [i for i in fp.columns if i != 'truth']\n"
     ],
     "language": "python",
     "metadata": {},
     "outputs": []
    },
    {
     "cell_type": "code",
     "collapsed": false,
     "input": [
      "misclass_features = clf.fit(fp[fp_columns_minus_truth], fp['truth'])\n"
     ],
     "language": "python",
     "metadata": {},
     "outputs": []
    },
    {
     "cell_type": "code",
     "collapsed": false,
     "input": [
      "zip(fp[fp_columns_minus_truth].columns, misclass_features.feature_importances_)"
     ],
     "language": "python",
     "metadata": {},
     "outputs": []
    },
    {
     "cell_type": "code",
     "collapsed": false,
     "input": [
      "misclass_features.oob_score_"
     ],
     "language": "python",
     "metadata": {},
     "outputs": []
    },
    {
     "cell_type": "code",
     "collapsed": false,
     "input": [],
     "language": "python",
     "metadata": {},
     "outputs": []
    },
    {
     "cell_type": "heading",
     "level": 1,
     "metadata": {},
     "source": [
      "Function Code, aggregated in the above function preprocess_vcf_line"
     ]
    },
    {
     "cell_type": "heading",
     "level": 3,
     "metadata": {},
     "source": [
      "Numeric Field Formatting"
     ]
    },
    {
     "cell_type": "code",
     "collapsed": false,
     "input": [
      "numeric_features = ['CGA_SDO', 'GQ', 'DP', 'CGA_RDP']\n",
      "df_numeric = df.copy()\n",
      "df_numeric = df_numeric[numeric_features]\n",
      "for n in numeric_features:\n",
      "    df_numeric[n] = df_numeric[n].astype(float)\n",
      "df_numeric['CGA_SDO'].fillna(value=0, inplace=True)\n"
     ],
     "language": "python",
     "metadata": {},
     "outputs": []
    },
    {
     "cell_type": "heading",
     "level": 3,
     "metadata": {},
     "source": [
      "GL Field Formatting"
     ]
    },
    {
     "cell_type": "code",
     "collapsed": false,
     "input": [
      "def multiallele_GL_formatting(df, gl_col):\n",
      "    GL_df = pd.DataFrame.from_records([i.split(\",\") for i in df[gl_col]], columns=['AA_'+gl_col, 'AB_'+gl_col, 'BB_'+gl_col, 'AC_'+gl_col, 'BC_'+gl_col, 'CC_'+gl_col])\n",
      "    GL_df.index = df.index\n",
      "    GL_df.fillna(value=-999,inplace=True)\n",
      "    df = df.join(GL_df)\n",
      "    return df\n",
      "    "
     ],
     "language": "python",
     "metadata": {},
     "outputs": []
    },
    {
     "cell_type": "code",
     "collapsed": false,
     "input": [
      "\n",
      "geno_cols = ['GL', 'CGA_CEGL']\n",
      "\n",
      "df_geno = df.copy()\n",
      "df_geno = df_geno[geno_cols]\n",
      "for g_cols in geno_cols:\n",
      "    df_geno = multiallele_GL_formatting(df_geno, g_cols)\n",
      "    del df_geno[g_cols]"
     ],
     "language": "python",
     "metadata": {},
     "outputs": []
    },
    {
     "cell_type": "heading",
     "level": 3,
     "metadata": {},
     "source": [
      "Allele Field Formatting"
     ]
    },
    {
     "cell_type": "code",
     "collapsed": false,
     "input": [
      "def allele_col_formatting(df, al_col):\n",
      "    df[al_col + \"_1\"] = [int(i.split(\",\")[0]) if i.split(\",\")[0] != \".\" else -999 for i in df[al_col]]\n",
      "    df[al_col + \"_2\"] = [int(i.split(\",\")[1]) if i.split(\",\")[1] != \".\" else -999 for i in df[al_col]]\n",
      "    return df"
     ],
     "language": "python",
     "metadata": {},
     "outputs": []
    },
    {
     "cell_type": "code",
     "collapsed": false,
     "input": [
      "allele_cols = ['HQ', 'EHQ', 'CGA_CEHQ', 'AD']\n",
      "\n",
      "df_allele = df.copy()\n",
      "df_allele = df[allele_cols]\n",
      "for a_cols in allele_cols:\n",
      "    df_allele = allele_col_formatting(df_allele, a_cols)\n",
      "    del df_allele[a_cols]"
     ],
     "language": "python",
     "metadata": {},
     "outputs": []
    },
    {
     "cell_type": "heading",
     "level": 3,
     "metadata": {},
     "source": [
      "Categorical Field Formatting"
     ]
    },
    {
     "cell_type": "code",
     "collapsed": false,
     "input": [
      "def categ_formatting(df, cat_col):\n",
      "    temp_dummies = pd.get_dummies(df[cat_col], prefix=cat_col)\n",
      "    df = df.join(temp_dummies, how='left')\n",
      "    return df"
     ],
     "language": "python",
     "metadata": {},
     "outputs": []
    },
    {
     "cell_type": "code",
     "collapsed": false,
     "input": [
      "categorical_features = ['FT']\n",
      "\n",
      "df_categ = df.copy()\n",
      "df_categ = df_categ[categorical_features]\n",
      "for c in categorical_features:\n",
      "    df_categ = categ_formatting(df_categ, c)\n",
      "    del df_categ[c]"
     ],
     "language": "python",
     "metadata": {},
     "outputs": []
    },
    {
     "cell_type": "heading",
     "level": 3,
     "metadata": {},
     "source": [
      "Binary Features Formatting"
     ]
    },
    {
     "cell_type": "code",
     "collapsed": false,
     "input": [
      "binary_features = ['CGA_XR', 'CGA_RPT']\n",
      "\n",
      "df_binary = df.copy()\n",
      "df_binary = df_binary[binary_features]\n",
      "for b in binary_features:\n",
      "    df_binary[b].fillna(value=0,inplace=True)\n",
      "    df_binary[b] = df_binary[b].map(lambda x: 1 if x!=0 else 0)\n",
      "    "
     ],
     "language": "python",
     "metadata": {},
     "outputs": []
    },
    {
     "cell_type": "heading",
     "level": 3,
     "metadata": {},
     "source": [
      "Joining Numeric, Genotype, Allele, Categorical, and Binary Features"
     ]
    },
    {
     "cell_type": "code",
     "collapsed": false,
     "input": [
      "df_train = df_numeric.join([df_categ, df_geno, df_allele, df_binary])\n",
      "df_train"
     ],
     "language": "python",
     "metadata": {},
     "outputs": []
    },
    {
     "cell_type": "code",
     "collapsed": false,
     "input": [
      "#FOR USE WITH masterVAR files\n",
      "def preprocess_train_set(test_df):\n",
      "    ''' This function converts the allele1/2truth annotated mastervar files into\n",
      "        a numeric dataset ready for training.\n",
      "        It returns a training data set and the truth calls.  The two objects share indices\n",
      "        and can be combined on the index'''\n",
      "    \n",
      "    test_df.set_index(['chromosome','end', 'reference', 'allele1Seq', 'allele2Seq'],drop=False, inplace=True)\n",
      "    \n",
      "    train_columns = [\"zygosity\", \"REF\", \"a1\", \"a2\", \"allele1VarScoreVAF\", \"allele2VarScoreVAF\", \\\n",
      "                 \"allele1VarScoreEAF\", \"allele2VarScoreEAF\", \"allele1VarQuality\", \"allele2VarQuality\",\\\n",
      "               \"allele1ReadCount\", \"allele2ReadCount\", \"totalReadCount\", \"referenceAlleleReadCount\", \\\n",
      "               \"repeatMasker\", \"segDupOverlap\",\"allele1XRef\",\"allele2XRef\",\"allele1Gene\",\"allele2Gene\",\\\n",
      "               \"alleletruth\"]\n",
      "    \n",
      "    def repeatmask(line):\n",
      "        if line['repeatMasker'] == \".\":\n",
      "            return False\n",
      "        else:\n",
      "            return True\n",
      "    \n",
      "    def coding(alleleGene):\n",
      "        if \"CDS\" in alleleGene:\n",
      "            return True\n",
      "        if \"ACCEPTOR\" in alleleGene:\n",
      "            return True\n",
      "        if \"DONOR\" in alleleGene:\n",
      "            return True\n",
      "        else:\n",
      "            return False\n",
      "        \n",
      "            \n",
      "    def allele_truth(line):\n",
      "        if line['allele1truth'] == 1 and line['allele2truth'] == 1:\n",
      "            return 3\n",
      "        if line['allele1truth'] == 1 and line['allele2truth'] == 0:\n",
      "            return 2\n",
      "        if line['allele1truth'] == 0 and line['allele2truth'] == 1:\n",
      "            return 1\n",
      "        if line['allele1truth'] == 0 and line['allele2truth'] == 0:\n",
      "            return 0\n",
      "        else: assert False\n",
      "    \n",
      "    #EXPERIMENTAL BEGIN  - TRAINED RF_196900samples_oddChroms_rsIDBool_2014_2_2_fp845_tp977.pkl.gz\n",
      "    def rsid_parser(XRef):\n",
      "        if XRef == \".\":  #Not in dbSNP\n",
      "            return False\n",
      "        if XRef != \".\":\n",
      "            return True  #In dbSNP\n",
      "    #EXPERIMENTAL END\n",
      "        \n",
      "    \n",
      "    test_df = test_df[test_df.varType=='snp']\n",
      "    test_df = test_df[test_df.zygosity!='half']  #remove half calls\n",
      "    \n",
      "    test_df['repeatMasker'] = test_df.apply(repeatmask, axis=1)\n",
      "    test_df['allele1Gene'] = test_df['allele1Gene'].map(coding)\n",
      "    test_df['allele2Gene'] = test_df['allele2Gene'].map(coding)\n",
      "    \n",
      "    test_df['alleletruth'] = test_df.apply(allele_truth, axis=1)\n",
      "    del test_df['allele1truth']\n",
      "    del test_df['allele2truth']\n",
      "\n",
      "    df_snps_test = test_df[train_columns]\n",
      "    \n",
      "    #Taking the allele seq out Experimental - Transition/Transversion ratio of coding sequences was too low\n",
      "    #allele1Seq_dummies = pd.get_dummies(df_snps_test['allele1Seq'],prefix='allele1Seq')\n",
      "    #allele2Seq_dummies = pd.get_dummies(df_snps_test['allele2Seq'],prefix='allele2Seq')\n",
      "    #df_snps_test = df_snps_test.join(allele1Seq_dummies, how='outer')\n",
      "    #df_snps_test = df_snps_test.join(allele2Seq_dummies,how='outer')\n",
      "    del df_snps_test['allele1Seq']\n",
      "    del df_snps_test['allele2Seq']\n",
      "\n",
      "    allele1VarQuality_dummies = pd.get_dummies(df_snps_test['allele1VarQuality'],prefix='allele1VarQuality')\n",
      "    allele2VarQuality_dummies = pd.get_dummies(df_snps_test['allele2VarQuality'],prefix='allele2VarQuality')\n",
      "    df_snps_test = df_snps_test.join(allele1VarQuality_dummies,how='outer')\n",
      "    df_snps_test = df_snps_test.join(allele2VarQuality_dummies,how='outer')\n",
      "    del df_snps_test['allele1VarQuality']\n",
      "    del df_snps_test['allele2VarQuality']\n",
      "\n",
      "    #ref_dummies = pd.get_dummies(df_snps_test['reference'],prefix='reference')\n",
      "    zygosity_dummies = pd.get_dummies(df_snps_test['zygosity'],prefix='zygosity')\n",
      "    #df_snps_test = df_snps_test.join(ref_dummies,how='outer')\n",
      "    df_snps_test = df_snps_test.join(zygosity_dummies,how='outer')\n",
      "    del df_snps_test['reference']\n",
      "    del df_snps_test['zygosity']\n",
      "    \n",
      "    #Experimental Begin\n",
      "    df_snps_test['allele1XRef'] = df_snps_test['allele1XRef'].map(rsid_parser)\n",
      "    df_snps_test['allele2XRef'] = df_snps_test['allele2XRef'].map(rsid_parser)\n",
      "    #Experimental End\n",
      "    \n",
      "    Y_truth = df_snps_test['alleletruth'].copy()\n",
      "    del df_snps_test['alleletruth']\n",
      "    return df_snps_test, Y_truth"
     ],
     "language": "python",
     "metadata": {},
     "outputs": []
    },
    {
     "cell_type": "code",
     "collapsed": false,
     "input": [],
     "language": "python",
     "metadata": {},
     "outputs": []
    }
   ],
   "metadata": {}
  }
 ]
}