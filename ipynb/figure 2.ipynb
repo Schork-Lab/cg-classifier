{
 "metadata": {
  "name": "",
  "signature": "sha256:6145e9e9f50ddb0cf23b4ebc1d38231f23690e1a385fd80f2327b222905f030b"
 },
 "nbformat": 3,
 "nbformat_minor": 0,
 "worksheets": [
  {
   "cells": [
    {
     "cell_type": "code",
     "collapsed": false,
     "input": [
      "data_dir = '../data'\n",
      "import sys, os\n",
      "src_dir = '../cg-classifier/'\n",
      "sys.path.append(src_dir)\n",
      "import processing.variants, processing.statistics\n",
      "reload(processing.statistics)\n",
      "import pandas as pd\n",
      "import seaborn\n",
      "seaborn.set_context('poster')"
     ],
     "language": "python",
     "metadata": {},
     "outputs": [],
     "prompt_number": 1
    },
    {
     "cell_type": "code",
     "collapsed": false,
     "input": [
      "import cPickle"
     ],
     "language": "python",
     "metadata": {},
     "outputs": [],
     "prompt_number": 2
    },
    {
     "cell_type": "code",
     "collapsed": false,
     "input": [
      "%load_ext autoreload\n",
      "%autoreload 2"
     ],
     "language": "python",
     "metadata": {},
     "outputs": [
      {
       "output_type": "stream",
       "stream": "stdout",
       "text": [
        "The autoreload extension is already loaded. To reload it, use:\n",
        "  %reload_ext autoreload\n"
       ]
      }
     ],
     "prompt_number": 160
    },
    {
     "cell_type": "heading",
     "level": 3,
     "metadata": {},
     "source": [
      "Load Data"
     ]
    },
    {
     "cell_type": "code",
     "collapsed": false,
     "input": [
      "fp = cPickle.load(open('../data/20140803/na12878/NA12878_CGvsRTGphasing/fp_STATSFILE.pkl','rb'))\n",
      "tp = cPickle.load(open('../data/20140803/na12878/NA12878_CGvsRTGphasing/tp_STATSFILE.pkl','rb'))\n",
      "fp_cg_nist = cPickle.load(open('../data/20140803/na12878/NA12878_CGvsNISTbed//fp_STATSFILE.pkl','rb'))\n",
      "tp_cg_nist = cPickle.load(open('../data/20140803/na12878/NA12878_CGvsNISTbed/tp_STATSFILE.pkl','rb'))"
     ],
     "language": "python",
     "metadata": {},
     "outputs": []
    },
    {
     "cell_type": "code",
     "collapsed": false,
     "input": [
      "fp_rtg_nist = cPickle.load(open('../data/20140803/na12878/RTGvsNISThighconf_NA12878/fp_STATSFILE.pkl','rb'))\n",
      "fn_rtg_nist = cPickle.load(open('../data/20140803/na12878/RTGvsNISThighconf_NA12878/fn_STATSFILE.pkl','rb'))\n",
      "tp_rtg_nist = cPickle.load(open('../data/20140803/na12878/RTGvsNISThighconf_NA12878/tp_STATSFILE.pkl','rb'))"
     ],
     "language": "python",
     "metadata": {},
     "outputs": [],
     "prompt_number": 181
    },
    {
     "cell_type": "heading",
     "level": 3,
     "metadata": {},
     "source": [
      "Get total counts"
     ]
    },
    {
     "cell_type": "code",
     "collapsed": false,
     "input": [
      "count_df = get_count_df([tp_rtg_nist, fp_rtg_nist, fn_rtg_nist])\n",
      "count_df = count_df.applymap(lambda x: pow(10, x))\n",
      "count_df.columns = ['RTG + NIST', 'RTG Only', 'NIST Only']"
     ],
     "language": "python",
     "metadata": {},
     "outputs": [],
     "prompt_number": 271
    },
    {
     "cell_type": "code",
     "collapsed": false,
     "input": [
      "count_df"
     ],
     "language": "python",
     "metadata": {},
     "outputs": [
      {
       "html": [
        "<div style=\"max-height:1000px;max-width:1500px;overflow:auto;\">\n",
        "<table border=\"1\" class=\"dataframe\">\n",
        "  <thead>\n",
        "    <tr style=\"text-align: right;\">\n",
        "      <th></th>\n",
        "      <th>RTG + NIST</th>\n",
        "      <th>RTG Only</th>\n",
        "      <th>NIST Only</th>\n",
        "    </tr>\n",
        "  </thead>\n",
        "  <tbody>\n",
        "    <tr>\n",
        "      <th>Insertion</th>\n",
        "      <td>  169219</td>\n",
        "      <td> 5868</td>\n",
        "      <td>  8779</td>\n",
        "    </tr>\n",
        "    <tr>\n",
        "      <th>Deletion</th>\n",
        "      <td>  164188</td>\n",
        "      <td> 3506</td>\n",
        "      <td>  8027</td>\n",
        "    </tr>\n",
        "    <tr>\n",
        "      <th>MNP</th>\n",
        "      <td>   18653</td>\n",
        "      <td>  290</td>\n",
        "      <td>   560</td>\n",
        "    </tr>\n",
        "    <tr>\n",
        "      <th>SNP</th>\n",
        "      <td> 2449973</td>\n",
        "      <td> 1979</td>\n",
        "      <td> 15349</td>\n",
        "    </tr>\n",
        "  </tbody>\n",
        "</table>\n",
        "</div>"
       ],
       "metadata": {},
       "output_type": "pyout",
       "prompt_number": 272,
       "text": [
        "           RTG + NIST  RTG Only  NIST Only\n",
        "Insertion      169219      5868       8779\n",
        "Deletion       164188      3506       8027\n",
        "MNP             18653       290        560\n",
        "SNP           2449973      1979      15349"
       ]
      }
     ],
     "prompt_number": 272
    },
    {
     "cell_type": "code",
     "collapsed": false,
     "input": [
      "rtg_counts = count_df[['RTG + NIST','RTG Only']].sum(axis=1)\n",
      "nist_counts = count_df[['RTG + NIST','NIST Only']].sum(axis=1)"
     ],
     "language": "python",
     "metadata": {},
     "outputs": [],
     "prompt_number": 264
    },
    {
     "cell_type": "code",
     "collapsed": false,
     "input": [
      "count_df"
     ],
     "language": "python",
     "metadata": {},
     "outputs": [
      {
       "html": [
        "<div style=\"max-height:1000px;max-width:1500px;overflow:auto;\">\n",
        "<table border=\"1\" class=\"dataframe\">\n",
        "  <thead>\n",
        "    <tr style=\"text-align: right;\">\n",
        "      <th></th>\n",
        "      <th>CG + RTG</th>\n",
        "      <th>CG Only</th>\n",
        "      <th>PPV</th>\n",
        "      <th>Sensitivity</th>\n",
        "    </tr>\n",
        "  </thead>\n",
        "  <tbody>\n",
        "    <tr>\n",
        "      <th>Insertion</th>\n",
        "      <td>  191025</td>\n",
        "      <td> 19279</td>\n",
        "      <td> 0.908328</td>\n",
        "      <td> 1.091029</td>\n",
        "    </tr>\n",
        "    <tr>\n",
        "      <th>Deletion</th>\n",
        "      <td>  197168</td>\n",
        "      <td> 12358</td>\n",
        "      <td> 0.941019</td>\n",
        "      <td> 1.175761</td>\n",
        "    </tr>\n",
        "    <tr>\n",
        "      <th>MNP</th>\n",
        "      <td>   36395</td>\n",
        "      <td>  4317</td>\n",
        "      <td> 0.893962</td>\n",
        "      <td> 1.921290</td>\n",
        "    </tr>\n",
        "    <tr>\n",
        "      <th>SNP</th>\n",
        "      <td> 3691634</td>\n",
        "      <td> 49139</td>\n",
        "      <td> 0.986864</td>\n",
        "      <td> 1.505590</td>\n",
        "    </tr>\n",
        "  </tbody>\n",
        "</table>\n",
        "</div>"
       ],
       "metadata": {},
       "output_type": "pyout",
       "prompt_number": 270,
       "text": [
        "           CG + RTG  CG Only       PPV  Sensitivity\n",
        "Insertion    191025    19279  0.908328     1.091029\n",
        "Deletion     197168    12358  0.941019     1.175761\n",
        "MNP           36395     4317  0.893962     1.921290\n",
        "SNP         3691634    49139  0.986864     1.505590"
       ]
      }
     ],
     "prompt_number": 270
    },
    {
     "cell_type": "code",
     "collapsed": false,
     "input": [
      "rtg_counts"
     ],
     "language": "python",
     "metadata": {},
     "outputs": [
      {
       "metadata": {},
       "output_type": "pyout",
       "prompt_number": 265,
       "text": [
        "Insertion     175087\n",
        "Deletion      167694\n",
        "MNP            18943\n",
        "SNP          2451952\n",
        "dtype: float64"
       ]
      }
     ],
     "prompt_number": 265
    },
    {
     "cell_type": "heading",
     "level": 3,
     "metadata": {},
     "source": [
      "Plot plot plot plot plot"
     ]
    },
    {
     "cell_type": "code",
     "collapsed": false,
     "input": [
      "%pylab inline"
     ],
     "language": "python",
     "metadata": {},
     "outputs": [
      {
       "output_type": "stream",
       "stream": "stdout",
       "text": [
        "Populating the interactive namespace from numpy and matplotlib\n"
       ]
      },
      {
       "output_type": "stream",
       "stream": "stderr",
       "text": [
        "WARNING: pylab import has clobbered these variables: ['colors']\n",
        "`%matplotlib` prevents importing * from pylab and numpy\n"
       ]
      }
     ],
     "prompt_number": 189
    },
    {
     "cell_type": "code",
     "collapsed": false,
     "input": [
      "from matplotlib import gridspec\n",
      "import figures.helpers"
     ],
     "language": "python",
     "metadata": {},
     "outputs": [],
     "prompt_number": 190
    },
    {
     "cell_type": "code",
     "collapsed": false,
     "input": [
      "from figures.helpers import get_count_df, plot_counts"
     ],
     "language": "python",
     "metadata": {},
     "outputs": [],
     "prompt_number": 191
    },
    {
     "cell_type": "code",
     "collapsed": false,
     "input": [
      "fig = plt.figure(figsize=(15, 3))\n",
      "gs = gridspec.GridSpec(1, 3, wspace=0.1)\n",
      "colors = figures.helpers.get_colors()"
     ],
     "language": "python",
     "metadata": {},
     "outputs": [
      {
       "metadata": {},
       "output_type": "display_data",
       "text": [
        "<matplotlib.figure.Figure at 0x2307ac90>"
       ]
      }
     ],
     "prompt_number": 242
    },
    {
     "cell_type": "heading",
     "level": 3,
     "metadata": {},
     "source": [
      "CG vs RTG"
     ]
    },
    {
     "cell_type": "code",
     "collapsed": false,
     "input": [
      "count_df = get_count_df([tp, fp])\n",
      "count_df.columns = ['CG + RTG', 'CG Only']\n",
      "ax = fig.add_subplot(gs[0,0])\n",
      "fig, ax = plot_counts(fig, ax, count_df, colors)\n",
      "ax.set_title('CG vs RTG', fontdict={'size': 12})\n"
     ],
     "language": "python",
     "metadata": {},
     "outputs": [
      {
       "metadata": {},
       "output_type": "pyout",
       "prompt_number": 267,
       "text": [
        "<matplotlib.text.Text at 0x2bbb3f50>"
       ]
      }
     ],
     "prompt_number": 267
    },
    {
     "cell_type": "code",
     "collapsed": false,
     "input": [
      "count_df = count_df.applymap(lambda x: pow(10, x))\n",
      "count_df['PPV'] = count_df['CG + RTG']/count_df.sum(axis=1)\n",
      "count_df['Sensitivity'] = count_df['CG + RTG']/rtg_counts"
     ],
     "language": "python",
     "metadata": {},
     "outputs": [],
     "prompt_number": 268
    },
    {
     "cell_type": "code",
     "collapsed": false,
     "input": [
      "count_df"
     ],
     "language": "python",
     "metadata": {},
     "outputs": [
      {
       "html": [
        "<div style=\"max-height:1000px;max-width:1500px;overflow:auto;\">\n",
        "<table border=\"1\" class=\"dataframe\">\n",
        "  <thead>\n",
        "    <tr style=\"text-align: right;\">\n",
        "      <th></th>\n",
        "      <th>CG + RTG</th>\n",
        "      <th>CG Only</th>\n",
        "      <th>PPV</th>\n",
        "      <th>Sensitivity</th>\n",
        "    </tr>\n",
        "  </thead>\n",
        "  <tbody>\n",
        "    <tr>\n",
        "      <th>Insertion</th>\n",
        "      <td>  191025</td>\n",
        "      <td> 19279</td>\n",
        "      <td> 0.908328</td>\n",
        "      <td> 1.091029</td>\n",
        "    </tr>\n",
        "    <tr>\n",
        "      <th>Deletion</th>\n",
        "      <td>  197168</td>\n",
        "      <td> 12358</td>\n",
        "      <td> 0.941019</td>\n",
        "      <td> 1.175761</td>\n",
        "    </tr>\n",
        "    <tr>\n",
        "      <th>MNP</th>\n",
        "      <td>   36395</td>\n",
        "      <td>  4317</td>\n",
        "      <td> 0.893962</td>\n",
        "      <td> 1.921290</td>\n",
        "    </tr>\n",
        "    <tr>\n",
        "      <th>SNP</th>\n",
        "      <td> 3691634</td>\n",
        "      <td> 49139</td>\n",
        "      <td> 0.986864</td>\n",
        "      <td> 1.505590</td>\n",
        "    </tr>\n",
        "  </tbody>\n",
        "</table>\n",
        "</div>"
       ],
       "metadata": {},
       "output_type": "pyout",
       "prompt_number": 269,
       "text": [
        "           CG + RTG  CG Only       PPV  Sensitivity\n",
        "Insertion    191025    19279  0.908328     1.091029\n",
        "Deletion     197168    12358  0.941019     1.175761\n",
        "MNP           36395     4317  0.893962     1.921290\n",
        "SNP         3691634    49139  0.986864     1.505590"
       ]
      }
     ],
     "prompt_number": 269
    },
    {
     "cell_type": "heading",
     "level": 3,
     "metadata": {},
     "source": [
      "CG vs NIST"
     ]
    },
    {
     "cell_type": "code",
     "collapsed": false,
     "input": [
      "count_df = get_count_df([tp_cg_nist, fp_cg_nist])\n",
      "count_df.columns = ['CG + NIST', 'CG Only']\n",
      "ax = fig.add_subplot(gs[0,1])\n",
      "fig, ax = plot_counts(fig, ax, count_df, colors)\n",
      "ax.set_title('CG vs NIST High Confidence', fontdict={'size': 12})\n",
      "ax.set_ylabel('')"
     ],
     "language": "python",
     "metadata": {},
     "outputs": [
      {
       "metadata": {},
       "output_type": "pyout",
       "prompt_number": 245,
       "text": [
        "<matplotlib.text.Text at 0x1eb129d0>"
       ]
      }
     ],
     "prompt_number": 245
    },
    {
     "cell_type": "code",
     "collapsed": false,
     "input": [
      "count_df = count_df.applymap(lambda x: pow(10, x))\n",
      "count_df['PPV'] = count_df['CG + NIST']/count_df.sum(axis=1)\n",
      "count_df"
     ],
     "language": "python",
     "metadata": {},
     "outputs": [
      {
       "html": [
        "<div style=\"max-height:1000px;max-width:1500px;overflow:auto;\">\n",
        "<table border=\"1\" class=\"dataframe\">\n",
        "  <thead>\n",
        "    <tr style=\"text-align: right;\">\n",
        "      <th></th>\n",
        "      <th>CG + NIST</th>\n",
        "      <th>CG Only</th>\n",
        "      <th>PPV</th>\n",
        "    </tr>\n",
        "  </thead>\n",
        "  <tbody>\n",
        "    <tr>\n",
        "      <th>Insertion</th>\n",
        "      <td>  193656</td>\n",
        "      <td> 16648</td>\n",
        "      <td> 0.920838</td>\n",
        "    </tr>\n",
        "    <tr>\n",
        "      <th>Deletion</th>\n",
        "      <td>  200401</td>\n",
        "      <td>  9125</td>\n",
        "      <td> 0.956449</td>\n",
        "    </tr>\n",
        "    <tr>\n",
        "      <th>MNP</th>\n",
        "      <td>   36570</td>\n",
        "      <td>  4142</td>\n",
        "      <td> 0.898261</td>\n",
        "    </tr>\n",
        "    <tr>\n",
        "      <th>SNP</th>\n",
        "      <td> 3702278</td>\n",
        "      <td> 38495</td>\n",
        "      <td> 0.989709</td>\n",
        "    </tr>\n",
        "  </tbody>\n",
        "</table>\n",
        "</div>"
       ],
       "metadata": {},
       "output_type": "pyout",
       "prompt_number": 246,
       "text": [
        "           CG + NIST  CG Only       PPV\n",
        "Insertion     193656    16648  0.920838\n",
        "Deletion      200401     9125  0.956449\n",
        "MNP            36570     4142  0.898261\n",
        "SNP          3702278    38495  0.989709"
       ]
      }
     ],
     "prompt_number": 246
    },
    {
     "cell_type": "heading",
     "level": 3,
     "metadata": {},
     "source": [
      "\n",
      "\n",
      "\n",
      "\n",
      "RTG vs NIST"
     ]
    },
    {
     "cell_type": "code",
     "collapsed": false,
     "input": [
      "count_df = get_count_df([tp_rtg_nist, fp_rtg_nist, fn_rtg_nist])\n",
      "count_df.columns = ['RTG + NIST', 'RTG Only', 'NIST Only']\n",
      "ax = fig.add_subplot(gs[0,2])\n",
      "fig, ax = plot_counts(fig, ax, count_df, colors)\n",
      "ax.set_title('RTG vs NIST High Confidence', fontdict={'size': 12})\n",
      "ax.grid(True, axis='y')\n",
      "ax.set_ylabel('')\n",
      "\n"
     ],
     "language": "python",
     "metadata": {},
     "outputs": [
      {
       "metadata": {},
       "output_type": "pyout",
       "prompt_number": 247,
       "text": [
        "<matplotlib.text.Text at 0x2e091150>"
       ]
      }
     ],
     "prompt_number": 247
    },
    {
     "cell_type": "code",
     "collapsed": false,
     "input": [
      "fig"
     ],
     "language": "python",
     "metadata": {},
     "outputs": [
      {
       "metadata": {},
       "output_type": "pyout",
       "png": "[encoded data removed]",
       "prompt_number": 248,
       "text": [
        "<matplotlib.figure.Figure at 0x2307ac90>"
       ]
      }
     ],
     "prompt_number": 248
    },
    {
     "cell_type": "code",
     "collapsed": false,
     "input": [],
     "language": "python",
     "metadata": {},
     "outputs": [],
     "prompt_number": 249
    },
    {
     "cell_type": "code",
     "collapsed": false,
     "input": [],
     "language": "python",
     "metadata": {},
     "outputs": [
      {
       "metadata": {},
       "output_type": "pyout",
       "prompt_number": 253,
       "text": [
        "Insertion     175087\n",
        "Deletion      167694\n",
        "MNP            18943\n",
        "SNP          2451952\n",
        "dtype: float64"
       ]
      }
     ],
     "prompt_number": 253
    },
    {
     "cell_type": "code",
     "collapsed": false,
     "input": [],
     "language": "python",
     "metadata": {},
     "outputs": [
      {
       "metadata": {},
       "output_type": "pyout",
       "prompt_number": 254,
       "text": [
        "Insertion     177998\n",
        "Deletion      172215\n",
        "MNP            19213\n",
        "SNP          2465322\n",
        "dtype: float64"
       ]
      }
     ],
     "prompt_number": 254
    },
    {
     "cell_type": "code",
     "collapsed": false,
     "input": [],
     "language": "python",
     "metadata": {},
     "outputs": []
    }
   ],
   "metadata": {}
  }
 ]
}