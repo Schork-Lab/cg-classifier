{
 "metadata": {
  "name": "",
  "signature": "sha256:492cff296d3e27bd186878a9a51f6479cdc9252d70c06321f770ff8a5636302c"
 },
 "nbformat": 3,
 "nbformat_minor": 0,
 "worksheets": [
  {
   "cells": [
    {
     "cell_type": "code",
     "collapsed": false,
     "input": [
      "data_dir = '../data'\n",
      "import sys, os\n",
      "src_dir = '../cg-classifier/'\n",
      "sys.path.append(src_dir)\n",
      "import processing.variants, processing.statistics\n",
      "reload(processing.statistics)\n",
      "import pandas as pd\n",
      "import seaborn\n",
      "seaborn.set_context('poster')"
     ],
     "language": "python",
     "metadata": {},
     "outputs": [],
     "prompt_number": 1
    },
    {
     "cell_type": "code",
     "collapsed": false,
     "input": [
      "import cPickle"
     ],
     "language": "python",
     "metadata": {},
     "outputs": [],
     "prompt_number": 2
    },
    {
     "cell_type": "code",
     "collapsed": false,
     "input": [
      "%load_ext autoreload\n",
      "%autoreload 2"
     ],
     "language": "python",
     "metadata": {},
     "outputs": [],
     "prompt_number": 3
    },
    {
     "cell_type": "heading",
     "level": 3,
     "metadata": {},
     "source": [
      "Process Tsv Files"
     ]
    },
    {
     "cell_type": "code",
     "collapsed": false,
     "input": [
      "def load_vcf_tsv(filename):\n",
      "    '''\n",
      "    Loads in a vcf file, aware of gzipped files.\n",
      "    '''\n",
      "    compression = None\n",
      "    if filename.endswith('.gz'):\n",
      "        compression = 'gzip'\n",
      "\n",
      "    df = pd.read_table(filename, sep='\\t', compression=compression, chunksize=100000)\n",
      "    return df\n",
      "\n",
      "def get_counts(df):\n",
      "    def process_variants(series):\n",
      "        ref, alt = series['REF'], series['ALT']\n",
      "        sample = series['GT']\n",
      "\n",
      "        series['a1'] = processing.variants.VariantFile._get_allele(sample, series['phase'], ref, alt,\n",
      "                                        chromosome_num=0)\n",
      "        series['a2'] = processing.variants.VariantFile._get_allele(sample, series['phase'], ref, alt,\n",
      "                                        chromosome_num=1)\n",
      "        series['vartype1'] = processing.variants.VariantFile._get_vartype(ref, series['a1'])\n",
      "        series['vartype2'] = processing.variants.VariantFile._get_vartype(ref, series['a2'])\n",
      "        series['zygosity'] = processing.variants.VariantFile._get_zygosity(series['a1'],\n",
      "                                                series['a2'],\n",
      "                                                ref)\n",
      "        return series\n",
      "    for column in ['a1','a2','vartype1','vartype2','zygosity']:\n",
      "        df[column] = ''\n",
      "    \n",
      "    chroms = set(map(str, range(23)))\n",
      "    df = df[df.CHROM.astype(str).map(lambda x: x in chroms)]\n",
      "    df = df[~df['GT'].map(lambda x: '.' in x)]\n",
      "    df['phase'] = df['GT'].map(processing.variants.VariantFile._get_phase)\n",
      "    df = df[df['phase'] != '-']\n",
      "    df = df.apply(process_variants, axis=1)\n",
      "    counts = processing.statistics.Statistics._overall_counts(df)\n",
      "    return counts"
     ],
     "language": "python",
     "metadata": {},
     "outputs": [],
     "prompt_number": 38
    },
    {
     "cell_type": "code",
     "collapsed": false,
     "input": [
      "tsv_files = !ls ../data/20140803/na12878/RTGvsNISThighconf_NA12878/*.tsv\n",
      "for tsv_file in tsv_files[:2]:\n",
      "    tsv_df = load_vcf_tsv(tsv_file)\n",
      "    chunk_df = tsv_df.get_chunk()\n",
      "    count_df = get_counts(chunk_df)\n",
      "    for chunk_df in tsv_df:\n",
      "        count_df = pd.concat([count_df, get_counts(chunk_df)], axis=1).fillna(0).sum(axis=1)\n",
      "    stats = {'counts': count_df}\n",
      "    cPickle.dump(stats, open(tsv_file.replace('.vcf.gz.tsv','_STATSFILE.pkl'),'wb'))"
     ],
     "language": "python",
     "metadata": {},
     "outputs": [],
     "prompt_number": 39
    },
    {
     "cell_type": "code",
     "collapsed": false,
     "input": [],
     "language": "python",
     "metadata": {},
     "outputs": []
    }
   ],
   "metadata": {}
  }
 ]
}