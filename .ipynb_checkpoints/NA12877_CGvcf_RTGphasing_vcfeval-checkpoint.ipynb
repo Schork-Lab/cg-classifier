{
 "metadata": {
  "name": ""
 },
 "nbformat": 3,
 "nbformat_minor": 0,
 "worksheets": [
  {
   "cells": [
    {
     "cell_type": "heading",
     "level": 1,
     "metadata": {},
     "source": [
      "Libraries"
     ]
    },
    {
     "cell_type": "code",
     "collapsed": false,
     "input": [
      "import pandas as pd\n",
      "import coord_to_hg19_seq as hg19\n",
      "from collections import Counter\n",
      "from IPython.display import HTML\n",
      "import pybedtools\n",
      "import os\n",
      "import subprocess"
     ],
     "language": "python",
     "metadata": {},
     "outputs": [],
     "prompt_number": 1
    },
    {
     "cell_type": "heading",
     "level": 1,
     "metadata": {},
     "source": [
      "Functions"
     ]
    },
    {
     "cell_type": "code",
     "collapsed": false,
     "input": [
      "\n",
      "def vcflib_wrapper(vcf_path, vcflib_bin_path, vcflib_args, filehandle=True):\n",
      "    '''\n",
      "    This function wraps vcflib returning a file handle for the\n",
      "    vcflib output.  When used with vcf2tsv -g, it offers a convenient parser\n",
      "    for pandas\n",
      "    '''\n",
      "    vcflib_arg_format = [vcflib_bin_path + vcflib_arg for vcflib_arg in vcflib_args] #formating the vcflib commands with an absolute path\n",
      "    vcflib_args_join = \" | \".join(vcflib_arg_format)  #joining each command with a pipe\n",
      "    \n",
      "    cmd = [\"cat \" + vcf_path + \" | \", vcflib_args_join ]\n",
      "    if \".gz\" in vcf_path:\n",
      "        cmd = [\"zcat \" + vcf_path + \" | \", vcflib_args_join]\n",
      "    print  \" \".join(cmd)\n",
      "    \n",
      "    if filehandle:\n",
      "        variants_file = os.popen(cmd)  #opening file_handle\n",
      "        return variants_file  #returning file_handle\n",
      "    return os.system(\"\".join(cmd))\n",
      "\n",
      "#var_file = vcflib_parser('path/to/vcf', 'path/to/vcflib/bin/')\n",
      "#vcf_chunks = pd.read_table(var_file, sep=\"\\t\", chunksize=10000)\n",
      "#vcf_chunk = vcf_chunks.get_chunk()\n",
      "# vcf_chunk = vcf_chunks.get_chunk()\n",
      "# filter_vars = ['.', '<CGA_CNVWIN>', '<CGA_NOCALL>']\n",
      "# vcf_chunk = vcf_chunk[~vcf_chunk.ALT.isin(filter_vars)]\n",
      "# vcf_chunk = vcf_chunk[vcf_chunk.GT != \".\"]\n",
      "#vcf_chunk"
     ],
     "language": "python",
     "metadata": {},
     "outputs": [],
     "prompt_number": 2
    },
    {
     "cell_type": "code",
     "collapsed": false,
     "input": [
      "#RTG WRAPPER\n",
      "def rtg_vcfeval(rtg_path, rtg_args):\n",
      "    \n",
      "    rtg_args = \" \".join(rtg_args)  #joining each command with a pipe\n",
      "    \n",
      "    cmd = rtg_path + \" \" +  rtg_args  \n",
      "    \n",
      "    print cmd\n",
      "    \n",
      "    #return os.system(cmd)\n",
      "    \n",
      "\n",
      "\n",
      "#     vcf_calls = \"-c /gpfs/home/erscott/Datasets_raw/PlatinumGenomes/CG/NA12877-200-37-ASM/vcfBeta-NA12877-200-37-ASM_allelicprim_uniq.vcf.gz\"\n",
      "# baseline_calls = \"-b /gpfs/home/erscott/Datasets_raw/RTG/phasing_annotated.vcf.gz\"\n",
      "# template = \"-t hg19\"\n",
      "# vcf_score = \"-f INFO\"\n",
      "# sample = \"--sample NA12877\"\n",
      "# output_directory = \"-o /gpfs/home/erscott/Datasets_raw/PlatinumGenomes/CG/NA12877-200-37-ASM/NA12877_RTGphasing_isec\"\n",
      "# threads = \"-T 8\"\n",
      "\n",
      "# rtg_path = \"/gpfs/home/erscott/Tools/RTG/rtg-tools-1.0.0/rtg vcfeval\"\n",
      "\n",
      "# rtg_args = [vcf_calls, baseline_calls, template, vcf_score, sample, output_directory, threads]\n",
      "# call = rtg_vcfeval(rtg_path, rtg_args)\n",
      "\n",
      "\n"
     ],
     "language": "python",
     "metadata": {},
     "outputs": [],
     "prompt_number": 3
    },
    {
     "cell_type": "code",
     "collapsed": false,
     "input": [
      "def __type_df(df):\n",
      "    ref = df['REF']\n",
      "    alt = df['ALT']\n",
      "    if is_snp(ref,alt): return 'snp'\n",
      "    elif is_mnp(ref,alt): return 'mnp'\n",
      "    elif is_insertion(ref,alt): return 'ins'\n",
      "    elif is_del(ref,alt): return 'del'\n",
      "    else: return 'indel or SV'\n",
      "\n",
      "def is_snp(ref,alt):\n",
      "    \"\"\" Return whether or not the variant is a SNP \"\"\"\n",
      "    if len(ref) != len(alt): return False\n",
      "    base_diff = [nt for i,nt in enumerate(alt) if ref[i] != alt[i]]\n",
      "    if len(base_diff) <=1:\n",
      "            return True\n",
      "    return False\n",
      "\n",
      "\n",
      "def is_mnp(ref,alt):\n",
      "    \"\"\" Return whether or not the variant is an MNP\"\"\"\n",
      "    if len(ref) > 1 and len(ref) == len(alt):\n",
      "        return True\n",
      "\n",
      "def is_insertion(ref,alt):\n",
      "    if len(ref) < len(alt):\n",
      "        return True\n",
      "    return False\n",
      "    \n",
      "def is_del(ref,alt):\n",
      "    if len(ref) > len(alt):\n",
      "        return True\n",
      "    return False"
     ],
     "language": "python",
     "metadata": {},
     "outputs": [],
     "prompt_number": 4
    },
    {
     "cell_type": "code",
     "collapsed": false,
     "input": [
      "def get_phase(line, sample_col):\n",
      "    '''\n",
      "    Returns phase status from a GT field\n",
      "    '''\n",
      "    if \"|\" in line[sample_col]:\n",
      "        return \"|\"\n",
      "    if \"/\" in line[sample_col]:\n",
      "        return \"/\"\n",
      "    else: return '-'\n",
      "\n",
      "def get_allele(line, sample_col, phase_col, allele_num=0):\n",
      "    allele_calls = line[sample_col].split(\":\")[0].split(line[phase_col])\n",
      "    alleles = [line['REF']]\n",
      "    alleles.extend(line['ALT'].split(\",\"))\n",
      "    try:\n",
      "        a1 = alleles[int(allele_calls[allele_num])]\n",
      "    except:\n",
      "        a1 = \".\"\n",
      "    return a1\n",
      "\n"
     ],
     "language": "python",
     "metadata": {},
     "outputs": [],
     "prompt_number": 10
    },
    {
     "cell_type": "code",
     "collapsed": false,
     "input": [
      "def vartype(line, allele_base_col):\n",
      "    ref = line['REF']\n",
      "    alt = line[allele_base_col]\n",
      "    if is_snp(ref,alt): return 'snp'\n",
      "    elif is_mnp(ref,alt): return 'mnp'\n",
      "    elif is_insertion(ref,alt): return 'ins'\n",
      "    elif is_del(ref,alt): return 'del'\n",
      "    else: return 'indel or SV'\n",
      "\n",
      "def is_snp(ref,alt):\n",
      "    \"\"\" Return whether or not the variant is a SNP \"\"\"\n",
      "    if len(ref) != len(alt): return False\n",
      "    base_diff = [nt for i,nt in enumerate(alt) if ref[i] != alt[i]]\n",
      "    if len(base_diff) <=1:\n",
      "            return True\n",
      "    return False\n",
      "\n",
      "\n",
      "def is_mnp(ref,alt):\n",
      "    \"\"\" Return whether or not the variant is an MNP\"\"\"\n",
      "    if len(ref) > 1 and len(ref) == len(alt):\n",
      "        return True\n",
      "\n",
      "def is_insertion(ref,alt):\n",
      "    if len(ref) < len(alt):\n",
      "        return True\n",
      "    return False\n",
      "    \n",
      "def is_del(ref,alt):\n",
      "    if len(ref) > len(alt):\n",
      "        return True\n",
      "    return False"
     ],
     "language": "python",
     "metadata": {},
     "outputs": [],
     "prompt_number": 11
    },
    {
     "cell_type": "heading",
     "level": 3,
     "metadata": {},
     "source": [
      "NA12877 Training Set Calls"
     ]
    },
    {
     "cell_type": "code",
     "collapsed": false,
     "input": [
      "#COMMENTED OUT BECAUSE IT'S BEEN RUN ALREADY\n",
      "# !zcat /gpfs/home/erscott/Datasets_raw/PlatinumGenomes/CG/NA12877-200-37-ASM/vcfBeta-NA12877-200-37-ASM.vcf.gz | head -118 > /gpfs/home/erscott/Datasets_raw/PlatinumGenomes/CG/NA12877-200-37-ASM/vcfBeta-NA12877-200-37-ASM.vcf\n",
      "\n",
      "# !sed -i 's/-200-37-ASM//g' /gpfs/home/erscott/Datasets_raw/PlatinumGenomes/CG/NA12877-200-37-ASM/vcfBeta-NA12877-200-37-ASM.vcf\n",
      "\n",
      "# !zcat /gpfs/home/erscott/Datasets_raw/PlatinumGenomes/CG/NA12877-200-37-ASM/vcfBeta-NA12877-200-37-ASM.vcf.gz | tail -n +119 >> /gpfs/home/erscott/Datasets_raw/PlatinumGenomes/CG/NA12877-200-37-ASM/vcfBeta-NA12877-200-37-ASM.vcf\n",
      "\n",
      "# !bgzip /gpfs/home/erscott/Datasets_raw/PlatinumGenomes/CG/NA12877-200-37-ASM/vcfBeta-NA12877-200-37-ASM.vcf\n",
      "\n",
      "# !tabix -p vcf /gpfs/home/erscott/Datasets_raw/PlatinumGenomes/CG/NA12877-200-37-ASM/vcfBeta-NA12877-200-37-ASM.vcf.gz\n",
      "\n",
      "##the following command must be executed in the following dir /gpfs/home/erscott/Tools/RTG/rtg-tools-1.0.0/\n",
      "#!./rtg vcfeval -c /gpfs/home/erscott/Datasets_raw/PlatinumGenomes/CG/NA12877-200-37-ASM/vcfBeta-NA12877-200-37-ASM.vcf.gz -b ~/Datasets_raw/RTG/phasing_annotated.vcf.gz -t hg19 -f QUAL --sample NA12877 -o /gpfs/home/erscott/Datasets_raw/PlatinumGenomes/CG/NA12877_phasing -T 8\n",
      "\n",
      "#!/gpfs/home/erscott/Tools/vcflib/bin/vcf2tsv /gpfs/home/erscott/Datasets_raw/PlatinumGenomes/CG/NA12877_phasing/tp.vcf.gz | bgzip -c > tp.tsv.gz\n",
      "#!/gpfs/home/erscott/Tools/vcflib/bin/vcf2tsv /gpfs/home/erscott/Datasets_raw/PlatinumGenomes/CG/NA12877_phasing/fp.vcf.gz | bgzip -c > fp.tsv.gz\n",
      "\n",
      "tp_NA12877_tsv = '/gpfs/home/erscott/Datasets_raw/PlatinumGenomes/NA12877/NA12877_phasing/tp.tsv.gz'\n",
      "\n",
      "fp_NA12877_tsv = '/gpfs/home/erscott/Datasets_raw/PlatinumGenomes/NA12877/NA12877_phasing/fp.tsv.gz'\n",
      "\n"
     ],
     "language": "python",
     "metadata": {},
     "outputs": [],
     "prompt_number": 12
    },
    {
     "cell_type": "heading",
     "level": 3,
     "metadata": {},
     "source": [
      "NA12878 Testing Set Calls"
     ]
    },
    {
     "cell_type": "code",
     "collapsed": false,
     "input": [
      "#COMMENTED OUT BECAUSE IT'S BEEN RUN ALREADY\n",
      "##the following command must be executed in the following dir /gpfs/home/erscott/Tools/RTG/rtg-tools-1.0.0/\n",
      "#!./rtg vcfeval -c ~/Datasets_raw/PlatinumGenomes/CG/NA12878-200-37-ASM/GS00362-DNA_C04/ASM/vcfBeta-NA12878.vcf.gz -b ~/Datasets_raw/RTG/phasing_annotated.vcf.gz -t hg19 -f QUAL --sample NA12878 -o ~/Datasets_raw/PlatinumGenomes/NA12878/NA12878_phasing -T 8\n",
      "#!/gpfs/home/erscott/Tools/vcflib/bin/vcf2tsv /gpfs/home/erscott/Datasets_raw/PlatinumGenomes/NA12878/NA12878_phasing/fp.vcf.gz | bgzip -c > fp.tsv.gz\n",
      "#!/gpfs/home/erscott/Tools/vcflib/bin/vcf2tsv /gpfs/home/erscott/Datasets_raw/PlatinumGenomes/NA12878/NA12878_phasing/tp.vcf.gz | bgzip -c > tp.tsv.gz\n",
      "\n",
      "\n",
      "tp_NA12878_tsv = '/gpfs/home/erscott/Datasets_raw/PlatinumGenomes/NA12877/NA12877_phasing/tp.tsv.gz'\n",
      "\n",
      "fp_NA12878_tsv = '/gpfs/home/erscott/Datasets_raw/PlatinumGenomes/NA12877/NA12877_phasing/fp.tsv.gz'\n"
     ],
     "language": "python",
     "metadata": {},
     "outputs": [],
     "prompt_number": 13
    },
    {
     "cell_type": "heading",
     "level": 2,
     "metadata": {},
     "source": [
      "CG NA12877 DF"
     ]
    },
    {
     "cell_type": "code",
     "collapsed": false,
     "input": [
      "df = pd.read_table(fp_NA12877_tsv,sep=\"\\t\",compression='gzip')"
     ],
     "language": "python",
     "metadata": {},
     "outputs": [],
     "prompt_number": 14
    },
    {
     "cell_type": "code",
     "collapsed": false,
     "input": [
      "df['PS'] = df.apply(get_phase, args=['GT'], axis=1)\n",
      "df['a1'] = df.apply(get_allele, args=['GT','PS', 0], axis=1)\n",
      "df['a2'] = df.apply(get_allele, args=['GT','PS', 1], axis=1)\n"
     ],
     "language": "python",
     "metadata": {},
     "outputs": [],
     "prompt_number": 15
    },
    {
     "cell_type": "code",
     "collapsed": false,
     "input": [
      "df['vartype1'] = df.apply(vartype,args=['a1'], axis=1)\n",
      "df['vartype2'] = df.apply(vartype,args=['a2'], axis=1)"
     ],
     "language": "python",
     "metadata": {},
     "outputs": [],
     "prompt_number": 16
    },
    {
     "cell_type": "code",
     "collapsed": false,
     "input": [
      "df.vartype2.value_counts()"
     ],
     "language": "python",
     "metadata": {},
     "outputs": [
      {
       "metadata": {},
       "output_type": "pyout",
       "prompt_number": 39,
       "text": [
        "snp    285684\n",
        "del     87369\n",
        "ins     10042\n",
        "mnp      3698\n",
        "dtype: int64"
       ]
      }
     ],
     "prompt_number": 39
    },
    {
     "cell_type": "code",
     "collapsed": false,
     "input": [
      "df.a2.value_counts()"
     ],
     "language": "python",
     "metadata": {},
     "outputs": [
      {
       "metadata": {},
       "output_type": "pyout",
       "prompt_number": 23,
       "text": [
        ".     152015\n",
        "C      48094\n",
        "T      45723\n",
        "A      45399\n",
        "G      43847\n",
        "CA      4117\n",
        "CT      3962\n",
        "TG      2480\n",
        "AT      2455\n",
        "GA      2436\n",
        "TA      2398\n",
        "GT      1823\n",
        "AG      1272\n",
        "AC      1235\n",
        "TC      1134\n",
        "...\n",
        "TTCTCCACCCTAGAGCTGA                                             1\n",
        "CACCACC                                                         1\n",
        "TGTTTTGTTAA                                                     1\n",
        "CGAAAACAAAA                                                     1\n",
        "CAGAGGCCAAGACAGGCAGATCATGAGACCATCCTGTCTAACACAGAGAAACCCCATCTCT    1\n",
        "CGATCC                                                          1\n",
        "TCCTCCTCCCTCCTCCACCTTCCTCCCTCCTCCTCCCTCC                        1\n",
        "ACTCTTTT                                                        1\n",
        "ACTTGC                                                          1\n",
        "GGGCCGAGGGA                                                     1\n",
        "CTCCTGGGC                                                       1\n",
        "GCCATGTTG                                                       1\n",
        "CACTACAATCCAGCCTGGGCGACAGAGCAAGACTCCGTCTCAAAAAAAAA              1\n",
        "CCACCCACCAACG                                                   1\n",
        "TATTTTCAATA                                                     1\n",
        "Length: 5149, dtype: int64"
       ]
      }
     ],
     "prompt_number": 23
    },
    {
     "cell_type": "code",
     "collapsed": false,
     "input": [
      "import os\n",
      "def skip_rows(path):\n",
      "    cmd = ['zcat',path,'|head -1000 |grep CHROM -n']\n",
      "    skip = os.popen(\" \".join(cmd)).readlines()\n",
      "    return int(skip[0].split(\":\")[0]) -1\n",
      "\n",
      "def get_header(path):\n",
      "    cmd = ['zcat',path,'|head -1000 |grep CHROM']\n",
      "    header = os.popen(\" \".join(cmd)).readlines()\n",
      "    return header[0].split(\"\\t\")"
     ],
     "language": "python",
     "metadata": {},
     "outputs": []
    },
    {
     "cell_type": "code",
     "collapsed": false,
     "input": [
      "def get_vcf_a1(line,allele, sample_col):\n",
      "    ''' This function returns the allele call when given a \n",
      "        vcf pandas line\n",
      "        allele=0 first allele call\n",
      "        allele=1 second allele call'''\n",
      "    alleles = [line['REF']]\n",
      "    alleles.extend(line['ALT'].split(\",\"))\n",
      "    if \"/\" in line[sample_col]: \n",
      "        allele_call= int(line[sample_col].split(\":\",1)[0].split(\"/\")[allele])\n",
      "        allele_call= alleles[allele_call]\n",
      "        return allele_call\n",
      "    if \"|\" in line[sample_col]: \n",
      "        allele_call= int(line[sample_col].split(\":\",1)[0].split(\"|\")[allele])\n",
      "        allele_call= alleles[allele_call]\n",
      "        return allele_call"
     ],
     "language": "python",
     "metadata": {},
     "outputs": [],
     "prompt_number": 8
    },
    {
     "cell_type": "code",
     "collapsed": false,
     "input": [
      "ill_df = ill_df[(ill_df.a1_ill.isin(['A','T','G','C']))&(ill_df.a2_ill.isin(['A','T','G','C']))]"
     ],
     "language": "python",
     "metadata": {},
     "outputs": [],
     "prompt_number": 62
    },
    {
     "cell_type": "heading",
     "level": 4,
     "metadata": {},
     "source": [
      "Comparison"
     ]
    },
    {
     "cell_type": "code",
     "collapsed": false,
     "input": [
      "len(set(lfr_df_hg19.index) & set(ill_df.index))"
     ],
     "language": "python",
     "metadata": {},
     "outputs": [
      {
       "metadata": {},
       "output_type": "pyout",
       "prompt_number": 252,
       "text": [
        "2770968"
       ]
      }
     ],
     "prompt_number": 252
    },
    {
     "cell_type": "code",
     "collapsed": false,
     "input": [
      "len(set(na12877.index) & set(ill_df.index))"
     ],
     "language": "python",
     "metadata": {},
     "outputs": [
      {
       "metadata": {},
       "output_type": "pyout",
       "prompt_number": 47,
       "text": [
        "3344304"
       ]
      }
     ],
     "prompt_number": 47
    },
    {
     "cell_type": "heading",
     "level": 2,
     "metadata": {},
     "source": [
      "Annotating Allele1 and Allele2 (Allele1truth, Allele2truth) as true positive (1) or false positive (0) for Complete Genomics NA12877 masterVar \n",
      "\n"
     ]
    },
    {
     "cell_type": "code",
     "collapsed": false,
     "input": [
      "def process_chunk(mastervar, first_write, fp_index_hash):\n",
      "    \n",
      "    \n",
      "    def validate_fp_mastervar(cg_unique_df, rtg_index_allele_dict):\n",
      "        ''' This function searches every position,bp in cg_unique_df\n",
      "            for intersections with rtg_index_allele_dict and returns\n",
      "            a set of false positive indices'''\n",
      "        false_positives = set()  #false-positive index vector\n",
      "\n",
      "        for i in cg_unique_df.index:  #iterate through cg_unique_df indices\n",
      "            chrom = i[0]  \n",
      "            end = i[1] +1  #!!!! CG masterVar uses 0 coord at begin to start variant position\n",
      "            alleleSeq = i[-1]\n",
      "            if alleleSeq == \"=\": continue\n",
      "            for pos,nt in zip(range(end, end+len(alleleSeq)), alleleSeq):  #iterate through all bases in variant\n",
      "                if nt in rtg_index_allele_dict[(chrom, pos)]:  #If base call not in set of RTG base call for pos then False Positives!!!!!!!\n",
      "                    false_positives.add(i)  #adding to fp index vector\n",
      "                    \n",
      "                    #a= !tabix /gpfs/home/erscott/Datasets_raw/RTG/phasing_annotated.vcf.gz 1:$pos-$pos | cut -f1-5,11  #useful for visualizing fp calls\n",
      "                    #if a !=[]:\n",
      "                        #print pos, nt, rtg_index_allele_dict[(chrom, pos)]\n",
      "                        #print a[0].split()\n",
      "                    break\n",
      "        return false_positives\n",
      "    \n",
      "        \n",
      "    #Replace all NaN in mastervar_df with . (vcf convention)\n",
      "    mastervar.allele1Seq.fillna(value=\".\", inplace=True)\n",
      "    mastervar.allele2Seq.fillna(value=\".\", inplace=True)\n",
      "    mastervar.reference.fillna(value=\".\", inplace=True)\n",
      "    \n",
      "    \n",
      "    #Removing missing variants\n",
      "    mastervar = mastervar[mastervar.apply(missing_check,axis=1)]  #removes variants with ? in alleleNSeq\n",
      "    \n",
      "    #Setting index values for original mastervar df\n",
      "    mastervar.set_index(['chromosome', 'end'], drop=False, inplace=True)\n",
      "    #mastervar['mastervar_index'] = mastervar.index.values\n",
      "    \n",
      "    #Removing no-call and ref bases\n",
      "    mastervar = mastervar[(mastervar.zygosity!='no-call') & (mastervar.allele1Seq!='=') & (mastervar.allele2Seq!='=')]\n",
      "    mastervar.zygosity.value_counts()\n",
      "    \n",
      "    #Creating allele specific mastervars\n",
      "    mastervar_a1 = mastervar.set_index(['chromosome','begin','allele1Seq'],drop=False)\n",
      "    mastervar_a2 = mastervar.set_index(['chromosome','begin','allele2Seq'],drop=False)\n",
      "    \n",
      "    \n",
      "    #Checking variant calls against th fp_index_hash\n",
      "    a1_mastervar_validated_fp = validate_fp_mastervar(mastervar_a1, fp_index_hash)  #vector of indices\n",
      "    a2_mastervar_validated_fp = validate_fp_mastervar(mastervar_a2, fp_index_hash)  #vector of indices\n",
      "    \n",
      "    #Annotating allele1 and allele2 with true positive calls (1) or false positive calls (0)\n",
      "    \n",
      "    \n",
      "    mastervar_a1['allele1truth'] = mastervar_a1.apply(annotate_fp_alleles, args=[a1_mastervar_validated_fp], axis=1)\n",
      "    mastervar_a2['allele2truth'] = mastervar_a2.apply(annotate_fp_alleles, args=[a2_mastervar_validated_fp], axis=1)\n",
      "    \n",
      "    \n",
      "    \n",
      "    #Merging allele specific dataframes to integrate the alleleNtruth calls into 1 dataframe\n",
      "    merged = mastervar_a1.merge(mastervar_a2,how='outer')\n",
      "    merged = merged.astype(str)\n",
      "    merged = merged.replace(to_replace='nan',value=\".\")\n",
      "    merged.segDupOverlap.replace(to_replace=\".\",value=0,inplace=True)\n",
      "    \n",
      "    \n",
      "    #Writing merged dataframe to file\n",
      "    if first_write == 0:\n",
      "        merged.to_csv(\"/gpfs/home/erscott/Datasets_raw/PlatinumGenomes/CG/NA12877-200-37-ASM/GS00362-DNA_A01/ASM/masterVarBeta-NA12877_RF_train_RTG.txt\",sep=\"\\t\",index=False)\n",
      "    if first_write != 0:\n",
      "        merged.to_csv(\"/gpfs/home/erscott/Datasets_raw/PlatinumGenomes/CG/NA12877-200-37-ASM/GS00362-DNA_A01/ASM/masterVarBeta-NA12877_RF_train_RTG.txt\",sep=\"\\t\",mode=\"a\",index=False, header=False)\n",
      "    \n",
      "    return 1  #1 indicates write mode to \"a\" and to exclude writing a header\n",
      "\n"
     ],
     "language": "python",
     "metadata": {},
     "outputs": [],
     "prompt_number": 2
    },
    {
     "cell_type": "heading",
     "level": 2,
     "metadata": {},
     "source": [
      "Benchmarking Classifier"
     ]
    },
    {
     "cell_type": "code",
     "collapsed": false,
     "input": [
      "def preprocess_train_set(test_df):\n",
      "    ''' This function converts the allele1/2truth annotated mastervar files into\n",
      "        a numeric dataset ready for training.\n",
      "        It returns a training data set and the truth calls.  The two objects share indices\n",
      "        and can be combined on the index'''\n",
      "    \n",
      "    test_df.set_index(['chromosome','end', 'reference', 'allele1Seq', 'allele2Seq'],drop=False, inplace=True)\n",
      "    \n",
      "    train_columns = [\"zygosity\", \"reference\", \"allele1Seq\", \"allele2Seq\", \"allele1VarScoreVAF\", \"allele2VarScoreVAF\", \\\n",
      "                 \"allele1VarScoreEAF\", \"allele2VarScoreEAF\", \"allele1VarQuality\", \"allele2VarQuality\",\\\n",
      "               \"allele1ReadCount\", \"allele2ReadCount\", \"totalReadCount\", \"referenceAlleleReadCount\", \\\n",
      "               \"repeatMasker\", \"segDupOverlap\",\"allele1XRef\",\"allele2XRef\",\"allele1Gene\",\"allele2Gene\",\\\n",
      "               \"alleletruth\"]\n",
      "    \n",
      "    def repeatmask(line):\n",
      "        if line['repeatMasker'] == \".\":\n",
      "            return False\n",
      "        else:\n",
      "            return True\n",
      "    \n",
      "    def coding(alleleGene):\n",
      "        if \"CDS\" in alleleGene:\n",
      "            return True\n",
      "        if \"ACCEPTOR\" in alleleGene:\n",
      "            return True\n",
      "        if \"DONOR\" in alleleGene:\n",
      "            return True\n",
      "        else:\n",
      "            return False\n",
      "        \n",
      "            \n",
      "    def allele_truth(line):\n",
      "        if line['allele1truth'] == 1 and line['allele2truth'] == 1:\n",
      "            return 3\n",
      "        if line['allele1truth'] == 1 and line['allele2truth'] == 0:\n",
      "            return 2\n",
      "        if line['allele1truth'] == 0 and line['allele2truth'] == 1:\n",
      "            return 1\n",
      "        if line['allele1truth'] == 0 and line['allele2truth'] == 0:\n",
      "            return 0\n",
      "        else: assert False\n",
      "    \n",
      "    #EXPERIMENTAL BEGIN  - TRAINED RF_196900samples_oddChroms_rsIDBool_2014_2_2_fp845_tp977.pkl.gz\n",
      "    def rsid_parser(XRef):\n",
      "        if XRef == \".\":  #Not in dbSNP\n",
      "            return False\n",
      "        if XRef != \".\":\n",
      "            return True  #In dbSNP\n",
      "    #EXPERIMENTAL END\n",
      "        \n",
      "    \n",
      "    test_df = test_df[test_df.varType=='snp']\n",
      "    test_df = test_df[test_df.zygosity!='half']  #remove half calls\n",
      "    \n",
      "    test_df['repeatMasker'] = test_df.apply(repeatmask, axis=1)\n",
      "    test_df['allele1Gene'] = test_df['allele1Gene'].map(coding)\n",
      "    test_df['allele2Gene'] = test_df['allele2Gene'].map(coding)\n",
      "    \n",
      "    test_df['alleletruth'] = test_df.apply(allele_truth, axis=1)\n",
      "    del test_df['allele1truth']\n",
      "    del test_df['allele2truth']\n",
      "\n",
      "    df_snps_test = test_df[train_columns]\n",
      "    \n",
      "    #Taking the allele seq out Experimental - Transition/Transversion ratio of coding sequences was too low\n",
      "    #allele1Seq_dummies = pd.get_dummies(df_snps_test['allele1Seq'],prefix='allele1Seq')\n",
      "    #allele2Seq_dummies = pd.get_dummies(df_snps_test['allele2Seq'],prefix='allele2Seq')\n",
      "    #df_snps_test = df_snps_test.join(allele1Seq_dummies, how='outer')\n",
      "    #df_snps_test = df_snps_test.join(allele2Seq_dummies,how='outer')\n",
      "    del df_snps_test['allele1Seq']\n",
      "    del df_snps_test['allele2Seq']\n",
      "\n",
      "    allele1VarQuality_dummies = pd.get_dummies(df_snps_test['allele1VarQuality'],prefix='allele1VarQuality')\n",
      "    allele2VarQuality_dummies = pd.get_dummies(df_snps_test['allele2VarQuality'],prefix='allele2VarQuality')\n",
      "    df_snps_test = df_snps_test.join(allele1VarQuality_dummies,how='outer')\n",
      "    df_snps_test = df_snps_test.join(allele2VarQuality_dummies,how='outer')\n",
      "    del df_snps_test['allele1VarQuality']\n",
      "    del df_snps_test['allele2VarQuality']\n",
      "\n",
      "    #ref_dummies = pd.get_dummies(df_snps_test['reference'],prefix='reference')\n",
      "    zygosity_dummies = pd.get_dummies(df_snps_test['zygosity'],prefix='zygosity')\n",
      "    #df_snps_test = df_snps_test.join(ref_dummies,how='outer')\n",
      "    df_snps_test = df_snps_test.join(zygosity_dummies,how='outer')\n",
      "    del df_snps_test['reference']\n",
      "    del df_snps_test['zygosity']\n",
      "    \n",
      "    #Experimental Begin\n",
      "    df_snps_test['allele1XRef'] = df_snps_test['allele1XRef'].map(rsid_parser)\n",
      "    df_snps_test['allele2XRef'] = df_snps_test['allele2XRef'].map(rsid_parser)\n",
      "    #Experimental End\n",
      "    \n",
      "    Y_truth = df_snps_test['alleletruth'].copy()\n",
      "    del df_snps_test['alleletruth']\n",
      "    return df_snps_test, Y_truth\n"
     ],
     "language": "python",
     "metadata": {},
     "outputs": []
    },
    {
     "cell_type": "code",
     "collapsed": false,
     "input": [
      "import random\n",
      "import cPickle\n",
      "\n",
      "def preprocess_train_set(test_df):\n",
      "    ''' This function converts the allele1/2truth annotated mastervar files into\n",
      "        a numeric dataset ready for training.\n",
      "        It returns a training data set and the truth calls.  The two objects share indices\n",
      "        and can be combined on the index'''\n",
      "    \n",
      "    test_df.set_index(['chromosome','end', 'reference', 'allele1Seq', 'allele2Seq'], drop=False, inplace=True)\n",
      "    \n",
      "    train_columns = [\"zygosity\", \"reference\", \"allele1Seq\", \"allele2Seq\", \"allele1VarScoreVAF\", \"allele2VarScoreVAF\", \\\n",
      "                 \"allele1VarScoreEAF\", \"allele2VarScoreEAF\", \"allele1VarQuality\", \"allele2VarQuality\",\\\n",
      "               \"allele1ReadCount\", \"allele2ReadCount\", \"totalReadCount\", \"referenceAlleleReadCount\", \\\n",
      "               \"repeatMasker\", \"segDupOverlap\",\"allele1XRef\",\"allele2XRef\",\"allele1Gene\",\"allele2Gene\",\\\n",
      "               \"alleletruth\"]\n",
      "    \n",
      "    def repeatmask(line):\n",
      "        if line['repeatMasker'] == \".\":\n",
      "            return False\n",
      "        else:\n",
      "            return True\n",
      "    \n",
      "    def coding(alleleGene):\n",
      "        try:\n",
      "            if \"CDS\" in alleleGene:\n",
      "                return True\n",
      "            if \"ACCEPTOR\" in alleleGene:\n",
      "                return True\n",
      "            if \"DONOR\" in alleleGene:\n",
      "                return True\n",
      "            else:\n",
      "                return False\n",
      "        except TypeError:\n",
      "            return False\n",
      "            \n",
      "        \n",
      "            \n",
      "    def allele_truth(line):\n",
      "        if line['allele1truth'] == 1 and line['allele2truth'] == 1:\n",
      "            return 3\n",
      "        if line['allele1truth'] == 1 and line['allele2truth'] == 0:\n",
      "            return 2\n",
      "        if line['allele1truth'] == 0 and line['allele2truth'] == 1:\n",
      "            return 1\n",
      "        if line['allele1truth'] == 0 and line['allele2truth'] == 0:\n",
      "            return 0\n",
      "        else: assert False\n",
      "    \n",
      "    #EXPERIMENTAL BEGIN  - TRAINED RF_196900samples_oddChroms_rsIDBool_2014_2_2_fp845_tp977.pkl.gz\n",
      "    def rsid_parser(XRef):\n",
      "        if XRef == \".\":  #Not in dbSNP\n",
      "            return False\n",
      "        if XRef != \".\":\n",
      "            return True  #In dbSNP\n",
      "    #EXPERIMENTAL END\n",
      "        \n",
      "    \n",
      "    test_df = test_df[test_df.varType=='snp']\n",
      "    test_df = test_df[test_df.zygosity!='half']  #remove half calls\n",
      "    \n",
      "    test_df['repeatMasker'] = test_df.apply(repeatmask, axis=1)\n",
      "    test_df['allele1Gene'] = test_df['allele1Gene'].map(coding)\n",
      "    test_df['allele2Gene'] = test_df['allele2Gene'].map(coding)\n",
      "    \n",
      "    test_df['segDupOverlap'].fillna(value=0,inplace=True)\n",
      "    \n",
      "    test_df['alleletruth'] = test_df.apply(allele_truth, axis=1)\n",
      "    del test_df['allele1truth']\n",
      "    del test_df['allele2truth']\n",
      "\n",
      "    df_snps_test = test_df[train_columns]\n",
      "    \n",
      "    for c in df_snps_test.columns:\n",
      "\n",
      "        try:\n",
      "            df_snps_test[c].fillna(value='.',inplace=True)\n",
      "        except ValueError:\n",
      "            pass\n",
      "    #df_snps_test.fillna(value=\".\",inplace=True)\n",
      "    \n",
      "    #Taking the allele seq out Experimental - Transition/Transversion ratio of coding sequences was too low\n",
      "    #allele1Seq_dummies = pd.get_dummies(df_snps_test['allele1Seq'],prefix='allele1Seq')\n",
      "    #allele2Seq_dummies = pd.get_dummies(df_snps_test['allele2Seq'],prefix='allele2Seq')\n",
      "    #df_snps_test = df_snps_test.join(allele1Seq_dummies, how='outer')\n",
      "    #df_snps_test = df_snps_test.join(allele2Seq_dummies,how='outer')\n",
      "    del df_snps_test['allele1Seq']\n",
      "    del df_snps_test['allele2Seq']\n",
      "\n",
      "    allele1VarQuality_dummies = pd.get_dummies(df_snps_test['allele1VarQuality'],prefix='allele1VarQuality')\n",
      "    allele2VarQuality_dummies = pd.get_dummies(df_snps_test['allele2VarQuality'],prefix='allele2VarQuality')\n",
      "    df_snps_test = df_snps_test.join(allele1VarQuality_dummies,how='outer')\n",
      "    df_snps_test = df_snps_test.join(allele2VarQuality_dummies,how='outer')\n",
      "    del df_snps_test['allele1VarQuality']\n",
      "    del df_snps_test['allele2VarQuality']\n",
      "\n",
      "    #ref_dummies = pd.get_dummies(df_snps_test['reference'],prefix='reference')\n",
      "    zygosity_dummies = pd.get_dummies(df_snps_test['zygosity'],prefix='zygosity')\n",
      "    #df_snps_test = df_snps_test.join(ref_dummies,how='outer')\n",
      "    df_snps_test = df_snps_test.join(zygosity_dummies,how='outer')\n",
      "    del df_snps_test['reference']\n",
      "    del df_snps_test['zygosity']\n",
      "    \n",
      "    #Experimental Begin\n",
      "    df_snps_test['allele1XRef'] = df_snps_test['allele1XRef'].map(rsid_parser)\n",
      "    df_snps_test['allele2XRef'] = df_snps_test['allele2XRef'].map(rsid_parser)\n",
      "    #Experimental End\n",
      "    \n",
      "    #replacing missing with 0 for segDupOverlap\n",
      "    df_snps_test.segDupOverlap.replace(to_replace=\".\",value=0,inplace=True)\n",
      "    \n",
      "    Y_truth = df_snps_test['alleletruth'].copy()\n",
      "    del df_snps_test['alleletruth']\n",
      "    return df_snps_test, Y_truth\n"
     ],
     "language": "python",
     "metadata": {},
     "outputs": [],
     "prompt_number": 2
    },
    {
     "cell_type": "code",
     "collapsed": false,
     "input": [
      "na12877_merged= pd.read_table('/gpfs/home/erscott/Datasets_raw/PlatinumGenomes/NA12877/NA12877_CG_LFR_ILLrtg_hg19.txt',sep=\"\\t\")         \n"
     ],
     "language": "python",
     "metadata": {},
     "outputs": [],
     "prompt_number": 4
    },
    {
     "cell_type": "code",
     "collapsed": false,
     "input": [
      "na12877_merged = na12877_merged[(na12877_merged.allele1Seq.isin(['A','T','G','C']))&(na12877_merged.allele2Seq.isin(['A','T','G','C']))]      \n",
      "\n",
      "\n"
     ],
     "language": "python",
     "metadata": {},
     "outputs": [],
     "prompt_number": 5
    },
    {
     "cell_type": "code",
     "collapsed": false,
     "input": [
      "print len(na12877_merged)\n",
      "na12877_merged.drop_duplicates(cols=['chromosome','end'],inplace=True) #removing duplicate variants from phasing data\n",
      "print len(na12877_merged)"
     ],
     "language": "python",
     "metadata": {},
     "outputs": [
      {
       "output_type": "stream",
       "stream": "stdout",
       "text": [
        "3299872\n",
        "3297024"
       ]
      },
      {
       "output_type": "stream",
       "stream": "stdout",
       "text": [
        "\n"
       ]
      }
     ],
     "prompt_number": 6
    },
    {
     "cell_type": "code",
     "collapsed": false,
     "input": [
      "na12877_merged.info()"
     ],
     "language": "python",
     "metadata": {},
     "outputs": [
      {
       "output_type": "stream",
       "stream": "stdout",
       "text": [
        "<class 'pandas.core.frame.DataFrame'>\n",
        "Int64Index: 3297024 entries, 0 to 3435473\n",
        "Data columns (total 58 columns):\n",
        ">locus                        3297024  non-null values\n",
        "ploidy                        3297024  non-null values\n",
        "chromosome                    3297024  non-null values\n",
        "begin                         3297024  non-null values\n",
        "end                           3297024  non-null values\n",
        "zygosity                      3297024  non-null values\n",
        "varType                       3297024  non-null values\n",
        "reference                     3297024  non-null values\n",
        "allele1Seq                    3297024  non-null values\n",
        "allele2Seq                    3297024  non-null values\n",
        "allele1VarScoreVAF            3297024  non-null values\n",
        "allele2VarScoreVAF            3297024  non-null values\n",
        "allele1VarScoreEAF            3297024  non-null values\n",
        "allele2VarScoreEAF            3297024  non-null values\n",
        "allele1VarQuality             3297024  non-null values\n",
        "allele2VarQuality             3297024  non-null values\n",
        "allele1HapLink                742692  non-null values\n",
        "allele2HapLink                742692  non-null values\n",
        "allele1XRef                   3161325  non-null values\n",
        "allele2XRef                   1259698  non-null values\n",
        "evidenceIntervalId            3297024  non-null values\n",
        "allele1ReadCount              3297024  non-null values\n",
        "allele2ReadCount              3297024  non-null values\n",
        "referenceAlleleReadCount      3297024  non-null values\n",
        "totalReadCount                3297024  non-null values\n",
        "allele1Gene                   1395657  non-null values\n",
        "allele2Gene                   1395657  non-null values\n",
        "pfam                          5162  non-null values\n",
        "miRBaseId                     56  non-null values\n",
        "repeatMasker                  1715652  non-null values\n",
        "segDupOverlap                 123659  non-null values\n",
        "relativeCoverageDiploid       3297024  non-null values\n",
        "calledPloidy                  3297024  non-null values\n",
        "relativeCoverageNondiploid    3297024  non-null values\n",
        "calledLevel                   3297024  non-null values\n",
        "#CHROM                        3079597  non-null values\n",
        "POS                           3079597  non-null values\n",
        "ID                            3079597  non-null values\n",
        "REF                           3079597  non-null values\n",
        "ALT                           3079597  non-null values\n",
        "QUAL                          3079597  non-null values\n",
        "FILTER                        3079597  non-null values\n",
        "INFO                          3079597  non-null values\n",
        "FORMAT                        3079597  non-null values\n",
        "NA12877                       3079597  non-null values\n",
        "a1_ill                        3079597  non-null values\n",
        "a2_ill                        3079597  non-null values\n",
        "AVR                           3079597  non-null values\n",
        "DP                            3079597  non-null values\n",
        "AD                            3079597  non-null values\n",
        "a1                            2616287  non-null values\n",
        "a2                            2616287  non-null values\n",
        "a                             2616287  non-null values\n",
        "c                             2616287  non-null values\n",
        "g                             2616287  non-null values\n",
        "t                             2616287  non-null values\n",
        "n                             2616287  non-null values\n",
        "all_reads                     2616287  non-null values\n",
        "dtypes: float64(25), int64(4), object(29)"
       ]
      }
     ],
     "prompt_number": 7
    },
    {
     "cell_type": "code",
     "collapsed": false,
     "input": [
      "import gzip\n",
      "import cPickle\n",
      "RF = cPickle.load(gzip.open('/gpfs/group/stsi/data/wellderly/CG_data/CG_masterVar_classifiers/RF_196900samples_oddChroms_rsIDBool_codingBool_noRefAlt_2014_2_4.pkl.gz','r'))   \n"
     ],
     "language": "python",
     "metadata": {},
     "outputs": [],
     "prompt_number": 8
    },
    {
     "cell_type": "heading",
     "level": 4,
     "metadata": {},
     "source": [
      "CG & Illuminartg Comparison"
     ]
    },
    {
     "cell_type": "code",
     "collapsed": false,
     "input": [
      "na12877_merged['a1_ill'].fillna(value=\".\",inplace=True)\n",
      "na12877_merged['a2_ill'].fillna(value=\".\",inplace=True)\n",
      "na12877_merged['a1'].fillna(value=\".\",inplace=True)\n",
      "na12877_merged['a2'].fillna(value=\".\",inplace=True)"
     ],
     "language": "python",
     "metadata": {},
     "outputs": [],
     "prompt_number": 9
    },
    {
     "cell_type": "code",
     "collapsed": false,
     "input": [
      "len(na12877_merged[['chromosome','end']].index.unique())"
     ],
     "language": "python",
     "metadata": {},
     "outputs": [
      {
       "metadata": {},
       "output_type": "pyout",
       "prompt_number": 10,
       "text": [
        "3297024"
       ]
      }
     ],
     "prompt_number": 10
    },
    {
     "cell_type": "code",
     "collapsed": false,
     "input": [
      "def fillna_ref(line,allele_col):\n",
      "    if line[allele_col] == \".\":\n",
      "        return line['reference']\n",
      "    return line[allele_col]\n"
     ],
     "language": "python",
     "metadata": {},
     "outputs": [],
     "prompt_number": 11
    },
    {
     "cell_type": "code",
     "collapsed": false,
     "input": [
      "#Not needed if only the a1 wrong | a2 wrong\n",
      "# na12877_merged['a1_ill'] = na12877_merged.apply(fillna_ref,args=['a1_ill'],axis=1)\n",
      "# na12877_merged['a2_ill'] = na12877_merged.apply(fillna_ref,args=['a2_ill'],axis=1)\n",
      "# na12877_merged['a1'] = na12877_merged.apply(fillna_ref,args=['a1'],axis=1)\n",
      "# na12877_merged['a2'] = na12877_merged.apply(fillna_ref,args=['a2'],axis=1)"
     ],
     "language": "python",
     "metadata": {},
     "outputs": [],
     "prompt_number": 12
    },
    {
     "cell_type": "code",
     "collapsed": false,
     "input": [
      "cg_ill_tp = na12877_merged[ ( (na12877_merged['allele1Seq'] == na12877_merged['a1_ill'])&(na12877_merged['allele2Seq']==na12877_merged['a2_ill']) )| (( (na12877_merged['allele1Seq'] == na12877_merged['a2_ill'])&(na12877_merged['allele2Seq']==na12877_merged['a1_ill']) ) ) ]         \n"
     ],
     "language": "python",
     "metadata": {},
     "outputs": [],
     "prompt_number": 13
    },
    {
     "cell_type": "code",
     "collapsed": false,
     "input": [
      "cg_ill_tp['allele1truth'] = 1\n",
      "cg_ill_tp['allele2truth'] = 1\n"
     ],
     "language": "python",
     "metadata": {},
     "outputs": [],
     "prompt_number": 14
    },
    {
     "cell_type": "code",
     "collapsed": false,
     "input": [
      "print len(cg_ill_tp) "
     ],
     "language": "python",
     "metadata": {},
     "outputs": [
      {
       "output_type": "stream",
       "stream": "stdout",
       "text": [
        "3074762\n"
       ]
      }
     ],
     "prompt_number": 15
    },
    {
     "cell_type": "code",
     "collapsed": false,
     "input": [
      "fp = na12877_merged[~na12877_merged.index.isin(cg_ill_tp.index)]\n",
      "len(fp)"
     ],
     "language": "python",
     "metadata": {},
     "outputs": [
      {
       "metadata": {},
       "output_type": "pyout",
       "prompt_number": 16,
       "text": [
        "222262"
       ]
      }
     ],
     "prompt_number": 16
    },
    {
     "cell_type": "code",
     "collapsed": false,
     "input": [
      "fp['a1_ill'] = fp.apply(fillna_ref,args=['a1_ill'],axis=1)\n",
      "fp['a2_ill'] = fp.apply(fillna_ref,args=['a2_ill'],axis=1)\n",
      "fp['a1'] = fp.apply(fillna_ref,args=['a1'],axis=1)\n",
      "fp['a2'] = fp.apply(fillna_ref,args=['a2'],axis=1)\n"
     ],
     "language": "python",
     "metadata": {},
     "outputs": [],
     "prompt_number": 17
    },
    {
     "cell_type": "code",
     "collapsed": false,
     "input": [
      "#A1 wrong\n",
      "a1_wrong_index = fp[((fp['allele1Seq'] != fp['a1_ill'])&(fp['allele1Seq']!=fp['a2_ill'])) ].index\n",
      "print len(a1_wrong_index)"
     ],
     "language": "python",
     "metadata": {},
     "outputs": [
      {
       "output_type": "stream",
       "stream": "stdout",
       "text": [
        "220261\n"
       ]
      }
     ],
     "prompt_number": 19
    },
    {
     "cell_type": "code",
     "collapsed": false,
     "input": [
      "#A2 wrong\n",
      "a2_wrong_index = fp[(fp['allele2Seq'] != fp['a1_ill'])&(fp['allele2Seq']!=fp['a2_ill'])].index   \n",
      "print len(a2_wrong_index)"
     ],
     "language": "python",
     "metadata": {},
     "outputs": [
      {
       "output_type": "stream",
       "stream": "stdout",
       "text": [
        "59028\n"
       ]
      }
     ],
     "prompt_number": 20
    },
    {
     "cell_type": "code",
     "collapsed": false,
     "input": [
      "#a1_wrong_a2_wrong_index\n",
      "a1_wrong_a2_wrong_index = set(a1_wrong_index)&set(a2_wrong_index)\n",
      "len(a1_wrong_a2_wrong_index)"
     ],
     "language": "python",
     "metadata": {},
     "outputs": [
      {
       "metadata": {},
       "output_type": "pyout",
       "prompt_number": 21,
       "text": [
        "57985"
       ]
      }
     ],
     "prompt_number": 21
    },
    {
     "cell_type": "code",
     "collapsed": false,
     "input": [
      "a1_wrong_a2_wrong = fp[fp.index.isin(a1_wrong_a2_wrong_index)]\n",
      "a1_wrong_a2_wrong['allele1truth'] = 0\n",
      "a1_wrong_a2_wrong['allele2truth'] = 0"
     ],
     "language": "python",
     "metadata": {},
     "outputs": [],
     "prompt_number": 22
    },
    {
     "cell_type": "code",
     "collapsed": false,
     "input": [
      "a1_wrong_a2_right_index = set(a1_wrong_index) -set(a1_wrong_a2_wrong_index)\n",
      "print len(a1_wrong_a2_right_index)\n",
      "a1_right_a2_wrong_index = set(a2_wrong_index)-set(a1_wrong_a2_wrong_index)\n",
      "print len(a1_right_a2_wrong_index)"
     ],
     "language": "python",
     "metadata": {},
     "outputs": [
      {
       "output_type": "stream",
       "stream": "stdout",
       "text": [
        "162276\n",
        "1043\n"
       ]
      }
     ],
     "prompt_number": 23
    },
    {
     "cell_type": "code",
     "collapsed": false,
     "input": [
      "a1_wrong_a2_right = na12877_merged[na12877_merged.index.isin(a1_wrong_a2_right_index)]\n",
      "a1_wrong_a2_right['allele1truth'] = 0\n",
      "a1_wrong_a2_right['allele2truth'] = 1\n",
      "\n",
      "a1_right_a2_wrong = na12877_merged[na12877_merged.index.isin(a1_right_a2_wrong_index)]\n",
      "a1_right_a2_wrong['allele1truth'] = 1\n",
      "a1_right_a2_wrong['allele2truth'] = 0\n"
     ],
     "language": "python",
     "metadata": {},
     "outputs": [],
     "prompt_number": 24
    },
    {
     "cell_type": "code",
     "collapsed": false,
     "input": [
      "na12877_merged_truth = pd.concat([cg_ill_tp,a1_wrong_a2_wrong,a1_wrong_a2_right,a1_right_a2_wrong])\n"
     ],
     "language": "python",
     "metadata": {},
     "outputs": [],
     "prompt_number": 25
    },
    {
     "cell_type": "code",
     "collapsed": false,
     "input": [
      "na12877_merged_truth.info()"
     ],
     "language": "python",
     "metadata": {},
     "outputs": [
      {
       "output_type": "stream",
       "stream": "stdout",
       "text": [
        "<class 'pandas.core.frame.DataFrame'>\n",
        "Int64Index: 3296066 entries, 153 to 3356583\n",
        "Data columns (total 60 columns):\n",
        ">locus                        3296066  non-null values\n",
        "ploidy                        3296066  non-null values\n",
        "chromosome                    3296066  non-null values\n",
        "begin                         3296066  non-null values\n",
        "end                           3296066  non-null values\n",
        "zygosity                      3296066  non-null values\n",
        "varType                       3296066  non-null values\n",
        "reference                     3296066  non-null values\n",
        "allele1Seq                    3296066  non-null values\n",
        "allele2Seq                    3296066  non-null values\n",
        "allele1VarScoreVAF            3296066  non-null values\n",
        "allele2VarScoreVAF            3296066  non-null values\n",
        "allele1VarScoreEAF            3296066  non-null values\n",
        "allele2VarScoreEAF            3296066  non-null values\n",
        "allele1VarQuality             3296066  non-null values\n",
        "allele2VarQuality             3296066  non-null values\n",
        "allele1HapLink                742373  non-null values\n",
        "allele2HapLink                742373  non-null values\n",
        "allele1XRef                   3160438  non-null values\n",
        "allele2XRef                   1258811  non-null values\n",
        "evidenceIntervalId            3296066  non-null values\n",
        "allele1ReadCount              3296066  non-null values\n",
        "allele2ReadCount              3296066  non-null values\n",
        "referenceAlleleReadCount      3296066  non-null values\n",
        "totalReadCount                3296066  non-null values\n",
        "allele1Gene                   1395273  non-null values\n",
        "allele2Gene                   1395273  non-null values\n",
        "pfam                          5161  non-null values\n",
        "miRBaseId                     55  non-null values\n",
        "repeatMasker                  1715042  non-null values\n",
        "segDupOverlap                 123574  non-null values\n",
        "relativeCoverageDiploid       3296066  non-null values\n",
        "calledPloidy                  3296066  non-null values\n",
        "relativeCoverageNondiploid    3296066  non-null values\n",
        "calledLevel                   3296066  non-null values\n",
        "#CHROM                        3078639  non-null values\n",
        "POS                           3078639  non-null values\n",
        "ID                            3078639  non-null values\n",
        "REF                           3078639  non-null values\n",
        "ALT                           3078639  non-null values\n",
        "QUAL                          3078639  non-null values\n",
        "FILTER                        3078639  non-null values\n",
        "INFO                          3078639  non-null values\n",
        "FORMAT                        3078639  non-null values\n",
        "NA12877                       3078639  non-null values\n",
        "a1_ill                        3296066  non-null values\n",
        "a2_ill                        3296066  non-null values\n",
        "AVR                           3078639  non-null values\n",
        "DP                            3078639  non-null values\n",
        "AD                            3078639  non-null values\n",
        "a1                            3296066  non-null values\n",
        "a2                            3296066  non-null values\n",
        "a                             2615742  non-null values\n",
        "c                             2615742  non-null values\n",
        "g                             2615742  non-null values\n",
        "t                             2615742  non-null values\n",
        "n                             2615742  non-null values\n",
        "all_reads                     2615742  non-null values\n",
        "allele1truth                  3296066  non-null values\n",
        "allele2truth                  3296066  non-null values\n",
        "dtypes: float64(25), int64(6), object(29)"
       ]
      }
     ],
     "prompt_number": 141
    },
    {
     "cell_type": "code",
     "collapsed": false,
     "input": [
      "len(na12877_merged_truth[['chromosome','end']].index)"
     ],
     "language": "python",
     "metadata": {},
     "outputs": [
      {
       "metadata": {},
       "output_type": "pyout",
       "prompt_number": 122,
       "text": [
        "3296066"
       ]
      }
     ],
     "prompt_number": 122
    },
    {
     "cell_type": "code",
     "collapsed": false,
     "input": [
      "na12877_merged_truth.to_csv('/gpfs/home/erscott/Datasets_raw/PlatinumGenomes/NA12877/NA12877_CG_ILLrtg_hg19_truth.txt',sep=\"\\t\",index=False)        \n",
      "\n"
     ],
     "language": "python",
     "metadata": {},
     "outputs": [],
     "prompt_number": 100
    },
    {
     "cell_type": "code",
     "collapsed": false,
     "input": [
      "na12877_snp_test, Y_truth = preprocess_train_set(na12877_merged_truth)"
     ],
     "language": "python",
     "metadata": {},
     "outputs": [],
     "prompt_number": 50
    },
    {
     "cell_type": "code",
     "collapsed": false,
     "input": [
      "na12877_snp_test['segDupOverlap'].fillna(value=0,inplace=True)"
     ],
     "language": "python",
     "metadata": {},
     "outputs": [],
     "prompt_number": 53
    },
    {
     "cell_type": "code",
     "collapsed": false,
     "input": [
      "RF.score(na12877_snp_test,Y_truth)"
     ],
     "language": "python",
     "metadata": {},
     "outputs": [
      {
       "metadata": {},
       "output_type": "pyout",
       "prompt_number": 55,
       "text": [
        "0.94656963786526116"
       ]
      }
     ],
     "prompt_number": 55
    },
    {
     "cell_type": "code",
     "collapsed": false,
     "input": [
      "def get_fp_tp_predictions(test_df, test_truth, model):\n",
      "    \n",
      "    fp = test_df.ix[test_truth[test_truth<=2].index]\n",
      "    tp = test_df.ix[~test_df.index.isin(fp.index)]\n",
      "    \n",
      "    predictions = model.predict(fp)\n",
      "    fp['predictions'] = predictions\n",
      "    fp['truth'] = test_truth.ix[fp.index]\n",
      "    \n",
      "    predictions = model.predict(tp)\n",
      "    tp['predictions'] = predictions\n",
      "    tp['truth'] = test_truth.ix[tp.index]\n",
      "    \n",
      "    return fp, tp\n",
      "fp,tp = get_fp_tp_predictions(na12877_snp_test, Y_truth, RF)\n",
      "\n"
     ],
     "language": "python",
     "metadata": {},
     "outputs": [
      {
       "ename": "NameError",
       "evalue": "name 'na12877_snp_test' is not defined",
       "output_type": "pyerr",
       "traceback": [
        "\u001b[1;31m---------------------------------------------------------------------------\u001b[0m\n\u001b[1;31mNameError\u001b[0m                                 Traceback (most recent call last)",
        "\u001b[1;32m<ipython-input-8-57e270888175>\u001b[0m in \u001b[0;36m<module>\u001b[1;34m()\u001b[0m\n\u001b[0;32m     13\u001b[0m \u001b[1;33m\u001b[0m\u001b[0m\n\u001b[0;32m     14\u001b[0m     \u001b[1;32mreturn\u001b[0m \u001b[0mfp\u001b[0m\u001b[1;33m,\u001b[0m \u001b[0mtp\u001b[0m\u001b[1;33m\u001b[0m\u001b[0m\n\u001b[1;32m---> 15\u001b[1;33m \u001b[0mfp\u001b[0m\u001b[1;33m,\u001b[0m\u001b[0mtp\u001b[0m \u001b[1;33m=\u001b[0m \u001b[0mget_fp_tp_predictions\u001b[0m\u001b[1;33m(\u001b[0m\u001b[0mna12877_snp_test\u001b[0m\u001b[1;33m,\u001b[0m \u001b[0mY_truth\u001b[0m\u001b[1;33m,\u001b[0m \u001b[0mRF\u001b[0m\u001b[1;33m)\u001b[0m\u001b[1;33m\u001b[0m\u001b[0m\n\u001b[0m\u001b[0;32m     16\u001b[0m \u001b[1;33m\u001b[0m\u001b[0m\n",
        "\u001b[1;31mNameError\u001b[0m: name 'na12877_snp_test' is not defined"
       ]
      }
     ],
     "prompt_number": 8
    },
    {
     "cell_type": "code",
     "collapsed": false,
     "input": [
      "fp.predictions.value_counts()"
     ],
     "language": "python",
     "metadata": {},
     "outputs": [
      {
       "metadata": {},
       "output_type": "pyout",
       "prompt_number": 63,
       "text": [
        "3    106797\n",
        "1     97797\n",
        "0     16710\n",
        "dtype: int64"
       ]
      }
     ],
     "prompt_number": 63
    },
    {
     "cell_type": "code",
     "collapsed": false,
     "input": [
      "tp_coding_df = tp[tp.allele1Gene==True]\n",
      "\n",
      "print tp_coding_df.truth.value_counts()\n",
      "print tp_coding_df.predictions.value_counts()\n",
      "#mismatch truth\n",
      "print len(tp_coding_df[tp_coding_df.predictions!=tp_coding_df.truth]), 'mismatch truth'\n",
      "#match truth\n",
      "print len(tp_coding_df[tp_coding_df.predictions==tp_coding_df.truth]), 'match truth'\n",
      "\n",
      "tstv = tp_coding_df.index\n",
      "tstv_df = pd.DataFrame.from_records(tstv.tolist())\n",
      "#A<->G C<->T\n",
      "tstv_df['a1'] = tstv_df[2]+\"_\"+tstv_df[3]\n",
      "tstv_df['a2'] = tstv_df[2]+\"_\"+tstv_df[4]\n",
      "print tstv_df['a1'].value_counts()\n",
      "ts = sum(tstv_df['a1'].value_counts()[:4])\n",
      "tv = sum(tstv_df['a1'].value_counts()[4:])\n",
      "print float(ts) / tv"
     ],
     "language": "python",
     "metadata": {},
     "outputs": [
      {
       "output_type": "stream",
       "stream": "stdout",
       "text": [
        "3    21485\n",
        "dtype: int64\n",
        "3    20878\n",
        "1      531\n",
        "0       76\n",
        "dtype: int64\n",
        "607 mismatch truth\n",
        "20878 match truth\n",
        "G_A    4400\n",
        "C_T    4135\n",
        "T_C    3937\n",
        "A_G    3810\n",
        "G_C     952\n",
        "C_G     941\n",
        "T_G     659\n",
        "C_A     654\n",
        "G_T     631\n",
        "A_C     627\n",
        "T_A     380\n",
        "A_T     359\n",
        "dtype: int64"
       ]
      },
      {
       "output_type": "stream",
       "stream": "stdout",
       "text": [
        "\n",
        "3.12934845282\n"
       ]
      }
     ],
     "prompt_number": 66
    },
    {
     "cell_type": "code",
     "collapsed": false,
     "input": [
      "#a2_wrong[['reference','allele1Seq','allele2Seq','a1_ill','a2_ill','a1','a2']].head(5)"
     ],
     "language": "python",
     "metadata": {},
     "outputs": [],
     "prompt_number": 112
    },
    {
     "cell_type": "heading",
     "level": 3,
     "metadata": {},
     "source": [
      "TRAIN RF WITH NA12877_CG_ILLrtg"
     ]
    },
    {
     "cell_type": "code",
     "collapsed": false,
     "input": [
      "def get_subset(df,n):\n",
      "    indices = random.sample(df.index, n)\n",
      "    return df.ix[indices]"
     ],
     "language": "python",
     "metadata": {},
     "outputs": [],
     "prompt_number": 68
    },
    {
     "cell_type": "code",
     "collapsed": false,
     "input": [
      "na12877_snp_train.alleletruth.value_counts()"
     ],
     "language": "python",
     "metadata": {},
     "outputs": [
      {
       "metadata": {},
       "output_type": "pyout",
       "prompt_number": 71,
       "text": [
        "3    3074762\n",
        "1     162276\n",
        "0      57985\n",
        "2       1043\n",
        "dtype: int64"
       ]
      }
     ],
     "prompt_number": 71
    },
    {
     "cell_type": "code",
     "collapsed": false,
     "input": [
      "na12877_snp_train = na12877_snp_test.copy()\n",
      "na12877_snp_train['alleletruth'] = Y_truth\n",
      "rf_train_fp_1 = get_subset(na12877_snp_train[na12877_snp_train.alleletruth==1], 20000)\n",
      "rf_train_fp_0 = get_subset(na12877_snp_train[na12877_snp_train.alleletruth==0], 20000)\n",
      "rf_train_fp_2 = get_subset(na12877_snp_train[na12877_snp_train.alleletruth==2], 1000)\n",
      "rf_train_tp = get_subset(na12877_snp_train[na12877_snp_train.alleletruth>2], 150000)\n",
      "rf_train_subset = pd.concat([rf_train_tp,rf_train_fp_0,rf_train_fp_1,rf_train_fp_2])\n",
      "rf_train_subset"
     ],
     "language": "python",
     "metadata": {},
     "outputs": [
      {
       "output_type": "stream",
       "stream": "stderr",
       "text": [
        "/gpfs/home/erscott/.local/lib/python2.7/site-packages/pandas-0.11.1.dev_3129fb3-py2.7-linux-x86_64.egg/pandas/core/config.py:570: DeprecationWarning: height has been deprecated.\n",
        "\n",
        "  warnings.warn(d.msg, DeprecationWarning)\n"
       ]
      },
      {
       "html": [
        "<pre>\n",
        "&lt;class 'pandas.core.frame.DataFrame'&gt;\n",
        "MultiIndex: 191000 entries, (chr21, 29042918, G, A, G) to (chr5, 53316642, G, A, G)\n",
        "Data columns (total 22 columns):\n",
        "allele1VarScoreVAF          191000  non-null values\n",
        "allele2VarScoreVAF          191000  non-null values\n",
        "allele1VarScoreEAF          191000  non-null values\n",
        "allele2VarScoreEAF          191000  non-null values\n",
        "allele1ReadCount            191000  non-null values\n",
        "allele2ReadCount            191000  non-null values\n",
        "totalReadCount              191000  non-null values\n",
        "referenceAlleleReadCount    191000  non-null values\n",
        "repeatMasker                191000  non-null values\n",
        "segDupOverlap               191000  non-null values\n",
        "allele1XRef                 191000  non-null values\n",
        "allele2XRef                 191000  non-null values\n",
        "allele1Gene                 191000  non-null values\n",
        "allele2Gene                 191000  non-null values\n",
        "allele1VarQuality_VQHIGH    191000  non-null values\n",
        "allele1VarQuality_VQLOW     191000  non-null values\n",
        "allele2VarQuality_VQHIGH    191000  non-null values\n",
        "allele2VarQuality_VQLOW     191000  non-null values\n",
        "zygosity_het-alt            191000  non-null values\n",
        "zygosity_het-ref            191000  non-null values\n",
        "zygosity_hom                191000  non-null values\n",
        "alleletruth                 191000  non-null values\n",
        "dtypes: bool(5), float64(16), int64(1)\n",
        "</pre>"
       ],
       "metadata": {},
       "output_type": "pyout",
       "prompt_number": 72,
       "text": [
        "<class 'pandas.core.frame.DataFrame'>\n",
        "MultiIndex: 191000 entries, (chr21, 29042918, G, A, G) to (chr5, 53316642, G, A, G)\n",
        "Data columns (total 22 columns):\n",
        "allele1VarScoreVAF          191000  non-null values\n",
        "allele2VarScoreVAF          191000  non-null values\n",
        "allele1VarScoreEAF          191000  non-null values\n",
        "allele2VarScoreEAF          191000  non-null values\n",
        "allele1ReadCount            191000  non-null values\n",
        "allele2ReadCount            191000  non-null values\n",
        "totalReadCount              191000  non-null values\n",
        "referenceAlleleReadCount    191000  non-null values\n",
        "repeatMasker                191000  non-null values\n",
        "segDupOverlap               191000  non-null values\n",
        "allele1XRef                 191000  non-null values\n",
        "allele2XRef                 191000  non-null values\n",
        "allele1Gene                 191000  non-null values\n",
        "allele2Gene                 191000  non-null values\n",
        "allele1VarQuality_VQHIGH    191000  non-null values\n",
        "allele1VarQuality_VQLOW     191000  non-null values\n",
        "allele2VarQuality_VQHIGH    191000  non-null values\n",
        "allele2VarQuality_VQLOW     191000  non-null values\n",
        "zygosity_het-alt            191000  non-null values\n",
        "zygosity_het-ref            191000  non-null values\n",
        "zygosity_hom                191000  non-null values\n",
        "alleletruth                 191000  non-null values\n",
        "dtypes: bool(5), float64(16), int64(1)"
       ]
      }
     ],
     "prompt_number": 72
    },
    {
     "cell_type": "code",
     "collapsed": false,
     "input": [
      "Y_rf_train = rf_train_subset['alleletruth']\n",
      "del rf_train_subset['alleletruth']"
     ],
     "language": "python",
     "metadata": {},
     "outputs": [],
     "prompt_number": 73
    },
    {
     "cell_type": "code",
     "collapsed": false,
     "input": [
      "#/gpfs/home/ekramer/Projects/Wellderly/svm/wellderly_rf\n",
      "from sklearn.ensemble import RandomForestClassifier\n",
      "clf = RandomForestClassifier(n_estimators=500,n_jobs=8)"
     ],
     "language": "python",
     "metadata": {},
     "outputs": [],
     "prompt_number": 74
    },
    {
     "cell_type": "code",
     "collapsed": false,
     "input": [
      "clf1 = clf.fit(rf_train_subset, Y_rf_train)  #About 10 minutes with 8 jobs"
     ],
     "language": "python",
     "metadata": {},
     "outputs": [],
     "prompt_number": 75
    },
    {
     "cell_type": "code",
     "collapsed": false,
     "input": [
      "!ls /gpfs/group/stsi/data/wellderly/CG_data/CG_masterVar_classifiers/"
     ],
     "language": "python",
     "metadata": {},
     "outputs": [
      {
       "output_type": "stream",
       "stream": "stdout",
       "text": [
        "RF_196900samples_oddChroms_2014_1_31_fp84_tp97.pkl.gz\r\n",
        "RF_196900samples_oddChroms_rsIDBool_2014_2_2_fp845_tp977.pkl.gz\r\n",
        "RF_196900samples_oddChroms_rsIDBool_codingBool_noRefAlt_2014_2_4.pkl.gz\r\n",
        "RF_395000samples_oddChroms_2014_1_31_fp78_tp98.pkl.gz\r\n",
        "RF_596900samples_oddChroms_2014_1_31_fp72_tp99.pkl.gz\r\n",
        "RF_96900samples_oddChroms_2014_1_31_fp91_tp94.pkl.gz\r\n",
        "RF_NA12877_191000samples_oddChroms_rsIDBool_codingBool_noRefAlt_2014_3_1_fp86_tp95_Xval.pkl.gz\r\n"
       ]
      }
     ],
     "prompt_number": 96
    },
    {
     "cell_type": "code",
     "collapsed": false,
     "input": [
      "#import cPickle\n",
      "#cPickle.dump(clf1, open('/gpfs/group/stsi/data/wellderly/CG_data/CG_masterVar_classifiers/RF_NA12877_191000samples_oddChroms_rsIDBool_codingBool_noRefAlt_2014_3_1_fp86_tp95_Xval.pkl.gz','wb'))\n"
     ],
     "language": "python",
     "metadata": {},
     "outputs": [],
     "prompt_number": 94
    },
    {
     "cell_type": "code",
     "collapsed": false,
     "input": [
      "import cPickle\n",
      "import gzip\n",
      "clf1 = cPickle.load(open('/gpfs/group/stsi/data/wellderly/CG_data/CG_masterVar_classifiers/RF_NA12877_191000samples_oddChroms_rsIDBool_codingBool_noRefAlt_2014_3_1_fp86_tp95_Xval.pkl','rb'))     \n",
      "                        "
     ],
     "language": "python",
     "metadata": {},
     "outputs": [],
     "prompt_number": 7
    },
    {
     "cell_type": "code",
     "collapsed": false,
     "input": [
      "testing_df = pd.read_table('/gpfs/home/erscott/Datasets_raw/PlatinumGenomes/CG/NA12878-200-37-ASM/GS00362-DNA_C04/ASM/masterVarBeta-NA12878_svm_train_RTG.txt',sep=\"\\t\")\n",
      "testing_df, testing_df_truth = preprocess_train_set(testing_df)"
     ],
     "language": "python",
     "metadata": {},
     "outputs": [],
     "prompt_number": 11
    },
    {
     "cell_type": "code",
     "collapsed": false,
     "input": [
      "clf1.score(testing_df, testing_df_truth.values)  #with rsID&CodingBool, No allele1/2Seq, No Ref 190k samples"
     ],
     "language": "python",
     "metadata": {},
     "outputs": [
      {
       "metadata": {},
       "output_type": "pyout",
       "prompt_number": 98,
       "text": [
        "0.9432606245767805"
       ]
      }
     ],
     "prompt_number": 98
    },
    {
     "cell_type": "code",
     "collapsed": false,
     "input": [
      "fp,tp = get_fp_tp_predictions(testing_df, testing_df_truth, clf1)"
     ],
     "language": "python",
     "metadata": {},
     "outputs": [],
     "prompt_number": 12
    },
    {
     "cell_type": "code",
     "collapsed": false,
     "input": [
      "fp.predictions.value_counts()"
     ],
     "language": "python",
     "metadata": {},
     "outputs": [
      {
       "metadata": {},
       "output_type": "pyout",
       "prompt_number": 13,
       "text": [
        "1    37261\n",
        "3     6643\n",
        "0     6197\n",
        "2      536\n",
        "dtype: int64"
       ]
      }
     ],
     "prompt_number": 13
    },
    {
     "cell_type": "code",
     "collapsed": false,
     "input": [
      "tp.predictions.value_counts()[3]/float(sum(tp.predictions.value_counts()))"
     ],
     "language": "python",
     "metadata": {},
     "outputs": [
      {
       "metadata": {},
       "output_type": "pyout",
       "prompt_number": 15,
       "text": [
        "0.94599145467725454"
       ]
      }
     ],
     "prompt_number": 15
    },
    {
     "cell_type": "code",
     "collapsed": false,
     "input": [
      "1-(6591.)/sum(tp_coding_df.predictions.value_counts())"
     ],
     "language": "python",
     "metadata": {},
     "outputs": [
      {
       "metadata": {},
       "output_type": "pyout",
       "prompt_number": 114,
       "text": [
        "0.86809558117195007"
       ]
      }
     ],
     "prompt_number": 114
    },
    {
     "cell_type": "code",
     "collapsed": false,
     "input": [
      "tp_coding_df = tp[tp.allele1Gene!=True]\n",
      "\n",
      "print tp_coding_df.truth.value_counts()\n",
      "print tp_coding_df.predictions.value_counts()\n",
      "#mismatch truth\n",
      "print len(tp_coding_df[tp_coding_df.predictions!=tp_coding_df.truth]), 'mismatch truth'\n",
      "#match truth\n",
      "print len(tp_coding_df[tp_coding_df.predictions==tp_coding_df.truth]), 'match truth'\n",
      "\n",
      "tstv = tp_coding_df.index\n",
      "tstv_df = pd.DataFrame.from_records(tstv.tolist())\n",
      "#A<->G C<->T\n",
      "tstv_df['a1'] = tstv_df[2]+\"_\"+tstv_df[3]\n",
      "tstv_df['a2'] = tstv_df[2]+\"_\"+tstv_df[4]\n",
      "print tstv_df['a1'].value_counts()\n",
      "ts = sum(tstv_df['a1'].value_counts()[:4])\n",
      "tv = sum(tstv_df['a1'].value_counts()[4:])\n",
      "print float(ts) / tv"
     ],
     "language": "python",
     "metadata": {},
     "outputs": [
      {
       "output_type": "stream",
       "stream": "stdout",
       "text": [
        "3    1565316\n",
        "dtype: int64\n",
        "3    1480818\n",
        "0      50639\n",
        "1      32906\n",
        "2        953\n",
        "dtype: int64"
       ]
      },
      {
       "output_type": "stream",
       "stream": "stdout",
       "text": [
        "\n",
        "84498"
       ]
      },
      {
       "output_type": "stream",
       "stream": "stdout",
       "text": [
        " mismatch truth\n",
        "1480818"
       ]
      },
      {
       "output_type": "stream",
       "stream": "stdout",
       "text": [
        " match truth\n",
        "C_T    273021\n",
        "G_A    272540\n",
        "T_C    262547\n",
        "A_G    261820\n",
        "G_C     67877\n",
        "C_G     67761\n",
        "C_A     65005\n",
        "G_T     64752\n",
        "A_C     63800\n",
        "T_G     63005\n",
        "T_A     51653\n",
        "A_T     51535\n",
        "dtype: int64"
       ]
      },
      {
       "output_type": "stream",
       "stream": "stdout",
       "text": [
        "\n",
        "2.15977779034"
       ]
      },
      {
       "output_type": "stream",
       "stream": "stdout",
       "text": [
        "\n"
       ]
      }
     ],
     "prompt_number": 26
    },
    {
     "cell_type": "heading",
     "level": 4,
     "metadata": {},
     "source": [
      "GOLDEN SET"
     ]
    },
    {
     "cell_type": "code",
     "collapsed": false,
     "input": [
      "golden_set = na12877_merged[ (( (na12877_merged['allele1Seq'] == na12877_merged['a1_ill'])&(na12877_merged['allele2Seq']==na12877_merged['a2_ill']) )| (( (na12877_merged['allele1Seq'] == na12877_merged['a2_ill'])&(na12877_merged['allele2Seq']==na12877_merged['a1_ill']) ) ) ) |  (( (na12877_merged['allele1Seq'] == na12877_merged['a1'])& (na12877_merged['allele2Seq']==na12877_merged['a2']) )|( (na12877_merged['allele1Seq'] == na12877_merged['a2'])&(na12877_merged['allele2Seq']==na12877_merged['a1']) )) ]          \n",
      "\n",
      "len(golden_set)"
     ],
     "language": "python",
     "metadata": {},
     "outputs": [
      {
       "metadata": {},
       "output_type": "pyout",
       "prompt_number": 25,
       "text": [
        "3164807"
       ]
      }
     ],
     "prompt_number": 25
    },
    {
     "cell_type": "code",
     "collapsed": false,
     "input": [
      "golden_set[['allele1Seq','allele2Seq','a1_ill','a2_ill','a1','a2']].head(5)"
     ],
     "language": "python",
     "metadata": {},
     "outputs": [
      {
       "output_type": "stream",
       "stream": "stderr",
       "text": [
        "/gpfs/home/erscott/.local/lib/python2.7/site-packages/pandas-0.11.1.dev_3129fb3-py2.7-linux-x86_64.egg/pandas/core/config.py:570: DeprecationWarning: height has been deprecated.\n",
        "\n",
        "  warnings.warn(d.msg, DeprecationWarning)\n",
        "/gpfs/home/erscott/.local/lib/python2.7/site-packages/pandas-0.11.1.dev_3129fb3-py2.7-linux-x86_64.egg/pandas/core/config.py:570: DeprecationWarning: height has been deprecated.\n",
        "\n",
        "  warnings.warn(d.msg, DeprecationWarning)\n"
       ]
      },
      {
       "html": [
        "<div style=\"max-height:1000px;max-width:1500px;overflow:auto;\">\n",
        "<table border=\"1\" class=\"dataframe\">\n",
        "  <thead>\n",
        "    <tr style=\"text-align: right;\">\n",
        "      <th></th>\n",
        "      <th>allele1Seq</th>\n",
        "      <th>allele2Seq</th>\n",
        "      <th>a1_ill</th>\n",
        "      <th>a2_ill</th>\n",
        "      <th>a1</th>\n",
        "      <th>a2</th>\n",
        "    </tr>\n",
        "  </thead>\n",
        "  <tbody>\n",
        "    <tr>\n",
        "      <th>3 </th>\n",
        "      <td> G</td>\n",
        "      <td> A</td>\n",
        "      <td> NaN</td>\n",
        "      <td> NaN</td>\n",
        "      <td> A</td>\n",
        "      <td> G</td>\n",
        "    </tr>\n",
        "    <tr>\n",
        "      <th>4 </th>\n",
        "      <td> G</td>\n",
        "      <td> T</td>\n",
        "      <td> NaN</td>\n",
        "      <td> NaN</td>\n",
        "      <td> G</td>\n",
        "      <td> T</td>\n",
        "    </tr>\n",
        "    <tr>\n",
        "      <th>7 </th>\n",
        "      <td> G</td>\n",
        "      <td> C</td>\n",
        "      <td> NaN</td>\n",
        "      <td> NaN</td>\n",
        "      <td> C</td>\n",
        "      <td> G</td>\n",
        "    </tr>\n",
        "    <tr>\n",
        "      <th>8 </th>\n",
        "      <td> C</td>\n",
        "      <td> G</td>\n",
        "      <td> NaN</td>\n",
        "      <td> NaN</td>\n",
        "      <td> C</td>\n",
        "      <td> G</td>\n",
        "    </tr>\n",
        "    <tr>\n",
        "      <th>10</th>\n",
        "      <td> C</td>\n",
        "      <td> T</td>\n",
        "      <td> NaN</td>\n",
        "      <td> NaN</td>\n",
        "      <td> C</td>\n",
        "      <td> T</td>\n",
        "    </tr>\n",
        "  </tbody>\n",
        "</table>\n",
        "</div>"
       ],
       "metadata": {},
       "output_type": "pyout",
       "prompt_number": 42,
       "text": [
        "   allele1Seq allele2Seq a1_ill a2_ill a1 a2\n",
        "3           G          A    NaN    NaN  A  G\n",
        "4           G          T    NaN    NaN  G  T\n",
        "7           G          C    NaN    NaN  C  G\n",
        "8           C          G    NaN    NaN  C  G\n",
        "10          C          T    NaN    NaN  C  T"
       ]
      }
     ],
     "prompt_number": 42
    },
    {
     "cell_type": "code",
     "collapsed": false,
     "input": [
      "fp = na12877_merged[~na12877_merged.index.isin(golden_set.index)]\n",
      "len(fp)"
     ],
     "language": "python",
     "metadata": {},
     "outputs": [
      {
       "metadata": {},
       "output_type": "pyout",
       "prompt_number": 26,
       "text": [
        "132217"
       ]
      }
     ],
     "prompt_number": 26
    },
    {
     "cell_type": "code",
     "collapsed": false,
     "input": [
      "#A1 wrong\n",
      "a1_wrong = na12877_merged[((na12877_merged['allele1Seq'] != na12877_merged['a1_ill'])&(na12877_merged['allele1Seq']!=na12877_merged['a2_ill'])) & ((na12877_merged['allele1Seq'] != na12877_merged['a1'])&(na12877_merged['allele1Seq']!=na12877_merged['a2']))]   \n",
      "print len(a1_wrong)\n"
     ],
     "language": "python",
     "metadata": {},
     "outputs": [
      {
       "output_type": "stream",
       "stream": "stdout",
       "text": [
        "109826\n"
       ]
      }
     ],
     "prompt_number": 32
    },
    {
     "cell_type": "code",
     "collapsed": false,
     "input": [
      "#A2 wrong\n",
      "a2_wrong = na12877_merged[((na12877_merged['allele2Seq'] != na12877_merged['a1_ill'])&(na12877_merged['allele2Seq']!=na12877_merged['a2_ill'])) & ((na12877_merged['allele2Seq'] != na12877_merged['a1'])&(na12877_merged['allele2Seq']!=na12877_merged['a2']))]   \n",
      "print len(a2_wrong)"
     ],
     "language": "python",
     "metadata": {},
     "outputs": [
      {
       "output_type": "stream",
       "stream": "stdout",
       "text": [
        "109955\n"
       ]
      }
     ],
     "prompt_number": 33
    },
    {
     "cell_type": "code",
     "collapsed": false,
     "input": [
      "len(set(a2_wrong.index) - set(a1_wrong.index))"
     ],
     "language": "python",
     "metadata": {},
     "outputs": [
      {
       "metadata": {},
       "output_type": "pyout",
       "prompt_number": 36,
       "text": [
        "608"
       ]
      }
     ],
     "prompt_number": 36
    },
    {
     "cell_type": "code",
     "collapsed": false,
     "input": [
      "fp[['allele1Seq','allele2Seq','a1_ill','a2_ill','a1','a2']].head()"
     ],
     "language": "python",
     "metadata": {},
     "outputs": [
      {
       "output_type": "stream",
       "stream": "stderr",
       "text": [
        "/gpfs/home/erscott/.local/lib/python2.7/site-packages/pandas-0.11.1.dev_3129fb3-py2.7-linux-x86_64.egg/pandas/core/config.py:570: DeprecationWarning: height has been deprecated.\n",
        "\n",
        "  warnings.warn(d.msg, DeprecationWarning)\n",
        "/gpfs/home/erscott/.local/lib/python2.7/site-packages/pandas-0.11.1.dev_3129fb3-py2.7-linux-x86_64.egg/pandas/core/config.py:570: DeprecationWarning: height has been deprecated.\n",
        "\n",
        "  warnings.warn(d.msg, DeprecationWarning)\n"
       ]
      },
      {
       "html": [
        "<div style=\"max-height:1000px;max-width:1500px;overflow:auto;\">\n",
        "<table border=\"1\" class=\"dataframe\">\n",
        "  <thead>\n",
        "    <tr style=\"text-align: right;\">\n",
        "      <th></th>\n",
        "      <th>allele1Seq</th>\n",
        "      <th>allele2Seq</th>\n",
        "      <th>a1_ill</th>\n",
        "      <th>a2_ill</th>\n",
        "      <th>a1</th>\n",
        "      <th>a2</th>\n",
        "    </tr>\n",
        "  </thead>\n",
        "  <tbody>\n",
        "    <tr>\n",
        "      <th>0</th>\n",
        "      <td> G</td>\n",
        "      <td> G</td>\n",
        "      <td> NaN</td>\n",
        "      <td> NaN</td>\n",
        "      <td> NaN</td>\n",
        "      <td> NaN</td>\n",
        "    </tr>\n",
        "    <tr>\n",
        "      <th>1</th>\n",
        "      <td> T</td>\n",
        "      <td> T</td>\n",
        "      <td> NaN</td>\n",
        "      <td> NaN</td>\n",
        "      <td> NaN</td>\n",
        "      <td> NaN</td>\n",
        "    </tr>\n",
        "    <tr>\n",
        "      <th>2</th>\n",
        "      <td> G</td>\n",
        "      <td> G</td>\n",
        "      <td> NaN</td>\n",
        "      <td> NaN</td>\n",
        "      <td> NaN</td>\n",
        "      <td> NaN</td>\n",
        "    </tr>\n",
        "    <tr>\n",
        "      <th>5</th>\n",
        "      <td> C</td>\n",
        "      <td> G</td>\n",
        "      <td> NaN</td>\n",
        "      <td> NaN</td>\n",
        "      <td> NaN</td>\n",
        "      <td> NaN</td>\n",
        "    </tr>\n",
        "    <tr>\n",
        "      <th>6</th>\n",
        "      <td> G</td>\n",
        "      <td> G</td>\n",
        "      <td> NaN</td>\n",
        "      <td> NaN</td>\n",
        "      <td> NaN</td>\n",
        "      <td> NaN</td>\n",
        "    </tr>\n",
        "  </tbody>\n",
        "</table>\n",
        "</div>"
       ],
       "metadata": {},
       "output_type": "pyout",
       "prompt_number": 31,
       "text": [
        "  allele1Seq allele2Seq a1_ill a2_ill   a1   a2\n",
        "0          G          G    NaN    NaN  NaN  NaN\n",
        "1          T          T    NaN    NaN  NaN  NaN\n",
        "2          G          G    NaN    NaN  NaN  NaN\n",
        "5          C          G    NaN    NaN  NaN  NaN\n",
        "6          G          G    NaN    NaN  NaN  NaN"
       ]
      }
     ],
     "prompt_number": 31
    },
    {
     "cell_type": "code",
     "collapsed": false,
     "input": [
      "#GENOTYPE CHECK; both alleles must match\n",
      "len(na12877_merged[( (na12877_merged['allele1Seq'] == na12877_merged['a1_ill'])&(na12877_merged['allele2Seq']==na12877_merged['a2_ill']) )|( (na12877_merged['allele1Seq'] == na12877_merged['a2_ill'])&(na12877_merged['allele2Seq']==na12877_merged['a1_ill']) )])\n",
      "a1_right_a2_right = na12877_merged[( (na12877_merged['allele1Seq'] == na12877_merged['a1_ill'])&(na12877_merged['allele2Seq']==na12877_merged['a2_ill']) )|( (na12877_merged['allele1Seq'] == na12877_merged['a2_ill'])&(na12877_merged['allele2Seq']==na12877_merged['a1_ill']) )]\n",
      "\n",
      "\n",
      "#ALLELE1 WRONG\n",
      "print len(na12877_merged[(na12877_merged['allele1Seq'] != na12877_merged['a1_ill'])&(na12877_merged['allele1Seq']!=na12877_merged['a2_ill'])]) \n",
      "#ALLELE1 WRONG, ALLELE2 RIGHT\n",
      "print len(na12877_merged[(na12877_merged['allele1Seq'] != na12877_merged['a1_ill'])&(na12877_merged['allele2Seq']==na12877_merged['a2_ill']) | (na12877_merged['allele1Seq'] != na12877_merged['a2_ill'])&(na12877_merged['allele2Seq']==na12877_merged['a1_ill']) ])    \n",
      "\n",
      "\n",
      "\n",
      "#ALLELE2 WRONG\n",
      "print len(na12877_merged[(na12877_merged['allele2Seq'] != na12877_merged['a1_ill'])&(na12877_merged['allele2Seq']!=na12877_merged['a2_ill'])]) \n",
      "\n",
      "#ALLELE1 RIGHT, ALLELE2 WRONG\n",
      "print len(na12877_merged[(na12877_merged['allele1Seq'] == na12877_merged['a1_ill'])&(na12877_merged['allele2Seq']!=na12877_merged['a2_ill']) | (na12877_merged['allele1Seq'] == na12877_merged['a2_ill'])&(na12877_merged['allele2Seq']!=na12877_merged['a1_ill']) ])    \n",
      "\n",
      "\n",
      "#ALLELE1 WRONG\n",
      "a1_wrong = na12877_merged[(na12877_merged['allele1Seq'] != na12877_merged['a1_ill'])&(na12877_merged['allele1Seq']!=na12877_merged['a2_ill'])]\n",
      "#ALLELE1 WRONG, ALLELE2 RIGHT\n",
      "a1_wrong_a2_right = a1_wrong[(a1_wrong['allele2Seq']==a1_wrong['a2_ill']) | (a1_wrong['allele2Seq']==a1_wrong['a1_ill']) ]   #unique1\n",
      "\n",
      "\n",
      "\n",
      "#ALLELE2 WRONG\n",
      "a2_wrong = na12877_merged[(na12877_merged['allele2Seq'] != na12877_merged['a1_ill'])&(na12877_merged['allele2Seq']!=na12877_merged['a2_ill'])]\n",
      "\n",
      "#ALLELE1 RIGHT, ALLELE2 WRONG\n",
      "a1_right_a2_wrong = a2_wrong[(a2_wrong['allele1Seq'] == a2_wrong['a1_ill']) | (a2_wrong['allele1Seq'] == a2_wrong['a2_ill']) ] #unique2    \n",
      "\n",
      "#ALLELE1 WRONG AND ALLELE2 WRONG\n",
      "a1_wrong_a2_wrong = na12877_merged.ix[set(a1_wrong.index)&set(a2_wrong.index)] #unique3"
     ],
     "language": "python",
     "metadata": {},
     "outputs": [
      {
       "output_type": "stream",
       "stream": "stdout",
       "text": [
        "335221\n",
        "3750"
       ]
      },
      {
       "output_type": "stream",
       "stream": "stdout",
       "text": [
        "\n",
        "355949"
       ]
      },
      {
       "output_type": "stream",
       "stream": "stdout",
       "text": [
        "\n",
        "24478"
       ]
      },
      {
       "output_type": "stream",
       "stream": "stdout",
       "text": [
        "\n"
       ]
      }
     ],
     "prompt_number": 14
    },
    {
     "cell_type": "code",
     "collapsed": false,
     "input": [
      "len(na12877_merged[((na12877_merged['allele1Seq'] != na12877_merged['a1_ill'])&(na12877_merged['allele1Seq']!=na12877_merged['a2_ill']) ) & ((na12877_merged['allele2Seq'] != na12877_merged['a1_ill'])&(na12877_merged['allele2Seq']!=na12877_merged['a2_ill'])) ])   \n",
      "\n"
     ],
     "language": "python",
     "metadata": {},
     "outputs": [
      {
       "metadata": {},
       "output_type": "pyout",
       "prompt_number": 114,
       "text": [
        "358741"
       ]
      }
     ],
     "prompt_number": 114
    },
    {
     "cell_type": "code",
     "collapsed": false,
     "input": [
      "len(a1_wrong_a2_wrong)"
     ],
     "language": "python",
     "metadata": {},
     "outputs": [
      {
       "metadata": {},
       "output_type": "pyout",
       "prompt_number": 116,
       "text": [
        "332429"
       ]
      }
     ],
     "prompt_number": 116
    },
    {
     "cell_type": "code",
     "collapsed": false,
     "input": [
      "len(a1_right_a2_wrong)"
     ],
     "language": "python",
     "metadata": {},
     "outputs": [
      {
       "metadata": {},
       "output_type": "pyout",
       "prompt_number": 108,
       "text": [
        "23520"
       ]
      }
     ],
     "prompt_number": 108
    },
    {
     "cell_type": "code",
     "collapsed": false,
     "input": [
      "#BOTH RIGHT\n",
      "a1_right_a2_right['allele1truth'] = 1\n",
      "a1_right_a2_right['allele2truth'] = 1\n",
      "\n",
      "#BOTH WRONG\n",
      "a1_wrong_a2_wrong['allele1truth'] = 0\n",
      "a1_wrong_a2_wrong['allele2truth'] = 0\n",
      "\n",
      "#A1 WRONG\n",
      "a1_wrong_a2_right['allele1truth'] = 0\n",
      "a1_wrong_a2_right['allele2truth'] = 1\n",
      "\n",
      "#A2 WRONG\n",
      "a1_right_a2_wrong['allele1truth'] = 1\n",
      "a1_right_a2_wrong['allele2truth'] = 0"
     ],
     "language": "python",
     "metadata": {},
     "outputs": [],
     "prompt_number": 33
    },
    {
     "cell_type": "code",
     "collapsed": false,
     "input": [
      "na12877_snp = pd.concat([a1_right_a2_right, a1_wrong_a2_wrong, a1_wrong_a2_right, a1_right_a2_wrong])\n",
      "print len(na12877_snp)"
     ],
     "language": "python",
     "metadata": {},
     "outputs": [
      {
       "output_type": "stream",
       "stream": "stdout",
       "text": [
        "3433503\n"
       ]
      }
     ],
     "prompt_number": 52
    },
    {
     "cell_type": "code",
     "collapsed": false,
     "input": [
      "len(set(na12877_snp.index))\n"
     ],
     "language": "python",
     "metadata": {},
     "outputs": [
      {
       "metadata": {},
       "output_type": "pyout",
       "prompt_number": 17,
       "text": [
        "3433503"
       ]
      }
     ],
     "prompt_number": 17
    },
    {
     "cell_type": "code",
     "collapsed": false,
     "input": [
      "train_columns = ['chromosome','end','varType',\"zygosity\", \"reference\", \"allele1Seq\", \"allele2Seq\", \"allele1VarScoreVAF\", \"allele2VarScoreVAF\", \\\n",
      "                 \"allele1VarScoreEAF\", \"allele2VarScoreEAF\", \"allele1VarQuality\", \"allele2VarQuality\",\\\n",
      "               \"allele1ReadCount\", \"allele2ReadCount\", \"totalReadCount\", \"referenceAlleleReadCount\", \\\n",
      "               \"repeatMasker\", \"segDupOverlap\",\"allele1XRef\",\"allele2XRef\",\"allele1Gene\",\"allele2Gene\",\\\n",
      "               \"allele1truth\",\"allele2truth\"]"
     ],
     "language": "python",
     "metadata": {},
     "outputs": [],
     "prompt_number": 55
    },
    {
     "cell_type": "code",
     "collapsed": false,
     "input": [
      "na12877_snp = na12877_snp[na12877_snp.allele2Seq.isin(['A','T','G','C'])]"
     ],
     "language": "python",
     "metadata": {},
     "outputs": [],
     "prompt_number": 67
    },
    {
     "cell_type": "code",
     "collapsed": false,
     "input": [
      "for c in na12877_snp.columns:\n",
      "    print c\n",
      "    try:\n",
      "        na12877_snp[c].fillna(value='.',inplace=True)\n",
      "    except ValueError:\n",
      "        \n",
      "        na12877_snp[c].fillna(value=0,inplace=True)"
     ],
     "language": "python",
     "metadata": {},
     "outputs": [
      {
       "output_type": "stream",
       "stream": "stdout",
       "text": [
        "chromosome\n",
        "end"
       ]
      },
      {
       "output_type": "stream",
       "stream": "stdout",
       "text": [
        "\n",
        "varType\n",
        "zygosity"
       ]
      },
      {
       "output_type": "stream",
       "stream": "stdout",
       "text": [
        "\n",
        "reference"
       ]
      },
      {
       "output_type": "stream",
       "stream": "stdout",
       "text": [
        "\n",
        "allele1Seq"
       ]
      },
      {
       "output_type": "stream",
       "stream": "stdout",
       "text": [
        "\n",
        "allele2Seq"
       ]
      },
      {
       "output_type": "stream",
       "stream": "stdout",
       "text": [
        "\n",
        "allele1VarScoreVAF"
       ]
      },
      {
       "output_type": "stream",
       "stream": "stdout",
       "text": [
        "\n",
        "allele2VarScoreVAF\n",
        "allele1VarScoreEAF"
       ]
      },
      {
       "output_type": "stream",
       "stream": "stdout",
       "text": [
        "\n",
        "allele2VarScoreEAF\n",
        "allele1VarQuality"
       ]
      },
      {
       "output_type": "stream",
       "stream": "stdout",
       "text": [
        "\n",
        "allele2VarQuality"
       ]
      },
      {
       "output_type": "stream",
       "stream": "stdout",
       "text": [
        "\n",
        "allele1ReadCount"
       ]
      },
      {
       "output_type": "stream",
       "stream": "stdout",
       "text": [
        "\n",
        "allele2ReadCount\n",
        "totalReadCount"
       ]
      },
      {
       "output_type": "stream",
       "stream": "stdout",
       "text": [
        "\n",
        "referenceAlleleReadCount\n",
        "repeatMasker"
       ]
      },
      {
       "output_type": "stream",
       "stream": "stdout",
       "text": [
        "\n",
        "segDupOverlap"
       ]
      },
      {
       "output_type": "stream",
       "stream": "stdout",
       "text": [
        "\n",
        "allele1XRef\n",
        "allele2XRef"
       ]
      },
      {
       "output_type": "stream",
       "stream": "stdout",
       "text": [
        "\n",
        "allele1Gene"
       ]
      },
      {
       "output_type": "stream",
       "stream": "stdout",
       "text": [
        "\n",
        "allele2Gene"
       ]
      },
      {
       "output_type": "stream",
       "stream": "stdout",
       "text": [
        "\n",
        "allele1truth"
       ]
      },
      {
       "output_type": "stream",
       "stream": "stdout",
       "text": [
        "\n",
        "allele2truth\n"
       ]
      }
     ],
     "prompt_number": 76
    },
    {
     "cell_type": "code",
     "collapsed": false,
     "input": [
      "pd.Series(Y_truth).value_counts()"
     ],
     "language": "python",
     "metadata": {},
     "outputs": [
      {
       "metadata": {},
       "output_type": "pyout",
       "prompt_number": 99,
       "text": [
        "3    3074762\n",
        "0     217469\n",
        "1       2792\n",
        "2       1043\n",
        "dtype: int64"
       ]
      }
     ],
     "prompt_number": 99
    },
    {
     "cell_type": "code",
     "collapsed": false,
     "input": [
      "na12877_snp_test, Y_truth = preprocess_train_set(na12877_snp)\n"
     ],
     "language": "python",
     "metadata": {},
     "outputs": [],
     "prompt_number": 82
    },
    {
     "cell_type": "code",
     "collapsed": false,
     "input": [
      "RF.score(na12877_snp_test,Y_truth)"
     ],
     "language": "python",
     "metadata": {},
     "outputs": [
      {
       "metadata": {},
       "output_type": "pyout",
       "prompt_number": 84,
       "text": [
        "0.91759145599633019"
       ]
      }
     ],
     "prompt_number": 84
    },
    {
     "cell_type": "code",
     "collapsed": false,
     "input": [
      "def get_fp_tp_predictions(test_df, test_truth, model):\n",
      "    \n",
      "    fp = test_df.ix[test_truth[test_truth<=2].index]\n",
      "    tp = test_df.ix[~test_df.index.isin(fp.index)]\n",
      "    \n",
      "    predictions = model.predict(fp)\n",
      "    fp['predictions'] = predictions\n",
      "    fp['truth'] = test_truth.ix[fp.index]\n",
      "    \n",
      "    predictions = model.predict(tp)\n",
      "    tp['predictions'] = predictions\n",
      "    tp['truth'] = test_truth.ix[tp.index]\n",
      "    \n",
      "    return fp, tp\n",
      "\n"
     ],
     "language": "python",
     "metadata": {},
     "outputs": [],
     "prompt_number": 85
    },
    {
     "cell_type": "code",
     "collapsed": false,
     "input": [
      "fp,tp = get_fp_tp_predictions(na12877_snp_test, Y_truth, RF)\n"
     ],
     "language": "python",
     "metadata": {},
     "outputs": [],
     "prompt_number": 86
    },
    {
     "cell_type": "code",
     "collapsed": false,
     "input": [
      "tp_coding_df = fp[fp.allele1Gene!=True]"
     ],
     "language": "python",
     "metadata": {},
     "outputs": [],
     "prompt_number": 97
    },
    {
     "cell_type": "code",
     "collapsed": false,
     "input": [
      "print tp_coding_df.truth.value_counts()\n",
      "print tp_coding_df.predictions.value_counts()\n",
      "#mismatch truth\n",
      "print len(tp_coding_df[tp_coding_df.predictions!=tp_coding_df.truth])\n",
      "#match truth\n",
      "print len(tp_coding_df[tp_coding_df.predictions==tp_coding_df.truth])"
     ],
     "language": "python",
     "metadata": {},
     "outputs": [
      {
       "output_type": "stream",
       "stream": "stdout",
       "text": [
        "0    215443\n",
        "1      2761\n",
        "2      1040\n",
        "dtype: int64\n",
        "3    106151\n",
        "1     96598\n",
        "0     16495\n",
        "dtype: int64\n",
        "201315\n",
        "17929"
       ]
      },
      {
       "output_type": "stream",
       "stream": "stdout",
       "text": [
        "\n"
       ]
      }
     ],
     "prompt_number": 98
    },
    {
     "cell_type": "code",
     "collapsed": false,
     "input": [
      "tstv = tp_coding_df.index\n",
      "tstv_df = pd.DataFrame.from_records(tstv.tolist())\n",
      "#A<->G C<->T\n",
      "tstv_df['a1'] = tstv_df[2]+\"_\"+tstv_df[3]\n",
      "tstv_df['a2'] = tstv_df[2]+\"_\"+tstv_df[4]\n",
      "print tstv_df['a1'].value_counts()\n",
      "ts = sum(tstv_df['a1'].value_counts()[:4])\n",
      "tv = sum(tstv_df['a1'].value_counts()[4:])\n",
      "print float(ts) / tv\n"
     ],
     "language": "python",
     "metadata": {},
     "outputs": [
      {
       "output_type": "stream",
       "stream": "stdout",
       "text": [
        "G_A    4400\n",
        "C_T    4135\n",
        "T_C    3937\n",
        "A_G    3810\n",
        "G_C     952\n",
        "C_G     941\n",
        "T_G     659\n",
        "C_A     654\n",
        "G_T     631\n",
        "A_C     627\n",
        "T_A     380\n",
        "A_T     359\n",
        "dtype: int64\n",
        "3.12934845282\n"
       ]
      }
     ],
     "prompt_number": 92
    },
    {
     "cell_type": "heading",
     "level": 2,
     "metadata": {},
     "source": [
      "NA12877 CG/LFR_confident calls merged"
     ]
    },
    {
     "cell_type": "code",
     "collapsed": false,
     "input": [
      "print len(lfr_df)\n",
      "print len(na12877)"
     ],
     "language": "python",
     "metadata": {},
     "outputs": [
      {
       "output_type": "stream",
       "stream": "stdout",
       "text": [
        "4544174\n",
        "3436551\n"
       ]
      }
     ],
     "prompt_number": 28
    },
    {
     "cell_type": "code",
     "collapsed": false,
     "input": [
      "print lfr_df.index[:10]\n",
      "na12877.index[0:10]"
     ],
     "language": "python",
     "metadata": {},
     "outputs": [
      {
       "output_type": "stream",
       "stream": "stdout",
       "text": [
        "MultiIndex\n",
        "[(u'chr1', 36533), (u'chr1', 36971), (u'chr1', 37155), (u'chr1', 38034), (u'chr1', 42590), (u'chr1', 43069), (u'chr1', 44342), (u'chr1', 44449), (u'chr1', 45162), (u'chr1', 45244)]\n"
       ]
      },
      {
       "metadata": {},
       "output_type": "pyout",
       "prompt_number": 26,
       "text": [
        "MultiIndex\n",
        "[(u'chr1', 512), (u'chr1', 28095), (u'chr1', 28770), (u'chr1', 31844), (u'chr1', 36533), (u'chr1', 36971), (u'chr1', 37155), (u'chr1', 41921), (u'chr1', 42101), (u'chr1', 42590)]"
       ]
      }
     ],
     "prompt_number": 26
    },
    {
     "cell_type": "code",
     "collapsed": false,
     "input": [
      "len(set(lfr_df.index) & set(na12877.index))"
     ],
     "language": "python",
     "metadata": {},
     "outputs": [
      {
       "metadata": {},
       "output_type": "pyout",
       "prompt_number": 27,
       "text": [
        "2647720"
       ]
      }
     ],
     "prompt_number": 27
    },
    {
     "cell_type": "code",
     "collapsed": false,
     "input": [
      "na12877.head()"
     ],
     "language": "python",
     "metadata": {},
     "outputs": [
      {
       "html": [
        "<pre>\n",
        "&lt;class 'pandas.core.frame.DataFrame'&gt;\n",
        "MultiIndex: 5 entries, (chr1, 38232) to (chr1, 47292)\n",
        "Data columns (total 35 columns):\n",
        "&gt;locus                        5  non-null values\n",
        "ploidy                        5  non-null values\n",
        "chromosome                    5  non-null values\n",
        "begin                         5  non-null values\n",
        "end                           5  non-null values\n",
        "zygosity                      5  non-null values\n",
        "varType                       5  non-null values\n",
        "reference                     5  non-null values\n",
        "allele1Seq                    5  non-null values\n",
        "allele2Seq                    5  non-null values\n",
        "allele1VarScoreVAF            5  non-null values\n",
        "allele2VarScoreVAF            5  non-null values\n",
        "allele1VarScoreEAF            5  non-null values\n",
        "allele2VarScoreEAF            5  non-null values\n",
        "allele1VarQuality             5  non-null values\n",
        "allele2VarQuality             5  non-null values\n",
        "allele1HapLink                0  non-null values\n",
        "allele2HapLink                0  non-null values\n",
        "allele1XRef                   5  non-null values\n",
        "allele2XRef                   3  non-null values\n",
        "evidenceIntervalId            5  non-null values\n",
        "allele1ReadCount              5  non-null values\n",
        "allele2ReadCount              5  non-null values\n",
        "referenceAlleleReadCount      5  non-null values\n",
        "totalReadCount                5  non-null values\n",
        "allele1Gene                   2  non-null values\n",
        "allele2Gene                   2  non-null values\n",
        "pfam                          0  non-null values\n",
        "miRBaseId                     0  non-null values\n",
        "repeatMasker                  3  non-null values\n",
        "segDupOverlap                 5  non-null values\n",
        "relativeCoverageDiploid       5  non-null values\n",
        "calledPloidy                  5  non-null values\n",
        "relativeCoverageNondiploid    5  non-null values\n",
        "calledLevel                   5  non-null values\n",
        "dtypes: float64(14), int64(4), object(17)\n",
        "</pre>"
       ],
       "metadata": {},
       "output_type": "pyout",
       "prompt_number": 41,
       "text": [
        "<class 'pandas.core.frame.DataFrame'>\n",
        "MultiIndex: 5 entries, (chr1, 38232) to (chr1, 47292)\n",
        "Data columns (total 35 columns):\n",
        ">locus                        5  non-null values\n",
        "ploidy                        5  non-null values\n",
        "chromosome                    5  non-null values\n",
        "begin                         5  non-null values\n",
        "end                           5  non-null values\n",
        "zygosity                      5  non-null values\n",
        "varType                       5  non-null values\n",
        "reference                     5  non-null values\n",
        "allele1Seq                    5  non-null values\n",
        "allele2Seq                    5  non-null values\n",
        "allele1VarScoreVAF            5  non-null values\n",
        "allele2VarScoreVAF            5  non-null values\n",
        "allele1VarScoreEAF            5  non-null values\n",
        "allele2VarScoreEAF            5  non-null values\n",
        "allele1VarQuality             5  non-null values\n",
        "allele2VarQuality             5  non-null values\n",
        "allele1HapLink                0  non-null values\n",
        "allele2HapLink                0  non-null values\n",
        "allele1XRef                   5  non-null values\n",
        "allele2XRef                   3  non-null values\n",
        "evidenceIntervalId            5  non-null values\n",
        "allele1ReadCount              5  non-null values\n",
        "allele2ReadCount              5  non-null values\n",
        "referenceAlleleReadCount      5  non-null values\n",
        "totalReadCount                5  non-null values\n",
        "allele1Gene                   2  non-null values\n",
        "allele2Gene                   2  non-null values\n",
        "pfam                          0  non-null values\n",
        "miRBaseId                     0  non-null values\n",
        "repeatMasker                  3  non-null values\n",
        "segDupOverlap                 5  non-null values\n",
        "relativeCoverageDiploid       5  non-null values\n",
        "calledPloidy                  5  non-null values\n",
        "relativeCoverageNondiploid    5  non-null values\n",
        "calledLevel                   5  non-null values\n",
        "dtypes: float64(14), int64(4), object(17)"
       ]
      }
     ],
     "prompt_number": 41
    },
    {
     "cell_type": "code",
     "collapsed": false,
     "input": [
      "lfr_df_a1a2 = lfr_df[]"
     ],
     "language": "python",
     "metadata": {},
     "outputs": []
    },
    {
     "cell_type": "code",
     "collapsed": false,
     "input": [
      "na12877 = na12877.join(lfr_df,how='left')\n"
     ],
     "language": "python",
     "metadata": {},
     "outputs": [],
     "prompt_number": 90
    },
    {
     "cell_type": "code",
     "collapsed": false,
     "input": [
      "na12877.info()"
     ],
     "language": "python",
     "metadata": {},
     "outputs": [
      {
       "output_type": "stream",
       "stream": "stdout",
       "text": [
        "<class 'pandas.core.frame.DataFrame'>\n",
        "MultiIndex: 3434461 entries, (chr1, 38232) to (chrM, 16519)\n",
        "Data columns (total 37 columns):\n",
        ">locus                        3434461  non-null values\n",
        "ploidy                        3434461  non-null values\n",
        "chromosome                    3434461  non-null values\n",
        "begin                         3434461  non-null values\n",
        "end                           3434461  non-null values\n",
        "zygosity                      3434461  non-null values\n",
        "varType                       3434461  non-null values\n",
        "reference                     3434461  non-null values\n",
        "allele1Seq                    3434461  non-null values\n",
        "allele2Seq                    3360650  non-null values\n",
        "allele1VarScoreVAF            3434461  non-null values\n",
        "allele2VarScoreVAF            3360650  non-null values\n",
        "allele1VarScoreEAF            3434461  non-null values\n",
        "allele2VarScoreEAF            3360650  non-null values\n",
        "allele1VarQuality             3434461  non-null values\n",
        "allele2VarQuality             3297024  non-null values\n",
        "allele1HapLink                784563  non-null values\n",
        "allele2HapLink                784563  non-null values\n",
        "allele1XRef                   3284754  non-null values\n",
        "allele2XRef                   1259698  non-null values\n",
        "evidenceIntervalId            3434461  non-null values\n",
        "allele1ReadCount              3434461  non-null values\n",
        "allele2ReadCount              3297024  non-null values\n",
        "referenceAlleleReadCount      3434461  non-null values\n",
        "totalReadCount                3434461  non-null values\n",
        "allele1Gene                   1438263  non-null values\n",
        "allele2Gene                   1418904  non-null values\n",
        "pfam                          5349  non-null values\n",
        "miRBaseId                     59  non-null values\n",
        "repeatMasker                  1808583  non-null values\n",
        "segDupOverlap                 143821  non-null values\n",
        "relativeCoverageDiploid       3434461  non-null values\n",
        "calledPloidy                  3434461  non-null values\n",
        "relativeCoverageNondiploid    3434461  non-null values\n",
        "calledLevel                   3434461  non-null values\n",
        "a1                            1884  non-null values\n",
        "a2                            1884  non-null values\n",
        "dtypes: float64(14), int64(4), object(19)"
       ]
      }
     ],
     "prompt_number": 91
    },
    {
     "cell_type": "heading",
     "level": 2,
     "metadata": {},
     "source": [
      "Writing NA12877 Test/Train Files to Disk"
     ]
    },
    {
     "cell_type": "code",
     "collapsed": false,
     "input": [
      "#Get header for masterVar\n",
      "header = !bzcat /gpfs/home/erscott/Datasets_raw/PlatinumGenomes/CG/NA12877-200-37-ASM/GS00362-DNA_A01/ASM/masterVarBeta-NA12877-200-37-ASM.tsv.bz2 | head -1000 | grep chromosome    \n",
      "\n",
      "#Creating Reader object for iterating through NA12878 CG masterVar file\n",
      "cg_mastervar = \"/gpfs/home/erscott/Datasets_raw/PlatinumGenomes/CG/NA12877-200-37-ASM/GS00362-DNA_A01/ASM/masterVarBeta-NA12877-200-37-ASM.tsv.bz2\"\n",
      "sample = pd.read_table(cg_mastervar, chunksize=200000, sep=\"\\t\", skiprows=19,compression='bz2')\n",
      "sample.columns = header  #relabeling columns\n"
     ],
     "language": "python",
     "metadata": {},
     "outputs": [],
     "prompt_number": 75
    },
    {
     "cell_type": "code",
     "collapsed": false,
     "input": [
      "odd_chrom = map(str,range(1,23,2))\n",
      "even_chrom = map(str,range(2,24,2))\n",
      "first_write = 0\n",
      "for mastervar in sample:\n",
      "    \n",
      "    mastervar['chromosome'] = mastervar['chromosome'].str.replace('chr','')\n",
      "    mastervar = mastervar[mastervar.chromosome.isin(odd_chrom)]\n",
      "    if len(mastervar) == 0: \n",
      "        print len(mastervar)\n",
      "        continue\n",
      "    first_write = process_chunk(mastervar, first_write, validated_fp_indices)\n"
     ],
     "language": "python",
     "metadata": {},
     "outputs": [
      {
       "output_type": "stream",
       "stream": "stdout",
       "text": [
        "0\n",
        "0"
       ]
      },
      {
       "output_type": "stream",
       "stream": "stdout",
       "text": [
        "\n",
        "0"
       ]
      },
      {
       "output_type": "stream",
       "stream": "stdout",
       "text": [
        "\n",
        "0"
       ]
      },
      {
       "output_type": "stream",
       "stream": "stdout",
       "text": [
        "\n",
        "0"
       ]
      },
      {
       "output_type": "stream",
       "stream": "stdout",
       "text": [
        "\n",
        "0"
       ]
      },
      {
       "output_type": "stream",
       "stream": "stdout",
       "text": [
        "\n",
        "0"
       ]
      },
      {
       "output_type": "stream",
       "stream": "stdout",
       "text": [
        "\n",
        "0"
       ]
      },
      {
       "output_type": "stream",
       "stream": "stdout",
       "text": [
        "\n",
        "0"
       ]
      },
      {
       "output_type": "stream",
       "stream": "stdout",
       "text": [
        "\n",
        "0"
       ]
      },
      {
       "output_type": "stream",
       "stream": "stdout",
       "text": [
        "\n",
        "0"
       ]
      },
      {
       "output_type": "stream",
       "stream": "stdout",
       "text": [
        "\n",
        "0"
       ]
      },
      {
       "output_type": "stream",
       "stream": "stdout",
       "text": [
        "\n",
        "0"
       ]
      },
      {
       "output_type": "stream",
       "stream": "stdout",
       "text": [
        "\n",
        "0"
       ]
      },
      {
       "output_type": "stream",
       "stream": "stdout",
       "text": [
        "\n",
        "0"
       ]
      },
      {
       "output_type": "stream",
       "stream": "stdout",
       "text": [
        "\n",
        "0"
       ]
      },
      {
       "output_type": "stream",
       "stream": "stdout",
       "text": [
        "\n",
        "0"
       ]
      },
      {
       "output_type": "stream",
       "stream": "stdout",
       "text": [
        "\n",
        "0"
       ]
      },
      {
       "output_type": "stream",
       "stream": "stdout",
       "text": [
        "\n",
        "0"
       ]
      },
      {
       "output_type": "stream",
       "stream": "stdout",
       "text": [
        "\n",
        "0"
       ]
      },
      {
       "output_type": "stream",
       "stream": "stdout",
       "text": [
        "\n",
        "0"
       ]
      },
      {
       "output_type": "stream",
       "stream": "stdout",
       "text": [
        "\n",
        "0"
       ]
      },
      {
       "output_type": "stream",
       "stream": "stdout",
       "text": [
        "\n",
        "0"
       ]
      },
      {
       "output_type": "stream",
       "stream": "stdout",
       "text": [
        "\n",
        "0"
       ]
      },
      {
       "output_type": "stream",
       "stream": "stdout",
       "text": [
        "\n",
        "0"
       ]
      },
      {
       "output_type": "stream",
       "stream": "stdout",
       "text": [
        "\n",
        "0"
       ]
      },
      {
       "output_type": "stream",
       "stream": "stdout",
       "text": [
        "\n",
        "0"
       ]
      },
      {
       "output_type": "stream",
       "stream": "stdout",
       "text": [
        "\n",
        "0"
       ]
      },
      {
       "output_type": "stream",
       "stream": "stdout",
       "text": [
        "\n",
        "0"
       ]
      },
      {
       "output_type": "stream",
       "stream": "stdout",
       "text": [
        "\n",
        "0"
       ]
      },
      {
       "output_type": "stream",
       "stream": "stdout",
       "text": [
        "\n",
        "0"
       ]
      },
      {
       "output_type": "stream",
       "stream": "stdout",
       "text": [
        "\n",
        "0"
       ]
      },
      {
       "output_type": "stream",
       "stream": "stdout",
       "text": [
        "\n",
        "0"
       ]
      },
      {
       "output_type": "stream",
       "stream": "stdout",
       "text": [
        "\n",
        "0"
       ]
      },
      {
       "output_type": "stream",
       "stream": "stdout",
       "text": [
        "\n"
       ]
      }
     ],
     "prompt_number": 19
    },
    {
     "cell_type": "code",
     "collapsed": false,
     "input": [
      "\n",
      "#FOR DEBUGGING!!!!!\n",
      "# def validate_fp_mastervar(cg_unique_df, rtg_index_allele_dict):\n",
      "#     ''' This function searches every position,bp in cg_unique_df\n",
      "#         for intersections with rtg_index_allele_dict and returns\n",
      "#         a set of false positive indices'''\n",
      "#     false_positives = set()  #false-positive index vector\n",
      "\n",
      "#     for i in cg_unique_df.index:  #iterate through cg_unique_df indices\n",
      "#         chrom = i[0]  \n",
      "#         end = i[1] +1  #!!!! CG masterVar uses 0 coord at begin to start variant position\n",
      "#         alleleSeq = i[-1]\n",
      "#         if alleleSeq == \"=\": continue\n",
      "#         for pos,nt in zip(range(end, end+len(alleleSeq)), alleleSeq):  #iterate through all bases in variant\n",
      "#             if nt in rtg_index_allele_dict[(chrom, pos)]:  #If base call not in set of RTG base call for pos then False Positives!!!!!!!\n",
      "#                 false_positives.add(i)  #adding to fp index vector\n",
      "                \n",
      "#                 #a= !tabix /gpfs/home/erscott/Datasets_raw/RTG/phasing_annotated.vcf.gz 1:$pos-$pos | cut -f1-5,11  #useful for visualizing fp calls\n",
      "#                 #if a !=[]:\n",
      "#                     #print pos, nt, rtg_index_allele_dict[(chrom, pos)]\n",
      "#                     #print a[0].split()\n",
      "#                 break\n",
      "#     return false_positives\n",
      "\n",
      "# mastervar = sample.get_chunk()\n",
      "# mastervar['chromosome'] = mastervar['chromosome'].str.replace('chr','')\n",
      "# #Replace all NaN in mastervar_df with . (vcf convention)\n",
      "# mastervar.allele1Seq.fillna(value=\".\", inplace=True)\n",
      "# mastervar.allele2Seq.fillna(value=\".\", inplace=True)\n",
      "# mastervar.reference.fillna(value=\".\", inplace=True)\n",
      "\n",
      "\n",
      "# #Removing missing variants\n",
      "# mastervar = mastervar[mastervar.apply(missing_check,axis=1)]  #removes variants with ? in alleleNSeq\n",
      "\n",
      "# #Setting index values for original mastervar df\n",
      "# mastervar.set_index(['chromosome', 'end'], drop=False, inplace=True)\n",
      "# #mastervar['mastervar_index'] = mastervar.index.values\n",
      "\n",
      "# #Removing no-call and ref bases\n",
      "# mastervar = mastervar[(mastervar.zygosity!='no-call') & (mastervar.allele1Seq!='=') & (mastervar.allele2Seq!='=')]\n",
      "# mastervar.zygosity.value_counts()\n",
      "\n",
      "# #Creating allele specific mastervars\n",
      "# mastervar_a1 = mastervar.set_index(['chromosome','begin','allele1Seq'],drop=False)\n",
      "# mastervar_a2 = mastervar.set_index(['chromosome','begin','allele2Seq'],drop=False)\n",
      "\n",
      "\n",
      "# #Checking variant calls against th fp_index_hash\n",
      "# a1_mastervar_validated_fp = validate_fp_mastervar(mastervar_a1, validated_fp_indices)  #vector of indices\n",
      "# a2_mastervar_validated_fp = validate_fp_mastervar(mastervar_a2, validated_fp_indices)  #vector of indices\n",
      "\n",
      "# #Annotating allele1 and allele2 with true positive calls (1) or false positive calls (0)\n",
      "# mastervar_a1['allele1truth'] = mastervar_a1.apply(annotate_fp_alleles, args=[a1_mastervar_validated_fp], axis=1)\n",
      "# mastervar_a2['allele2truth'] = mastervar_a2.apply(annotate_fp_alleles, args=[a2_mastervar_validated_fp], axis=1)\n",
      "\n",
      "# #Merging allele specific dataframes to integrate the alleleNtruth calls into 1 dataframe\n",
      "# merged = mastervar_a1.merge(mastervar_a2,how='outer')\n",
      "# merged = merged.astype(str)\n",
      "# merged = merged.replace(to_replace='nan',value=\".\")\n",
      "# merged.segDupOverlap.replace(to_replace=\".\",value=0,inplace=True)\n",
      "\n",
      "\n",
      "#Writing merged dataframe to file\n",
      "# if first_write == 0:\n",
      "#     merged.to_csv(\"/gpfs/home/erscott/Datasets_raw/PlatinumGenomes/CG/NA12878-200-37-ASM/GS00362-DNA_C04/ASM/masterVarBeta-NA12878_svm_train_RTG.txt\",sep=\"\\t\",index=False)\n",
      "# if first_write != 0:\n",
      "#     merged.to_csv(\"/gpfs/home/erscott/Datasets_raw/PlatinumGenomes/CG/NA12878-200-37-ASM/GS00362-DNA_C04/ASM/masterVarBeta-NA12878_svm_train_RTG.txt\",sep=\"\\t\",mode=\"a\",index=False, header=False)\n",
      "\n",
      "# return 1  #1 indicates write mode to \"a\" and to exclude writing a header"
     ],
     "language": "python",
     "metadata": {},
     "outputs": [],
     "prompt_number": 203
    },
    {
     "cell_type": "heading",
     "level": 1,
     "metadata": {},
     "source": [
      "Sanity Check of NA12878 FP variants"
     ]
    },
    {
     "cell_type": "code",
     "collapsed": false,
     "input": [
      "path = '/gpfs/home/erscott/Datasets_raw/PlatinumGenomes/CG/NA12878-200-37-ASM/GS00362-DNA_C04/ASM/masterVarBeta-NA12878_svm_train_RTG.txt'\n",
      "df = pd.read_table(path,sep=\"\\t\")"
     ],
     "language": "python",
     "metadata": {},
     "outputs": [],
     "prompt_number": 271
    },
    {
     "cell_type": "code",
     "collapsed": false,
     "input": [
      "df_snp = df[df.varType=='snp']"
     ],
     "language": "python",
     "metadata": {},
     "outputs": [],
     "prompt_number": 272
    },
    {
     "cell_type": "code",
     "collapsed": false,
     "input": [
      "df_snp['chromosome'] = 'chr'+df_snp['chromosome'].astype(str)"
     ],
     "language": "python",
     "metadata": {},
     "outputs": [],
     "prompt_number": 275
    },
    {
     "cell_type": "code",
     "collapsed": false,
     "input": [
      "df_snp.set_index(['chromosome','end'],drop=False,inplace=True)\n"
     ],
     "language": "python",
     "metadata": {},
     "outputs": [],
     "prompt_number": 279
    },
    {
     "cell_type": "code",
     "collapsed": false,
     "input": [
      "df_snp_confident = df_snp[(df_snp.allele1truth==1) & (df_snp.allele2truth==1)]\n",
      "print len(df_snp_confident)\n",
      "len( set(df_snp_confident.index)&set(lfr_df_hg19.index))\n"
     ],
     "language": "python",
     "metadata": {},
     "outputs": [
      {
       "output_type": "stream",
       "stream": "stdout",
       "text": [
        "1576769\n"
       ]
      },
      {
       "metadata": {},
       "output_type": "pyout",
       "prompt_number": 285,
       "text": [
        "1258539"
       ]
      }
     ],
     "prompt_number": 285
    },
    {
     "cell_type": "code",
     "collapsed": false,
     "input": [
      "df_snp_not_confident = df_snp[(df_snp.allele1truth==0) | (df_snp.allele2truth==0)]\n",
      "print len(df_snp_not_confident)\n",
      "len( set(df_snp_not_confident.index)&set(lfr_df_hg19.index))\n"
     ],
     "language": "python",
     "metadata": {},
     "outputs": [
      {
       "output_type": "stream",
       "stream": "stdout",
       "text": [
        "50637\n"
       ]
      },
      {
       "metadata": {},
       "output_type": "pyout",
       "prompt_number": 287,
       "text": [
        "12911"
       ]
      }
     ],
     "prompt_number": 287
    },
    {
     "cell_type": "code",
     "collapsed": false,
     "input": [
      "len(set(df_snp.index)&set())"
     ],
     "language": "python",
     "metadata": {},
     "outputs": []
    },
    {
     "cell_type": "code",
     "collapsed": false,
     "input": [
      "df_snp_het = df_snp[df_snp.zygosity=='het-ref']\n"
     ],
     "language": "python",
     "metadata": {},
     "outputs": [],
     "prompt_number": 268
    },
    {
     "cell_type": "code",
     "collapsed": false,
     "input": [
      "subset = list(df.columns[2:10])\n",
      "subset.extend(['allele1truth','allele2truth'])\n",
      "fp = df[(df.allele1truth==0) & (df.allele2truth==0)][subset]"
     ],
     "language": "python",
     "metadata": {},
     "outputs": [],
     "prompt_number": 281
    },
    {
     "cell_type": "code",
     "collapsed": false,
     "input": [
      "fp"
     ],
     "language": "python",
     "metadata": {},
     "outputs": [
      {
       "html": [
        "<pre>\n",
        "&lt;class 'pandas.core.frame.DataFrame'&gt;\n",
        "Int64Index: 10734 entries, 0 to 1865780\n",
        "Data columns (total 10 columns):\n",
        "chromosome      10734  non-null values\n",
        "begin           10734  non-null values\n",
        "end             10734  non-null values\n",
        "zygosity        10734  non-null values\n",
        "varType         10734  non-null values\n",
        "reference       10734  non-null values\n",
        "allele1Seq      10734  non-null values\n",
        "allele2Seq      10734  non-null values\n",
        "allele1truth    10734  non-null values\n",
        "allele2truth    10734  non-null values\n",
        "dtypes: int64(5), object(5)\n",
        "</pre>"
       ],
       "metadata": {},
       "output_type": "pyout",
       "prompt_number": 282,
       "text": [
        "<class 'pandas.core.frame.DataFrame'>\n",
        "Int64Index: 10734 entries, 0 to 1865780\n",
        "Data columns (total 10 columns):\n",
        "chromosome      10734  non-null values\n",
        "begin           10734  non-null values\n",
        "end             10734  non-null values\n",
        "zygosity        10734  non-null values\n",
        "varType         10734  non-null values\n",
        "reference       10734  non-null values\n",
        "allele1Seq      10734  non-null values\n",
        "allele2Seq      10734  non-null values\n",
        "allele1truth    10734  non-null values\n",
        "allele2truth    10734  non-null values\n",
        "dtypes: int64(5), object(5)"
       ]
      }
     ],
     "prompt_number": 282
    },
    {
     "cell_type": "code",
     "collapsed": false,
     "input": [
      "#SANITY CHECK AGAINST GIAB CALLS\n",
      "counter = 0\n",
      "for n,i in enumerate(fp.index[150:1000]):\n",
      "    temp = fp.ix[i]\n",
      "    chrom = temp['chromosome']\n",
      "    start = temp['begin'] +1\n",
      "    end = temp['end']\n",
      "    cmd = str(chrom)+\":\"+str(start)+\"-\"+str(end)\n",
      "    a = !tabix /gpfs/home/erscott/Datasets_raw/PlatinumGenomes/Illumina/NISTIntegratedCalls_13datasets_130719_allcall_UGHapMerge_HetHomVarPASS_VQSRv2.17_all.primitives.vcf.gz $cmd | cut -f1-7,9       \n",
      "    if a == []: continue\n",
      "    print n\n",
      "    print a[0].split(\"\\t\"), cmd, temp['allele1Seq'], temp['allele2Seq']\n",
      "    counter +=1"
     ],
     "language": "python",
     "metadata": {},
     "outputs": [
      {
       "ename": "NameError",
       "evalue": "name 'fp' is not defined",
       "output_type": "pyerr",
       "traceback": [
        "\u001b[1;31m---------------------------------------------------------------------------\u001b[0m\n\u001b[1;31mNameError\u001b[0m                                 Traceback (most recent call last)",
        "\u001b[1;32m<ipython-input-1-6a3428f436a1>\u001b[0m in \u001b[0;36m<module>\u001b[1;34m()\u001b[0m\n\u001b[0;32m      1\u001b[0m \u001b[1;31m#SANITY CHECK AGAINST GIAB CALLS\u001b[0m\u001b[1;33m\u001b[0m\u001b[1;33m\u001b[0m\u001b[0m\n\u001b[0;32m      2\u001b[0m \u001b[0mcounter\u001b[0m \u001b[1;33m=\u001b[0m \u001b[1;36m0\u001b[0m\u001b[1;33m\u001b[0m\u001b[0m\n\u001b[1;32m----> 3\u001b[1;33m \u001b[1;32mfor\u001b[0m \u001b[0mn\u001b[0m\u001b[1;33m,\u001b[0m\u001b[0mi\u001b[0m \u001b[1;32min\u001b[0m \u001b[0menumerate\u001b[0m\u001b[1;33m(\u001b[0m\u001b[0mfp\u001b[0m\u001b[1;33m.\u001b[0m\u001b[0mindex\u001b[0m\u001b[1;33m[\u001b[0m\u001b[1;36m150\u001b[0m\u001b[1;33m:\u001b[0m\u001b[1;36m1000\u001b[0m\u001b[1;33m]\u001b[0m\u001b[1;33m)\u001b[0m\u001b[1;33m:\u001b[0m\u001b[1;33m\u001b[0m\u001b[0m\n\u001b[0m\u001b[0;32m      4\u001b[0m     \u001b[0mtemp\u001b[0m \u001b[1;33m=\u001b[0m \u001b[0mfp\u001b[0m\u001b[1;33m.\u001b[0m\u001b[0mix\u001b[0m\u001b[1;33m[\u001b[0m\u001b[0mi\u001b[0m\u001b[1;33m]\u001b[0m\u001b[1;33m\u001b[0m\u001b[0m\n\u001b[0;32m      5\u001b[0m     \u001b[0mchrom\u001b[0m \u001b[1;33m=\u001b[0m \u001b[0mtemp\u001b[0m\u001b[1;33m[\u001b[0m\u001b[1;34m'chromosome'\u001b[0m\u001b[1;33m]\u001b[0m\u001b[1;33m\u001b[0m\u001b[0m\n",
        "\u001b[1;31mNameError\u001b[0m: name 'fp' is not defined"
       ]
      }
     ],
     "prompt_number": 1
    },
    {
     "cell_type": "code",
     "collapsed": false,
     "input": [
      "#SANITY CHECK AGAINST RTG fp dataframe\n",
      "counter = 0\n",
      "for n,i in enumerate(fp.index[:1000]):\n",
      "    temp = fp.ix[i]\n",
      "    chrom = temp['chromosome']\n",
      "    start = temp['begin']+1\n",
      "    end = temp['end']\n",
      "    cmd = str(chrom)+\":\"+str(start)+\"-\"+str(end)\n",
      "    a = !tabix /gpfs/home/erscott/Tools/RTG/rtg-tools-1.0.0/eval/fp.vcf.gz $cmd | cut -f1-7,9       \n",
      "    if a == []: continue\n",
      "    print n\n",
      "    print a[0].split(\"\\t\"), cmd, temp['allele1Seq'], temp['allele2Seq']\n",
      "    counter +=1"
     ],
     "language": "python",
     "metadata": {},
     "outputs": []
    },
    {
     "cell_type": "heading",
     "level": 3,
     "metadata": {},
     "source": [
      "Allele Truth assignments - All of this code is in the process_chunk function"
     ]
    },
    {
     "cell_type": "code",
     "collapsed": false,
     "input": [
      "astervar_a1['allele1truth'] = mastervar_a1.apply(annotate_fp_alleles, args=[a1_mastervar_validated_fp[0]], axis=1)\n",
      "mastervar_a2['allele2truth'] = mastervar_a2.apply(annotate_fp_alleles, args=[a2_mastervar_validated_fp[0]], axis=1)\n"
     ],
     "language": "python",
     "metadata": {},
     "outputs": [],
     "prompt_number": 179
    },
    {
     "cell_type": "code",
     "collapsed": false,
     "input": [
      "mastervar_a1[(mastervar_a1.allele1truth ==1)]"
     ],
     "language": "python",
     "metadata": {},
     "outputs": [
      {
       "html": [
        "<pre>\n",
        "&lt;class 'pandas.core.frame.DataFrame'&gt;\n",
        "MultiIndex: 45719 entries, (1, 49242, A) to (1, 35082172, T)\n",
        "Data columns (total 13 columns):\n",
        "chromosome         45719  non-null values\n",
        "begin              45719  non-null values\n",
        "end                45719  non-null values\n",
        "zygosity           45719  non-null values\n",
        "varType            45719  non-null values\n",
        "reference          45719  non-null values\n",
        "allele1Seq         45719  non-null values\n",
        "allele2Seq         45719  non-null values\n",
        "repeatMasker       24391  non-null values\n",
        "segDupOverlap      1962  non-null values\n",
        "var_len            45719  non-null values\n",
        "mastervar_index    45719  non-null values\n",
        "allele1truth       45719  non-null values\n",
        "dtypes: float64(1), int64(4), object(8)\n",
        "</pre>"
       ],
       "metadata": {},
       "output_type": "pyout",
       "prompt_number": 183,
       "text": [
        "<class 'pandas.core.frame.DataFrame'>\n",
        "MultiIndex: 45719 entries, (1, 49242, A) to (1, 35082172, T)\n",
        "Data columns (total 13 columns):\n",
        "chromosome         45719  non-null values\n",
        "begin              45719  non-null values\n",
        "end                45719  non-null values\n",
        "zygosity           45719  non-null values\n",
        "varType            45719  non-null values\n",
        "reference          45719  non-null values\n",
        "allele1Seq         45719  non-null values\n",
        "allele2Seq         45719  non-null values\n",
        "repeatMasker       24391  non-null values\n",
        "segDupOverlap      1962  non-null values\n",
        "var_len            45719  non-null values\n",
        "mastervar_index    45719  non-null values\n",
        "allele1truth       45719  non-null values\n",
        "dtypes: float64(1), int64(4), object(8)"
       ]
      }
     ],
     "prompt_number": 183
    },
    {
     "cell_type": "code",
     "collapsed": false,
     "input": [
      "merged = mastervar_a1.merge(mastervar_a2,how='outer')"
     ],
     "language": "python",
     "metadata": {},
     "outputs": [],
     "prompt_number": 200
    },
    {
     "cell_type": "code",
     "collapsed": false,
     "input": [
      "merged"
     ],
     "language": "python",
     "metadata": {},
     "outputs": [
      {
       "html": [
        "<pre>\n",
        "&lt;class 'pandas.core.frame.DataFrame'&gt;\n",
        "Int64Index: 50577 entries, 0 to 50576\n",
        "Data columns (total 14 columns):\n",
        "chromosome         50577  non-null values\n",
        "begin              50577  non-null values\n",
        "end                50577  non-null values\n",
        "zygosity           50577  non-null values\n",
        "varType            50577  non-null values\n",
        "reference          50577  non-null values\n",
        "allele1Seq         50577  non-null values\n",
        "allele2Seq         50577  non-null values\n",
        "repeatMasker       27601  non-null values\n",
        "segDupOverlap      3653  non-null values\n",
        "var_len            50577  non-null values\n",
        "mastervar_index    50577  non-null values\n",
        "allele1truth       50577  non-null values\n",
        "allele2truth       50577  non-null values\n",
        "dtypes: float64(1), int64(5), object(8)\n",
        "</pre>"
       ],
       "metadata": {},
       "output_type": "pyout",
       "prompt_number": 197,
       "text": [
        "<class 'pandas.core.frame.DataFrame'>\n",
        "Int64Index: 50577 entries, 0 to 50576\n",
        "Data columns (total 14 columns):\n",
        "chromosome         50577  non-null values\n",
        "begin              50577  non-null values\n",
        "end                50577  non-null values\n",
        "zygosity           50577  non-null values\n",
        "varType            50577  non-null values\n",
        "reference          50577  non-null values\n",
        "allele1Seq         50577  non-null values\n",
        "allele2Seq         50577  non-null values\n",
        "repeatMasker       27601  non-null values\n",
        "segDupOverlap      3653  non-null values\n",
        "var_len            50577  non-null values\n",
        "mastervar_index    50577  non-null values\n",
        "allele1truth       50577  non-null values\n",
        "allele2truth       50577  non-null values\n",
        "dtypes: float64(1), int64(5), object(8)"
       ]
      }
     ],
     "prompt_number": 197
    },
    {
     "cell_type": "code",
     "collapsed": false,
     "input": [
      "merged.allele1Seq.value_counts()"
     ],
     "language": "python",
     "metadata": {},
     "outputs": [
      {
       "metadata": {},
       "output_type": "pyout",
       "prompt_number": 202,
       "text": [
        "T     11225\n",
        "A     11109\n",
        "C     11023\n",
        "G     10937\n",
        ".      3448\n",
        "AA      200\n",
        "TT      165\n",
        "CA      132\n",
        "TG      117\n",
        "AG       70\n",
        "CT       66\n",
        "AT       61\n",
        "AC       60\n",
        "TC       57\n",
        "CC       54\n",
        "...\n",
        "ATCCCAA                             1\n",
        "GGGGGAAT                            1\n",
        "TTCCAGCACATAGG                      1\n",
        "CGTTT                               1\n",
        "AGAGAGAGAG                          1\n",
        "TTCTTTTCTT                          1\n",
        "CTTCC                               1\n",
        "ATGTTGTGTATATGTGGTGTGTGAATGTGTGT    1\n",
        "TACTG                               1\n",
        "TCAC                                1\n",
        "TTTCACCACTTTGGCAAGGCTGGTCTTGAA      1\n",
        "TAGGCCCTTTACA                       1\n",
        "TCAGGACTTTGGGAGGCCGAGGTGGGTGGAT     1\n",
        "CAAGC                               1\n",
        "GCCCC                               1\n",
        "Length: 805, dtype: int64"
       ]
      }
     ],
     "prompt_number": 202
    },
    {
     "cell_type": "code",
     "collapsed": false,
     "input": [
      "merged[(merged.allele1truth==0) | (merged.allele2truth==0)]"
     ],
     "language": "python",
     "metadata": {},
     "outputs": [
      {
       "html": [
        "<pre>\n",
        "&lt;class 'pandas.core.frame.DataFrame'&gt;\n",
        "Int64Index: 5311 entries, 0 to 50573\n",
        "Data columns (total 14 columns):\n",
        "chromosome         5311  non-null values\n",
        "begin              5311  non-null values\n",
        "end                5311  non-null values\n",
        "zygosity           5311  non-null values\n",
        "varType            5311  non-null values\n",
        "reference          5311  non-null values\n",
        "allele1Seq         5311  non-null values\n",
        "allele2Seq         5311  non-null values\n",
        "repeatMasker       3549  non-null values\n",
        "segDupOverlap      1743  non-null values\n",
        "var_len            5311  non-null values\n",
        "mastervar_index    5311  non-null values\n",
        "allele1truth       5311  non-null values\n",
        "allele2truth       5311  non-null values\n",
        "dtypes: float64(1), int64(5), object(8)\n",
        "</pre>"
       ],
       "metadata": {},
       "output_type": "pyout",
       "prompt_number": 210,
       "text": [
        "<class 'pandas.core.frame.DataFrame'>\n",
        "Int64Index: 5311 entries, 0 to 50573\n",
        "Data columns (total 14 columns):\n",
        "chromosome         5311  non-null values\n",
        "begin              5311  non-null values\n",
        "end                5311  non-null values\n",
        "zygosity           5311  non-null values\n",
        "varType            5311  non-null values\n",
        "reference          5311  non-null values\n",
        "allele1Seq         5311  non-null values\n",
        "allele2Seq         5311  non-null values\n",
        "repeatMasker       3549  non-null values\n",
        "segDupOverlap      1743  non-null values\n",
        "var_len            5311  non-null values\n",
        "mastervar_index    5311  non-null values\n",
        "allele1truth       5311  non-null values\n",
        "allele2truth       5311  non-null values\n",
        "dtypes: float64(1), int64(5), object(8)"
       ]
      }
     ],
     "prompt_number": 210
    },
    {
     "cell_type": "code",
     "collapsed": false,
     "input": [
      "merged[(merged.allele1truth==0)]"
     ],
     "language": "python",
     "metadata": {},
     "outputs": [
      {
       "html": [
        "<pre>\n",
        "&lt;class 'pandas.core.frame.DataFrame'&gt;\n",
        "Int64Index: 4858 entries, 0 to 50573\n",
        "Data columns (total 14 columns):\n",
        "chromosome         4858  non-null values\n",
        "begin              4858  non-null values\n",
        "end                4858  non-null values\n",
        "zygosity           4858  non-null values\n",
        "varType            4858  non-null values\n",
        "reference          4858  non-null values\n",
        "allele1Seq         4858  non-null values\n",
        "allele2Seq         4858  non-null values\n",
        "repeatMasker       3210  non-null values\n",
        "segDupOverlap      1691  non-null values\n",
        "var_len            4858  non-null values\n",
        "mastervar_index    4858  non-null values\n",
        "allele1truth       4858  non-null values\n",
        "allele2truth       4858  non-null values\n",
        "dtypes: float64(1), int64(5), object(8)\n",
        "</pre>"
       ],
       "metadata": {},
       "output_type": "pyout",
       "prompt_number": 209,
       "text": [
        "<class 'pandas.core.frame.DataFrame'>\n",
        "Int64Index: 4858 entries, 0 to 50573\n",
        "Data columns (total 14 columns):\n",
        "chromosome         4858  non-null values\n",
        "begin              4858  non-null values\n",
        "end                4858  non-null values\n",
        "zygosity           4858  non-null values\n",
        "varType            4858  non-null values\n",
        "reference          4858  non-null values\n",
        "allele1Seq         4858  non-null values\n",
        "allele2Seq         4858  non-null values\n",
        "repeatMasker       3210  non-null values\n",
        "segDupOverlap      1691  non-null values\n",
        "var_len            4858  non-null values\n",
        "mastervar_index    4858  non-null values\n",
        "allele1truth       4858  non-null values\n",
        "allele2truth       4858  non-null values\n",
        "dtypes: float64(1), int64(5), object(8)"
       ]
      }
     ],
     "prompt_number": 209
    },
    {
     "cell_type": "code",
     "collapsed": false,
     "input": [
      "merged[(merged.allele2truth==0)]"
     ],
     "language": "python",
     "metadata": {},
     "outputs": [
      {
       "html": [
        "<pre>\n",
        "&lt;class 'pandas.core.frame.DataFrame'&gt;\n",
        "Int64Index: 3536 entries, 0 to 50573\n",
        "Data columns (total 14 columns):\n",
        "chromosome         3536  non-null values\n",
        "begin              3536  non-null values\n",
        "end                3536  non-null values\n",
        "zygosity           3536  non-null values\n",
        "varType            3536  non-null values\n",
        "reference          3536  non-null values\n",
        "allele1Seq         3536  non-null values\n",
        "allele2Seq         3536  non-null values\n",
        "repeatMasker       2233  non-null values\n",
        "segDupOverlap      1478  non-null values\n",
        "var_len            3536  non-null values\n",
        "mastervar_index    3536  non-null values\n",
        "allele1truth       3536  non-null values\n",
        "allele2truth       3536  non-null values\n",
        "dtypes: float64(1), int64(5), object(8)\n",
        "</pre>"
       ],
       "metadata": {},
       "output_type": "pyout",
       "prompt_number": 211,
       "text": [
        "<class 'pandas.core.frame.DataFrame'>\n",
        "Int64Index: 3536 entries, 0 to 50573\n",
        "Data columns (total 14 columns):\n",
        "chromosome         3536  non-null values\n",
        "begin              3536  non-null values\n",
        "end                3536  non-null values\n",
        "zygosity           3536  non-null values\n",
        "varType            3536  non-null values\n",
        "reference          3536  non-null values\n",
        "allele1Seq         3536  non-null values\n",
        "allele2Seq         3536  non-null values\n",
        "repeatMasker       2233  non-null values\n",
        "segDupOverlap      1478  non-null values\n",
        "var_len            3536  non-null values\n",
        "mastervar_index    3536  non-null values\n",
        "allele1truth       3536  non-null values\n",
        "allele2truth       3536  non-null values\n",
        "dtypes: float64(1), int64(5), object(8)"
       ]
      }
     ],
     "prompt_number": 211
    },
    {
     "cell_type": "code",
     "collapsed": false,
     "input": [
      "merged[(merged.allele1truth==0) & (merged.allele2truth==0)]"
     ],
     "language": "python",
     "metadata": {},
     "outputs": [
      {
       "html": [
        "<pre>\n",
        "&lt;class 'pandas.core.frame.DataFrame'&gt;\n",
        "Int64Index: 3083 entries, 0 to 50573\n",
        "Data columns (total 14 columns):\n",
        "chromosome         3083  non-null values\n",
        "begin              3083  non-null values\n",
        "end                3083  non-null values\n",
        "zygosity           3083  non-null values\n",
        "varType            3083  non-null values\n",
        "reference          3083  non-null values\n",
        "allele1Seq         3083  non-null values\n",
        "allele2Seq         3083  non-null values\n",
        "repeatMasker       1894  non-null values\n",
        "segDupOverlap      1426  non-null values\n",
        "var_len            3083  non-null values\n",
        "mastervar_index    3083  non-null values\n",
        "allele1truth       3083  non-null values\n",
        "allele2truth       3083  non-null values\n",
        "dtypes: float64(1), int64(5), object(8)\n",
        "</pre>"
       ],
       "metadata": {},
       "output_type": "pyout",
       "prompt_number": 212,
       "text": [
        "<class 'pandas.core.frame.DataFrame'>\n",
        "Int64Index: 3083 entries, 0 to 50573\n",
        "Data columns (total 14 columns):\n",
        "chromosome         3083  non-null values\n",
        "begin              3083  non-null values\n",
        "end                3083  non-null values\n",
        "zygosity           3083  non-null values\n",
        "varType            3083  non-null values\n",
        "reference          3083  non-null values\n",
        "allele1Seq         3083  non-null values\n",
        "allele2Seq         3083  non-null values\n",
        "repeatMasker       1894  non-null values\n",
        "segDupOverlap      1426  non-null values\n",
        "var_len            3083  non-null values\n",
        "mastervar_index    3083  non-null values\n",
        "allele1truth       3083  non-null values\n",
        "allele2truth       3083  non-null values\n",
        "dtypes: float64(1), int64(5), object(8)"
       ]
      }
     ],
     "prompt_number": 212
    },
    {
     "cell_type": "code",
     "collapsed": false,
     "input": [],
     "language": "python",
     "metadata": {},
     "outputs": []
    }
   ],
   "metadata": {}
  }
 ]
}