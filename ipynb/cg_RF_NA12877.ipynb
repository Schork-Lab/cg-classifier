{
 "metadata": {
  "name": ""
 },
 "nbformat": 3,
 "nbformat_minor": 0,
 "worksheets": [
  {
   "cells": [
    {
     "cell_type": "heading",
     "level": 1,
     "metadata": {},
     "source": [
      "Libraries"
     ]
    },
    {
     "cell_type": "code",
     "collapsed": false,
     "input": [
      "import pandas as pd\n",
      "#import coord_to_hg19_seq as hg19\n",
      "from collections import Counter\n",
      "from IPython.display import HTML\n",
      "import pybedtools\n",
      "import os\n",
      "import subprocess\n",
      "import random\n",
      "from sklearn import preprocessing\n",
      "import cPickle\n",
      "import multiprocessing as mp"
     ],
     "language": "python",
     "metadata": {},
     "outputs": [],
     "prompt_number": 1
    },
    {
     "cell_type": "heading",
     "level": 3,
     "metadata": {},
     "source": [
      "pdVCF Functions"
     ]
    },
    {
     "cell_type": "code",
     "collapsed": false,
     "input": [
      "def get_phase(line, sample_col):\n",
      "    '''\n",
      "    Returns phase status from a GT field\n",
      "    '''\n",
      "    if \"|\" in line[sample_col]:\n",
      "        return \"|\"\n",
      "    if \"/\" in line[sample_col]:\n",
      "        return \"/\"\n",
      "    else: return '-'\n",
      "\n",
      "def get_allele(line, sample_col, phase_col, allele_num=0):\n",
      "    allele_calls = line[sample_col].split(\":\")[0].split(line[phase_col])\n",
      "    alleles = [line['REF']]\n",
      "    alleles.extend(line['ALT'].split(\",\"))\n",
      "    a1 = \".\"\n",
      "    try:\n",
      "        a1 = alleles[int(allele_calls[allele_num])]\n",
      "    except:\n",
      "        a1 = \".\"\n",
      "    return a1\n",
      "\n"
     ],
     "language": "python",
     "metadata": {},
     "outputs": [],
     "prompt_number": 2
    },
    {
     "cell_type": "code",
     "collapsed": false,
     "input": [
      "def vartype(line, allele_base_col):\n",
      "    '''\n",
      "    This function assigns the following vartypes to the \n",
      "    allele specified by allele_base_col: snp, mnp, ins, del, indel or SV\n",
      "    \n",
      "    '''\n",
      "    ref = line['REF']\n",
      "    alt = line[allele_base_col]\n",
      "    if ref == alt: return 'ref'\n",
      "    if is_snp(ref,alt): return 'snp'\n",
      "    elif is_sv(ref,alt): return 'sv'\n",
      "    elif is_mnp(ref,alt): return 'mnp'\n",
      "    elif is_insertion(ref,alt): return 'ins'\n",
      "    elif is_del(ref,alt): return 'del'\n",
      "    else: return 'indel or SV'\n",
      "\n",
      "def is_snp(ref,alt):\n",
      "    \"\"\" Return whether or not the variant is a SNP \"\"\"\n",
      "    if len(ref) != len(alt): return False\n",
      "    base_diff = [nt for i,nt in enumerate(alt) if ref[i] != alt[i]]\n",
      "    if len(base_diff) <=1:\n",
      "            return True\n",
      "    return False\n",
      "\n",
      "def is_sv(ref,alt):\n",
      "    if \"[\" in alt or \"]\" in alt:\n",
      "        return True\n",
      "    return False\n",
      "\n",
      "def is_mnp(ref,alt):\n",
      "    \"\"\" Return whether or not the variant is an MNP\"\"\"\n",
      "    if len(ref) > 1 and len(ref) == len(alt):\n",
      "        return True\n",
      "    return False\n",
      "\n",
      "def is_insertion(ref,alt):\n",
      "    if len(ref) < len(alt):\n",
      "        return True\n",
      "    return False\n",
      "    \n",
      "def is_del(ref,alt):\n",
      "    if len(ref) > len(alt):\n",
      "        return True\n",
      "    return False"
     ],
     "language": "python",
     "metadata": {},
     "outputs": [],
     "prompt_number": 3
    },
    {
     "cell_type": "code",
     "collapsed": false,
     "input": [
      "def zygosity(line):\n",
      "    allele_set = set([line['a1'], line['a2'], line['REF']])\n",
      "        \n",
      "    if len(allele_set) == 1:\n",
      "        return 'hom-ref'\n",
      "    if len(allele_set) ==2 and line['a1'] == line['a2']:\n",
      "        if \".\" in allele_set:\n",
      "            return 'hom-miss'\n",
      "        return 'hom-alt'\n",
      "    if len(allele_set) == 2 and line['a1'] != line['a2']:\n",
      "        if \".\" in allele_set:\n",
      "            return 'het-miss'\n",
      "        return 'het-ref'\n",
      "    if len(allele_set) ==3:\n",
      "        if \".\" in allele_set:\n",
      "            return 'het-miss'\n",
      "        return 'het-alt'\n",
      "    assert False"
     ],
     "language": "python",
     "metadata": {},
     "outputs": [],
     "prompt_number": 4
    },
    {
     "cell_type": "code",
     "collapsed": false,
     "input": [
      "def ref_read_depth(line):\n",
      "    '''\n",
      "    This function returns the number of reads\n",
      "    supporting the reference allele\n",
      "    \n",
      "    Required columns: [DP, AD, zygosity, a1]\n",
      "    '''\n",
      "    \n",
      "    dp = line['DP']  #total read depth\n",
      "    ad = line['AD'].replace(\".\",'0')  #replace missing with 0\n",
      "    ad1, ad2 = ad.split(\",\")  #allelic depth for allele1 and allele2\n",
      "    \n",
      "    if line['zygosity'] == 'het-ref':  \n",
      "        if line['a1'] != line['REF']: #allele1 is non-reference\n",
      "            return  dp - int(ad1)  #total read depth - allele1 read depth\n",
      "        return dp - int(ad2)  #total read depth - allele2 read depth\n",
      "    \n",
      "    if line['zygosity'] == 'hom-alt':  #allele1 and allele2 read depths are identical\n",
      "        return  dp - int(ad2)  \n",
      "    \n",
      "    if line['zygosity'] == 'het-alt':\n",
      "        return  dp - sum([ int(ad1), int(ad2) ] )\n",
      "    \n",
      "    return dp  #hom-ref read depth == total read depth"
     ],
     "language": "python",
     "metadata": {},
     "outputs": [],
     "prompt_number": 5
    },
    {
     "cell_type": "code",
     "collapsed": false,
     "input": [
      "def binom_deviance_mp(ad1_ad2):\n",
      "    \n",
      "    allele_read_depths = [ad1_ad2[0], ad1_ad2[1]]\n",
      "    return stats.binom_test(max(allele_read_depths), sum(allele_read_depths), 0.5)\n"
     ],
     "language": "python",
     "metadata": {},
     "outputs": [],
     "prompt_number": 6
    },
    {
     "cell_type": "heading",
     "level": 1,
     "metadata": {},
     "source": [
      "Sample File Paths"
     ]
    },
    {
     "cell_type": "code",
     "collapsed": false,
     "input": [
      "NA12877_training_data_dir = '/Users/ers_vader/git_data/cg_classifier/CG/NA12877/NA12877_CGvsRTGphasingPHRdropped_NISThighconfid/'\n",
      "\n",
      "#tp_NA12877_tsv = '/gpfs/home/erscott/Datasets_raw/PlatinumGenomes/NA12877/NA12877_phasing/tp.tsv.gz'\n",
      "tp_NA12877_tsv = NA12877_training_data_dir + 'tp.tsv.gz'\n",
      "\n",
      "#fp_NA12877_tsv = '/gpfs/home/erscott/Datasets_raw/PlatinumGenomes/NA12877/NA12877_phasing/fp.tsv.gz'\n",
      "fp_NA12877_tsv = NA12877_training_data_dir + 'fp.tsv.gz'"
     ],
     "language": "python",
     "metadata": {},
     "outputs": [],
     "prompt_number": 7
    },
    {
     "cell_type": "heading",
     "level": 1,
     "metadata": {},
     "source": [
      "RF Preprocessing - THIS TAKES QUITE AWHILE IF PROCESSING THE WHOLE GENOME - WE SHOULD IMPLEMENT A MULTIPROCESSING METHOD TO SPEED THINGS UP"
     ]
    },
    {
     "cell_type": "code",
     "collapsed": false,
     "input": [
      "fp = pd.read_table(fp_NA12877_tsv,sep=\"\\t\",compression='gzip')\n",
      "\n",
      "\n",
      "tp = pd.read_table(tp_NA12877_tsv,sep=\"\\t\",compression='gzip')\n",
      "\n"
     ],
     "language": "python",
     "metadata": {},
     "outputs": [
      {
       "output_type": "stream",
       "stream": "stderr",
       "text": [
        "//anaconda/lib/python2.7/site-packages/pandas/io/parsers.py:1139: DtypeWarning: Columns (0,14,23,27,31,33,38,39,48,51) have mixed types. Specify dtype option on import or set low_memory=False.\n",
        "  data = self._reader.read(nrows)\n",
        "//anaconda/lib/python2.7/site-packages/pandas/io/parsers.py:1139: DtypeWarning: Columns (0,7,14,15,27,38,48) have mixed types. Specify dtype option on import or set low_memory=False.\n",
        "  data = self._reader.read(nrows)\n"
       ]
      }
     ],
     "prompt_number": 11
    },
    {
     "cell_type": "code",
     "collapsed": false,
     "input": [
      "def multiallele_GL_formatting(df, gl_col):\n",
      "    GL_df = pd.DataFrame.from_records([i.split(\",\") for i in df[gl_col]], columns=['AA_'+gl_col, 'AB_'+gl_col, 'BB_'+gl_col, 'AC_'+gl_col, 'BC_'+gl_col, 'CC_'+gl_col])\n",
      "    GL_df.index = df.index\n",
      "    GL_df.fillna(value=-999,inplace=True)\n",
      "    df = df.join(GL_df)\n",
      "    return df\n",
      "\n",
      "\n",
      "def allele_col_formatting(df, al_col):\n",
      "    df[al_col + \"_1\"] = [int(i.split(\",\")[0]) if i.split(\",\")[0] != \".\" else -999 for i in df[al_col]]\n",
      "    df[al_col + \"_2\"] = [int(i.split(\",\")[1]) if i.split(\",\")[1] != \".\" else -999 for i in df[al_col]]\n",
      "    return df\n",
      "\n",
      "\n",
      "def categ_formatting(df, cat_col):\n",
      "    temp_dummies = pd.get_dummies(df[cat_col], prefix=cat_col)\n",
      "    df = df.join(temp_dummies, how='left')\n",
      "    return df\n",
      "\n",
      "\n",
      "\n"
     ],
     "language": "python",
     "metadata": {},
     "outputs": [],
     "prompt_number": 8
    },
    {
     "cell_type": "code",
     "collapsed": false,
     "input": [
      "def preprocess_vcf_line(df):\n",
      "    '''\n",
      "    This function annotates vcf variants with\n",
      "    phase, allele1 base call, allele2 base call, \n",
      "    multiallele, vartype\n",
      "    '''\n",
      "    \n",
      "    discard_vars = ['<INS:ME:ALU>', '<INS:ME:L1>','<CGA_CNVWIN>','<INS:ME:SVA>']  #ignore CNVs and repeats\n",
      "    df = df[~df.ALT.isin(discard_vars)] \n",
      "\n",
      "    \n",
      "    df['phase'] = df.apply(get_phase, args=['GT'], axis=1)  #get phase\n",
      "    df = df[df.phase != \"-\"]  #likley occurs at sex chromosome sites\n",
      "    df['a1'] = df.apply(get_allele, args=['GT','phase', 0], axis=1)  #get allele1 base seq\n",
      "    df['a2'] = df.apply(get_allele, args=['GT','phase', 1], axis=1)  #get allele2 base seq\n",
      "    df['multiallele'] = df.ALT.map(lambda x: 1 if \",\" in x else 0)  #1 is more than 1 alt allele, 0 else\n",
      "    df['zygosity'] = df.apply(zygosity, axis=1)  #get zygosity: hom-ref, het-ref, hom-alt, het-alt\n",
      "    df['vartype1'] = df.apply(vartype, args=['a1'], axis=1)  #vartype for allele1: snp, mnp, insertion, deletion, sv\n",
      "    df['vartype2'] = df.apply(vartype, args=['a2'], axis=1)  #vartype for allele2: snp, mnp, insertion, deletion, sv\n",
      "    \n",
      "    df = df[(df.vartype1 != 'sv') & (df.vartype2 != 'sv')]  #ignore structural variants\n",
      "    \n",
      "    df['AD'].fillna(value='0,0', inplace=True)  #fill missing allelic depth with 0,0 reads\n",
      "    df['ref_read_depth'] = df.apply(ref_read_depth, axis=1)  #get number of reads supporting the reference allele\n",
      "    \n",
      "    \n",
      "    return df"
     ],
     "language": "python",
     "metadata": {},
     "outputs": [],
     "prompt_number": 9
    },
    {
     "cell_type": "code",
     "collapsed": false,
     "input": [
      "def transform_features(df, index_features, allele_features, binary_features, categorical_features, geno_features, numeric_features):\n",
      "    \n",
      "    df.set_index(index_features, inplace=True)\n",
      "    \n",
      "    #FORMATTING ALLELE-SPECIFIC FEATURES\n",
      "    df_allele = df[allele_features]\n",
      "    for a_cols in allele_features:\n",
      "        df_allele = allele_col_formatting(df_allele, a_cols)\n",
      "        del df_allele[a_cols]\n",
      "        \n",
      "    \n",
      "    #FORMATTING BINARY FEATURES\n",
      "    df_binary = df[binary_features]\n",
      "    for b in binary_features:\n",
      "        df_binary[b].fillna(value=0,inplace=True)\n",
      "        df_binary[b] = df_binary[b].map(lambda x: 1 if x!=0 else 0)\n",
      "        \n",
      "\n",
      "    #FORMATTING CATEGORICAL FEATURES\n",
      "    df_categ = df[categorical_features]\n",
      "    for c in categorical_features:\n",
      "        df_categ = categ_formatting(df_categ, c)\n",
      "        del df_categ[c]\n",
      "        \n",
      "        \n",
      "    #FORMATTING GENOTYPE FEATURES\n",
      "    df_geno = df[geno_features]\n",
      "    for g_cols in geno_features:\n",
      "        df_geno = multiallele_GL_formatting(df_geno, g_cols)\n",
      "        del df_geno[g_cols]\n",
      "        \n",
      "    \n",
      "    #FORMATTING NUMERIC FEATURES\n",
      "    df_numeric = df[numeric_features]\n",
      "    for n in numeric_features:\n",
      "        df_numeric[n] = df_numeric[n].astype(float)\n",
      "        \n",
      "    \n",
      "    \n",
      "    \n",
      "    #JOIN FORMATTED DATAFRAMES\n",
      "    df_train = df_numeric.join([df_categ, df_geno, df_allele, df_binary])\n",
      "    \n",
      "    return df_train"
     ],
     "language": "python",
     "metadata": {},
     "outputs": [],
     "prompt_number": 10
    },
    {
     "cell_type": "code",
     "collapsed": false,
     "input": [
      "def numeric_scaling(df, numeric_cols):\n",
      "    \n",
      "    df_scaled = df.copy()\n",
      "    df_scaled = df_scaled[numeric_cols]\n",
      "    \n",
      "    scaler = preprocessing.StandardScaler().fit(df_scaled)\n",
      "    df_scaled = pd.DataFrame( scaler.transform(df_scaled) )\n",
      "    df_scaled.columns = numeric_cols\n",
      "    df_scaled.index = df.index\n",
      "    \n",
      "    non_numeric_cols = [c for c in df.columns if c not in numeric_cols]\n",
      "    \n",
      "    df_scaled = df_scaled.join(df[non_numeric_cols])\n",
      "    \n",
      "    return df_scaled, scaler"
     ],
     "language": "python",
     "metadata": {},
     "outputs": [],
     "prompt_number": 11
    },
    {
     "cell_type": "code",
     "collapsed": false,
     "input": [
      "def get_autosome_vars(df):\n",
      "    autosome_chroms = range(1,23)\n",
      "    df = df[df.CHROM.isin(autosome_chroms)]\n",
      "    return df"
     ],
     "language": "python",
     "metadata": {},
     "outputs": [],
     "prompt_number": 12
    },
    {
     "cell_type": "heading",
     "level": 3,
     "metadata": {},
     "source": [
      "The following code has already been run and the results from this processing are in the next code block"
     ]
    },
    {
     "cell_type": "code",
     "collapsed": false,
     "input": [
      "training_set.columns"
     ],
     "language": "python",
     "metadata": {},
     "outputs": [
      {
       "ename": "NameError",
       "evalue": "name 'training_set' is not defined",
       "output_type": "pyerr",
       "traceback": [
        "\u001b[0;31m---------------------------------------------------------------------------\u001b[0m\n\u001b[0;31mNameError\u001b[0m                                 Traceback (most recent call last)",
        "\u001b[0;32m<ipython-input-13-15ab2679d153>\u001b[0m in \u001b[0;36m<module>\u001b[0;34m()\u001b[0m\n\u001b[0;32m----> 1\u001b[0;31m \u001b[0mtraining_set\u001b[0m\u001b[0;34m.\u001b[0m\u001b[0mcolumns\u001b[0m\u001b[0;34m\u001b[0m\u001b[0m\n\u001b[0m",
        "\u001b[0;31mNameError\u001b[0m: name 'training_set' is not defined"
       ]
      }
     ],
     "prompt_number": 13
    },
    {
     "cell_type": "code",
     "collapsed": false,
     "input": [
      "# #PREVIOUSLY PROCESSED NEXT CODE BLOCK SHOWS PATH TO FILE\n",
      "\n",
      "# #Setting Features and Types for Training Data Set\n",
      "# index_features = ['CHROM', 'POS', 'REF', 'ALT']\n",
      "\n",
      "# allele_features = ['HQ', 'EHQ', 'CGA_CEHQ', 'AD']\n",
      "# binary_features = ['CGA_XR', 'CGA_RPT', 'multiallele']\n",
      "# categorical_features = ['FT', 'vartype1', 'vartype2', 'phase', 'zygosity']\n",
      "# geno_features = ['GL', 'CGA_CEGL']\n",
      "# numeric_features = ['CGA_SDO', 'GQ', 'DP', 'CGA_RDP']\n",
      "\n",
      "\n",
      "# #Remove sex chromosome variants\n",
      "# fp = get_autosome_vars(fp)\n",
      "# tp = get_autosome_vars(tp)\n",
      "\n",
      "\n",
      "# #Pre-processing False Positive Variants\n",
      "# fp = preprocess_vcf_line(fp)\n",
      "# fp_train = transform_features(fp, index_features, allele_features, binary_features, categorical_features, geno_features, numeric_features)\n",
      "# fp_train = fp_train[fp_train['DP'] > 0]  #removing variants without any read support\n",
      "# fp_truth = fp_train[['HQ_1']]\n",
      "# fp_truth['HQ_1'] = 0\n",
      "# fp_truth.columns = ['truth']\n",
      "\n",
      "# #Pre-processing True Positive Variants\n",
      "# tp = preprocess_vcf_line(tp)\n",
      "# tp_train = transform_features(tp, index_features, allele_features, binary_features, categorical_features, geno_features, numeric_features)\n",
      "# tp_train = tp_train[tp_train['DP'] > 0]\n",
      "# tp_truth = tp_train[['HQ_1']]\n",
      "# tp_truth['HQ_1'] = 1\n",
      "# tp_truth.columns = ['truth']\n",
      "\n",
      "\n",
      "# #FINAL PRE-PROCESSING FOR TRAINING DATA SET\n",
      "# training_set = tp_train.append(fp_train) \n",
      "\n",
      "# #REMOVE HALF CALLS\n",
      "# if 'zygosity_het-miss' in training_set.columns:\n",
      "#     training_set = training_set[training_set['zygosity_het-miss']!=1]\n",
      "# if 'zygosity_hom-miss' in training_set.columns:\n",
      "#     training_set = training_set[training_set['zygosity_hom-miss']!=1]\n",
      "\n",
      "\n",
      "# #remove variants with zero a1 and a2 read depths\n",
      "# training_set = training_set[(training_set.AD_1 > 0) | (training_set.AD_2 > 0)]\n",
      "\n",
      "\n",
      "# #multiprocess allelic_imbal stats\n",
      "# training_set['AD_1'].replace(to_replace=-999, value=0, inplace=True)\n",
      "# training_set['AD_2'].replace(to_replace=-999, value=0, inplace=True)\n",
      "# pool = mp.Pool(6)\n",
      "# tasks = training_set[['AD_1', 'AD_2']].values\n",
      "# allele_imbalance_pval = []\n",
      "# r = pool.map_async(binom_deviance_mp, tasks, callback=allele_imbalance_pval.extend)\n",
      "# r.wait()\n",
      "# pool.close()\n",
      "# training_set['allelic_imbal'] = allele_imbalance_pval\n",
      "\n",
      "# #fill CGA_SDO and GQ \n",
      "# training_set.CGA_SDO.fillna(value=0, inplace=True)\n",
      "# training_set.GQ.fillna(value=-999, inplace=True)\n",
      "\n",
      "#numeric scaling\n",
      "# numeric_cols = ['HQ_1', 'HQ_2', 'EHQ_1', 'EHQ_2', 'CGA_CEHQ_1', 'CGA_CEHQ_2', 'AD_1', 'AD_2', 'CGA_SDO', 'GQ', 'DP', 'CGA_RDP', 'allelic_imbal']\n",
      "# training_set_scaled, scaler = numeric_scaling(training_set, numeric_cols)\n",
      "# training_truth = tp_truth.append(fp_truth)\n",
      "\n",
      "# #WRITING PRE-PROCESED TRAINING DATA SET TO FILE\n",
      "# training_set = training_set.join(training_truth)\n",
      "# training_set_scaled = training_set_scaled.join(training_truth)\n",
      "\n",
      "# #WRITING TO FILE\n",
      "# outfile = NA12877_training_data_dir+'NA12877_CGvsRTGphasingPHRdropped_NISThigconfid_training_features_allelImbal.tsv'\n",
      "# training_set.to_csv(outfile, sep=\"\\t\") \n",
      "\n",
      "# outfile_scaled = NA12877_training_data_dir+'NA12877_CGvsRTGphasingPHRdropped_NISThigconfid_training_features_allelImbal_SCALED.tsv'\n",
      "# training_set_scaled.to_csv(outfile_scaled, sep=\"\\t\") \n",
      "\n",
      "# cPickle.dump(scaler, open(NA12877_training_data_dir+'NA12877_CGvsRTGphasingPHRdropped_NISThigconfid_training_features_scaled_allelImbal_SCALER.pkl','w'))\n",
      "# !gzip $outfile\n",
      "# !gzip $outfile_scaled\n",
      "\n",
      "# tp['truth'] = 1\n",
      "# fp['truth'] = 0\n",
      "\n",
      "# tp_fp_path = NA12877_training_data_dir+'NA12877_CGvsRTGphasingPHRdropped_NISThigconfid_untransformed_features.tsv'\n",
      "# tp_fp_path_gz = tp_fp_path+\".gz\"\n",
      "# tp_fp = tp.append(fp)\n",
      "# tp_fp.to_csv(tp_fp_path,sep=\"\\t\")\n",
      "# !bgzip $tp_fp_path\n"
     ],
     "language": "python",
     "metadata": {},
     "outputs": [],
     "prompt_number": 22
    },
    {
     "cell_type": "heading",
     "level": 1,
     "metadata": {},
     "source": [
      "NOTE: PREPROCESSING INTERACTIVELY PRODUCES DIFFERENT dtypes COMPARED TO READING THE PREPROCESSED FILES INTO PANDAS, \n",
      "THEREFORE WE MUST EITHER SPECIFY THE dtype TO CONVERT OBJECT TO INT64 INTERACTIVELY OR WE MUST ALWAYS WRITE THE PREPROCESSED\n",
      "DATAFRAME TO FILE AND THEN READ IT IN BEFORE TRAINING/PREDICTING"
     ]
    },
    {
     "cell_type": "heading",
     "level": 3,
     "metadata": {},
     "source": [
      "Complete Genomics Variants vcfeval representation with NIST truth"
     ]
    },
    {
     "cell_type": "code",
     "collapsed": false,
     "input": [
      "training_set_scaled.columns"
     ],
     "language": "python",
     "metadata": {},
     "outputs": [
      {
       "metadata": {},
       "output_type": "pyout",
       "prompt_number": 21,
       "text": [
        "Index([u'HQ_1', u'HQ_2', u'EHQ_1', u'EHQ_2', u'CGA_CEHQ_1', u'CGA_CEHQ_2', u'AD_1', u'AD_2', u'CGA_SDO', u'GQ', u'DP', u'CGA_RDP', u'allelic_imbal', u'AA_CGA_CEGL', u'AA_GL', u'AB_CGA_CEGL', u'AB_GL', u'AC_CGA_CEGL', u'AC_GL', u'BB_CGA_CEGL', u'BB_GL', u'BC_CGA_CEGL', u'BC_GL', u'CC_CGA_CEGL', u'CC_GL', u'CGA_RPT', u'CGA_XR', u'FT_PASS', u'FT_VQLOW', u'multiallele', u'phase_/', u'phase_|', u'vartype1_del', u'vartype1_ins', u'vartype1_mnp', u'vartype1_ref', u'vartype1_snp', u'vartype2_del', u'vartype2_ins', u'vartype2_mnp', u'vartype2_ref', u'vartype2_snp', u'zygosity_het-alt', u'zygosity_het-miss', u'zygosity_het-ref', u'zygosity_hom-alt'], dtype='object')"
       ]
      }
     ],
     "prompt_number": 21
    },
    {
     "cell_type": "code",
     "collapsed": false,
     "input": [
      "#Reading In Pre-processed Training Data Set NA12877\n",
      "outfile = NA12877_training_data_dir+'NA12877_CGvsRTGphasingPHRdropped_NISThigconfid_training_features_allelImbal.tsv'   \n",
      "training_set = pd.read_table(outfile+\".gz\",sep=\"\\t\",compression='gzip')                 \n",
      "training_set.set_index(['CHROM', 'POS', 'REF', 'ALT'],inplace=True)\n",
      "\n",
      "#SCALE DATA\n",
      "scaler = cPickle.load(open(NA12877_training_data_dir+'NA12877_CGvsRTGphasingPHRdropped_NISThigconfid_training_features_scaled_allelImbal_SCALER.pkl','r'))  \n",
      "\n",
      "#numeric_cols = ['HQ_1', 'HQ_2', 'EHQ_1', 'EHQ_2', 'CGA_CEHQ_1', 'CGA_CEHQ_2', 'AD_1', 'AD_2', 'CGA_SDO', 'GQ', 'DP', 'CGA_RDP', 'allelic_imbal']\n",
      "#training_set_scaled = \n",
      "\n",
      "\n",
      "training_truth = training_set[['truth']]\n",
      "del training_set['truth']\n",
      "training_set['zygosity_het-miss'].fillna(value=0,inplace=True)\n",
      "\n",
      "\n"
     ],
     "language": "python",
     "metadata": {},
     "outputs": [],
     "prompt_number": 22
    },
    {
     "cell_type": "code",
     "collapsed": false,
     "input": [
      "# fp = pd.read_table('/Users/ers_vader/git_data/cg_classifier/NA12878/gemini/CGvsNISTall/fp.vcf.gz',sep=\"\\t\",usecols=['#CHROM', 'POS', 'REF', 'ALT'] ,compression='gzip',skiprows=117)    \n",
      "# fp['CHROM'] = fp['#CHROM']\n",
      "# del fp['#CHROM']\n",
      "# fp.set_index(['CHROM', 'POS', 'REF', 'ALT'], inplace=True)\n",
      "# fp['truth'] = 0\n",
      "\n",
      "# training_set = training_set.join(fp, how='left')\n",
      "# training_set['truth'].fillna(value=1,inplace=True)\n",
      "\n",
      "# training_truth = training_set[['truth']]\n",
      "# del training_set['truth']"
     ],
     "language": "python",
     "metadata": {},
     "outputs": [],
     "prompt_number": 13
    },
    {
     "cell_type": "heading",
     "level": 3,
     "metadata": {},
     "source": [
      "Small Random Sample of Autosome Variants in Training Data"
     ]
    },
    {
     "cell_type": "code",
     "collapsed": false,
     "input": [
      "def get_random_sample_df(training_df, training_truth, num_tp, num_fp=0, remove_indices_set=set()):\n",
      "    '''\n",
      "    This function returns a random sample from the dataframe disjoint \n",
      "    from the remove_indices_set.  The training_df and the training_truth must\n",
      "    have identical df indices,\n",
      "    '''\n",
      "\n",
      "    assert type(remove_indices_set) == set\n",
      "    if num_fp != 0:\n",
      "        tp_indices = training_truth[training_truth.truth==1].index\n",
      "        fp_indices = training_truth[training_truth.truth==0].index\n",
      "        assert len( set(tp_indices) & set(fp_indices)) ==0  #sanity check, a variant should not be in fp and tp\n",
      "       \n",
      "        tp_indices = set(tp_indices) - remove_indices_set\n",
      "        fp_indices = set(fp_indices) - remove_indices_set\n",
      "        \n",
      "        random_sample_tp = random.sample(tp_indices, num_tp)  #random sample\n",
      "        random_sample_fp = random.sample(fp_indices, num_fp)\n",
      "        assert len( set(random_sample_tp) & set(random_sample_fp)) ==0  #sanity check, a variant should not be in fp and tp\n",
      "        random_sample = set(random_sample_tp) | set(random_sample_fp)\n",
      "\n",
      "        print len(random_sample), 'random tp+fp sample size'\n",
      "\n",
      "        return training_df[training_df.index.isin(random_sample)], training_truth[training_truth.index.isin(random_sample)]\n",
      "\n",
      "    random_indices = random.sample(training_truth.index, num_tp)\n",
      "    return training_df[training_df.index.isin(random_indices)], training_truth[training_truth.index.isin(random_indices)]"
     ],
     "language": "python",
     "metadata": {},
     "outputs": [],
     "prompt_number": 31
    },
    {
     "cell_type": "code",
     "collapsed": false,
     "input": [
      "zygosity_cols = [i for i in training_set.columns if 'zygosity' in i]\n",
      "training_set[zygosity_cols].sum().plot(kind='pie')"
     ],
     "language": "python",
     "metadata": {},
     "outputs": [
      {
       "metadata": {},
       "output_type": "pyout",
       "prompt_number": 23,
       "text": [
        "<matplotlib.axes.AxesSubplot at 0x129912090>"
       ]
      },
      {
       "metadata": {},
       "output_type": "display_data",
       "png": "[encoded data removed]",
       "text": [
        "<matplotlib.figure.Figure at 0x129912290>"
       ]
      }
     ],
     "prompt_number": 23
    },
    {
     "cell_type": "code",
     "collapsed": false,
     "input": [
      "training_set_indels = training_set[(training_set.vartype1_ins==1) | (training_set.vartype2_ins==1) | (training_set.vartype1_del==1) | (training_set.vartype2_del==1)]   \n",
      "                                    "
     ],
     "language": "python",
     "metadata": {},
     "outputs": [],
     "prompt_number": 26
    },
    {
     "cell_type": "code",
     "collapsed": false,
     "input": [
      "training_truth_indels = training_truth[training_truth.index.isin(training_set_indels.index)]\n",
      "training_truth_indels['truth'].value_counts()"
     ],
     "language": "python",
     "metadata": {},
     "outputs": [
      {
       "metadata": {},
       "output_type": "pyout",
       "prompt_number": 32,
       "text": [
        "1    258074\n",
        "0     27103\n",
        "dtype: int64"
       ]
      }
     ],
     "prompt_number": 32
    },
    {
     "cell_type": "code",
     "collapsed": false,
     "input": [
      "\n",
      "training_set_indels_random, training_truth_indels_random = get_random_sample_df(training_set_indels, training_truth_indels, 150000)\n",
      "training_truth_indels_random.truth.value_counts()\n",
      "\n"
     ],
     "language": "python",
     "metadata": {},
     "outputs": [
      {
       "metadata": {},
       "output_type": "pyout",
       "prompt_number": 33,
       "text": [
        "1    135603\n",
        "0     14397\n",
        "dtype: int64"
       ]
      }
     ],
     "prompt_number": 33
    },
    {
     "cell_type": "code",
     "collapsed": false,
     "input": [
      "training_set_indels_random[zygosity_cols].sum().plot(kind='pie')"
     ],
     "language": "python",
     "metadata": {},
     "outputs": [
      {
       "metadata": {},
       "output_type": "pyout",
       "prompt_number": 34,
       "text": [
        "<matplotlib.axes.AxesSubplot at 0x10b4cfed0>"
       ]
      },
      {
       "metadata": {},
       "output_type": "display_data",
       "png": "[encoded data removed]",
       "text": [
        "<matplotlib.figure.Figure at 0x10b4cf890>"
       ]
      }
     ],
     "prompt_number": 34
    },
    {
     "cell_type": "heading",
     "level": 2,
     "metadata": {},
     "source": [
      "TESTING RF Data NA12878"
     ]
    },
    {
     "cell_type": "heading",
     "level": 3,
     "metadata": {},
     "source": [
      "The following code has already been run and the results from this processing are in the next code block"
     ]
    },
    {
     "cell_type": "code",
     "collapsed": false,
     "input": [
      "NA12878_data_path = '/Users/ers_vader/git_data/cg_classifier/CG/NA12878/CGvsNISTAllannotateNISThighconfid/'\n",
      "\n",
      "\n",
      "test_set = pd.read_table(NA12878_data_path+'NA12878_CGvsNISTAllannotateHighconfid_training_features_allelImbal.tsv.gz',sep=\"\\t\",compression='gzip')\n",
      "test_set.set_index(['CHROM','POS','REF','ALT'],inplace=True)\n",
      "test_truth = test_set[['truth']]\n",
      "del test_set['truth']\n",
      "test_set['zygosity_het-miss'].fillna(value=0,inplace=True)\n",
      "\n",
      "test_set_indels = test_set[(test_set.vartype1_ins==1) | (test_set.vartype2_ins==1) | (test_set.vartype1_del==1) | (test_set.vartype2_del==1)]   \n",
      "  \n"
     ],
     "language": "python",
     "metadata": {},
     "outputs": [],
     "prompt_number": 35
    },
    {
     "cell_type": "code",
     "collapsed": false,
     "input": [
      "test_set_indels = test_set[(test_set.vartype1_ins==1) | (test_set.vartype2_ins==1) | (test_set.vartype1_del==1) | (test_set.vartype2_del==1)]   \n",
      "test_truth_indels = test_truth[test_truth.index.isin(test_set_indels.index)]\n"
     ],
     "language": "python",
     "metadata": {},
     "outputs": [],
     "prompt_number": 53
    },
    {
     "cell_type": "heading",
     "level": 2,
     "metadata": {},
     "source": [
      "Standardization & Centering Testing and Training Data"
     ]
    },
    {
     "cell_type": "code",
     "collapsed": false,
     "input": [
      "# from sklearn import preprocessing\n",
      "# numeric_cols = ['HQ_1', 'HQ_2', 'EHQ_1', 'EHQ_2', 'CGA_CEHQ_1', 'CGA_CEHQ_2', 'AD_1', 'AD_2', 'CGA_SDO', 'GQ', 'DP', 'CGA_RDP', 'allele_imbal']\n",
      "# training_set_random_scaled = training_set_random.copy()\n",
      "# training_set_random_scaled = training_set_random_scaled[numeric_cols]\n",
      "\n",
      "# scaler = preprocessing.StandardScaler().fit(training_set_random_scaled)\n",
      "# training_set_random_scaled = pd.DataFrame( scaler.transform(training_set_random_scaled) )\n",
      "# training_set_random_scaled.columns = numeric_cols\n",
      "# training_set_random_scaled.index = training_set_random.index\n",
      "\n",
      "\n",
      "\n",
      "# non_numeric_cols = [c for c in training_set_random.columns if c not in numeric_cols]\n",
      "\n",
      "# training_set_random_scaled = training_set_random_scaled.join(training_set_random[non_numeric_cols])\n",
      "\n",
      "\n",
      "\n",
      "\n",
      "# #TRAINING SET 2\n",
      "# training_set_random_scaled2 = training_set_random2.copy()\n",
      "# training_set_random_scaled2 = training_set_random_scaled2[numeric_cols]\n",
      "\n",
      "\n",
      "# training_set_random_scaled2 = pd.DataFrame( scaler.transform(training_set_random_scaled2) )\n",
      "# training_set_random_scaled2.columns = numeric_cols\n",
      "# training_set_random_scaled2.index = training_set_random2.index\n",
      "\n",
      "\n",
      "\n",
      "# non_numeric_cols = [c for c in training_set_random2.columns if c not in numeric_cols]\n",
      "\n",
      "# training_set_random_scaled2 = training_set_random_scaled2.join(training_set_random2[non_numeric_cols])\n",
      "\n",
      "\n",
      "\n",
      "\n"
     ],
     "language": "python",
     "metadata": {},
     "outputs": [],
     "prompt_number": 40
    },
    {
     "cell_type": "code",
     "collapsed": false,
     "input": [
      "\n",
      "\n",
      "# numeric_cols = ['HQ_1', 'HQ_2', 'EHQ_1', 'EHQ_2', 'CGA_CEHQ_1', 'CGA_CEHQ_2', 'AD_1', 'AD_2', 'CGA_SDO', 'GQ', 'DP', 'CGA_RDP']\n",
      "# test_set_random_scaled = test_set_random.copy()\n",
      "# test_set_random_scaled = test_set_random_scaled[numeric_cols]\n",
      "\n",
      "# test_set_random_scaled = pd.DataFrame(scaler.transform(test_set_random_scaled))\n",
      "\n",
      "# test_set_random_scaled.columns = numeric_cols\n",
      "# test_set_random_scaled.index = test_set_random.index\n",
      "\n",
      "# non_numeric_cols = [c for c in test_set_random.columns if c not in numeric_cols]\n",
      "\n",
      "# test_set_random_scaled = test_set_random_scaled.join(test_set_random[non_numeric_cols])"
     ],
     "language": "python",
     "metadata": {},
     "outputs": [],
     "prompt_number": 333
    },
    {
     "cell_type": "heading",
     "level": 2,
     "metadata": {},
     "source": [
      "TESTING MODEL CONVENIENCE FUNCTION"
     ]
    },
    {
     "cell_type": "code",
     "collapsed": false,
     "input": [
      "def get_fp_tp_predictions(test_df, test_truth, model):\n",
      "    \n",
      "    fp = test_df.ix[test_truth[test_truth.truth==0].index]\n",
      "    tp = test_df.ix[~test_df.index.isin(fp.index)]\n",
      "    \n",
      "    predictions = model.predict(fp)\n",
      "    fp['predictions'] = predictions\n",
      "    fp['truth'] = test_truth.ix[fp.index]\n",
      "    \n",
      "    predictions = model.predict(tp)\n",
      "    tp['predictions'] = predictions\n",
      "    tp['truth'] = test_truth.ix[tp.index]\n",
      "    \n",
      "    return fp, tp\n",
      "\n",
      "#fp,tp = get_fp_tp_predictions(test_set, test_truth, clf1)  #USAGE\n",
      "#print fp.predictions.value_counts()\n",
      "#print tp.predictions.value_counts()"
     ],
     "language": "python",
     "metadata": {},
     "outputs": [],
     "prompt_number": 41
    },
    {
     "cell_type": "heading",
     "level": 2,
     "metadata": {},
     "source": [
      "Feature Set"
     ]
    },
    {
     "cell_type": "code",
     "collapsed": false,
     "input": [
      "feature_set_file = open('/Users/ers_vader/git_data/cg_classifier/models/NA12877_trained_models/20140802/allFeatures/feature_set1.txt','w')\n",
      "\n",
      "feature_set_file.write('\\n'.join(training_set_indels_random.columns))\n",
      "feature_set_file.flush()\n",
      "feature_set_file.close()"
     ],
     "language": "python",
     "metadata": {},
     "outputs": [],
     "prompt_number": 194
    },
    {
     "cell_type": "code",
     "collapsed": false,
     "input": [
      "training_set_indels_random.columns"
     ],
     "language": "python",
     "metadata": {},
     "outputs": [
      {
       "metadata": {},
       "output_type": "pyout",
       "prompt_number": 195,
       "text": [
        "Index([u'AA_CGA_CEGL', u'AA_GL', u'AB_CGA_CEGL', u'AB_GL', u'AC_CGA_CEGL', u'AC_GL', u'AD_1', u'AD_2', u'BB_CGA_CEGL', u'BB_GL', u'BC_CGA_CEGL', u'BC_GL', u'CC_CGA_CEGL', u'CC_GL', u'CGA_CEHQ_1', u'CGA_CEHQ_2', u'CGA_RDP', u'CGA_RPT', u'CGA_SDO', u'DP', u'EHQ_1', u'EHQ_2', u'FT_PASS', u'FT_VQLOW', u'GQ', u'HQ_1', u'HQ_2', u'multiallele', u'phase_/', u'phase_|', u'vartype1_del', u'vartype1_ins', u'vartype1_mnp', u'vartype1_ref', u'vartype1_snp', u'vartype2_del', u'vartype2_ins', u'vartype2_mnp', u'vartype2_ref', u'vartype2_snp', u'zygosity_het-alt', u'zygosity_het-miss', u'zygosity_het-ref', u'zygosity_hom-alt', u'allelic_imbal'], dtype='object')"
       ]
      }
     ],
     "prompt_number": 195
    },
    {
     "cell_type": "heading",
     "level": 3,
     "metadata": {},
     "source": [
      "Allelic Imbalance AUC"
     ]
    },
    {
     "cell_type": "code",
     "collapsed": false,
     "input": [
      "#AUC FOR JUST ALLELEIC IMBALANCE\n",
      "from sklearn import metrics\n",
      "y = training_truth_indels_random['truth']\n",
      "pred = training_set_indels_random.allelic_imbal\n",
      "fpr, tpr, thresholds = metrics.roc_curve(y, pred, pos_label=1)\n",
      "print 'AUC:', metrics.auc(fpr, tpr)\n",
      "\n"
     ],
     "language": "python",
     "metadata": {},
     "outputs": [
      {
       "output_type": "stream",
       "stream": "stdout",
       "text": [
        "AUC: 0.792516294892\n"
       ]
      }
     ],
     "prompt_number": 43
    },
    {
     "cell_type": "code",
     "collapsed": false,
     "input": [
      "# del training_set_random['allelic_imbal']\n",
      "# del test_set_random['allelic_imbal']"
     ],
     "language": "python",
     "metadata": {},
     "outputs": [],
     "prompt_number": 77
    },
    {
     "cell_type": "heading",
     "level": 1,
     "metadata": {},
     "source": [
      "TRAINING LOGISTIC REGRESSION MODEL"
     ]
    },
    {
     "cell_type": "code",
     "collapsed": false,
     "input": [
      "training_truth_indels_random.to_csv('/Users/ers_vader/git_data/cg_classifier/models/NA12877_trained_models/20140802/allFeatures/NA12877_randomly_selected_training_variants.txt',sep=\"\\t\")       \n",
      "\n"
     ],
     "language": "python",
     "metadata": {},
     "outputs": [],
     "prompt_number": 131
    },
    {
     "cell_type": "code",
     "collapsed": false,
     "input": [
      "del training_set_indels_random['CGA_XR']\n",
      "\n",
      "from sklearn import linear_model\n",
      "lm = linear_model.LogisticRegression(penalty='l1',C=1)\n",
      "lm_train = lm.fit(training_set_indels_random, training_truth_indels_random.values)\n"
     ],
     "language": "python",
     "metadata": {},
     "outputs": [
      {
       "output_type": "stream",
       "stream": "stderr",
       "text": [
        "//anaconda/lib/python2.7/site-packages/sklearn/preprocessing/label.py:124: DataConversionWarning: A column-vector y was passed when a 1d array was expected. Please change the shape of y to (n_samples, ), for example using ravel().\n",
        "  y = column_or_1d(y, warn=True)\n"
       ]
      }
     ],
     "prompt_number": 48
    },
    {
     "cell_type": "code",
     "collapsed": false,
     "input": [
      "import cPickle\n",
      "#cPickle.dump(lm_train, open('/gpfs/home/erscott/Datasets_raw/PlatinumGenomes/NA12877/NA12877_phasing/classifier_models/NA12877_preprocessed_training_set_LogReg_model_l2_C1_autosomes.pkl','w'))   \n",
      "cPickle.dump(lm_train, open('/Users/ers_vader/git_data/cg_classifier/models/NA12877_trained_models/20140802/NA12877_preprocessed_training_set_LogReg_model_l2_C1_autosomes_INDELS.pkl','w'))   "
     ],
     "language": "python",
     "metadata": {},
     "outputs": [],
     "prompt_number": 49
    },
    {
     "cell_type": "code",
     "collapsed": false,
     "input": [
      "#Coefficients for SCALED DATA\n",
      "zip(training_set_indels_random.columns, lm_train.coef_[0])"
     ],
     "language": "python",
     "metadata": {},
     "outputs": [
      {
       "metadata": {},
       "output_type": "pyout",
       "prompt_number": 50,
       "text": [
        "[('AA_CGA_CEGL', -0.0058165516494849039),\n",
        " ('AA_GL', 0.0018155094106881505),\n",
        " ('AB_CGA_CEGL', 0.020916029924366863),\n",
        " ('AB_GL', -0.0035120302547586627),\n",
        " ('AC_CGA_CEGL', -0.00012251569070607604),\n",
        " ('AC_GL', 0.0012538585738915611),\n",
        " ('AD_1', 0.01863853520617182),\n",
        " ('AD_2', -0.010735190250986588),\n",
        " ('BB_CGA_CEGL', -0.029798848946715036),\n",
        " ('BB_GL', 0.0053633881024156803),\n",
        " ('BC_CGA_CEGL', -0.00046428846444176173),\n",
        " ('BC_GL', -0.00068917805006079701),\n",
        " ('CC_CGA_CEGL', 0.00044098284977891295),\n",
        " ('CC_GL', 0.0013361837494030369),\n",
        " ('CGA_CEHQ_1', 0.047890202475283701),\n",
        " ('CGA_CEHQ_2', 0.038915798893592153),\n",
        " ('CGA_RDP', -0.0092417670216226929),\n",
        " ('CGA_RPT', -0.27323286042678313),\n",
        " ('CGA_SDO', -0.007034197626336074),\n",
        " ('DP', 0.013651537827666951),\n",
        " ('EHQ_1', 0.022840510536949712),\n",
        " ('EHQ_2', 0.019427255255486914),\n",
        " ('FT_PASS', 0.17826767266803728),\n",
        " ('FT_VQLOW', -0.44849212493351387),\n",
        " ('GQ', 0.0020454434615081118),\n",
        " ('HQ_1', -0.02087449926741972),\n",
        " ('HQ_2', -0.017020341573420614),\n",
        " ('multiallele', -0.93360653678703542),\n",
        " ('phase_/', 0.30925966338487693),\n",
        " ('phase_|', -0.41517467553930903),\n",
        " ('vartype1_del', 0.6996706080796814),\n",
        " ('vartype1_ins', 0.0),\n",
        " ('vartype1_mnp', 0.16828880348678946),\n",
        " ('vartype1_ref', -0.006391541517914592),\n",
        " ('vartype1_snp', -0.019456081275472398),\n",
        " ('vartype2_del', 0.0),\n",
        " ('vartype2_ins', 0.24376021067414455),\n",
        " ('vartype2_mnp', -0.18250500620844376),\n",
        " ('vartype2_ref', 0.22644914044551992),\n",
        " ('vartype2_snp', -0.30850690395066394),\n",
        " ('zygosity_het-alt', -0.77740048218502322),\n",
        " ('zygosity_het-miss', 0.0),\n",
        " ('zygosity_het-ref', 0.0),\n",
        " ('zygosity_hom-alt', 0.32021943246194146),\n",
        " ('allelic_imbal', 0.9476054431797617)]"
       ]
      }
     ],
     "prompt_number": 50
    },
    {
     "cell_type": "code",
     "collapsed": false,
     "input": [
      "#Random sample of 150k indels, all features minus CGA-XR\n",
      "lm_train_scaled_coeff = pd.Series(lm_train.coef_[0])\n",
      "lm_train_scaled_coeff.index = training_set_indels_random.columns\n",
      "lm_train_scaled_coeff.plot(kind='bar', figsize = (20,5), color='cyan')"
     ],
     "language": "python",
     "metadata": {},
     "outputs": [
      {
       "metadata": {},
       "output_type": "pyout",
       "prompt_number": 51,
       "text": [
        "<matplotlib.axes.AxesSubplot at 0x148ab6dd0>"
       ]
      },
      {
       "metadata": {},
       "output_type": "display_data",
       "png": "[encoded data removed]",
       "text": [
        "<matplotlib.figure.Figure at 0x16404d810>"
       ]
      }
     ],
     "prompt_number": 51
    },
    {
     "cell_type": "code",
     "collapsed": false,
     "input": [
      "#Random sample of 150k indels, all features minus CGA-XR\n",
      "test_set_score = test_set_indels[training_set_indels_random.columns]\n",
      "lm_train.score(test_set_score, test_truth_indels)"
     ],
     "language": "python",
     "metadata": {},
     "outputs": [
      {
       "metadata": {},
       "output_type": "pyout",
       "prompt_number": 56,
       "text": [
        "0.96169627065004526"
       ]
      }
     ],
     "prompt_number": 56
    },
    {
     "cell_type": "code",
     "collapsed": false,
     "input": [
      "fp,tp = get_fp_tp_predictions(test_set_score, test_truth_indels, lm_train)\n"
     ],
     "language": "python",
     "metadata": {},
     "outputs": [],
     "prompt_number": 57
    },
    {
     "cell_type": "code",
     "collapsed": false,
     "input": [
      "fp.predictions.value_counts()[0] / float(fp.predictions.value_counts().sum())"
     ],
     "language": "python",
     "metadata": {},
     "outputs": [
      {
       "metadata": {},
       "output_type": "pyout",
       "prompt_number": 58,
       "text": [
        "0.65797804547136451"
       ]
      }
     ],
     "prompt_number": 58
    },
    {
     "cell_type": "code",
     "collapsed": false,
     "input": [
      "tp.predictions.value_counts()[1] / float(tp.predictions.value_counts().sum())"
     ],
     "language": "python",
     "metadata": {},
     "outputs": [
      {
       "metadata": {},
       "output_type": "pyout",
       "prompt_number": 59,
       "text": [
        "0.98793456177987415"
       ]
      }
     ],
     "prompt_number": 59
    },
    {
     "cell_type": "code",
     "collapsed": false,
     "input": [
      "test_truth.truth.value_counts()"
     ],
     "language": "python",
     "metadata": {},
     "outputs": [
      {
       "metadata": {},
       "output_type": "pyout",
       "prompt_number": 60,
       "text": [
        "1    2947839\n",
        "0      64131\n",
        "dtype: int64"
       ]
      }
     ],
     "prompt_number": 60
    },
    {
     "cell_type": "code",
     "collapsed": false,
     "input": [
      "def get_thresholds_xy(test_set, test_set_truth, model):\n",
      "    test_results = model.predict_proba(test_set)\n",
      "    test_results_df = pd.DataFrame(test_results)\n",
      "    test_results_df['truth'] = test_set_truth.values\n",
      "    test_results_df.describe()\\\n",
      "\n",
      "    logReg_xy = []\n",
      "    optimal_threshold = None\n",
      "    for i in range(0,100,2):\n",
      "        temp0_thresh = i/100.0\n",
      "        #print i\n",
      "        temp_df = test_results_df[(test_results_df[1].astype(float) >= temp0_thresh)] #all variants not passing the threshold\n",
      "        fp_rate = len(temp_df[temp_df.truth==0]) / float(test_set_truth.truth.value_counts()[0])  #true negatives\n",
      "        tp_rate = len(temp_df[temp_df.truth==1]) / float(test_set_truth.truth.value_counts()[1])\n",
      "        #print\n",
      "        #print 'fp:', fp_rate\n",
      "        #print 'tp:', tp_rate\n",
      "        #print\n",
      "        if fp_rate <= 0.16 and tp_rate >= 0.90:\n",
      "            optimal_threshold = i\n",
      "            print fp_rate, tp_rate, temp0_thresh\n",
      "        logReg_xy.append((fp_rate, tp_rate))\n",
      "    \n",
      "    logReg_xy_df = pd.DataFrame.from_records(logReg_xy)\n",
      "    logReg_xy_df.columns=['1 - specificity','sensitivity']    \n",
      "    pd.scatter_matrix(logReg_xy_df, figsize=(8,8),s=100)\n",
      "    \n",
      "    #lr_fp = test_results_df[(test_results_df.truth==0) & (test_results_df[1] >= optimal_threshold)]   \n",
      "    #lr_tp = test_results_df[(test_results_df.truth==1) & (test_results_df[1] < optimal_threshold)]  \n",
      "   \n",
      "    y = test_results_df['truth']\n",
      "    pred = test_results_df[1]\n",
      "    fpr, tpr, thresholds = metrics.roc_curve(y, pred, pos_label=1)\n",
      "   \n",
      "    print 'AUC:', metrics.auc(fpr, tpr)\n",
      "    \n",
      "    return logReg_xy_df, fpr, tpr, thresholds"
     ],
     "language": "python",
     "metadata": {},
     "outputs": [],
     "prompt_number": 61
    },
    {
     "cell_type": "code",
     "collapsed": false,
     "input": [
      "logReg_xy_df, fpr, tpr, thresholds = get_thresholds_xy(test_set_score, test_truth_indels, lm_train)\n"
     ],
     "language": "python",
     "metadata": {},
     "outputs": [
      {
       "output_type": "stream",
       "stream": "stdout",
       "text": [
        "AUC: 0.935902362403\n"
       ]
      },
      {
       "metadata": {},
       "output_type": "display_data",
       "png": "[encoded data removed]",
       "text": [
        "<matplotlib.figure.Figure at 0x147dd46d0>"
       ]
      }
     ],
     "prompt_number": 62
    },
    {
     "cell_type": "code",
     "collapsed": false,
     "input": [
      "logReg_xy_df"
     ],
     "language": "python",
     "metadata": {},
     "outputs": [
      {
       "html": [
        "<div style=\"max-height:1000px;max-width:1500px;overflow:auto;\">\n",
        "<table border=\"1\" class=\"dataframe\">\n",
        "  <thead>\n",
        "    <tr style=\"text-align: right;\">\n",
        "      <th></th>\n",
        "      <th>1 - specificity</th>\n",
        "      <th>sensitivity</th>\n",
        "    </tr>\n",
        "  </thead>\n",
        "  <tbody>\n",
        "    <tr>\n",
        "      <th>0 </th>\n",
        "      <td> 1.000000</td>\n",
        "      <td> 1.000000</td>\n",
        "    </tr>\n",
        "    <tr>\n",
        "      <th>1 </th>\n",
        "      <td> 0.992887</td>\n",
        "      <td> 0.999979</td>\n",
        "    </tr>\n",
        "    <tr>\n",
        "      <th>2 </th>\n",
        "      <td> 0.952391</td>\n",
        "      <td> 0.999872</td>\n",
        "    </tr>\n",
        "    <tr>\n",
        "      <th>3 </th>\n",
        "      <td> 0.900752</td>\n",
        "      <td> 0.999723</td>\n",
        "    </tr>\n",
        "    <tr>\n",
        "      <th>4 </th>\n",
        "      <td> 0.794145</td>\n",
        "      <td> 0.999531</td>\n",
        "    </tr>\n",
        "    <tr>\n",
        "      <th>5 </th>\n",
        "      <td> 0.702586</td>\n",
        "      <td> 0.999307</td>\n",
        "    </tr>\n",
        "    <tr>\n",
        "      <th>6 </th>\n",
        "      <td> 0.646466</td>\n",
        "      <td> 0.999066</td>\n",
        "    </tr>\n",
        "    <tr>\n",
        "      <th>7 </th>\n",
        "      <td> 0.601653</td>\n",
        "      <td> 0.998810</td>\n",
        "    </tr>\n",
        "    <tr>\n",
        "      <th>8 </th>\n",
        "      <td> 0.566912</td>\n",
        "      <td> 0.998593</td>\n",
        "    </tr>\n",
        "    <tr>\n",
        "      <th>9 </th>\n",
        "      <td> 0.541627</td>\n",
        "      <td> 0.998316</td>\n",
        "    </tr>\n",
        "    <tr>\n",
        "      <th>10</th>\n",
        "      <td> 0.521482</td>\n",
        "      <td> 0.998000</td>\n",
        "    </tr>\n",
        "    <tr>\n",
        "      <th>11</th>\n",
        "      <td> 0.503063</td>\n",
        "      <td> 0.997620</td>\n",
        "    </tr>\n",
        "    <tr>\n",
        "      <th>12</th>\n",
        "      <td> 0.485261</td>\n",
        "      <td> 0.997258</td>\n",
        "    </tr>\n",
        "    <tr>\n",
        "      <th>13</th>\n",
        "      <td> 0.470378</td>\n",
        "      <td> 0.996864</td>\n",
        "    </tr>\n",
        "    <tr>\n",
        "      <th>14</th>\n",
        "      <td> 0.457550</td>\n",
        "      <td> 0.996381</td>\n",
        "    </tr>\n",
        "    <tr>\n",
        "      <th>15</th>\n",
        "      <td> 0.444518</td>\n",
        "      <td> 0.995795</td>\n",
        "    </tr>\n",
        "    <tr>\n",
        "      <th>16</th>\n",
        "      <td> 0.431485</td>\n",
        "      <td> 0.995244</td>\n",
        "    </tr>\n",
        "    <tr>\n",
        "      <th>17</th>\n",
        "      <td> 0.420302</td>\n",
        "      <td> 0.994601</td>\n",
        "    </tr>\n",
        "    <tr>\n",
        "      <th>18</th>\n",
        "      <td> 0.407968</td>\n",
        "      <td> 0.993930</td>\n",
        "    </tr>\n",
        "    <tr>\n",
        "      <th>19</th>\n",
        "      <td> 0.397648</td>\n",
        "      <td> 0.993237</td>\n",
        "    </tr>\n",
        "    <tr>\n",
        "      <th>20</th>\n",
        "      <td> 0.386836</td>\n",
        "      <td> 0.992460</td>\n",
        "    </tr>\n",
        "    <tr>\n",
        "      <th>21</th>\n",
        "      <td> 0.377338</td>\n",
        "      <td> 0.991685</td>\n",
        "    </tr>\n",
        "    <tr>\n",
        "      <th>22</th>\n",
        "      <td> 0.367594</td>\n",
        "      <td> 0.990776</td>\n",
        "    </tr>\n",
        "    <tr>\n",
        "      <th>23</th>\n",
        "      <td> 0.359331</td>\n",
        "      <td> 0.989991</td>\n",
        "    </tr>\n",
        "    <tr>\n",
        "      <th>24</th>\n",
        "      <td> 0.350697</td>\n",
        "      <td> 0.988965</td>\n",
        "    </tr>\n",
        "    <tr>\n",
        "      <th>25</th>\n",
        "      <td> 0.342022</td>\n",
        "      <td> 0.987935</td>\n",
        "    </tr>\n",
        "    <tr>\n",
        "      <th>26</th>\n",
        "      <td> 0.333429</td>\n",
        "      <td> 0.986759</td>\n",
        "    </tr>\n",
        "    <tr>\n",
        "      <th>27</th>\n",
        "      <td> 0.324837</td>\n",
        "      <td> 0.985473</td>\n",
        "    </tr>\n",
        "    <tr>\n",
        "      <th>28</th>\n",
        "      <td> 0.316532</td>\n",
        "      <td> 0.984127</td>\n",
        "    </tr>\n",
        "    <tr>\n",
        "      <th>29</th>\n",
        "      <td> 0.308350</td>\n",
        "      <td> 0.982678</td>\n",
        "    </tr>\n",
        "    <tr>\n",
        "      <th>30</th>\n",
        "      <td> 0.300045</td>\n",
        "      <td> 0.981140</td>\n",
        "    </tr>\n",
        "    <tr>\n",
        "      <th>31</th>\n",
        "      <td> 0.291658</td>\n",
        "      <td> 0.979321</td>\n",
        "    </tr>\n",
        "    <tr>\n",
        "      <th>32</th>\n",
        "      <td> 0.284998</td>\n",
        "      <td> 0.977222</td>\n",
        "    </tr>\n",
        "    <tr>\n",
        "      <th>33</th>\n",
        "      <td> 0.276487</td>\n",
        "      <td> 0.975077</td>\n",
        "    </tr>\n",
        "    <tr>\n",
        "      <th>34</th>\n",
        "      <td> 0.269950</td>\n",
        "      <td> 0.972729</td>\n",
        "    </tr>\n",
        "    <tr>\n",
        "      <th>35</th>\n",
        "      <td> 0.262262</td>\n",
        "      <td> 0.970101</td>\n",
        "    </tr>\n",
        "    <tr>\n",
        "      <th>36</th>\n",
        "      <td> 0.254039</td>\n",
        "      <td> 0.967196</td>\n",
        "    </tr>\n",
        "    <tr>\n",
        "      <th>37</th>\n",
        "      <td> 0.246022</td>\n",
        "      <td> 0.963733</td>\n",
        "    </tr>\n",
        "    <tr>\n",
        "      <th>38</th>\n",
        "      <td> 0.237388</td>\n",
        "      <td> 0.960131</td>\n",
        "    </tr>\n",
        "    <tr>\n",
        "      <th>39</th>\n",
        "      <td> 0.228344</td>\n",
        "      <td> 0.955677</td>\n",
        "    </tr>\n",
        "    <tr>\n",
        "      <th>40</th>\n",
        "      <td> 0.219299</td>\n",
        "      <td> 0.950012</td>\n",
        "    </tr>\n",
        "    <tr>\n",
        "      <th>41</th>\n",
        "      <td> 0.209925</td>\n",
        "      <td> 0.943072</td>\n",
        "    </tr>\n",
        "    <tr>\n",
        "      <th>42</th>\n",
        "      <td> 0.199359</td>\n",
        "      <td> 0.934324</td>\n",
        "    </tr>\n",
        "    <tr>\n",
        "      <th>43</th>\n",
        "      <td> 0.187641</td>\n",
        "      <td> 0.923768</td>\n",
        "    </tr>\n",
        "    <tr>\n",
        "      <th>44</th>\n",
        "      <td> 0.174814</td>\n",
        "      <td> 0.909749</td>\n",
        "    </tr>\n",
        "    <tr>\n",
        "      <th>45</th>\n",
        "      <td> 0.159602</td>\n",
        "      <td> 0.891514</td>\n",
        "    </tr>\n",
        "    <tr>\n",
        "      <th>46</th>\n",
        "      <td> 0.142951</td>\n",
        "      <td> 0.866723</td>\n",
        "    </tr>\n",
        "    <tr>\n",
        "      <th>47</th>\n",
        "      <td> 0.120668</td>\n",
        "      <td> 0.831329</td>\n",
        "    </tr>\n",
        "    <tr>\n",
        "      <th>48</th>\n",
        "      <td> 0.091724</td>\n",
        "      <td> 0.766701</td>\n",
        "    </tr>\n",
        "    <tr>\n",
        "      <th>49</th>\n",
        "      <td> 0.049172</td>\n",
        "      <td> 0.593320</td>\n",
        "    </tr>\n",
        "  </tbody>\n",
        "</table>\n",
        "</div>"
       ],
       "metadata": {},
       "output_type": "pyout",
       "prompt_number": 63,
       "text": [
        "    1 - specificity  sensitivity\n",
        "0          1.000000     1.000000\n",
        "1          0.992887     0.999979\n",
        "2          0.952391     0.999872\n",
        "3          0.900752     0.999723\n",
        "4          0.794145     0.999531\n",
        "5          0.702586     0.999307\n",
        "6          0.646466     0.999066\n",
        "7          0.601653     0.998810\n",
        "8          0.566912     0.998593\n",
        "9          0.541627     0.998316\n",
        "10         0.521482     0.998000\n",
        "11         0.503063     0.997620\n",
        "12         0.485261     0.997258\n",
        "13         0.470378     0.996864\n",
        "14         0.457550     0.996381\n",
        "15         0.444518     0.995795\n",
        "16         0.431485     0.995244\n",
        "17         0.420302     0.994601\n",
        "18         0.407968     0.993930\n",
        "19         0.397648     0.993237\n",
        "20         0.386836     0.992460\n",
        "21         0.377338     0.991685\n",
        "22         0.367594     0.990776\n",
        "23         0.359331     0.989991\n",
        "24         0.350697     0.988965\n",
        "25         0.342022     0.987935\n",
        "26         0.333429     0.986759\n",
        "27         0.324837     0.985473\n",
        "28         0.316532     0.984127\n",
        "29         0.308350     0.982678\n",
        "30         0.300045     0.981140\n",
        "31         0.291658     0.979321\n",
        "32         0.284998     0.977222\n",
        "33         0.276487     0.975077\n",
        "34         0.269950     0.972729\n",
        "35         0.262262     0.970101\n",
        "36         0.254039     0.967196\n",
        "37         0.246022     0.963733\n",
        "38         0.237388     0.960131\n",
        "39         0.228344     0.955677\n",
        "40         0.219299     0.950012\n",
        "41         0.209925     0.943072\n",
        "42         0.199359     0.934324\n",
        "43         0.187641     0.923768\n",
        "44         0.174814     0.909749\n",
        "45         0.159602     0.891514\n",
        "46         0.142951     0.866723\n",
        "47         0.120668     0.831329\n",
        "48         0.091724     0.766701\n",
        "49         0.049172     0.593320"
       ]
      }
     ],
     "prompt_number": 63
    },
    {
     "cell_type": "code",
     "collapsed": false,
     "input": [
      "LR_test_results_df_filtered = LR_test_results_df[LR_test_results_df[1].astype(float) >= 0.74]\n"
     ],
     "language": "python",
     "metadata": {},
     "outputs": [],
     "prompt_number": 199
    },
    {
     "cell_type": "heading",
     "level": 1,
     "metadata": {},
     "source": [
      "TRAINING & TESTING RF MODELs"
     ]
    },
    {
     "cell_type": "code",
     "collapsed": false,
     "input": [
      "\n",
      "from sklearn.ensemble import RandomForestClassifier\n",
      "clf = RandomForestClassifier(n_estimators=500,n_jobs=12, oob_score=True, criterion='gini', min_samples_split=4, min_samples_leaf=2)"
     ],
     "language": "python",
     "metadata": {},
     "outputs": [],
     "prompt_number": 64
    },
    {
     "cell_type": "code",
     "collapsed": false,
     "input": [
      "simple_features = [i for i in training_set_indels_random.columns if 'vartype' in i or 'zygosity' in i]\n",
      "simple_features.extend(['allele_imbal', 'AD_1', 'AD_2', 'DP', 'GQ', 'HQ_1', 'HQ_2'])  #'CGA_SDO', 'CGA_RPT',\n",
      "\n",
      "clf1 = clf.fit(training_set_indels_random, training_truth_indels_random.values)  #About 10 minutes with 8 jobs"
     ],
     "language": "python",
     "metadata": {},
     "outputs": [
      {
       "output_type": "stream",
       "stream": "stderr",
       "text": [
        "-c:4: DataConversionWarning: A column-vector y was passed when a 1d array was expected. Please change the shape of y to (n_samples, ), for example using ravel().\n"
       ]
      }
     ],
     "prompt_number": 72
    },
    {
     "cell_type": "code",
     "collapsed": false,
     "input": [
      "import cPickle\n",
      "#cPickle.dump(clf1, open('/gpfs/home/erscott/Datasets_raw/PlatinumGenomes/NA12877/NA12877_phasing/NA12877_preprocessed_training_set_RF_model_500estim_8jobs_entropy_autosomes.pkl','w'))   \n",
      "#!gzip /gpfs/home/erscott/Datasets_raw/PlatinumGenomes/NA12877/NA12877_phasing/NA12877_preprocessed_training_set_RF_model_500estim_8jobs_entropy_autosomes.pkl    \n",
      "\n",
      "\n",
      "cPickle.dump(clf1, open('/Users/ers_vader/git_data/cg_classifier/models/NA12877_trained_models/20140802/NA12877_preprocessed_training_set_RF_model_500estim_12jobs_gini_minsplit4_minleaf2_autosomes.pkl','w'))   \n",
      "!gzip /Users/ers_vader/git_data/cg_classifier/models/NA12877_trained_models/20140802/NA12877_preprocessed_training_set_RF_model_500estim_12jobs_gini_minsplit4_minleaf2_autosomes.pkl    \n"
     ],
     "language": "python",
     "metadata": {},
     "outputs": [],
     "prompt_number": 89
    },
    {
     "cell_type": "code",
     "collapsed": false,
     "input": [
      "zip(test_set_score.columns, clf1.feature_importances_)"
     ],
     "language": "python",
     "metadata": {},
     "outputs": [
      {
       "metadata": {},
       "output_type": "pyout",
       "prompt_number": 73,
       "text": [
        "[('AA_CGA_CEGL', 0.12986069163859709),\n",
        " ('AA_GL', 0.07306894517462699),\n",
        " ('AB_CGA_CEGL', 0.0067506934228245196),\n",
        " ('AB_GL', 0.0066706388067807112),\n",
        " ('AC_CGA_CEGL', 0.0021204976258363578),\n",
        " ('AC_GL', 0.0020790125801935693),\n",
        " ('AD_1', 0.053454513224243917),\n",
        " ('AD_2', 0.028100815041364489),\n",
        " ('BB_CGA_CEGL', 0.016331273461588563),\n",
        " ('BB_GL', 0.024695802483412379),\n",
        " ('BC_CGA_CEGL', 0.00041210176908611164),\n",
        " ('BC_GL', 0.00050256299501963766),\n",
        " ('CC_CGA_CEGL', 0.0018909798774777243),\n",
        " ('CC_GL', 0.0020610232606737477),\n",
        " ('CGA_CEHQ_1', 0.12429384890985519),\n",
        " ('CGA_CEHQ_2', 0.070263050664845159),\n",
        " ('CGA_RDP', 0.025764086030860858),\n",
        " ('CGA_RPT', 0.0060831195817592264),\n",
        " ('CGA_SDO', 0.00066563036015120211),\n",
        " ('DP', 0.0273658084231404),\n",
        " ('EHQ_1', 0.086752187013274931),\n",
        " ('EHQ_2', 0.068473160092217919),\n",
        " ('FT_PASS', 0.02104344692496252),\n",
        " ('FT_VQLOW', 0.019029593036015417),\n",
        " ('GQ', 0.028812364751998606),\n",
        " ('HQ_1', 0.033091159109587147),\n",
        " ('HQ_2', 0.039425508676815324),\n",
        " ('multiallele', 0.00046396096390964716),\n",
        " ('phase_/', 0.0039322460374969634),\n",
        " ('phase_|', 0.0040265593525356334),\n",
        " ('vartype1_del', 0.004353174477056518),\n",
        " ('vartype1_ins', 0.0041284448698731503),\n",
        " ('vartype1_mnp', 1.6400575188989051e-05),\n",
        " ('vartype1_ref', 0.00046733620221255649),\n",
        " ('vartype1_snp', 0.00013738556335537365),\n",
        " ('vartype2_del', 0.0011439585648702303),\n",
        " ('vartype2_ins', 0.001173036032472926),\n",
        " ('vartype2_mnp', 1.1698482528578267e-05),\n",
        " ('vartype2_ref', 0.0013062608376880193),\n",
        " ('vartype2_snp', 0.00017338153444639931),\n",
        " ('zygosity_het-alt', 0.00050125900800845359),\n",
        " ('zygosity_het-miss', 0.0),\n",
        " ('zygosity_het-ref', 0.0021587960112743098),\n",
        " ('zygosity_hom-alt', 0.0033570753892338593),\n",
        " ('allelic_imbal', 0.073586511160638662)]"
       ]
      }
     ],
     "prompt_number": 73
    },
    {
     "cell_type": "code",
     "collapsed": false,
     "input": [
      "rf_train_scaled_coeff = pd.Series(clf1.feature_importances_)\n",
      "rf_train_scaled_coeff.index = test_set_score.columns\n",
      "RF_ax = rf_train_scaled_coeff.plot(kind='bar', figsize = (20,5), color='#00ADEF',ylim=(0,0.25))\n",
      "RF_ax.get_figure().savefig('/Users/ers_vader/git_data/cg_classifier/models/NA12877_trained_models/20140802/allFeatures/NA12877trained_RF_500estim_12jobs_gini_minsplit4_minleaf2_indels_allFeatures_unscaled_featureImportances.png', bbox_inches=\"tight\")      \n"
     ],
     "language": "python",
     "metadata": {},
     "outputs": [
      {
       "metadata": {},
       "output_type": "display_data",
       "png": "[encoded data removed]",
       "text": [
        "<matplotlib.figure.Figure at 0x1a6cad510>"
       ]
      }
     ],
     "prompt_number": 134
    },
    {
     "cell_type": "code",
     "collapsed": false,
     "input": [
      "#150k random indels, all features\n",
      "clf1.oob_score_"
     ],
     "language": "python",
     "metadata": {},
     "outputs": [
      {
       "metadata": {},
       "output_type": "pyout",
       "prompt_number": 75,
       "text": [
        "0.95265999999999995"
       ]
      }
     ],
     "prompt_number": 75
    },
    {
     "cell_type": "code",
     "collapsed": false,
     "input": [
      "rf_predictions = clf1.predict(test_set_score)\n",
      "rf_prob = clf1.predict_proba(test_set_score)"
     ],
     "language": "python",
     "metadata": {},
     "outputs": [],
     "prompt_number": 90
    },
    {
     "cell_type": "code",
     "collapsed": false,
     "input": [
      "rf_prob = pd.DataFrame(clf1.predict_proba(test_set_score))\n",
      "rf_prob.index = test_set_score.index"
     ],
     "language": "python",
     "metadata": {},
     "outputs": [],
     "prompt_number": 101
    },
    {
     "cell_type": "code",
     "collapsed": false,
     "input": [
      "rf_pred_df = pd.DataFrame(rf_predictions)\n",
      "rf_pred_df.index = test_set_score.index"
     ],
     "language": "python",
     "metadata": {},
     "outputs": [],
     "prompt_number": 98
    },
    {
     "cell_type": "code",
     "collapsed": false,
     "input": [
      "\n",
      "\n",
      "\n"
     ],
     "language": "python",
     "metadata": {},
     "outputs": [],
     "prompt_number": 113
    },
    {
     "cell_type": "code",
     "collapsed": false,
     "input": [
      "test_set_indels_predictions[test_set_indels_predictions.columns[-4:]]"
     ],
     "language": "python",
     "metadata": {},
     "outputs": [
      {
       "html": [
        "<div style=\"max-height:1000px;max-width:1500px;overflow:auto;\">\n",
        "<table border=\"1\" class=\"dataframe\">\n",
        "  <thead>\n",
        "    <tr style=\"text-align: right;\">\n",
        "      <th></th>\n",
        "      <th></th>\n",
        "      <th></th>\n",
        "      <th></th>\n",
        "      <th>RF_500est_gini_split4_leaf2_probeTP</th>\n",
        "      <th>GBC_150est_learn01_maxdepth5_prediction</th>\n",
        "      <th>GBC_150est_learn01_maxdepth5_probFP</th>\n",
        "      <th>GBC_150est_learn01_maxdepth5_probeTP</th>\n",
        "    </tr>\n",
        "    <tr>\n",
        "      <th>CHROM</th>\n",
        "      <th>POS</th>\n",
        "      <th>REF</th>\n",
        "      <th>ALT</th>\n",
        "      <th></th>\n",
        "      <th></th>\n",
        "      <th></th>\n",
        "      <th></th>\n",
        "    </tr>\n",
        "  </thead>\n",
        "  <tbody>\n",
        "    <tr>\n",
        "      <th rowspan=\"30\" valign=\"top\">1 </th>\n",
        "      <th>832297  </th>\n",
        "      <th>CTG</th>\n",
        "      <th>C</th>\n",
        "      <td> 0.929480</td>\n",
        "      <td> 0</td>\n",
        "      <td> 0.997170</td>\n",
        "      <td> 0.002830</td>\n",
        "    </tr>\n",
        "    <tr>\n",
        "      <th>838153  </th>\n",
        "      <th>CA</th>\n",
        "      <th>C</th>\n",
        "      <td> 0.990557</td>\n",
        "      <td> 1</td>\n",
        "      <td> 0.061740</td>\n",
        "      <td> 0.938260</td>\n",
        "    </tr>\n",
        "    <tr>\n",
        "      <th>867993  </th>\n",
        "      <th>GTTTC</th>\n",
        "      <th>G</th>\n",
        "      <td> 0.999225</td>\n",
        "      <td> 1</td>\n",
        "      <td> 0.006391</td>\n",
        "      <td> 0.993609</td>\n",
        "    </tr>\n",
        "    <tr>\n",
        "      <th>874950  </th>\n",
        "      <th>T</th>\n",
        "      <th>TCCCTGGAGGACC</th>\n",
        "      <td> 0.999960</td>\n",
        "      <td> 1</td>\n",
        "      <td> 0.006851</td>\n",
        "      <td> 0.993149</td>\n",
        "    </tr>\n",
        "    <tr>\n",
        "      <th>875159  </th>\n",
        "      <th>AGCCAGTGGACGCCGACCT</th>\n",
        "      <th>A</th>\n",
        "      <td> 0.996593</td>\n",
        "      <td> 1</td>\n",
        "      <td> 0.008009</td>\n",
        "      <td> 0.991991</td>\n",
        "    </tr>\n",
        "    <tr>\n",
        "      <th>884551  </th>\n",
        "      <th>GAGAA</th>\n",
        "      <th>G</th>\n",
        "      <td> 0.997418</td>\n",
        "      <td> 1</td>\n",
        "      <td> 0.006549</td>\n",
        "      <td> 0.993451</td>\n",
        "    </tr>\n",
        "    <tr>\n",
        "      <th>900717  </th>\n",
        "      <th>CTTAT</th>\n",
        "      <th>C</th>\n",
        "      <td> 0.994942</td>\n",
        "      <td> 1</td>\n",
        "      <td> 0.009580</td>\n",
        "      <td> 0.990420</td>\n",
        "    </tr>\n",
        "    <tr>\n",
        "      <th>902762  </th>\n",
        "      <th>CCC</th>\n",
        "      <th>CG</th>\n",
        "      <td> 0.969891</td>\n",
        "      <td> 1</td>\n",
        "      <td> 0.009954</td>\n",
        "      <td> 0.990046</td>\n",
        "    </tr>\n",
        "    <tr>\n",
        "      <th>907170  </th>\n",
        "      <th>AG</th>\n",
        "      <th>A</th>\n",
        "      <td> 0.998937</td>\n",
        "      <td> 1</td>\n",
        "      <td> 0.005045</td>\n",
        "      <td> 0.994955</td>\n",
        "    </tr>\n",
        "    <tr>\n",
        "      <th>919525  </th>\n",
        "      <th>TAGTC</th>\n",
        "      <th>T</th>\n",
        "      <td> 0.985259</td>\n",
        "      <td> 1</td>\n",
        "      <td> 0.016290</td>\n",
        "      <td> 0.983710</td>\n",
        "    </tr>\n",
        "    <tr>\n",
        "      <th>922305  </th>\n",
        "      <th>G</th>\n",
        "      <th>GC</th>\n",
        "      <td> 0.996001</td>\n",
        "      <td> 1</td>\n",
        "      <td> 0.007951</td>\n",
        "      <td> 0.992049</td>\n",
        "    </tr>\n",
        "    <tr>\n",
        "      <th>937575  </th>\n",
        "      <th>T</th>\n",
        "      <th>TA</th>\n",
        "      <td> 0.997942</td>\n",
        "      <td> 1</td>\n",
        "      <td> 0.006671</td>\n",
        "      <td> 0.993329</td>\n",
        "    </tr>\n",
        "    <tr>\n",
        "      <th>940809  </th>\n",
        "      <th>C</th>\n",
        "      <th>CA</th>\n",
        "      <td> 0.997806</td>\n",
        "      <td> 1</td>\n",
        "      <td> 0.021413</td>\n",
        "      <td> 0.978587</td>\n",
        "    </tr>\n",
        "    <tr>\n",
        "      <th>948421  </th>\n",
        "      <th>A</th>\n",
        "      <th>AAAC</th>\n",
        "      <td> 0.994004</td>\n",
        "      <td> 1</td>\n",
        "      <td> 0.017283</td>\n",
        "      <td> 0.982717</td>\n",
        "    </tr>\n",
        "    <tr>\n",
        "      <th>948846  </th>\n",
        "      <th>T</th>\n",
        "      <th>TA</th>\n",
        "      <td> 0.999956</td>\n",
        "      <td> 1</td>\n",
        "      <td> 0.007727</td>\n",
        "      <td> 0.992273</td>\n",
        "    </tr>\n",
        "    <tr>\n",
        "      <th>948929  </th>\n",
        "      <th>GGCCCACA</th>\n",
        "      <th>G</th>\n",
        "      <td> 0.991366</td>\n",
        "      <td> 1</td>\n",
        "      <td> 0.005575</td>\n",
        "      <td> 0.994425</td>\n",
        "    </tr>\n",
        "    <tr>\n",
        "      <th>950113  </th>\n",
        "      <th>GAAGT</th>\n",
        "      <th>G</th>\n",
        "      <td> 0.985455</td>\n",
        "      <td> 1</td>\n",
        "      <td> 0.019866</td>\n",
        "      <td> 0.980134</td>\n",
        "    </tr>\n",
        "    <tr>\n",
        "      <th>951305  </th>\n",
        "      <th>A</th>\n",
        "      <th>ATT</th>\n",
        "      <td> 0.946326</td>\n",
        "      <td> 1</td>\n",
        "      <td> 0.050700</td>\n",
        "      <td> 0.949300</td>\n",
        "    </tr>\n",
        "    <tr>\n",
        "      <th>952494  </th>\n",
        "      <th>A</th>\n",
        "      <th>AT</th>\n",
        "      <td> 0.957972</td>\n",
        "      <td> 1</td>\n",
        "      <td> 0.113478</td>\n",
        "      <td> 0.886522</td>\n",
        "    </tr>\n",
        "    <tr>\n",
        "      <th>953183  </th>\n",
        "      <th>A</th>\n",
        "      <th>AGT</th>\n",
        "      <td> 0.864990</td>\n",
        "      <td> 1</td>\n",
        "      <td> 0.077163</td>\n",
        "      <td> 0.922837</td>\n",
        "    </tr>\n",
        "    <tr>\n",
        "      <th>957967  </th>\n",
        "      <th>T</th>\n",
        "      <th>TTGTAGTCTGACCTGTGGTCTGAC</th>\n",
        "      <td> 0.988069</td>\n",
        "      <td> 1</td>\n",
        "      <td> 0.019680</td>\n",
        "      <td> 0.980320</td>\n",
        "    </tr>\n",
        "    <tr>\n",
        "      <th>978603  </th>\n",
        "      <th>CCT</th>\n",
        "      <th>C</th>\n",
        "      <td> 0.999016</td>\n",
        "      <td> 1</td>\n",
        "      <td> 0.006982</td>\n",
        "      <td> 0.993018</td>\n",
        "    </tr>\n",
        "    <tr>\n",
        "      <th>991658  </th>\n",
        "      <th>AC</th>\n",
        "      <th>A</th>\n",
        "      <td> 0.999931</td>\n",
        "      <td> 1</td>\n",
        "      <td> 0.007802</td>\n",
        "      <td> 0.992198</td>\n",
        "    </tr>\n",
        "    <tr>\n",
        "      <th>992840  </th>\n",
        "      <th>ATT</th>\n",
        "      <th>A</th>\n",
        "      <td> 0.955462</td>\n",
        "      <td> 1</td>\n",
        "      <td> 0.019603</td>\n",
        "      <td> 0.980397</td>\n",
        "    </tr>\n",
        "    <tr>\n",
        "      <th>992852  </th>\n",
        "      <th>AAG</th>\n",
        "      <th>A</th>\n",
        "      <td> 0.942252</td>\n",
        "      <td> 1</td>\n",
        "      <td> 0.020511</td>\n",
        "      <td> 0.979489</td>\n",
        "    </tr>\n",
        "    <tr>\n",
        "      <th>1010290 </th>\n",
        "      <th>TCACA</th>\n",
        "      <th>T</th>\n",
        "      <td> 0.919846</td>\n",
        "      <td> 1</td>\n",
        "      <td> 0.006967</td>\n",
        "      <td> 0.993033</td>\n",
        "    </tr>\n",
        "    <tr>\n",
        "      <th>1020923 </th>\n",
        "      <th>A</th>\n",
        "      <th>AG</th>\n",
        "      <td> 0.860342</td>\n",
        "      <td> 1</td>\n",
        "      <td> 0.030058</td>\n",
        "      <td> 0.969942</td>\n",
        "    </tr>\n",
        "    <tr>\n",
        "      <th>1066388 </th>\n",
        "      <th>C</th>\n",
        "      <th>CT</th>\n",
        "      <td> 0.999727</td>\n",
        "      <td> 1</td>\n",
        "      <td> 0.007725</td>\n",
        "      <td> 0.992275</td>\n",
        "    </tr>\n",
        "    <tr>\n",
        "      <th>1067596 </th>\n",
        "      <th>CAG</th>\n",
        "      <th>C</th>\n",
        "      <td> 0.955992</td>\n",
        "      <td> 1</td>\n",
        "      <td> 0.006821</td>\n",
        "      <td> 0.993179</td>\n",
        "    </tr>\n",
        "    <tr>\n",
        "      <th>1068669 </th>\n",
        "      <th>GT</th>\n",
        "      <th>G</th>\n",
        "      <td> 0.997332</td>\n",
        "      <td> 1</td>\n",
        "      <td> 0.007558</td>\n",
        "      <td> 0.992442</td>\n",
        "    </tr>\n",
        "    <tr>\n",
        "      <th>...</th>\n",
        "      <th>...</th>\n",
        "      <th>...</th>\n",
        "      <th>...</th>\n",
        "      <td>...</td>\n",
        "      <td>...</td>\n",
        "      <td>...</td>\n",
        "      <td>...</td>\n",
        "    </tr>\n",
        "    <tr>\n",
        "      <th rowspan=\"30\" valign=\"top\">22</th>\n",
        "      <th>41763537</th>\n",
        "      <th>A</th>\n",
        "      <th>AG</th>\n",
        "      <td> 0.002963</td>\n",
        "      <td> 0</td>\n",
        "      <td> 0.990944</td>\n",
        "      <td> 0.009056</td>\n",
        "    </tr>\n",
        "    <tr>\n",
        "      <th>41850715</th>\n",
        "      <th>CT</th>\n",
        "      <th>C</th>\n",
        "      <td> 0.001089</td>\n",
        "      <td> 0</td>\n",
        "      <td> 0.989486</td>\n",
        "      <td> 0.010514</td>\n",
        "    </tr>\n",
        "    <tr>\n",
        "      <th>42110720</th>\n",
        "      <th>CA</th>\n",
        "      <th>C</th>\n",
        "      <td> 0.855363</td>\n",
        "      <td> 1</td>\n",
        "      <td> 0.083321</td>\n",
        "      <td> 0.916679</td>\n",
        "    </tr>\n",
        "    <tr>\n",
        "      <th>42157633</th>\n",
        "      <th>G</th>\n",
        "      <th>GA</th>\n",
        "      <td> 0.008358</td>\n",
        "      <td> 0</td>\n",
        "      <td> 0.987012</td>\n",
        "      <td> 0.012988</td>\n",
        "    </tr>\n",
        "    <tr>\n",
        "      <th>42213961</th>\n",
        "      <th>TA</th>\n",
        "      <th>T</th>\n",
        "      <td> 0.001003</td>\n",
        "      <td> 0</td>\n",
        "      <td> 0.987106</td>\n",
        "      <td> 0.012894</td>\n",
        "    </tr>\n",
        "    <tr>\n",
        "      <th>42246453</th>\n",
        "      <th>CA</th>\n",
        "      <th>C</th>\n",
        "      <td> 0.242987</td>\n",
        "      <td> 0</td>\n",
        "      <td> 0.753506</td>\n",
        "      <td> 0.246494</td>\n",
        "    </tr>\n",
        "    <tr>\n",
        "      <th>42295968</th>\n",
        "      <th>TG</th>\n",
        "      <th>T</th>\n",
        "      <td> 0.101827</td>\n",
        "      <td> 0</td>\n",
        "      <td> 0.975793</td>\n",
        "      <td> 0.024207</td>\n",
        "    </tr>\n",
        "    <tr>\n",
        "      <th>42444779</th>\n",
        "      <th>G</th>\n",
        "      <th>GA</th>\n",
        "      <td> 0.971322</td>\n",
        "      <td> 1</td>\n",
        "      <td> 0.084138</td>\n",
        "      <td> 0.915862</td>\n",
        "    </tr>\n",
        "    <tr>\n",
        "      <th>42678948</th>\n",
        "      <th>CA</th>\n",
        "      <th>C</th>\n",
        "      <td> 0.001931</td>\n",
        "      <td> 0</td>\n",
        "      <td> 0.986391</td>\n",
        "      <td> 0.013609</td>\n",
        "    </tr>\n",
        "    <tr>\n",
        "      <th>42696065</th>\n",
        "      <th>C</th>\n",
        "      <th>CT</th>\n",
        "      <td> 0.003494</td>\n",
        "      <td> 0</td>\n",
        "      <td> 0.990812</td>\n",
        "      <td> 0.009188</td>\n",
        "    </tr>\n",
        "    <tr>\n",
        "      <th>42711957</th>\n",
        "      <th>T</th>\n",
        "      <th>TA</th>\n",
        "      <td> 0.001932</td>\n",
        "      <td> 0</td>\n",
        "      <td> 0.992968</td>\n",
        "      <td> 0.007032</td>\n",
        "    </tr>\n",
        "    <tr>\n",
        "      <th>42761171</th>\n",
        "      <th>GA</th>\n",
        "      <th>G</th>\n",
        "      <td> 0.992659</td>\n",
        "      <td> 1</td>\n",
        "      <td> 0.018106</td>\n",
        "      <td> 0.981894</td>\n",
        "    </tr>\n",
        "    <tr>\n",
        "      <th>42854842</th>\n",
        "      <th>TAAAAA</th>\n",
        "      <th>TAAAA,T</th>\n",
        "      <td> 0.525510</td>\n",
        "      <td> 0</td>\n",
        "      <td> 0.688727</td>\n",
        "      <td> 0.311273</td>\n",
        "    </tr>\n",
        "    <tr>\n",
        "      <th>42860587</th>\n",
        "      <th>CAAAAAAAA</th>\n",
        "      <th>C</th>\n",
        "      <td> 0.867468</td>\n",
        "      <td> 1</td>\n",
        "      <td> 0.075022</td>\n",
        "      <td> 0.924978</td>\n",
        "    </tr>\n",
        "    <tr>\n",
        "      <th>42867941</th>\n",
        "      <th>C</th>\n",
        "      <th>CT</th>\n",
        "      <td> 0.076702</td>\n",
        "      <td> 0</td>\n",
        "      <td> 0.925141</td>\n",
        "      <td> 0.074859</td>\n",
        "    </tr>\n",
        "    <tr>\n",
        "      <th>43044207</th>\n",
        "      <th>GATCCCCAAGGAGGAGACTCCAGGTCC</th>\n",
        "      <th>GTTCCCCAAGGAGGAGACTCCAGGTCC,GT</th>\n",
        "      <td> 0.869921</td>\n",
        "      <td> 1</td>\n",
        "      <td> 0.114802</td>\n",
        "      <td> 0.885198</td>\n",
        "    </tr>\n",
        "    <tr>\n",
        "      <th>43111846</th>\n",
        "      <th>TG</th>\n",
        "      <th>T</th>\n",
        "      <td> 0.916021</td>\n",
        "      <td> 1</td>\n",
        "      <td> 0.090449</td>\n",
        "      <td> 0.909551</td>\n",
        "    </tr>\n",
        "    <tr>\n",
        "      <th>43111859</th>\n",
        "      <th>ATGGAGT</th>\n",
        "      <th>A</th>\n",
        "      <td> 0.933882</td>\n",
        "      <td> 1</td>\n",
        "      <td> 0.058863</td>\n",
        "      <td> 0.941137</td>\n",
        "    </tr>\n",
        "    <tr>\n",
        "      <th>43131244</th>\n",
        "      <th>C</th>\n",
        "      <th>CT</th>\n",
        "      <td> 0.708883</td>\n",
        "      <td> 1</td>\n",
        "      <td> 0.275823</td>\n",
        "      <td> 0.724177</td>\n",
        "    </tr>\n",
        "    <tr>\n",
        "      <th>43198458</th>\n",
        "      <th>A</th>\n",
        "      <th>AT</th>\n",
        "      <td> 0.033978</td>\n",
        "      <td> 0</td>\n",
        "      <td> 0.958578</td>\n",
        "      <td> 0.041422</td>\n",
        "    </tr>\n",
        "    <tr>\n",
        "      <th>44431677</th>\n",
        "      <th>C</th>\n",
        "      <th>CT</th>\n",
        "      <td> 0.000336</td>\n",
        "      <td> 0</td>\n",
        "      <td> 0.991399</td>\n",
        "      <td> 0.008601</td>\n",
        "    </tr>\n",
        "    <tr>\n",
        "      <th>44451227</th>\n",
        "      <th>C</th>\n",
        "      <th>CT</th>\n",
        "      <td> 0.041944</td>\n",
        "      <td> 0</td>\n",
        "      <td> 0.935102</td>\n",
        "      <td> 0.064898</td>\n",
        "    </tr>\n",
        "    <tr>\n",
        "      <th>44461722</th>\n",
        "      <th>G</th>\n",
        "      <th>GGT</th>\n",
        "      <td> 0.232966</td>\n",
        "      <td> 0</td>\n",
        "      <td> 0.883874</td>\n",
        "      <td> 0.116126</td>\n",
        "    </tr>\n",
        "    <tr>\n",
        "      <th>44551193</th>\n",
        "      <th>TCT</th>\n",
        "      <th>TGTG</th>\n",
        "      <td> 0.660074</td>\n",
        "      <td> 1</td>\n",
        "      <td> 0.192978</td>\n",
        "      <td> 0.807022</td>\n",
        "    </tr>\n",
        "    <tr>\n",
        "      <th>44723118</th>\n",
        "      <th>GCGCACACACACACACACA</th>\n",
        "      <th>GCG,GTGCACACACACACA</th>\n",
        "      <td> 0.986722</td>\n",
        "      <td> 1</td>\n",
        "      <td> 0.016532</td>\n",
        "      <td> 0.983468</td>\n",
        "    </tr>\n",
        "    <tr>\n",
        "      <th>44828516</th>\n",
        "      <th>A</th>\n",
        "      <th>AAAAG</th>\n",
        "      <td> 0.408532</td>\n",
        "      <td> 0</td>\n",
        "      <td> 0.808344</td>\n",
        "      <td> 0.191656</td>\n",
        "    </tr>\n",
        "    <tr>\n",
        "      <th>44832148</th>\n",
        "      <th>A</th>\n",
        "      <th>AT</th>\n",
        "      <td> 0.435011</td>\n",
        "      <td> 0</td>\n",
        "      <td> 0.725649</td>\n",
        "      <td> 0.274351</td>\n",
        "    </tr>\n",
        "    <tr>\n",
        "      <th>44899179</th>\n",
        "      <th>C</th>\n",
        "      <th>CA</th>\n",
        "      <td> 0.000241</td>\n",
        "      <td> 0</td>\n",
        "      <td> 0.993071</td>\n",
        "      <td> 0.006929</td>\n",
        "    </tr>\n",
        "    <tr>\n",
        "      <th>45050976</th>\n",
        "      <th>CG</th>\n",
        "      <th>C</th>\n",
        "      <td> 0.000934</td>\n",
        "      <td> 0</td>\n",
        "      <td> 0.988093</td>\n",
        "      <td> 0.011907</td>\n",
        "    </tr>\n",
        "    <tr>\n",
        "      <th>45200793</th>\n",
        "      <th>GTGC</th>\n",
        "      <th>G</th>\n",
        "      <td> 0.001281</td>\n",
        "      <td> 0</td>\n",
        "      <td> 0.984206</td>\n",
        "      <td> 0.015794</td>\n",
        "    </tr>\n",
        "  </tbody>\n",
        "</table>\n",
        "<p>305871 rows \u00d7 4 columns</p>\n",
        "</div>"
       ],
       "metadata": {},
       "output_type": "pyout",
       "prompt_number": 111,
       "text": [
        "                                                                           RF_500est_gini_split4_leaf2_probeTP  \\\n",
        "CHROM POS      REF                         ALT                                                                   \n",
        "1     832297   CTG                         C                                                          0.929480   \n",
        "      838153   CA                          C                                                          0.990557   \n",
        "      867993   GTTTC                       G                                                          0.999225   \n",
        "      874950   T                           TCCCTGGAGGACC                                              0.999960   \n",
        "      875159   AGCCAGTGGACGCCGACCT         A                                                          0.996593   \n",
        "      884551   GAGAA                       G                                                          0.997418   \n",
        "      900717   CTTAT                       C                                                          0.994942   \n",
        "      902762   CCC                         CG                                                         0.969891   \n",
        "      907170   AG                          A                                                          0.998937   \n",
        "      919525   TAGTC                       T                                                          0.985259   \n",
        "      922305   G                           GC                                                         0.996001   \n",
        "      937575   T                           TA                                                         0.997942   \n",
        "      940809   C                           CA                                                         0.997806   \n",
        "      948421   A                           AAAC                                                       0.994004   \n",
        "      948846   T                           TA                                                         0.999956   \n",
        "      948929   GGCCCACA                    G                                                          0.991366   \n",
        "      950113   GAAGT                       G                                                          0.985455   \n",
        "      951305   A                           ATT                                                        0.946326   \n",
        "      952494   A                           AT                                                         0.957972   \n",
        "      953183   A                           AGT                                                        0.864990   \n",
        "      957967   T                           TTGTAGTCTGACCTGTGGTCTGAC                                   0.988069   \n",
        "      978603   CCT                         C                                                          0.999016   \n",
        "      991658   AC                          A                                                          0.999931   \n",
        "      992840   ATT                         A                                                          0.955462   \n",
        "      992852   AAG                         A                                                          0.942252   \n",
        "      1010290  TCACA                       T                                                          0.919846   \n",
        "      1020923  A                           AG                                                         0.860342   \n",
        "      1066388  C                           CT                                                         0.999727   \n",
        "      1067596  CAG                         C                                                          0.955992   \n",
        "      1068669  GT                          G                                                          0.997332   \n",
        "...                                                                                                        ...   \n",
        "22    41763537 A                           AG                                                         0.002963   \n",
        "      41850715 CT                          C                                                          0.001089   \n",
        "      42110720 CA                          C                                                          0.855363   \n",
        "      42157633 G                           GA                                                         0.008358   \n",
        "      42213961 TA                          T                                                          0.001003   \n",
        "      42246453 CA                          C                                                          0.242987   \n",
        "      42295968 TG                          T                                                          0.101827   \n",
        "      42444779 G                           GA                                                         0.971322   \n",
        "      42678948 CA                          C                                                          0.001931   \n",
        "      42696065 C                           CT                                                         0.003494   \n",
        "      42711957 T                           TA                                                         0.001932   \n",
        "      42761171 GA                          G                                                          0.992659   \n",
        "      42854842 TAAAAA                      TAAAA,T                                                    0.525510   \n",
        "      42860587 CAAAAAAAA                   C                                                          0.867468   \n",
        "      42867941 C                           CT                                                         0.076702   \n",
        "      43044207 GATCCCCAAGGAGGAGACTCCAGGTCC GTTCCCCAAGGAGGAGACTCCAGGTCC,GT                             0.869921   \n",
        "      43111846 TG                          T                                                          0.916021   \n",
        "      43111859 ATGGAGT                     A                                                          0.933882   \n",
        "      43131244 C                           CT                                                         0.708883   \n",
        "      43198458 A                           AT                                                         0.033978   \n",
        "      44431677 C                           CT                                                         0.000336   \n",
        "      44451227 C                           CT                                                         0.041944   \n",
        "      44461722 G                           GGT                                                        0.232966   \n",
        "      44551193 TCT                         TGTG                                                       0.660074   \n",
        "      44723118 GCGCACACACACACACACA         GCG,GTGCACACACACACA                                        0.986722   \n",
        "      44828516 A                           AAAAG                                                      0.408532   \n",
        "      44832148 A                           AT                                                         0.435011   \n",
        "      44899179 C                           CA                                                         0.000241   \n",
        "      45050976 CG                          C                                                          0.000934   \n",
        "      45200793 GTGC                        G                                                          0.001281   \n",
        "\n",
        "                                                                           GBC_150est_learn01_maxdepth5_prediction  \\\n",
        "CHROM POS      REF                         ALT                                                                       \n",
        "1     832297   CTG                         C                                                                     0   \n",
        "      838153   CA                          C                                                                     1   \n",
        "      867993   GTTTC                       G                                                                     1   \n",
        "      874950   T                           TCCCTGGAGGACC                                                         1   \n",
        "      875159   AGCCAGTGGACGCCGACCT         A                                                                     1   \n",
        "      884551   GAGAA                       G                                                                     1   \n",
        "      900717   CTTAT                       C                                                                     1   \n",
        "      902762   CCC                         CG                                                                    1   \n",
        "      907170   AG                          A                                                                     1   \n",
        "      919525   TAGTC                       T                                                                     1   \n",
        "      922305   G                           GC                                                                    1   \n",
        "      937575   T                           TA                                                                    1   \n",
        "      940809   C                           CA                                                                    1   \n",
        "      948421   A                           AAAC                                                                  1   \n",
        "      948846   T                           TA                                                                    1   \n",
        "      948929   GGCCCACA                    G                                                                     1   \n",
        "      950113   GAAGT                       G                                                                     1   \n",
        "      951305   A                           ATT                                                                   1   \n",
        "      952494   A                           AT                                                                    1   \n",
        "      953183   A                           AGT                                                                   1   \n",
        "      957967   T                           TTGTAGTCTGACCTGTGGTCTGAC                                              1   \n",
        "      978603   CCT                         C                                                                     1   \n",
        "      991658   AC                          A                                                                     1   \n",
        "      992840   ATT                         A                                                                     1   \n",
        "      992852   AAG                         A                                                                     1   \n",
        "      1010290  TCACA                       T                                                                     1   \n",
        "      1020923  A                           AG                                                                    1   \n",
        "      1066388  C                           CT                                                                    1   \n",
        "      1067596  CAG                         C                                                                     1   \n",
        "      1068669  GT                          G                                                                     1   \n",
        "...                                                                                                            ...   \n",
        "22    41763537 A                           AG                                                                    0   \n",
        "      41850715 CT                          C                                                                     0   \n",
        "      42110720 CA                          C                                                                     1   \n",
        "      42157633 G                           GA                                                                    0   \n",
        "      42213961 TA                          T                                                                     0   \n",
        "      42246453 CA                          C                                                                     0   \n",
        "      42295968 TG                          T                                                                     0   \n",
        "      42444779 G                           GA                                                                    1   \n",
        "      42678948 CA                          C                                                                     0   \n",
        "      42696065 C                           CT                                                                    0   \n",
        "      42711957 T                           TA                                                                    0   \n",
        "      42761171 GA                          G                                                                     1   \n",
        "      42854842 TAAAAA                      TAAAA,T                                                               0   \n",
        "      42860587 CAAAAAAAA                   C                                                                     1   \n",
        "      42867941 C                           CT                                                                    0   \n",
        "      43044207 GATCCCCAAGGAGGAGACTCCAGGTCC GTTCCCCAAGGAGGAGACTCCAGGTCC,GT                                        1   \n",
        "      43111846 TG                          T                                                                     1   \n",
        "      43111859 ATGGAGT                     A                                                                     1   \n",
        "      43131244 C                           CT                                                                    1   \n",
        "      43198458 A                           AT                                                                    0   \n",
        "      44431677 C                           CT                                                                    0   \n",
        "      44451227 C                           CT                                                                    0   \n",
        "      44461722 G                           GGT                                                                   0   \n",
        "      44551193 TCT                         TGTG                                                                  1   \n",
        "      44723118 GCGCACACACACACACACA         GCG,GTGCACACACACACA                                                   1   \n",
        "      44828516 A                           AAAAG                                                                 0   \n",
        "      44832148 A                           AT                                                                    0   \n",
        "      44899179 C                           CA                                                                    0   \n",
        "      45050976 CG                          C                                                                     0   \n",
        "      45200793 GTGC                        G                                                                     0   \n",
        "\n",
        "                                                                           GBC_150est_learn01_maxdepth5_probFP  \\\n",
        "CHROM POS      REF                         ALT                                                                   \n",
        "1     832297   CTG                         C                                                          0.997170   \n",
        "      838153   CA                          C                                                          0.061740   \n",
        "      867993   GTTTC                       G                                                          0.006391   \n",
        "      874950   T                           TCCCTGGAGGACC                                              0.006851   \n",
        "      875159   AGCCAGTGGACGCCGACCT         A                                                          0.008009   \n",
        "      884551   GAGAA                       G                                                          0.006549   \n",
        "      900717   CTTAT                       C                                                          0.009580   \n",
        "      902762   CCC                         CG                                                         0.009954   \n",
        "      907170   AG                          A                                                          0.005045   \n",
        "      919525   TAGTC                       T                                                          0.016290   \n",
        "      922305   G                           GC                                                         0.007951   \n",
        "      937575   T                           TA                                                         0.006671   \n",
        "      940809   C                           CA                                                         0.021413   \n",
        "      948421   A                           AAAC                                                       0.017283   \n",
        "      948846   T                           TA                                                         0.007727   \n",
        "      948929   GGCCCACA                    G                                                          0.005575   \n",
        "      950113   GAAGT                       G                                                          0.019866   \n",
        "      951305   A                           ATT                                                        0.050700   \n",
        "      952494   A                           AT                                                         0.113478   \n",
        "      953183   A                           AGT                                                        0.077163   \n",
        "      957967   T                           TTGTAGTCTGACCTGTGGTCTGAC                                   0.019680   \n",
        "      978603   CCT                         C                                                          0.006982   \n",
        "      991658   AC                          A                                                          0.007802   \n",
        "      992840   ATT                         A                                                          0.019603   \n",
        "      992852   AAG                         A                                                          0.020511   \n",
        "      1010290  TCACA                       T                                                          0.006967   \n",
        "      1020923  A                           AG                                                         0.030058   \n",
        "      1066388  C                           CT                                                         0.007725   \n",
        "      1067596  CAG                         C                                                          0.006821   \n",
        "      1068669  GT                          G                                                          0.007558   \n",
        "...                                                                                                        ...   \n",
        "22    41763537 A                           AG                                                         0.990944   \n",
        "      41850715 CT                          C                                                          0.989486   \n",
        "      42110720 CA                          C                                                          0.083321   \n",
        "      42157633 G                           GA                                                         0.987012   \n",
        "      42213961 TA                          T                                                          0.987106   \n",
        "      42246453 CA                          C                                                          0.753506   \n",
        "      42295968 TG                          T                                                          0.975793   \n",
        "      42444779 G                           GA                                                         0.084138   \n",
        "      42678948 CA                          C                                                          0.986391   \n",
        "      42696065 C                           CT                                                         0.990812   \n",
        "      42711957 T                           TA                                                         0.992968   \n",
        "      42761171 GA                          G                                                          0.018106   \n",
        "      42854842 TAAAAA                      TAAAA,T                                                    0.688727   \n",
        "      42860587 CAAAAAAAA                   C                                                          0.075022   \n",
        "      42867941 C                           CT                                                         0.925141   \n",
        "      43044207 GATCCCCAAGGAGGAGACTCCAGGTCC GTTCCCCAAGGAGGAGACTCCAGGTCC,GT                             0.114802   \n",
        "      43111846 TG                          T                                                          0.090449   \n",
        "      43111859 ATGGAGT                     A                                                          0.058863   \n",
        "      43131244 C                           CT                                                         0.275823   \n",
        "      43198458 A                           AT                                                         0.958578   \n",
        "      44431677 C                           CT                                                         0.991399   \n",
        "      44451227 C                           CT                                                         0.935102   \n",
        "      44461722 G                           GGT                                                        0.883874   \n",
        "      44551193 TCT                         TGTG                                                       0.192978   \n",
        "      44723118 GCGCACACACACACACACA         GCG,GTGCACACACACACA                                        0.016532   \n",
        "      44828516 A                           AAAAG                                                      0.808344   \n",
        "      44832148 A                           AT                                                         0.725649   \n",
        "      44899179 C                           CA                                                         0.993071   \n",
        "      45050976 CG                          C                                                          0.988093   \n",
        "      45200793 GTGC                        G                                                          0.984206   \n",
        "\n",
        "                                                                           GBC_150est_learn01_maxdepth5_probeTP  \n",
        "CHROM POS      REF                         ALT                                                                   \n",
        "1     832297   CTG                         C                                                           0.002830  \n",
        "      838153   CA                          C                                                           0.938260  \n",
        "      867993   GTTTC                       G                                                           0.993609  \n",
        "      874950   T                           TCCCTGGAGGACC                                               0.993149  \n",
        "      875159   AGCCAGTGGACGCCGACCT         A                                                           0.991991  \n",
        "      884551   GAGAA                       G                                                           0.993451  \n",
        "      900717   CTTAT                       C                                                           0.990420  \n",
        "      902762   CCC                         CG                                                          0.990046  \n",
        "      907170   AG                          A                                                           0.994955  \n",
        "      919525   TAGTC                       T                                                           0.983710  \n",
        "      922305   G                           GC                                                          0.992049  \n",
        "      937575   T                           TA                                                          0.993329  \n",
        "      940809   C                           CA                                                          0.978587  \n",
        "      948421   A                           AAAC                                                        0.982717  \n",
        "      948846   T                           TA                                                          0.992273  \n",
        "      948929   GGCCCACA                    G                                                           0.994425  \n",
        "      950113   GAAGT                       G                                                           0.980134  \n",
        "      951305   A                           ATT                                                         0.949300  \n",
        "      952494   A                           AT                                                          0.886522  \n",
        "      953183   A                           AGT                                                         0.922837  \n",
        "      957967   T                           TTGTAGTCTGACCTGTGGTCTGAC                                    0.980320  \n",
        "      978603   CCT                         C                                                           0.993018  \n",
        "      991658   AC                          A                                                           0.992198  \n",
        "      992840   ATT                         A                                                           0.980397  \n",
        "      992852   AAG                         A                                                           0.979489  \n",
        "      1010290  TCACA                       T                                                           0.993033  \n",
        "      1020923  A                           AG                                                          0.969942  \n",
        "      1066388  C                           CT                                                          0.992275  \n",
        "      1067596  CAG                         C                                                           0.993179  \n",
        "      1068669  GT                          G                                                           0.992442  \n",
        "...                                                                                                         ...  \n",
        "22    41763537 A                           AG                                                          0.009056  \n",
        "      41850715 CT                          C                                                           0.010514  \n",
        "      42110720 CA                          C                                                           0.916679  \n",
        "      42157633 G                           GA                                                          0.012988  \n",
        "      42213961 TA                          T                                                           0.012894  \n",
        "      42246453 CA                          C                                                           0.246494  \n",
        "      42295968 TG                          T                                                           0.024207  \n",
        "      42444779 G                           GA                                                          0.915862  \n",
        "      42678948 CA                          C                                                           0.013609  \n",
        "      42696065 C                           CT                                                          0.009188  \n",
        "      42711957 T                           TA                                                          0.007032  \n",
        "      42761171 GA                          G                                                           0.981894  \n",
        "      42854842 TAAAAA                      TAAAA,T                                                     0.311273  \n",
        "      42860587 CAAAAAAAA                   C                                                           0.924978  \n",
        "      42867941 C                           CT                                                          0.074859  \n",
        "      43044207 GATCCCCAAGGAGGAGACTCCAGGTCC GTTCCCCAAGGAGGAGACTCCAGGTCC,GT                              0.885198  \n",
        "      43111846 TG                          T                                                           0.909551  \n",
        "      43111859 ATGGAGT                     A                                                           0.941137  \n",
        "      43131244 C                           CT                                                          0.724177  \n",
        "      43198458 A                           AT                                                          0.041422  \n",
        "      44431677 C                           CT                                                          0.008601  \n",
        "      44451227 C                           CT                                                          0.064898  \n",
        "      44461722 G                           GGT                                                         0.116126  \n",
        "      44551193 TCT                         TGTG                                                        0.807022  \n",
        "      44723118 GCGCACACACACACACACA         GCG,GTGCACACACACACA                                         0.983468  \n",
        "      44828516 A                           AAAAG                                                       0.191656  \n",
        "      44832148 A                           AT                                                          0.274351  \n",
        "      44899179 C                           CA                                                          0.006929  \n",
        "      45050976 CG                          C                                                           0.011907  \n",
        "      45200793 GTGC                        G                                                           0.015794  \n",
        "\n",
        "[305871 rows x 4 columns]"
       ]
      }
     ],
     "prompt_number": 111
    },
    {
     "cell_type": "code",
     "collapsed": false,
     "input": [
      "RF_xy_df, fpr, tpr, thresholds = get_thresholds_xy(test_set_score, test_truth_indels, clf1)"
     ],
     "language": "python",
     "metadata": {},
     "outputs": [
      {
       "output_type": "stream",
       "stream": "stdout",
       "text": [
        "0.150145952391 0.904460340688 0.88\n",
        "AUC:"
       ]
      },
      {
       "output_type": "stream",
       "stream": "stdout",
       "text": [
        " 0.944103704758\n"
       ]
      },
      {
       "metadata": {},
       "output_type": "display_data",
       "png": "[encoded data removed]",
       "text": [
        "<matplotlib.figure.Figure at 0x164839a50>"
       ]
      }
     ],
     "prompt_number": 76
    },
    {
     "cell_type": "code",
     "collapsed": false,
     "input": [
      "RF_xy_df"
     ],
     "language": "python",
     "metadata": {},
     "outputs": [
      {
       "html": [
        "<div style=\"max-height:1000px;max-width:1500px;overflow:auto;\">\n",
        "<table border=\"1\" class=\"dataframe\">\n",
        "  <thead>\n",
        "    <tr style=\"text-align: right;\">\n",
        "      <th></th>\n",
        "      <th>1 - specificity</th>\n",
        "      <th>sensitivity</th>\n",
        "    </tr>\n",
        "  </thead>\n",
        "  <tbody>\n",
        "    <tr>\n",
        "      <th>0 </th>\n",
        "      <td> 1.000000</td>\n",
        "      <td> 1.000000</td>\n",
        "    </tr>\n",
        "    <tr>\n",
        "      <th>1 </th>\n",
        "      <td> 0.645891</td>\n",
        "      <td> 0.999776</td>\n",
        "    </tr>\n",
        "    <tr>\n",
        "      <th>2 </th>\n",
        "      <td> 0.592772</td>\n",
        "      <td> 0.999574</td>\n",
        "    </tr>\n",
        "    <tr>\n",
        "      <th>3 </th>\n",
        "      <td> 0.557661</td>\n",
        "      <td> 0.999414</td>\n",
        "    </tr>\n",
        "    <tr>\n",
        "      <th>4 </th>\n",
        "      <td> 0.532336</td>\n",
        "      <td> 0.999265</td>\n",
        "    </tr>\n",
        "    <tr>\n",
        "      <th>5 </th>\n",
        "      <td> 0.512149</td>\n",
        "      <td> 0.999066</td>\n",
        "    </tr>\n",
        "    <tr>\n",
        "      <th>6 </th>\n",
        "      <td> 0.495334</td>\n",
        "      <td> 0.998881</td>\n",
        "    </tr>\n",
        "    <tr>\n",
        "      <th>7 </th>\n",
        "      <td> 0.480081</td>\n",
        "      <td> 0.998700</td>\n",
        "    </tr>\n",
        "    <tr>\n",
        "      <th>8 </th>\n",
        "      <td> 0.469679</td>\n",
        "      <td> 0.998544</td>\n",
        "    </tr>\n",
        "    <tr>\n",
        "      <th>9 </th>\n",
        "      <td> 0.457674</td>\n",
        "      <td> 0.998380</td>\n",
        "    </tr>\n",
        "    <tr>\n",
        "      <th>10</th>\n",
        "      <td> 0.448300</td>\n",
        "      <td> 0.998178</td>\n",
        "    </tr>\n",
        "    <tr>\n",
        "      <th>11</th>\n",
        "      <td> 0.438392</td>\n",
        "      <td> 0.997965</td>\n",
        "    </tr>\n",
        "    <tr>\n",
        "      <th>12</th>\n",
        "      <td> 0.429963</td>\n",
        "      <td> 0.997688</td>\n",
        "    </tr>\n",
        "    <tr>\n",
        "      <th>13</th>\n",
        "      <td> 0.421659</td>\n",
        "      <td> 0.997368</td>\n",
        "    </tr>\n",
        "    <tr>\n",
        "      <th>14</th>\n",
        "      <td> 0.414094</td>\n",
        "      <td> 0.997073</td>\n",
        "    </tr>\n",
        "    <tr>\n",
        "      <th>15</th>\n",
        "      <td> 0.406077</td>\n",
        "      <td> 0.996864</td>\n",
        "    </tr>\n",
        "    <tr>\n",
        "      <th>16</th>\n",
        "      <td> 0.397977</td>\n",
        "      <td> 0.996544</td>\n",
        "    </tr>\n",
        "    <tr>\n",
        "      <th>17</th>\n",
        "      <td> 0.390001</td>\n",
        "      <td> 0.996203</td>\n",
        "    </tr>\n",
        "    <tr>\n",
        "      <th>18</th>\n",
        "      <td> 0.381614</td>\n",
        "      <td> 0.995816</td>\n",
        "    </tr>\n",
        "    <tr>\n",
        "      <th>19</th>\n",
        "      <td> 0.375488</td>\n",
        "      <td> 0.995372</td>\n",
        "    </tr>\n",
        "    <tr>\n",
        "      <th>20</th>\n",
        "      <td> 0.367553</td>\n",
        "      <td> 0.994928</td>\n",
        "    </tr>\n",
        "    <tr>\n",
        "      <th>21</th>\n",
        "      <td> 0.359865</td>\n",
        "      <td> 0.994498</td>\n",
        "    </tr>\n",
        "    <tr>\n",
        "      <th>22</th>\n",
        "      <td> 0.352465</td>\n",
        "      <td> 0.993966</td>\n",
        "    </tr>\n",
        "    <tr>\n",
        "      <th>23</th>\n",
        "      <td> 0.345558</td>\n",
        "      <td> 0.993301</td>\n",
        "    </tr>\n",
        "    <tr>\n",
        "      <th>24</th>\n",
        "      <td> 0.337294</td>\n",
        "      <td> 0.992651</td>\n",
        "    </tr>\n",
        "    <tr>\n",
        "      <th>25</th>\n",
        "      <td> 0.330387</td>\n",
        "      <td> 0.991941</td>\n",
        "    </tr>\n",
        "    <tr>\n",
        "      <th>26</th>\n",
        "      <td> 0.322370</td>\n",
        "      <td> 0.991067</td>\n",
        "    </tr>\n",
        "    <tr>\n",
        "      <th>27</th>\n",
        "      <td> 0.314229</td>\n",
        "      <td> 0.990108</td>\n",
        "    </tr>\n",
        "    <tr>\n",
        "      <th>28</th>\n",
        "      <td> 0.307733</td>\n",
        "      <td> 0.989039</td>\n",
        "    </tr>\n",
        "    <tr>\n",
        "      <th>29</th>\n",
        "      <td> 0.300374</td>\n",
        "      <td> 0.987743</td>\n",
        "    </tr>\n",
        "    <tr>\n",
        "      <th>30</th>\n",
        "      <td> 0.292809</td>\n",
        "      <td> 0.986290</td>\n",
        "    </tr>\n",
        "    <tr>\n",
        "      <th>31</th>\n",
        "      <td> 0.284751</td>\n",
        "      <td> 0.984809</td>\n",
        "    </tr>\n",
        "    <tr>\n",
        "      <th>32</th>\n",
        "      <td> 0.276693</td>\n",
        "      <td> 0.983225</td>\n",
        "    </tr>\n",
        "    <tr>\n",
        "      <th>33</th>\n",
        "      <td> 0.269334</td>\n",
        "      <td> 0.981310</td>\n",
        "    </tr>\n",
        "    <tr>\n",
        "      <th>34</th>\n",
        "      <td> 0.260371</td>\n",
        "      <td> 0.979044</td>\n",
        "    </tr>\n",
        "    <tr>\n",
        "      <th>35</th>\n",
        "      <td> 0.252477</td>\n",
        "      <td> 0.976160</td>\n",
        "    </tr>\n",
        "    <tr>\n",
        "      <th>36</th>\n",
        "      <td> 0.243432</td>\n",
        "      <td> 0.973035</td>\n",
        "    </tr>\n",
        "    <tr>\n",
        "      <th>37</th>\n",
        "      <td> 0.233812</td>\n",
        "      <td> 0.969394</td>\n",
        "    </tr>\n",
        "    <tr>\n",
        "      <th>38</th>\n",
        "      <td> 0.225671</td>\n",
        "      <td> 0.965026</td>\n",
        "    </tr>\n",
        "    <tr>\n",
        "      <th>39</th>\n",
        "      <td> 0.216503</td>\n",
        "      <td> 0.959758</td>\n",
        "    </tr>\n",
        "    <tr>\n",
        "      <th>40</th>\n",
        "      <td> 0.205320</td>\n",
        "      <td> 0.953063</td>\n",
        "    </tr>\n",
        "    <tr>\n",
        "      <th>41</th>\n",
        "      <td> 0.194589</td>\n",
        "      <td> 0.945317</td>\n",
        "    </tr>\n",
        "    <tr>\n",
        "      <th>42</th>\n",
        "      <td> 0.181269</td>\n",
        "      <td> 0.935293</td>\n",
        "    </tr>\n",
        "    <tr>\n",
        "      <th>43</th>\n",
        "      <td> 0.167414</td>\n",
        "      <td> 0.922155</td>\n",
        "    </tr>\n",
        "    <tr>\n",
        "      <th>44</th>\n",
        "      <td> 0.150146</td>\n",
        "      <td> 0.904460</td>\n",
        "    </tr>\n",
        "    <tr>\n",
        "      <th>45</th>\n",
        "      <td> 0.133865</td>\n",
        "      <td> 0.881548</td>\n",
        "    </tr>\n",
        "    <tr>\n",
        "      <th>46</th>\n",
        "      <td> 0.118078</td>\n",
        "      <td> 0.850491</td>\n",
        "    </tr>\n",
        "    <tr>\n",
        "      <th>47</th>\n",
        "      <td> 0.096822</td>\n",
        "      <td> 0.804250</td>\n",
        "    </tr>\n",
        "    <tr>\n",
        "      <th>48</th>\n",
        "      <td> 0.073881</td>\n",
        "      <td> 0.733907</td>\n",
        "    </tr>\n",
        "    <tr>\n",
        "      <th>49</th>\n",
        "      <td> 0.046623</td>\n",
        "      <td> 0.606738</td>\n",
        "    </tr>\n",
        "  </tbody>\n",
        "</table>\n",
        "</div>"
       ],
       "metadata": {},
       "output_type": "pyout",
       "prompt_number": 77,
       "text": [
        "    1 - specificity  sensitivity\n",
        "0          1.000000     1.000000\n",
        "1          0.645891     0.999776\n",
        "2          0.592772     0.999574\n",
        "3          0.557661     0.999414\n",
        "4          0.532336     0.999265\n",
        "5          0.512149     0.999066\n",
        "6          0.495334     0.998881\n",
        "7          0.480081     0.998700\n",
        "8          0.469679     0.998544\n",
        "9          0.457674     0.998380\n",
        "10         0.448300     0.998178\n",
        "11         0.438392     0.997965\n",
        "12         0.429963     0.997688\n",
        "13         0.421659     0.997368\n",
        "14         0.414094     0.997073\n",
        "15         0.406077     0.996864\n",
        "16         0.397977     0.996544\n",
        "17         0.390001     0.996203\n",
        "18         0.381614     0.995816\n",
        "19         0.375488     0.995372\n",
        "20         0.367553     0.994928\n",
        "21         0.359865     0.994498\n",
        "22         0.352465     0.993966\n",
        "23         0.345558     0.993301\n",
        "24         0.337294     0.992651\n",
        "25         0.330387     0.991941\n",
        "26         0.322370     0.991067\n",
        "27         0.314229     0.990108\n",
        "28         0.307733     0.989039\n",
        "29         0.300374     0.987743\n",
        "30         0.292809     0.986290\n",
        "31         0.284751     0.984809\n",
        "32         0.276693     0.983225\n",
        "33         0.269334     0.981310\n",
        "34         0.260371     0.979044\n",
        "35         0.252477     0.976160\n",
        "36         0.243432     0.973035\n",
        "37         0.233812     0.969394\n",
        "38         0.225671     0.965026\n",
        "39         0.216503     0.959758\n",
        "40         0.205320     0.953063\n",
        "41         0.194589     0.945317\n",
        "42         0.181269     0.935293\n",
        "43         0.167414     0.922155\n",
        "44         0.150146     0.904460\n",
        "45         0.133865     0.881548\n",
        "46         0.118078     0.850491\n",
        "47         0.096822     0.804250\n",
        "48         0.073881     0.733907\n",
        "49         0.046623     0.606738"
       ]
      }
     ],
     "prompt_number": 77
    },
    {
     "cell_type": "heading",
     "level": 1,
     "metadata": {},
     "source": [
      "Stochastic Gradient Boosting"
     ]
    },
    {
     "cell_type": "code",
     "collapsed": false,
     "input": [
      "from sklearn import ensemble\n",
      "gbc = ensemble.GradientBoostingClassifier(n_estimators=150, learning_rate=0.1, subsample=1, max_depth=5,  verbose=1)   \n"
     ],
     "language": "python",
     "metadata": {},
     "outputs": [],
     "prompt_number": 80
    },
    {
     "cell_type": "code",
     "collapsed": false,
     "input": [
      "gbc_model = gbc.fit(training_set_indels_random, training_truth_indels_random.values)\n"
     ],
     "language": "python",
     "metadata": {},
     "outputs": [
      {
       "output_type": "stream",
       "stream": "stdout",
       "text": [
        "      Iter       Train Loss   Remaining Time \n",
        "         1           0.5334            2.62m"
       ]
      },
      {
       "output_type": "stream",
       "stream": "stdout",
       "text": [
        "\n",
        "         2           0.4895            2.17m"
       ]
      },
      {
       "output_type": "stream",
       "stream": "stdout",
       "text": [
        "\n",
        "         3           0.4586            2.02m"
       ]
      },
      {
       "output_type": "stream",
       "stream": "stdout",
       "text": [
        "\n",
        "         4           0.4347            1.96m"
       ]
      },
      {
       "output_type": "stream",
       "stream": "stdout",
       "text": [
        "\n",
        "         5           0.4156            1.91m"
       ]
      },
      {
       "output_type": "stream",
       "stream": "stdout",
       "text": [
        "\n",
        "         6           0.3998            1.87m"
       ]
      },
      {
       "output_type": "stream",
       "stream": "stdout",
       "text": [
        "\n",
        "         7           0.3864            1.84m"
       ]
      },
      {
       "output_type": "stream",
       "stream": "stdout",
       "text": [
        "\n",
        "         8           0.3752            1.81m"
       ]
      },
      {
       "output_type": "stream",
       "stream": "stdout",
       "text": [
        "\n",
        "         9           0.3656            1.78m"
       ]
      },
      {
       "output_type": "stream",
       "stream": "stdout",
       "text": [
        "\n",
        "        10           0.3573            1.75m"
       ]
      },
      {
       "output_type": "stream",
       "stream": "stdout",
       "text": [
        "\n",
        "        20           0.3122            1.56m"
       ]
      },
      {
       "output_type": "stream",
       "stream": "stdout",
       "text": [
        "\n",
        "        30           0.2968            1.48m"
       ]
      },
      {
       "output_type": "stream",
       "stream": "stdout",
       "text": [
        "\n",
        "        40           0.2904            1.35m"
       ]
      },
      {
       "output_type": "stream",
       "stream": "stdout",
       "text": [
        "\n",
        "        50           0.2864            1.23m"
       ]
      },
      {
       "output_type": "stream",
       "stream": "stdout",
       "text": [
        "\n",
        "        60           0.2837            1.10m"
       ]
      },
      {
       "output_type": "stream",
       "stream": "stdout",
       "text": [
        "\n",
        "        70           0.2817           57.79s"
       ]
      },
      {
       "output_type": "stream",
       "stream": "stdout",
       "text": [
        "\n",
        "        80           0.2799           50.33s"
       ]
      },
      {
       "output_type": "stream",
       "stream": "stdout",
       "text": [
        "\n",
        "        90           0.2781           42.51s"
       ]
      },
      {
       "output_type": "stream",
       "stream": "stdout",
       "text": [
        "\n",
        "       100           0.2765           35.14s"
       ]
      },
      {
       "output_type": "stream",
       "stream": "stdout",
       "text": [
        "\n"
       ]
      },
      {
       "output_type": "stream",
       "stream": "stderr",
       "text": [
        "//anaconda/lib/python2.7/site-packages/sklearn/ensemble/gradient_boosting.py:1126: DataConversionWarning: A column-vector y was passed when a 1d array was expected. Please change the shape of y to (n_samples, ), for example using ravel().\n",
        "  y = column_or_1d(y, warn=True)\n"
       ]
      }
     ],
     "prompt_number": 81
    },
    {
     "cell_type": "code",
     "collapsed": false,
     "input": [
      "import cPickle\n",
      "#cPickle.dump(gbc_model, open('/gpfs/home/erscott/Datasets_raw/PlatinumGenomes/NA12877/NA12877_phasing/NA12877_preprocessed_training_set_GBC_model_150estim_1subsample_autosomes.pkl','w'))   \n",
      "#!gzip /gpfs/home/erscott/Datasets_raw/PlatinumGenomes/NA12877/NA12877_phasing/NA12877_preprocessed_training_set_GBC_model_150estim_1subsample_autosomes.pkl   \n",
      "\n",
      "cPickle.dump(gbc_model, open('/Users/ers_vader/git_data/cg_classifier/models/NA12877_trained_models/20140802/NA12877_preprocessed_training_set_GBC_model_500estim_1subsample_learn0.1_maxdepth7_autosomes.pkl','w'))   \n",
      "!gzip /Users/ers_vader/git_data/cg_classifier/models/NA12877_trained_models/20140802/NA12877_preprocessed_training_set_GBC_model_500estim_1subsample_learn0.1_maxdepth7_autosomes.pkl  \n",
      "\n"
     ],
     "language": "python",
     "metadata": {},
     "outputs": [],
     "prompt_number": 82
    },
    {
     "cell_type": "code",
     "collapsed": false,
     "input": [
      "zip(training_set_indels_random.columns, gbc_model.feature_importances_)"
     ],
     "language": "python",
     "metadata": {},
     "outputs": [
      {
       "metadata": {},
       "output_type": "pyout",
       "prompt_number": 83,
       "text": [
        "[('AA_CGA_CEGL', 0.064958755717202041),\n",
        " ('AA_GL', 0.055811088997018518),\n",
        " ('AB_CGA_CEGL', 0.010440994163077758),\n",
        " ('AB_GL', 0.018654662983914244),\n",
        " ('AC_CGA_CEGL', 0.0060038585812124982),\n",
        " ('AC_GL', 0.01076287533027559),\n",
        " ('AD_1', 0.047176615581964738),\n",
        " ('AD_2', 0.054637268875030572),\n",
        " ('BB_CGA_CEGL', 0.020682772848203697),\n",
        " ('BB_GL', 0.0527242726057887),\n",
        " ('BC_CGA_CEGL', 0.0),\n",
        " ('BC_GL', 0.00035278706712784416),\n",
        " ('CC_CGA_CEGL', 0.0074208989015971394),\n",
        " ('CC_GL', 0.011020228326392201),\n",
        " ('CGA_CEHQ_1', 0.11606412235546441),\n",
        " ('CGA_CEHQ_2', 0.037073043987508221),\n",
        " ('CGA_RDP', 0.05366247181551187),\n",
        " ('CGA_RPT', 0.0093389941682481131),\n",
        " ('CGA_SDO', 0.010906369039660442),\n",
        " ('DP', 0.065283777108831445),\n",
        " ('EHQ_1', 0.060890600489052982),\n",
        " ('EHQ_2', 0.066558129223503321),\n",
        " ('FT_PASS', 0.00081656426752327402),\n",
        " ('FT_VQLOW', 0.0011759141654478064),\n",
        " ('GQ', 0.035529685578859445),\n",
        " ('HQ_1', 0.024542070274222304),\n",
        " ('HQ_2', 0.042009742771045189),\n",
        " ('multiallele', 0.0),\n",
        " ('phase_/', 0.0073859332776663629),\n",
        " ('phase_|', 0.010054062077579223),\n",
        " ('vartype1_del', 0.0086327906717052118),\n",
        " ('vartype1_ins', 0.0069114700914692699),\n",
        " ('vartype1_mnp', 0.00056518980816494904),\n",
        " ('vartype1_ref', 0.0024472921005156728),\n",
        " ('vartype1_snp', 0.00068547452372710004),\n",
        " ('vartype2_del', 0.0017295913858027716),\n",
        " ('vartype2_ins', 0.0051343964497551353),\n",
        " ('vartype2_mnp', 0.0018342794498608923),\n",
        " ('vartype2_ref', 0.00057049338820963419),\n",
        " ('vartype2_snp', 0.0027998318581288315),\n",
        " ('zygosity_het-alt', 0.0),\n",
        " ('zygosity_het-miss', 0.0),\n",
        " ('zygosity_het-ref', 0.00024877426678007893),\n",
        " ('zygosity_hom-alt', 0.00031823428381884769),\n",
        " ('allelic_imbal', 0.066183621143131643)]"
       ]
      }
     ],
     "prompt_number": 83
    },
    {
     "cell_type": "code",
     "collapsed": false,
     "input": [
      "#150k random indels, all features\n",
      "gbc_model.score(test_set_score, test_truth_indels.values)"
     ],
     "language": "python",
     "metadata": {},
     "outputs": [
      {
       "metadata": {},
       "output_type": "pyout",
       "prompt_number": 84,
       "text": [
        "0.96633548129767122"
       ]
      }
     ],
     "prompt_number": 84
    },
    {
     "cell_type": "code",
     "collapsed": false,
     "input": [
      "GBC_xy_df, fpr, tpr, thresholds = get_thresholds_xy(test_set_score, test_truth_indels, gbc_model)"
     ],
     "language": "python",
     "metadata": {},
     "outputs": [
      {
       "output_type": "stream",
       "stream": "stdout",
       "text": [
        "0.152818320109 0.906591416029 0.9\n",
        "AUC:"
       ]
      },
      {
       "output_type": "stream",
       "stream": "stdout",
       "text": [
        " 0.94139082488\n"
       ]
      },
      {
       "metadata": {},
       "output_type": "display_data",
       "png": "[encoded data removed]",
       "text": [
        "<matplotlib.figure.Figure at 0x15e746410>"
       ]
      }
     ],
     "prompt_number": 85
    },
    {
     "cell_type": "code",
     "collapsed": false,
     "input": [],
     "language": "python",
     "metadata": {},
     "outputs": []
    },
    {
     "cell_type": "code",
     "collapsed": false,
     "input": [
      "gbc_test_results_df_filtered = gbc_test_results_df[gbc_test_results_df[1].astype(float) >= 0.73]\n",
      "gbc_test_results_df_filtered.truth.value_counts()"
     ],
     "language": "python",
     "metadata": {},
     "outputs": [
      {
       "metadata": {},
       "output_type": "pyout",
       "prompt_number": 214,
       "text": [
        "1    3226300\n",
        "0      42109\n",
        "dtype: int64"
       ]
      }
     ],
     "prompt_number": 214
    },
    {
     "cell_type": "heading",
     "level": 2,
     "metadata": {},
     "source": [
      "Aggregating predictions form the 3 models"
     ]
    },
    {
     "cell_type": "code",
     "collapsed": false,
     "input": [
      "def add_predictions(test_df, model_list, model_names):\n",
      "    test_df_copy = test_df.copy()\n",
      "    for models,name in zip(model_list,model_names):\n",
      "        predictions = models.predict(test_df)\n",
      "        predictions_df = pd.DataFrame(predictions)\n",
      "        predictions_df.index = test_df_copy.index\n",
      "        predictions_df.columns = [name+\"_prediction\"]\n",
      "        \n",
      "        prob =  models.predict_proba(test_df)\n",
      "        prob_df = pd.DataFrame(prob)\n",
      "        prob_df.index = test_df_copy.index\n",
      "        prob_df.columns = [name+\"_probFP\",name+'_probeTP']\n",
      "        \n",
      "        test_df_copy = test_df_copy.join(predictions_df)\n",
      "        test_df_copy = test_df_copy.join(prob_df[name+'_probeTP'])\n",
      "    return test_df_copy\n",
      "\n",
      "test_set_indels_predictions = add_predictions(test_set_indels[training_set_indels_random.columns], [lm_train, clf1, gbc_model], ['LogReg_C1_l1', 'RF_500est_gini_split4_leaf2', 'GBC_150est_learn01_maxdepth5'])        \n",
      "test_set_indels_predictions = test_set_indels_predictions.join(test_truth_indels)"
     ],
     "language": "python",
     "metadata": {},
     "outputs": [],
     "prompt_number": 112
    },
    {
     "cell_type": "code",
     "collapsed": false,
     "input": [
      "test_set_indels_predictions[test_set_indels_predictions.columns[-4:]].head()"
     ],
     "language": "python",
     "metadata": {},
     "outputs": [
      {
       "html": [
        "<div style=\"max-height:1000px;max-width:1500px;overflow:auto;\">\n",
        "<table border=\"1\" class=\"dataframe\">\n",
        "  <thead>\n",
        "    <tr style=\"text-align: right;\">\n",
        "      <th></th>\n",
        "      <th></th>\n",
        "      <th></th>\n",
        "      <th></th>\n",
        "      <th>RF_500est_gini_split4_leaf2_prediction</th>\n",
        "      <th>RF_500est_gini_split4_leaf2_probeTP</th>\n",
        "      <th>GBC_150est_learn01_maxdepth5_prediction</th>\n",
        "      <th>GBC_150est_learn01_maxdepth5_probeTP</th>\n",
        "    </tr>\n",
        "    <tr>\n",
        "      <th>CHROM</th>\n",
        "      <th>POS</th>\n",
        "      <th>REF</th>\n",
        "      <th>ALT</th>\n",
        "      <th></th>\n",
        "      <th></th>\n",
        "      <th></th>\n",
        "      <th></th>\n",
        "    </tr>\n",
        "  </thead>\n",
        "  <tbody>\n",
        "    <tr>\n",
        "      <th rowspan=\"5\" valign=\"top\">1</th>\n",
        "      <th>832297</th>\n",
        "      <th>CTG</th>\n",
        "      <th>C</th>\n",
        "      <td> 1</td>\n",
        "      <td> 0.929480</td>\n",
        "      <td> 0</td>\n",
        "      <td> 0.002830</td>\n",
        "    </tr>\n",
        "    <tr>\n",
        "      <th>838153</th>\n",
        "      <th>CA</th>\n",
        "      <th>C</th>\n",
        "      <td> 1</td>\n",
        "      <td> 0.990557</td>\n",
        "      <td> 1</td>\n",
        "      <td> 0.938260</td>\n",
        "    </tr>\n",
        "    <tr>\n",
        "      <th>867993</th>\n",
        "      <th>GTTTC</th>\n",
        "      <th>G</th>\n",
        "      <td> 1</td>\n",
        "      <td> 0.999225</td>\n",
        "      <td> 1</td>\n",
        "      <td> 0.993609</td>\n",
        "    </tr>\n",
        "    <tr>\n",
        "      <th>874950</th>\n",
        "      <th>T</th>\n",
        "      <th>TCCCTGGAGGACC</th>\n",
        "      <td> 1</td>\n",
        "      <td> 0.999960</td>\n",
        "      <td> 1</td>\n",
        "      <td> 0.993149</td>\n",
        "    </tr>\n",
        "    <tr>\n",
        "      <th>875159</th>\n",
        "      <th>AGCCAGTGGACGCCGACCT</th>\n",
        "      <th>A</th>\n",
        "      <td> 1</td>\n",
        "      <td> 0.996593</td>\n",
        "      <td> 1</td>\n",
        "      <td> 0.991991</td>\n",
        "    </tr>\n",
        "  </tbody>\n",
        "</table>\n",
        "</div>"
       ],
       "metadata": {},
       "output_type": "pyout",
       "prompt_number": 115,
       "text": [
        "                                                RF_500est_gini_split4_leaf2_prediction  \\\n",
        "CHROM POS    REF                 ALT                                                     \n",
        "1     832297 CTG                 C                                                   1   \n",
        "      838153 CA                  C                                                   1   \n",
        "      867993 GTTTC               G                                                   1   \n",
        "      874950 T                   TCCCTGGAGGACC                                       1   \n",
        "      875159 AGCCAGTGGACGCCGACCT A                                                   1   \n",
        "\n",
        "                                                RF_500est_gini_split4_leaf2_probeTP  \\\n",
        "CHROM POS    REF                 ALT                                                  \n",
        "1     832297 CTG                 C                                         0.929480   \n",
        "      838153 CA                  C                                         0.990557   \n",
        "      867993 GTTTC               G                                         0.999225   \n",
        "      874950 T                   TCCCTGGAGGACC                             0.999960   \n",
        "      875159 AGCCAGTGGACGCCGACCT A                                         0.996593   \n",
        "\n",
        "                                                GBC_150est_learn01_maxdepth5_prediction  \\\n",
        "CHROM POS    REF                 ALT                                                      \n",
        "1     832297 CTG                 C                                                    0   \n",
        "      838153 CA                  C                                                    1   \n",
        "      867993 GTTTC               G                                                    1   \n",
        "      874950 T                   TCCCTGGAGGACC                                        1   \n",
        "      875159 AGCCAGTGGACGCCGACCT A                                                    1   \n",
        "\n",
        "                                                GBC_150est_learn01_maxdepth5_probeTP  \n",
        "CHROM POS    REF                 ALT                                                  \n",
        "1     832297 CTG                 C                                          0.002830  \n",
        "      838153 CA                  C                                          0.938260  \n",
        "      867993 GTTTC               G                                          0.993609  \n",
        "      874950 T                   TCCCTGGAGGACC                              0.993149  \n",
        "      875159 AGCCAGTGGACGCCGACCT A                                          0.991991  "
       ]
      }
     ],
     "prompt_number": 115
    },
    {
     "cell_type": "code",
     "collapsed": false,
     "input": [
      "pred_cols = [i for i in test_set_indels_predictions.columns if 'prediction' in i]\n",
      "pred_cols.append('truth')\n",
      "test_set_indels_predictions[pred_cols].corr(method='spearman')"
     ],
     "language": "python",
     "metadata": {},
     "outputs": [
      {
       "html": [
        "<div style=\"max-height:1000px;max-width:1500px;overflow:auto;\">\n",
        "<table border=\"1\" class=\"dataframe\">\n",
        "  <thead>\n",
        "    <tr style=\"text-align: right;\">\n",
        "      <th></th>\n",
        "      <th>LogReg_C1_l1_prediction</th>\n",
        "      <th>RF_500est_gini_split4_leaf2_prediction</th>\n",
        "      <th>GBC_150est_learn01_maxdepth5_prediction</th>\n",
        "      <th>truth</th>\n",
        "    </tr>\n",
        "  </thead>\n",
        "  <tbody>\n",
        "    <tr>\n",
        "      <th>LogReg_C1_l1_prediction</th>\n",
        "      <td> 1.000000</td>\n",
        "      <td> 0.872701</td>\n",
        "      <td> 0.877046</td>\n",
        "      <td> 0.716980</td>\n",
        "    </tr>\n",
        "    <tr>\n",
        "      <th>RF_500est_gini_split4_leaf2_prediction</th>\n",
        "      <td> 0.872701</td>\n",
        "      <td> 1.000000</td>\n",
        "      <td> 0.941542</td>\n",
        "      <td> 0.749771</td>\n",
        "    </tr>\n",
        "    <tr>\n",
        "      <th>GBC_150est_learn01_maxdepth5_prediction</th>\n",
        "      <td> 0.877046</td>\n",
        "      <td> 0.941542</td>\n",
        "      <td> 1.000000</td>\n",
        "      <td> 0.750430</td>\n",
        "    </tr>\n",
        "    <tr>\n",
        "      <th>truth</th>\n",
        "      <td> 0.716980</td>\n",
        "      <td> 0.749771</td>\n",
        "      <td> 0.750430</td>\n",
        "      <td> 1.000000</td>\n",
        "    </tr>\n",
        "  </tbody>\n",
        "</table>\n",
        "</div>"
       ],
       "metadata": {},
       "output_type": "pyout",
       "prompt_number": 140,
       "text": [
        "                                         LogReg_C1_l1_prediction  \\\n",
        "LogReg_C1_l1_prediction                                 1.000000   \n",
        "RF_500est_gini_split4_leaf2_prediction                  0.872701   \n",
        "GBC_150est_learn01_maxdepth5_prediction                 0.877046   \n",
        "truth                                                   0.716980   \n",
        "\n",
        "                                         RF_500est_gini_split4_leaf2_prediction  \\\n",
        "LogReg_C1_l1_prediction                                                0.872701   \n",
        "RF_500est_gini_split4_leaf2_prediction                                 1.000000   \n",
        "GBC_150est_learn01_maxdepth5_prediction                                0.941542   \n",
        "truth                                                                  0.749771   \n",
        "\n",
        "                                         GBC_150est_learn01_maxdepth5_prediction  \\\n",
        "LogReg_C1_l1_prediction                                                 0.877046   \n",
        "RF_500est_gini_split4_leaf2_prediction                                  0.941542   \n",
        "GBC_150est_learn01_maxdepth5_prediction                                 1.000000   \n",
        "truth                                                                   0.750430   \n",
        "\n",
        "                                            truth  \n",
        "LogReg_C1_l1_prediction                  0.716980  \n",
        "RF_500est_gini_split4_leaf2_prediction   0.749771  \n",
        "GBC_150est_learn01_maxdepth5_prediction  0.750430  \n",
        "truth                                    1.000000  "
       ]
      }
     ],
     "prompt_number": 140
    },
    {
     "cell_type": "code",
     "collapsed": false,
     "input": [
      "test_set_indels_predictions.to_csv('/Users/ers_vader/git_data/cg_classifier/models/allFeatures/NA12877_trained_models/20140802/NA12877trainedClassifier_predictions_for_NA12878_indels_LR_RF_GBC_unscaled_allfeatures_noCGAXR.tsv', sep=\"\\t\")      \n"
     ],
     "language": "python",
     "metadata": {},
     "outputs": [],
     "prompt_number": 119
    },
    {
     "cell_type": "code",
     "collapsed": false,
     "input": [
      "from matplotlib import cm\n",
      "cm.winter_r()"
     ],
     "language": "python",
     "metadata": {},
     "outputs": [
      {
       "ename": "TypeError",
       "evalue": "__call__() takes at least 2 arguments (1 given)",
       "output_type": "pyerr",
       "traceback": [
        "\u001b[0;31m---------------------------------------------------------------------------\u001b[0m\n\u001b[0;31mTypeError\u001b[0m                                 Traceback (most recent call last)",
        "\u001b[0;32m<ipython-input-155-cd8fcb3e9639>\u001b[0m in \u001b[0;36m<module>\u001b[0;34m()\u001b[0m\n\u001b[1;32m      1\u001b[0m \u001b[0;32mfrom\u001b[0m \u001b[0mmatplotlib\u001b[0m \u001b[0;32mimport\u001b[0m \u001b[0mcm\u001b[0m\u001b[0;34m\u001b[0m\u001b[0m\n\u001b[0;32m----> 2\u001b[0;31m \u001b[0mcm\u001b[0m\u001b[0;34m.\u001b[0m\u001b[0mwinter_r\u001b[0m\u001b[0;34m(\u001b[0m\u001b[0;34m)\u001b[0m\u001b[0;34m\u001b[0m\u001b[0m\n\u001b[0m",
        "\u001b[0;31mTypeError\u001b[0m: __call__() takes at least 2 arguments (1 given)"
       ]
      }
     ],
     "prompt_number": 155
    },
    {
     "cell_type": "code",
     "collapsed": false,
     "input": [
      "#HEATMAP FOR CORRELATIONS BETWEEN CLASSIFIER SCORES & TRUTH\n",
      "\n",
      "prob_cols = [i for i in test_set_indels_predictions.columns if 'prob' in i]\n",
      "prob_cols.append('truth')\n",
      "test_set_indels_predictions[prob_cols].corr(method='pearson')\n",
      "\n",
      "\n",
      "import matplotlib.pyplot as plt\n",
      "prob_corr_df = test_set_indels_predictions[prob_cols].corr()\n",
      "prob_corr_df.columns = ['LogReg', 'RF', 'GBC', 'Truth']\n",
      "prob_corr_df.index = ['LogReg', 'RF', 'GBC', 'Truth']\n",
      "prob_corr_df['Truth'] = prob_corr_df['Truth'].astype(float)\n",
      "fig, ax = plt.subplots()\n",
      "heatmap = ax.pcolor(prob_corr_df, cmap=plt.cm.GnBu, alpha=0.8)\n",
      "plt.yticks(np.arange(0.5, len(prob_corr_df.index), 1), prob_corr_df.index)\n",
      "plt.xticks(np.arange(0.5, len(prob_corr_df.columns), 1), prob_corr_df.columns)\n",
      "\n",
      "# want a more natural, table-like display\n",
      "ax.invert_yaxis()\n",
      "ax.xaxis.tick_top()\n",
      "plt.show()\n"
     ],
     "language": "python",
     "metadata": {},
     "outputs": [
      {
       "metadata": {},
       "output_type": "display_data",
       "png": "[encoded data removed]",
       "text": [
        "<matplotlib.figure.Figure at 0x15ffd1210>"
       ]
      }
     ],
     "prompt_number": 196
    },
    {
     "cell_type": "code",
     "collapsed": false,
     "input": [
      "prob_corr_df"
     ],
     "language": "python",
     "metadata": {},
     "outputs": [
      {
       "html": [
        "<div style=\"max-height:1000px;max-width:1500px;overflow:auto;\">\n",
        "<table border=\"1\" class=\"dataframe\">\n",
        "  <thead>\n",
        "    <tr style=\"text-align: right;\">\n",
        "      <th></th>\n",
        "      <th>LogReg</th>\n",
        "      <th>RF</th>\n",
        "      <th>GBC</th>\n",
        "      <th>Truth</th>\n",
        "    </tr>\n",
        "  </thead>\n",
        "  <tbody>\n",
        "    <tr>\n",
        "      <th>LogReg</th>\n",
        "      <td> 1.000000</td>\n",
        "      <td> 0.942404</td>\n",
        "      <td> 0.950558</td>\n",
        "      <td> 0.752103</td>\n",
        "    </tr>\n",
        "    <tr>\n",
        "      <th>RF</th>\n",
        "      <td> 0.942404</td>\n",
        "      <td> 1.000000</td>\n",
        "      <td> 0.977550</td>\n",
        "      <td> 0.780983</td>\n",
        "    </tr>\n",
        "    <tr>\n",
        "      <th>GBC</th>\n",
        "      <td> 0.950558</td>\n",
        "      <td> 0.977550</td>\n",
        "      <td> 1.000000</td>\n",
        "      <td> 0.785929</td>\n",
        "    </tr>\n",
        "    <tr>\n",
        "      <th>Truth</th>\n",
        "      <td> 0.752103</td>\n",
        "      <td> 0.780983</td>\n",
        "      <td> 0.785929</td>\n",
        "      <td> 1.000000</td>\n",
        "    </tr>\n",
        "  </tbody>\n",
        "</table>\n",
        "</div>"
       ],
       "metadata": {},
       "output_type": "pyout",
       "prompt_number": 192,
       "text": [
        "          LogReg        RF       GBC     Truth\n",
        "LogReg  1.000000  0.942404  0.950558  0.752103\n",
        "RF      0.942404  1.000000  0.977550  0.780983\n",
        "GBC     0.950558  0.977550  1.000000  0.785929\n",
        "Truth   0.752103  0.780983  0.785929  1.000000"
       ]
      }
     ],
     "prompt_number": 192
    },
    {
     "cell_type": "code",
     "collapsed": false,
     "input": [
      "fig.savefig('/Users/ers_vader/git_data/cg_classifier/models/NA12877_trained_models/20140802/allFeatures/NA12877trainedClassifier_HEATMAP_for_NA12878bench_indels_allFeatures_unscaled.png')"
     ],
     "language": "python",
     "metadata": {},
     "outputs": [],
     "prompt_number": 191
    },
    {
     "cell_type": "heading",
     "level": 1,
     "metadata": {},
     "source": [
      "ROC LogReg vs RF vs GBC"
     ]
    },
    {
     "cell_type": "code",
     "collapsed": false,
     "input": [
      "logReg_xy_df.to_csv('/Users/ers_vader/git_data/cg_classifier/models/NA12877_trained_models/20140802/logReg_xy_df_allfeatures.txt',sep='\\t')\n",
      "RF_xy_df.to_csv('/Users/ers_vader/git_data/cg_classifier/models/NA12877_trained_models/20140802/RF_xy_df_allfeatures', sep='\\t')\n",
      "GBC_xy_df.to_csv('/Users/ers_vader/git_data/cg_classifier/models/NA12877_trained_models/20140802/gbc_xy_df_allfeatures',sep=\"\\t\")"
     ],
     "language": "python",
     "metadata": {},
     "outputs": [],
     "prompt_number": 88
    },
    {
     "cell_type": "code",
     "collapsed": false,
     "input": [
      "len(logReg_xy_df)"
     ],
     "language": "python",
     "metadata": {},
     "outputs": [
      {
       "metadata": {},
       "output_type": "pyout",
       "prompt_number": 278,
       "text": [
        "50"
       ]
      }
     ],
     "prompt_number": 278
    },
    {
     "cell_type": "code",
     "collapsed": false,
     "input": [
      "\n",
      "matplotlib.rcParams.update({'figure.figsize':(8,8)})\n",
      "matplotlib.rcParams.update({'font.size': 16})\n",
      "rcParams['figure.dpi'] = 800\n",
      "rcParams['axes.linewidth'] = 4\n",
      "rcParams['lines.linewidth'] = 2.0\n",
      "rcParams['lines.markersize'] = 6\n",
      "f, axarr = plt.subplots()\n",
      "axarr.plot(logReg_xy_df['1 - specificity'], logReg_xy_df['sensitivity'],'D--', c='#461CDB', label='LogReg')\n",
      "axarr.plot(RF_xy_df['1 - specificity'].values, RF_xy_df['sensitivity'].values,'o--',c='#00ADEF', label='RF')\n",
      "axarr.plot(GBC_xy_df['1 - specificity'].values, GBC_xy_df['sensitivity'].values, 's--',c='#FF1111', label='GBC')\n",
      "legend(loc=7)\n",
      "legend(loc=7)\n",
      "\n",
      "#'go-', label='line 1', linewidth=2\n",
      "#fig = x_y_df.plot(x='f p', y='t p')\n"
     ],
     "language": "python",
     "metadata": {},
     "outputs": [
      {
       "metadata": {},
       "output_type": "pyout",
       "prompt_number": 137,
       "text": [
        "<matplotlib.legend.Legend at 0x1a6d62310>"
       ]
      },
      {
       "metadata": {},
       "output_type": "display_data",
       "png": "[encoded data removed]",
       "text": [
        "<matplotlib.figure.Figure at 0x1a6d39410>"
       ]
      }
     ],
     "prompt_number": 137
    },
    {
     "cell_type": "code",
     "collapsed": false,
     "input": [
      "f.savefig('/Users/ers_vader/git_data/cg_classifier/models/NA12877_trained_models/20140802/allFeatures/NA12877trainedClassifier_ROC_for_NA12878bench_indels_allFeatures_unscaled.png')     \n",
      "\n"
     ],
     "language": "python",
     "metadata": {},
     "outputs": [],
     "prompt_number": 138
    },
    {
     "cell_type": "heading",
     "level": 1,
     "metadata": {},
     "source": [
      "Joining Model Predictions to Test Set"
     ]
    },
    {
     "cell_type": "code",
     "collapsed": false,
     "input": [
      "LR_test_results_df.columns = ['lr_prob0', 'lr_prob1', 'truth']\n",
      "LR_test_results_df1 = LR_test_results_df[['lr_prob1']]\n",
      "\n",
      "rf_test_results_df.columns = ['rf_prob0', 'rf_prob1', 'truth']\n",
      "rf_test_results_df1 = rf_test_results_df[['rf_prob1']]\n",
      "\n",
      "gbc_test_results_df.columns = ['gbc_prob0','gbc_prob1', 'truth']\n",
      "gbc_test_results_df1 = gbc_test_results_df[['gbc_prob1', 'truth']]\n",
      "\n",
      "test_set_annotated = test_set.join([LR_test_results_df1, rf_test_results_df1, gbc_test_results_df1])"
     ],
     "language": "python",
     "metadata": {},
     "outputs": [],
     "prompt_number": 228
    },
    {
     "cell_type": "code",
     "collapsed": false,
     "input": [
      "test_set_annotated.to_csv('/Users/ers_vader/git_data/cg_classifier/models/20140724/lr_rf_gbc_model_results_NA12878.txt', sep=\"\\t\")"
     ],
     "language": "python",
     "metadata": {},
     "outputs": [],
     "prompt_number": 230
    },
    {
     "cell_type": "code",
     "collapsed": false,
     "input": [
      "#CORRELATIONS BETWEEN SCORES\n",
      "pd.scatter_matrix(test_set_annotated[['lr_prob1', 'rf_prob1', 'gbc_prob1']].head(1000), figsize=(10,10))"
     ],
     "language": "python",
     "metadata": {},
     "outputs": [
      {
       "metadata": {},
       "output_type": "pyout",
       "prompt_number": 237,
       "text": [
        "array([[<matplotlib.axes.AxesSubplot object at 0x3bd1a5890>,\n",
        "        <matplotlib.axes.AxesSubplot object at 0x3bd2a3750>,\n",
        "        <matplotlib.axes.AxesSubplot object at 0x3bd417610>],\n",
        "       [<matplotlib.axes.AxesSubplot object at 0x3c67bd690>,\n",
        "        <matplotlib.axes.AxesSubplot object at 0x3c683d450>,\n",
        "        <matplotlib.axes.AxesSubplot object at 0x3c68a1150>],\n",
        "       [<matplotlib.axes.AxesSubplot object at 0x3c6913fd0>,\n",
        "        <matplotlib.axes.AxesSubplot object at 0x3c6956090>,\n",
        "        <matplotlib.axes.AxesSubplot object at 0x3c6a01b50>]], dtype=object)"
       ]
      },
      {
       "metadata": {},
       "output_type": "display_data",
       "png": "[encoded data removed]",
       "text": [
        "<matplotlib.figure.Figure at 0x3a18372d0>"
       ]
      }
     ],
     "prompt_number": 237
    },
    {
     "cell_type": "code",
     "collapsed": false,
     "input": [
      "test_set_annotated_filtered = test_set_annotated[(test_set_annotated.lr_prob1 < 0.74) & (test_set_annotated.rf_prob1 < 0.73) & (test_set_annotated.gbc_prob1 < 0.73)]            \n",
      "test_set_annotated_pass = test_set_annotated[~test_set_annotated.index.isin(test_set_annotated_filtered.index)]\n"
     ],
     "language": "python",
     "metadata": {},
     "outputs": [],
     "prompt_number": 254
    },
    {
     "cell_type": "code",
     "collapsed": false,
     "input": [
      "test_set_annotated_pass.describe()"
     ],
     "language": "python",
     "metadata": {},
     "outputs": [
      {
       "html": [
        "<div style=\"max-height:1000px;max-width:1500px;overflow:auto;\">\n",
        "<table border=\"1\" class=\"dataframe\">\n",
        "  <thead>\n",
        "    <tr style=\"text-align: right;\">\n",
        "      <th></th>\n",
        "      <th>CGA_SDO</th>\n",
        "      <th>GQ</th>\n",
        "      <th>DP</th>\n",
        "      <th>CGA_RDP</th>\n",
        "      <th>FT_PASS</th>\n",
        "      <th>FT_VQLOW</th>\n",
        "      <th>vartype1_del</th>\n",
        "      <th>vartype1_ins</th>\n",
        "      <th>vartype1_mnp</th>\n",
        "      <th>vartype1_snp</th>\n",
        "      <th>...</th>\n",
        "      <th>CGA_CEHQ_1</th>\n",
        "      <th>CGA_CEHQ_2</th>\n",
        "      <th>AD_1</th>\n",
        "      <th>AD_2</th>\n",
        "      <th>CGA_RPT</th>\n",
        "      <th>multiallele</th>\n",
        "      <th>lr_prob1</th>\n",
        "      <th>rf_prob1</th>\n",
        "      <th>gbc_prob1</th>\n",
        "      <th>truth</th>\n",
        "    </tr>\n",
        "  </thead>\n",
        "  <tbody>\n",
        "    <tr>\n",
        "      <th>count</th>\n",
        "      <td> 3391569.000000</td>\n",
        "      <td> 3391569.000000</td>\n",
        "      <td> 3391569.000000</td>\n",
        "      <td> 3391569.000000</td>\n",
        "      <td> 3391569.000000</td>\n",
        "      <td> 3391569.000000</td>\n",
        "      <td> 3391569.000000</td>\n",
        "      <td> 3391569.000000</td>\n",
        "      <td> 3391569.000000</td>\n",
        "      <td> 3391569.000000</td>\n",
        "      <td>...</td>\n",
        "      <td> 3391569.000000</td>\n",
        "      <td> 3391569.000000</td>\n",
        "      <td> 3391569.000000</td>\n",
        "      <td> 3391569.000000</td>\n",
        "      <td> 3391569.000000</td>\n",
        "      <td> 3391569.000000</td>\n",
        "      <td> 3.391569e+06</td>\n",
        "      <td> 3391569.000000</td>\n",
        "      <td> 3391569.000000</td>\n",
        "      <td> 3391569.000000</td>\n",
        "    </tr>\n",
        "    <tr>\n",
        "      <th>mean</th>\n",
        "      <td>       0.050790</td>\n",
        "      <td>     207.569432</td>\n",
        "      <td>      40.088433</td>\n",
        "      <td>      12.309128</td>\n",
        "      <td>       0.995796</td>\n",
        "      <td>       0.004204</td>\n",
        "      <td>       0.041478</td>\n",
        "      <td>       0.039370</td>\n",
        "      <td>       0.006994</td>\n",
        "      <td>       0.912158</td>\n",
        "      <td>...</td>\n",
        "      <td>      46.412337</td>\n",
        "      <td>      48.083596</td>\n",
        "      <td>      27.727612</td>\n",
        "      <td>      28.075075</td>\n",
        "      <td>       0.508612</td>\n",
        "      <td>       0.001443</td>\n",
        "      <td> 9.204016e-01</td>\n",
        "      <td>       0.934489</td>\n",
        "      <td>       0.931808</td>\n",
        "      <td>       0.983228</td>\n",
        "    </tr>\n",
        "    <tr>\n",
        "      <th>std</th>\n",
        "      <td>       0.727428</td>\n",
        "      <td>     135.293673</td>\n",
        "      <td>      13.518597</td>\n",
        "      <td>      11.456422</td>\n",
        "      <td>       0.064699</td>\n",
        "      <td>       0.064699</td>\n",
        "      <td>       0.199394</td>\n",
        "      <td>       0.194474</td>\n",
        "      <td>       0.083334</td>\n",
        "      <td>       0.283065</td>\n",
        "      <td>...</td>\n",
        "      <td>       6.677852</td>\n",
        "      <td>       6.264716</td>\n",
        "      <td>      14.185007</td>\n",
        "      <td>      14.033077</td>\n",
        "      <td>       0.499926</td>\n",
        "      <td>       0.037955</td>\n",
        "      <td> 8.603807e-02</td>\n",
        "      <td>       0.104455</td>\n",
        "      <td>       0.085143</td>\n",
        "      <td>       0.128417</td>\n",
        "    </tr>\n",
        "    <tr>\n",
        "      <th>min</th>\n",
        "      <td>       0.000000</td>\n",
        "      <td>      10.000000</td>\n",
        "      <td>       1.000000</td>\n",
        "      <td>       0.000000</td>\n",
        "      <td>       0.000000</td>\n",
        "      <td>       0.000000</td>\n",
        "      <td>       0.000000</td>\n",
        "      <td>       0.000000</td>\n",
        "      <td>       0.000000</td>\n",
        "      <td>       0.000000</td>\n",
        "      <td>...</td>\n",
        "      <td>       0.000000</td>\n",
        "      <td>       0.000000</td>\n",
        "      <td>       0.000000</td>\n",
        "      <td>       0.000000</td>\n",
        "      <td>       0.000000</td>\n",
        "      <td>       0.000000</td>\n",
        "      <td> 4.162189e-20</td>\n",
        "      <td>       0.000000</td>\n",
        "      <td>       0.002402</td>\n",
        "      <td>       0.000000</td>\n",
        "    </tr>\n",
        "    <tr>\n",
        "      <th>25%</th>\n",
        "      <td>       0.000000</td>\n",
        "      <td>      97.000000</td>\n",
        "      <td>      31.000000</td>\n",
        "      <td>       0.000000</td>\n",
        "      <td>       1.000000</td>\n",
        "      <td>       0.000000</td>\n",
        "      <td>       0.000000</td>\n",
        "      <td>       0.000000</td>\n",
        "      <td>       0.000000</td>\n",
        "      <td>       1.000000</td>\n",
        "      <td>...</td>\n",
        "      <td>      43.000000</td>\n",
        "      <td>      46.000000</td>\n",
        "      <td>      17.000000</td>\n",
        "      <td>      18.000000</td>\n",
        "      <td>       0.000000</td>\n",
        "      <td>       0.000000</td>\n",
        "      <td> 9.038109e-01</td>\n",
        "      <td>       0.919224</td>\n",
        "      <td>       0.926348</td>\n",
        "      <td>       1.000000</td>\n",
        "    </tr>\n",
        "    <tr>\n",
        "      <th>50%</th>\n",
        "      <td>       0.000000</td>\n",
        "      <td>     171.000000</td>\n",
        "      <td>      39.000000</td>\n",
        "      <td>      13.000000</td>\n",
        "      <td>       1.000000</td>\n",
        "      <td>       0.000000</td>\n",
        "      <td>       0.000000</td>\n",
        "      <td>       0.000000</td>\n",
        "      <td>       0.000000</td>\n",
        "      <td>       1.000000</td>\n",
        "      <td>...</td>\n",
        "      <td>      49.000000</td>\n",
        "      <td>      50.000000</td>\n",
        "      <td>      24.000000</td>\n",
        "      <td>      25.000000</td>\n",
        "      <td>       1.000000</td>\n",
        "      <td>       0.000000</td>\n",
        "      <td> 9.523961e-01</td>\n",
        "      <td>       0.978450</td>\n",
        "      <td>       0.964980</td>\n",
        "      <td>       1.000000</td>\n",
        "    </tr>\n",
        "    <tr>\n",
        "      <th>75%</th>\n",
        "      <td>       0.000000</td>\n",
        "      <td>     300.000000</td>\n",
        "      <td>      49.000000</td>\n",
        "      <td>      22.000000</td>\n",
        "      <td>       1.000000</td>\n",
        "      <td>       0.000000</td>\n",
        "      <td>       0.000000</td>\n",
        "      <td>       0.000000</td>\n",
        "      <td>       0.000000</td>\n",
        "      <td>       1.000000</td>\n",
        "      <td>...</td>\n",
        "      <td>      52.000000</td>\n",
        "      <td>      53.000000</td>\n",
        "      <td>      36.000000</td>\n",
        "      <td>      36.000000</td>\n",
        "      <td>       1.000000</td>\n",
        "      <td>       0.000000</td>\n",
        "      <td> 9.714290e-01</td>\n",
        "      <td>       0.996000</td>\n",
        "      <td>       0.975699</td>\n",
        "      <td>       1.000000</td>\n",
        "    </tr>\n",
        "    <tr>\n",
        "      <th>max</th>\n",
        "      <td>     231.000000</td>\n",
        "      <td>    3161.000000</td>\n",
        "      <td>     913.000000</td>\n",
        "      <td>     164.000000</td>\n",
        "      <td>       1.000000</td>\n",
        "      <td>       1.000000</td>\n",
        "      <td>       1.000000</td>\n",
        "      <td>       1.000000</td>\n",
        "      <td>       1.000000</td>\n",
        "      <td>       1.000000</td>\n",
        "      <td>...</td>\n",
        "      <td>      57.000000</td>\n",
        "      <td>      57.000000</td>\n",
        "      <td>     900.000000</td>\n",
        "      <td>     900.000000</td>\n",
        "      <td>       1.000000</td>\n",
        "      <td>       1.000000</td>\n",
        "      <td> 1.000000e+00</td>\n",
        "      <td>       1.000000</td>\n",
        "      <td>       0.986483</td>\n",
        "      <td>       1.000000</td>\n",
        "    </tr>\n",
        "  </tbody>\n",
        "</table>\n",
        "<p>8 rows \u00d7 45 columns</p>\n",
        "</div>"
       ],
       "metadata": {},
       "output_type": "pyout",
       "prompt_number": 255,
       "text": [
        "              CGA_SDO              GQ              DP         CGA_RDP  \\\n",
        "count  3391569.000000  3391569.000000  3391569.000000  3391569.000000   \n",
        "mean         0.050790      207.569432       40.088433       12.309128   \n",
        "std          0.727428      135.293673       13.518597       11.456422   \n",
        "min          0.000000       10.000000        1.000000        0.000000   \n",
        "25%          0.000000       97.000000       31.000000        0.000000   \n",
        "50%          0.000000      171.000000       39.000000       13.000000   \n",
        "75%          0.000000      300.000000       49.000000       22.000000   \n",
        "max        231.000000     3161.000000      913.000000      164.000000   \n",
        "\n",
        "              FT_PASS        FT_VQLOW    vartype1_del    vartype1_ins  \\\n",
        "count  3391569.000000  3391569.000000  3391569.000000  3391569.000000   \n",
        "mean         0.995796        0.004204        0.041478        0.039370   \n",
        "std          0.064699        0.064699        0.199394        0.194474   \n",
        "min          0.000000        0.000000        0.000000        0.000000   \n",
        "25%          1.000000        0.000000        0.000000        0.000000   \n",
        "50%          1.000000        0.000000        0.000000        0.000000   \n",
        "75%          1.000000        0.000000        0.000000        0.000000   \n",
        "max          1.000000        1.000000        1.000000        1.000000   \n",
        "\n",
        "         vartype1_mnp    vartype1_snp       ...            CGA_CEHQ_1  \\\n",
        "count  3391569.000000  3391569.000000       ...        3391569.000000   \n",
        "mean         0.006994        0.912158       ...             46.412337   \n",
        "std          0.083334        0.283065       ...              6.677852   \n",
        "min          0.000000        0.000000       ...              0.000000   \n",
        "25%          0.000000        1.000000       ...             43.000000   \n",
        "50%          0.000000        1.000000       ...             49.000000   \n",
        "75%          0.000000        1.000000       ...             52.000000   \n",
        "max          1.000000        1.000000       ...             57.000000   \n",
        "\n",
        "           CGA_CEHQ_2            AD_1            AD_2         CGA_RPT  \\\n",
        "count  3391569.000000  3391569.000000  3391569.000000  3391569.000000   \n",
        "mean        48.083596       27.727612       28.075075        0.508612   \n",
        "std          6.264716       14.185007       14.033077        0.499926   \n",
        "min          0.000000        0.000000        0.000000        0.000000   \n",
        "25%         46.000000       17.000000       18.000000        0.000000   \n",
        "50%         50.000000       24.000000       25.000000        1.000000   \n",
        "75%         53.000000       36.000000       36.000000        1.000000   \n",
        "max         57.000000      900.000000      900.000000        1.000000   \n",
        "\n",
        "          multiallele      lr_prob1        rf_prob1       gbc_prob1  \\\n",
        "count  3391569.000000  3.391569e+06  3391569.000000  3391569.000000   \n",
        "mean         0.001443  9.204016e-01        0.934489        0.931808   \n",
        "std          0.037955  8.603807e-02        0.104455        0.085143   \n",
        "min          0.000000  4.162189e-20        0.000000        0.002402   \n",
        "25%          0.000000  9.038109e-01        0.919224        0.926348   \n",
        "50%          0.000000  9.523961e-01        0.978450        0.964980   \n",
        "75%          0.000000  9.714290e-01        0.996000        0.975699   \n",
        "max          1.000000  1.000000e+00        1.000000        0.986483   \n",
        "\n",
        "                truth  \n",
        "count  3391569.000000  \n",
        "mean         0.983228  \n",
        "std          0.128417  \n",
        "min          0.000000  \n",
        "25%          1.000000  \n",
        "50%          1.000000  \n",
        "75%          1.000000  \n",
        "max          1.000000  \n",
        "\n",
        "[8 rows x 45 columns]"
       ]
      }
     ],
     "prompt_number": 255
    },
    {
     "cell_type": "code",
     "collapsed": false,
     "input": [
      "test_set_annotated_filtered.describe()"
     ],
     "language": "python",
     "metadata": {},
     "outputs": [
      {
       "html": [
        "<div style=\"max-height:1000px;max-width:1500px;overflow:auto;\">\n",
        "<table border=\"1\" class=\"dataframe\">\n",
        "  <thead>\n",
        "    <tr style=\"text-align: right;\">\n",
        "      <th></th>\n",
        "      <th>CGA_SDO</th>\n",
        "      <th>GQ</th>\n",
        "      <th>DP</th>\n",
        "      <th>CGA_RDP</th>\n",
        "      <th>FT_PASS</th>\n",
        "      <th>FT_VQLOW</th>\n",
        "      <th>vartype1_del</th>\n",
        "      <th>vartype1_ins</th>\n",
        "      <th>vartype1_mnp</th>\n",
        "      <th>vartype1_snp</th>\n",
        "      <th>...</th>\n",
        "      <th>CGA_CEHQ_1</th>\n",
        "      <th>CGA_CEHQ_2</th>\n",
        "      <th>AD_1</th>\n",
        "      <th>AD_2</th>\n",
        "      <th>CGA_RPT</th>\n",
        "      <th>multiallele</th>\n",
        "      <th>lr_prob1</th>\n",
        "      <th>rf_prob1</th>\n",
        "      <th>gbc_prob1</th>\n",
        "      <th>truth</th>\n",
        "    </tr>\n",
        "  </thead>\n",
        "  <tbody>\n",
        "    <tr>\n",
        "      <th>count</th>\n",
        "      <td> 478791.000000</td>\n",
        "      <td> 478791.000000</td>\n",
        "      <td> 478791.000000</td>\n",
        "      <td> 478791.000000</td>\n",
        "      <td> 478791.000000</td>\n",
        "      <td> 478791.000000</td>\n",
        "      <td> 478791.000000</td>\n",
        "      <td> 478791.000000</td>\n",
        "      <td> 478791.000000</td>\n",
        "      <td> 478791.000000</td>\n",
        "      <td>...</td>\n",
        "      <td> 478791.000000</td>\n",
        "      <td> 478791.000000</td>\n",
        "      <td> 478791.000000</td>\n",
        "      <td> 478791.000000</td>\n",
        "      <td> 478791.000000</td>\n",
        "      <td> 478791.000000</td>\n",
        "      <td> 4.787910e+05</td>\n",
        "      <td> 478791.000000</td>\n",
        "      <td> 478791.000000</td>\n",
        "      <td> 478791.000000</td>\n",
        "    </tr>\n",
        "    <tr>\n",
        "      <th>mean</th>\n",
        "      <td>      0.642050</td>\n",
        "      <td>   -198.217237</td>\n",
        "      <td>     33.853863</td>\n",
        "      <td>     15.409350</td>\n",
        "      <td>      0.668087</td>\n",
        "      <td>      0.331913</td>\n",
        "      <td>      0.231811</td>\n",
        "      <td>      0.210689</td>\n",
        "      <td>      0.047935</td>\n",
        "      <td>      0.509565</td>\n",
        "      <td>...</td>\n",
        "      <td>     10.704706</td>\n",
        "      <td>   -257.506854</td>\n",
        "      <td>      6.910566</td>\n",
        "      <td>   -260.603783</td>\n",
        "      <td>      0.700379</td>\n",
        "      <td>      0.026331</td>\n",
        "      <td> 2.092720e-01</td>\n",
        "      <td>      0.208273</td>\n",
        "      <td>      0.205766</td>\n",
        "      <td>      0.370243</td>\n",
        "    </tr>\n",
        "    <tr>\n",
        "      <th>std</th>\n",
        "      <td>      2.816854</td>\n",
        "      <td>    533.664865</td>\n",
        "      <td>     31.741194</td>\n",
        "      <td>     19.435398</td>\n",
        "      <td>      0.470900</td>\n",
        "      <td>      0.470900</td>\n",
        "      <td>      0.421989</td>\n",
        "      <td>      0.407798</td>\n",
        "      <td>      0.213630</td>\n",
        "      <td>      0.499909</td>\n",
        "      <td>...</td>\n",
        "      <td>    102.986726</td>\n",
        "      <td>    460.157909</td>\n",
        "      <td>    103.240368</td>\n",
        "      <td>    458.372695</td>\n",
        "      <td>      0.458093</td>\n",
        "      <td>      0.160118</td>\n",
        "      <td> 2.331011e-01</td>\n",
        "      <td>      0.232303</td>\n",
        "      <td>      0.226560</td>\n",
        "      <td>      0.482870</td>\n",
        "    </tr>\n",
        "    <tr>\n",
        "      <th>min</th>\n",
        "      <td>      0.000000</td>\n",
        "      <td>   -999.000000</td>\n",
        "      <td>      1.000000</td>\n",
        "      <td>      0.000000</td>\n",
        "      <td>      0.000000</td>\n",
        "      <td>      0.000000</td>\n",
        "      <td>      0.000000</td>\n",
        "      <td>      0.000000</td>\n",
        "      <td>      0.000000</td>\n",
        "      <td>      0.000000</td>\n",
        "      <td>...</td>\n",
        "      <td>   -999.000000</td>\n",
        "      <td>   -999.000000</td>\n",
        "      <td>   -999.000000</td>\n",
        "      <td>   -999.000000</td>\n",
        "      <td>      0.000000</td>\n",
        "      <td>      0.000000</td>\n",
        "      <td> 3.186312e-89</td>\n",
        "      <td>      0.000000</td>\n",
        "      <td>      0.000854</td>\n",
        "      <td>      0.000000</td>\n",
        "    </tr>\n",
        "    <tr>\n",
        "      <th>25%</th>\n",
        "      <td>      0.000000</td>\n",
        "      <td>   -999.000000</td>\n",
        "      <td>     15.000000</td>\n",
        "      <td>      1.000000</td>\n",
        "      <td>      0.000000</td>\n",
        "      <td>      0.000000</td>\n",
        "      <td>      0.000000</td>\n",
        "      <td>      0.000000</td>\n",
        "      <td>      0.000000</td>\n",
        "      <td>      0.000000</td>\n",
        "      <td>...</td>\n",
        "      <td>      7.000000</td>\n",
        "      <td>   -999.000000</td>\n",
        "      <td>      6.000000</td>\n",
        "      <td>   -999.000000</td>\n",
        "      <td>      0.000000</td>\n",
        "      <td>      0.000000</td>\n",
        "      <td> 1.493316e-66</td>\n",
        "      <td>      0.000000</td>\n",
        "      <td>      0.005054</td>\n",
        "      <td>      0.000000</td>\n",
        "    </tr>\n",
        "    <tr>\n",
        "      <th>50%</th>\n",
        "      <td>      0.000000</td>\n",
        "      <td>     29.000000</td>\n",
        "      <td>     25.000000</td>\n",
        "      <td>      9.000000</td>\n",
        "      <td>      1.000000</td>\n",
        "      <td>      0.000000</td>\n",
        "      <td>      0.000000</td>\n",
        "      <td>      0.000000</td>\n",
        "      <td>      0.000000</td>\n",
        "      <td>      1.000000</td>\n",
        "      <td>...</td>\n",
        "      <td>     20.000000</td>\n",
        "      <td>     19.000000</td>\n",
        "      <td>     11.000000</td>\n",
        "      <td>     12.000000</td>\n",
        "      <td>      1.000000</td>\n",
        "      <td>      0.000000</td>\n",
        "      <td> 9.520249e-02</td>\n",
        "      <td>      0.101581</td>\n",
        "      <td>      0.097440</td>\n",
        "      <td>      0.000000</td>\n",
        "    </tr>\n",
        "    <tr>\n",
        "      <th>75%</th>\n",
        "      <td>      0.000000</td>\n",
        "      <td>     80.000000</td>\n",
        "      <td>     43.000000</td>\n",
        "      <td>     24.000000</td>\n",
        "      <td>      1.000000</td>\n",
        "      <td>      1.000000</td>\n",
        "      <td>      0.000000</td>\n",
        "      <td>      0.000000</td>\n",
        "      <td>      0.000000</td>\n",
        "      <td>      1.000000</td>\n",
        "      <td>...</td>\n",
        "      <td>     33.000000</td>\n",
        "      <td>     34.000000</td>\n",
        "      <td>     21.000000</td>\n",
        "      <td>     26.000000</td>\n",
        "      <td>      1.000000</td>\n",
        "      <td>      0.000000</td>\n",
        "      <td> 4.067809e-01</td>\n",
        "      <td>      0.406099</td>\n",
        "      <td>      0.395443</td>\n",
        "      <td>      1.000000</td>\n",
        "    </tr>\n",
        "    <tr>\n",
        "      <th>max</th>\n",
        "      <td>    229.000000</td>\n",
        "      <td>   4919.000000</td>\n",
        "      <td>    701.000000</td>\n",
        "      <td>    508.000000</td>\n",
        "      <td>      1.000000</td>\n",
        "      <td>      1.000000</td>\n",
        "      <td>      1.000000</td>\n",
        "      <td>      1.000000</td>\n",
        "      <td>      1.000000</td>\n",
        "      <td>      1.000000</td>\n",
        "      <td>...</td>\n",
        "      <td>     57.000000</td>\n",
        "      <td>     57.000000</td>\n",
        "      <td>    541.000000</td>\n",
        "      <td>    508.000000</td>\n",
        "      <td>      1.000000</td>\n",
        "      <td>      1.000000</td>\n",
        "      <td> 7.199970e-01</td>\n",
        "      <td>      0.719998</td>\n",
        "      <td>      0.719999</td>\n",
        "      <td>      1.000000</td>\n",
        "    </tr>\n",
        "  </tbody>\n",
        "</table>\n",
        "<p>8 rows \u00d7 45 columns</p>\n",
        "</div>"
       ],
       "metadata": {},
       "output_type": "pyout",
       "prompt_number": 252,
       "text": [
        "             CGA_SDO             GQ             DP        CGA_RDP  \\\n",
        "count  478791.000000  478791.000000  478791.000000  478791.000000   \n",
        "mean        0.642050    -198.217237      33.853863      15.409350   \n",
        "std         2.816854     533.664865      31.741194      19.435398   \n",
        "min         0.000000    -999.000000       1.000000       0.000000   \n",
        "25%         0.000000    -999.000000      15.000000       1.000000   \n",
        "50%         0.000000      29.000000      25.000000       9.000000   \n",
        "75%         0.000000      80.000000      43.000000      24.000000   \n",
        "max       229.000000    4919.000000     701.000000     508.000000   \n",
        "\n",
        "             FT_PASS       FT_VQLOW   vartype1_del   vartype1_ins  \\\n",
        "count  478791.000000  478791.000000  478791.000000  478791.000000   \n",
        "mean        0.668087       0.331913       0.231811       0.210689   \n",
        "std         0.470900       0.470900       0.421989       0.407798   \n",
        "min         0.000000       0.000000       0.000000       0.000000   \n",
        "25%         0.000000       0.000000       0.000000       0.000000   \n",
        "50%         1.000000       0.000000       0.000000       0.000000   \n",
        "75%         1.000000       1.000000       0.000000       0.000000   \n",
        "max         1.000000       1.000000       1.000000       1.000000   \n",
        "\n",
        "        vartype1_mnp   vartype1_snp      ...           CGA_CEHQ_1  \\\n",
        "count  478791.000000  478791.000000      ...        478791.000000   \n",
        "mean        0.047935       0.509565      ...            10.704706   \n",
        "std         0.213630       0.499909      ...           102.986726   \n",
        "min         0.000000       0.000000      ...          -999.000000   \n",
        "25%         0.000000       0.000000      ...             7.000000   \n",
        "50%         0.000000       1.000000      ...            20.000000   \n",
        "75%         0.000000       1.000000      ...            33.000000   \n",
        "max         1.000000       1.000000      ...            57.000000   \n",
        "\n",
        "          CGA_CEHQ_2           AD_1           AD_2        CGA_RPT  \\\n",
        "count  478791.000000  478791.000000  478791.000000  478791.000000   \n",
        "mean     -257.506854       6.910566    -260.603783       0.700379   \n",
        "std       460.157909     103.240368     458.372695       0.458093   \n",
        "min      -999.000000    -999.000000    -999.000000       0.000000   \n",
        "25%      -999.000000       6.000000    -999.000000       0.000000   \n",
        "50%        19.000000      11.000000      12.000000       1.000000   \n",
        "75%        34.000000      21.000000      26.000000       1.000000   \n",
        "max        57.000000     541.000000     508.000000       1.000000   \n",
        "\n",
        "         multiallele      lr_prob1       rf_prob1      gbc_prob1  \\\n",
        "count  478791.000000  4.787910e+05  478791.000000  478791.000000   \n",
        "mean        0.026331  2.092720e-01       0.208273       0.205766   \n",
        "std         0.160118  2.331011e-01       0.232303       0.226560   \n",
        "min         0.000000  3.186312e-89       0.000000       0.000854   \n",
        "25%         0.000000  1.493316e-66       0.000000       0.005054   \n",
        "50%         0.000000  9.520249e-02       0.101581       0.097440   \n",
        "75%         0.000000  4.067809e-01       0.406099       0.395443   \n",
        "max         1.000000  7.199970e-01       0.719998       0.719999   \n",
        "\n",
        "               truth  \n",
        "count  478791.000000  \n",
        "mean        0.370243  \n",
        "std         0.482870  \n",
        "min         0.000000  \n",
        "25%         0.000000  \n",
        "50%         0.000000  \n",
        "75%         1.000000  \n",
        "max         1.000000  \n",
        "\n",
        "[8 rows x 45 columns]"
       ]
      }
     ],
     "prompt_number": 252
    },
    {
     "cell_type": "code",
     "collapsed": false,
     "input": [
      "test_set_annotated_pass.multiallele.value_counts()"
     ],
     "language": "python",
     "metadata": {},
     "outputs": [
      {
       "metadata": {},
       "output_type": "pyout",
       "prompt_number": 275,
       "text": [
        "0    3386676\n",
        "1       4893\n",
        "dtype: int64"
       ]
      }
     ],
     "prompt_number": 275
    },
    {
     "cell_type": "code",
     "collapsed": false,
     "input": [
      "test_set_annotated_filtered.multiallele.value_counts()"
     ],
     "language": "python",
     "metadata": {},
     "outputs": [
      {
       "metadata": {},
       "output_type": "pyout",
       "prompt_number": 276,
       "text": [
        "0    478603\n",
        "1     12836\n",
        "dtype: int64"
       ]
      }
     ],
     "prompt_number": 276
    },
    {
     "cell_type": "code",
     "collapsed": false,
     "input": [
      "def categ_test(a, b, col):\n",
      "    total_a = a[col].value_counts().values\n",
      "    \n",
      "    total_b = b[col].value_counts().values\n",
      "    \n",
      "    return stats.fisher_exact(zip(total_a, total_b))"
     ],
     "language": "python",
     "metadata": {},
     "outputs": [],
     "prompt_number": 269
    },
    {
     "cell_type": "code",
     "collapsed": false,
     "input": [
      "print categ_test(test_set_annotated_pass, test_set_annotated_filtered, 'CGA_RPT')\n",
      "print categ_test(test_set_annotated_pass, test_set_annotated_filtered, 'multiallele')"
     ],
     "language": "python",
     "metadata": {},
     "outputs": [
      {
       "output_type": "stream",
       "stream": "stdout",
       "text": [
        "(0.44519900732300732, 0.0)\n",
        "(18.56319497457072, 0.0)"
       ]
      },
      {
       "output_type": "stream",
       "stream": "stdout",
       "text": [
        "\n"
       ]
      }
     ],
     "prompt_number": 274
    },
    {
     "cell_type": "code",
     "collapsed": false,
     "input": [],
     "language": "python",
     "metadata": {},
     "outputs": []
    },
    {
     "cell_type": "heading",
     "level": 3,
     "metadata": {},
     "source": [
      "Ensemble Classifier - No Better"
     ]
    },
    {
     "cell_type": "code",
     "collapsed": false,
     "input": [
      "\n",
      "ensemble_gbc = ensemble.GradientBoostingClassifier(n_estimators=150, subsample=1, verbose=1)"
     ],
     "language": "python",
     "metadata": {},
     "outputs": [],
     "prompt_number": 245
    },
    {
     "cell_type": "code",
     "collapsed": false,
     "input": [
      "random_sample_ensemble = random.sample(test_set_annotated.index, 150000)"
     ],
     "language": "python",
     "metadata": {},
     "outputs": [],
     "prompt_number": 239
    },
    {
     "cell_type": "code",
     "collapsed": false,
     "input": [
      "test_set_annotated_random = test_set_annotated[test_set_annotated.index.isin(random_sample_ensemble)]"
     ],
     "language": "python",
     "metadata": {},
     "outputs": [],
     "prompt_number": 240
    },
    {
     "cell_type": "code",
     "collapsed": false,
     "input": [
      "ensemble_gbc = ensemble_gbc.fit(test_set_annotated_random[['lr_prob1', 'rf_prob1']], test_set_annotated_random['truth'].values)\n"
     ],
     "language": "python",
     "metadata": {},
     "outputs": [
      {
       "output_type": "stream",
       "stream": "stdout",
       "text": [
        "      Iter       Train Loss   Remaining Time \n",
        "         1           0.4935           46.31s"
       ]
      },
      {
       "output_type": "stream",
       "stream": "stdout",
       "text": [
        "\n",
        "         2           0.4398           45.06s"
       ]
      },
      {
       "output_type": "stream",
       "stream": "stdout",
       "text": [
        "\n",
        "         3           0.4023           43.71s"
       ]
      },
      {
       "output_type": "stream",
       "stream": "stdout",
       "text": [
        "\n",
        "         4           0.3735           43.08s"
       ]
      },
      {
       "output_type": "stream",
       "stream": "stdout",
       "text": [
        "\n",
        "         5           0.3504           42.42s"
       ]
      },
      {
       "output_type": "stream",
       "stream": "stdout",
       "text": [
        "\n",
        "         6           0.3314           41.77s"
       ]
      },
      {
       "output_type": "stream",
       "stream": "stdout",
       "text": [
        "\n",
        "         7           0.3153           41.21s"
       ]
      },
      {
       "output_type": "stream",
       "stream": "stdout",
       "text": [
        "\n",
        "         8           0.3019           40.87s"
       ]
      },
      {
       "output_type": "stream",
       "stream": "stdout",
       "text": [
        "\n",
        "         9           0.2905           40.48s"
       ]
      },
      {
       "output_type": "stream",
       "stream": "stdout",
       "text": [
        "\n",
        "        10           0.2804           40.07s"
       ]
      },
      {
       "output_type": "stream",
       "stream": "stdout",
       "text": [
        "\n",
        "        20           0.2294           36.90s"
       ]
      },
      {
       "output_type": "stream",
       "stream": "stdout",
       "text": [
        "\n",
        "        30           0.2148           34.35s"
       ]
      },
      {
       "output_type": "stream",
       "stream": "stdout",
       "text": [
        "\n",
        "        40           0.2100           31.76s"
       ]
      },
      {
       "output_type": "stream",
       "stream": "stdout",
       "text": [
        "\n",
        "        50           0.2084           28.92s"
       ]
      },
      {
       "output_type": "stream",
       "stream": "stdout",
       "text": [
        "\n",
        "        60           0.2073           25.87s"
       ]
      },
      {
       "output_type": "stream",
       "stream": "stdout",
       "text": [
        "\n",
        "        70           0.2065           22.90s"
       ]
      },
      {
       "output_type": "stream",
       "stream": "stdout",
       "text": [
        "\n",
        "        80           0.2058           19.89s"
       ]
      },
      {
       "output_type": "stream",
       "stream": "stdout",
       "text": [
        "\n",
        "        90           0.2053           16.99s"
       ]
      },
      {
       "output_type": "stream",
       "stream": "stdout",
       "text": [
        "\n",
        "       100           0.2045           14.12s"
       ]
      },
      {
       "output_type": "stream",
       "stream": "stdout",
       "text": [
        "\n"
       ]
      }
     ],
     "prompt_number": 246
    },
    {
     "cell_type": "code",
     "collapsed": false,
     "input": [
      "test_set_annotated[['lr_prob1', 'rf_prob1', 'gbc_prob1']].corr()"
     ],
     "language": "python",
     "metadata": {},
     "outputs": [
      {
       "html": [
        "<div style=\"max-height:1000px;max-width:1500px;overflow:auto;\">\n",
        "<table border=\"1\" class=\"dataframe\">\n",
        "  <thead>\n",
        "    <tr style=\"text-align: right;\">\n",
        "      <th></th>\n",
        "      <th>lr_prob1</th>\n",
        "      <th>rf_prob1</th>\n",
        "      <th>gbc_prob1</th>\n",
        "    </tr>\n",
        "  </thead>\n",
        "  <tbody>\n",
        "    <tr>\n",
        "      <th>lr_prob1</th>\n",
        "      <td> 1.000000</td>\n",
        "      <td> 0.921489</td>\n",
        "      <td> 0.953508</td>\n",
        "    </tr>\n",
        "    <tr>\n",
        "      <th>rf_prob1</th>\n",
        "      <td> 0.921489</td>\n",
        "      <td> 1.000000</td>\n",
        "      <td> 0.960216</td>\n",
        "    </tr>\n",
        "    <tr>\n",
        "      <th>gbc_prob1</th>\n",
        "      <td> 0.953508</td>\n",
        "      <td> 0.960216</td>\n",
        "      <td> 1.000000</td>\n",
        "    </tr>\n",
        "  </tbody>\n",
        "</table>\n",
        "</div>"
       ],
       "metadata": {},
       "output_type": "pyout",
       "prompt_number": 244,
       "text": [
        "           lr_prob1  rf_prob1  gbc_prob1\n",
        "lr_prob1   1.000000  0.921489   0.953508\n",
        "rf_prob1   0.921489  1.000000   0.960216\n",
        "gbc_prob1  0.953508  0.960216   1.000000"
       ]
      }
     ],
     "prompt_number": 244
    },
    {
     "cell_type": "code",
     "collapsed": false,
     "input": [
      "ensemble_gbc.score(test_set_annotated[['lr_prob1', 'rf_prob1']], test_set_annotated['truth'].values)"
     ],
     "language": "python",
     "metadata": {},
     "outputs": [
      {
       "metadata": {},
       "output_type": "pyout",
       "prompt_number": 248,
       "text": [
        "0.96567635194158752"
       ]
      }
     ],
     "prompt_number": 248
    },
    {
     "cell_type": "code",
     "collapsed": false,
     "input": [
      "test_set_annotated[['lr_prob1', 'rf_prob1', 'gbc_prob1', 'truth']].head(5)"
     ],
     "language": "python",
     "metadata": {},
     "outputs": [
      {
       "html": [
        "<div style=\"max-height:1000px;max-width:1500px;overflow:auto;\">\n",
        "<table border=\"1\" class=\"dataframe\">\n",
        "  <thead>\n",
        "    <tr style=\"text-align: right;\">\n",
        "      <th></th>\n",
        "      <th></th>\n",
        "      <th></th>\n",
        "      <th></th>\n",
        "      <th>lr_prob1</th>\n",
        "      <th>rf_prob1</th>\n",
        "      <th>gbc_prob1</th>\n",
        "      <th>truth</th>\n",
        "    </tr>\n",
        "    <tr>\n",
        "      <th>CHROM</th>\n",
        "      <th>POS</th>\n",
        "      <th>REF</th>\n",
        "      <th>ALT</th>\n",
        "      <th></th>\n",
        "      <th></th>\n",
        "      <th></th>\n",
        "      <th></th>\n",
        "    </tr>\n",
        "  </thead>\n",
        "  <tbody>\n",
        "    <tr>\n",
        "      <th rowspan=\"5\" valign=\"top\">1</th>\n",
        "      <th>52238 </th>\n",
        "      <th>T</th>\n",
        "      <th>G</th>\n",
        "      <td> 0.791171</td>\n",
        "      <td> 0.034819</td>\n",
        "      <td> 0.135191</td>\n",
        "      <td> 1</td>\n",
        "    </tr>\n",
        "    <tr>\n",
        "      <th>55926 </th>\n",
        "      <th>T</th>\n",
        "      <th>C</th>\n",
        "      <td> 0.853695</td>\n",
        "      <td> 0.196614</td>\n",
        "      <td> 0.273670</td>\n",
        "      <td> 1</td>\n",
        "    </tr>\n",
        "    <tr>\n",
        "      <th>57952 </th>\n",
        "      <th>A</th>\n",
        "      <th>C</th>\n",
        "      <td> 0.855609</td>\n",
        "      <td> 0.045643</td>\n",
        "      <td> 0.285187</td>\n",
        "      <td> 1</td>\n",
        "    </tr>\n",
        "    <tr>\n",
        "      <th>61442 </th>\n",
        "      <th>A</th>\n",
        "      <th>G</th>\n",
        "      <td> 0.858367</td>\n",
        "      <td> 0.021957</td>\n",
        "      <td> 0.075106</td>\n",
        "      <td> 1</td>\n",
        "    </tr>\n",
        "    <tr>\n",
        "      <th>229673</th>\n",
        "      <th>A</th>\n",
        "      <th>C</th>\n",
        "      <td> 0.196407</td>\n",
        "      <td> 0.177967</td>\n",
        "      <td> 0.222930</td>\n",
        "      <td> 1</td>\n",
        "    </tr>\n",
        "  </tbody>\n",
        "</table>\n",
        "</div>"
       ],
       "metadata": {},
       "output_type": "pyout",
       "prompt_number": 249,
       "text": [
        "                      lr_prob1  rf_prob1  gbc_prob1  truth\n",
        "CHROM POS    REF ALT                                      \n",
        "1     52238  T   G    0.791171  0.034819   0.135191      1\n",
        "      55926  T   C    0.853695  0.196614   0.273670      1\n",
        "      57952  A   C    0.855609  0.045643   0.285187      1\n",
        "      61442  A   G    0.858367  0.021957   0.075106      1\n",
        "      229673 A   C    0.196407  0.177967   0.222930      1"
       ]
      }
     ],
     "prompt_number": 249
    },
    {
     "cell_type": "heading",
     "level": 1,
     "metadata": {},
     "source": [
      "VARIANT INTERSECTIONS"
     ]
    },
    {
     "cell_type": "code",
     "collapsed": false,
     "input": [
      "tri_I  = set(gbc_test_results_df_filtered.index) & set(rf_test_results_df_filtered.index) & set(LR_test_results_df_filtered.index)"
     ],
     "language": "python",
     "metadata": {},
     "outputs": [],
     "prompt_number": 216
    },
    {
     "cell_type": "code",
     "collapsed": false,
     "input": [
      "print len(tri_I)\n",
      "test_set_tri_I = test_set[test_set.index.isin(tri_I)]\n",
      "test_turth_tri_I = test_truth[test_truth.index.isin(tri_I)]\n",
      "test_set_tri_I = test_set_tri_I.join(test_turth_tri_I)\n",
      "del test_turth_tri_I"
     ],
     "language": "python",
     "metadata": {},
     "outputs": [
      {
       "output_type": "stream",
       "stream": "stdout",
       "text": [
        "3065416\n"
       ]
      }
     ],
     "prompt_number": 220
    },
    {
     "cell_type": "code",
     "collapsed": false,
     "input": [
      "test_turth_tri_I.truth.value_counts()"
     ],
     "language": "python",
     "metadata": {},
     "outputs": [
      {
       "metadata": {},
       "output_type": "pyout",
       "prompt_number": 219,
       "text": [
        "1    3035066\n",
        "0      30350\n",
        "dtype: int64"
       ]
      }
     ],
     "prompt_number": 219
    },
    {
     "cell_type": "code",
     "collapsed": false,
     "input": [
      "tri_I_tp  = set(gbc_test_results_df_filtered[gbc_test_results_df_filtered.truth==1].index) & set(rf_test_results_df_filtered.index) & set(LR_test_results_df_filtered.index)"
     ],
     "language": "python",
     "metadata": {},
     "outputs": []
    },
    {
     "cell_type": "heading",
     "level": 1,
     "metadata": {},
     "source": [
      "Retraining"
     ]
    },
    {
     "cell_type": "code",
     "collapsed": false,
     "input": [
      "def retrain(fp, tp):\n",
      "    retrain_fp = fp[fp.predictions==1]\n",
      "    retrain_tp = tp[tp.predictions==0]\n",
      "    del retrain_fp['predictions']\n",
      "    del retrain_tp['predictions']\n",
      "    retrain_df = retrain_tp.append(retrain_fp)\n",
      "    retrain_df_truth = retrain_df[['truth']]\n",
      "    del retrain_df['truth']\n",
      "    return retrain_df, retrain_df_truth"
     ],
     "language": "python",
     "metadata": {},
     "outputs": []
    },
    {
     "cell_type": "code",
     "collapsed": false,
     "input": [
      "retrain_df, retrain_df_truth = retrain(fp, tp)"
     ],
     "language": "python",
     "metadata": {},
     "outputs": []
    },
    {
     "cell_type": "code",
     "collapsed": false,
     "input": [
      "retrain_clf = clf.fit(retrain_df, retrain_df_truth.values)\n"
     ],
     "language": "python",
     "metadata": {},
     "outputs": []
    },
    {
     "cell_type": "code",
     "collapsed": false,
     "input": [
      "retrain_clf.oob_score_"
     ],
     "language": "python",
     "metadata": {},
     "outputs": []
    },
    {
     "cell_type": "code",
     "collapsed": false,
     "input": [
      "retrain_test_set_index = test_set[~test_set.index.isin(random_subset)].index\n",
      "retrain_test_set = test_set.ix[retrain_test_set_index]\n",
      "retrain_test_set_truth = test_truth.ix[retrain_test_set_index]\n"
     ],
     "language": "python",
     "metadata": {},
     "outputs": []
    },
    {
     "cell_type": "code",
     "collapsed": false,
     "input": [
      "fp,tp = get_fp_tp_predictions(retrain_test_set, retrain_test_set_truth, retrain_clf)"
     ],
     "language": "python",
     "metadata": {},
     "outputs": []
    },
    {
     "cell_type": "code",
     "collapsed": false,
     "input": [
      "retrain_clf.score(retrain_test_set, retrain_test_set_truth)"
     ],
     "language": "python",
     "metadata": {},
     "outputs": []
    },
    {
     "cell_type": "code",
     "collapsed": false,
     "input": [
      "fp.predictions.value_counts()"
     ],
     "language": "python",
     "metadata": {},
     "outputs": []
    },
    {
     "cell_type": "code",
     "collapsed": false,
     "input": [
      "tp.predictions.value_counts()"
     ],
     "language": "python",
     "metadata": {},
     "outputs": []
    },
    {
     "cell_type": "code",
     "collapsed": false,
     "input": [
      "tp.predictions.value_counts()"
     ],
     "language": "python",
     "metadata": {},
     "outputs": []
    },
    {
     "cell_type": "code",
     "collapsed": false,
     "input": [
      "print 'COMPLETE'"
     ],
     "language": "python",
     "metadata": {},
     "outputs": []
    },
    {
     "cell_type": "heading",
     "level": 1,
     "metadata": {},
     "source": [
      "Features Associated with Misclassified Variants"
     ]
    },
    {
     "cell_type": "code",
     "collapsed": false,
     "input": [
      "fp_misclass = fp.copy()\n",
      "fp['truth'] = fp['predictions']\n",
      "del fp['predictions']"
     ],
     "language": "python",
     "metadata": {},
     "outputs": []
    },
    {
     "cell_type": "code",
     "collapsed": false,
     "input": [
      "fp_columns_minus_truth = [i for i in fp.columns if i != 'truth']\n"
     ],
     "language": "python",
     "metadata": {},
     "outputs": []
    },
    {
     "cell_type": "code",
     "collapsed": false,
     "input": [
      "misclass_features = clf.fit(fp[fp_columns_minus_truth], fp['truth'])\n"
     ],
     "language": "python",
     "metadata": {},
     "outputs": []
    },
    {
     "cell_type": "code",
     "collapsed": false,
     "input": [
      "zip(fp[fp_columns_minus_truth].columns, misclass_features.feature_importances_)"
     ],
     "language": "python",
     "metadata": {},
     "outputs": []
    },
    {
     "cell_type": "code",
     "collapsed": false,
     "input": [
      "misclass_features.oob_score_"
     ],
     "language": "python",
     "metadata": {},
     "outputs": []
    },
    {
     "cell_type": "code",
     "collapsed": false,
     "input": [],
     "language": "python",
     "metadata": {},
     "outputs": []
    },
    {
     "cell_type": "heading",
     "level": 1,
     "metadata": {},
     "source": [
      "Function Code, aggregated in the above function preprocess_vcf_line"
     ]
    },
    {
     "cell_type": "heading",
     "level": 3,
     "metadata": {},
     "source": [
      "Numeric Field Formatting"
     ]
    },
    {
     "cell_type": "code",
     "collapsed": false,
     "input": [
      "numeric_features = ['CGA_SDO', 'GQ', 'DP', 'CGA_RDP']\n",
      "df_numeric = df.copy()\n",
      "df_numeric = df_numeric[numeric_features]\n",
      "for n in numeric_features:\n",
      "    df_numeric[n] = df_numeric[n].astype(float)\n",
      "df_numeric['CGA_SDO'].fillna(value=0, inplace=True)\n"
     ],
     "language": "python",
     "metadata": {},
     "outputs": []
    },
    {
     "cell_type": "heading",
     "level": 3,
     "metadata": {},
     "source": [
      "GL Field Formatting"
     ]
    },
    {
     "cell_type": "code",
     "collapsed": false,
     "input": [
      "def multiallele_GL_formatting(df, gl_col):\n",
      "    GL_df = pd.DataFrame.from_records([i.split(\",\") for i in df[gl_col]], columns=['AA_'+gl_col, 'AB_'+gl_col, 'BB_'+gl_col, 'AC_'+gl_col, 'BC_'+gl_col, 'CC_'+gl_col])\n",
      "    GL_df.index = df.index\n",
      "    GL_df.fillna(value=-999,inplace=True)\n",
      "    df = df.join(GL_df)\n",
      "    return df\n",
      "    "
     ],
     "language": "python",
     "metadata": {},
     "outputs": []
    },
    {
     "cell_type": "code",
     "collapsed": false,
     "input": [
      "\n",
      "geno_cols = ['GL', 'CGA_CEGL']\n",
      "\n",
      "df_geno = df.copy()\n",
      "df_geno = df_geno[geno_cols]\n",
      "for g_cols in geno_cols:\n",
      "    df_geno = multiallele_GL_formatting(df_geno, g_cols)\n",
      "    del df_geno[g_cols]"
     ],
     "language": "python",
     "metadata": {},
     "outputs": []
    },
    {
     "cell_type": "heading",
     "level": 3,
     "metadata": {},
     "source": [
      "Allele Field Formatting"
     ]
    },
    {
     "cell_type": "code",
     "collapsed": false,
     "input": [
      "def allele_col_formatting(df, al_col):\n",
      "    df[al_col + \"_1\"] = [int(i.split(\",\")[0]) if i.split(\",\")[0] != \".\" else -999 for i in df[al_col]]\n",
      "    df[al_col + \"_2\"] = [int(i.split(\",\")[1]) if i.split(\",\")[1] != \".\" else -999 for i in df[al_col]]\n",
      "    return df"
     ],
     "language": "python",
     "metadata": {},
     "outputs": []
    },
    {
     "cell_type": "code",
     "collapsed": false,
     "input": [
      "allele_cols = ['HQ', 'EHQ', 'CGA_CEHQ', 'AD']\n",
      "\n",
      "df_allele = df.copy()\n",
      "df_allele = df[allele_cols]\n",
      "for a_cols in allele_cols:\n",
      "    df_allele = allele_col_formatting(df_allele, a_cols)\n",
      "    del df_allele[a_cols]"
     ],
     "language": "python",
     "metadata": {},
     "outputs": []
    },
    {
     "cell_type": "heading",
     "level": 3,
     "metadata": {},
     "source": [
      "Categorical Field Formatting"
     ]
    },
    {
     "cell_type": "code",
     "collapsed": false,
     "input": [
      "def categ_formatting(df, cat_col):\n",
      "    temp_dummies = pd.get_dummies(df[cat_col], prefix=cat_col)\n",
      "    df = df.join(temp_dummies, how='left')\n",
      "    return df"
     ],
     "language": "python",
     "metadata": {},
     "outputs": []
    },
    {
     "cell_type": "code",
     "collapsed": false,
     "input": [
      "categorical_features = ['FT']\n",
      "\n",
      "df_categ = df.copy()\n",
      "df_categ = df_categ[categorical_features]\n",
      "for c in categorical_features:\n",
      "    df_categ = categ_formatting(df_categ, c)\n",
      "    del df_categ[c]"
     ],
     "language": "python",
     "metadata": {},
     "outputs": []
    },
    {
     "cell_type": "heading",
     "level": 3,
     "metadata": {},
     "source": [
      "Binary Features Formatting"
     ]
    },
    {
     "cell_type": "code",
     "collapsed": false,
     "input": [
      "binary_features = ['CGA_XR', 'CGA_RPT']\n",
      "\n",
      "df_binary = df.copy()\n",
      "df_binary = df_binary[binary_features]\n",
      "for b in binary_features:\n",
      "    df_binary[b].fillna(value=0,inplace=True)\n",
      "    df_binary[b] = df_binary[b].map(lambda x: 1 if x!=0 else 0)\n",
      "    "
     ],
     "language": "python",
     "metadata": {},
     "outputs": []
    },
    {
     "cell_type": "heading",
     "level": 3,
     "metadata": {},
     "source": [
      "Joining Numeric, Genotype, Allele, Categorical, and Binary Features"
     ]
    },
    {
     "cell_type": "code",
     "collapsed": false,
     "input": [
      "df_train = df_numeric.join([df_categ, df_geno, df_allele, df_binary])\n",
      "df_train"
     ],
     "language": "python",
     "metadata": {},
     "outputs": []
    },
    {
     "cell_type": "code",
     "collapsed": false,
     "input": [
      "#FOR USE WITH masterVAR files\n",
      "def preprocess_train_set(test_df):\n",
      "    ''' This function converts the allele1/2truth annotated mastervar files into\n",
      "        a numeric dataset ready for training.\n",
      "        It returns a training data set and the truth calls.  The two objects share indices\n",
      "        and can be combined on the index'''\n",
      "    \n",
      "    test_df.set_index(['chromosome','end', 'reference', 'allele1Seq', 'allele2Seq'],drop=False, inplace=True)\n",
      "    \n",
      "    train_columns = [\"zygosity\", \"REF\", \"a1\", \"a2\", \"allele1VarScoreVAF\", \"allele2VarScoreVAF\", \\\n",
      "                 \"allele1VarScoreEAF\", \"allele2VarScoreEAF\", \"allele1VarQuality\", \"allele2VarQuality\",\\\n",
      "               \"allele1ReadCount\", \"allele2ReadCount\", \"totalReadCount\", \"referenceAlleleReadCount\", \\\n",
      "               \"repeatMasker\", \"segDupOverlap\",\"allele1XRef\",\"allele2XRef\",\"allele1Gene\",\"allele2Gene\",\\\n",
      "               \"alleletruth\"]\n",
      "    \n",
      "    def repeatmask(line):\n",
      "        if line['repeatMasker'] == \".\":\n",
      "            return False\n",
      "        else:\n",
      "            return True\n",
      "    \n",
      "    def coding(alleleGene):\n",
      "        if \"CDS\" in alleleGene:\n",
      "            return True\n",
      "        if \"ACCEPTOR\" in alleleGene:\n",
      "            return True\n",
      "        if \"DONOR\" in alleleGene:\n",
      "            return True\n",
      "        else:\n",
      "            return False\n",
      "        \n",
      "            \n",
      "    def allele_truth(line):\n",
      "        if line['allele1truth'] == 1 and line['allele2truth'] == 1:\n",
      "            return 3\n",
      "        if line['allele1truth'] == 1 and line['allele2truth'] == 0:\n",
      "            return 2\n",
      "        if line['allele1truth'] == 0 and line['allele2truth'] == 1:\n",
      "            return 1\n",
      "        if line['allele1truth'] == 0 and line['allele2truth'] == 0:\n",
      "            return 0\n",
      "        else: assert False\n",
      "    \n",
      "    #EXPERIMENTAL BEGIN  - TRAINED RF_196900samples_oddChroms_rsIDBool_2014_2_2_fp845_tp977.pkl.gz\n",
      "    def rsid_parser(XRef):\n",
      "        if XRef == \".\":  #Not in dbSNP\n",
      "            return False\n",
      "        if XRef != \".\":\n",
      "            return True  #In dbSNP\n",
      "    #EXPERIMENTAL END\n",
      "        \n",
      "    \n",
      "    test_df = test_df[test_df.varType=='snp']\n",
      "    test_df = test_df[test_df.zygosity!='half']  #remove half calls\n",
      "    \n",
      "    test_df['repeatMasker'] = test_df.apply(repeatmask, axis=1)\n",
      "    test_df['allele1Gene'] = test_df['allele1Gene'].map(coding)\n",
      "    test_df['allele2Gene'] = test_df['allele2Gene'].map(coding)\n",
      "    \n",
      "    test_df['alleletruth'] = test_df.apply(allele_truth, axis=1)\n",
      "    del test_df['allele1truth']\n",
      "    del test_df['allele2truth']\n",
      "\n",
      "    df_snps_test = test_df[train_columns]\n",
      "    \n",
      "    #Taking the allele seq out Experimental - Transition/Transversion ratio of coding sequences was too low\n",
      "    #allele1Seq_dummies = pd.get_dummies(df_snps_test['allele1Seq'],prefix='allele1Seq')\n",
      "    #allele2Seq_dummies = pd.get_dummies(df_snps_test['allele2Seq'],prefix='allele2Seq')\n",
      "    #df_snps_test = df_snps_test.join(allele1Seq_dummies, how='outer')\n",
      "    #df_snps_test = df_snps_test.join(allele2Seq_dummies,how='outer')\n",
      "    del df_snps_test['allele1Seq']\n",
      "    del df_snps_test['allele2Seq']\n",
      "\n",
      "    allele1VarQuality_dummies = pd.get_dummies(df_snps_test['allele1VarQuality'],prefix='allele1VarQuality')\n",
      "    allele2VarQuality_dummies = pd.get_dummies(df_snps_test['allele2VarQuality'],prefix='allele2VarQuality')\n",
      "    df_snps_test = df_snps_test.join(allele1VarQuality_dummies,how='outer')\n",
      "    df_snps_test = df_snps_test.join(allele2VarQuality_dummies,how='outer')\n",
      "    del df_snps_test['allele1VarQuality']\n",
      "    del df_snps_test['allele2VarQuality']\n",
      "\n",
      "    #ref_dummies = pd.get_dummies(df_snps_test['reference'],prefix='reference')\n",
      "    zygosity_dummies = pd.get_dummies(df_snps_test['zygosity'],prefix='zygosity')\n",
      "    #df_snps_test = df_snps_test.join(ref_dummies,how='outer')\n",
      "    df_snps_test = df_snps_test.join(zygosity_dummies,how='outer')\n",
      "    del df_snps_test['reference']\n",
      "    del df_snps_test['zygosity']\n",
      "    \n",
      "    #Experimental Begin\n",
      "    df_snps_test['allele1XRef'] = df_snps_test['allele1XRef'].map(rsid_parser)\n",
      "    df_snps_test['allele2XRef'] = df_snps_test['allele2XRef'].map(rsid_parser)\n",
      "    #Experimental End\n",
      "    \n",
      "    Y_truth = df_snps_test['alleletruth'].copy()\n",
      "    del df_snps_test['alleletruth']\n",
      "    return df_snps_test, Y_truth"
     ],
     "language": "python",
     "metadata": {},
     "outputs": []
    },
    {
     "cell_type": "code",
     "collapsed": false,
     "input": [],
     "language": "python",
     "metadata": {},
     "outputs": []
    }
   ],
   "metadata": {}
  }
 ]
}