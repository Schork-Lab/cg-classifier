{
 "metadata": {
  "name": "",
  "signature": "sha256:628a7573bde27950725b6f8990d82149e4f9f116c993ef313a4b5278f3e3abc3"
 },
 "nbformat": 3,
 "nbformat_minor": 0,
 "worksheets": [
  {
   "cells": [
    {
     "cell_type": "code",
     "collapsed": false,
     "input": [
      "data_dir = '../data'\n",
      "import sys, os\n",
      "src_dir = '../cg-classifier/'\n",
      "sys.path.append(src_dir)\n",
      "import processing.variants, processing.statistics\n",
      "import figures.helpers\n",
      "import seaborn\n",
      "import pandas as pd"
     ],
     "language": "python",
     "metadata": {},
     "outputs": [],
     "prompt_number": 15
    },
    {
     "cell_type": "code",
     "collapsed": false,
     "input": [
      "import cPickle"
     ],
     "language": "python",
     "metadata": {},
     "outputs": [],
     "prompt_number": 5
    },
    {
     "cell_type": "code",
     "collapsed": false,
     "input": [
      "%load_ext autoreload\n",
      "%autoreload 2"
     ],
     "language": "python",
     "metadata": {},
     "outputs": [],
     "prompt_number": 6
    },
    {
     "cell_type": "heading",
     "level": 3,
     "metadata": {},
     "source": [
      "Load Data"
     ]
    },
    {
     "cell_type": "code",
     "collapsed": false,
     "input": [
      "fp = cPickle.load(open('../data/20140803/na12877/NA12877_CGvsRTGphasingNISTbed/fp_STATSFILE.pkl','rb'))\n",
      "tp = cPickle.load(open('../data/20140803/na12877/NA12877_CGvsRTGphasingNISTbed/tp_STATSFILE.pkl','rb'))"
     ],
     "language": "python",
     "metadata": {},
     "outputs": [],
     "prompt_number": 7
    },
    {
     "cell_type": "code",
     "collapsed": false,
     "input": [
      "%pylab inline"
     ],
     "language": "python",
     "metadata": {},
     "outputs": [
      {
       "output_type": "stream",
       "stream": "stdout",
       "text": [
        "Populating the interactive namespace from numpy and matplotlib\n"
       ]
      }
     ],
     "prompt_number": 9
    },
    {
     "cell_type": "heading",
     "level": 3,
     "metadata": {},
     "source": [
      "Plot plot plot"
     ]
    },
    {
     "cell_type": "code",
     "collapsed": false,
     "input": [
      "from figures.helpers import get_count_df, plot_counts, my_rstyle"
     ],
     "language": "python",
     "metadata": {},
     "outputs": [],
     "prompt_number": 24
    },
    {
     "cell_type": "code",
     "collapsed": false,
     "input": [
      "count_df = get_count_df([tp, fp])\n",
      "count_df.columns = ['CG + RTG', 'CG Only']\n",
      "colors = {'CG + RTG': '#67a9cf',\n",
      "          'CG Only': '#ef8a62'}\n",
      "fig = plt.figure()\n",
      "ax = fig.add_subplot()\n",
      "fig, ax = plot_counts(fig, ax, count_df, colors)\n",
      "ax.set_title('CG vs RTG', fontdict={'size': 12})\n"
     ],
     "language": "python",
     "metadata": {},
     "outputs": [
      {
       "metadata": {},
       "output_type": "pyout",
       "prompt_number": 25,
       "text": [
        "<matplotlib.text.Text at 0x509b3d0>"
       ]
      },
      {
       "metadata": {},
       "output_type": "display_data",
       "png": "[encoded data removed]",
       "text": [
        "<matplotlib.figure.Figure at 0x5407d90>"
       ]
      }
     ],
     "prompt_number": 25
    },
    {
     "cell_type": "code",
     "collapsed": false,
     "input": [
      "count_df = count_df.applymap(lambda x: pow(10, x))\n",
      "count_df['PPV'] = count_df['CG + RTG']/count_df.sum(axis=1)\n",
      "count_df"
     ],
     "language": "python",
     "metadata": {},
     "outputs": [
      {
       "html": [
        "<div style=\"max-height:1000px;max-width:1500px;overflow:auto;\">\n",
        "<table border=\"1\" class=\"dataframe\">\n",
        "  <thead>\n",
        "    <tr style=\"text-align: right;\">\n",
        "      <th></th>\n",
        "      <th>CG + RTG</th>\n",
        "      <th>CG Only</th>\n",
        "      <th>PPV</th>\n",
        "    </tr>\n",
        "  </thead>\n",
        "  <tbody>\n",
        "    <tr>\n",
        "      <th>Insertion</th>\n",
        "      <td>  173386</td>\n",
        "      <td> 17441</td>\n",
        "      <td> 0.908603</td>\n",
        "    </tr>\n",
        "    <tr>\n",
        "      <th>Deletion</th>\n",
        "      <td>  179397</td>\n",
        "      <td> 11988</td>\n",
        "      <td> 0.937362</td>\n",
        "    </tr>\n",
        "    <tr>\n",
        "      <th>MNP</th>\n",
        "      <td>   34907</td>\n",
        "      <td>  4427</td>\n",
        "      <td> 0.887451</td>\n",
        "    </tr>\n",
        "    <tr>\n",
        "      <th>SNP</th>\n",
        "      <td> 3539207</td>\n",
        "      <td> 49884</td>\n",
        "      <td> 0.986101</td>\n",
        "    </tr>\n",
        "  </tbody>\n",
        "</table>\n",
        "</div>"
       ],
       "metadata": {},
       "output_type": "pyout",
       "prompt_number": 26,
       "text": [
        "           CG + RTG  CG Only       PPV\n",
        "Insertion    173386    17441  0.908603\n",
        "Deletion     179397    11988  0.937362\n",
        "MNP           34907     4427  0.887451\n",
        "SNP         3539207    49884  0.986101"
       ]
      }
     ],
     "prompt_number": 26
    },
    {
     "cell_type": "code",
     "collapsed": false,
     "input": [
      "my_rstyle(ax)\n",
      "ax.grid(False, which='major', axis='x')"
     ],
     "language": "python",
     "metadata": {},
     "outputs": [],
     "prompt_number": 27
    },
    {
     "cell_type": "code",
     "collapsed": false,
     "input": [
      "fig"
     ],
     "language": "python",
     "metadata": {},
     "outputs": [
      {
       "metadata": {},
       "output_type": "pyout",
       "png": "[encoded data removed]",
       "prompt_number": 28,
       "text": [
        "<matplotlib.figure.Figure at 0x5407d90>"
       ]
      }
     ],
     "prompt_number": 28
    },
    {
     "cell_type": "code",
     "collapsed": false,
     "input": [],
     "language": "python",
     "metadata": {},
     "outputs": []
    }
   ],
   "metadata": {}
  }
 ]
}