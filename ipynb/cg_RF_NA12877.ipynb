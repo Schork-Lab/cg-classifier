{
 "metadata": {
  "name": ""
 },
 "nbformat": 3,
 "nbformat_minor": 0,
 "worksheets": [
  {
   "cells": [
    {
     "cell_type": "heading",
     "level": 1,
     "metadata": {},
     "source": [
      "Libraries"
     ]
    },
    {
     "cell_type": "code",
     "collapsed": false,
     "input": [
      "import pandas as pd\n",
      "import coord_to_hg19_seq as hg19\n",
      "from collections import Counter\n",
      "from IPython.display import HTML\n",
      "import pybedtools\n",
      "import os\n",
      "import subprocess\n",
      "import random"
     ],
     "language": "python",
     "metadata": {},
     "outputs": []
    },
    {
     "cell_type": "heading",
     "level": 3,
     "metadata": {},
     "source": [
      "pdVCF Functions"
     ]
    },
    {
     "cell_type": "code",
     "collapsed": false,
     "input": [
      "def get_phase(line, sample_col):\n",
      "    '''\n",
      "    Returns phase status from a GT field\n",
      "    '''\n",
      "    if \"|\" in line[sample_col]:\n",
      "        return \"|\"\n",
      "    if \"/\" in line[sample_col]:\n",
      "        return \"/\"\n",
      "    else: return '-'\n",
      "\n",
      "def get_allele(line, sample_col, phase_col, allele_num=0):\n",
      "    allele_calls = line[sample_col].split(\":\")[0].split(line[phase_col])\n",
      "    alleles = [line['REF']]\n",
      "    alleles.extend(line['ALT'].split(\",\"))\n",
      "    a1 = \".\"\n",
      "    try:\n",
      "        a1 = alleles[int(allele_calls[allele_num])]\n",
      "    except:\n",
      "        a1 = \".\"\n",
      "    return a1\n"
     ],
     "language": "python",
     "metadata": {},
     "outputs": []
    },
    {
     "cell_type": "code",
     "collapsed": false,
     "input": [
      "def vartype(line, allele_base_col):\n",
      "    '''\n",
      "    This function assigns the following vartypes to the \n",
      "    allele specified by allele_base_col: snp, mnp, ins, del, indel or SV\n",
      "    \n",
      "    '''\n",
      "    ref = line['REF']\n",
      "    alt = line[allele_base_col]\n",
      "    if is_snp(ref,alt): return 'snp'\n",
      "    elif is_sv(ref,alt): return 'sv'\n",
      "    elif is_mnp(ref,alt): return 'mnp'\n",
      "    elif is_insertion(ref,alt): return 'ins'\n",
      "    elif is_del(ref,alt): return 'del'\n",
      "    else: return 'indel or SV'\n",
      "\n",
      "def is_snp(ref,alt):\n",
      "    \"\"\" Return whether or not the variant is a SNP \"\"\"\n",
      "    if len(ref) != len(alt): return False\n",
      "    base_diff = [nt for i,nt in enumerate(alt) if ref[i] != alt[i]]\n",
      "    if len(base_diff) <=1:\n",
      "            return True\n",
      "    return False\n",
      "\n",
      "def is_sv(ref,alt):\n",
      "    if \"[\" in alt or \"]\" in alt:\n",
      "        return True\n",
      "    return False\n",
      "\n",
      "def is_mnp(ref,alt):\n",
      "    \"\"\" Return whether or not the variant is an MNP\"\"\"\n",
      "    if len(ref) > 1 and len(ref) == len(alt):\n",
      "        return True\n",
      "    return False\n",
      "\n",
      "def is_insertion(ref,alt):\n",
      "    if len(ref) < len(alt):\n",
      "        return True\n",
      "    return False\n",
      "    \n",
      "def is_del(ref,alt):\n",
      "    if len(ref) > len(alt):\n",
      "        return True\n",
      "    return False"
     ],
     "language": "python",
     "metadata": {},
     "outputs": []
    },
    {
     "cell_type": "code",
     "collapsed": false,
     "input": [
      "def zygosity(line):\n",
      "    allele_set = set([line['a1'], line['a2'], line['REF']])\n",
      "    if len(allele_set) == 1:\n",
      "        return 'hom-ref'\n",
      "    if len(allele_set) ==2 and line['a1'] == line['a2']:\n",
      "        return 'hom-alt'\n",
      "    if len(allele_set) == 2 and line['a1'] != line['a2']:\n",
      "        return 'het-ref'\n",
      "    if len(allele_set) ==3:\n",
      "        return 'het-alt'\n",
      "    assert False"
     ],
     "language": "python",
     "metadata": {},
     "outputs": []
    },
    {
     "cell_type": "code",
     "collapsed": false,
     "input": [
      "def ref_read_depth(line):\n",
      "    '''\n",
      "    This function returns the number of reads\n",
      "    supporting the reference allele\n",
      "    \n",
      "    Required columns: [DP, AD, zygosity, a1]\n",
      "    '''\n",
      "    \n",
      "    dp = line['DP']  #total read depth\n",
      "    ad = line['AD'].replace(\".\",'0')  #replace missing with 0\n",
      "    ad1, ad2 = ad.split(\",\")  #allelic depth for allele1 and allele2\n",
      "    \n",
      "    if line['zygosity'] == 'het-ref':  \n",
      "        if line['a1'] != line['REF']: #allele1 is non-reference\n",
      "            return  dp - int(ad1)  #total read depth - allele1 read depth\n",
      "        return dp - int(ad2)  #total read depth - allele2 read depth\n",
      "    \n",
      "    if line['zygosity'] == 'hom-alt':  #allele1 and allele2 read depths are identical\n",
      "        return  dp - int(ad2)  \n",
      "    \n",
      "    if line['zygosity'] == 'het-alt':\n",
      "        return  dp - sum([ int(ad1), int(ad2) ] )\n",
      "    \n",
      "    return dp  #hom-ref read depth == total read depth"
     ],
     "language": "python",
     "metadata": {},
     "outputs": []
    },
    {
     "cell_type": "heading",
     "level": 1,
     "metadata": {},
     "source": [
      "Sample File Paths"
     ]
    },
    {
     "cell_type": "code",
     "collapsed": false,
     "input": [
      "tp_NA12877_tsv = '/gpfs/home/erscott/Datasets_raw/PlatinumGenomes/NA12877/NA12877_phasing/tp.tsv.gz'\n",
      "\n",
      "fp_NA12877_tsv = '/gpfs/home/erscott/Datasets_raw/PlatinumGenomes/NA12877/NA12877_phasing/fp.tsv.gz'\n"
     ],
     "language": "python",
     "metadata": {},
     "outputs": []
    },
    {
     "cell_type": "heading",
     "level": 1,
     "metadata": {},
     "source": [
      "RF Preprocessing - THIS TAKES QUITE AWHILE IF PROCESSING THE WHOLE GENOME - WE SHOULD IMPLEMENT A MULTIPROCESSING METHOD TO SPEED THINGS UP"
     ]
    },
    {
     "cell_type": "code",
     "collapsed": false,
     "input": [
      "fp = pd.read_table(fp_NA12877_tsv,sep=\"\\t\",compression='gzip')\n",
      "#fp = fp.ix[:10000]\n",
      "\n",
      "tp = pd.read_table(tp_NA12877_tsv,sep=\"\\t\",compression='gzip')\n",
      "#tp = tp.ix[:100000]\n"
     ],
     "language": "python",
     "metadata": {},
     "outputs": []
    },
    {
     "cell_type": "code",
     "collapsed": false,
     "input": [
      "def multiallele_GL_formatting(df, gl_col):\n",
      "    GL_df = pd.DataFrame.from_records([i.split(\",\") for i in df[gl_col]], columns=['AA_'+gl_col, 'AB_'+gl_col, 'BB_'+gl_col, 'AC_'+gl_col, 'BC_'+gl_col, 'CC_'+gl_col])\n",
      "    GL_df.index = df.index\n",
      "    GL_df.fillna(value=-999,inplace=True)\n",
      "    df = df.join(GL_df)\n",
      "    return df\n",
      "\n",
      "\n",
      "def allele_col_formatting(df, al_col):\n",
      "    df[al_col + \"_1\"] = [int(i.split(\",\")[0]) if i.split(\",\")[0] != \".\" else -999 for i in df[al_col]]\n",
      "    df[al_col + \"_2\"] = [int(i.split(\",\")[1]) if i.split(\",\")[1] != \".\" else -999 for i in df[al_col]]\n",
      "    return df\n",
      "\n",
      "\n",
      "def categ_formatting(df, cat_col):\n",
      "    temp_dummies = pd.get_dummies(df[cat_col], prefix=cat_col)\n",
      "    df = df.join(temp_dummies, how='left')\n",
      "    return df\n",
      "\n",
      "\n"
     ],
     "language": "python",
     "metadata": {},
     "outputs": []
    },
    {
     "cell_type": "code",
     "collapsed": false,
     "input": [
      "\n",
      "def preprocess_vcf_line(df, index_features, allele_features, binary_features, categorical_features, geno_features, numeric_features):\n",
      "    '''\n",
      "    This function annotates vcf variants with\n",
      "    phase, allele1 base call, allele2 base call, \n",
      "    multiallele, vartype\n",
      "    '''\n",
      "    \n",
      "    discard_vars = ['<INS:ME:ALU>', '<INS:ME:L1>','<CGA_CNVWIN>','<INS:ME:SVA>']  #ignore CNVs and repeats\n",
      "    df = df[~df.ALT.isin(discard_vars)]  \n",
      "    \n",
      "    df['phase'] = df.apply(get_phase, args=['GT'], axis=1)  #get phase\n",
      "    df = df[df.phase != \"-\"]  #likley occurs at sex chromosome sites\n",
      "    df['a1'] = df.apply(get_allele, args=['GT','phase', 0], axis=1)  #get allele1 base seq\n",
      "    df['a2'] = df.apply(get_allele, args=['GT','phase', 1], axis=1)  #get allele2 base seq\n",
      "    df['multiallele'] = df.ALT.map(lambda x: 1 if \",\" in x else 0)  #1 is more than 1 alt allele, 0 else\n",
      "    df['zygosity'] = df.apply(zygosity, axis=1)  #get zygosity: hom-ref, het-ref, hom-alt, het-alt\n",
      "    df['vartype1'] = df.apply(vartype,args=['a1'], axis=1)  #vartype for allele1: snp, mnp, insertion, deletion, sv\n",
      "    df['vartype2'] = df.apply(vartype,args=['a2'], axis=1)  #vartype for allele2: snp, mnp, insertion, deletion, sv\n",
      "    \n",
      "    df = df[(df.vartype1 != 'sv') & (df.vartype2 != 'sv')]  #ignore structural variants\n",
      "    \n",
      "    df['AD'].fillna(value='0,0', inplace=True)  #fill missing allelic depth with 0,0 reads\n",
      "    df['ref_read_depth'] = df.apply(ref_read_depth, axis=1)  #get number of reads supporting the reference allele\n",
      "    \n",
      "    \n",
      "    df.set_index(index_features, inplace=True)\n",
      "    \n",
      "    \n",
      "    #FORMATTING ALLELE-SPECIFIC FEATURES\n",
      "    df_allele = df[allele_features]\n",
      "    for a_cols in allele_features:\n",
      "        df_allele = allele_col_formatting(df_allele, a_cols)\n",
      "        del df_allele[a_cols]\n",
      "        \n",
      "    \n",
      "    #FORMATTING BINARY FEATURES\n",
      "    df_binary = df[binary_features]\n",
      "    for b in binary_features:\n",
      "        df_binary[b].fillna(value=0,inplace=True)\n",
      "        df_binary[b] = df_binary[b].map(lambda x: 1 if x!=0 else 0)\n",
      "        \n",
      "\n",
      "    #FORMATTING CATEGORICAL FEATURES\n",
      "    df_categ = df[categorical_features]\n",
      "    for c in categorical_features:\n",
      "        df_categ = categ_formatting(df_categ, c)\n",
      "        del df_categ[c]\n",
      "        \n",
      "        \n",
      "    #FORMATTING GENOTYPE FEATURES\n",
      "    df_geno = df[geno_features]\n",
      "    for g_cols in geno_features:\n",
      "        df_geno = multiallele_GL_formatting(df_geno, g_cols)\n",
      "        del df_geno[g_cols]\n",
      "        \n",
      "    \n",
      "    #FORMATTING NUMERIC FEATURES\n",
      "    df_numeric = df[numeric_features]\n",
      "    for n in numeric_features:\n",
      "        df_numeric[n] = df_numeric[n].astype(float)\n",
      "    \n",
      "    \n",
      "    #JOIN FORMATTED DATAFRAMES\n",
      "    df_train = df_numeric.join([df_categ, df_geno, df_allele, df_binary])\n",
      "    \n",
      "    return df_train"
     ],
     "language": "python",
     "metadata": {},
     "outputs": []
    },
    {
     "cell_type": "heading",
     "level": 3,
     "metadata": {},
     "source": [
      "The following code has already been run and the results from this processing is in the next code block"
     ]
    },
    {
     "cell_type": "code",
     "collapsed": false,
     "input": [
      "#Setting Features and Types for Training Data Set\n",
      "# index_features = ['CHROM', 'POS', 'REF', 'ALT']\n",
      "\n",
      "# allele_features = ['HQ', 'EHQ', 'CGA_CEHQ', 'AD']\n",
      "# binary_features = ['CGA_XR', 'CGA_RPT', 'multiallele']\n",
      "# categorical_features = ['FT', 'vartype1', 'vartype2', 'phase', 'zygosity']\n",
      "# geno_features = ['GL', 'CGA_CEGL']\n",
      "# numeric_features = ['CGA_SDO', 'GQ', 'DP', 'CGA_RDP']\n",
      "\n",
      "# #Pre-processing False Positive Variants\n",
      "# fp_train = preprocess_vcf_line(fp.copy(), index_features, allele_features, binary_features, categorical_features, geno_features, numeric_features)        \n",
      "# fp_train = fp_train[fp_train['DP'] > 0]  #removing variants without any read support\n",
      "# fp_truth = fp_train[['HQ_1']]\n",
      "# fp_truth['HQ_1'] = 0\n",
      "# fp_truth.columns = ['truth']\n",
      "\n",
      "# #Pre-processing True Positive Variants\n",
      "# tp_train = preprocess_vcf_line(tp.copy(), index_features, allele_features, binary_features, categorical_features, geno_features, numeric_features)\n",
      "# tp_train = tp_train[tp_train['DP'] > 0]\n",
      "# tp_truth = tp_train[['HQ_1']]\n",
      "# tp_truth['HQ_1'] = 1\n",
      "# tp_truth.columns = ['truth']\n",
      "\n",
      "\n",
      "#FINAL PRE-PROCESSING FOR TRAINING DATA SET\n",
      "# training_set = tp_train.append(fp_train) \n",
      "# training_set.CGA_SDO.fillna(value=0, inplace=True)\n",
      "# training_set.GQ.fillna(value=-999, inplace=True)\n",
      "\n",
      "# training_truth = tp_truth.append(fp_truth)\n",
      "\n",
      "# #WRITING PRE-PROCESED TRAINING DATA SET TO FILE\n",
      "# training_set['truth'] = training_truth.values\n",
      "# training_set.to_csv('/gpfs/home/erscott/Datasets_raw/PlatinumGenomes/NA12877/NA12877_phasing/NA12877_preprocessed_training_set.txt', sep=\"\\t\")         \n"
     ],
     "language": "python",
     "metadata": {},
     "outputs": []
    },
    {
     "cell_type": "code",
     "collapsed": false,
     "input": [
      "#Reading In Pre-processed Training Data Set NA12877\n",
      "training_set = pd.read_table('/gpfs/home/erscott/Datasets_raw/PlatinumGenomes/NA12877/NA12877_phasing/NA12877_preprocessed_training_set.txt.gz', sep=\"\\t\", compression='gzip')   \n",
      "training_set.set_index(['CHROM', 'POS', 'REF', 'ALT'],inplace=True)\n",
      "training_truth = training_set['truth']\n",
      "del training_set['truth']"
     ],
     "language": "python",
     "metadata": {},
     "outputs": []
    },
    {
     "cell_type": "heading",
     "level": 3,
     "metadata": {},
     "source": [
      "Small Random Sample of Training Data"
     ]
    },
    {
     "cell_type": "code",
     "collapsed": false,
     "input": [
      "random_sample_tp = random.sample(training_truth[training_truth==1].index, 100000)\n",
      "random_sample_fp = random.sample(training_truth[training_truth==0].index, 50000)\n",
      "\n",
      "random_sample = set(list(random_sample_tp)) | set(list(random_sample_fp))\n",
      "\n",
      "training_set_random = training_set.ix[random_sample]\n",
      "training_truth_random = training_truth.ix[random_sample]\n",
      "\n",
      "#EXCLUDING CGA_XR AS A FEATURE\n",
      "del training_set_random['CGA_XR']"
     ],
     "language": "python",
     "metadata": {},
     "outputs": []
    },
    {
     "cell_type": "heading",
     "level": 2,
     "metadata": {},
     "source": [
      "TESTING RF Data NA12878"
     ]
    },
    {
     "cell_type": "heading",
     "level": 3,
     "metadata": {},
     "source": [
      "The following code has already been run and the results from this processing is in the next code block"
     ]
    },
    {
     "cell_type": "code",
     "collapsed": false,
     "input": [
      "# tp_NA12878_tsv = '/gpfs/home/erscott/Datasets_raw/PlatinumGenomes/NA12878/NA12878_phasing/tp.tsv.gz'\n",
      "\n",
      "# fp_NA12878_tsv = '/gpfs/home/erscott/Datasets_raw/PlatinumGenomes/NA12878/NA12878_phasing/fp.tsv.gz'\n",
      "\n",
      "# test_fp = pd.read_table(fp_NA12878_tsv,sep=\"\\t\",compression='gzip', nrows=10000)\n",
      "# #test_fp = test_fp.ix[:10000]\n",
      "\n",
      "# test_tp = pd.read_table(tp_NA12878_tsv,sep=\"\\t\",compression='gzip',nrows=100000)\n",
      "# #test_tp = tp.ix[:100000]\n",
      "\n",
      "\n",
      "\n",
      "\n",
      "# index_features = ['CHROM', 'POS', 'REF', 'ALT']\n",
      "\n",
      "# allele_features = ['HQ', 'EHQ', 'CGA_CEHQ', 'AD']\n",
      "# binary_features = ['CGA_XR', 'CGA_RPT', 'multiallele']\n",
      "# categorical_features = ['FT', 'vartype1', 'vartype2', 'phase', 'zygosity']\n",
      "# geno_features = ['GL', 'CGA_CEGL']\n",
      "# numeric_features = ['CGA_SDO', 'GQ', 'DP', 'CGA_RDP']\n",
      "\n",
      "\n",
      "# fp_test = preprocess_vcf_line(test_fp.copy(), index_features, allele_features, binary_features, categorical_features, geno_features, numeric_features)        \n",
      "# fp_test = fp_test[fp_test.DP > 0]\n",
      "# fp_truth = fp_test[['HQ_1']]\n",
      "# fp_truth['HQ_1'] = 0\n",
      "# fp_truth.columns = ['truth']\n",
      "\n",
      "# tp_test = preprocess_vcf_line(test_tp.copy(), index_features, allele_features, binary_features, categorical_features, geno_features, numeric_features)\n",
      "# tp_test = tp_test[tp_test.DP > 0]\n",
      "# tp_truth = tp_test[['HQ_1']]\n",
      "# tp_truth['HQ_1'] = 1\n",
      "# tp_truth.columns = ['truth']\n",
      "\n",
      "\n",
      "# test_set = tp_test.append(fp_test) \n",
      "# test_set = test_set[test_set['DP'] > 0]\n",
      "# test_set.CGA_SDO.fillna(value=0, inplace=True)\n",
      "# test_set.GQ.fillna(value=-999, inplace=True)\n",
      "\n",
      "# test_truth = tp_truth.append(fp_truth)\n",
      "\n",
      "# test_set['truth'] = test_truth.values\n",
      "# test_set.to_csv(\"/gpfs/home/erscott/Datasets_raw/PlatinumGenomes/NA12878/NA12878_phasing/NA12878_preprocessed_testing_set.txt\",sep=\"\\t\")\n",
      "\n"
     ],
     "language": "python",
     "metadata": {},
     "outputs": []
    },
    {
     "cell_type": "code",
     "collapsed": false,
     "input": [
      "test_set = pd.read_table(\"/gpfs/home/erscott/Datasets_raw/PlatinumGenomes/NA12878/NA12878_phasing/NA12878_preprocessed_testing_set.txt\",sep=\"\\t\")\n",
      "test_set.set_index(['CHROM','POS','REF','ALT'],inplace=True)\n",
      "test_truth = test_set[['truth']]\n",
      "del test_set['truth']\n",
      "\n",
      "\n"
     ],
     "language": "python",
     "metadata": {},
     "outputs": []
    },
    {
     "cell_type": "heading",
     "level": 3,
     "metadata": {},
     "source": [
      "Small Random Sample of Testing Data"
     ]
    },
    {
     "cell_type": "code",
     "collapsed": false,
     "input": [
      "import random\n",
      "random_subset = random.sample(test_set.index,50000)\n",
      "test_set_random = test_set.ix[random_subset]\n",
      "test_truth_random = test_truth.ix[random_subset]"
     ],
     "language": "python",
     "metadata": {},
     "outputs": []
    },
    {
     "cell_type": "heading",
     "level": 2,
     "metadata": {},
     "source": [
      "TESTING MODEL CONVENIENCE FUNCTION"
     ]
    },
    {
     "cell_type": "code",
     "collapsed": false,
     "input": [
      "def get_fp_tp_predictions(test_df, test_truth, model):\n",
      "    \n",
      "    fp = test_df.ix[test_truth[test_truth.truth==0].index]\n",
      "    tp = test_df.ix[~test_df.index.isin(fp.index)]\n",
      "    \n",
      "    predictions = model.predict(fp)\n",
      "    fp['predictions'] = predictions\n",
      "    fp['truth'] = test_truth.ix[fp.index]\n",
      "    \n",
      "    predictions = model.predict(tp)\n",
      "    tp['predictions'] = predictions\n",
      "    tp['truth'] = test_truth.ix[tp.index]\n",
      "    \n",
      "    return fp, tp\n",
      "\n",
      "#fp,tp = get_fp_tp_predictions(test_set, test_truth, clf1)  #USAGE"
     ],
     "language": "python",
     "metadata": {},
     "outputs": []
    },
    {
     "cell_type": "heading",
     "level": 1,
     "metadata": {},
     "source": [
      "TRAINING LOGISTIC REGRESSION MODEL"
     ]
    },
    {
     "cell_type": "code",
     "collapsed": false,
     "input": [
      "from sklearn import linear_model\n",
      "lm = linear_model.LogisticRegression(penalty='l2',C=1)\n",
      "lm_train = lm.fit(training_set_random, training_truth_random.values)\n"
     ],
     "language": "python",
     "metadata": {},
     "outputs": []
    },
    {
     "cell_type": "code",
     "collapsed": false,
     "input": [
      "import cPickle\n",
      "cPickle.dump(lm_train, open('/gpfs/home/erscott/Datasets_raw/PlatinumGenomes/NA12877/NA12877_phasing/NA12877_preprocessed_training_set_LogReg_model.pkl','w'))   \n"
     ],
     "language": "python",
     "metadata": {},
     "outputs": []
    },
    {
     "cell_type": "code",
     "collapsed": false,
     "input": [
      "zip(training_set_random.columns, lm_train.coef_[0])"
     ],
     "language": "python",
     "metadata": {},
     "outputs": []
    },
    {
     "cell_type": "code",
     "collapsed": false,
     "input": [
      "test_set_noXR = test_set.copy()\n",
      "del test_set_noXR['CGA_XR']\n"
     ],
     "language": "python",
     "metadata": {},
     "outputs": []
    },
    {
     "cell_type": "code",
     "collapsed": false,
     "input": [
      "lm_train.score(test_set, test_truth)"
     ],
     "language": "python",
     "metadata": {},
     "outputs": []
    },
    {
     "cell_type": "code",
     "collapsed": false,
     "input": [
      "fp,tp = get_fp_tp_predictions(test_set, test_truth, lm_train)\n"
     ],
     "language": "python",
     "metadata": {},
     "outputs": []
    },
    {
     "cell_type": "code",
     "collapsed": false,
     "input": [
      "fp.predictions.value_counts()"
     ],
     "language": "python",
     "metadata": {},
     "outputs": []
    },
    {
     "cell_type": "code",
     "collapsed": false,
     "input": [
      "tp.predictions.value_counts()"
     ],
     "language": "python",
     "metadata": {},
     "outputs": []
    },
    {
     "cell_type": "code",
     "collapsed": false,
     "input": [
      "test_truth.truth.value_counts()"
     ],
     "language": "python",
     "metadata": {},
     "outputs": []
    },
    {
     "cell_type": "code",
     "collapsed": false,
     "input": [
      "test_results = lm_train.predict_proba(test_set)\n",
      "test_results_df = pd.DataFrame(test_results)\n",
      "test_results_df['truth'] = test_truth.values\n",
      "test_results_df.describe()\n",
      "\n",
      "for i in range(0,100,2):\n",
      "    temp0_thresh = i/100.0\n",
      "    print i\n",
      "    temp_df = test_results_df[(test_results_df[0].astype(float) < temp0_thresh)]\n",
      "    print 'fp:', len(temp_df[temp_df.truth==0])\n",
      "    print 'tp:', len(temp_df[temp_df.truth==1])\n",
      "    print\n",
      "    print\n",
      "\n",
      "    "
     ],
     "language": "python",
     "metadata": {},
     "outputs": []
    },
    {
     "cell_type": "heading",
     "level": 1,
     "metadata": {},
     "source": [
      "TRAINING & TESTING RF MODELs"
     ]
    },
    {
     "cell_type": "code",
     "collapsed": false,
     "input": [
      "\n",
      "from sklearn.ensemble import RandomForestClassifier\n",
      "clf = RandomForestClassifier(n_estimators=500,n_jobs=8, oob_score=True, criterion='entropy', min_samples_split=4, min_samples_leaf=2)"
     ],
     "language": "python",
     "metadata": {},
     "outputs": []
    },
    {
     "cell_type": "code",
     "collapsed": false,
     "input": [
      "training_set_random.columns"
     ],
     "language": "python",
     "metadata": {},
     "outputs": []
    },
    {
     "cell_type": "code",
     "collapsed": false,
     "input": [
      "clf1 = clf.fit(training_set_random, training_truth_random)  #About 10 minutes with 8 jobs"
     ],
     "language": "python",
     "metadata": {},
     "outputs": []
    },
    {
     "cell_type": "code",
     "collapsed": false,
     "input": [
      "zip(training_set_random.columns, clf1.feature_importances_)"
     ],
     "language": "python",
     "metadata": {},
     "outputs": []
    },
    {
     "cell_type": "code",
     "collapsed": false,
     "input": [
      "clf1.oob_score_"
     ],
     "language": "python",
     "metadata": {},
     "outputs": []
    },
    {
     "cell_type": "code",
     "collapsed": false,
     "input": [
      "clf1.score(test_set_noXR, test_truth.values)"
     ],
     "language": "python",
     "metadata": {},
     "outputs": []
    },
    {
     "cell_type": "code",
     "collapsed": false,
     "input": [
      "test_results = clf1.predict_proba(test_set_noXR)"
     ],
     "language": "python",
     "metadata": {},
     "outputs": []
    },
    {
     "cell_type": "code",
     "collapsed": false,
     "input": [
      "test_results_df = pd.DataFrame(test_results)\n",
      "test_results_df['truth'] = test_truth.values\n",
      "test_results_df.describe()"
     ],
     "language": "python",
     "metadata": {},
     "outputs": []
    },
    {
     "cell_type": "code",
     "collapsed": false,
     "input": [
      "test_truth.truth.value_counts()"
     ],
     "language": "python",
     "metadata": {},
     "outputs": []
    },
    {
     "cell_type": "code",
     "collapsed": false,
     "input": [
      "x_y_df = pd.DataFrame.from_records(x_y)\n",
      "x_y_df.columns=['f p','t p']\n",
      "pd.scatter_matrix(x_y_df, figsize=(8,8),s=100)"
     ],
     "language": "python",
     "metadata": {},
     "outputs": []
    },
    {
     "cell_type": "code",
     "collapsed": false,
     "input": [
      "x_y = []\n",
      "for i in range(0,100,2):\n",
      "    temp0_thresh = i/100.0\n",
      "    print i\n",
      "    temp_df = test_results_df[(test_results_df[0].astype(float) < temp0_thresh)]\n",
      "    print 'fp:', len(temp_df[temp_df.truth==0])\n",
      "    print 'tp:', len(temp_df[temp_df.truth==1])\n",
      "    print\n",
      "    print\n",
      "    x_y.append((len(temp_df[temp_df.truth==0]),   len(temp_df[temp_df.truth==1])))"
     ],
     "language": "python",
     "metadata": {},
     "outputs": []
    },
    {
     "cell_type": "code",
     "collapsed": false,
     "input": [
      "#WITH CGA_XR\n",
      "for i in range(0,100,2):\n",
      "    temp0_thresh = i/100.0\n",
      "    print i\n",
      "    temp_df = test_results_df[(test_results_df[0].astype(float) < temp0_thresh)]\n",
      "    print 'fp:', len(temp_df[temp_df.truth==0])\n",
      "    print 'tp:', len(temp_df[temp_df.truth==1])\n",
      "    print\n",
      "    print\n"
     ],
     "language": "python",
     "metadata": {},
     "outputs": []
    },
    {
     "cell_type": "code",
     "collapsed": false,
     "input": [
      "def retrain(fp, tp):\n",
      "    retrain_fp = fp[fp.predictions==1]\n",
      "    retrain_tp = tp[tp.predictions==0]\n",
      "    del retrain_fp['predictions']\n",
      "    del retrain_tp['predictions']\n",
      "    retrain_df = retrain_tp.append(retrain_fp)\n",
      "    retrain_df_truth = retrain_df[['truth']]\n",
      "    del retrain_df['truth']\n",
      "    return retrain_df, retrain_df_truth"
     ],
     "language": "python",
     "metadata": {},
     "outputs": []
    },
    {
     "cell_type": "code",
     "collapsed": false,
     "input": [
      "retrain_df, retrain_df_truth = retrain(fp, tp)"
     ],
     "language": "python",
     "metadata": {},
     "outputs": []
    },
    {
     "cell_type": "code",
     "collapsed": false,
     "input": [
      "retrain_clf = clf.fit(retrain_df, retrain_df_truth.values)\n"
     ],
     "language": "python",
     "metadata": {},
     "outputs": []
    },
    {
     "cell_type": "code",
     "collapsed": false,
     "input": [
      "retrain_clf.oob_score_"
     ],
     "language": "python",
     "metadata": {},
     "outputs": []
    },
    {
     "cell_type": "code",
     "collapsed": false,
     "input": [
      "retrain_test_set_index = test_set[~test_set.index.isin(random_subset)].index\n",
      "retrain_test_set = test_set.ix[retrain_test_set_index]\n",
      "retrain_test_set_truth = test_truth.ix[retrain_test_set_index]\n"
     ],
     "language": "python",
     "metadata": {},
     "outputs": []
    },
    {
     "cell_type": "code",
     "collapsed": false,
     "input": [
      "fp,tp = get_fp_tp_predictions(retrain_test_set, retrain_test_set_truth, retrain_clf)"
     ],
     "language": "python",
     "metadata": {},
     "outputs": []
    },
    {
     "cell_type": "code",
     "collapsed": false,
     "input": [
      "retrain_clf.score(retrain_test_set, retrain_test_set_truth)"
     ],
     "language": "python",
     "metadata": {},
     "outputs": []
    },
    {
     "cell_type": "code",
     "collapsed": false,
     "input": [
      "fp.predictions.value_counts()"
     ],
     "language": "python",
     "metadata": {},
     "outputs": []
    },
    {
     "cell_type": "code",
     "collapsed": false,
     "input": [
      "tp.predictions.value_counts()"
     ],
     "language": "python",
     "metadata": {},
     "outputs": []
    },
    {
     "cell_type": "code",
     "collapsed": false,
     "input": [
      "tp.predictions.value_counts()"
     ],
     "language": "python",
     "metadata": {},
     "outputs": []
    },
    {
     "cell_type": "code",
     "collapsed": false,
     "input": [
      "print 'COMPLETE'"
     ],
     "language": "python",
     "metadata": {},
     "outputs": []
    },
    {
     "cell_type": "heading",
     "level": 1,
     "metadata": {},
     "source": [
      "Features Associated with Misclassified Variants"
     ]
    },
    {
     "cell_type": "code",
     "collapsed": false,
     "input": [
      "fp_misclass = fp.copy()\n",
      "fp['truth'] = fp['predictions']\n",
      "del fp['predictions']"
     ],
     "language": "python",
     "metadata": {},
     "outputs": []
    },
    {
     "cell_type": "code",
     "collapsed": false,
     "input": [
      "fp_columns_minus_truth = [i for i in fp.columns if i != 'truth']\n"
     ],
     "language": "python",
     "metadata": {},
     "outputs": []
    },
    {
     "cell_type": "code",
     "collapsed": false,
     "input": [
      "misclass_features = clf.fit(fp[fp_columns_minus_truth], fp['truth'])\n"
     ],
     "language": "python",
     "metadata": {},
     "outputs": []
    },
    {
     "cell_type": "code",
     "collapsed": false,
     "input": [
      "zip(fp[fp_columns_minus_truth].columns, misclass_features.feature_importances_)"
     ],
     "language": "python",
     "metadata": {},
     "outputs": []
    },
    {
     "cell_type": "code",
     "collapsed": false,
     "input": [
      "misclass_features.oob_score_"
     ],
     "language": "python",
     "metadata": {},
     "outputs": []
    },
    {
     "cell_type": "code",
     "collapsed": false,
     "input": [],
     "language": "python",
     "metadata": {},
     "outputs": []
    },
    {
     "cell_type": "heading",
     "level": 1,
     "metadata": {},
     "source": [
      "Function Code, aggregated in the above function preprocess_vcf_line"
     ]
    },
    {
     "cell_type": "heading",
     "level": 3,
     "metadata": {},
     "source": [
      "Numeric Field Formatting"
     ]
    },
    {
     "cell_type": "code",
     "collapsed": false,
     "input": [
      "numeric_features = ['CGA_SDO', 'GQ', 'DP', 'CGA_RDP']\n",
      "df_numeric = df.copy()\n",
      "df_numeric = df_numeric[numeric_features]\n",
      "for n in numeric_features:\n",
      "    df_numeric[n] = df_numeric[n].astype(float)\n",
      "df_numeric['CGA_SDO'].fillna(value=0, inplace=True)\n"
     ],
     "language": "python",
     "metadata": {},
     "outputs": []
    },
    {
     "cell_type": "heading",
     "level": 3,
     "metadata": {},
     "source": [
      "GL Field Formatting"
     ]
    },
    {
     "cell_type": "code",
     "collapsed": false,
     "input": [
      "def multiallele_GL_formatting(df, gl_col):\n",
      "    GL_df = pd.DataFrame.from_records([i.split(\",\") for i in df[gl_col]], columns=['AA_'+gl_col, 'AB_'+gl_col, 'BB_'+gl_col, 'AC_'+gl_col, 'BC_'+gl_col, 'CC_'+gl_col])\n",
      "    GL_df.index = df.index\n",
      "    GL_df.fillna(value=-999,inplace=True)\n",
      "    df = df.join(GL_df)\n",
      "    return df\n",
      "    "
     ],
     "language": "python",
     "metadata": {},
     "outputs": []
    },
    {
     "cell_type": "code",
     "collapsed": false,
     "input": [
      "\n",
      "geno_cols = ['GL', 'CGA_CEGL']\n",
      "\n",
      "df_geno = df.copy()\n",
      "df_geno = df_geno[geno_cols]\n",
      "for g_cols in geno_cols:\n",
      "    df_geno = multiallele_GL_formatting(df_geno, g_cols)\n",
      "    del df_geno[g_cols]"
     ],
     "language": "python",
     "metadata": {},
     "outputs": []
    },
    {
     "cell_type": "heading",
     "level": 3,
     "metadata": {},
     "source": [
      "Allele Field Formatting"
     ]
    },
    {
     "cell_type": "code",
     "collapsed": false,
     "input": [
      "def allele_col_formatting(df, al_col):\n",
      "    df[al_col + \"_1\"] = [int(i.split(\",\")[0]) if i.split(\",\")[0] != \".\" else -999 for i in df[al_col]]\n",
      "    df[al_col + \"_2\"] = [int(i.split(\",\")[1]) if i.split(\",\")[1] != \".\" else -999 for i in df[al_col]]\n",
      "    return df"
     ],
     "language": "python",
     "metadata": {},
     "outputs": []
    },
    {
     "cell_type": "code",
     "collapsed": false,
     "input": [
      "allele_cols = ['HQ', 'EHQ', 'CGA_CEHQ', 'AD']\n",
      "\n",
      "df_allele = df.copy()\n",
      "df_allele = df[allele_cols]\n",
      "for a_cols in allele_cols:\n",
      "    df_allele = allele_col_formatting(df_allele, a_cols)\n",
      "    del df_allele[a_cols]"
     ],
     "language": "python",
     "metadata": {},
     "outputs": []
    },
    {
     "cell_type": "heading",
     "level": 3,
     "metadata": {},
     "source": [
      "Categorical Field Formatting"
     ]
    },
    {
     "cell_type": "code",
     "collapsed": false,
     "input": [
      "def categ_formatting(df, cat_col):\n",
      "    temp_dummies = pd.get_dummies(df[cat_col], prefix=cat_col)\n",
      "    df = df.join(temp_dummies, how='left')\n",
      "    return df"
     ],
     "language": "python",
     "metadata": {},
     "outputs": []
    },
    {
     "cell_type": "code",
     "collapsed": false,
     "input": [
      "categorical_features = ['FT']\n",
      "\n",
      "df_categ = df.copy()\n",
      "df_categ = df_categ[categorical_features]\n",
      "for c in categorical_features:\n",
      "    df_categ = categ_formatting(df_categ, c)\n",
      "    del df_categ[c]"
     ],
     "language": "python",
     "metadata": {},
     "outputs": []
    },
    {
     "cell_type": "heading",
     "level": 3,
     "metadata": {},
     "source": [
      "Binary Features Formatting"
     ]
    },
    {
     "cell_type": "code",
     "collapsed": false,
     "input": [
      "binary_features = ['CGA_XR', 'CGA_RPT']\n",
      "\n",
      "df_binary = df.copy()\n",
      "df_binary = df_binary[binary_features]\n",
      "for b in binary_features:\n",
      "    df_binary[b].fillna(value=0,inplace=True)\n",
      "    df_binary[b] = df_binary[b].map(lambda x: 1 if x!=0 else 0)\n",
      "    "
     ],
     "language": "python",
     "metadata": {},
     "outputs": []
    },
    {
     "cell_type": "heading",
     "level": 3,
     "metadata": {},
     "source": [
      "Joining Numeric, Genotype, Allele, Categorical, and Binary Features"
     ]
    },
    {
     "cell_type": "code",
     "collapsed": false,
     "input": [
      "df_train = df_numeric.join([df_categ, df_geno, df_allele, df_binary])\n",
      "df_train"
     ],
     "language": "python",
     "metadata": {},
     "outputs": []
    },
    {
     "cell_type": "code",
     "collapsed": false,
     "input": [
      "#FOR USE WITH masterVAR files\n",
      "def preprocess_train_set(test_df):\n",
      "    ''' This function converts the allele1/2truth annotated mastervar files into\n",
      "        a numeric dataset ready for training.\n",
      "        It returns a training data set and the truth calls.  The two objects share indices\n",
      "        and can be combined on the index'''\n",
      "    \n",
      "    test_df.set_index(['chromosome','end', 'reference', 'allele1Seq', 'allele2Seq'],drop=False, inplace=True)\n",
      "    \n",
      "    train_columns = [\"zygosity\", \"REF\", \"a1\", \"a2\", \"allele1VarScoreVAF\", \"allele2VarScoreVAF\", \\\n",
      "                 \"allele1VarScoreEAF\", \"allele2VarScoreEAF\", \"allele1VarQuality\", \"allele2VarQuality\",\\\n",
      "               \"allele1ReadCount\", \"allele2ReadCount\", \"totalReadCount\", \"referenceAlleleReadCount\", \\\n",
      "               \"repeatMasker\", \"segDupOverlap\",\"allele1XRef\",\"allele2XRef\",\"allele1Gene\",\"allele2Gene\",\\\n",
      "               \"alleletruth\"]\n",
      "    \n",
      "    def repeatmask(line):\n",
      "        if line['repeatMasker'] == \".\":\n",
      "            return False\n",
      "        else:\n",
      "            return True\n",
      "    \n",
      "    def coding(alleleGene):\n",
      "        if \"CDS\" in alleleGene:\n",
      "            return True\n",
      "        if \"ACCEPTOR\" in alleleGene:\n",
      "            return True\n",
      "        if \"DONOR\" in alleleGene:\n",
      "            return True\n",
      "        else:\n",
      "            return False\n",
      "        \n",
      "            \n",
      "    def allele_truth(line):\n",
      "        if line['allele1truth'] == 1 and line['allele2truth'] == 1:\n",
      "            return 3\n",
      "        if line['allele1truth'] == 1 and line['allele2truth'] == 0:\n",
      "            return 2\n",
      "        if line['allele1truth'] == 0 and line['allele2truth'] == 1:\n",
      "            return 1\n",
      "        if line['allele1truth'] == 0 and line['allele2truth'] == 0:\n",
      "            return 0\n",
      "        else: assert False\n",
      "    \n",
      "    #EXPERIMENTAL BEGIN  - TRAINED RF_196900samples_oddChroms_rsIDBool_2014_2_2_fp845_tp977.pkl.gz\n",
      "    def rsid_parser(XRef):\n",
      "        if XRef == \".\":  #Not in dbSNP\n",
      "            return False\n",
      "        if XRef != \".\":\n",
      "            return True  #In dbSNP\n",
      "    #EXPERIMENTAL END\n",
      "        \n",
      "    \n",
      "    test_df = test_df[test_df.varType=='snp']\n",
      "    test_df = test_df[test_df.zygosity!='half']  #remove half calls\n",
      "    \n",
      "    test_df['repeatMasker'] = test_df.apply(repeatmask, axis=1)\n",
      "    test_df['allele1Gene'] = test_df['allele1Gene'].map(coding)\n",
      "    test_df['allele2Gene'] = test_df['allele2Gene'].map(coding)\n",
      "    \n",
      "    test_df['alleletruth'] = test_df.apply(allele_truth, axis=1)\n",
      "    del test_df['allele1truth']\n",
      "    del test_df['allele2truth']\n",
      "\n",
      "    df_snps_test = test_df[train_columns]\n",
      "    \n",
      "    #Taking the allele seq out Experimental - Transition/Transversion ratio of coding sequences was too low\n",
      "    #allele1Seq_dummies = pd.get_dummies(df_snps_test['allele1Seq'],prefix='allele1Seq')\n",
      "    #allele2Seq_dummies = pd.get_dummies(df_snps_test['allele2Seq'],prefix='allele2Seq')\n",
      "    #df_snps_test = df_snps_test.join(allele1Seq_dummies, how='outer')\n",
      "    #df_snps_test = df_snps_test.join(allele2Seq_dummies,how='outer')\n",
      "    del df_snps_test['allele1Seq']\n",
      "    del df_snps_test['allele2Seq']\n",
      "\n",
      "    allele1VarQuality_dummies = pd.get_dummies(df_snps_test['allele1VarQuality'],prefix='allele1VarQuality')\n",
      "    allele2VarQuality_dummies = pd.get_dummies(df_snps_test['allele2VarQuality'],prefix='allele2VarQuality')\n",
      "    df_snps_test = df_snps_test.join(allele1VarQuality_dummies,how='outer')\n",
      "    df_snps_test = df_snps_test.join(allele2VarQuality_dummies,how='outer')\n",
      "    del df_snps_test['allele1VarQuality']\n",
      "    del df_snps_test['allele2VarQuality']\n",
      "\n",
      "    #ref_dummies = pd.get_dummies(df_snps_test['reference'],prefix='reference')\n",
      "    zygosity_dummies = pd.get_dummies(df_snps_test['zygosity'],prefix='zygosity')\n",
      "    #df_snps_test = df_snps_test.join(ref_dummies,how='outer')\n",
      "    df_snps_test = df_snps_test.join(zygosity_dummies,how='outer')\n",
      "    del df_snps_test['reference']\n",
      "    del df_snps_test['zygosity']\n",
      "    \n",
      "    #Experimental Begin\n",
      "    df_snps_test['allele1XRef'] = df_snps_test['allele1XRef'].map(rsid_parser)\n",
      "    df_snps_test['allele2XRef'] = df_snps_test['allele2XRef'].map(rsid_parser)\n",
      "    #Experimental End\n",
      "    \n",
      "    Y_truth = df_snps_test['alleletruth'].copy()\n",
      "    del df_snps_test['alleletruth']\n",
      "    return df_snps_test, Y_truth"
     ],
     "language": "python",
     "metadata": {},
     "outputs": []
    },
    {
     "cell_type": "code",
     "collapsed": false,
     "input": [],
     "language": "python",
     "metadata": {},
     "outputs": []
    }
   ],
   "metadata": {}
  }
 ]
}