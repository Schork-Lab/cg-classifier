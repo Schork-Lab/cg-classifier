{
 "metadata": {
  "name": ""
 },
 "nbformat": 3,
 "nbformat_minor": 0,
 "worksheets": [
  {
   "cells": [
    {
     "cell_type": "heading",
     "level": 1,
     "metadata": {},
     "source": [
      "Libraries\n"
     ]
    },
    {
     "cell_type": "code",
     "collapsed": false,
     "input": [
      "import pandas as pd\n",
      "import sys, os\n",
      "from collections import Counter\n",
      "from IPython.display import HTML\n",
      "import pybedtools\n",
      "import subprocess\n",
      "import random\n",
      "import cPickle\n",
      "import multiprocessing as mp\n",
      "\n",
      "\n",
      "src_dir = '../cg-classifier/'\n",
      "sys.path.append(src_dir)\n",
      "import seaborn\n",
      "seaborn.set_context('poster') "
     ],
     "language": "python",
     "metadata": {},
     "outputs": [],
     "prompt_number": 1
    },
    {
     "cell_type": "code",
     "collapsed": false,
     "input": [
      "%load_ext autoreload\n",
      "%autoreload 2"
     ],
     "language": "python",
     "metadata": {},
     "outputs": [],
     "prompt_number": 2
    },
    {
     "cell_type": "heading",
     "level": 1,
     "metadata": {},
     "source": [
      "Functions"
     ]
    },
    {
     "cell_type": "code",
     "collapsed": false,
     "input": [
      "def get_phase(line, sample_col):\n",
      "    '''\n",
      "    Returns phase status from a GT field\n",
      "    '''\n",
      "    if \"|\" in line[sample_col]:\n",
      "        return \"|\"\n",
      "    if \"/\" in line[sample_col]:\n",
      "        return \"/\"\n",
      "    else: return '-'\n",
      "\n",
      "def get_allele_mp(arg_tuple):\n",
      "    allele_calls, phase_col, allele_num = arg_tuple\n",
      "    #allele_calls = line[sample_col].split(\":\")[0].split(line[phase_col])\n",
      "    alleles = [line['REF']]\n",
      "    alleles.extend(line['ALT'].split(\",\"))\n",
      "    a1 = \".\"\n",
      "    try:\n",
      "        a1 = alleles[int(allele_calls[allele_num])]\n",
      "    except:\n",
      "        a1 = \".\"\n",
      "    return a1\n"
     ],
     "language": "python",
     "metadata": {},
     "outputs": [],
     "prompt_number": 3
    },
    {
     "cell_type": "code",
     "collapsed": false,
     "input": [
      "def vartype(line, allele_base_col):\n",
      "    '''\n",
      "    This function assigns the following vartypes to the \n",
      "    allele specified by allele_base_col: snp, mnp, ins, del, indel or SV\n",
      "    \n",
      "    '''\n",
      "    ref = line['REF']\n",
      "    alt = line[allele_base_col]\n",
      "    if ref == alt: return 'ref' #Orderd by frequency of the variant to reduce complexity\n",
      "    if is_snp(ref,alt): return 'snp' \n",
      "    \n",
      "    if len(ref) > len(alt):\n",
      "        base_diff = [nt for i,nt in enumerate(alt) if ref[i] != alt[i]]\n",
      "        if is_indel(ref,alt,base_diff): return 'indel'\n",
      "        elif is_del(ref,alt): return 'del'\n",
      "        \n",
      "    if len(alt) > len(ref):\n",
      "        base_diff = [nt for i,nt in enumerate(ref) if ref[i] != alt[i]]\n",
      "        if is_insertion(ref,alt): return 'ins'\n",
      "    \n",
      "    elif is_sv(ref,alt): return 'sv'\n",
      "    elif is_mnp(ref,alt): return 'mnp'\n",
      "    \n",
      "    else: return 'indel or SV'\n",
      "\n",
      "    \n",
      "def is_snp(ref,alt):\n",
      "    \"\"\" Return whether or not the variant is a SNP \"\"\"\n",
      "    if len(ref) != len(alt): return False\n",
      "    base_diff = [nt for i,nt in enumerate(ref) if ref[i] != alt[i]]\n",
      "    if len(base_diff) <=1:\n",
      "            return True\n",
      "    return False\n",
      "\n",
      "def is_indel(ref,alt,base_diff):\n",
      "    if len(base_diff) <0:\n",
      "        return False\n",
      "    if len(ref) > len(alt):\n",
      "        return True\n",
      "\n",
      "def is_insertion(ref,alt):\n",
      "    if len(ref) < len(alt):\n",
      "        return True\n",
      "    return False\n",
      "    \n",
      "def is_del(ref,alt):\n",
      "    if len(ref) > len(alt):\n",
      "        return True\n",
      "    return False\n",
      "\n",
      "def is_sv(ref,alt):\n",
      "    if \"[\" in alt or \"]\" in alt:\n",
      "        return True\n",
      "    return False\n",
      "\n",
      "def is_mnp(ref,alt):\n",
      "    \"\"\" Return whether or not the variant is an MNP\"\"\"\n",
      "    base_diff = [nt for i,nt in enumerate(alt) if ref[i] != alt[i]]\n",
      "    if len(ref) > 1 and len(ref) == len(alt) and base_diff >0:\n",
      "        return True\n",
      "    return False\n",
      "\n",
      "\n",
      "    \n",
      "\n"
     ],
     "language": "python",
     "metadata": {},
     "outputs": [],
     "prompt_number": 4
    },
    {
     "cell_type": "code",
     "collapsed": false,
     "input": [
      "def zygosity(line):\n",
      "    allele_set = set([line['a1'], line['a2'], line['REF']])\n",
      "        \n",
      "    if len(allele_set) == 1:\n",
      "        return 'hom-ref'\n",
      "    if len(allele_set) ==2 and line['a1'] == line['a2']:\n",
      "        if \".\" in allele_set:\n",
      "            return 'hom-miss'\n",
      "        return 'hom-alt'\n",
      "    if len(allele_set) == 2 and line['a1'] != line['a2']:\n",
      "        if \".\" in allele_set:\n",
      "            return 'het-miss'\n",
      "        return 'het-ref'\n",
      "    if len(allele_set) ==3:\n",
      "        if \".\" in allele_set:\n",
      "            return 'het-miss'\n",
      "        return 'het-alt'\n",
      "    assert False"
     ],
     "language": "python",
     "metadata": {},
     "outputs": [],
     "prompt_number": 5
    },
    {
     "cell_type": "code",
     "collapsed": false,
     "input": [
      "def preprocess_vcf_line(df):\n",
      "    '''\n",
      "    This function annotates vcf variants with\n",
      "    phase, allele1 base call, allele2 base call, \n",
      "    multiallele, vartype\n",
      "    '''\n",
      "    \n",
      "    discard_vars = ['<INS:ME:ALU>', '<INS:ME:L1>','<CGA_CNVWIN>','<INS:ME:SVA>']  #ignore CNVs and repeats\n",
      "    df = df[~df.ALT.isin(discard_vars)] \n",
      "\n",
      "    \n",
      "    df['phase'] = df['GT'].str[1]#df.apply(get_phase, args=['GT'], axis=1)  #get phase\n",
      "    df = df[df.phase != \"-\"]  #likley occurs at sex chromosome sites\n",
      "    df['a1'] = df.apply(get_allele, args=['GT','phase', 0], axis=1)  #get allele1 base seq\n",
      "    df['a2'] = df.apply(get_allele, args=['GT','phase', 1], axis=1)  #get allele2 base seq\n",
      "    df['multiallele'] = df.ALT.map(lambda x: 1 if \",\" in x else 0)  #1 is more than 1 alt allele, 0 else\n",
      "    df['zygosity'] = df.apply(zygosity, axis=1)  #get zygosity: hom-ref, het-ref, hom-alt, het-alt\n",
      "    df['vartype1'] = df.apply(vartype, args=['a1'], axis=1)  #vartype for allele1: snp, mnp, insertion, deletion, sv\n",
      "    df['vartype2'] = df.apply(vartype, args=['a2'], axis=1)  #vartype for allele2: snp, mnp, insertion, deletion, sv\n",
      "    \n",
      "    df = df[(df.vartype1 != 'sv') & (df.vartype2 != 'sv')]  #ignore structural variants\n",
      "    return df"
     ],
     "language": "python",
     "metadata": {},
     "outputs": [],
     "prompt_number": 6
    },
    {
     "cell_type": "code",
     "collapsed": false,
     "input": [
      "def get_allele_bases(file_path, vcfgenotypes_path):\n",
      "    data = !/Users/ers_vader/Tools/vcflib/bin/vcfgenotypes $file_path\n",
      "    data = [i.split(\"\\t\") for i in data]\n",
      "    df = pd.DataFrame.from_records(data)\n",
      "    df.columns = ['CHROM', 'POS', 'REF', 'ALTbase','ALT', 'GTs', 'NULL']\n",
      "    df.dropna(how='any',inplace=True)\n",
      "    a1_a2 = df['GTs'].map(lambda x: \".\" if x==None else x.split(\":\")[1].split(\"/\"))\n",
      "    a1_a2_df = pd.DataFrame.from_records(a1_a2.tolist())\n",
      "    \n",
      "    a1_a2_df.columns = ['a1','a2']\n",
      "    a1_a2_df.index = df.index\n",
      "    df = df.join(a1_a2_df)\n",
      "    df.set_index(['CHROM', 'POS', 'REF', 'ALT'], inplace=True, drop=False)\n",
      "    df = df[['CHROM', 'POS', 'REF', 'ALT','a1', 'a2']]\n",
      "    df['zygosity'] = df.apply(zygosity, axis=1)  #get zygosity: hom-ref, het-ref, hom-alt, het-alt\n",
      "    df['vartype1'] = df.apply(vartype, args=['a1'], axis=1)  #vartype for allele1: snp, mnp, insertion, deletion, sv\n",
      "    df['vartype2'] = df.apply(vartype, args=['a2'], axis=1)  #vartype for allele2: snp, mnp, insertion, deletion, sv\n",
      "    return df\n",
      "    "
     ],
     "language": "python",
     "metadata": {},
     "outputs": [],
     "prompt_number": 7
    },
    {
     "cell_type": "code",
     "collapsed": false,
     "input": [
      "test = get_allele_bases(testing_vcf, '/Users/ers_vader/Tools/vcflib/bin/vcfgenotypes')\n"
     ],
     "language": "python",
     "metadata": {},
     "outputs": [],
     "prompt_number": 9
    },
    {
     "cell_type": "code",
     "collapsed": false,
     "input": [
      "test['vartype1_2'] = [\"_\".join(i) for i in map(set, test[['vartype1','vartype2']].values)]              \n",
      "\n"
     ],
     "language": "python",
     "metadata": {},
     "outputs": [],
     "prompt_number": 10
    },
    {
     "cell_type": "heading",
     "level": 3,
     "metadata": {},
     "source": [
      "This Yields Genotype Counts"
     ]
    },
    {
     "cell_type": "code",
     "collapsed": false,
     "input": [
      "test_groups = test.groupby('zygosity')['vartype1_2'].value_counts()\n",
      "idx = pd.IndexSlice\n",
      "test_groups.index.set_names(['zygosity','vartype1_2'], inplace=True)\n",
      "test_groups.sortlevel(level=['zygosity','vartype1_2'])\n",
      "test_groups.loc[idx[:,:]]"
     ],
     "language": "python",
     "metadata": {},
     "outputs": [
      {
       "metadata": {},
       "output_type": "pyout",
       "prompt_number": 11,
       "text": [
        "zygosity  vartype1_2\n",
        "het-alt   ins             32\n",
        "          indel           24\n",
        "          indel_ins       22\n",
        "          snp_ins         11\n",
        "          snp             11\n",
        "          indel_snp       11\n",
        "          mnp_snp          9\n",
        "          mnp_ins          3\n",
        "          mnp_indel        2\n",
        "het-ref   ref_snp       5668\n",
        "          ref_ins        373\n",
        "          ref_indel      367\n",
        "          mnp_ref         70\n",
        "hom-alt   snp           2075\n",
        "          ins            118\n",
        "          indel          110\n",
        "          mnp             15\n",
        "dtype: int64"
       ]
      }
     ],
     "prompt_number": 11
    },
    {
     "cell_type": "heading",
     "level": 2,
     "metadata": {},
     "source": [
      "This Yields Sum of Allele Counts"
     ]
    },
    {
     "cell_type": "code",
     "collapsed": false,
     "input": [
      "\n",
      "test_groups1 = test.groupby('zygosity')['vartype1'].value_counts()\n",
      "test_groups2 = test.groupby('zygosity')['vartype2'].value_counts()"
     ],
     "language": "python",
     "metadata": {},
     "outputs": [],
     "prompt_number": 12
    },
    {
     "cell_type": "code",
     "collapsed": false,
     "input": [
      "test_groups1_2 = test_groups1 + test_groups2"
     ],
     "language": "python",
     "metadata": {},
     "outputs": [],
     "prompt_number": 13
    },
    {
     "cell_type": "code",
     "collapsed": false,
     "input": [
      "test_groups1\n"
     ],
     "language": "python",
     "metadata": {},
     "outputs": [
      {
       "metadata": {},
       "output_type": "pyout",
       "prompt_number": 14,
       "text": [
        "zygosity       \n",
        "het-alt   ins        56\n",
        "          indel      40\n",
        "          snp        24\n",
        "          mnp         5\n",
        "het-ref   ref      3236\n",
        "          snp      2827\n",
        "          indel     196\n",
        "          ins       181\n",
        "          mnp        38\n",
        "hom-alt   snp      2075\n",
        "          ins       118\n",
        "          indel     110\n",
        "          mnp        15\n",
        "dtype: int64"
       ]
      }
     ],
     "prompt_number": 14
    },
    {
     "cell_type": "code",
     "collapsed": false,
     "input": [
      "test_groups2['hom-alt']"
     ],
     "language": "python",
     "metadata": {},
     "outputs": [
      {
       "metadata": {},
       "output_type": "pyout",
       "prompt_number": 15,
       "text": [
        "snp      2075\n",
        "ins       118\n",
        "indel     110\n",
        "mnp        15\n",
        "dtype: int64"
       ]
      }
     ],
     "prompt_number": 15
    },
    {
     "cell_type": "code",
     "collapsed": false,
     "input": [
      "test_groups1_2.unstack().sum()"
     ],
     "language": "python",
     "metadata": {},
     "outputs": [
      {
       "metadata": {},
       "output_type": "pyout",
       "prompt_number": 16,
       "text": [
        "indel     670\n",
        "ins       709\n",
        "mnp       114\n",
        "ref      6478\n",
        "snp      9871\n",
        "dtype: float64"
       ]
      }
     ],
     "prompt_number": 16
    },
    {
     "cell_type": "code",
     "collapsed": false,
     "input": [
      "\n",
      "matplotlib.rcParams.update({'font.size': 16})\n",
      "rcParams['figure.figsize']=(10,5)\n",
      "test_groups1_2.plot(kind='bar')"
     ],
     "language": "python",
     "metadata": {},
     "outputs": [
      {
       "metadata": {},
       "output_type": "pyout",
       "prompt_number": 17,
       "text": [
        "<matplotlib.axes.AxesSubplot at 0x116c184d0>"
       ]
      },
      {
       "metadata": {},
       "output_type": "display_data",
       "png": "[encoded data removed]",
       "text": [
        "<matplotlib.figure.Figure at 0x116c18510>"
       ]
      }
     ],
     "prompt_number": 17
    },
    {
     "cell_type": "code",
     "collapsed": false,
     "input": [
      "#GENOTYPE VALUES WITHOUT THE SET LOGIC\n",
      "test_groups.plot(kind='bar',log=True)"
     ],
     "language": "python",
     "metadata": {},
     "outputs": [
      {
       "metadata": {},
       "output_type": "pyout",
       "prompt_number": 18,
       "text": [
        "<matplotlib.axes.AxesSubplot at 0x117c17fd0>"
       ]
      },
      {
       "metadata": {},
       "output_type": "display_data",
       "png": "[encoded data removed]",
       "text": [
        "<matplotlib.figure.Figure at 0x117c20f10>"
       ]
      }
     ],
     "prompt_number": 18
    },
    {
     "cell_type": "heading",
     "level": 1,
     "metadata": {},
     "source": [
      "Data"
     ]
    },
    {
     "cell_type": "code",
     "collapsed": false,
     "input": [
      "\n",
      "testing_vcf = '/Users/ers_vader/git_data/cg_classifier/RTG/NA12878/testing.vcf.gz'\n",
      "rtg_nist_vcf = '/Users/ers_vader/git_data/cg_classifier/RTG/NA12878/phasing_annotated_NA12878_PHRdropped_NISThighconfid.vcf.gz'\n",
      "rtg_nist_tsv = '/Users/ers_vader/git_data/cg_classifier/RTG/NA12878/phasing_annotated_NA12878_PHRdropped_NISThighconfid.tsv.gz'"
     ],
     "language": "python",
     "metadata": {},
     "outputs": [],
     "prompt_number": 8
    },
    {
     "cell_type": "code",
     "collapsed": false,
     "input": [
      "!tabix -f -p vcf $rtg_nist"
     ],
     "language": "python",
     "metadata": {},
     "outputs": [],
     "prompt_number": 59
    },
    {
     "cell_type": "code",
     "collapsed": false,
     "input": [
      "rtg_nist_df = pd.read_table(rtg_nist, sep=\"\\t\",compression='gzip')\n"
     ],
     "language": "python",
     "metadata": {},
     "outputs": [],
     "prompt_number": 48
    },
    {
     "cell_type": "code",
     "collapsed": false,
     "input": [
      "rtg_nist_df['phase'] = rtg_nist_df['GT'].str[1]\n"
     ],
     "language": "python",
     "metadata": {},
     "outputs": [],
     "prompt_number": 19
    },
    {
     "cell_type": "code",
     "collapsed": false,
     "input": [
      "rtg_nist_df['GT_1'] = rtg_nist_df['GT'].str[0]\n",
      "rtg_nist_df['GT_2'] = rtg_nist_df['GT'].str[2]"
     ],
     "language": "python",
     "metadata": {},
     "outputs": [],
     "prompt_number": 29
    },
    {
     "cell_type": "code",
     "collapsed": false,
     "input": [
      "ref_alleles = rtg_nist_df.REF.str.split(',')\n",
      "alt_alleles = rtg_nist_df.ALT.str.split(\",\")\n"
     ],
     "language": "python",
     "metadata": {},
     "outputs": [],
     "prompt_number": 36
    },
    {
     "cell_type": "code",
     "collapsed": false,
     "input": [],
     "language": "python",
     "metadata": {},
     "outputs": []
    }
   ],
   "metadata": {}
  }
 ]
}