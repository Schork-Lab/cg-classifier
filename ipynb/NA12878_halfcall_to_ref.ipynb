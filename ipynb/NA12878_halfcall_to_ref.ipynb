{
 "metadata": {
  "name": ""
 },
 "nbformat": 3,
 "nbformat_minor": 0,
 "worksheets": [
  {
   "cells": [
    {
     "cell_type": "heading",
     "level": 1,
     "metadata": {},
     "source": [
      "Libraries"
     ]
    },
    {
     "cell_type": "code",
     "collapsed": false,
     "input": [
      "import pandas as pd\n",
      "import seaborn\n",
      "seaborn.set_context('poster')"
     ],
     "language": "python",
     "metadata": {},
     "outputs": [],
     "prompt_number": 1
    },
    {
     "cell_type": "heading",
     "level": 1,
     "metadata": {},
     "source": [
      "Data"
     ]
    },
    {
     "cell_type": "code",
     "collapsed": false,
     "input": [
      "na12878 = '/Users/ers_vader/git_data/cg_classifier/NA12878/vcfBeta-NA12878.vcf.gz'\n",
      "header = !tabix -H $na12878\n",
      "vcf = pd.read_table(na12878, sep=\"\\t\", compression='gzip',skiprows=(len(header)-1))\n"
     ],
     "language": "python",
     "metadata": {},
     "outputs": [
      {
       "output_type": "stream",
       "stream": "stderr",
       "text": [
        "//anaconda/lib/python2.7/site-packages/pandas/io/parsers.py:1139: DtypeWarning: Columns (0) have mixed types. Specify dtype option on import or set low_memory=False.\n",
        "  data = self._reader.read(nrows)\n"
       ]
      }
     ],
     "prompt_number": 2
    },
    {
     "cell_type": "heading",
     "level": 1,
     "metadata": {},
     "source": [
      "Functions"
     ]
    },
    {
     "cell_type": "code",
     "collapsed": false,
     "input": [
      "def get_autosome_vars(df):\n",
      "    autosome_chroms = map(str,range(1,23))\n",
      "    df = df[df['#CHROM'].astype(str).isin(autosome_chroms)]\n",
      "    return df"
     ],
     "language": "python",
     "metadata": {},
     "outputs": [],
     "prompt_number": 3
    },
    {
     "cell_type": "code",
     "collapsed": false,
     "input": [
      "vcf_autosomes = get_autosome_vars(vcf)\n",
      "vcf_autosomes['#CHROM'].value_counts()"
     ],
     "language": "python",
     "metadata": {},
     "outputs": [
      {
       "metadata": {},
       "output_type": "pyout",
       "prompt_number": 4,
       "text": [
        "2     772616\n",
        "1     754516\n",
        "4     683335\n",
        "3     626073\n",
        "5     592626\n",
        "6     569732\n",
        "7     537748\n",
        "8     483600\n",
        "9     481416\n",
        "10    451610\n",
        "11    446906\n",
        "12    426694\n",
        "13    335699\n",
        "14    295438\n",
        "16    285137\n",
        "15    274776\n",
        "18    251527\n",
        "17    249010\n",
        "19    209548\n",
        "20    186249\n",
        "21    145013\n",
        "22    115771\n",
        "22     16680\n",
        "dtype: int64"
       ]
      }
     ],
     "prompt_number": 4
    },
    {
     "cell_type": "heading",
     "level": 1,
     "metadata": {},
     "source": [
      "Munging"
     ]
    },
    {
     "cell_type": "code",
     "collapsed": false,
     "input": [
      "vcf_autosomes['GT'] = vcf_autosomes['NA12878'].map(lambda x: x.split(\":\")[0])"
     ],
     "language": "python",
     "metadata": {},
     "outputs": [],
     "prompt_number": 5
    },
    {
     "cell_type": "code",
     "collapsed": false,
     "input": [
      "vcf_autosomes['GT'].value_counts()"
     ],
     "language": "python",
     "metadata": {},
     "outputs": [
      {
       "metadata": {},
       "output_type": "pyout",
       "prompt_number": 6,
       "text": [
        "./.    3779286\n",
        "1/0    1492674\n",
        "1/1    1403368\n",
        ".      1346923\n",
        "1|0     719623\n",
        "0|1      99722\n",
        "0|.      87247\n",
        "1/.      82764\n",
        "1|.      56620\n",
        "0/.      36694\n",
        "1|1      30925\n",
        ".|0      14549\n",
        "1        13161\n",
        "1/2      12461\n",
        "1|2       5566\n",
        ".|.       5091\n",
        ".|1       5035\n",
        "0/1         11\n",
        "dtype: int64"
       ]
      }
     ],
     "prompt_number": 6
    },
    {
     "cell_type": "code",
     "collapsed": false,
     "input": [
      "\n",
      "half_calls = ['0/.', './0', '0|.', '.|0', '1/.', './1', '1|.', '.|1']\n",
      "vcf_autosomes_half = vcf_autosomes[vcf_autosomes['GT'].isin(half_calls)]\n"
     ],
     "language": "python",
     "metadata": {},
     "outputs": [],
     "prompt_number": 7
    },
    {
     "cell_type": "code",
     "collapsed": false,
     "input": [
      "vcf_autosomes_half.info()"
     ],
     "language": "python",
     "metadata": {},
     "outputs": [
      {
       "output_type": "stream",
       "stream": "stdout",
       "text": [
        "<class 'pandas.core.frame.DataFrame'>\n",
        "Int64Index: 282909 entries, 465 to 9191412\n",
        "Data columns (total 11 columns):\n",
        "#CHROM     282909 non-null object\n",
        "POS        282909 non-null int64\n",
        "ID         282909 non-null object\n",
        "REF        282909 non-null object\n",
        "ALT        282909 non-null object\n",
        "QUAL       282909 non-null object\n",
        "FILTER     282909 non-null object\n",
        "INFO       282909 non-null object\n",
        "FORMAT     282909 non-null object\n",
        "NA12878    282909 non-null object\n",
        "GT         282909 non-null object\n",
        "dtypes: int64(1), object(10)"
       ]
      }
     ],
     "prompt_number": 12
    },
    {
     "cell_type": "code",
     "collapsed": false,
     "input": [
      "vcf_autosomes_half['#CHROM'].value_counts().plot(kind='bar')"
     ],
     "language": "python",
     "metadata": {},
     "outputs": [
      {
       "metadata": {},
       "output_type": "pyout",
       "prompt_number": 11,
       "text": [
        "<matplotlib.axes.AxesSubplot at 0x14d7a6510>"
       ]
      },
      {
       "metadata": {},
       "output_type": "display_data",
       "png": "[encoded data removed]",
       "text": [
        "<matplotlib.figure.Figure at 0x14d7ae6d0>"
       ]
      }
     ],
     "prompt_number": 11
    },
    {
     "cell_type": "code",
     "collapsed": false,
     "input": [
      "vcf_autosomes_half.GT.value_counts().plot(kind='bar')"
     ],
     "language": "python",
     "metadata": {},
     "outputs": [
      {
       "metadata": {},
       "output_type": "pyout",
       "prompt_number": 18,
       "text": [
        "<matplotlib.axes.AxesSubplot at 0x118667510>"
       ]
      },
      {
       "metadata": {},
       "output_type": "display_data",
       "png": "[encoded data removed]",
       "text": [
        "<matplotlib.figure.Figure at 0x11866bc50>"
       ]
      }
     ],
     "prompt_number": 18
    },
    {
     "cell_type": "code",
     "collapsed": false,
     "input": [
      "def imputed_ref_GT(half_GT):\n",
      "    '''\n",
      "    This function imputes a reference call\n",
      "    at the missing half-call site\n",
      "    '''\n",
      "    half_GT = half_GT.split(\":\")\n",
      "    half_GT[0] = half_GT[0].replace(\".\", \"0\")\n",
      "    return \":\".join(half_GT)\n"
     ],
     "language": "python",
     "metadata": {},
     "outputs": [],
     "prompt_number": 23
    },
    {
     "cell_type": "code",
     "collapsed": false,
     "input": [
      "def imputed_alt_GT(half_GT):\n",
      "    '''\n",
      "    This function imputes a reference call\n",
      "    at the missing half-call site\n",
      "    '''\n",
      "    half_GT = half_GT.split(\":\")\n",
      "    if \"0\" in half_GT[0]:\n",
      "        half_GT[0] = half_GT[0].replace(\".\", \"0\")\n",
      "        return \":\".join(half_GT)\n",
      "    half_GT[0] = half_GT[0].replace(\".\", \"1\")\n",
      "    return \":\".join(half_GT)"
     ],
     "language": "python",
     "metadata": {},
     "outputs": [],
     "prompt_number": 27
    },
    {
     "cell_type": "code",
     "collapsed": false,
     "input": [
      "vcf_autosomes_half['ref_GT'] =  vcf_autosomes_half['NA12878'].map(imputed_ref_GT)\n"
     ],
     "language": "python",
     "metadata": {},
     "outputs": [],
     "prompt_number": 24
    },
    {
     "cell_type": "code",
     "collapsed": false,
     "input": [
      "vcf_autosomes_half['alt_GT'] =  vcf_autosomes_half['NA12878'].map(imputed_alt_GT)"
     ],
     "language": "python",
     "metadata": {},
     "outputs": [],
     "prompt_number": 28
    },
    {
     "cell_type": "code",
     "collapsed": false,
     "input": [
      "vcf_autosomes_half['alt_GT'].value_counts()"
     ],
     "language": "python",
     "metadata": {},
     "outputs": [
      {
       "metadata": {},
       "output_type": "pyout",
       "prompt_number": 29,
       "text": [
        "0/0:.:VQLOW:20,.:0,.:0,.:0:0     431\n",
        "0/0:.:VQLOW:21,.:0,.:0,.:0:0     351\n",
        "0/0:.:VQLOW:22,.:0,.:0,.:0:0     321\n",
        "0/0:.:VQLOW:23,.:0,.:0,.:0:0     291\n",
        "0/0:.:VQLOW:25,.:0,.:0,.:0:0     255\n",
        "0/0:.:VQLOW:24,.:0,.:0,.:0:0     252\n",
        "0/0:.:VQLOW:26,.:0,.:0,.:0:0     218\n",
        "0/0:.:VQLOW:27,.:0,.:0,.:0:0     201\n",
        "0/0:.:VQLOW:28,.:0,.:0,.:0:0     153\n",
        "0/0:.:VQLOW:29,.:0,.:0,.:0:0     139\n",
        "0/0:.:VQLOW:31,.:0,.:0,.:0:0     134\n",
        "0/0:.:VQLOW:30,.:0,.:0,.:0:0     134\n",
        "0/0:.:VQLOW:33,.:0,.:0,.:0:0      98\n",
        "0/0:.:VQLOW:30,.:30,.:0,.:0:0     95\n",
        "0/0:.:VQLOW:34,.:34,.:0,.:0:0     94\n",
        "...\n",
        "0|0:29664959:PASS:56,.:0,.:0,.:0:0                              1\n",
        "1/1:.:PASS:85,.:85,.:31,.:-85,0,0:-31,0,0:16:14,.:2             1\n",
        "1/1:.:PASS:180,.:161,.:36,.:-180,0,0:-36,0,0:38:15,.:4          1\n",
        "1/1:.:PASS:170,.:169,.:40,.:-170,0,0:-40,0,0:36:19,.:17         1\n",
        "0|0:20140001:PASS:489,.:434,.:0,.:0:0                           1\n",
        "0|0:88292111:VQLOW:.,36:.,38:.,0:0:0                            1\n",
        "1|1:77271011:PASS:128,.:113,.:38,.:-128,0,0:-38,0,0:21:17,.:4    1\n",
        "1/1:.:PASS:127,.:127,.:21,.:-127,0,0:-21,0,0:41:17,.:24         1\n",
        "1/1:.:PASS:96,.:96,.:29,.:-96,0,0:-29,0,0:13:13,.:0             1\n",
        "0|0:95434564:PASS:86,.:71,.:0,.:0:0                             1\n",
        "0|0:92277509:PASS:.,62:.,58:.,0:0:0                             1\n",
        "1/1:.:PASS:101,.:96,.:29,.:-101,0,0:-29,0,0:14:10,.:4           1\n",
        "1|1:50100222:PASS:607,.:581,.:50,.:-607,0,0:-50,0,0:43:20,.:0    1\n",
        "1/1:.:PASS:82,.:72,.:28,.:-82,0,0:-28,0,0:19:9,.:2              1\n",
        "1/1:.:PASS:149,.:186,.:49,.:-149,0,0:-49,0,0:26:13,.:1          1\n",
        "Length: 235085, dtype: int64"
       ]
      }
     ],
     "prompt_number": 29
    },
    {
     "cell_type": "code",
     "collapsed": false,
     "input": [
      "ref_gt_vcf_write_cols = vcf_autosomes_half.columns[:10]\n",
      "vcf_autosomes_half['NA12878'] = vcf_autosomes_half['ref_GT']\n",
      "\n",
      "ref_outfile = '/Users/ers_vader/git_data/cg_classifier/NA12878/vcfBeta-NA12878_half_calls_to_ref.vcf'\n",
      "!tabix -H /Users/ers_vader/git_data/cg_classifier/NA12878/vcfBeta-NA12878.vcf.gz > $ref_outfile\n",
      "vcf_autosomes_half[ref_gt_vcf_write_cols].to_csv(ref_outfile, sep=\"\\t\", header=False, index=False, mode='a')      \n",
      "\n"
     ],
     "language": "python",
     "metadata": {},
     "outputs": [],
     "prompt_number": 40
    },
    {
     "cell_type": "code",
     "collapsed": false,
     "input": [
      "vcf_autosomes_half.tail()"
     ],
     "language": "python",
     "metadata": {},
     "outputs": [
      {
       "html": [
        "<div style=\"max-height:1000px;max-width:1500px;overflow:auto;\">\n",
        "<table border=\"1\" class=\"dataframe\">\n",
        "  <thead>\n",
        "    <tr style=\"text-align: right;\">\n",
        "      <th></th>\n",
        "      <th>#CHROM</th>\n",
        "      <th>POS</th>\n",
        "      <th>ID</th>\n",
        "      <th>REF</th>\n",
        "      <th>ALT</th>\n",
        "      <th>QUAL</th>\n",
        "      <th>FILTER</th>\n",
        "      <th>INFO</th>\n",
        "      <th>FORMAT</th>\n",
        "      <th>NA12878</th>\n",
        "      <th>GT</th>\n",
        "      <th>ref_GT</th>\n",
        "      <th>alt_GT</th>\n",
        "    </tr>\n",
        "  </thead>\n",
        "  <tbody>\n",
        "    <tr>\n",
        "      <th>9191227</th>\n",
        "      <td> 22</td>\n",
        "      <td> 51185741</td>\n",
        "      <td> .</td>\n",
        "      <td> CTAAGC</td>\n",
        "      <td> CATTGTCTA</td>\n",
        "      <td> .</td>\n",
        "      <td> .</td>\n",
        "      <td>                          NS=1;AN=1;AC=1;CGA_SDO=1</td>\n",
        "      <td> GT:PS:FT:HQ:EHQ:CGA_CEHQ:GL:CGA_CEGL:DP:AD:CGA...</td>\n",
        "      <td> 1/1:.:PASS:136,.:129,.:18,.:-136,0,0:-18,0,0:3...</td>\n",
        "      <td> 1/.</td>\n",
        "      <td> 1/0:.:PASS:136,.:129,.:18,.:-136,0,0:-18,0,0:3...</td>\n",
        "      <td> 1/1:.:PASS:136,.:129,.:18,.:-136,0,0:-18,0,0:3...</td>\n",
        "    </tr>\n",
        "    <tr>\n",
        "      <th>9191229</th>\n",
        "      <td> 22</td>\n",
        "      <td> 51185949</td>\n",
        "      <td> .</td>\n",
        "      <td>      G</td>\n",
        "      <td>         .</td>\n",
        "      <td> .</td>\n",
        "      <td> .</td>\n",
        "      <td>                                         NS=1;AN=1</td>\n",
        "      <td>              GT:PS:FT:HQ:EHQ:CGA_CEHQ:GL:CGA_CEGL</td>\n",
        "      <td>                      0/0:.:VQLOW:37,.:0,.:0,.:0:0</td>\n",
        "      <td> 0/.</td>\n",
        "      <td>                      0/0:.:VQLOW:37,.:0,.:0,.:0:0</td>\n",
        "      <td>                      0/0:.:VQLOW:37,.:0,.:0,.:0:0</td>\n",
        "    </tr>\n",
        "    <tr>\n",
        "      <th>9191330</th>\n",
        "      <td> 22</td>\n",
        "      <td> 51196513</td>\n",
        "      <td> .</td>\n",
        "      <td>     AT</td>\n",
        "      <td>       ATT</td>\n",
        "      <td> .</td>\n",
        "      <td> .</td>\n",
        "      <td> NS=1;AN=1;AC=1;CGA_XR=dbsnp.129|rs55899402;CGA...</td>\n",
        "      <td> GT:PS:FT:HQ:EHQ:CGA_CEHQ:GL:CGA_CEGL:DP:AD:CGA...</td>\n",
        "      <td> 1/1:.:PASS:66,.:53,.:12,.:-66,0,0:-12,0,0:24:1...</td>\n",
        "      <td> 1/.</td>\n",
        "      <td> 1/0:.:PASS:66,.:53,.:12,.:-66,0,0:-12,0,0:24:1...</td>\n",
        "      <td> 1/1:.:PASS:66,.:53,.:12,.:-66,0,0:-12,0,0:24:1...</td>\n",
        "    </tr>\n",
        "    <tr>\n",
        "      <th>9191338</th>\n",
        "      <td> 22</td>\n",
        "      <td> 51197738</td>\n",
        "      <td> .</td>\n",
        "      <td>      C</td>\n",
        "      <td>         .</td>\n",
        "      <td> .</td>\n",
        "      <td> .</td>\n",
        "      <td>                                         NS=1;AN=1</td>\n",
        "      <td>              GT:PS:FT:HQ:EHQ:CGA_CEHQ:GL:CGA_CEGL</td>\n",
        "      <td>                    0/0:.:PASS:286,.:210,.:0,.:0:0</td>\n",
        "      <td> 0/.</td>\n",
        "      <td>                    0/0:.:PASS:286,.:210,.:0,.:0:0</td>\n",
        "      <td>                    0/0:.:PASS:286,.:210,.:0,.:0:0</td>\n",
        "    </tr>\n",
        "    <tr>\n",
        "      <th>9191412</th>\n",
        "      <td> 22</td>\n",
        "      <td> 51219828</td>\n",
        "      <td> .</td>\n",
        "      <td>    AAG</td>\n",
        "      <td>     AAGAG</td>\n",
        "      <td> .</td>\n",
        "      <td> .</td>\n",
        "      <td> NS=1;AN=1;AC=1;CGA_XR=dbsnp.102|rs3044691;CGA_...</td>\n",
        "      <td> GT:PS:FT:HQ:EHQ:CGA_CEHQ:GL:CGA_CEGL:DP:AD:CGA...</td>\n",
        "      <td> 1/1:.:PASS:59,.:56,.:21,.:-59,0,0:-21,0,0:16:8...</td>\n",
        "      <td> 1/.</td>\n",
        "      <td> 1/0:.:PASS:59,.:56,.:21,.:-59,0,0:-21,0,0:16:8...</td>\n",
        "      <td> 1/1:.:PASS:59,.:56,.:21,.:-59,0,0:-21,0,0:16:8...</td>\n",
        "    </tr>\n",
        "  </tbody>\n",
        "</table>\n",
        "</div>"
       ],
       "metadata": {},
       "output_type": "pyout",
       "prompt_number": 73,
       "text": [
        "        #CHROM       POS ID     REF        ALT QUAL FILTER  \\\n",
        "9191227     22  51185741  .  CTAAGC  CATTGTCTA    .      .   \n",
        "9191229     22  51185949  .       G          .    .      .   \n",
        "9191330     22  51196513  .      AT        ATT    .      .   \n",
        "9191338     22  51197738  .       C          .    .      .   \n",
        "9191412     22  51219828  .     AAG      AAGAG    .      .   \n",
        "\n",
        "                                                      INFO  \\\n",
        "9191227                           NS=1;AN=1;AC=1;CGA_SDO=1   \n",
        "9191229                                          NS=1;AN=1   \n",
        "9191330  NS=1;AN=1;AC=1;CGA_XR=dbsnp.129|rs55899402;CGA...   \n",
        "9191338                                          NS=1;AN=1   \n",
        "9191412  NS=1;AN=1;AC=1;CGA_XR=dbsnp.102|rs3044691;CGA_...   \n",
        "\n",
        "                                                    FORMAT  \\\n",
        "9191227  GT:PS:FT:HQ:EHQ:CGA_CEHQ:GL:CGA_CEGL:DP:AD:CGA...   \n",
        "9191229               GT:PS:FT:HQ:EHQ:CGA_CEHQ:GL:CGA_CEGL   \n",
        "9191330  GT:PS:FT:HQ:EHQ:CGA_CEHQ:GL:CGA_CEGL:DP:AD:CGA...   \n",
        "9191338               GT:PS:FT:HQ:EHQ:CGA_CEHQ:GL:CGA_CEGL   \n",
        "9191412  GT:PS:FT:HQ:EHQ:CGA_CEHQ:GL:CGA_CEGL:DP:AD:CGA...   \n",
        "\n",
        "                                                   NA12878   GT  \\\n",
        "9191227  1/1:.:PASS:136,.:129,.:18,.:-136,0,0:-18,0,0:3...  1/.   \n",
        "9191229                       0/0:.:VQLOW:37,.:0,.:0,.:0:0  0/.   \n",
        "9191330  1/1:.:PASS:66,.:53,.:12,.:-66,0,0:-12,0,0:24:1...  1/.   \n",
        "9191338                     0/0:.:PASS:286,.:210,.:0,.:0:0  0/.   \n",
        "9191412  1/1:.:PASS:59,.:56,.:21,.:-59,0,0:-21,0,0:16:8...  1/.   \n",
        "\n",
        "                                                    ref_GT  \\\n",
        "9191227  1/0:.:PASS:136,.:129,.:18,.:-136,0,0:-18,0,0:3...   \n",
        "9191229                       0/0:.:VQLOW:37,.:0,.:0,.:0:0   \n",
        "9191330  1/0:.:PASS:66,.:53,.:12,.:-66,0,0:-12,0,0:24:1...   \n",
        "9191338                     0/0:.:PASS:286,.:210,.:0,.:0:0   \n",
        "9191412  1/0:.:PASS:59,.:56,.:21,.:-59,0,0:-21,0,0:16:8...   \n",
        "\n",
        "                                                    alt_GT  \n",
        "9191227  1/1:.:PASS:136,.:129,.:18,.:-136,0,0:-18,0,0:3...  \n",
        "9191229                       0/0:.:VQLOW:37,.:0,.:0,.:0:0  \n",
        "9191330  1/1:.:PASS:66,.:53,.:12,.:-66,0,0:-12,0,0:24:1...  \n",
        "9191338                     0/0:.:PASS:286,.:210,.:0,.:0:0  \n",
        "9191412  1/1:.:PASS:59,.:56,.:21,.:-59,0,0:-21,0,0:16:8...  "
       ]
      }
     ],
     "prompt_number": 73
    },
    {
     "cell_type": "code",
     "collapsed": false,
     "input": [
      "def replace_ALT(line, gt_col):\n",
      "    if line['ALT'] == \".\" and line[gt_col] == \"0/0\":\n",
      "        return line['REF']\n",
      "    if line['ALT'] == \".\" and line[gt_col] == \"0|0\":\n",
      "        return line['REF']\n",
      "    return line['ALT']"
     ],
     "language": "python",
     "metadata": {},
     "outputs": [],
     "prompt_number": 83
    },
    {
     "cell_type": "code",
     "collapsed": false,
     "input": [
      "vcf_autosomes_half['ref_impute_GT'] = vcf_autosomes_half['GT'].map(lambda x: x.replace(\".\",\"0\"))"
     ],
     "language": "python",
     "metadata": {},
     "outputs": [],
     "prompt_number": 77
    },
    {
     "cell_type": "code",
     "collapsed": false,
     "input": [
      "vcf_autosomes_half['ALT'] = vcf_autosomes_half.apply(replace_ALT, args=['ref_impute_GT'], axis=1)\n"
     ],
     "language": "python",
     "metadata": {},
     "outputs": [],
     "prompt_number": 85
    },
    {
     "cell_type": "code",
     "collapsed": false,
     "input": [
      "alt_gt_vcf_write_cols = vcf_autosomes_half.columns[:10]\n",
      "vcf_autosomes_half['NA12878'] = vcf_autosomes_half['ref_GT']\n",
      "\n",
      "ref_outfile = '/Users/ers_vader/git_data/cg_classifier/NA12878/vcfBeta-NA12878_half_calls_to_ref.vcf'\n",
      "!tabix -H /Users/ers_vader/git_data/cg_classifier/NA12878/vcfBeta-NA12878.vcf.gz > $ref_outfile\n",
      "vcf_autosomes_half[alt_gt_vcf_write_cols].to_csv(ref_outfile, sep=\"\\t\", header=False, index=False, mode='a')      \n"
     ],
     "language": "python",
     "metadata": {},
     "outputs": [],
     "prompt_number": 87
    },
    {
     "cell_type": "heading",
     "level": 3,
     "metadata": {},
     "source": [
      "Stats for half-calls"
     ]
    },
    {
     "cell_type": "code",
     "collapsed": false,
     "input": [
      "vcf_autosomes_half['GT'].value_counts().plot(kind='bar')"
     ],
     "language": "python",
     "metadata": {},
     "outputs": [
      {
       "metadata": {},
       "output_type": "pyout",
       "prompt_number": 156,
       "text": [
        "<matplotlib.axes.AxesSubplot at 0x1641a7ed0>"
       ]
      },
      {
       "metadata": {},
       "output_type": "display_data",
       "png": "[encoded data removed]",
       "text": [
        "<matplotlib.figure.Figure at 0x176f0c690>"
       ]
      }
     ],
     "prompt_number": 156
    },
    {
     "cell_type": "heading",
     "level": 1,
     "metadata": {},
     "source": [
      "RTG comparison"
     ]
    },
    {
     "cell_type": "code",
     "collapsed": false,
     "input": [
      "#ALREADY DONE, must be in rtg folder\n",
      "\n",
      "# rtg vcfeval -c /Users/ers_vader/git_data/cg_classifier/NA12878/vcfBeta-NA12878_half_calls_to_ref.vcf.gz -b /Users/ers_vader/git_data/cg_classifier/NA12878/NISTIntegratedCalls_14datasets_131103_allcall_UGHapMerge_HetHomVarPASS_VQSRv2.18_vcfcreatemulti.vcf.gz -f QUAL -t hg19 -o /Users/ers_vader/git_data/cg_classifier/NA12878/paper_datasets/CGvsNISThalfcalls/half_calls_to_ref -T 8\n",
      "\n",
      "# rtg vcfeval -c /Users/ers_vader/git_data/cg_classifier/NA12878/vcfBeta-NA12878_half_calls_to_alt.vcf.gz -b /Users/ers_vader/git_data/cg_classifier/NA12878/NISTIntegratedCalls_14datasets_131103_allcall_UGHapMerge_HetHomVarPASS_VQSRv2.18_vcfcreatemulti.vcf.gz -f QUAL -t hg19 -o /Users/ers_vader/git_data/cg_classifier/NA12878/paper_datasets/CGvsNISThalfcalls/half_calls_to_alt -T 8       \n",
      "\n"
     ],
     "language": "python",
     "metadata": {},
     "outputs": []
    },
    {
     "cell_type": "heading",
     "level": 1,
     "metadata": {},
     "source": [
      "Intersection of RTG comparison"
     ]
    },
    {
     "cell_type": "code",
     "collapsed": false,
     "input": [
      "#impute_ref\n",
      "impute_ref_dir = '/Users/ers_vader/git_data/cg_classifier/NA12878/paper_datasets/CGvsNISThalfcalls/half_calls_to_ref/'\n",
      "\n",
      "tp_ref = pd.read_table(impute_ref_dir+'tp.tsv.gz', sep=\"\\t\", compression='gzip')\n",
      "tp_ref.set_index(['CHROM', 'POS', 'REF'], inplace=True, drop=False)\n",
      "\n",
      "fp_ref = pd.read_table(impute_ref_dir+'fp.tsv.gz', sep=\"\\t\", compression='gzip')\n",
      "fp_ref.set_index(['CHROM', 'POS', 'REF'], inplace=True, drop=False)"
     ],
     "language": "python",
     "metadata": {},
     "outputs": [],
     "prompt_number": 150
    },
    {
     "cell_type": "code",
     "collapsed": false,
     "input": [
      "#impute_alt\n",
      "impute_alt_dir = '/Users/ers_vader/git_data/cg_classifier/NA12878/paper_datasets/CGvsNISThalfcalls/half_calls_to_alt/'\n",
      "\n",
      "tp_alt = pd.read_table(impute_alt_dir+'tp.tsv.gz', sep=\"\\t\", compression='gzip')\n",
      "tp_alt.set_index(['CHROM', 'POS', 'REF'], inplace=True, drop=False)\n",
      "\n",
      "\n",
      "fp_alt = pd.read_table(impute_alt_dir+'fp.tsv.gz', sep=\"\\t\", compression='gzip')\n",
      "fp_alt.set_index(['CHROM', 'POS', 'REF'], inplace=True, drop=False)\n"
     ],
     "language": "python",
     "metadata": {},
     "outputs": [],
     "prompt_number": 151
    },
    {
     "cell_type": "code",
     "collapsed": false,
     "input": [
      "#Total half-call variant sites\n",
      "print 'Total number of half-call variant sites in NA12878 CG vcf'\n",
      "!gzcat /Users/ers_vader/git_data/cg_classifier/NA12878/vcfBeta-NA12878_half_calls_to_ref.vcf.gz | wc -l"
     ],
     "language": "python",
     "metadata": {},
     "outputs": [
      {
       "output_type": "stream",
       "stream": "stdout",
       "text": [
        "Total number of half-call variant sites in NA12878 CG vcf\n"
       ]
      },
      {
       "output_type": "stream",
       "stream": "stdout",
       "text": [
        "  283027\r\n"
       ]
      }
     ],
     "prompt_number": 152
    },
    {
     "cell_type": "heading",
     "level": 3,
     "metadata": {},
     "source": [
      "No True positive variants are in both the tp_impute_ref and tp_impute_alt"
     ]
    },
    {
     "cell_type": "code",
     "collapsed": false,
     "input": [
      "\n",
      "\n",
      "tp_vars_intersection_ref_alt_impute =  set(tp_ref.index) & set(tp_alt.index)\n",
      "print len(tp_vars_intersection_ref_alt_impute), \"tp variants (wrt NIST vars) found in tp_ref and tp_alt\"\n",
      "\n",
      "print\n",
      "\n"
     ],
     "language": "python",
     "metadata": {},
     "outputs": [
      {
       "output_type": "stream",
       "stream": "stdout",
       "text": [
        "0 tp variants (wrt NIST vars) found in tp_ref and tp_alt\n",
        "\n"
       ]
      }
     ],
     "prompt_number": 153
    },
    {
     "cell_type": "heading",
     "level": 3,
     "metadata": {},
     "source": [
      "False Positive Variants found in both fp_impute_ref and fp_impute_alt are all heterozygous"
     ]
    },
    {
     "cell_type": "code",
     "collapsed": false,
     "input": [
      "fp_vars_intersection_ref_alt_impute =  set(fp_ref.index) & set(fp_alt.index) \n",
      "print len(fp_vars_intersection_ref_alt_impute), \"fp variants (wrt NIST vars) found in fp_ref and fp_alt\"\n",
      "\n",
      "\n",
      "\n",
      "fp_ref.ix[list(fp_vars_intersection_ref_alt_impute)]['GT'].value_counts()\n"
     ],
     "language": "python",
     "metadata": {},
     "outputs": [
      {
       "output_type": "stream",
       "stream": "stdout",
       "text": [
        "76311 fp variants (wrt NIST vars) found in fp_ref and fp_alt\n"
       ]
      },
      {
       "metadata": {},
       "output_type": "pyout",
       "prompt_number": 154,
       "text": [
        "1/0    49456\n",
        "1|0    24051\n",
        "0|1     2804\n",
        "dtype: int64"
       ]
      }
     ],
     "prompt_number": 154
    },
    {
     "cell_type": "code",
     "collapsed": false,
     "input": [
      "tp_vars_union_ref_alt_impute =  set(tp_ref.index) | set(tp_alt.index)\n",
      "print len(tp_vars_union_ref_alt_impute), 'number of salvaged tp variants in tp_ref and tp_alt'"
     ],
     "language": "python",
     "metadata": {},
     "outputs": [
      {
       "output_type": "stream",
       "stream": "stdout",
       "text": [
        "68108 number of salvaged tp variants in tp_ref and tp_alt\n"
       ]
      }
     ],
     "prompt_number": 141
    },
    {
     "cell_type": "code",
     "collapsed": false,
     "input": [
      "fp_ref = set(fp_ref.index)\n",
      "print len(fp_ref), 'number of fp in fp_ref'\n",
      "fp_alt = set(fp_alt.index)\n",
      "print len(fp_alt), 'number of fp in fp_alt'"
     ],
     "language": "python",
     "metadata": {},
     "outputs": [
      {
       "output_type": "stream",
       "stream": "stdout",
       "text": [
        "129834 number of fp in fp_ref\n",
        "90896 number of fp in fp_alt\n"
       ]
      }
     ],
     "prompt_number": 142
    },
    {
     "cell_type": "code",
     "collapsed": false,
     "input": [],
     "language": "python",
     "metadata": {},
     "outputs": [
      {
       "ename": "AttributeError",
       "evalue": "'set' object has no attribute 'ix'",
       "output_type": "pyerr",
       "traceback": [
        "\u001b[0;31m---------------------------------------------------------------------------\u001b[0m\n\u001b[0;31mAttributeError\u001b[0m                            Traceback (most recent call last)",
        "\u001b[0;32m<ipython-input-148-a02fa66a7c61>\u001b[0m in \u001b[0;36m<module>\u001b[0;34m()\u001b[0m\n\u001b[0;32m----> 1\u001b[0;31m \u001b[0mfp_ref\u001b[0m\u001b[0;34m.\u001b[0m\u001b[0mix\u001b[0m\u001b[0;34m[\u001b[0m\u001b[0mlist\u001b[0m\u001b[0;34m(\u001b[0m\u001b[0mfp_intersection\u001b[0m\u001b[0;34m)\u001b[0m\u001b[0;34m]\u001b[0m\u001b[0;34m[\u001b[0m\u001b[0;34m'GT'\u001b[0m\u001b[0;34m]\u001b[0m\u001b[0;34m.\u001b[0m\u001b[0mvalue_counts\u001b[0m\u001b[0;34m(\u001b[0m\u001b[0;34m)\u001b[0m\u001b[0;34m\u001b[0m\u001b[0m\n\u001b[0m",
        "\u001b[0;31mAttributeError\u001b[0m: 'set' object has no attribute 'ix'"
       ]
      }
     ],
     "prompt_number": 148
    },
    {
     "cell_type": "code",
     "collapsed": false,
     "input": [
      "68108.0 / 283027"
     ],
     "language": "python",
     "metadata": {},
     "outputs": [
      {
       "metadata": {},
       "output_type": "pyout",
       "prompt_number": 109,
       "text": [
        "0.24064135223847902"
       ]
      }
     ],
     "prompt_number": 109
    },
    {
     "cell_type": "code",
     "collapsed": false,
     "input": [
      "tp_ref.GT.value_counts().plot(kind='bar')"
     ],
     "language": "python",
     "metadata": {},
     "outputs": [
      {
       "metadata": {},
       "output_type": "pyout",
       "prompt_number": 136,
       "text": [
        "<matplotlib.axes.AxesSubplot at 0x17cd69ed0>"
       ]
      },
      {
       "metadata": {},
       "output_type": "display_data",
       "png": "[encoded data removed]",
       "text": [
        "<matplotlib.figure.Figure at 0x17dcdde10>"
       ]
      }
     ],
     "prompt_number": 136
    },
    {
     "cell_type": "code",
     "collapsed": false,
     "input": [
      "fp_ref.ix[list(fp_intersection)]['GT'].value_counts()"
     ],
     "language": "python",
     "metadata": {},
     "outputs": [
      {
       "metadata": {},
       "output_type": "pyout",
       "prompt_number": 124,
       "text": [
        "1/0    49456\n",
        "1|0    24051\n",
        "0|1     2804\n",
        "dtype: int64"
       ]
      }
     ],
     "prompt_number": 124
    },
    {
     "cell_type": "code",
     "collapsed": false,
     "input": [
      "fp_alt.ix[list(fp_intersection)]['GT'].value_counts()"
     ],
     "language": "python",
     "metadata": {},
     "outputs": [
      {
       "metadata": {},
       "output_type": "pyout",
       "prompt_number": 126,
       "text": [
        "1/1    49456\n",
        "1|1    26855\n",
        "dtype: int64"
       ]
      }
     ],
     "prompt_number": 126
    },
    {
     "cell_type": "code",
     "collapsed": false,
     "input": [
      "fp_alt.ix[list(fp_intersection)][['GT','REF','ALT']].head(5)"
     ],
     "language": "python",
     "metadata": {},
     "outputs": [
      {
       "html": [
        "<div style=\"max-height:1000px;max-width:1500px;overflow:auto;\">\n",
        "<table border=\"1\" class=\"dataframe\">\n",
        "  <thead>\n",
        "    <tr style=\"text-align: right;\">\n",
        "      <th></th>\n",
        "      <th></th>\n",
        "      <th></th>\n",
        "      <th>GT</th>\n",
        "      <th>REF</th>\n",
        "      <th>ALT</th>\n",
        "    </tr>\n",
        "    <tr>\n",
        "      <th>CHROM</th>\n",
        "      <th>POS</th>\n",
        "      <th>REF</th>\n",
        "      <th></th>\n",
        "      <th></th>\n",
        "      <th></th>\n",
        "    </tr>\n",
        "  </thead>\n",
        "  <tbody>\n",
        "    <tr>\n",
        "      <th>2 </th>\n",
        "      <th>131917599</th>\n",
        "      <th>C</th>\n",
        "      <td> 1/1</td>\n",
        "      <td>                C</td>\n",
        "      <td> CT</td>\n",
        "    </tr>\n",
        "    <tr>\n",
        "      <th>22</th>\n",
        "      <th>32747734 </th>\n",
        "      <th>GC</th>\n",
        "      <td> 1|1</td>\n",
        "      <td>               GC</td>\n",
        "      <td> AG</td>\n",
        "    </tr>\n",
        "    <tr>\n",
        "      <th>10</th>\n",
        "      <th>106096252</th>\n",
        "      <th>TGG</th>\n",
        "      <td> 1|1</td>\n",
        "      <td>              TGG</td>\n",
        "      <td>  T</td>\n",
        "    </tr>\n",
        "    <tr>\n",
        "      <th>9 </th>\n",
        "      <th>125630774</th>\n",
        "      <th>A</th>\n",
        "      <td> 1|1</td>\n",
        "      <td>                A</td>\n",
        "      <td>  C</td>\n",
        "    </tr>\n",
        "    <tr>\n",
        "      <th>16</th>\n",
        "      <th>7385596  </th>\n",
        "      <th>AAAAAAAAAAAAAAAC</th>\n",
        "      <td> 1|1</td>\n",
        "      <td> AAAAAAAAAAAAAAAC</td>\n",
        "      <td>  A</td>\n",
        "    </tr>\n",
        "  </tbody>\n",
        "</table>\n",
        "</div>"
       ],
       "metadata": {},
       "output_type": "pyout",
       "prompt_number": 129,
       "text": [
        "                                   GT               REF ALT\n",
        "CHROM POS       REF                                        \n",
        "2     131917599 C                 1/1                 C  CT\n",
        "22    32747734  GC                1|1                GC  AG\n",
        "10    106096252 TGG               1|1               TGG   T\n",
        "9     125630774 A                 1|1                 A   C\n",
        "16    7385596   AAAAAAAAAAAAAAAC  1|1  AAAAAAAAAAAAAAAC   A"
       ]
      }
     ],
     "prompt_number": 129
    },
    {
     "cell_type": "code",
     "collapsed": false,
     "input": [
      "fp_ref.ix[list(fp_intersection)][['GT','REF','ALT']].head(5)"
     ],
     "language": "python",
     "metadata": {},
     "outputs": [
      {
       "html": [
        "<div style=\"max-height:1000px;max-width:1500px;overflow:auto;\">\n",
        "<table border=\"1\" class=\"dataframe\">\n",
        "  <thead>\n",
        "    <tr style=\"text-align: right;\">\n",
        "      <th></th>\n",
        "      <th></th>\n",
        "      <th></th>\n",
        "      <th>GT</th>\n",
        "      <th>REF</th>\n",
        "      <th>ALT</th>\n",
        "    </tr>\n",
        "    <tr>\n",
        "      <th>CHROM</th>\n",
        "      <th>POS</th>\n",
        "      <th>REF</th>\n",
        "      <th></th>\n",
        "      <th></th>\n",
        "      <th></th>\n",
        "    </tr>\n",
        "  </thead>\n",
        "  <tbody>\n",
        "    <tr>\n",
        "      <th>2 </th>\n",
        "      <th>131917599</th>\n",
        "      <th>C</th>\n",
        "      <td> 1/0</td>\n",
        "      <td>                C</td>\n",
        "      <td> CT</td>\n",
        "    </tr>\n",
        "    <tr>\n",
        "      <th>22</th>\n",
        "      <th>32747734 </th>\n",
        "      <th>GC</th>\n",
        "      <td> 0|1</td>\n",
        "      <td>               GC</td>\n",
        "      <td> AG</td>\n",
        "    </tr>\n",
        "    <tr>\n",
        "      <th>10</th>\n",
        "      <th>106096252</th>\n",
        "      <th>TGG</th>\n",
        "      <td> 1|0</td>\n",
        "      <td>              TGG</td>\n",
        "      <td>  T</td>\n",
        "    </tr>\n",
        "    <tr>\n",
        "      <th>9 </th>\n",
        "      <th>125630774</th>\n",
        "      <th>A</th>\n",
        "      <td> 1|0</td>\n",
        "      <td>                A</td>\n",
        "      <td>  C</td>\n",
        "    </tr>\n",
        "    <tr>\n",
        "      <th>16</th>\n",
        "      <th>7385596  </th>\n",
        "      <th>AAAAAAAAAAAAAAAC</th>\n",
        "      <td> 1|0</td>\n",
        "      <td> AAAAAAAAAAAAAAAC</td>\n",
        "      <td>  A</td>\n",
        "    </tr>\n",
        "  </tbody>\n",
        "</table>\n",
        "</div>"
       ],
       "metadata": {},
       "output_type": "pyout",
       "prompt_number": 130,
       "text": [
        "                                   GT               REF ALT\n",
        "CHROM POS       REF                                        \n",
        "2     131917599 C                 1/0                 C  CT\n",
        "22    32747734  GC                0|1                GC  AG\n",
        "10    106096252 TGG               1|0               TGG   T\n",
        "9     125630774 A                 1|0                 A   C\n",
        "16    7385596   AAAAAAAAAAAAAAAC  1|0  AAAAAAAAAAAAAAAC   A"
       ]
      }
     ],
     "prompt_number": 130
    },
    {
     "cell_type": "code",
     "collapsed": false,
     "input": [],
     "language": "python",
     "metadata": {},
     "outputs": []
    }
   ],
   "metadata": {}
  }
 ]
}