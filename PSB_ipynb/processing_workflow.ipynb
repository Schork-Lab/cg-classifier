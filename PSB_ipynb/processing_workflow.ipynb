{
 "metadata": {
  "name": ""
 },
 "nbformat": 3,
 "nbformat_minor": 0,
 "worksheets": [
  {
   "cells": [
    {
     "cell_type": "code",
     "collapsed": false,
     "input": [
      "import pandas as pd\n",
      "data_dir = '../data'\n",
      "import sys, os\n",
      "src_dir = '../cg-classifier/'\n",
      "sys.path.append(src_dir)\n",
      "import processing.variants\n",
      "reload(processing.variants)"
     ],
     "language": "python",
     "metadata": {},
     "outputs": [
      {
       "metadata": {},
       "output_type": "pyout",
       "prompt_number": 179,
       "text": [
        "<module 'processing.variants' from '../cg-classifier/processing/variants.py'>"
       ]
      }
     ],
     "prompt_number": 179
    },
    {
     "cell_type": "code",
     "collapsed": false,
     "input": [
      "fp_file = os.path.join(data_dir, 'vcfBeta-NA12878_NISThighconfid_100k.vcf.gz')"
     ],
     "language": "python",
     "metadata": {},
     "outputs": [],
     "prompt_number": 180
    },
    {
     "cell_type": "code",
     "collapsed": false,
     "input": [
      "fp = processing.variants.Vcf(fp_file,'NA12878')"
     ],
     "language": "python",
     "metadata": {},
     "outputs": [],
     "prompt_number": 181
    },
    {
     "cell_type": "code",
     "collapsed": false,
     "input": [
      "idx = pd.IndexSlice\n",
      "fp.variants.sortlevel(level=['CHROM','POS','REF','ALT'],inplace=True)\n",
      "fp.variants.loc[idx[1, 31295444,['TAT'],:]]"
     ],
     "language": "python",
     "metadata": {},
     "outputs": [
      {
       "html": [
        "<div style=\"max-height:1000px;max-width:1500px;overflow:auto;\">\n",
        "<table border=\"1\" class=\"dataframe\">\n",
        "  <thead>\n",
        "    <tr style=\"text-align: right;\">\n",
        "      <th></th>\n",
        "      <th></th>\n",
        "      <th></th>\n",
        "      <th></th>\n",
        "      <th>CHROM</th>\n",
        "      <th>POS</th>\n",
        "      <th>ID</th>\n",
        "      <th>REF</th>\n",
        "      <th>ALT</th>\n",
        "      <th>QUAL</th>\n",
        "      <th>FILTER</th>\n",
        "      <th>INFO</th>\n",
        "      <th>FORMAT</th>\n",
        "      <th>NA12878</th>\n",
        "      <th>phase</th>\n",
        "      <th>GT1</th>\n",
        "      <th>GT2</th>\n",
        "      <th>a1</th>\n",
        "      <th>a2</th>\n",
        "      <th>zygosity</th>\n",
        "      <th>vartype1</th>\n",
        "      <th>vartype2</th>\n",
        "      <th>multiallele</th>\n",
        "    </tr>\n",
        "    <tr>\n",
        "      <th>CHROM</th>\n",
        "      <th>POS</th>\n",
        "      <th>REF</th>\n",
        "      <th>ALT</th>\n",
        "      <th></th>\n",
        "      <th></th>\n",
        "      <th></th>\n",
        "      <th></th>\n",
        "      <th></th>\n",
        "      <th></th>\n",
        "      <th></th>\n",
        "      <th></th>\n",
        "      <th></th>\n",
        "      <th></th>\n",
        "      <th></th>\n",
        "      <th></th>\n",
        "      <th></th>\n",
        "      <th></th>\n",
        "      <th></th>\n",
        "      <th></th>\n",
        "      <th></th>\n",
        "      <th></th>\n",
        "      <th></th>\n",
        "    </tr>\n",
        "  </thead>\n",
        "  <tbody>\n",
        "    <tr>\n",
        "      <th>1</th>\n",
        "      <th>31295444</th>\n",
        "      <th>TAT</th>\n",
        "      <th>TT,TA</th>\n",
        "      <td> 1</td>\n",
        "      <td> 31295444</td>\n",
        "      <td> .</td>\n",
        "      <td> TAT</td>\n",
        "      <td> TT,TA</td>\n",
        "      <td> .</td>\n",
        "      <td> .</td>\n",
        "      <td> NS=1;AN=2;AC=1,1;CGA_XR=dbsnp.120|rs12407189&amp;d...</td>\n",
        "      <td> GT:PS:FT:GQ:HQ:EHQ:CGA_CEHQ:GL:CGA_CEGL:DP:AD:...</td>\n",
        "      <td> 1|2:31295444:PASS:118:118,118:118,118:38,38:-1...</td>\n",
        "      <td> |</td>\n",
        "      <td> 1</td>\n",
        "      <td> 2</td>\n",
        "      <td> TT</td>\n",
        "      <td> TA</td>\n",
        "      <td> het-alt</td>\n",
        "      <td> indel</td>\n",
        "      <td> del</td>\n",
        "      <td> 1</td>\n",
        "    </tr>\n",
        "  </tbody>\n",
        "</table>\n",
        "</div>"
       ],
       "metadata": {},
       "output_type": "pyout",
       "prompt_number": 182,
       "text": [
        "                         CHROM       POS ID  REF    ALT QUAL FILTER  \\\n",
        "CHROM POS      REF ALT                                                \n",
        "1     31295444 TAT TT,TA     1  31295444  .  TAT  TT,TA    .      .   \n",
        "\n",
        "                                                                       INFO  \\\n",
        "CHROM POS      REF ALT                                                        \n",
        "1     31295444 TAT TT,TA  NS=1;AN=2;AC=1,1;CGA_XR=dbsnp.120|rs12407189&d...   \n",
        "\n",
        "                                                                     FORMAT  \\\n",
        "CHROM POS      REF ALT                                                        \n",
        "1     31295444 TAT TT,TA  GT:PS:FT:GQ:HQ:EHQ:CGA_CEHQ:GL:CGA_CEGL:DP:AD:...   \n",
        "\n",
        "                                                                    NA12878  \\\n",
        "CHROM POS      REF ALT                                                        \n",
        "1     31295444 TAT TT,TA  1|2:31295444:PASS:118:118,118:118,118:38,38:-1...   \n",
        "\n",
        "                         phase  GT1  GT2  a1  a2 zygosity vartype1 vartype2  \\\n",
        "CHROM POS      REF ALT                                                        \n",
        "1     31295444 TAT TT,TA     |    1    2  TT  TA  het-alt    indel      del   \n",
        "\n",
        "                          multiallele  \n",
        "CHROM POS      REF ALT                 \n",
        "1     31295444 TAT TT,TA            1  "
       ]
      }
     ],
     "prompt_number": 182
    },
    {
     "cell_type": "code",
     "collapsed": false,
     "input": [
      "fp.variants.info()"
     ],
     "language": "python",
     "metadata": {},
     "outputs": [
      {
       "output_type": "stream",
       "stream": "stdout",
       "text": [
        "<class 'pandas.core.frame.DataFrame'>\n",
        "MultiIndex: 11224 entries, (1, 827825, A, G) to (1, 53436632, A, T)\n",
        "Data columns (total 19 columns):\n",
        "CHROM          11224 non-null object\n",
        "POS            11224 non-null int64\n",
        "ID             11224 non-null object\n",
        "REF            11224 non-null object\n",
        "ALT            11224 non-null object\n",
        "QUAL           11224 non-null object\n",
        "FILTER         11224 non-null object\n",
        "INFO           11224 non-null object\n",
        "FORMAT         11224 non-null object\n",
        "NA12878        11224 non-null object\n",
        "phase          11224 non-null object\n",
        "GT1            11224 non-null int64\n",
        "GT2            11224 non-null int64\n",
        "a1             11224 non-null object\n",
        "a2             11224 non-null object\n",
        "zygosity       11224 non-null object\n",
        "vartype1       11224 non-null object\n",
        "vartype2       11224 non-null object\n",
        "multiallele    11224 non-null int64\n",
        "dtypes: int64(4), object(15)"
       ]
      }
     ],
     "prompt_number": 183
    },
    {
     "cell_type": "code",
     "collapsed": false,
     "input": [],
     "language": "python",
     "metadata": {},
     "outputs": []
    }
   ],
   "metadata": {}
  }
 ]
}