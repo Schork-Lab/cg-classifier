{
 "metadata": {
  "name": "",
  "signature": "sha256:ad350fced4a13b5eb83909de3c7a87e3414206cd8334d7727e36e4b1df1ecad3"
 },
 "nbformat": 3,
 "nbformat_minor": 0,
 "worksheets": [
  {
   "cells": [
    {
     "cell_type": "code",
     "collapsed": false,
     "input": [
      "data_dir = '../data'\n",
      "import sys, os\n",
      "src_dir = '../cg-classifier/'\n",
      "sys.path.append(src_dir)\n",
      "import processing.variants, processing.statistics\n",
      "reload(processing.statistics)"
     ],
     "language": "python",
     "metadata": {},
     "outputs": [
      {
       "metadata": {},
       "output_type": "pyout",
       "prompt_number": 7,
       "text": [
        "<module 'processing.statistics' from '../cg-classifier/processing/statistics.py'>"
       ]
      }
     ],
     "prompt_number": 7
    },
    {
     "cell_type": "code",
     "collapsed": false,
     "input": [
      "%load_ext autoreload\n",
      "%autoreload 2"
     ],
     "language": "python",
     "metadata": {},
     "outputs": [
      {
       "output_type": "stream",
       "stream": "stdout",
       "text": [
        "The autoreload extension is already loaded. To reload it, use:\n",
        "  %reload_ext autoreload\n"
       ]
      }
     ],
     "prompt_number": 8
    },
    {
     "cell_type": "code",
     "collapsed": false,
     "input": [
      "example = processing.variants.VcfTsv('../data/fp.20000.tsv.gz')"
     ],
     "language": "python",
     "metadata": {},
     "outputs": [],
     "prompt_number": 21
    },
    {
     "cell_type": "code",
     "collapsed": false,
     "input": [
      "out = open('../data/fakebed.bed','w')\n",
      "out.write('1\\t38200\\t50000\\n')\n",
      "out.close()"
     ],
     "language": "python",
     "metadata": {},
     "outputs": [],
     "prompt_number": 54
    },
    {
     "cell_type": "code",
     "collapsed": false,
     "input": [
      "example.variants.GT.head(6)"
     ],
     "language": "python",
     "metadata": {},
     "outputs": [
      {
       "metadata": {},
       "output_type": "pyout",
       "prompt_number": 72,
       "text": [
        "CHROM  POS    REF  ALT\n",
        "1      38232  A    G      1/1\n",
        "       41981  A    G      1/1\n",
        "       46670  A    G      1/1\n",
        "       47108  G    C      1/1\n",
        "       47292  T    G      1/0\n",
        "       49243  G    A      1/.\n",
        "Name: GT, dtype: object"
       ]
      }
     ],
     "prompt_number": 72
    },
    {
     "cell_type": "code",
     "collapsed": false,
     "input": [
      "exon_file = '../data/fakebed.bed'\n",
      "example_stats = processing.statistics.Statistics(example, exon_file)"
     ],
     "language": "python",
     "metadata": {},
     "outputs": [],
     "prompt_number": 81
    },
    {
     "cell_type": "code",
     "collapsed": false,
     "input": [
      "example_stats.exon_base_changes"
     ],
     "language": "python",
     "metadata": {},
     "outputs": [
      {
       "metadata": {},
       "output_type": "pyout",
       "prompt_number": 82,
       "text": [
        "base_change\n",
        "C>G            1\n",
        "T>C            3\n",
        "T>G            1\n",
        "dtype: float64"
       ]
      }
     ],
     "prompt_number": 82
    },
    {
     "cell_type": "code",
     "collapsed": false,
     "input": [
      "example_stats.save('../data/example_stats.pickle')"
     ],
     "language": "python",
     "metadata": {},
     "outputs": [],
     "prompt_number": 83
    },
    {
     "cell_type": "code",
     "collapsed": false,
     "input": [],
     "language": "python",
     "metadata": {},
     "outputs": []
    }
   ],
   "metadata": {}
  }
 ]
}