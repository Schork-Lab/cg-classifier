{
 "metadata": {
  "name": "",
  "signature": "sha256:9aa6d7b34a74b31d26b0f7effb09ee3fa5126f11aca594b7cdbb939f0eb9bf07"
 },
 "nbformat": 3,
 "nbformat_minor": 0,
 "worksheets": [
  {
   "cells": [
    {
     "cell_type": "code",
     "collapsed": false,
     "input": [
      "data_dir = '../data'\n",
      "import sys, os\n",
      "src_dir = '../cg-classifier/'\n",
      "sys.path.append(src_dir)\n",
      "import processing.variants\n",
      "reload(processing.variants)"
     ],
     "language": "python",
     "metadata": {},
     "outputs": [
      {
       "metadata": {},
       "output_type": "pyout",
       "prompt_number": 1,
       "text": [
        "<module 'processing.variants' from '../cg-classifier/processing/variants.pyc'>"
       ]
      }
     ],
     "prompt_number": 1
    },
    {
     "cell_type": "code",
     "collapsed": false,
     "input": [
      "%pylab inline\n",
      "import pandas as pd\n",
      "import seaborn as sns"
     ],
     "language": "python",
     "metadata": {},
     "outputs": [
      {
       "output_type": "stream",
       "stream": "stdout",
       "text": [
        "Populating the interactive namespace from numpy and matplotlib\n"
       ]
      }
     ],
     "prompt_number": 2
    },
    {
     "cell_type": "code",
     "collapsed": false,
     "input": [
      "%load_ext autoreload\n",
      "%autoreload 2"
     ],
     "language": "python",
     "metadata": {},
     "outputs": [],
     "prompt_number": 3
    },
    {
     "cell_type": "code",
     "collapsed": false,
     "input": [
      "example = processing.variants.VcfTsv('../data/fp.20000.tsv.gz')"
     ],
     "language": "python",
     "metadata": {},
     "outputs": [
      {
       "output_type": "stream",
       "stream": "stderr",
       "text": [
        "/home/kunal/anaconda/lib/python2.7/site-packages/pandas-0.14.1-py2.7-linux-x86_64.egg/pandas/io/parsers.py:1139: DtypeWarning: Columns (11,14) have mixed types. Specify dtype option on import or set low_memory=False.\n",
        "  data = self._reader.read(nrows)\n",
        "../cg-classifier/processing/variants.py:324: SettingWithCopyWarning: A value is trying to be set on a copy of a slice from a DataFrame.\n",
        "Try using .loc[row_index,col_indexer] = value instead\n",
        "  df['phase'] = df['GT'].map(self._get_phase)\n"
       ]
      }
     ],
     "prompt_number": 4
    },
    {
     "cell_type": "heading",
     "level": 3,
     "metadata": {},
     "source": [
      "number of snps, indels, mnps"
     ]
    },
    {
     "cell_type": "code",
     "collapsed": false,
     "input": [
      "example_not_hom = example.variants[example.variants.zygosity!='hom-alt']\n",
      "example_hom = example.variants[example.variants.zygosity=='hom-alt']\n",
      "pd.DataFrame(example_not_hom.vartype1.value_counts() + example_not_hom.vartype2.value_counts() + example_hom.vartype1.value_counts())"
     ],
     "language": "python",
     "metadata": {},
     "outputs": [
      {
       "html": [
        "<div style=\"max-height:1000px;max-width:1500px;overflow:auto;\">\n",
        "<table border=\"1\" class=\"dataframe\">\n",
        "  <thead>\n",
        "    <tr style=\"text-align: right;\">\n",
        "      <th></th>\n",
        "      <th>0</th>\n",
        "    </tr>\n",
        "  </thead>\n",
        "  <tbody>\n",
        "    <tr>\n",
        "      <th>del</th>\n",
        "      <td>  7550</td>\n",
        "    </tr>\n",
        "    <tr>\n",
        "      <th>ins</th>\n",
        "      <td>  3866</td>\n",
        "    </tr>\n",
        "    <tr>\n",
        "      <th>mnp</th>\n",
        "      <td>   816</td>\n",
        "    </tr>\n",
        "    <tr>\n",
        "      <th>ref</th>\n",
        "      <td>   NaN</td>\n",
        "    </tr>\n",
        "    <tr>\n",
        "      <th>snp</th>\n",
        "      <td> 14977</td>\n",
        "    </tr>\n",
        "  </tbody>\n",
        "</table>\n",
        "</div>"
       ],
       "metadata": {},
       "output_type": "pyout",
       "prompt_number": 5,
       "text": [
        "         0\n",
        "del   7550\n",
        "ins   3866\n",
        "mnp    816\n",
        "ref    NaN\n",
        "snp  14977"
       ]
      }
     ],
     "prompt_number": 5
    },
    {
     "cell_type": "heading",
     "level": 3,
     "metadata": {},
     "source": [
      "average read depth\n"
     ]
    },
    {
     "cell_type": "code",
     "collapsed": false,
     "input": [
      "from collections import defaultdict"
     ],
     "language": "python",
     "metadata": {},
     "outputs": [],
     "prompt_number": 6
    },
    {
     "cell_type": "code",
     "collapsed": false,
     "input": [
      "test = example.variants[:1000]"
     ],
     "language": "python",
     "metadata": {},
     "outputs": [],
     "prompt_number": 7
    },
    {
     "cell_type": "code",
     "collapsed": false,
     "input": [
      "test = test[~test.GT.map(lambda x: '.' in x)]\n",
      "test['AD_1'] = test.AD.map(lambda x: int(x.split(',')[0]))\n",
      "test['AD_2'] = test.AD.map(lambda x: int(x.split(',')[1]))"
     ],
     "language": "python",
     "metadata": {},
     "outputs": [],
     "prompt_number": 8
    },
    {
     "cell_type": "code",
     "collapsed": false,
     "input": [
      "read_depths = defaultdict(lambda: defaultdict(list))\n",
      "for row in test.iterrows():\n",
      "    # If 1/1, add just one read depth\n",
      "    if row[1]['zygosity'] == 'hom-alt':\n",
      "        read_depths[row[1]['vartype1']]['hom-alt'].append(row[1]['AD_1'])\n",
      "    \n",
      "    # If 1/2, add read depth for each type of variant\n",
      "    if row[1]['zygosity'] == 'het-alt':\n",
      "        read_depths[row[1]['vartype1']]['het-alt'].append(row[1]['AD_1'])\n",
      "        read_depths[row[1]['vartype2']]['het-alt'].append(row[1]['AD_2'])\n",
      "    \n",
      "    # If 0/1, add read depth for the variant\n",
      "    if row[1]['zygosity'] == 'het-ref':\n",
      "        if row[1]['vartype1'] != 'ref':\n",
      "            read_depths[row[1]['vartype1']]['het-ref'].append(row[1]['AD_1'])\n",
      "        else:\n",
      "            read_depths[row[1]['vartype2']]['het-ref'].append(row[1]['AD_2'])"
     ],
     "language": "python",
     "metadata": {},
     "outputs": [],
     "prompt_number": 9
    },
    {
     "cell_type": "code",
     "collapsed": false,
     "input": [
      "pd.DataFrame(read_depths)"
     ],
     "language": "python",
     "metadata": {},
     "outputs": [
      {
       "html": [
        "<div style=\"max-height:1000px;max-width:1500px;overflow:auto;\">\n",
        "<table border=\"1\" class=\"dataframe\">\n",
        "  <thead>\n",
        "    <tr style=\"text-align: right;\">\n",
        "      <th></th>\n",
        "      <th>del</th>\n",
        "      <th>ins</th>\n",
        "      <th>mnp</th>\n",
        "      <th>snp</th>\n",
        "    </tr>\n",
        "  </thead>\n",
        "  <tbody>\n",
        "    <tr>\n",
        "      <th>het-alt</th>\n",
        "      <td>                        [8, 18, 28, 15, 6, 50, 11]</td>\n",
        "      <td>                              [3, 5, 11, 9, 3, 31]</td>\n",
        "      <td>                                    [15, 0, 5, 19]</td>\n",
        "      <td>                           [8, 26, 0, 5, 6, 15, 1]</td>\n",
        "    </tr>\n",
        "    <tr>\n",
        "      <th>het-ref</th>\n",
        "      <td> [10, 133, 27, 14, 63, 21, 4, 9, 3, 21, 5, 31, ...</td>\n",
        "      <td> [23, 11, 9, 4, 2, 1, 7, 4, 2, 8, 9, 26, 10, 2,...</td>\n",
        "      <td> [1, 10, 42, 69, 36, 11, 7, 64, 4, 3, 4, 10, 16...</td>\n",
        "      <td> [10, 12, 5, 7, 0, 6, 13, 5, 6, 19, 7, 34, 13, ...</td>\n",
        "    </tr>\n",
        "    <tr>\n",
        "      <th>hom-alt</th>\n",
        "      <td>     [0, 0, 24, 49, 14, 44, 28, 8, 16, 28, 33, 26]</td>\n",
        "      <td>               [1, 17, 16, 28, 14, 83, 10, 39, 13]</td>\n",
        "      <td>                                        [7, 22, 4]</td>\n",
        "      <td> [4, 2, 5, 0, 37, 5, 3, 7, 4, 7, 30, 48, 10, 10...</td>\n",
        "    </tr>\n",
        "  </tbody>\n",
        "</table>\n",
        "</div>"
       ],
       "metadata": {},
       "output_type": "pyout",
       "prompt_number": 10,
       "text": [
        "                                                       del  \\\n",
        "het-alt                         [8, 18, 28, 15, 6, 50, 11]   \n",
        "het-ref  [10, 133, 27, 14, 63, 21, 4, 9, 3, 21, 5, 31, ...   \n",
        "hom-alt      [0, 0, 24, 49, 14, 44, 28, 8, 16, 28, 33, 26]   \n",
        "\n",
        "                                                       ins  \\\n",
        "het-alt                               [3, 5, 11, 9, 3, 31]   \n",
        "het-ref  [23, 11, 9, 4, 2, 1, 7, 4, 2, 8, 9, 26, 10, 2,...   \n",
        "hom-alt                [1, 17, 16, 28, 14, 83, 10, 39, 13]   \n",
        "\n",
        "                                                       mnp  \\\n",
        "het-alt                                     [15, 0, 5, 19]   \n",
        "het-ref  [1, 10, 42, 69, 36, 11, 7, 64, 4, 3, 4, 10, 16...   \n",
        "hom-alt                                         [7, 22, 4]   \n",
        "\n",
        "                                                       snp  \n",
        "het-alt                            [8, 26, 0, 5, 6, 15, 1]  \n",
        "het-ref  [10, 12, 5, 7, 0, 6, 13, 5, 6, 19, 7, 34, 13, ...  \n",
        "hom-alt  [4, 2, 5, 0, 37, 5, 3, 7, 4, 7, 30, 48, 10, 10...  "
       ]
      }
     ],
     "prompt_number": 10
    },
    {
     "cell_type": "code",
     "collapsed": false,
     "input": [
      "def get_read_depths(df, zygosity):\n",
      "    def single_variant_depths(df):\n",
      "        def get_depth():\n",
      "            if series['GT'][0] not in ['0','.']:\n",
      "                return series['AD_1']\n",
      "            else:\n",
      "                return series['AD_2']    \n",
      "        return df.apply(get_depth, axis=1).values\n",
      "    \n",
      "    def get_both_variant_depths(df):\n",
      "        depths = np.array([depth\n",
      "                  for row in df.iterrows()\n",
      "                  for depth in [row[1]['AD_1'], row[1]['AD_2']]])\n",
      "        return depths\n",
      "    \n",
      "    if zygosity == 'hom-alt':\n",
      "        return df['AD_1'].values\n",
      "    elif zygosity == 'het-alt':\n",
      "        return get_both_variant_depths(df)\n",
      "    elif zygosity == 'het-ref':\n",
      "        return single_variant_depths(df)\n",
      "    else:\n",
      "        assert \"Zygosity unclear\"\n",
      "        "
     ],
     "language": "python",
     "metadata": {},
     "outputs": [],
     "prompt_number": 11
    },
    {
     "cell_type": "code",
     "collapsed": false,
     "input": [
      "def get_depths_by_zygosity(df):\n",
      "    allelic_depths = {}\n",
      "    for zygosity in ['hom-alt','het-alt','het-ref']:\n",
      "        depths = get_read_depths(df[df['zygosity_'+zygosity] == 1], 'het-alt')\n",
      "        allelic_depths[zygosity] = depths\n",
      "    return pd.DataFrame(allelic_depths)"
     ],
     "language": "python",
     "metadata": {},
     "outputs": [],
     "prompt_number": 12
    },
    {
     "cell_type": "heading",
     "level": 3,
     "metadata": {},
     "source": [
      "basechange stats"
     ]
    },
    {
     "cell_type": "code",
     "collapsed": false,
     "input": [
      "def snp(series, alt='a1'):\n",
      "    \"\"\" Return snp \"\"\"\n",
      "    ref = series['REF']\n",
      "    alt = series[alt]\n",
      "    if len(ref) != len(alt):\n",
      "        return ref+'>'+alt\n",
      "    for i, nt in enumerate(alt):\n",
      "        if ref[i] != alt[i]:\n",
      "            return ref[i]+'>'+alt[i] \n",
      "\n",
      "hom_snps = example_hom[example_hom.vartype1 == 'snp']\n",
      "basechange_hom = hom_snps['REF']+'>'+hom_snps['a1']\n",
      "\n",
      "var1_snps = example_not_hom[example_not_hom.vartype1 == 'snp']\n",
      "basechange_var1 = var1_snps.apply(snp, alt='a1', axis=1)\n",
      "\n",
      "var2_snps = example_not_hom[example_not_hom.vartype2 == 'snp']\n",
      "basechange_var2 = var2_snps.apply(snp, alt='a2', axis=1)\n"
     ],
     "language": "python",
     "metadata": {},
     "outputs": [],
     "prompt_number": 13
    },
    {
     "cell_type": "code",
     "collapsed": false,
     "input": [
      "base_change = pd.concat([basechange_hom.value_counts(), \n",
      "                         basechange_var1.value_counts(),\n",
      "                         basechange_var2.value_counts()],\n",
      "                        axis=1)"
     ],
     "language": "python",
     "metadata": {},
     "outputs": [],
     "prompt_number": 14
    },
    {
     "cell_type": "code",
     "collapsed": false,
     "input": [
      "#Look at the sense of the mutation and make necessary changes.\n",
      "pattern = dict()\n",
      "pattern['A'] = 'T'\n",
      "pattern['C'] = 'G'\n",
      "pattern['T'] = 'A'\n",
      "pattern['G'] = 'C'\n",
      "pattern['.'] = '.'\n",
      "change = set(['A','G'])\n",
      "def change_orientation(idx):\n",
      "    ref = idx[0]\n",
      "    alt = idx[2]\n",
      "    if ref in change:\n",
      "        ref = pattern[ref]\n",
      "        alt = pattern[alt]\n",
      "    return ref+'>'+alt"
     ],
     "language": "python",
     "metadata": {},
     "outputs": [],
     "prompt_number": 15
    },
    {
     "cell_type": "code",
     "collapsed": false,
     "input": [
      "base_change.index = base_change.index.map(change_orientation)"
     ],
     "language": "python",
     "metadata": {},
     "outputs": [],
     "prompt_number": 16
    },
    {
     "cell_type": "code",
     "collapsed": false,
     "input": [
      "base_change['base_change'] = base_change.index\n",
      "base_change = base_change.groupby('base_change').agg(sum).sum(axis=1)\n",
      "base_change.plot(kind='bar')"
     ],
     "language": "python",
     "metadata": {},
     "outputs": [
      {
       "metadata": {},
       "output_type": "pyout",
       "prompt_number": 17,
       "text": [
        "<matplotlib.axes.AxesSubplot at 0x72d7750>"
       ]
      },
      {
       "output_type": "stream",
       "stream": "stderr",
       "text": [
        "/home/kunal/anaconda/lib/python2.7/site-packages/matplotlib/font_manager.py:1236: UserWarning: findfont: Font family ['Arial'] not found. Falling back to Bitstream Vera Sans\n",
        "  (prop.get_family(), self.defaultFamily[fontext]))\n"
       ]
      },
      {
       "metadata": {},
       "output_type": "display_data",
       "png": "[encoded data removed]",
       "text": [
        "<matplotlib.figure.Figure at 0x5a8d650>"
       ]
      }
     ],
     "prompt_number": 17
    },
    {
     "cell_type": "heading",
     "level": 3,
     "metadata": {},
     "source": [
      "ts/tv stats"
     ]
    },
    {
     "cell_type": "code",
     "collapsed": false,
     "input": [
      "transition = base_change.ix[['C>T','T>C']].sum(axis=1)\n",
      "transversion = base_change.ix[['C>A','C>G','T>A','T>G']].sum(axis=1)"
     ],
     "language": "python",
     "metadata": {},
     "outputs": [],
     "prompt_number": 18
    },
    {
     "cell_type": "code",
     "collapsed": false,
     "input": [
      "transition"
     ],
     "language": "python",
     "metadata": {},
     "outputs": [
      {
       "metadata": {},
       "output_type": "pyout",
       "prompt_number": 19,
       "text": [
        "7554.0"
       ]
      }
     ],
     "prompt_number": 19
    },
    {
     "cell_type": "code",
     "collapsed": false,
     "input": [
      "transversion"
     ],
     "language": "python",
     "metadata": {},
     "outputs": [
      {
       "metadata": {},
       "output_type": "pyout",
       "prompt_number": 20,
       "text": [
        "3997.0"
       ]
      }
     ],
     "prompt_number": 20
    },
    {
     "cell_type": "heading",
     "level": 3,
     "metadata": {},
     "source": [
      "get exonic variants"
     ]
    },
    {
     "cell_type": "code",
     "collapsed": false,
     "input": [
      "import pybedtools\n",
      "def create_bed(df):\n",
      "    # Note since df.to_string() requires at least one column, the bed contains\n",
      "    # one extra column\n",
      "    df['start'] = df['POS'] - 1\n",
      "    bed_repr = df.to_string(header=False, index_names=False,\n",
      "                            index=None,\n",
      "                            sparsify=False, columns=['CHROM','start','POS','REF','ALT'])\n",
      "    bedtool = pybedtools.BedTool(bed_repr, from_string=True)\n",
      "    return bedtool"
     ],
     "language": "python",
     "metadata": {},
     "outputs": [],
     "prompt_number": 21
    },
    {
     "cell_type": "code",
     "collapsed": false,
     "input": [
      "variant_bed = create_bed(example.variants)"
     ],
     "language": "python",
     "metadata": {},
     "outputs": [],
     "prompt_number": 22
    },
    {
     "cell_type": "code",
     "collapsed": false,
     "input": [
      "example.variants.head()"
     ],
     "language": "python",
     "metadata": {},
     "outputs": [
      {
       "html": [
        "<div style=\"max-height:1000px;max-width:1500px;overflow:auto;\">\n",
        "<table border=\"1\" class=\"dataframe\">\n",
        "  <thead>\n",
        "    <tr style=\"text-align: right;\">\n",
        "      <th></th>\n",
        "      <th></th>\n",
        "      <th></th>\n",
        "      <th></th>\n",
        "      <th>CHROM</th>\n",
        "      <th>POS</th>\n",
        "      <th>ID</th>\n",
        "      <th>REF</th>\n",
        "      <th>ALT</th>\n",
        "      <th>QUAL</th>\n",
        "      <th>FILTER</th>\n",
        "      <th>AC</th>\n",
        "      <th>AN</th>\n",
        "      <th>CGA_BF</th>\n",
        "      <th>...</th>\n",
        "      <th>SS</th>\n",
        "      <th>phase</th>\n",
        "      <th>multiallele</th>\n",
        "      <th>zygosity</th>\n",
        "      <th>a1</th>\n",
        "      <th>a2</th>\n",
        "      <th>vartype1</th>\n",
        "      <th>vartype2</th>\n",
        "      <th>ref_read_depth</th>\n",
        "      <th>start</th>\n",
        "    </tr>\n",
        "    <tr>\n",
        "      <th>CHROM</th>\n",
        "      <th>POS</th>\n",
        "      <th>REF</th>\n",
        "      <th>ALT</th>\n",
        "      <th></th>\n",
        "      <th></th>\n",
        "      <th></th>\n",
        "      <th></th>\n",
        "      <th></th>\n",
        "      <th></th>\n",
        "      <th></th>\n",
        "      <th></th>\n",
        "      <th></th>\n",
        "      <th></th>\n",
        "      <th></th>\n",
        "      <th></th>\n",
        "      <th></th>\n",
        "      <th></th>\n",
        "      <th></th>\n",
        "      <th></th>\n",
        "      <th></th>\n",
        "      <th></th>\n",
        "      <th></th>\n",
        "      <th></th>\n",
        "      <th></th>\n",
        "    </tr>\n",
        "  </thead>\n",
        "  <tbody>\n",
        "    <tr>\n",
        "      <th rowspan=\"5\" valign=\"top\">1</th>\n",
        "      <th>38232</th>\n",
        "      <th>A</th>\n",
        "      <th>G</th>\n",
        "      <td> 1</td>\n",
        "      <td> 38232</td>\n",
        "      <td> .</td>\n",
        "      <td> A</td>\n",
        "      <td> G</td>\n",
        "      <td> 0</td>\n",
        "      <td> .</td>\n",
        "      <td> 2</td>\n",
        "      <td> 2</td>\n",
        "      <td>NaN</td>\n",
        "      <td>...</td>\n",
        "      <td>NaN</td>\n",
        "      <td> /</td>\n",
        "      <td> 0</td>\n",
        "      <td> hom-alt</td>\n",
        "      <td> G</td>\n",
        "      <td> G</td>\n",
        "      <td> snp</td>\n",
        "      <td> snp</td>\n",
        "      <td>  1</td>\n",
        "      <td> 38231</td>\n",
        "    </tr>\n",
        "    <tr>\n",
        "      <th>41981</th>\n",
        "      <th>A</th>\n",
        "      <th>G</th>\n",
        "      <td> 1</td>\n",
        "      <td> 41981</td>\n",
        "      <td> .</td>\n",
        "      <td> A</td>\n",
        "      <td> G</td>\n",
        "      <td> 0</td>\n",
        "      <td> .</td>\n",
        "      <td> 2</td>\n",
        "      <td> 2</td>\n",
        "      <td>NaN</td>\n",
        "      <td>...</td>\n",
        "      <td>NaN</td>\n",
        "      <td> /</td>\n",
        "      <td> 0</td>\n",
        "      <td> hom-alt</td>\n",
        "      <td> G</td>\n",
        "      <td> G</td>\n",
        "      <td> snp</td>\n",
        "      <td> snp</td>\n",
        "      <td>  1</td>\n",
        "      <td> 41980</td>\n",
        "    </tr>\n",
        "    <tr>\n",
        "      <th>46670</th>\n",
        "      <th>A</th>\n",
        "      <th>G</th>\n",
        "      <td> 1</td>\n",
        "      <td> 46670</td>\n",
        "      <td> .</td>\n",
        "      <td> A</td>\n",
        "      <td> G</td>\n",
        "      <td> 0</td>\n",
        "      <td> .</td>\n",
        "      <td> 2</td>\n",
        "      <td> 2</td>\n",
        "      <td>NaN</td>\n",
        "      <td>...</td>\n",
        "      <td>NaN</td>\n",
        "      <td> /</td>\n",
        "      <td> 0</td>\n",
        "      <td> hom-alt</td>\n",
        "      <td> G</td>\n",
        "      <td> G</td>\n",
        "      <td> snp</td>\n",
        "      <td> snp</td>\n",
        "      <td>  0</td>\n",
        "      <td> 46669</td>\n",
        "    </tr>\n",
        "    <tr>\n",
        "      <th>47108</th>\n",
        "      <th>G</th>\n",
        "      <th>C</th>\n",
        "      <td> 1</td>\n",
        "      <td> 47108</td>\n",
        "      <td> .</td>\n",
        "      <td> G</td>\n",
        "      <td> C</td>\n",
        "      <td> 0</td>\n",
        "      <td> .</td>\n",
        "      <td> 2</td>\n",
        "      <td> 2</td>\n",
        "      <td>NaN</td>\n",
        "      <td>...</td>\n",
        "      <td>NaN</td>\n",
        "      <td> /</td>\n",
        "      <td> 0</td>\n",
        "      <td> hom-alt</td>\n",
        "      <td> C</td>\n",
        "      <td> C</td>\n",
        "      <td> snp</td>\n",
        "      <td> snp</td>\n",
        "      <td>  0</td>\n",
        "      <td> 47107</td>\n",
        "    </tr>\n",
        "    <tr>\n",
        "      <th>47292</th>\n",
        "      <th>T</th>\n",
        "      <th>G</th>\n",
        "      <td> 1</td>\n",
        "      <td> 47292</td>\n",
        "      <td> .</td>\n",
        "      <td> T</td>\n",
        "      <td> G</td>\n",
        "      <td> 0</td>\n",
        "      <td> .</td>\n",
        "      <td> 1</td>\n",
        "      <td> 2</td>\n",
        "      <td>NaN</td>\n",
        "      <td>...</td>\n",
        "      <td>NaN</td>\n",
        "      <td> /</td>\n",
        "      <td> 0</td>\n",
        "      <td> het-ref</td>\n",
        "      <td> G</td>\n",
        "      <td> T</td>\n",
        "      <td> snp</td>\n",
        "      <td> ref</td>\n",
        "      <td> 33</td>\n",
        "      <td> 47291</td>\n",
        "    </tr>\n",
        "  </tbody>\n",
        "</table>\n",
        "<p>5 rows \u00d7 71 columns</p>\n",
        "</div>"
       ],
       "metadata": {},
       "output_type": "pyout",
       "prompt_number": 45,
       "text": [
        "                     CHROM    POS ID REF ALT  QUAL FILTER AC  AN  CGA_BF  \\\n",
        "CHROM POS   REF ALT                                                        \n",
        "1     38232 A   G        1  38232  .   A   G     0      .  2   2     NaN   \n",
        "      41981 A   G        1  41981  .   A   G     0      .  2   2     NaN   \n",
        "      46670 A   G        1  46670  .   A   G     0      .  2   2     NaN   \n",
        "      47108 G   C        1  47108  .   G   C     0      .  2   2     NaN   \n",
        "      47292 T   G        1  47292  .   T   G     0      .  1   2     NaN   \n",
        "\n",
        "                      ...    SS  phase multiallele  zygosity a1 a2 vartype1  \\\n",
        "CHROM POS   REF ALT   ...                                                     \n",
        "1     38232 A   G     ...   NaN      /           0   hom-alt  G  G      snp   \n",
        "      41981 A   G     ...   NaN      /           0   hom-alt  G  G      snp   \n",
        "      46670 A   G     ...   NaN      /           0   hom-alt  G  G      snp   \n",
        "      47108 G   C     ...   NaN      /           0   hom-alt  C  C      snp   \n",
        "      47292 T   G     ...   NaN      /           0   het-ref  G  T      snp   \n",
        "\n",
        "                     vartype2  ref_read_depth  start  \n",
        "CHROM POS   REF ALT                                   \n",
        "1     38232 A   G         snp               1  38231  \n",
        "      41981 A   G         snp               1  41980  \n",
        "      46670 A   G         snp               0  46669  \n",
        "      47108 G   C         snp               0  47107  \n",
        "      47292 T   G         ref              33  47291  \n",
        "\n",
        "[5 rows x 71 columns]"
       ]
      }
     ],
     "prompt_number": 45
    },
    {
     "cell_type": "code",
     "collapsed": false,
     "input": [
      "(int(x[0]), int(x[2], x[3], x[4])"
     ],
     "language": "python",
     "metadata": {},
     "outputs": [
      {
       "metadata": {},
       "output_type": "pyout",
       "prompt_number": 43,
       "text": [
        "('1', '38232', 'A', 'G')"
       ]
      }
     ],
     "prompt_number": 43
    },
    {
     "cell_type": "code",
     "collapsed": false,
     "input": [
      "for x in variant_bed:\n",
      "    print example.variants.xs((int(x[0]), int(x[2]), x[3], x[4]))\n",
      "    break"
     ],
     "language": "python",
     "metadata": {},
     "outputs": [
      {
       "output_type": "stream",
       "stream": "stdout",
       "text": [
        "CHROM                                                        1\n",
        "POS                                                      38232\n",
        "ID                                                           .\n",
        "REF                                                          A\n",
        "ALT                                                          G\n",
        "QUAL                                                         0\n",
        "FILTER                                                       .\n",
        "AC                                                           2\n",
        "AN                                                           2\n",
        "CGA_BF                                                     NaN\n",
        "CGA_BNDG                                                   NaN\n",
        "CGA_BNDGO                                                  NaN\n",
        "CGA_FI       645520|NR_026818.1|FAM138A|TSS-UPSTREAM|UNKNOW...\n",
        "CGA_MEDEL                                                  NaN\n",
        "CGA_MIRB                                                   NaN\n",
        "...\n",
        "GL                -178,-86,0\n",
        "GQ                        86\n",
        "GT                       1/1\n",
        "HQ                    178,86\n",
        "PS                         .\n",
        "SS                       NaN\n",
        "phase                      /\n",
        "multiallele                0\n",
        "zygosity             hom-alt\n",
        "a1                         G\n",
        "a2                         G\n",
        "vartype1                 snp\n",
        "vartype2                 snp\n",
        "ref_read_depth             1\n",
        "start                  38231\n",
        "Name: (1, 38232, A, G), Length: 71, dtype: object\n"
       ]
      }
     ],
     "prompt_number": 53
    },
    {
     "cell_type": "code",
     "collapsed": false,
     "input": [
      "exonic = '../data/TruSeq_exome_targeted_regions.hg19.bed.chr'\n",
      "exonic_bed = pybedtools.BedTool(exonic)\n",
      "\n",
      "# Look at overlap with sample files\n",
      "overlap_variants = variant_bed.intersect(exonic, )\n",
      "indices = []\n",
      "for overlap in overlap_variants:\n",
      "    \n",
      "\n",
      "exonic_variants = example.variants.ix[indices]\n"
     ],
     "language": "python",
     "metadata": {},
     "outputs": [],
     "prompt_number": 36
    },
    {
     "cell_type": "code",
     "collapsed": false,
     "input": [
      "list(exonic_bed)[0]"
     ],
     "language": "python",
     "metadata": {},
     "outputs": [
      {
       "metadata": {},
       "output_type": "pyout",
       "prompt_number": 33,
       "text": [
        "Interval(chr1:14362-14829)"
       ]
      }
     ],
     "prompt_number": 33
    },
    {
     "cell_type": "code",
     "collapsed": false,
     "input": [
      "len(overlap_variants)"
     ],
     "language": "python",
     "metadata": {},
     "outputs": [
      {
       "metadata": {},
       "output_type": "pyout",
       "prompt_number": 34,
       "text": [
        "0"
       ]
      }
     ],
     "prompt_number": 34
    },
    {
     "cell_type": "code",
     "collapsed": false,
     "input": [
      "len(indices)"
     ],
     "language": "python",
     "metadata": {},
     "outputs": [
      {
       "metadata": {},
       "output_type": "pyout",
       "prompt_number": 31,
       "text": [
        "0"
       ]
      }
     ],
     "prompt_number": 31
    },
    {
     "cell_type": "code",
     "collapsed": false,
     "input": [
      "len(example.variants)"
     ],
     "language": "python",
     "metadata": {},
     "outputs": [
      {
       "metadata": {},
       "output_type": "pyout",
       "prompt_number": 30,
       "text": [
        "19992"
       ]
      }
     ],
     "prompt_number": 30
    },
    {
     "cell_type": "code",
     "collapsed": false,
     "input": [
      "len(exonic_variants)"
     ],
     "language": "python",
     "metadata": {},
     "outputs": [
      {
       "metadata": {},
       "output_type": "pyout",
       "prompt_number": 28,
       "text": [
        "19992"
       ]
      }
     ],
     "prompt_number": 28
    },
    {
     "cell_type": "code",
     "collapsed": false,
     "input": [],
     "language": "python",
     "metadata": {},
     "outputs": []
    }
   ],
   "metadata": {}
  }
 ]
}