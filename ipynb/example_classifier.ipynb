{
 "metadata": {
  "name": "",
  "signature": "sha256:09155824e64176eb2962771004ef73f59e802eeb5e7fd79d151067b12f1b0471"
 },
 "nbformat": 3,
 "nbformat_minor": 0,
 "worksheets": [
  {
   "cells": [
    {
     "cell_type": "code",
     "collapsed": false,
     "input": [
      "data_dir = '../data'\n",
      "src_dir = '../cg-classifier/'\n",
      "import sys, os\n",
      "sys.path.append(src_dir)"
     ],
     "language": "python",
     "metadata": {},
     "outputs": [],
     "prompt_number": 19
    },
    {
     "cell_type": "code",
     "collapsed": false,
     "input": [
      "%load_ext autoreload\n",
      "%autoreload 2"
     ],
     "language": "python",
     "metadata": {},
     "outputs": [
      {
       "output_type": "stream",
       "stream": "stdout",
       "text": [
        "The autoreload extension is already loaded. To reload it, use:\n",
        "  %reload_ext autoreload\n"
       ]
      }
     ],
     "prompt_number": 20
    },
    {
     "cell_type": "code",
     "collapsed": false,
     "input": [
      "import model.classifiers"
     ],
     "language": "python",
     "metadata": {},
     "outputs": [],
     "prompt_number": 21
    },
    {
     "cell_type": "code",
     "collapsed": false,
     "input": [
      "clf = model.classifiers.RandomForest()"
     ],
     "language": "python",
     "metadata": {},
     "outputs": [],
     "prompt_number": 22
    },
    {
     "cell_type": "code",
     "collapsed": false,
     "input": [
      "import processing.variants\n",
      "reload(processing.variants)\n",
      "fp_file = os.path.join(data_dir, 'fp.1000.tsv.gz')\n",
      "fp = processing.variants.VcfTsv(fp_file)\n"
     ],
     "language": "python",
     "metadata": {},
     "outputs": [],
     "prompt_number": 23
    },
    {
     "cell_type": "code",
     "collapsed": false,
     "input": [
      "import random\n",
      "truths = [round(random.random()) for _ in range(len(fp.variants))]"
     ],
     "language": "python",
     "metadata": {},
     "outputs": [],
     "prompt_number": 24
    },
    {
     "cell_type": "code",
     "collapsed": false,
     "input": [
      "fp._features_df = fp._features_df.fillna(0)\n",
      "# Will fix this in the variant file, but on different branch currently. Need to add the following code:\n",
      "fp._features_df.CGA_SDO.fillna(value=0, inplace=True)\n",
      "fp._features_df.GQ.fillna(value=-999, inplace=True)"
     ],
     "language": "python",
     "metadata": {},
     "outputs": [],
     "prompt_number": 25
    },
    {
     "cell_type": "code",
     "collapsed": false,
     "input": [
      "clf.fit(fp, truths)"
     ],
     "language": "python",
     "metadata": {},
     "outputs": [],
     "prompt_number": 26
    },
    {
     "cell_type": "code",
     "collapsed": false,
     "input": [
      "tp_file = os.path.join(data_dir, 'tp.1000.tsv.gz')\n",
      "tp = processing.variants.VcfTsv(fp_file)\n",
      "tp._features_df.CGA_SDO.fillna(value=0, inplace=True)\n",
      "tp._features_df.GQ.fillna(value=-999, inplace=True)\n",
      "predictions = clf.predict(tp)"
     ],
     "language": "python",
     "metadata": {},
     "outputs": [],
     "prompt_number": 27
    },
    {
     "cell_type": "code",
     "collapsed": false,
     "input": [
      "predictions[:5]"
     ],
     "language": "python",
     "metadata": {},
     "outputs": [
      {
       "metadata": {},
       "output_type": "pyout",
       "prompt_number": 28,
       "text": [
        "array([ 1.,  0.,  0.,  1.,  0.])"
       ]
      }
     ],
     "prompt_number": 28
    },
    {
     "cell_type": "code",
     "collapsed": false,
     "input": [
      "clf = model.classifiers.LogisticRegression()\n",
      "clf.fit(fp, truths)\n",
      "predictions = clf.predict(tp)\n",
      "predictions[:5]"
     ],
     "language": "python",
     "metadata": {},
     "outputs": [
      {
       "metadata": {},
       "output_type": "pyout",
       "prompt_number": 29,
       "text": [
        "array([ 0.,  1.,  0.,  0.,  0.])"
       ]
      }
     ],
     "prompt_number": 29
    },
    {
     "cell_type": "code",
     "collapsed": false,
     "input": [],
     "language": "python",
     "metadata": {},
     "outputs": []
    }
   ],
   "metadata": {}
  }
 ]
}