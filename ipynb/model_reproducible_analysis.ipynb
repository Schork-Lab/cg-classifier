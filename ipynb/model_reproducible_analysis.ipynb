{
 "metadata": {
  "name": ""
 },
 "nbformat": 3,
 "nbformat_minor": 0,
 "worksheets": [
  {
   "cells": [
    {
     "cell_type": "heading",
     "level": 3,
     "metadata": {},
     "source": [
      "CG valls | vcfeval NIST truth set | fp, tp, fn | Heng Li's vcf-stats > file.vcfstats | f-ing manual curation of the SNPs and Indels3"
     ]
    },
    {
     "cell_type": "heading",
     "level": 2,
     "metadata": {},
     "source": [
      "Set Initial Paths"
     ]
    },
    {
     "cell_type": "heading",
     "level": 3,
     "metadata": {},
     "source": [
      "Program Paths"
     ]
    },
    {
     "cell_type": "code",
     "collapsed": false,
     "input": [
      "vcftools_path = \"/opt/applications/vcftools/0.1.10/gnu/bin\"\n",
      "vcftools_lib = \"/opt/applications/vcftools/0.1.10/gnu/lib/perl5/site_perl\"\n",
      "vcflib_path = \"/gpfs/home/erscott/Tools/vcflib/bin\"\n",
      "rtg_jar = \"/gpfs/home/erscott/Tools/RTG/rtg-tools-1.0.0/RTG.jar\"\n",
      "rtg_genome = \"/gpfs/home/erscott/Tools/RTG/rtg-tools-1.0.0/hg19\""
     ],
     "language": "python",
     "metadata": {},
     "outputs": [],
     "prompt_number": 19
    },
    {
     "cell_type": "heading",
     "level": 3,
     "metadata": {},
     "source": [
      "Data files"
     ]
    },
    {
     "cell_type": "code",
     "collapsed": false,
     "input": [
      "cg_calls =  \"/gpfs/home/erscott/Datasets_raw/PlatinumGenomes/cg_classifier_data/NA12878/CGvsRTGphasing/CGvsRTGbed_GBCfail_vs_NISTbed/NA12878_gbc_filtered_NISTbedregions.vcf.gz\"\n",
      "nist_calls = \"/gpfs/home/erscott/Datasets_raw/PlatinumGenomes/cg_classifier_data/NIST_RTG_PlatGen_merged_highconfidence_v0.2_Allannotate.vcf.gz\""
     ],
     "language": "python",
     "metadata": {},
     "outputs": [],
     "prompt_number": 2
    },
    {
     "cell_type": "heading",
     "level": 3,
     "metadata": {},
     "source": [
      "Output paths"
     ]
    },
    {
     "cell_type": "code",
     "collapsed": false,
     "input": [
      "out_dir = \"../data/called_vs_true\""
     ],
     "language": "python",
     "metadata": {},
     "outputs": [],
     "prompt_number": 8
    },
    {
     "cell_type": "heading",
     "level": 2,
     "metadata": {},
     "source": [
      "Compare against NIST truth set"
     ]
    },
    {
     "cell_type": "code",
     "collapsed": false,
     "input": [
      "vcf_eval_commands = \"java -jar %s vcfeval -c %s -b %s -t %s -f QUAL --sample NA12878 -o %s -T 8\" % (rtg_jar, cg_calls, nist_calls, rtg_genome, out_dir)\n",
      "print vcf_eval_commands"
     ],
     "language": "python",
     "metadata": {},
     "outputs": [
      {
       "output_type": "stream",
       "stream": "stdout",
       "text": [
        "java -jar /gpfs/home/erscott/Tools/RTG/rtg-tools-1.0.0/RTG.jar vcfeval -c /gpfs/home/erscott/Datasets_raw/PlatinumGenomes/cg_classifier_data/NA12878/CGvsRTGphasing/CGvsRTGbed_GBCfail_vs_NISTbed/NA12878_gbc_filtered_NISTbedregions.vcf.gz -b /gpfs/home/erscott/Datasets_raw/PlatinumGenomes/cg_classifier_data/NIST_RTG_PlatGen_merged_highconfidence_v0.2_Allannotate.vcf.gz -t /gpfs/home/erscott/Tools/RTG/rtg-tools-1.0.0/hg19 -f QUAL --sample NA12878 -o ../data/called_vs_true -T 8\n"
       ]
      }
     ],
     "prompt_number": 5
    },
    {
     "cell_type": "code",
     "collapsed": false,
     "input": [
      "!$vcf_eval_commands"
     ],
     "language": "python",
     "metadata": {},
     "outputs": [
      {
       "output_type": "stream",
       "stream": "stdout",
       "text": [
        "Reference sequence 22 is declared in baseline but not declared in calls (variants will be treated as FN).\r\n",
        "Reference sequence X is declared in baseline but not declared in calls (variants will be treated as FN).\r\n"
       ]
      },
      {
       "output_type": "stream",
       "stream": "stdout",
       "text": [
        "There were 16 called variants skipped due to being too long or overlapping.\r\n",
        "There were 316790 variants not included in ROC data files due to missing or invalid scores.\r\n"
       ]
      }
     ],
     "prompt_number": 6
    },
    {
     "cell_type": "code",
     "collapsed": false,
     "input": [
      "!ls $out_dir"
     ],
     "language": "python",
     "metadata": {},
     "outputs": [
      {
       "output_type": "stream",
       "stream": "stdout",
       "text": [
        "done\t\t\t heterozygous_slope.tsv.gz  tp.vcf.gz.tbi\r\n",
        "fn.vcf.gz\t\t homozygous_roc.tsv.gz\t    vcfeval.log\r\n",
        "fn.vcf.gz.tbi\t\t homozygous_slope.tsv.gz    weighted_roc.tsv.gz\r\n",
        "fp.vcf.gz\t\t phasing.txt\t\t    weighted_slope.tsv.gz\r\n",
        "fp.vcf.gz.tbi\t\t progress\r\n",
        "heterozygous_roc.tsv.gz  tp.vcf.gz\r\n"
       ]
      }
     ],
     "prompt_number": 7
    },
    {
     "cell_type": "heading",
     "level": 2,
     "metadata": {},
     "source": [
      "Compute Statistics"
     ]
    },
    {
     "cell_type": "code",
     "collapsed": false,
     "input": [
      "import os"
     ],
     "language": "python",
     "metadata": {},
     "outputs": [],
     "prompt_number": 9
    },
    {
     "cell_type": "code",
     "collapsed": false,
     "input": [
      "tp_path = os.path.join(out_dir, \"tp.vcf.gz\")\n",
      "fp_path = os.path.join(out_dir, \"fp.vcf.gz\")\n",
      "fn_path = os.path.join(out_dir, \"fn.vcf.gz\")\n",
      "stats_path = os.path.join(out_dir, \"stats\")"
     ],
     "language": "python",
     "metadata": {},
     "outputs": [],
     "prompt_number": 10
    },
    {
     "cell_type": "code",
     "collapsed": false,
     "input": [
      "%%bash -s \"$vcftools_lib\" \"$vcftools_path\" \"$tp_path\" \"$fp_path\" \"$fn_path\" \"$stats_path\"\n",
      "export PERL5LIB=$PERL5LIB:$1\n",
      "tp=$3\n",
      "fp=$4\n",
      "fn=$5\n",
      "stats_path=$6\n",
      "\n",
      "vcfs=($tp $fp $fn)\n",
      "for vcf in ${vcfs[@]}; do\n",
      "    outpath=\"$stats_path/${vcf##*/}\"\n",
      "    command=\"$2/vcf-stats --prefix $outpath -s NA12878 $vcf\"\n",
      "    echo $command\n",
      "    $command\n",
      "done\n"
     ],
     "language": "python",
     "metadata": {},
     "outputs": [
      {
       "output_type": "stream",
       "stream": "stdout",
       "text": [
        "/opt/applications/vcftools/0.1.10/gnu/bin/vcf-stats --prefix ../data/called_vs_true/stats/tp.vcf.gz -s NA12878 ../data/called_vs_true/tp.vcf.gz\n",
        "/opt/applications/vcftools/0.1.10/gnu/bin/vcf-stats --prefix ../data/called_vs_true/stats/fp.vcf.gz -s NA12878 ../data/called_vs_true/fp.vcf.gz\n",
        "/opt/applications/vcftools/0.1.10/gnu/bin/vcf-stats --prefix ../data/called_vs_true/stats/fn.vcf.gz -s NA12878 ../data/called_vs_true/fn.vcf.gz\n"
       ]
      }
     ],
     "prompt_number": 39
    },
    {
     "cell_type": "code",
     "collapsed": false,
     "input": [],
     "language": "python",
     "metadata": {},
     "outputs": []
    }
   ],
   "metadata": {}
  }
 ]
}