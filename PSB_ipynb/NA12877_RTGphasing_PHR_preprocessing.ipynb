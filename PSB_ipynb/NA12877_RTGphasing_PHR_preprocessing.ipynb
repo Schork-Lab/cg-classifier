{
 "metadata": {
  "name": ""
 },
 "nbformat": 3,
 "nbformat_minor": 0,
 "worksheets": [
  {
   "cells": [
    {
     "cell_type": "heading",
     "level": 1,
     "metadata": {},
     "source": [
      "Libraries"
     ]
    },
    {
     "cell_type": "code",
     "collapsed": false,
     "input": [
      "import pandas as pd"
     ],
     "language": "python",
     "metadata": {},
     "outputs": [],
     "prompt_number": 1
    },
    {
     "cell_type": "heading",
     "level": 2,
     "metadata": {},
     "source": [
      "Data Paths"
     ]
    },
    {
     "cell_type": "code",
     "collapsed": false,
     "input": [
      "vcf_dir = \"/Users/ers_vader/git_data/cg_classifier/NA12877/\"\n",
      "vcf_path = vcf_dir+ \"phasing_annotated_NA12877.vcf.gz\"\n",
      "outfile = vcf_dir + \"phasing_annotated_NA12877_PHRdropped.vcf\"\n",
      "outfile_gz = outfile + \".gz\""
     ],
     "language": "python",
     "metadata": {},
     "outputs": [],
     "prompt_number": 2
    },
    {
     "cell_type": "raw",
     "metadata": {},
     "source": [
      "Remove Duplicate Calls, second duplicate appear incorrect in light of phasing data: ftp://ftp-trace.ncbi.nih.gov/giab/ftp/data/NA12878/variant_calls/RTG/README.txt"
     ]
    },
    {
     "cell_type": "code",
     "collapsed": false,
     "input": [
      "header = !tabix -H $vcf_path  #vcf header\n",
      "header_len = len(header) - 1  #vcf header len\n",
      "!tabix -H $vcf_path >  $outfile  #writing header to destination file\n",
      "\n",
      "#Process vcf with low memory requirements by reading in chunks\n",
      "df_chunks = pd.read_table(vcf_path, sep=\"\\t\", skiprows=header_len, compression='gzip', chunksize=100000)\n",
      "\n",
      "for temp_df in df_chunks:  #iterate through chunks\n",
      "    temp_df.drop_duplicates(subset=['#CHROM', 'POS'], inplace=True)  #take first duplicate\n",
      "    \n",
      "    temp_df['GT'] = temp_df['NA12877'].map(lambda x: x.split(\":\")[0])  #drop fixed genotype calls that are now reference\n",
      "    drop_GT = ['0/0', '0|0']\n",
      "    temp_df = temp_df[~temp_df.GT.isin(drop_GT)]\n",
      "    del temp_df['GT']\n",
      "    \n",
      "    temp_df.to_csv(outfile, sep=\"\\t\", header=False, mode='a', index=False) #write to destination file\n",
      "    "
     ],
     "language": "python",
     "metadata": {},
     "outputs": [
      {
       "output_type": "stream",
       "stream": "stderr",
       "text": [
        "//anaconda/lib/python2.7/site-packages/pandas/io/parsers.py:1139: DtypeWarning: Columns (0) have mixed types. Specify dtype option on import or set low_memory=False.\n",
        "  data = self._reader.read(nrows)\n"
       ]
      }
     ],
     "prompt_number": 3
    },
    {
     "cell_type": "code",
     "collapsed": false,
     "input": [
      "#bgzip and tabix index new file\n",
      "!bgzip $outfile\n",
      "!tabix -p vcf $outfile_gz"
     ],
     "language": "python",
     "metadata": {},
     "outputs": [],
     "prompt_number": 4
    },
    {
     "cell_type": "code",
     "collapsed": false,
     "input": [],
     "language": "python",
     "metadata": {},
     "outputs": []
    }
   ],
   "metadata": {}
  }
 ]
}