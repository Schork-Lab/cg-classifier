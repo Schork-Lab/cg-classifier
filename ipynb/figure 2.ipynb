{
 "metadata": {
  "name": "",
  "signature": "sha256:eae1bfc771e1e535f093a65e0a05684e83b57d30060768a0867cb698c4b84c46"
 },
 "nbformat": 3,
 "nbformat_minor": 0,
 "worksheets": [
  {
   "cells": [
    {
     "cell_type": "code",
     "collapsed": false,
     "input": [
      "data_dir = '../data'\n",
      "import sys, os\n",
      "src_dir = '../cg-classifier/'\n",
      "sys.path.append(src_dir)\n",
      "import processing.variants, processing.statistics\n",
      "reload(processing.statistics)\n",
      "import pandas as pd\n",
      "import seaborn\n",
      "seaborn.set_context('poster')"
     ],
     "language": "python",
     "metadata": {},
     "outputs": [],
     "prompt_number": 1
    },
    {
     "cell_type": "code",
     "collapsed": false,
     "input": [
      "import cPickle"
     ],
     "language": "python",
     "metadata": {},
     "outputs": [],
     "prompt_number": 2
    },
    {
     "cell_type": "code",
     "collapsed": false,
     "input": [
      "%load_ext autoreload\n",
      "%autoreload 2"
     ],
     "language": "python",
     "metadata": {},
     "outputs": [
      {
       "output_type": "stream",
       "stream": "stdout",
       "text": [
        "The autoreload extension is already loaded. To reload it, use:\n",
        "  %reload_ext autoreload\n"
       ]
      }
     ],
     "prompt_number": 160
    },
    {
     "cell_type": "heading",
     "level": 3,
     "metadata": {},
     "source": [
      "Load Data"
     ]
    },
    {
     "cell_type": "code",
     "collapsed": false,
     "input": [
      "fp = cPickle.load(open('../data/20140803/na12878/NA12878_CGvsRTGphasing/fp_STATSFILE.pkl','rb'))\n",
      "tp = cPickle.load(open('../data/20140803/na12878/NA12878_CGvsRTGphasing/tp_STATSFILE.pkl','rb'))\n",
      "fp_cg_nist = cPickle.load(open('../data/20140803/na12878/NA12878_CGvsNISTbed//fp_STATSFILE.pkl','rb'))\n",
      "tp_cg_nist = cPickle.load(open('../data/20140803/na12878/NA12878_CGvsNISTbed/tp_STATSFILE.pkl','rb'))"
     ],
     "language": "python",
     "metadata": {},
     "outputs": []
    },
    {
     "cell_type": "code",
     "collapsed": false,
     "input": [
      "fp_rtg_nist = cPickle.load(open('../data/20140803/na12878/RTGvsNISThighconf_NA12878/fp_STATSFILE.pkl','rb'))\n",
      "fn_rtg_nist = cPickle.load(open('../data/20140803/na12878/RTGvsNISThighconf_NA12878/fn_STATSFILE.pkl','rb'))"
     ],
     "language": "python",
     "metadata": {},
     "outputs": [],
     "prompt_number": 64
    },
    {
     "cell_type": "heading",
     "level": 3,
     "metadata": {},
     "source": [
      "Plot plot plot plot plot"
     ]
    },
    {
     "cell_type": "code",
     "collapsed": false,
     "input": [
      "%pylab inline"
     ],
     "language": "python",
     "metadata": {},
     "outputs": [
      {
       "output_type": "stream",
       "stream": "stdout",
       "text": [
        "Populating the interactive namespace from numpy and matplotlib\n"
       ]
      }
     ],
     "prompt_number": 4
    },
    {
     "cell_type": "code",
     "collapsed": false,
     "input": [
      "from matplotlib import gridspec\n",
      "import figures.helpers"
     ],
     "language": "python",
     "metadata": {},
     "outputs": [],
     "prompt_number": 93
    },
    {
     "cell_type": "code",
     "collapsed": false,
     "input": [
      "from figures.helpers import get_count_df, plot_counts"
     ],
     "language": "python",
     "metadata": {},
     "outputs": [],
     "prompt_number": 161
    },
    {
     "cell_type": "code",
     "collapsed": false,
     "input": [
      "fig = plt.figure(figsize=(15, 3))\n",
      "gs = gridspec.GridSpec(1, 3, wspace=0.1)"
     ],
     "language": "python",
     "metadata": {},
     "outputs": [
      {
       "metadata": {},
       "output_type": "display_data",
       "text": [
        "<matplotlib.figure.Figure at 0x1404bbd0>"
       ]
      }
     ],
     "prompt_number": 162
    },
    {
     "cell_type": "heading",
     "level": 3,
     "metadata": {},
     "source": [
      "CG vs RTG"
     ]
    },
    {
     "cell_type": "code",
     "collapsed": false,
     "input": [
      "count_df = get_count_df([tp, fp])\n",
      "count_df.columns = ['CG + RTG', 'CG Only']\n",
      "colors = {'CG + RTG': '#67a9cf',\n",
      "          'CG Only': '#ef8a62'}\n",
      "ax = fig.add_subplot(gs[0,0])\n",
      "fig, ax = plot_counts(fig, ax, count_df, colors)\n",
      "ax.set_title('CG vs RTG', fontdict={'size': 12})\n"
     ],
     "language": "python",
     "metadata": {},
     "outputs": [
      {
       "metadata": {},
       "output_type": "pyout",
       "prompt_number": 177,
       "text": [
        "<matplotlib.text.Text at 0x2513b950>"
       ]
      }
     ],
     "prompt_number": 177
    },
    {
     "cell_type": "code",
     "collapsed": false,
     "input": [
      "count_df = count_df.applymap(lambda x: pow(10, x))\n",
      "count_df['PPV'] = count_df['CG + RTG']/count_df.sum(axis=1)\n",
      "count_df"
     ],
     "language": "python",
     "metadata": {},
     "outputs": [
      {
       "html": [
        "<div style=\"max-height:1000px;max-width:1500px;overflow:auto;\">\n",
        "<table border=\"1\" class=\"dataframe\">\n",
        "  <thead>\n",
        "    <tr style=\"text-align: right;\">\n",
        "      <th></th>\n",
        "      <th>CG + RTG</th>\n",
        "      <th>CG Only</th>\n",
        "      <th>PPV</th>\n",
        "    </tr>\n",
        "  </thead>\n",
        "  <tbody>\n",
        "    <tr>\n",
        "      <th>Insertion</th>\n",
        "      <td>  191025</td>\n",
        "      <td> 19279</td>\n",
        "      <td> 0.908328</td>\n",
        "    </tr>\n",
        "    <tr>\n",
        "      <th>Deletion</th>\n",
        "      <td>  197168</td>\n",
        "      <td> 12358</td>\n",
        "      <td> 0.941019</td>\n",
        "    </tr>\n",
        "    <tr>\n",
        "      <th>MNP</th>\n",
        "      <td>   36395</td>\n",
        "      <td>  4317</td>\n",
        "      <td> 0.893962</td>\n",
        "    </tr>\n",
        "    <tr>\n",
        "      <th>SNP</th>\n",
        "      <td> 3691634</td>\n",
        "      <td> 49139</td>\n",
        "      <td> 0.986864</td>\n",
        "    </tr>\n",
        "  </tbody>\n",
        "</table>\n",
        "</div>"
       ],
       "metadata": {},
       "output_type": "pyout",
       "prompt_number": 178,
       "text": [
        "           CG + RTG  CG Only       PPV\n",
        "Insertion    191025    19279  0.908328\n",
        "Deletion     197168    12358  0.941019\n",
        "MNP           36395     4317  0.893962\n",
        "SNP         3691634    49139  0.986864"
       ]
      }
     ],
     "prompt_number": 178
    },
    {
     "cell_type": "heading",
     "level": 3,
     "metadata": {},
     "source": [
      "CG vs NIST"
     ]
    },
    {
     "cell_type": "code",
     "collapsed": false,
     "input": [
      "count_df = get_count_df([tp_cg_nist, fp_cg_nist])\n",
      "count_df.columns = ['CG + NIST', 'CG Only']\n",
      "colors = {'CG + NIST': '#a6d96a',\n",
      "          'CG Only': '#ef8a62'}\n",
      "ax = fig.add_subplot(gs[0,1])\n",
      "fig, ax = plot_counts(fig, ax, count_df, colors)\n",
      "ax.set_title('CG vs NIST High Confidence', fontdict={'size': 12})\n",
      "ax.set_ylabel('')"
     ],
     "language": "python",
     "metadata": {},
     "outputs": [
      {
       "metadata": {},
       "output_type": "pyout",
       "prompt_number": 179,
       "text": [
        "<matplotlib.text.Text at 0x1880e110>"
       ]
      }
     ],
     "prompt_number": 179
    },
    {
     "cell_type": "code",
     "collapsed": false,
     "input": [
      "count_df = count_df.applymap(lambda x: pow(10, x))\n",
      "count_df['PPV'] = count_df['CG + NIST']/count_df.sum(axis=1)\n",
      "count_df"
     ],
     "language": "python",
     "metadata": {},
     "outputs": [
      {
       "html": [
        "<div style=\"max-height:1000px;max-width:1500px;overflow:auto;\">\n",
        "<table border=\"1\" class=\"dataframe\">\n",
        "  <thead>\n",
        "    <tr style=\"text-align: right;\">\n",
        "      <th></th>\n",
        "      <th>CG + NIST</th>\n",
        "      <th>CG Only</th>\n",
        "      <th>PPV</th>\n",
        "    </tr>\n",
        "  </thead>\n",
        "  <tbody>\n",
        "    <tr>\n",
        "      <th>Insertion</th>\n",
        "      <td>  193656</td>\n",
        "      <td> 16648</td>\n",
        "      <td> 0.920838</td>\n",
        "    </tr>\n",
        "    <tr>\n",
        "      <th>Deletion</th>\n",
        "      <td>  200401</td>\n",
        "      <td>  9125</td>\n",
        "      <td> 0.956449</td>\n",
        "    </tr>\n",
        "    <tr>\n",
        "      <th>MNP</th>\n",
        "      <td>   36570</td>\n",
        "      <td>  4142</td>\n",
        "      <td> 0.898261</td>\n",
        "    </tr>\n",
        "    <tr>\n",
        "      <th>SNP</th>\n",
        "      <td> 3702278</td>\n",
        "      <td> 38495</td>\n",
        "      <td> 0.989709</td>\n",
        "    </tr>\n",
        "  </tbody>\n",
        "</table>\n",
        "</div>"
       ],
       "metadata": {},
       "output_type": "pyout",
       "prompt_number": 180,
       "text": [
        "           CG + NIST  CG Only       PPV\n",
        "Insertion     193656    16648  0.920838\n",
        "Deletion      200401     9125  0.956449\n",
        "MNP            36570     4142  0.898261\n",
        "SNP          3702278    38495  0.989709"
       ]
      }
     ],
     "prompt_number": 180
    },
    {
     "cell_type": "heading",
     "level": 3,
     "metadata": {},
     "source": [
      "\n",
      "\n",
      "\n",
      "\n",
      "RTG vs NIST"
     ]
    },
    {
     "cell_type": "code",
     "collapsed": false,
     "input": [
      "count_df = get_count_df([fp_rtg_nist, fn_rtg_nist])\n",
      "count_df.columns = ['RTG Only', 'NIST Only']\n",
      "colors = {'NIST Only': '#a6d96a',\n",
      "          'RTG Only': '#67a9cf'}\n",
      "ax = fig.add_subplot(gs[0,2])\n",
      "fig, ax = plot_counts(fig, ax, count_df, colors)\n",
      "ax.set_title('RTG vs NIST High Confidence', fontdict={'size': 12})\n",
      "ax.set_ylim([0,7])\n",
      "ax.set_yticks([i for i in range(8)])\n",
      "ax.grid(True, axis='y')\n",
      "ax.set_ylabel('')\n"
     ],
     "language": "python",
     "metadata": {},
     "outputs": [
      {
       "metadata": {},
       "output_type": "pyout",
       "prompt_number": 144,
       "text": [
        "<matplotlib.text.Text at 0x2a11c390>"
       ]
      }
     ],
     "prompt_number": 144
    },
    {
     "cell_type": "code",
     "collapsed": false,
     "input": [
      "fig"
     ],
     "language": "python",
     "metadata": {},
     "outputs": [
      {
       "metadata": {},
       "output_type": "pyout",
       "png": "[encoded data removed]",
       "prompt_number": 145,
       "text": [
        "<matplotlib.figure.Figure at 0x264bf450>"
       ]
      }
     ],
     "prompt_number": 145
    }
   ],
   "metadata": {}
  }
 ]
}