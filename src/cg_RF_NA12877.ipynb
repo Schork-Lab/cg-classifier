{
 "metadata": {
  "name": ""
 },
 "nbformat": 3,
 "nbformat_minor": 0,
 "worksheets": [
  {
   "cells": [
    {
     "cell_type": "heading",
     "level": 1,
     "metadata": {},
     "source": [
      "Libraries"
     ]
    },
    {
     "cell_type": "code",
     "collapsed": false,
     "input": [
      "import pandas as pd\n",
      "import coord_to_hg19_seq as hg19\n",
      "from collections import Counter\n",
      "from IPython.display import HTML\n",
      "import pybedtools\n",
      "import os\n",
      "import subprocess"
     ],
     "language": "python",
     "metadata": {},
     "outputs": [],
     "prompt_number": 1
    },
    {
     "cell_type": "heading",
     "level": 3,
     "metadata": {},
     "source": [
      "pdVCF Functions"
     ]
    },
    {
     "cell_type": "code",
     "collapsed": false,
     "input": [
      "def __type_df(df):\n",
      "    ref = df['REF']\n",
      "    alt = df['ALT']\n",
      "    if is_snp(ref,alt): return 'snp'\n",
      "    elif is_mnp(ref,alt): return 'mnp'\n",
      "    elif is_insertion(ref,alt): return 'ins'\n",
      "    elif is_del(ref,alt): return 'del'\n",
      "    else: return 'indel or SV'\n",
      "\n",
      "def is_snp(ref,alt):\n",
      "    \"\"\" Return whether or not the variant is a SNP \"\"\"\n",
      "    if len(ref) != len(alt): return False\n",
      "    base_diff = [nt for i,nt in enumerate(alt) if ref[i] != alt[i]]\n",
      "    if len(base_diff) <=1:\n",
      "            return True\n",
      "    return False\n",
      "\n",
      "\n",
      "def is_mnp(ref,alt):\n",
      "    \"\"\" Return whether or not the variant is an MNP\"\"\"\n",
      "    if len(ref) > 1 and len(ref) == len(alt):\n",
      "        return True\n",
      "\n",
      "def is_insertion(ref,alt):\n",
      "    if len(ref) < len(alt):\n",
      "        return True\n",
      "    return False\n",
      "    \n",
      "def is_del(ref,alt):\n",
      "    if len(ref) > len(alt):\n",
      "        return True\n",
      "    return False"
     ],
     "language": "python",
     "metadata": {},
     "outputs": [],
     "prompt_number": 2
    },
    {
     "cell_type": "code",
     "collapsed": false,
     "input": [
      "def get_phase(line, sample_col):\n",
      "    '''\n",
      "    Returns phase status from a GT field\n",
      "    '''\n",
      "    if \"|\" in line[sample_col]:\n",
      "        return \"|\"\n",
      "    if \"/\" in line[sample_col]:\n",
      "        return \"/\"\n",
      "    else: return '-'\n",
      "\n",
      "def get_allele(line, sample_col, phase_col, allele_num=0):\n",
      "    allele_calls = line[sample_col].split(\":\")[0].split(line[phase_col])\n",
      "    alleles = [line['REF']]\n",
      "    alleles.extend(line['ALT'].split(\",\"))\n",
      "    try:\n",
      "        a1 = alleles[int(allele_calls[allele_num])]\n",
      "    except:\n",
      "        a1 = \".\"\n",
      "    return a1\n"
     ],
     "language": "python",
     "metadata": {},
     "outputs": [],
     "prompt_number": 3
    },
    {
     "cell_type": "code",
     "collapsed": false,
     "input": [
      "def vartype(line, allele_base_col):\n",
      "    ref = line['REF']\n",
      "    alt = line[allele_base_col]\n",
      "    if is_snp(ref,alt): return 'snp'\n",
      "    elif is_sv(ref,alt): return 'sv'\n",
      "    elif is_mnp(ref,alt): return 'mnp'\n",
      "    elif is_insertion(ref,alt): return 'ins'\n",
      "    elif is_del(ref,alt): return 'del'\n",
      "    else: return 'indel or SV'\n",
      "\n",
      "def is_snp(ref,alt):\n",
      "    \"\"\" Return whether or not the variant is a SNP \"\"\"\n",
      "    if len(ref) != len(alt): return False\n",
      "    base_diff = [nt for i,nt in enumerate(alt) if ref[i] != alt[i]]\n",
      "    if len(base_diff) <=1:\n",
      "            return True\n",
      "    return False\n",
      "\n",
      "def is_sv(ref,alt):\n",
      "    if \"[\" in alt or \"]\" in alt:\n",
      "        return True\n",
      "    return False\n",
      "\n",
      "def is_mnp(ref,alt):\n",
      "    \"\"\" Return whether or not the variant is an MNP\"\"\"\n",
      "    if len(ref) > 1 and len(ref) == len(alt):\n",
      "        return True\n",
      "    return False\n",
      "\n",
      "def is_insertion(ref,alt):\n",
      "    if len(ref) < len(alt):\n",
      "        return True\n",
      "    return False\n",
      "    \n",
      "def is_del(ref,alt):\n",
      "    if len(ref) > len(alt):\n",
      "        return True\n",
      "    return False"
     ],
     "language": "python",
     "metadata": {},
     "outputs": [],
     "prompt_number": 4
    },
    {
     "cell_type": "code",
     "collapsed": false,
     "input": [
      "def zygosity(line):\n",
      "    allele_set = set([line['a1'], line['a2'], line['REF']])\n",
      "    if len(allele_set) == 1:\n",
      "        return 'hom-ref'\n",
      "    if len(allele_set) ==2 and line['a1'] == line['a2']:\n",
      "        return 'hom-alt'\n",
      "    if len(allele_set) == 2 and line['a1'] != line['a2']:\n",
      "        return 'het-ref'\n",
      "    if len(allele_set) ==3:\n",
      "        return 'het-alt'\n",
      "    assert False"
     ],
     "language": "python",
     "metadata": {},
     "outputs": [],
     "prompt_number": 5
    },
    {
     "cell_type": "code",
     "collapsed": false,
     "input": [
      "def ref_read_depth(line):\n",
      "    dp = line['DP']\n",
      "    ad = line['AD'].replace(\".\",'0')\n",
      "    ad1, ad2 = ad.split(\",\")\n",
      "    if line['zygosity'] == 'het-ref':\n",
      "        if line['a1'] != line['REF']:\n",
      "            return  dp - int(ad1)\n",
      "        return dp - int(ad2)\n",
      "    if line['zygosity'] == 'hom-alt':\n",
      "        return  dp - int(ad2)\n",
      "    if line['zygosity'] == 'het-alt':\n",
      "        return  dp - sum([ int(a1), int(ad2) ] )\n",
      "    return dp"
     ],
     "language": "python",
     "metadata": {},
     "outputs": [],
     "prompt_number": 12
    },
    {
     "cell_type": "heading",
     "level": 1,
     "metadata": {},
     "source": [
      "Sample File Paths"
     ]
    },
    {
     "cell_type": "code",
     "collapsed": false,
     "input": [
      "tp_NA12877_tsv = '/gpfs/home/erscott/Datasets_raw/PlatinumGenomes/NA12877/NA12877_phasing/tp.tsv.gz'\n",
      "\n",
      "fp_NA12877_tsv = '/gpfs/home/erscott/Datasets_raw/PlatinumGenomes/NA12877/NA12877_phasing/fp.tsv.gz'\n"
     ],
     "language": "python",
     "metadata": {},
     "outputs": [],
     "prompt_number": 7
    },
    {
     "cell_type": "heading",
     "level": 1,
     "metadata": {},
     "source": [
      "RF Preprocessing"
     ]
    },
    {
     "cell_type": "code",
     "collapsed": false,
     "input": [
      "fp = pd.read_table(fp_NA12877_tsv,sep=\"\\t\",compression='gzip')\n",
      "#fp = fp.ix[:10000]\n",
      "\n",
      "tp = pd.read_table(tp_NA12877_tsv,sep=\"\\t\",compression='gzip')\n",
      "#tp = tp.ix[:100000]\n"
     ],
     "language": "python",
     "metadata": {},
     "outputs": [],
     "prompt_number": 8
    },
    {
     "cell_type": "code",
     "collapsed": false,
     "input": [
      "def multiallele_GL_formatting(df, gl_col):\n",
      "    GL_df = pd.DataFrame.from_records([i.split(\",\") for i in df[gl_col]], columns=['AA_'+gl_col, 'AB_'+gl_col, 'BB_'+gl_col, 'AC_'+gl_col, 'BC_'+gl_col, 'CC_'+gl_col])\n",
      "    GL_df.index = df.index\n",
      "    GL_df.fillna(value=-999,inplace=True)\n",
      "    df = df.join(GL_df)\n",
      "    return df\n",
      "\n",
      "\n",
      "def allele_col_formatting(df, al_col):\n",
      "    df[al_col + \"_1\"] = [int(i.split(\",\")[0]) if i.split(\",\")[0] != \".\" else -999 for i in df[al_col]]\n",
      "    df[al_col + \"_2\"] = [int(i.split(\",\")[1]) if i.split(\",\")[1] != \".\" else -999 for i in df[al_col]]\n",
      "    return df\n",
      "\n",
      "\n",
      "def categ_formatting(df, cat_col):\n",
      "    temp_dummies = pd.get_dummies(df[cat_col], prefix=cat_col)\n",
      "    df = df.join(temp_dummies, how='left')\n",
      "    return df\n",
      "\n",
      "\n"
     ],
     "language": "python",
     "metadata": {},
     "outputs": [],
     "prompt_number": 9
    },
    {
     "cell_type": "code",
     "collapsed": false,
     "input": [
      "\n",
      "def preprocess_vcf_line(df, index_features, allele_features, binary_features, categorical_features, geno_features, numeric_features):\n",
      "    '''\n",
      "    This function annotates vcf variants with\n",
      "    phase, allele1 base call, allele2 base call, \n",
      "    multiallele, vartype\n",
      "    '''\n",
      "    \n",
      "    discard_vars = ['<INS:ME:ALU>', '<INS:ME:L1>','<CGA_CNVWIN>','<INS:ME:SVA>']\n",
      "    df = df[~df.ALT.isin(discard_vars)]\n",
      "    \n",
      "    df['phase'] = df.apply(get_phase, args=['GT'], axis=1)\n",
      "    df['a1'] = df.apply(get_allele, args=['GT','phase', 0], axis=1)\n",
      "    df['a2'] = df.apply(get_allele, args=['GT','phase', 1], axis=1)\n",
      "    df['multiallele'] = df.ALT.map(lambda x: 1 if \",\" in x else 0)\n",
      "    df['zygosity'] = df.apply(zygosity, axis=1)\n",
      "    df['vartype1'] = df.apply(vartype,args=['a1'], axis=1)\n",
      "    df['vartype2'] = df.apply(vartype,args=['a2'], axis=1)\n",
      "    \n",
      "    df = df[(df.vartype1 != 'sv') & (df.vartype2 != 'sv')]\n",
      "    \n",
      "    df['AD'].fillna(value='0,0', inplace=True)\n",
      "    df['ref_read_depth'] = df.apply(ref_read_depth, axis=1)\n",
      "    \n",
      "    \n",
      "    \n",
      "    df.set_index(index_features, inplace=True)\n",
      "    \n",
      "    \n",
      "    #FORMATTING ALLELE-SPECIFIC FEATURES\n",
      "    df_allele = df[allele_features]\n",
      "    for a_cols in allele_features:\n",
      "        df_allele = allele_col_formatting(df_allele, a_cols)\n",
      "        del df_allele[a_cols]\n",
      "        \n",
      "    \n",
      "    #FORMATTING BINARY FEATURES\n",
      "    df_binary = df[binary_features]\n",
      "    for b in binary_features:\n",
      "        df_binary[b].fillna(value=0,inplace=True)\n",
      "        df_binary[b] = df_binary[b].map(lambda x: 1 if x!=0 else 0)\n",
      "        \n",
      "\n",
      "    #FORMATTING CATEGORICAL FEATURES\n",
      "    df_categ = df[categorical_features]\n",
      "    for c in categorical_features:\n",
      "        df_categ = categ_formatting(df_categ, c)\n",
      "        del df_categ[c]\n",
      "        \n",
      "        \n",
      "    #FORMATTING GENOTYPE FEATURES\n",
      "    df_geno = df[geno_features]\n",
      "    for g_cols in geno_features:\n",
      "        df_geno = multiallele_GL_formatting(df_geno, g_cols)\n",
      "        del df_geno[g_cols]\n",
      "        \n",
      "    \n",
      "    #FORMATTING NUMERIC FEATURES\n",
      "    df_numeric = df[numeric_features]\n",
      "    for n in numeric_features:\n",
      "        df_numeric[n] = df_numeric[n].astype(float)\n",
      "    \n",
      "    \n",
      "    #JOIN FORMATTED DATAFRAMES\n",
      "    df_train = df_numeric.join([df_categ, df_geno, df_allele, df_binary])\n",
      "    \n",
      "    return df_train"
     ],
     "language": "python",
     "metadata": {},
     "outputs": [],
     "prompt_number": 10
    },
    {
     "cell_type": "code",
     "collapsed": false,
     "input": [
      "index_features = ['CHROM', 'POS', 'REF', 'ALT']\n",
      "\n",
      "allele_features = ['HQ', 'EHQ', 'CGA_CEHQ', 'AD']\n",
      "binary_features = ['CGA_XR', 'CGA_RPT', 'multiallele']\n",
      "categorical_features = ['FT', 'vartype1', 'vartype2', 'phase', 'zygosity']\n",
      "geno_features = ['GL', 'CGA_CEGL']\n",
      "numeric_features = ['CGA_SDO', 'GQ', 'DP', 'CGA_RDP']\n",
      "\n",
      "\n",
      "fp_train = preprocess_vcf_line(fp.copy(), index_features, allele_features, binary_features, categorical_features, geno_features, numeric_features)        \n",
      "fp_train = fp_train[fp_train['DP'] > 0]  #removing variants without any read support\n",
      "fp_truth = fp_train[['HQ_1']]\n",
      "fp_truth['HQ_1'] = 0\n",
      "fp_truth.columns = ['truth']\n",
      "\n",
      "\n",
      "tp_train = preprocess_vcf_line(tp.copy(), index_features, allele_features, binary_features, categorical_features, geno_features, numeric_features)\n",
      "tp_train = tp_train[fp_train['DP'] > 0]\n",
      "tp_truth = tp_train[['HQ_1']]\n",
      "tp_truth['HQ_1'] = 1\n",
      "tp_truth.columns = ['truth']"
     ],
     "language": "python",
     "metadata": {},
     "outputs": [
      {
       "ename": "NameError",
       "evalue": "(\"global name 'a1' is not defined\", u'occurred at index 15')",
       "output_type": "pyerr",
       "traceback": [
        "\u001b[1;31m---------------------------------------------------------------------------\u001b[0m\n\u001b[1;31mNameError\u001b[0m                                 Traceback (most recent call last)",
        "\u001b[1;32m<ipython-input-13-f93b40ad27ea>\u001b[0m in \u001b[0;36m<module>\u001b[1;34m()\u001b[0m\n\u001b[0;32m      8\u001b[0m \u001b[1;33m\u001b[0m\u001b[0m\n\u001b[0;32m      9\u001b[0m \u001b[1;33m\u001b[0m\u001b[0m\n\u001b[1;32m---> 10\u001b[1;33m \u001b[0mfp_train\u001b[0m \u001b[1;33m=\u001b[0m \u001b[0mpreprocess_vcf_line\u001b[0m\u001b[1;33m(\u001b[0m\u001b[0mfp\u001b[0m\u001b[1;33m.\u001b[0m\u001b[0mcopy\u001b[0m\u001b[1;33m(\u001b[0m\u001b[1;33m)\u001b[0m\u001b[1;33m,\u001b[0m \u001b[0mindex_features\u001b[0m\u001b[1;33m,\u001b[0m \u001b[0mallele_features\u001b[0m\u001b[1;33m,\u001b[0m \u001b[0mbinary_features\u001b[0m\u001b[1;33m,\u001b[0m \u001b[0mcategorical_features\u001b[0m\u001b[1;33m,\u001b[0m \u001b[0mgeno_features\u001b[0m\u001b[1;33m,\u001b[0m \u001b[0mnumeric_features\u001b[0m\u001b[1;33m)\u001b[0m\u001b[1;33m\u001b[0m\u001b[0m\n\u001b[0m\u001b[0;32m     11\u001b[0m \u001b[0mfp_train\u001b[0m \u001b[1;33m=\u001b[0m \u001b[0mfp_train\u001b[0m\u001b[1;33m[\u001b[0m\u001b[0mfp_train\u001b[0m\u001b[1;33m[\u001b[0m\u001b[1;34m'DP'\u001b[0m\u001b[1;33m]\u001b[0m \u001b[1;33m>\u001b[0m \u001b[1;36m0\u001b[0m\u001b[1;33m]\u001b[0m  \u001b[1;31m#removing variants without any read support\u001b[0m\u001b[1;33m\u001b[0m\u001b[0m\n\u001b[0;32m     12\u001b[0m \u001b[0mfp_truth\u001b[0m \u001b[1;33m=\u001b[0m \u001b[0mfp_train\u001b[0m\u001b[1;33m[\u001b[0m\u001b[1;33m[\u001b[0m\u001b[1;34m'HQ_1'\u001b[0m\u001b[1;33m]\u001b[0m\u001b[1;33m]\u001b[0m\u001b[1;33m\u001b[0m\u001b[0m\n",
        "\u001b[1;32m<ipython-input-10-a20bc1ba23cc>\u001b[0m in \u001b[0;36mpreprocess_vcf_line\u001b[1;34m(df, index_features, allele_features, binary_features, categorical_features, geno_features, numeric_features)\u001b[0m\n\u001b[0;32m     21\u001b[0m \u001b[1;33m\u001b[0m\u001b[0m\n\u001b[0;32m     22\u001b[0m     \u001b[0mdf\u001b[0m\u001b[1;33m[\u001b[0m\u001b[1;34m'AD'\u001b[0m\u001b[1;33m]\u001b[0m\u001b[1;33m.\u001b[0m\u001b[0mfillna\u001b[0m\u001b[1;33m(\u001b[0m\u001b[0mvalue\u001b[0m\u001b[1;33m=\u001b[0m\u001b[1;34m'0,0'\u001b[0m\u001b[1;33m,\u001b[0m \u001b[0minplace\u001b[0m\u001b[1;33m=\u001b[0m\u001b[0mTrue\u001b[0m\u001b[1;33m)\u001b[0m\u001b[1;33m\u001b[0m\u001b[0m\n\u001b[1;32m---> 23\u001b[1;33m     \u001b[0mdf\u001b[0m\u001b[1;33m[\u001b[0m\u001b[1;34m'ref_read_depth'\u001b[0m\u001b[1;33m]\u001b[0m \u001b[1;33m=\u001b[0m \u001b[0mdf\u001b[0m\u001b[1;33m.\u001b[0m\u001b[0mapply\u001b[0m\u001b[1;33m(\u001b[0m\u001b[0mref_read_depth\u001b[0m\u001b[1;33m,\u001b[0m \u001b[0maxis\u001b[0m\u001b[1;33m=\u001b[0m\u001b[1;36m1\u001b[0m\u001b[1;33m)\u001b[0m\u001b[1;33m\u001b[0m\u001b[0m\n\u001b[0m\u001b[0;32m     24\u001b[0m \u001b[1;33m\u001b[0m\u001b[0m\n\u001b[0;32m     25\u001b[0m \u001b[1;33m\u001b[0m\u001b[0m\n",
        "\u001b[1;32m/gpfs/home/erscott/.local/lib/python2.7/site-packages/pandas-0.11.1.dev_3129fb3-py2.7-linux-x86_64.egg/pandas/core/frame.pyc\u001b[0m in \u001b[0;36mapply\u001b[1;34m(self, func, axis, broadcast, raw, args, **kwds)\u001b[0m\n\u001b[0;32m   4420\u001b[0m                     \u001b[1;32mreturn\u001b[0m \u001b[0mself\u001b[0m\u001b[1;33m.\u001b[0m\u001b[0m_apply_raw\u001b[0m\u001b[1;33m(\u001b[0m\u001b[0mf\u001b[0m\u001b[1;33m,\u001b[0m \u001b[0maxis\u001b[0m\u001b[1;33m)\u001b[0m\u001b[1;33m\u001b[0m\u001b[0m\n\u001b[0;32m   4421\u001b[0m                 \u001b[1;32melse\u001b[0m\u001b[1;33m:\u001b[0m\u001b[1;33m\u001b[0m\u001b[0m\n\u001b[1;32m-> 4422\u001b[1;33m                     \u001b[1;32mreturn\u001b[0m \u001b[0mself\u001b[0m\u001b[1;33m.\u001b[0m\u001b[0m_apply_standard\u001b[0m\u001b[1;33m(\u001b[0m\u001b[0mf\u001b[0m\u001b[1;33m,\u001b[0m \u001b[0maxis\u001b[0m\u001b[1;33m)\u001b[0m\u001b[1;33m\u001b[0m\u001b[0m\n\u001b[0m\u001b[0;32m   4423\u001b[0m             \u001b[1;32melse\u001b[0m\u001b[1;33m:\u001b[0m\u001b[1;33m\u001b[0m\u001b[0m\n\u001b[0;32m   4424\u001b[0m                 \u001b[1;32mreturn\u001b[0m \u001b[0mself\u001b[0m\u001b[1;33m.\u001b[0m\u001b[0m_apply_broadcast\u001b[0m\u001b[1;33m(\u001b[0m\u001b[0mf\u001b[0m\u001b[1;33m,\u001b[0m \u001b[0maxis\u001b[0m\u001b[1;33m)\u001b[0m\u001b[1;33m\u001b[0m\u001b[0m\n",
        "\u001b[1;32m/gpfs/home/erscott/.local/lib/python2.7/site-packages/pandas-0.11.1.dev_3129fb3-py2.7-linux-x86_64.egg/pandas/core/frame.pyc\u001b[0m in \u001b[0;36m_apply_standard\u001b[1;34m(self, func, axis, ignore_failures)\u001b[0m\n\u001b[0;32m   4495\u001b[0m                     \u001b[1;31m# no k defined yet\u001b[0m\u001b[1;33m\u001b[0m\u001b[1;33m\u001b[0m\u001b[0m\n\u001b[0;32m   4496\u001b[0m                     \u001b[1;32mpass\u001b[0m\u001b[1;33m\u001b[0m\u001b[0m\n\u001b[1;32m-> 4497\u001b[1;33m                 \u001b[1;32mraise\u001b[0m \u001b[0me\u001b[0m\u001b[1;33m\u001b[0m\u001b[0m\n\u001b[0m\u001b[0;32m   4498\u001b[0m \u001b[1;33m\u001b[0m\u001b[0m\n\u001b[0;32m   4499\u001b[0m \u001b[1;33m\u001b[0m\u001b[0m\n",
        "\u001b[1;31mNameError\u001b[0m: (\"global name 'a1' is not defined\", u'occurred at index 15')"
       ]
      }
     ],
     "prompt_number": 13
    },
    {
     "cell_type": "code",
     "collapsed": false,
     "input": [
      "fp_train[fp_train.DP==1][['AD_1','AD_2','DP']].head(20)"
     ],
     "language": "python",
     "metadata": {},
     "outputs": [
      {
       "html": [
        "<div style=\"max-height:1000px;max-width:1500px;overflow:auto;\">\n",
        "<table border=\"1\" class=\"dataframe\">\n",
        "  <thead>\n",
        "    <tr style=\"text-align: right;\">\n",
        "      <th></th>\n",
        "      <th></th>\n",
        "      <th></th>\n",
        "      <th></th>\n",
        "      <th>AD_1</th>\n",
        "      <th>AD_2</th>\n",
        "      <th>DP</th>\n",
        "    </tr>\n",
        "    <tr>\n",
        "      <th>CHROM</th>\n",
        "      <th>POS</th>\n",
        "      <th>REF</th>\n",
        "      <th>ALT</th>\n",
        "      <th></th>\n",
        "      <th></th>\n",
        "      <th></th>\n",
        "    </tr>\n",
        "  </thead>\n",
        "  <tbody>\n",
        "    <tr>\n",
        "      <th rowspan=\"20\" valign=\"top\">1</th>\n",
        "      <th>161483  </th>\n",
        "      <th>C</th>\n",
        "      <th>G</th>\n",
        "      <td>   0</td>\n",
        "      <td>   0</td>\n",
        "      <td> 1</td>\n",
        "    </tr>\n",
        "    <tr>\n",
        "      <th>171032  </th>\n",
        "      <th>C</th>\n",
        "      <th>T</th>\n",
        "      <td>   0</td>\n",
        "      <td>   1</td>\n",
        "      <td> 1</td>\n",
        "    </tr>\n",
        "    <tr>\n",
        "      <th>338711  </th>\n",
        "      <th>T</th>\n",
        "      <th>G</th>\n",
        "      <td>   1</td>\n",
        "      <td>   1</td>\n",
        "      <td> 1</td>\n",
        "    </tr>\n",
        "    <tr>\n",
        "      <th>354065  </th>\n",
        "      <th>A</th>\n",
        "      <th>G</th>\n",
        "      <td>   1</td>\n",
        "      <td>   1</td>\n",
        "      <td> 1</td>\n",
        "    </tr>\n",
        "    <tr>\n",
        "      <th>12961958</th>\n",
        "      <th>T</th>\n",
        "      <th>C</th>\n",
        "      <td>   1</td>\n",
        "      <td>   1</td>\n",
        "      <td> 1</td>\n",
        "    </tr>\n",
        "    <tr>\n",
        "      <th>12964247</th>\n",
        "      <th>T</th>\n",
        "      <th>G</th>\n",
        "      <td>   1</td>\n",
        "      <td>   1</td>\n",
        "      <td> 1</td>\n",
        "    </tr>\n",
        "    <tr>\n",
        "      <th>13034557</th>\n",
        "      <th>C</th>\n",
        "      <th>G</th>\n",
        "      <td>   0</td>\n",
        "      <td>   0</td>\n",
        "      <td> 1</td>\n",
        "    </tr>\n",
        "    <tr>\n",
        "      <th>13350395</th>\n",
        "      <th>T</th>\n",
        "      <th>C</th>\n",
        "      <td>   1</td>\n",
        "      <td>   1</td>\n",
        "      <td> 1</td>\n",
        "    </tr>\n",
        "    <tr>\n",
        "      <th>13370427</th>\n",
        "      <th>G</th>\n",
        "      <th>C</th>\n",
        "      <td>   1</td>\n",
        "      <td>   1</td>\n",
        "      <td> 1</td>\n",
        "    </tr>\n",
        "    <tr>\n",
        "      <th>13384851</th>\n",
        "      <th>CT</th>\n",
        "      <th>C</th>\n",
        "      <td>   0</td>\n",
        "      <td>   0</td>\n",
        "      <td> 1</td>\n",
        "    </tr>\n",
        "    <tr>\n",
        "      <th>21145865</th>\n",
        "      <th>CAGTGGCACTATCAAGGCTCACTGCAGCCTTGACCTCCGATTG</th>\n",
        "      <th>CAGTGGCACTATCAAGGCTCACCGCAGCCTTGACCTCCGATTG</th>\n",
        "      <td>   1</td>\n",
        "      <td>-999</td>\n",
        "      <td> 1</td>\n",
        "    </tr>\n",
        "    <tr>\n",
        "      <th>22344515</th>\n",
        "      <th>T</th>\n",
        "      <th>C</th>\n",
        "      <td>   1</td>\n",
        "      <td>-999</td>\n",
        "      <td> 1</td>\n",
        "    </tr>\n",
        "    <tr>\n",
        "      <th>23465566</th>\n",
        "      <th>TATAATGTGTGTGTATATATA</th>\n",
        "      <th>TATAATGTGTGTGTTTATATA</th>\n",
        "      <td>   1</td>\n",
        "      <td>-999</td>\n",
        "      <td> 1</td>\n",
        "    </tr>\n",
        "    <tr>\n",
        "      <th>29121263</th>\n",
        "      <th>GAA</th>\n",
        "      <th>GAT</th>\n",
        "      <td>-999</td>\n",
        "      <td>   1</td>\n",
        "      <td> 1</td>\n",
        "    </tr>\n",
        "    <tr>\n",
        "      <th>30838490</th>\n",
        "      <th>G</th>\n",
        "      <th>A</th>\n",
        "      <td>   0</td>\n",
        "      <td>-999</td>\n",
        "      <td> 1</td>\n",
        "    </tr>\n",
        "    <tr>\n",
        "      <th>39859911</th>\n",
        "      <th>TTTGA</th>\n",
        "      <th>T</th>\n",
        "      <td>   1</td>\n",
        "      <td>   0</td>\n",
        "      <td> 1</td>\n",
        "    </tr>\n",
        "    <tr>\n",
        "      <th>39989651</th>\n",
        "      <th>A</th>\n",
        "      <th>AAC</th>\n",
        "      <td>   1</td>\n",
        "      <td>-999</td>\n",
        "      <td> 1</td>\n",
        "    </tr>\n",
        "    <tr>\n",
        "      <th>45866697</th>\n",
        "      <th>TAAA</th>\n",
        "      <th>TAAAA</th>\n",
        "      <td>   1</td>\n",
        "      <td>-999</td>\n",
        "      <td> 1</td>\n",
        "    </tr>\n",
        "    <tr>\n",
        "      <th>46699174</th>\n",
        "      <th>GATCTCGATCTCCTGACCTCGTGATCAAGCCCACCTTGGCCTCCCAAAGTG</th>\n",
        "      <th>GATCTCGATCTCCCGACCTCGTGATCAAGCCCACCTTGGCCTCCCAAAGTG</th>\n",
        "      <td>   1</td>\n",
        "      <td>-999</td>\n",
        "      <td> 1</td>\n",
        "    </tr>\n",
        "    <tr>\n",
        "      <th>52017233</th>\n",
        "      <th>CATTT</th>\n",
        "      <th>C</th>\n",
        "      <td>   1</td>\n",
        "      <td>-999</td>\n",
        "      <td> 1</td>\n",
        "    </tr>\n",
        "  </tbody>\n",
        "</table>\n",
        "</div>"
       ],
       "metadata": {},
       "output_type": "pyout",
       "prompt_number": 89,
       "text": [
        "                                                                                                                        AD_1  AD_2  DP\n",
        "CHROM POS      REF                                                 ALT                                                                \n",
        "1     161483   C                                                   G                                                       0     0   1\n",
        "      171032   C                                                   T                                                       0     1   1\n",
        "      338711   T                                                   G                                                       1     1   1\n",
        "      354065   A                                                   G                                                       1     1   1\n",
        "      12961958 T                                                   C                                                       1     1   1\n",
        "      12964247 T                                                   G                                                       1     1   1\n",
        "      13034557 C                                                   G                                                       0     0   1\n",
        "      13350395 T                                                   C                                                       1     1   1\n",
        "      13370427 G                                                   C                                                       1     1   1\n",
        "      13384851 CT                                                  C                                                       0     0   1\n",
        "      21145865 CAGTGGCACTATCAAGGCTCACTGCAGCCTTGACCTCCGATTG         CAGTGGCACTATCAAGGCTCACCGCAGCCTTGACCTCCGATTG             1  -999   1\n",
        "      22344515 T                                                   C                                                       1  -999   1\n",
        "      23465566 TATAATGTGTGTGTATATATA                               TATAATGTGTGTGTTTATATA                                   1  -999   1\n",
        "      29121263 GAA                                                 GAT                                                  -999     1   1\n",
        "      30838490 G                                                   A                                                       0  -999   1\n",
        "      39859911 TTTGA                                               T                                                       1     0   1\n",
        "      39989651 A                                                   AAC                                                     1  -999   1\n",
        "      45866697 TAAA                                                TAAAA                                                   1  -999   1\n",
        "      46699174 GATCTCGATCTCCTGACCTCGTGATCAAGCCCACCTTGGCCTCCCAAAGTG GATCTCGATCTCCCGACCTCGTGATCAAGCCCACCTTGGCCTCCCAAAGTG     1  -999   1\n",
        "      52017233 CATTT                                               C                                                       1  -999   1"
       ]
      }
     ],
     "prompt_number": 89
    },
    {
     "cell_type": "code",
     "collapsed": false,
     "input": [
      "training_set = tp_train.append(fp_train) \n",
      "training_set.CGA_SDO.fillna(value=0, inplace=True)\n",
      "training_set.GQ.fillna(value=-999, inplace=True)\n",
      "\n",
      "\n",
      "training_truth = tp_truth.append(fp_truth)"
     ],
     "language": "python",
     "metadata": {},
     "outputs": [],
     "prompt_number": 187
    },
    {
     "cell_type": "code",
     "collapsed": false,
     "input": [
      "training_set['truth'] = training_truth.values\n",
      "training_set.to_csv('/gpfs/home/erscott/Datasets_raw/PlatinumGenomes/NA12877/NA12877_phasing/NA12877_preprocessed_training_set.txt', sep=\"\\t\")         \n",
      "\n"
     ],
     "language": "python",
     "metadata": {},
     "outputs": [],
     "prompt_number": 251
    },
    {
     "cell_type": "code",
     "collapsed": false,
     "input": [
      "training_set = pd.read_table('/gpfs/home/erscott/Datasets_raw/PlatinumGenomes/NA12877/NA12877_phasing/NA12877_preprocessed_training_set.txt', sep=\"\\t\")   \n",
      "training_set.set_index(['CHROM', 'POS', 'REF', 'ALT'],inplace=True)\n",
      "training_truth = training_set['truth']\n",
      "del training_set['truth']"
     ],
     "language": "python",
     "metadata": {},
     "outputs": [],
     "prompt_number": 80
    },
    {
     "cell_type": "code",
     "collapsed": false,
     "input": [
      "training_set[(training_set.AD_1==0) & (training_set.AD_2==0) & (training_set.DP==0)].head()[training_set.columns[:20]]           "
     ],
     "language": "python",
     "metadata": {},
     "outputs": [
      {
       "output_type": "stream",
       "stream": "stderr",
       "text": [
        "/gpfs/home/erscott/.local/lib/python2.7/site-packages/pandas-0.11.1.dev_3129fb3-py2.7-linux-x86_64.egg/pandas/core/config.py:570: DeprecationWarning: height has been deprecated.\n",
        "\n",
        "  warnings.warn(d.msg, DeprecationWarning)\n",
        "/gpfs/home/erscott/.local/lib/python2.7/site-packages/pandas-0.11.1.dev_3129fb3-py2.7-linux-x86_64.egg/pandas/core/config.py:570: DeprecationWarning: height has been deprecated.\n",
        "\n",
        "  warnings.warn(d.msg, DeprecationWarning)\n",
        "/gpfs/home/erscott/.local/lib/python2.7/site-packages/pandas-0.11.1.dev_3129fb3-py2.7-linux-x86_64.egg/pandas/core/config.py:570: DeprecationWarning: height has been deprecated.\n",
        "\n",
        "  warnings.warn(d.msg, DeprecationWarning)\n"
       ]
      },
      {
       "html": [
        "<div style=\"max-height:1000px;max-width:1500px;overflow:auto;\">\n",
        "<table border=\"1\" class=\"dataframe\">\n",
        "  <thead>\n",
        "    <tr style=\"text-align: right;\">\n",
        "      <th></th>\n",
        "      <th></th>\n",
        "      <th></th>\n",
        "      <th></th>\n",
        "      <th>CGA_SDO</th>\n",
        "      <th>GQ</th>\n",
        "      <th>DP</th>\n",
        "      <th>CGA_RDP</th>\n",
        "      <th>FT_PASS</th>\n",
        "      <th>FT_VQLOW</th>\n",
        "      <th>AA_GL</th>\n",
        "      <th>AB_GL</th>\n",
        "      <th>BB_GL</th>\n",
        "      <th>AC_GL</th>\n",
        "      <th>BC_GL</th>\n",
        "      <th>CC_GL</th>\n",
        "      <th>AA_CGA_CEGL</th>\n",
        "      <th>AB_CGA_CEGL</th>\n",
        "      <th>BB_CGA_CEGL</th>\n",
        "      <th>AC_CGA_CEGL</th>\n",
        "      <th>BC_CGA_CEGL</th>\n",
        "      <th>CC_CGA_CEGL</th>\n",
        "      <th>HQ_1</th>\n",
        "      <th>HQ_2</th>\n",
        "    </tr>\n",
        "    <tr>\n",
        "      <th>CHROM</th>\n",
        "      <th>POS</th>\n",
        "      <th>REF</th>\n",
        "      <th>ALT</th>\n",
        "      <th></th>\n",
        "      <th></th>\n",
        "      <th></th>\n",
        "      <th></th>\n",
        "      <th></th>\n",
        "      <th></th>\n",
        "      <th></th>\n",
        "      <th></th>\n",
        "      <th></th>\n",
        "      <th></th>\n",
        "      <th></th>\n",
        "      <th></th>\n",
        "      <th></th>\n",
        "      <th></th>\n",
        "      <th></th>\n",
        "      <th></th>\n",
        "      <th></th>\n",
        "      <th></th>\n",
        "      <th></th>\n",
        "      <th></th>\n",
        "    </tr>\n",
        "  </thead>\n",
        "  <tbody>\n",
        "    <tr>\n",
        "      <th rowspan=\"5\" valign=\"top\">1</th>\n",
        "      <th>633582   </th>\n",
        "      <th>C</th>\n",
        "      <th>T</th>\n",
        "      <td> 11</td>\n",
        "      <td> 54</td>\n",
        "      <td> 0</td>\n",
        "      <td> 0</td>\n",
        "      <td> 1</td>\n",
        "      <td> 0</td>\n",
        "      <td>-125</td>\n",
        "      <td>-54</td>\n",
        "      <td> 0</td>\n",
        "      <td>-999</td>\n",
        "      <td>-999</td>\n",
        "      <td>-999</td>\n",
        "      <td>-45</td>\n",
        "      <td>-44</td>\n",
        "      <td> 0</td>\n",
        "      <td>-999</td>\n",
        "      <td>-999</td>\n",
        "      <td>-999</td>\n",
        "      <td> 125</td>\n",
        "      <td> 54</td>\n",
        "    </tr>\n",
        "    <tr>\n",
        "      <th>634458   </th>\n",
        "      <th>A</th>\n",
        "      <th>G</th>\n",
        "      <td> 11</td>\n",
        "      <td> 55</td>\n",
        "      <td> 0</td>\n",
        "      <td> 0</td>\n",
        "      <td> 1</td>\n",
        "      <td> 0</td>\n",
        "      <td>-120</td>\n",
        "      <td>-55</td>\n",
        "      <td> 0</td>\n",
        "      <td>-999</td>\n",
        "      <td>-999</td>\n",
        "      <td>-999</td>\n",
        "      <td>-45</td>\n",
        "      <td>-43</td>\n",
        "      <td> 0</td>\n",
        "      <td>-999</td>\n",
        "      <td>-999</td>\n",
        "      <td>-999</td>\n",
        "      <td> 120</td>\n",
        "      <td> 55</td>\n",
        "    </tr>\n",
        "    <tr>\n",
        "      <th>13030063 </th>\n",
        "      <th>T</th>\n",
        "      <th>C</th>\n",
        "      <td>  4</td>\n",
        "      <td> 59</td>\n",
        "      <td> 0</td>\n",
        "      <td> 0</td>\n",
        "      <td> 1</td>\n",
        "      <td> 0</td>\n",
        "      <td>-121</td>\n",
        "      <td>-59</td>\n",
        "      <td> 0</td>\n",
        "      <td>-999</td>\n",
        "      <td>-999</td>\n",
        "      <td>-999</td>\n",
        "      <td>-46</td>\n",
        "      <td>-43</td>\n",
        "      <td> 0</td>\n",
        "      <td>-999</td>\n",
        "      <td>-999</td>\n",
        "      <td>-999</td>\n",
        "      <td> 121</td>\n",
        "      <td> 59</td>\n",
        "    </tr>\n",
        "    <tr>\n",
        "      <th>13366432 </th>\n",
        "      <th>C</th>\n",
        "      <th>G</th>\n",
        "      <td>  6</td>\n",
        "      <td> 39</td>\n",
        "      <td> 0</td>\n",
        "      <td> 0</td>\n",
        "      <td> 1</td>\n",
        "      <td> 0</td>\n",
        "      <td> -89</td>\n",
        "      <td>-39</td>\n",
        "      <td> 0</td>\n",
        "      <td>-999</td>\n",
        "      <td>-999</td>\n",
        "      <td>-999</td>\n",
        "      <td>-37</td>\n",
        "      <td>-36</td>\n",
        "      <td> 0</td>\n",
        "      <td>-999</td>\n",
        "      <td>-999</td>\n",
        "      <td>-999</td>\n",
        "      <td>  89</td>\n",
        "      <td> 39</td>\n",
        "    </tr>\n",
        "    <tr>\n",
        "      <th>120852601</th>\n",
        "      <th>T</th>\n",
        "      <th>C</th>\n",
        "      <td>  3</td>\n",
        "      <td> 83</td>\n",
        "      <td> 0</td>\n",
        "      <td> 0</td>\n",
        "      <td> 1</td>\n",
        "      <td> 0</td>\n",
        "      <td>-183</td>\n",
        "      <td>-83</td>\n",
        "      <td> 0</td>\n",
        "      <td>-999</td>\n",
        "      <td>-999</td>\n",
        "      <td>-999</td>\n",
        "      <td>-48</td>\n",
        "      <td>-48</td>\n",
        "      <td> 0</td>\n",
        "      <td>-999</td>\n",
        "      <td>-999</td>\n",
        "      <td>-999</td>\n",
        "      <td> 183</td>\n",
        "      <td> 83</td>\n",
        "    </tr>\n",
        "  </tbody>\n",
        "</table>\n",
        "</div>"
       ],
       "metadata": {},
       "output_type": "pyout",
       "prompt_number": 109,
       "text": [
        "                         CGA_SDO  GQ  DP  CGA_RDP  FT_PASS  FT_VQLOW  AA_GL  \\\n",
        "CHROM POS       REF ALT                                                       \n",
        "1     633582    C   T         11  54   0        0        1         0   -125   \n",
        "      634458    A   G         11  55   0        0        1         0   -120   \n",
        "      13030063  T   C          4  59   0        0        1         0   -121   \n",
        "      13366432  C   G          6  39   0        0        1         0    -89   \n",
        "      120852601 T   C          3  83   0        0        1         0   -183   \n",
        "\n",
        "                         AB_GL  BB_GL  AC_GL  BC_GL  CC_GL  AA_CGA_CEGL  \\\n",
        "CHROM POS       REF ALT                                                   \n",
        "1     633582    C   T      -54      0   -999   -999   -999          -45   \n",
        "      634458    A   G      -55      0   -999   -999   -999          -45   \n",
        "      13030063  T   C      -59      0   -999   -999   -999          -46   \n",
        "      13366432  C   G      -39      0   -999   -999   -999          -37   \n",
        "      120852601 T   C      -83      0   -999   -999   -999          -48   \n",
        "\n",
        "                         AB_CGA_CEGL  BB_CGA_CEGL  AC_CGA_CEGL  BC_CGA_CEGL  \\\n",
        "CHROM POS       REF ALT                                                       \n",
        "1     633582    C   T            -44            0         -999         -999   \n",
        "      634458    A   G            -43            0         -999         -999   \n",
        "      13030063  T   C            -43            0         -999         -999   \n",
        "      13366432  C   G            -36            0         -999         -999   \n",
        "      120852601 T   C            -48            0         -999         -999   \n",
        "\n",
        "                         CC_CGA_CEGL  HQ_1  HQ_2  \n",
        "CHROM POS       REF ALT                           \n",
        "1     633582    C   T           -999   125    54  \n",
        "      634458    A   G           -999   120    55  \n",
        "      13030063  T   C           -999   121    59  \n",
        "      13366432  C   G           -999    89    39  \n",
        "      120852601 T   C           -999   183    83  "
       ]
      }
     ],
     "prompt_number": 109
    },
    {
     "cell_type": "heading",
     "level": 2,
     "metadata": {},
     "source": [
      "DETERMINISTIC FALSE VARIANT CALLS"
     ]
    },
    {
     "cell_type": "raw",
     "metadata": {},
     "source": [
      "DETERMINISTIC FALSE VARIANT CALLS\n",
      "1) WHEN NO READS SUPPORT THE ALT ALLELE\n",
      "2) "
     ]
    },
    {
     "cell_type": "heading",
     "level": 1,
     "metadata": {},
     "source": [
      "TRAINING LOGISTIC REGRESSION MODEL"
     ]
    },
    {
     "cell_type": "code",
     "collapsed": false,
     "input": [
      "from sklearn import linear_model\n",
      "lm = linear_model.LogisticRegression(penalty='l1',C=1)\n",
      "lm_train = lm.fit(training_set, training_truth)\n"
     ],
     "language": "python",
     "metadata": {},
     "outputs": [],
     "prompt_number": 98
    },
    {
     "cell_type": "code",
     "collapsed": false,
     "input": [
      "lm_predictions = lm_train.predict(test_set)"
     ],
     "language": "python",
     "metadata": {},
     "outputs": [],
     "prompt_number": 87
    },
    {
     "cell_type": "code",
     "collapsed": false,
     "input": [
      "lm_train.score(test_set, test_truth)"
     ],
     "language": "python",
     "metadata": {},
     "outputs": [
      {
       "metadata": {},
       "output_type": "pyout",
       "prompt_number": 99,
       "text": [
        "0.94615489562963295"
       ]
      }
     ],
     "prompt_number": 99
    },
    {
     "cell_type": "code",
     "collapsed": false,
     "input": [
      "fp,tp = get_fp_tp_predictions(test_set, test_truth, lm_train)\n"
     ],
     "language": "python",
     "metadata": {},
     "outputs": [],
     "prompt_number": 100
    },
    {
     "cell_type": "code",
     "collapsed": false,
     "input": [
      "fp.predictions.value_counts()"
     ],
     "language": "python",
     "metadata": {},
     "outputs": [
      {
       "metadata": {},
       "output_type": "pyout",
       "prompt_number": 101,
       "text": [
        "0    8138\n",
        "1    1861\n",
        "dtype: int64"
       ]
      }
     ],
     "prompt_number": 101
    },
    {
     "cell_type": "code",
     "collapsed": false,
     "input": [
      "tp.predictions.value_counts()"
     ],
     "language": "python",
     "metadata": {},
     "outputs": [
      {
       "metadata": {},
       "output_type": "pyout",
       "prompt_number": 102,
       "text": [
        "1    95887\n",
        "0     4059\n",
        "dtype: int64"
       ]
      }
     ],
     "prompt_number": 102
    },
    {
     "cell_type": "heading",
     "level": 1,
     "metadata": {},
     "source": [
      "TRAINING RF MODEL"
     ]
    },
    {
     "cell_type": "code",
     "collapsed": false,
     "input": [
      "\n",
      "from sklearn.ensemble import RandomForestClassifier\n",
      "clf = RandomForestClassifier(n_estimators=500,n_jobs=8, oob_score=True, criterion='entropy', min_samples_split=4, min_samples_leaf=2)"
     ],
     "language": "python",
     "metadata": {},
     "outputs": [],
     "prompt_number": 81
    },
    {
     "cell_type": "code",
     "collapsed": false,
     "input": [
      "clf1 = clf.fit(training_set, training_truth)  #About 10 minutes with 8 jobs"
     ],
     "language": "python",
     "metadata": {},
     "outputs": [],
     "prompt_number": 82
    },
    {
     "cell_type": "code",
     "collapsed": false,
     "input": [
      "zip(training_set.columns, clf1.feature_importances_)"
     ],
     "language": "python",
     "metadata": {},
     "outputs": [
      {
       "metadata": {},
       "output_type": "pyout",
       "prompt_number": 57,
       "text": [
        "[('CGA_SDO', 0.028642751188575996),\n",
        " ('GQ', 0.092770442949257736),\n",
        " ('DP', 0.032042106964908237),\n",
        " ('CGA_RDP', 0.026787470838009742),\n",
        " ('FT_PASS', 0.0028971545580129907),\n",
        " ('FT_VQLOW', 0.0046320098279106717),\n",
        " ('AA_GL', 0.063341635048820885),\n",
        " ('AB_GL', 0.015492734839059464),\n",
        " ('BB_GL', 0.025199278783114398),\n",
        " ('AC_GL', 0.00040708931422238533),\n",
        " ('BC_GL', 0.00014306949105509129),\n",
        " ('CC_GL', 0.00040955660465591713),\n",
        " ('AA_CGA_CEGL', 0.095177102000957567),\n",
        " ('AB_CGA_CEGL', 0.015130127869611418),\n",
        " ('BB_CGA_CEGL', 0.015081875564573266),\n",
        " ('AC_CGA_CEGL', 0.00034801171284694706),\n",
        " ('BC_CGA_CEGL', 0.00015147032944665974),\n",
        " ('CC_CGA_CEGL', 0.00032666834722312309),\n",
        " ('HQ_1', 0.031237679722767281),\n",
        " ('HQ_2', 0.072741388544702329),\n",
        " ('EHQ_1', 0.03864790271297374),\n",
        " ('EHQ_2', 0.10794889890055864),\n",
        " ('CGA_CEHQ_1', 0.072011116718504173),\n",
        " ('CGA_CEHQ_2', 0.13372639309612255),\n",
        " ('AD_1', 0.038138967567020489),\n",
        " ('AD_2', 0.050126100551876634),\n",
        " ('CGA_XR', 0.030056076104467335),\n",
        " ('CGA_RPT', 0.0063849198487442443)]"
       ]
      }
     ],
     "prompt_number": 57
    },
    {
     "cell_type": "code",
     "collapsed": false,
     "input": [
      "clf1.oob_score_"
     ],
     "language": "python",
     "metadata": {},
     "outputs": [
      {
       "metadata": {},
       "output_type": "pyout",
       "prompt_number": 58,
       "text": [
        "0.91857273192906075"
       ]
      }
     ],
     "prompt_number": 58
    },
    {
     "cell_type": "code",
     "collapsed": false,
     "input": [
      "print 'DONE ERICK!'"
     ],
     "language": "python",
     "metadata": {},
     "outputs": [
      {
       "output_type": "stream",
       "stream": "stdout",
       "text": [
        "DONE ERICK!\n"
       ]
      }
     ],
     "prompt_number": 17
    },
    {
     "cell_type": "heading",
     "level": 2,
     "metadata": {},
     "source": [
      "TESTING RF CLASSIFIER"
     ]
    },
    {
     "cell_type": "code",
     "collapsed": false,
     "input": [
      "tp_NA12878_tsv = '/gpfs/home/erscott/Datasets_raw/PlatinumGenomes/NA12878/NA12878_phasing/tp.tsv.gz'\n",
      "\n",
      "fp_NA12878_tsv = '/gpfs/home/erscott/Datasets_raw/PlatinumGenomes/NA12878/NA12878_phasing/fp.tsv.gz'\n",
      "\n",
      "test_fp = pd.read_table(fp_NA12878_tsv,sep=\"\\t\",compression='gzip', nrows=10000)\n",
      "#test_fp = test_fp.ix[:10000]\n",
      "\n",
      "test_tp = pd.read_table(tp_NA12878_tsv,sep=\"\\t\",compression='gzip',nrows=100000)\n",
      "#test_tp = tp.ix[:100000]\n"
     ],
     "language": "python",
     "metadata": {},
     "outputs": [],
     "prompt_number": 199
    },
    {
     "cell_type": "code",
     "collapsed": false,
     "input": [
      "index_features = ['CHROM', 'POS', 'REF', 'ALT']\n",
      "\n",
      "allele_features = ['HQ', 'EHQ', 'CGA_CEHQ', 'AD']\n",
      "binary_features = ['CGA_XR', 'CGA_RPT']\n",
      "categorical_features = ['FT']\n",
      "geno_features = ['GL', 'CGA_CEGL']\n",
      "numeric_features = ['CGA_SDO', 'GQ', 'DP', 'CGA_RDP']\n",
      "\n",
      "\n",
      "fp_test = preprocess_vcf_line(test_fp.copy(), index_features, allele_features, binary_features, categorical_features, geno_features, numeric_features)        \n",
      "fp_truth = fp_test[['HQ_1']]\n",
      "fp_truth['HQ_1'] = 0\n",
      "fp_truth.columns = ['truth']\n",
      "\n",
      "tp_test = preprocess_vcf_line(test_tp.copy(), index_features, allele_features, binary_features, categorical_features, geno_features, numeric_features)\n",
      "tp_truth = tp_test[['HQ_1']]\n",
      "tp_truth['HQ_1'] = 1\n",
      "tp_truth.columns = ['truth']\n",
      "\n",
      "\n",
      "test_set = tp_test.append(fp_test) \n",
      "test_set.CGA_SDO.fillna(value=0, inplace=True)\n",
      "test_set.GQ.fillna(value=-999, inplace=True)\n",
      "\n",
      "\n",
      "test_truth = tp_truth.append(fp_truth)"
     ],
     "language": "python",
     "metadata": {},
     "outputs": [],
     "prompt_number": 200
    },
    {
     "cell_type": "code",
     "collapsed": false,
     "input": [
      "test_set = tp_test.append(fp_test) \n",
      "test_set.CGA_SDO.fillna(value=0, inplace=True)\n",
      "test_set.GQ.fillna(value=-999, inplace=True)\n",
      "\n",
      "\n",
      "test_truth = tp_truth.append(fp_truth)"
     ],
     "language": "python",
     "metadata": {},
     "outputs": [],
     "prompt_number": 201
    },
    {
     "cell_type": "code",
     "collapsed": false,
     "input": [
      "test_set['truth'] = test_truth.values\n",
      "test_set.to_csv(\"/gpfs/home/erscott/Datasets_raw/PlatinumGenomes/NA12878/NA12878_phasing/NA12878_preprocessed_testing_set.txt\",sep=\"\\t\")\n"
     ],
     "language": "python",
     "metadata": {},
     "outputs": [],
     "prompt_number": 252
    },
    {
     "cell_type": "code",
     "collapsed": false,
     "input": [
      "test_set = pd.read_table(\"/gpfs/home/erscott/Datasets_raw/PlatinumGenomes/NA12878/NA12878_phasing/NA12878_preprocessed_testing_set.txt\",sep=\"\\t\")\n",
      "test_set.set_index(['CHROM','POS','REF','ALT'],inplace=True)\n",
      "test_truth = test_set[['truth']]\n",
      "del test_set['truth']"
     ],
     "language": "python",
     "metadata": {},
     "outputs": [],
     "prompt_number": 49
    },
    {
     "cell_type": "code",
     "collapsed": false,
     "input": [
      "import random\n",
      "random_subset = random.sample(test_set.index,50000)\n",
      "test_set_random = test_set.ix[random_subset]\n",
      "test_truth_random = test_truth.ix[random_subset]"
     ],
     "language": "python",
     "metadata": {},
     "outputs": [],
     "prompt_number": 78
    },
    {
     "cell_type": "code",
     "collapsed": false,
     "input": [
      "clf1.score(test_set, test_truth.values)"
     ],
     "language": "python",
     "metadata": {},
     "outputs": [
      {
       "metadata": {},
       "output_type": "pyout",
       "prompt_number": 79,
       "text": [
        "0.14764655054800127"
       ]
      }
     ],
     "prompt_number": 79
    },
    {
     "cell_type": "code",
     "collapsed": false,
     "input": [
      "test_results = clf1.predict_proba(test_set)"
     ],
     "language": "python",
     "metadata": {},
     "outputs": [],
     "prompt_number": 236
    },
    {
     "cell_type": "code",
     "collapsed": false,
     "input": [
      "test_results_df = pd.DataFrame(test_results)\n",
      "test_results_df['truth'] = test_truth.values\n",
      "test_results_df.describe()"
     ],
     "language": "python",
     "metadata": {},
     "outputs": [
      {
       "html": [
        "<div style=\"max-height:1000px;max-width:1500px;overflow:auto;\">\n",
        "<table border=\"1\" class=\"dataframe\">\n",
        "  <thead>\n",
        "    <tr style=\"text-align: right;\">\n",
        "      <th></th>\n",
        "      <th>0</th>\n",
        "      <th>1</th>\n",
        "      <th>truth</th>\n",
        "    </tr>\n",
        "  </thead>\n",
        "  <tbody>\n",
        "    <tr>\n",
        "      <th>count</th>\n",
        "      <td> 109945.000000</td>\n",
        "      <td> 109945.000000</td>\n",
        "      <td> 109945.000000</td>\n",
        "    </tr>\n",
        "    <tr>\n",
        "      <th>mean</th>\n",
        "      <td>      0.158375</td>\n",
        "      <td>      0.841625</td>\n",
        "      <td>      0.909055</td>\n",
        "    </tr>\n",
        "    <tr>\n",
        "      <th>std</th>\n",
        "      <td>      0.273083</td>\n",
        "      <td>      0.273083</td>\n",
        "      <td>      0.287533</td>\n",
        "    </tr>\n",
        "    <tr>\n",
        "      <th>min</th>\n",
        "      <td>      0.000000</td>\n",
        "      <td>      0.000000</td>\n",
        "      <td>      0.000000</td>\n",
        "    </tr>\n",
        "    <tr>\n",
        "      <th>25%</th>\n",
        "      <td>      0.004000</td>\n",
        "      <td>      0.842000</td>\n",
        "      <td>      1.000000</td>\n",
        "    </tr>\n",
        "    <tr>\n",
        "      <th>50%</th>\n",
        "      <td>      0.030000</td>\n",
        "      <td>      0.970000</td>\n",
        "      <td>      1.000000</td>\n",
        "    </tr>\n",
        "    <tr>\n",
        "      <th>75%</th>\n",
        "      <td>      0.158000</td>\n",
        "      <td>      0.996000</td>\n",
        "      <td>      1.000000</td>\n",
        "    </tr>\n",
        "    <tr>\n",
        "      <th>max</th>\n",
        "      <td>      1.000000</td>\n",
        "      <td>      1.000000</td>\n",
        "      <td>      1.000000</td>\n",
        "    </tr>\n",
        "  </tbody>\n",
        "</table>\n",
        "</div>"
       ],
       "metadata": {},
       "output_type": "pyout",
       "prompt_number": 237,
       "text": [
        "                   0              1          truth\n",
        "count  109945.000000  109945.000000  109945.000000\n",
        "mean        0.158375       0.841625       0.909055\n",
        "std         0.273083       0.273083       0.287533\n",
        "min         0.000000       0.000000       0.000000\n",
        "25%         0.004000       0.842000       1.000000\n",
        "50%         0.030000       0.970000       1.000000\n",
        "75%         0.158000       0.996000       1.000000\n",
        "max         1.000000       1.000000       1.000000"
       ]
      }
     ],
     "prompt_number": 237
    },
    {
     "cell_type": "code",
     "collapsed": false,
     "input": [
      "for i in range(0,100,2):\n",
      "    temp0_thresh = i/100.0\n",
      "    print i\n",
      "    temp_df = test_results_df[(test_results_df[0].astype(float) < temp0_thresh)]\n",
      "    print 'fp:', len(temp_df[temp_df.truth==0])\n",
      "    print 'tp:', len(temp_df[temp_df.truth==1])\n",
      "    print\n",
      "    print\n"
     ],
     "language": "python",
     "metadata": {},
     "outputs": [
      {
       "output_type": "stream",
       "stream": "stdout",
       "text": [
        "0\n",
        "fp: 0\n",
        "tp: 0\n",
        "\n",
        "\n",
        "2\n",
        "fp: 161\n",
        "tp: 47269\n",
        "\n",
        "\n",
        "4\n",
        "fp: 236\n",
        "tp: 58978\n",
        "\n",
        "\n",
        "6\n",
        "fp: 309\n",
        "tp: 65835\n",
        "\n",
        "\n",
        "8\n",
        "fp: 370\n",
        "tp: 70694\n",
        "\n",
        "\n",
        "10\n",
        "fp: 448\n",
        "tp: 74427\n",
        "\n",
        "\n",
        "12\n",
        "fp: 513\n",
        "tp: 77437\n",
        "\n",
        "\n",
        "14\n",
        "fp: 571\n",
        "tp: 79928\n",
        "\n",
        "\n",
        "16\n",
        "fp: "
       ]
      },
      {
       "output_type": "stream",
       "stream": "stdout",
       "text": [
        "621\n",
        "tp: 81889\n",
        "\n",
        "\n",
        "18\n",
        "fp: 675\n",
        "tp: 83748\n",
        "\n",
        "\n",
        "20\n",
        "fp: 731\n",
        "tp: 85198\n",
        "\n",
        "\n",
        "22\n",
        "fp: 791\n",
        "tp: 86489\n",
        "\n",
        "\n",
        "24\n",
        "fp: 859\n",
        "tp: 87704\n",
        "\n",
        "\n",
        "26\n",
        "fp: 920\n",
        "tp: 88772\n",
        "\n",
        "\n",
        "28\n",
        "fp: 971\n",
        "tp: 89671\n",
        "\n",
        "\n",
        "30\n",
        "fp: 1028\n",
        "tp: 90539\n",
        "\n",
        "\n",
        "32\n",
        "fp:"
       ]
      },
      {
       "output_type": "stream",
       "stream": "stdout",
       "text": [
        " 1079\n",
        "tp: 91302\n",
        "\n",
        "\n",
        "34\n",
        "fp: 1134\n",
        "tp: 91988\n",
        "\n",
        "\n",
        "36\n",
        "fp: 1196\n",
        "tp: 92646\n",
        "\n",
        "\n",
        "38\n",
        "fp: 1256\n",
        "tp: 93198\n",
        "\n",
        "\n",
        "40\n",
        "fp: 1315\n",
        "tp: 93731\n",
        "\n",
        "\n",
        "42\n",
        "fp: 1370\n",
        "tp: 94224\n",
        "\n",
        "\n",
        "44\n",
        "fp: 1430\n",
        "tp: 94720\n",
        "\n",
        "\n",
        "46\n",
        "fp: 1486\n",
        "tp: "
       ]
      },
      {
       "output_type": "stream",
       "stream": "stdout",
       "text": [
        "95148\n",
        "\n",
        "\n",
        "48\n",
        "fp: 1546\n",
        "tp: 95522\n",
        "\n",
        "\n",
        "50\n",
        "fp: 1606\n",
        "tp: 95903\n",
        "\n",
        "\n",
        "52\n",
        "fp: 1661\n",
        "tp: 96221\n",
        "\n",
        "\n",
        "54\n",
        "fp: 1717\n",
        "tp: 96513\n",
        "\n",
        "\n",
        "56\n",
        "fp: 1786\n",
        "tp: 96801\n",
        "\n",
        "\n",
        "58\n",
        "fp: 1855\n",
        "tp: 97089\n",
        "\n",
        "\n",
        "60\n",
        "fp: 1906\n",
        "tp: 97362\n",
        "\n",
        "\n"
       ]
      },
      {
       "output_type": "stream",
       "stream": "stdout",
       "text": [
        "62\n",
        "fp: 1966\n",
        "tp: 97624\n",
        "\n",
        "\n",
        "64\n",
        "fp: 2029\n",
        "tp: 97877\n",
        "\n",
        "\n",
        "66\n",
        "fp: 2107\n",
        "tp: 98111\n",
        "\n",
        "\n",
        "68\n",
        "fp: 2171\n",
        "tp: 98287\n",
        "\n",
        "\n",
        "70\n",
        "fp: 2246\n",
        "tp: 98469\n",
        "\n",
        "\n",
        "72\n",
        "fp: 2324\n",
        "tp: 98609\n",
        "\n",
        "\n",
        "74\n",
        "fp: 2416\n",
        "tp: "
       ]
      },
      {
       "output_type": "stream",
       "stream": "stdout",
       "text": [
        "98766\n",
        "\n",
        "\n",
        "76\n",
        "fp: 2505\n",
        "tp: 98900\n",
        "\n",
        "\n",
        "78\n",
        "fp: 2592\n",
        "tp: 99023\n",
        "\n",
        "\n",
        "80\n",
        "fp: 2676\n",
        "tp: 99133\n",
        "\n",
        "\n",
        "82\n",
        "fp: 2785\n",
        "tp: 99257\n",
        "\n",
        "\n",
        "84\n",
        "fp: 2907\n",
        "tp: 99361\n",
        "\n",
        "\n",
        "86\n",
        "fp: 3026\n",
        "tp: 99463\n",
        "\n",
        "\n",
        "88\n",
        "fp: 3180\n",
        "tp: 99552\n",
        "\n",
        "\n",
        "90\n",
        "fp:"
       ]
      },
      {
       "output_type": "stream",
       "stream": "stdout",
       "text": [
        " 3367\n",
        "tp: 99640\n",
        "\n",
        "\n",
        "92\n",
        "fp: 3590\n",
        "tp: 99708\n",
        "\n",
        "\n",
        "94\n",
        "fp: 3807\n",
        "tp: 99773\n",
        "\n",
        "\n",
        "96\n",
        "fp: 4087\n",
        "tp: 99839\n",
        "\n",
        "\n",
        "98\n",
        "fp: 4456\n",
        "tp: 99902\n",
        "\n",
        "\n"
       ]
      }
     ],
     "prompt_number": 238
    },
    {
     "cell_type": "code",
     "collapsed": false,
     "input": [
      "test_truth_random"
     ],
     "language": "python",
     "metadata": {},
     "outputs": [
      {
       "output_type": "stream",
       "stream": "stderr",
       "text": [
        "/gpfs/home/erscott/.local/lib/python2.7/site-packages/pandas-0.11.1.dev_3129fb3-py2.7-linux-x86_64.egg/pandas/core/config.py:570: DeprecationWarning: height has been deprecated.\n",
        "\n",
        "  warnings.warn(d.msg, DeprecationWarning)\n"
       ]
      },
      {
       "html": [
        "<pre>\n",
        "&lt;class 'pandas.core.frame.DataFrame'&gt;\n",
        "MultiIndex: 50000 entries, (1, 7119562, C, T) to (1, 15459178, T, C)\n",
        "Data columns (total 1 columns):\n",
        "truth    50000  non-null values\n",
        "dtypes: int64(1)\n",
        "</pre>"
       ],
       "metadata": {},
       "output_type": "pyout",
       "prompt_number": 54,
       "text": [
        "<class 'pandas.core.frame.DataFrame'>\n",
        "MultiIndex: 50000 entries, (1, 7119562, C, T) to (1, 15459178, T, C)\n",
        "Data columns (total 1 columns):\n",
        "truth    50000  non-null values\n",
        "dtypes: int64(1)"
       ]
      }
     ],
     "prompt_number": 54
    },
    {
     "cell_type": "code",
     "collapsed": false,
     "input": [
      "def get_fp_tp_predictions(test_df, test_truth, model):\n",
      "    \n",
      "    fp = test_df.ix[test_truth[test_truth.truth==0].index]\n",
      "    tp = test_df.ix[~test_df.index.isin(fp.index)]\n",
      "    \n",
      "    predictions = model.predict(fp)\n",
      "    fp['predictions'] = predictions\n",
      "    fp['truth'] = test_truth.ix[fp.index]\n",
      "    \n",
      "    predictions = model.predict(tp)\n",
      "    tp['predictions'] = predictions\n",
      "    tp['truth'] = test_truth.ix[tp.index]\n",
      "    \n",
      "    return fp, tp\n",
      "fp,tp = get_fp_tp_predictions(test_set_random, test_truth_random, clf1)"
     ],
     "language": "python",
     "metadata": {},
     "outputs": [],
     "prompt_number": 59
    },
    {
     "cell_type": "code",
     "collapsed": false,
     "input": [
      "def retrain(fp, tp):\n",
      "    retrain_fp = fp[fp.predictions==1]\n",
      "    retrain_tp = tp[tp.predictions==0]\n",
      "    del retrain_fp['predictions']\n",
      "    del retrain_tp['predictions']\n",
      "    retrain_df = retrain_tp.append(retrain_fp)\n",
      "    retrain_df_truth = retrain_df[['truth']]\n",
      "    del retrain_df['truth']\n",
      "    return retrain_df, retrain_df_truth"
     ],
     "language": "python",
     "metadata": {},
     "outputs": [],
     "prompt_number": 60
    },
    {
     "cell_type": "code",
     "collapsed": false,
     "input": [
      "retrain_df, retrain_df_truth = retrain(fp, tp)"
     ],
     "language": "python",
     "metadata": {},
     "outputs": [],
     "prompt_number": 61
    },
    {
     "cell_type": "code",
     "collapsed": false,
     "input": [
      "retrain_clf = clf.fit(retrain_df, retrain_df_truth.values)\n"
     ],
     "language": "python",
     "metadata": {},
     "outputs": [
      {
       "output_type": "stream",
       "stream": "stderr",
       "text": [
        "-c:1: DataConversionWarning: A column-vector y was passed when a 1d array was expected. Please change the shape of y to (n_samples, ), for example using ravel().\n"
       ]
      }
     ],
     "prompt_number": 62
    },
    {
     "cell_type": "code",
     "collapsed": false,
     "input": [
      "retrain_clf.oob_score_"
     ],
     "language": "python",
     "metadata": {},
     "outputs": [
      {
       "metadata": {},
       "output_type": "pyout",
       "prompt_number": 63,
       "text": [
        "0.85300122498979181"
       ]
      }
     ],
     "prompt_number": 63
    },
    {
     "cell_type": "code",
     "collapsed": false,
     "input": [
      "retrain_test_set_index = test_set[~test_set.index.isin(random_subset)].index\n",
      "retrain_test_set = test_set.ix[retrain_test_set_index]\n",
      "retrain_test_set_truth = test_truth.ix[retrain_test_set_index]\n"
     ],
     "language": "python",
     "metadata": {},
     "outputs": [],
     "prompt_number": 65
    },
    {
     "cell_type": "code",
     "collapsed": false,
     "input": [
      "fp,tp = get_fp_tp_predictions(retrain_test_set, retrain_test_set_truth, retrain_clf)"
     ],
     "language": "python",
     "metadata": {},
     "outputs": [],
     "prompt_number": 67
    },
    {
     "cell_type": "code",
     "collapsed": false,
     "input": [
      "retrain_clf.score(retrain_test_set, retrain_test_set_truth)"
     ],
     "language": "python",
     "metadata": {},
     "outputs": [
      {
       "metadata": {},
       "output_type": "pyout",
       "prompt_number": 70,
       "text": [
        "0.12644924514137959"
       ]
      }
     ],
     "prompt_number": 70
    },
    {
     "cell_type": "code",
     "collapsed": false,
     "input": [
      "fp.predictions.value_counts()"
     ],
     "language": "python",
     "metadata": {},
     "outputs": [
      {
       "metadata": {},
       "output_type": "pyout",
       "prompt_number": 68,
       "text": [
        "1    4757\n",
        "0     654\n",
        "dtype: int64"
       ]
      }
     ],
     "prompt_number": 68
    },
    {
     "cell_type": "code",
     "collapsed": false,
     "input": [
      "tp.predictions.value_counts()"
     ],
     "language": "python",
     "metadata": {},
     "outputs": [
      {
       "metadata": {},
       "output_type": "pyout",
       "prompt_number": 69,
       "text": [
        "0    47608\n",
        "1     6926\n",
        "dtype: int64"
       ]
      }
     ],
     "prompt_number": 69
    },
    {
     "cell_type": "code",
     "collapsed": false,
     "input": [
      "tp.predictions.value_counts()"
     ],
     "language": "python",
     "metadata": {},
     "outputs": [
      {
       "metadata": {},
       "output_type": "pyout",
       "prompt_number": 28,
       "text": [
        "1    43780\n",
        "0     1675\n",
        "dtype: int64"
       ]
      }
     ],
     "prompt_number": 28
    },
    {
     "cell_type": "code",
     "collapsed": false,
     "input": [
      "print 'COMPLETE'"
     ],
     "language": "python",
     "metadata": {},
     "outputs": [
      {
       "output_type": "stream",
       "stream": "stdout",
       "text": [
        "COMPLETE\n"
       ]
      }
     ],
     "prompt_number": 29
    },
    {
     "cell_type": "heading",
     "level": 1,
     "metadata": {},
     "source": [
      "Features Associated with Misclassified Variants"
     ]
    },
    {
     "cell_type": "code",
     "collapsed": false,
     "input": [
      "fp_misclass = fp.copy()\n",
      "fp['truth'] = fp['predictions']\n",
      "del fp['predictions']"
     ],
     "language": "python",
     "metadata": {},
     "outputs": [],
     "prompt_number": 72
    },
    {
     "cell_type": "code",
     "collapsed": false,
     "input": [
      "fp_columns_minus_truth = [i for i in fp.columns if i != 'truth']\n"
     ],
     "language": "python",
     "metadata": {},
     "outputs": [],
     "prompt_number": 73
    },
    {
     "cell_type": "code",
     "collapsed": false,
     "input": [
      "misclass_features = clf.fit(fp[fp_columns_minus_truth], fp['truth'])\n"
     ],
     "language": "python",
     "metadata": {},
     "outputs": [],
     "prompt_number": 74
    },
    {
     "cell_type": "code",
     "collapsed": false,
     "input": [
      "zip(fp[fp_columns_minus_truth].columns, misclass_features.feature_importances_)"
     ],
     "language": "python",
     "metadata": {},
     "outputs": [
      {
       "metadata": {},
       "output_type": "pyout",
       "prompt_number": 76,
       "text": [
        "[('CGA_SDO', 0.022405078278938541),\n",
        " ('GQ', 0.056962795850175135),\n",
        " ('DP', 0.021758859945951201),\n",
        " ('CGA_RDP', 0.045681331372516745),\n",
        " ('FT_PASS', 0.0024882433795771117),\n",
        " ('FT_VQLOW', 0.0030105610878905205),\n",
        " ('AA_GL', 0.0884830239948904),\n",
        " ('AB_GL', 0.027960130058878624),\n",
        " ('BB_GL', 0.024761762506188542),\n",
        " ('AC_GL', 0.00032243306281472386),\n",
        " ('BC_GL', 0.0002843299138554581),\n",
        " ('CC_GL', 0.00031986398539241023),\n",
        " ('AA_CGA_CEGL', 0.15678750077931822),\n",
        " ('AB_CGA_CEGL', 0.038407703362823918),\n",
        " ('BB_CGA_CEGL', 0.019251785308151186),\n",
        " ('AC_CGA_CEGL', 0.0003787680393911012),\n",
        " ('BC_CGA_CEGL', 0.00032054845516063621),\n",
        " ('CC_CGA_CEGL', 0.00052091912792455496),\n",
        " ('HQ_1', 0.024679041952488216),\n",
        " ('HQ_2', 0.047341930437565342),\n",
        " ('EHQ_1', 0.033420456233453008),\n",
        " ('EHQ_2', 0.069583714341586334),\n",
        " ('CGA_CEHQ_1', 0.11660280900844647),\n",
        " ('CGA_CEHQ_2', 0.12249071341342614),\n",
        " ('AD_1', 0.022526875153558345),\n",
        " ('AD_2', 0.036356388287341994),\n",
        " ('CGA_XR', 0.01514536454899554),\n",
        " ('CGA_RPT', 0.0017470681132999081)]"
       ]
      }
     ],
     "prompt_number": 76
    },
    {
     "cell_type": "code",
     "collapsed": false,
     "input": [
      "misclass_features.oob_score_"
     ],
     "language": "python",
     "metadata": {},
     "outputs": [
      {
       "metadata": {},
       "output_type": "pyout",
       "prompt_number": 77,
       "text": [
        "0.98114951025688413"
       ]
      }
     ],
     "prompt_number": 77
    },
    {
     "cell_type": "code",
     "collapsed": false,
     "input": [],
     "language": "python",
     "metadata": {},
     "outputs": []
    },
    {
     "cell_type": "heading",
     "level": 1,
     "metadata": {},
     "source": [
      "Function Code, aggregated in the above function preprocess_vcf_line"
     ]
    },
    {
     "cell_type": "heading",
     "level": 3,
     "metadata": {},
     "source": [
      "Numeric Field Formatting"
     ]
    },
    {
     "cell_type": "code",
     "collapsed": false,
     "input": [
      "numeric_features = ['CGA_SDO', 'GQ', 'DP', 'CGA_RDP']\n",
      "df_numeric = df.copy()\n",
      "df_numeric = df_numeric[numeric_features]\n",
      "for n in numeric_features:\n",
      "    df_numeric[n] = df_numeric[n].astype(float)\n",
      "df_numeric['CGA_SDO'].fillna(value=0, inplace=True)\n"
     ],
     "language": "python",
     "metadata": {},
     "outputs": [],
     "prompt_number": 32
    },
    {
     "cell_type": "heading",
     "level": 3,
     "metadata": {},
     "source": [
      "GL Field Formatting"
     ]
    },
    {
     "cell_type": "code",
     "collapsed": false,
     "input": [
      "def multiallele_GL_formatting(df, gl_col):\n",
      "    GL_df = pd.DataFrame.from_records([i.split(\",\") for i in df[gl_col]], columns=['AA_'+gl_col, 'AB_'+gl_col, 'BB_'+gl_col, 'AC_'+gl_col, 'BC_'+gl_col, 'CC_'+gl_col])\n",
      "    GL_df.index = df.index\n",
      "    GL_df.fillna(value=-999,inplace=True)\n",
      "    df = df.join(GL_df)\n",
      "    return df\n",
      "    "
     ],
     "language": "python",
     "metadata": {},
     "outputs": [],
     "prompt_number": 11
    },
    {
     "cell_type": "code",
     "collapsed": false,
     "input": [
      "\n",
      "geno_cols = ['GL', 'CGA_CEGL']\n",
      "\n",
      "df_geno = df.copy()\n",
      "df_geno = df_geno[geno_cols]\n",
      "for g_cols in geno_cols:\n",
      "    df_geno = multiallele_GL_formatting(df_geno, g_cols)\n",
      "    del df_geno[g_cols]"
     ],
     "language": "python",
     "metadata": {},
     "outputs": [],
     "prompt_number": 12
    },
    {
     "cell_type": "heading",
     "level": 3,
     "metadata": {},
     "source": [
      "Allele Field Formatting"
     ]
    },
    {
     "cell_type": "code",
     "collapsed": false,
     "input": [
      "def allele_col_formatting(df, al_col):\n",
      "    df[al_col + \"_1\"] = [int(i.split(\",\")[0]) if i.split(\",\")[0] != \".\" else -999 for i in df[al_col]]\n",
      "    df[al_col + \"_2\"] = [int(i.split(\",\")[1]) if i.split(\",\")[1] != \".\" else -999 for i in df[al_col]]\n",
      "    return df"
     ],
     "language": "python",
     "metadata": {},
     "outputs": [],
     "prompt_number": 13
    },
    {
     "cell_type": "code",
     "collapsed": false,
     "input": [
      "allele_cols = ['HQ', 'EHQ', 'CGA_CEHQ', 'AD']\n",
      "\n",
      "df_allele = df.copy()\n",
      "df_allele = df[allele_cols]\n",
      "for a_cols in allele_cols:\n",
      "    df_allele = allele_col_formatting(df_allele, a_cols)\n",
      "    del df_allele[a_cols]"
     ],
     "language": "python",
     "metadata": {},
     "outputs": [],
     "prompt_number": 14
    },
    {
     "cell_type": "heading",
     "level": 3,
     "metadata": {},
     "source": [
      "Categorical Field Formatting"
     ]
    },
    {
     "cell_type": "code",
     "collapsed": false,
     "input": [
      "def categ_formatting(df, cat_col):\n",
      "    temp_dummies = pd.get_dummies(df[cat_col], prefix=cat_col)\n",
      "    df = df.join(temp_dummies, how='left')\n",
      "    return df"
     ],
     "language": "python",
     "metadata": {},
     "outputs": [],
     "prompt_number": 17
    },
    {
     "cell_type": "code",
     "collapsed": false,
     "input": [
      "categorical_features = ['FT']\n",
      "\n",
      "df_categ = df.copy()\n",
      "df_categ = df_categ[categorical_features]\n",
      "for c in categorical_features:\n",
      "    df_categ = categ_formatting(df_categ, c)\n",
      "    del df_categ[c]"
     ],
     "language": "python",
     "metadata": {},
     "outputs": [],
     "prompt_number": 19
    },
    {
     "cell_type": "heading",
     "level": 3,
     "metadata": {},
     "source": [
      "Binary Features Formatting"
     ]
    },
    {
     "cell_type": "code",
     "collapsed": false,
     "input": [
      "binary_features = ['CGA_XR', 'CGA_RPT']\n",
      "\n",
      "df_binary = df.copy()\n",
      "df_binary = df_binary[binary_features]\n",
      "for b in binary_features:\n",
      "    df_binary[b].fillna(value=0,inplace=True)\n",
      "    df_binary[b] = df_binary[b].map(lambda x: 1 if x!=0 else 0)\n",
      "    "
     ],
     "language": "python",
     "metadata": {},
     "outputs": [],
     "prompt_number": 25
    },
    {
     "cell_type": "heading",
     "level": 3,
     "metadata": {},
     "source": [
      "Joining Numeric, Genotype, Allele, Categorical, and Binary Features"
     ]
    },
    {
     "cell_type": "code",
     "collapsed": false,
     "input": [
      "df_train = df_numeric.join([df_categ, df_geno, df_allele, df_binary])\n",
      "df_train"
     ],
     "language": "python",
     "metadata": {},
     "outputs": [
      {
       "html": [
        "<pre>\n",
        "&lt;class 'pandas.core.frame.DataFrame'&gt;\n",
        "Int64Index: 99978 entries, 0 to 100000\n",
        "Data columns (total 28 columns):\n",
        "CGA_SDO        99978  non-null values\n",
        "GQ             58956  non-null values\n",
        "DP             99978  non-null values\n",
        "CGA_RDP        99978  non-null values\n",
        "FT_PASS        99978  non-null values\n",
        "FT_VQLOW       99978  non-null values\n",
        "AA_GL          99978  non-null values\n",
        "AB_GL          99978  non-null values\n",
        "BB_GL          99978  non-null values\n",
        "AC_GL          99978  non-null values\n",
        "BC_GL          99978  non-null values\n",
        "CC_GL          99978  non-null values\n",
        "AA_CGA_CEGL    99978  non-null values\n",
        "AB_CGA_CEGL    99978  non-null values\n",
        "BB_CGA_CEGL    99978  non-null values\n",
        "AC_CGA_CEGL    99978  non-null values\n",
        "BC_CGA_CEGL    99978  non-null values\n",
        "CC_CGA_CEGL    99978  non-null values\n",
        "HQ_1           99978  non-null values\n",
        "HQ_2           99978  non-null values\n",
        "EHQ_1          99978  non-null values\n",
        "EHQ_2          99978  non-null values\n",
        "CGA_CEHQ_1     99978  non-null values\n",
        "CGA_CEHQ_2     99978  non-null values\n",
        "AD_1           99978  non-null values\n",
        "AD_2           99978  non-null values\n",
        "CGA_XR         99978  non-null values\n",
        "CGA_RPT        99978  non-null values\n",
        "dtypes: float64(6), int64(10), object(12)\n",
        "</pre>"
       ],
       "metadata": {},
       "output_type": "pyout",
       "prompt_number": 48,
       "text": [
        "<class 'pandas.core.frame.DataFrame'>\n",
        "Int64Index: 99978 entries, 0 to 100000\n",
        "Data columns (total 28 columns):\n",
        "CGA_SDO        99978  non-null values\n",
        "GQ             58956  non-null values\n",
        "DP             99978  non-null values\n",
        "CGA_RDP        99978  non-null values\n",
        "FT_PASS        99978  non-null values\n",
        "FT_VQLOW       99978  non-null values\n",
        "AA_GL          99978  non-null values\n",
        "AB_GL          99978  non-null values\n",
        "BB_GL          99978  non-null values\n",
        "AC_GL          99978  non-null values\n",
        "BC_GL          99978  non-null values\n",
        "CC_GL          99978  non-null values\n",
        "AA_CGA_CEGL    99978  non-null values\n",
        "AB_CGA_CEGL    99978  non-null values\n",
        "BB_CGA_CEGL    99978  non-null values\n",
        "AC_CGA_CEGL    99978  non-null values\n",
        "BC_CGA_CEGL    99978  non-null values\n",
        "CC_CGA_CEGL    99978  non-null values\n",
        "HQ_1           99978  non-null values\n",
        "HQ_2           99978  non-null values\n",
        "EHQ_1          99978  non-null values\n",
        "EHQ_2          99978  non-null values\n",
        "CGA_CEHQ_1     99978  non-null values\n",
        "CGA_CEHQ_2     99978  non-null values\n",
        "AD_1           99978  non-null values\n",
        "AD_2           99978  non-null values\n",
        "CGA_XR         99978  non-null values\n",
        "CGA_RPT        99978  non-null values\n",
        "dtypes: float64(6), int64(10), object(12)"
       ]
      }
     ],
     "prompt_number": 48
    },
    {
     "cell_type": "code",
     "collapsed": false,
     "input": [
      "def preprocess_train_set(test_df):\n",
      "    ''' This function converts the allele1/2truth annotated mastervar files into\n",
      "        a numeric dataset ready for training.\n",
      "        It returns a training data set and the truth calls.  The two objects share indices\n",
      "        and can be combined on the index'''\n",
      "    \n",
      "    test_df.set_index(['chromosome','end', 'reference', 'allele1Seq', 'allele2Seq'],drop=False, inplace=True)\n",
      "    \n",
      "    train_columns = [\"zygosity\", \"REF\", \"a1\", \"a2\", \"allele1VarScoreVAF\", \"allele2VarScoreVAF\", \\\n",
      "                 \"allele1VarScoreEAF\", \"allele2VarScoreEAF\", \"allele1VarQuality\", \"allele2VarQuality\",\\\n",
      "               \"allele1ReadCount\", \"allele2ReadCount\", \"totalReadCount\", \"referenceAlleleReadCount\", \\\n",
      "               \"repeatMasker\", \"segDupOverlap\",\"allele1XRef\",\"allele2XRef\",\"allele1Gene\",\"allele2Gene\",\\\n",
      "               \"alleletruth\"]\n",
      "    \n",
      "    def repeatmask(line):\n",
      "        if line['repeatMasker'] == \".\":\n",
      "            return False\n",
      "        else:\n",
      "            return True\n",
      "    \n",
      "    def coding(alleleGene):\n",
      "        if \"CDS\" in alleleGene:\n",
      "            return True\n",
      "        if \"ACCEPTOR\" in alleleGene:\n",
      "            return True\n",
      "        if \"DONOR\" in alleleGene:\n",
      "            return True\n",
      "        else:\n",
      "            return False\n",
      "        \n",
      "            \n",
      "    def allele_truth(line):\n",
      "        if line['allele1truth'] == 1 and line['allele2truth'] == 1:\n",
      "            return 3\n",
      "        if line['allele1truth'] == 1 and line['allele2truth'] == 0:\n",
      "            return 2\n",
      "        if line['allele1truth'] == 0 and line['allele2truth'] == 1:\n",
      "            return 1\n",
      "        if line['allele1truth'] == 0 and line['allele2truth'] == 0:\n",
      "            return 0\n",
      "        else: assert False\n",
      "    \n",
      "    #EXPERIMENTAL BEGIN  - TRAINED RF_196900samples_oddChroms_rsIDBool_2014_2_2_fp845_tp977.pkl.gz\n",
      "    def rsid_parser(XRef):\n",
      "        if XRef == \".\":  #Not in dbSNP\n",
      "            return False\n",
      "        if XRef != \".\":\n",
      "            return True  #In dbSNP\n",
      "    #EXPERIMENTAL END\n",
      "        \n",
      "    \n",
      "    test_df = test_df[test_df.varType=='snp']\n",
      "    test_df = test_df[test_df.zygosity!='half']  #remove half calls\n",
      "    \n",
      "    test_df['repeatMasker'] = test_df.apply(repeatmask, axis=1)\n",
      "    test_df['allele1Gene'] = test_df['allele1Gene'].map(coding)\n",
      "    test_df['allele2Gene'] = test_df['allele2Gene'].map(coding)\n",
      "    \n",
      "    test_df['alleletruth'] = test_df.apply(allele_truth, axis=1)\n",
      "    del test_df['allele1truth']\n",
      "    del test_df['allele2truth']\n",
      "\n",
      "    df_snps_test = test_df[train_columns]\n",
      "    \n",
      "    #Taking the allele seq out Experimental - Transition/Transversion ratio of coding sequences was too low\n",
      "    #allele1Seq_dummies = pd.get_dummies(df_snps_test['allele1Seq'],prefix='allele1Seq')\n",
      "    #allele2Seq_dummies = pd.get_dummies(df_snps_test['allele2Seq'],prefix='allele2Seq')\n",
      "    #df_snps_test = df_snps_test.join(allele1Seq_dummies, how='outer')\n",
      "    #df_snps_test = df_snps_test.join(allele2Seq_dummies,how='outer')\n",
      "    del df_snps_test['allele1Seq']\n",
      "    del df_snps_test['allele2Seq']\n",
      "\n",
      "    allele1VarQuality_dummies = pd.get_dummies(df_snps_test['allele1VarQuality'],prefix='allele1VarQuality')\n",
      "    allele2VarQuality_dummies = pd.get_dummies(df_snps_test['allele2VarQuality'],prefix='allele2VarQuality')\n",
      "    df_snps_test = df_snps_test.join(allele1VarQuality_dummies,how='outer')\n",
      "    df_snps_test = df_snps_test.join(allele2VarQuality_dummies,how='outer')\n",
      "    del df_snps_test['allele1VarQuality']\n",
      "    del df_snps_test['allele2VarQuality']\n",
      "\n",
      "    #ref_dummies = pd.get_dummies(df_snps_test['reference'],prefix='reference')\n",
      "    zygosity_dummies = pd.get_dummies(df_snps_test['zygosity'],prefix='zygosity')\n",
      "    #df_snps_test = df_snps_test.join(ref_dummies,how='outer')\n",
      "    df_snps_test = df_snps_test.join(zygosity_dummies,how='outer')\n",
      "    del df_snps_test['reference']\n",
      "    del df_snps_test['zygosity']\n",
      "    \n",
      "    #Experimental Begin\n",
      "    df_snps_test['allele1XRef'] = df_snps_test['allele1XRef'].map(rsid_parser)\n",
      "    df_snps_test['allele2XRef'] = df_snps_test['allele2XRef'].map(rsid_parser)\n",
      "    #Experimental End\n",
      "    \n",
      "    Y_truth = df_snps_test['alleletruth'].copy()\n",
      "    del df_snps_test['alleletruth']\n",
      "    return df_snps_test, Y_truth"
     ],
     "language": "python",
     "metadata": {},
     "outputs": []
    },
    {
     "cell_type": "code",
     "collapsed": false,
     "input": [],
     "language": "python",
     "metadata": {},
     "outputs": []
    }
   ],
   "metadata": {}
  }
 ]
}